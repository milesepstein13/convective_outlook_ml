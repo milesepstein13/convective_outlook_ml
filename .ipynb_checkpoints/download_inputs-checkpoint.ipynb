{
 "cells": [
  {
   "cell_type": "markdown",
   "id": "0cea6da4-bcd8-4452-9be8-3b5ff7d02f2f",
   "metadata": {},
   "source": [
    "This notebook will prepare the input datasets (by loading from era5) and save them to /work/milesep/convective_outlook_ml (2TB limit)\n",
    "This should work without ever loading the data into memory"
   ]
  },
  {
   "cell_type": "code",
   "execution_count": 1,
   "id": "b4042e5e",
   "metadata": {},
   "outputs": [],
   "source": [
    "import numpy as np\n",
    "import xarray as xr\n",
    "import pandas as pd"
   ]
  },
  {
   "cell_type": "code",
   "execution_count": 2,
   "id": "dba40831-d19a-4580-b653-7a34285af063",
   "metadata": {},
   "outputs": [],
   "source": [
    "# specifying sizes and thinnings\n",
    "\n",
    "lat_dict = {\n",
    "    'full': slice(50, 25),\n",
    "    'small': slice(45, 30)\n",
    "}\n",
    "\n",
    "lon_dict = {\n",
    "    'full': slice(360-125, 360-66),\n",
    "    'small': slice(360-105, 360-85)\n",
    "}\n",
    "\n",
    "levels_dict = {\n",
    "    'full': [925, 850, 700, 500, 300],\n",
    "    'small': [925, 850, 700, 500, 300]\n",
    "}\n",
    "\n",
    "time_thin_dict = {\n",
    "    'full': 1,\n",
    "    'small': 6\n",
    "}\n",
    "\n",
    "space_thin_dict = {\n",
    "    'full': 1,\n",
    "    'small': 4\n",
    "}\n",
    "\n",
    "risk_level_dict = {\n",
    "    'full': ['MDT', 'HIGH'],\n",
    "    'small': ['MDT', 'HIGH']\n",
    "}\n",
    "\n",
    "pressure_var_dict = {\n",
    "    'full': [\"geopotential\", \"potential_vorticity\", \"specific_humidity\", \"temperature\", \"u_component_of_wind\", \"v_component_of_wind\", \"vertical_velocity\"],\n",
    "    'small': [\"geopotential\", \"potential_vorticity\", \"specific_humidity\", \"temperature\", \"u_component_of_wind\", \"v_component_of_wind\", \"vertical_velocity\"]\n",
    "}\n",
    "\n",
    "surface_var_dict = {\n",
    "    'full': [\"10m_u_component_of_wind\", \"10m_v_component_of_wind\", \"2m_dewpoint_temperature\", \"2m_temperature\", \"geopotential_at_surface\", \"toa_incident_solar_radiation\"],\n",
    "    'small': [\"10m_u_component_of_wind\", \"10m_v_component_of_wind\", \"2m_dewpoint_temperature\", \"2m_temperature\", \"geopotential_at_surface\", \"toa_incident_solar_radiation\"]\n",
    "}"
   ]
  },
  {
   "cell_type": "code",
   "execution_count": 3,
   "id": "33f787e0-a3aa-49bf-86d3-3f021e60b425",
   "metadata": {},
   "outputs": [],
   "source": [
    "detail = 'small'"
   ]
  },
  {
   "cell_type": "code",
   "execution_count": 4,
   "id": "20a4f9e5-ab22-4ba4-966d-0713c8ce5e57",
   "metadata": {},
   "outputs": [],
   "source": [
    "full_ds = xr.open_zarr(\n",
    "    'gs://gcp-public-data-arco-era5/ar/full_37-1h-0p25deg-chunk-1.zarr-v3',\n",
    "    chunks=None,\n",
    "    storage_options=dict(token='anon'),\n",
    ")"
   ]
  },
  {
   "cell_type": "markdown",
   "id": "e9a8f839",
   "metadata": {},
   "source": [
    "Select lat/lon domain"
   ]
  },
  {
   "cell_type": "code",
   "execution_count": 5,
   "id": "c73f223b",
   "metadata": {},
   "outputs": [],
   "source": [
    "# select just US\n",
    "ds = full_ds.sel(latitude = lat_dict[detail], longitude = lon_dict[detail])"
   ]
  },
  {
   "cell_type": "code",
   "execution_count": 6,
   "id": "0f7b8591-dcc9-4daf-8623-6d13593a7861",
   "metadata": {},
   "outputs": [],
   "source": [
    "ds = ds.chunk({'time': 24})"
   ]
  },
  {
   "cell_type": "markdown",
   "id": "22942c3e",
   "metadata": {},
   "source": [
    "Select just MDT+ (or SLGT+ days)"
   ]
  },
  {
   "cell_type": "code",
   "execution_count": 7,
   "id": "a37e7800-9950-4f54-b312-9f0005751f8b",
   "metadata": {
    "scrolled": true
   },
   "outputs": [],
   "source": [
    "# split time into date and TOD\n",
    "ds = ds.assign_coords(\n",
    "    day=ds.time.dt.floor('D'),\n",
    "    tod=ds.time.dt.hour\n",
    ")\n",
    "ds = ds.set_index(time=['day', 'tod']).unstack('time')"
   ]
  },
  {
   "cell_type": "code",
   "execution_count": 8,
   "id": "0ff99cb1",
   "metadata": {},
   "outputs": [],
   "source": [
    "pph = xr.load_dataset('data/raw_data/labelled_pph.nc')"
   ]
  },
  {
   "cell_type": "code",
   "execution_count": 9,
   "id": "eda869c3",
   "metadata": {},
   "outputs": [],
   "source": [
    "missing_dates = ['200204250000', '200208300000', '200304150000', '200304160000', '200306250000', '200307270000', '200307280000', '200312280000', '200404140000', '200408090000', '200905280000', '201105210000', '202005240000', '200510240000']\n",
    "dates_of_interest = pph['time'][pph['MAX_CAT'].isin(risk_level_dict[detail])]\n",
    "dates_of_interest = dates_of_interest[dates_of_interest > '200203310000']\n",
    "dates_of_interest = dates_of_interest[~(dates_of_interest.isin(missing_dates))]"
   ]
  },
  {
   "cell_type": "code",
   "execution_count": 10,
   "id": "69e66864",
   "metadata": {},
   "outputs": [],
   "source": [
    "# select dates in ds_subset\n",
    "dates = pd.to_datetime(dates_of_interest.str.slice(0, 8).values, format='%Y%m%d')\n",
    "\n",
    "ds = ds.sel(day=dates)"
   ]
  },
  {
   "cell_type": "code",
   "execution_count": 11,
   "id": "7bbaeee7-2b17-43f0-a087-343e4d29cddc",
   "metadata": {},
   "outputs": [],
   "source": [
    "ds = ds.thin({'latitude': space_thin_dict[detail], 'longitude': space_thin_dict[detail], 'tod': time_thin_dict[detail]})"
   ]
  },
  {
   "cell_type": "markdown",
   "id": "14d12ab8",
   "metadata": {},
   "source": [
    "Select just desired variables"
   ]
  },
  {
   "cell_type": "code",
   "execution_count": 12,
   "id": "823d5985",
   "metadata": {},
   "outputs": [],
   "source": [
    "# Subset each desired pressure-level variable at desired levels\n",
    "ds_pl = xr.Dataset()\n",
    "for var in pressure_var_dict[detail]:\n",
    "    if var in ds:\n",
    "        ds_pl[var] = ds[var].sel(level=levels_dict[detail])\n",
    "\n",
    "ds_sfc = ds[surface_var_dict[detail]]\n",
    "\n",
    "ds_final = xr.merge([ds_pl, ds_sfc])"
   ]
  },
  {
   "cell_type": "markdown",
   "id": "da416b64-f41c-4998-99b1-5ad15e720830",
   "metadata": {},
   "source": [
    "Save inputs"
   ]
  },
  {
   "cell_type": "code",
   "execution_count": 13,
   "id": "f0e2700f",
   "metadata": {},
   "outputs": [],
   "source": [
    "if detail == 'small':\n",
    "    ds_final = ds_final.chunk({dim: -1 for dim in ds.dims})  # one chunk per dim\n",
    "else:\n",
    "    ds_final = ds_final.chunk('auto')"
   ]
  },
  {
   "cell_type": "code",
   "execution_count": 14,
   "id": "72010394-33f6-437a-8420-162e3ceeae27",
   "metadata": {},
   "outputs": [
    {
     "data": {
      "text/plain": [
       "<xarray.backends.zarr.ZarrStore at 0x1489d5c6b4c0>"
      ]
     },
     "execution_count": 14,
     "metadata": {},
     "output_type": "execute_result"
    }
   ],
   "source": [
    "ds_final.to_zarr(\"/glade/work/milesep/convective_outlook_ml/inputs_raw_\" + detail + \".zarr\", mode=\"w\", consolidated=True)"
   ]
  },
  {
   "cell_type": "markdown",
   "id": "4ced97fd",
   "metadata": {},
   "source": [
    "To estimate size"
   ]
  },
  {
   "cell_type": "code",
   "execution_count": 15,
   "id": "13224049",
   "metadata": {},
   "outputs": [
    {
     "name": "stdout",
     "output_type": "stream",
     "text": [
      "Estimated uncompressed size: 0.08 GB\n"
     ]
    }
   ],
   "source": [
    "def estimate_dataset_size_bytes(ds):\n",
    "    total_bytes = 0\n",
    "    for var in ds.data_vars.values():\n",
    "        if var.chunks is not None:\n",
    "            total_bytes += var.nbytes  # Dask knows how to compute this safely\n",
    "        else:\n",
    "            # Use 64-bit integers to avoid overflow\n",
    "            n_elements = np.prod(var.shape, dtype=np.int64)\n",
    "            dtype_size = np.dtype(var.dtype).itemsize\n",
    "            total_bytes += int(n_elements * dtype_size)\n",
    "    return total_bytes\n",
    "\n",
    "\n",
    "size_bytes = estimate_dataset_size_bytes(ds_final)\n",
    "print(f\"Estimated uncompressed size: {size_bytes / 1e9:.2f} GB\")"
   ]
  }
 ],
 "metadata": {
  "kernelspec": {
   "display_name": "Python [conda env:mlco]",
   "language": "python",
   "name": "conda-env-mlco-py"
  },
  "language_info": {
   "codemirror_mode": {
    "name": "ipython",
    "version": 3
   },
   "file_extension": ".py",
   "mimetype": "text/x-python",
   "name": "python",
   "nbconvert_exporter": "python",
   "pygments_lexer": "ipython3",
   "version": "3.11.9"
  }
 },
 "nbformat": 4,
 "nbformat_minor": 5
}
