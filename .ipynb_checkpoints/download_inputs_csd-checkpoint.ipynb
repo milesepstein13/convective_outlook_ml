{
 "cells": [
  {
   "cell_type": "code",
   "execution_count": 1,
   "id": "b709d967-5980-4be3-84cc-e41da8f26966",
   "metadata": {},
   "outputs": [],
   "source": [
    "import cdsapi\n",
    "import xarray as xr\n",
    "import pandas as pd\n",
    "import numpy as np\n",
    "from pathlib import Path\n",
    "import time"
   ]
  },
  {
   "cell_type": "code",
   "execution_count": 2,
   "id": "e3fdd94d-9145-43eb-96ec-00ed5ad818d0",
   "metadata": {},
   "outputs": [],
   "source": [
    "c = cdsapi.Client()"
   ]
  },
  {
   "cell_type": "code",
   "execution_count": 3,
   "id": "7c7a862c-cc6e-4d5b-8e37-c2c550afc391",
   "metadata": {},
   "outputs": [],
   "source": [
    "# specifying sizes and thinnings\n",
    "\n",
    "lat_dict = {\n",
    "    'full': slice(50, 25),\n",
    "    'small': slice(45, 30),\n",
    "    'slgt_small': slice(50, 25)\n",
    "}\n",
    "\n",
    "lon_dict = {\n",
    "    'full': slice(360-125, 360-66),\n",
    "    'small': slice(360-105, 360-85),\n",
    "    'slgt_small': slice(360-125, 360-66)\n",
    "}\n",
    "\n",
    "levels_dict = {\n",
    "    'full': [925, 850, 700, 500, 300],\n",
    "    'small': [925, 850, 700, 500, 300],\n",
    "    'slgt_small': [925, 850, 700, 500, 300]\n",
    "}\n",
    "\n",
    "time_thin_dict = {\n",
    "    'full': 1,\n",
    "    'small': 6,\n",
    "    'slgt_small': 6\n",
    "}\n",
    "\n",
    "space_thin_dict = {\n",
    "    'full': 1,\n",
    "    'small': 4,\n",
    "    'slgt_small': 4\n",
    "}\n",
    "\n",
    "risk_level_dict = {\n",
    "    'full': ['MDT', 'HIGH'],\n",
    "    'small': ['MDT', 'HIGH'],\n",
    "    'slgt_small': ['SLGT', 'ENH', 'MDT', 'HIGH']\n",
    "}\n",
    "\n",
    "pressure_var_dict = {\n",
    "    'full': [\"geopotential\", \"potential_vorticity\", \"specific_humidity\", \"temperature\", \"u_component_of_wind\", \"v_component_of_wind\", \"vertical_velocity\"],\n",
    "    'small': [\"geopotential\", \"potential_vorticity\", \"specific_humidity\", \"temperature\", \"u_component_of_wind\", \"v_component_of_wind\", \"vertical_velocity\"],\n",
    "    'slgt_small': [\"geopotential\", \"potential_vorticity\", \"specific_humidity\", \"temperature\", \"u_component_of_wind\", \"v_component_of_wind\", \"vertical_velocity\"]\n",
    "}\n",
    "\n",
    "surface_var_dict = {\n",
    "    'full': [\"10m_u_component_of_wind\", \"10m_v_component_of_wind\", \"2m_dewpoint_temperature\", \"2m_temperature\", \"geopotential_at_surface\", \"toa_incident_solar_radiation\"],\n",
    "    'small': [\"10m_u_component_of_wind\", \"10m_v_component_of_wind\", \"2m_dewpoint_temperature\", \"2m_temperature\", \"geopotential_at_surface\", \"toa_incident_solar_radiation\"],\n",
    "    'slgt_small': [\"10m_u_component_of_wind\", \"10m_v_component_of_wind\", \"2m_dewpoint_temperature\", \"2m_temperature\", \"geopotential_at_surface\", \"toa_incident_solar_radiation\"]\n",
    "}"
   ]
  },
  {
   "cell_type": "code",
   "execution_count": 4,
   "id": "ce4797a6-ce9f-4ee9-ad44-f29bf228aa18",
   "metadata": {},
   "outputs": [],
   "source": [
    "detail = 'slgt_small'"
   ]
  },
  {
   "cell_type": "code",
   "execution_count": 5,
   "id": "b4a777ce-bea0-4547-a2c5-c54a942ed9aa",
   "metadata": {},
   "outputs": [],
   "source": [
    "# --- risk days\n",
    "pph = xr.load_dataset(\"data/raw_data/labelled_pph.nc\")\n",
    "missing_dates = [...]\n",
    "dates_of_interest = pph[\"time\"][pph[\"MAX_CAT\"].isin(risk_level_dict[detail])]\n",
    "dates_of_interest = dates_of_interest[dates_of_interest > \"200203310000\"]\n",
    "dates_of_interest = dates_of_interest[~(dates_of_interest.isin(missing_dates))]\n",
    "selected_days = pd.to_datetime(dates_of_interest.values, format=\"%Y%m%d%H%M\").normalize()\n",
    "\n",
    "years = np.unique(selected_days.year)"
   ]
  },
  {
   "cell_type": "code",
   "execution_count": 6,
   "id": "5a98ac5f-8ec1-49af-be27-4ad6c3113990",
   "metadata": {},
   "outputs": [],
   "source": [
    "out_dir = Path(\"/glade/work/milesep/era5_cds\")\n",
    "out_dir.mkdir(parents=True, exist_ok=True)\n",
    "\n",
    "all_files = []\n",
    "\n",
    "# --- derive requested hours directly from thin factor\n",
    "hours = [f\"{h:02d}:00\" for h in range(0, 24, time_thin_dict[detail])]"
   ]
  },
  {
   "cell_type": "code",
   "execution_count": 7,
   "id": "2b0ae368-c7b2-491d-81f4-c12843f876bb",
   "metadata": {},
   "outputs": [],
   "source": [
    "def safe_retrieve(dataset, request, target, max_retries=5, wait=30):\n",
    "    \"\"\"\n",
    "    Robust CDSAPI download:\n",
    "    - Writes to .part file first\n",
    "    - Retries with exponential backoff if download fails\n",
    "    \"\"\"\n",
    "    tmp_target = target.with_suffix(\".nc.part\")\n",
    "\n",
    "    for attempt in range(1, max_retries + 1):\n",
    "        try:\n",
    "            c.retrieve(dataset, request, str(tmp_target))\n",
    "            tmp_target.rename(target)  # rename only after success\n",
    "            print(f\"✅ Downloaded: {target}\")\n",
    "            return target\n",
    "        except Exception as e:\n",
    "            print(f\"⚠️ Attempt {attempt} failed for {target}: {e}\")\n",
    "            if tmp_target.exists():\n",
    "                tmp_target.unlink()  # clean up bad partials\n",
    "            if attempt < max_retries:\n",
    "                sleep_time = wait * attempt\n",
    "                print(f\"Retrying in {sleep_time}s...\")\n",
    "                time.sleep(sleep_time)\n",
    "            else:\n",
    "                raise RuntimeError(f\"Failed to download {target} after {max_retries} attempts.\")"
   ]
  },
  {
   "cell_type": "code",
   "execution_count": null,
   "id": "0ac0c9b7-0398-49ff-85d2-85e89dfd76c2",
   "metadata": {},
   "outputs": [
    {
     "name": "stdout",
     "output_type": "stream",
     "text": [
      "2002 4 24\n",
      "Skipping (exists): /glade/work/milesep/era5_cds/era5_pl_2002_04.nc\n",
      "Corrupt file detected, redownloading: /glade/work/milesep/era5_cds/era5_sfc_2002_04.nc\n"
     ]
    },
    {
     "name": "stderr",
     "output_type": "stream",
     "text": [
      "2025-08-16 23:47:49,569 WARNING [2025-08-17T05:47:49.495920] You are using a deprecated API endpoint. If you are using cdsapi, please upgrade to the latest version.\n",
      "2025-08-16 23:47:49,570 INFO Request ID is 669fb571-c7ce-426c-aed1-392069bea773\n",
      "2025-08-16 23:47:49,741 INFO status has been updated to accepted\n",
      "2025-08-16 23:50:41,848 INFO status has been updated to successful\n"
     ]
    },
    {
     "data": {
      "application/vnd.jupyter.widget-view+json": {
       "model_id": "",
       "version_major": 2,
       "version_minor": 0
      },
      "text/plain": [
       "56006aa4c03175722c7aeac41708f861.zip:   0%|          | 0.00/18.4M [00:00<?, ?B/s]"
      ]
     },
     "metadata": {},
     "output_type": "display_data"
    },
    {
     "name": "stdout",
     "output_type": "stream",
     "text": [
      "✅ Downloaded: /glade/work/milesep/era5_cds/era5_sfc_2002_04.nc\n",
      "2002 5 28\n",
      "Skipping (exists): /glade/work/milesep/era5_cds/era5_pl_2002_05.nc\n",
      "Corrupt file detected, redownloading: /glade/work/milesep/era5_cds/era5_sfc_2002_05.nc\n"
     ]
    },
    {
     "name": "stderr",
     "output_type": "stream",
     "text": [
      "2025-08-16 23:50:58,497 WARNING [2025-08-17T05:50:58.422931] You are using a deprecated API endpoint. If you are using cdsapi, please upgrade to the latest version.\n",
      "2025-08-16 23:50:58,497 INFO Request ID is b474af47-c880-4e16-a8f8-bda3d428e110\n",
      "2025-08-16 23:50:58,667 INFO status has been updated to accepted\n",
      "2025-08-16 23:51:06,331 INFO status has been updated to successful\n"
     ]
    },
    {
     "data": {
      "application/vnd.jupyter.widget-view+json": {
       "model_id": "",
       "version_major": 2,
       "version_minor": 0
      },
      "text/plain": [
       "7c4c70e0db7c0c42e11a0aeee8ed9563.zip:   0%|          | 0.00/21.6M [00:00<?, ?B/s]"
      ]
     },
     "metadata": {},
     "output_type": "display_data"
    },
    {
     "name": "stdout",
     "output_type": "stream",
     "text": [
      "✅ Downloaded: /glade/work/milesep/era5_cds/era5_sfc_2002_05.nc\n",
      "2002 6 30\n"
     ]
    },
    {
     "name": "stderr",
     "output_type": "stream",
     "text": [
      "2025-08-16 23:51:12,913 WARNING [2025-08-17T05:51:12.837776] You are using a deprecated API endpoint. If you are using cdsapi, please upgrade to the latest version.\n",
      "2025-08-16 23:51:12,914 INFO Request ID is acc1b3d3-ae70-4572-b6a4-84989d79f9dc\n",
      "2025-08-16 23:51:13,075 INFO status has been updated to accepted\n",
      "2025-08-16 23:51:25,960 INFO status has been updated to successful\n"
     ]
    },
    {
     "data": {
      "application/vnd.jupyter.widget-view+json": {
       "model_id": "",
       "version_major": 2,
       "version_minor": 0
      },
      "text/plain": [
       "f809bf93511c4a605f0e8df36d5c896.nc:   0%|          | 0.00/203M [00:00<?, ?B/s]"
      ]
     },
     "metadata": {},
     "output_type": "display_data"
    },
    {
     "name": "stdout",
     "output_type": "stream",
     "text": [
      "✅ Downloaded: /glade/work/milesep/era5_cds/era5_pl_2002_06.nc\n"
     ]
    },
    {
     "name": "stderr",
     "output_type": "stream",
     "text": [
      "2025-08-16 23:54:59,588 WARNING [2025-08-17T05:54:59.515201] You are using a deprecated API endpoint. If you are using cdsapi, please upgrade to the latest version.\n",
      "2025-08-16 23:54:59,589 INFO Request ID is 7850e4c6-5df2-48ee-a0b5-5c5a4e136344\n",
      "2025-08-16 23:54:59,760 INFO status has been updated to accepted\n",
      "2025-08-16 23:55:12,873 INFO status has been updated to running\n",
      "2025-08-16 23:55:49,443 INFO status has been updated to successful\n"
     ]
    },
    {
     "data": {
      "application/vnd.jupyter.widget-view+json": {
       "model_id": "",
       "version_major": 2,
       "version_minor": 0
      },
      "text/plain": [
       "97c803ea441139c0da88d076e1bd654.zip:   0%|          | 0.00/23.1M [00:00<?, ?B/s]"
      ]
     },
     "metadata": {},
     "output_type": "display_data"
    },
    {
     "name": "stdout",
     "output_type": "stream",
     "text": [
      "✅ Downloaded: /glade/work/milesep/era5_cds/era5_sfc_2002_06.nc\n",
      "2002 7 30\n"
     ]
    },
    {
     "name": "stderr",
     "output_type": "stream",
     "text": [
      "2025-08-16 23:55:57,095 WARNING [2025-08-17T05:55:57.025653] You are using a deprecated API endpoint. If you are using cdsapi, please upgrade to the latest version.\n",
      "2025-08-16 23:55:57,096 INFO Request ID is f286dcba-1df3-44c6-bab1-844795d3436f\n",
      "2025-08-16 23:55:57,250 INFO status has been updated to accepted\n",
      "2025-08-16 23:56:04,893 INFO status has been updated to running\n",
      "2025-08-17 00:00:16,350 INFO status has been updated to successful\n"
     ]
    },
    {
     "data": {
      "application/vnd.jupyter.widget-view+json": {
       "model_id": "",
       "version_major": 2,
       "version_minor": 0
      },
      "text/plain": [
       "268b1109d9d51aa84452780643600b88.nc:   0%|          | 0.00/199M [00:00<?, ?B/s]"
      ]
     },
     "metadata": {},
     "output_type": "display_data"
    },
    {
     "name": "stdout",
     "output_type": "stream",
     "text": [
      "✅ Downloaded: /glade/work/milesep/era5_cds/era5_pl_2002_07.nc\n"
     ]
    },
    {
     "name": "stderr",
     "output_type": "stream",
     "text": [
      "2025-08-17 00:02:57,383 WARNING [2025-08-17T06:02:57.311572] You are using a deprecated API endpoint. If you are using cdsapi, please upgrade to the latest version.\n",
      "2025-08-17 00:02:57,383 INFO Request ID is f1e9d259-6d32-407e-9f99-7fde0998ff11\n",
      "2025-08-17 00:02:57,578 INFO status has been updated to accepted\n",
      "2025-08-17 00:03:05,374 INFO status has been updated to running\n",
      "2025-08-17 00:03:47,268 INFO status has been updated to successful\n"
     ]
    },
    {
     "data": {
      "application/vnd.jupyter.widget-view+json": {
       "model_id": "",
       "version_major": 2,
       "version_minor": 0
      },
      "text/plain": [
       "2ebb50d801c55b78d740a2ac578cf7b2.zip:   0%|          | 0.00/23.0M [00:00<?, ?B/s]"
      ]
     },
     "metadata": {},
     "output_type": "display_data"
    },
    {
     "name": "stderr",
     "output_type": "stream",
     "text": [
      "2025-08-17 00:03:51,062 WARNING [2025-08-17T06:03:50.991559] You are using a deprecated API endpoint. If you are using cdsapi, please upgrade to the latest version.\n",
      "2025-08-17 00:03:51,063 INFO Request ID is 939e5d61-4226-4363-9835-e17d5361c940\n"
     ]
    },
    {
     "name": "stdout",
     "output_type": "stream",
     "text": [
      "✅ Downloaded: /glade/work/milesep/era5_cds/era5_sfc_2002_07.nc\n",
      "2002 8 31\n"
     ]
    },
    {
     "name": "stderr",
     "output_type": "stream",
     "text": [
      "2025-08-17 00:03:51,214 INFO status has been updated to accepted\n",
      "2025-08-17 00:03:58,817 INFO status has been updated to running\n",
      "2025-08-17 00:14:11,924 INFO status has been updated to successful\n"
     ]
    },
    {
     "data": {
      "application/vnd.jupyter.widget-view+json": {
       "model_id": "",
       "version_major": 2,
       "version_minor": 0
      },
      "text/plain": [
       "f3880e2e5393a77d204d1e273ea0ea8.nc:   0%|          | 0.00/210M [00:00<?, ?B/s]"
      ]
     },
     "metadata": {},
     "output_type": "display_data"
    },
    {
     "name": "stdout",
     "output_type": "stream",
     "text": [
      "✅ Downloaded: /glade/work/milesep/era5_cds/era5_pl_2002_08.nc\n"
     ]
    },
    {
     "name": "stderr",
     "output_type": "stream",
     "text": [
      "2025-08-17 00:14:37,847 WARNING [2025-08-17T06:14:37.775740] You are using a deprecated API endpoint. If you are using cdsapi, please upgrade to the latest version.\n",
      "2025-08-17 00:14:37,848 INFO Request ID is c696a01e-176a-47e1-8f45-bfbda6831e2a\n",
      "2025-08-17 00:14:38,099 INFO status has been updated to accepted\n",
      "2025-08-17 00:14:45,811 INFO status has been updated to running\n",
      "2025-08-17 00:15:53,420 INFO status has been updated to successful\n"
     ]
    },
    {
     "data": {
      "application/vnd.jupyter.widget-view+json": {
       "model_id": "",
       "version_major": 2,
       "version_minor": 0
      },
      "text/plain": [
       "5c8fae216a74e412b64685b627c9f2b.zip:   0%|          | 0.00/23.7M [00:00<?, ?B/s]"
      ]
     },
     "metadata": {},
     "output_type": "display_data"
    },
    {
     "name": "stdout",
     "output_type": "stream",
     "text": [
      "✅ Downloaded: /glade/work/milesep/era5_cds/era5_sfc_2002_08.nc\n",
      "2002 9 19\n"
     ]
    },
    {
     "name": "stderr",
     "output_type": "stream",
     "text": [
      "2025-08-17 00:15:58,263 WARNING [2025-08-17T06:15:58.190720] You are using a deprecated API endpoint. If you are using cdsapi, please upgrade to the latest version.\n",
      "2025-08-17 00:15:58,263 INFO Request ID is 2dcb0344-4872-4f32-bdd6-1e5efd6e028f\n",
      "2025-08-17 00:15:58,440 INFO status has been updated to accepted\n",
      "2025-08-17 00:16:06,491 INFO status has been updated to running\n",
      "2025-08-17 00:18:51,398 INFO status has been updated to successful\n"
     ]
    },
    {
     "data": {
      "application/vnd.jupyter.widget-view+json": {
       "model_id": "",
       "version_major": 2,
       "version_minor": 0
      },
      "text/plain": [
       "90273dcb9e64f22068448d29dbb981d4.nc:   0%|          | 0.00/127M [00:00<?, ?B/s]"
      ]
     },
     "metadata": {},
     "output_type": "display_data"
    },
    {
     "name": "stdout",
     "output_type": "stream",
     "text": [
      "✅ Downloaded: /glade/work/milesep/era5_cds/era5_pl_2002_09.nc\n"
     ]
    },
    {
     "name": "stderr",
     "output_type": "stream",
     "text": [
      "2025-08-17 00:19:10,129 WARNING [2025-08-17T06:19:10.056778] You are using a deprecated API endpoint. If you are using cdsapi, please upgrade to the latest version.\n",
      "2025-08-17 00:19:10,130 INFO Request ID is f859b9c0-8e93-4679-a6c1-b1f7b23309c9\n",
      "2025-08-17 00:19:10,301 INFO status has been updated to accepted\n",
      "2025-08-17 00:19:17,968 INFO status has been updated to running\n",
      "2025-08-17 00:19:42,606 INFO status has been updated to successful\n"
     ]
    },
    {
     "data": {
      "application/vnd.jupyter.widget-view+json": {
       "model_id": "",
       "version_major": 2,
       "version_minor": 0
      },
      "text/plain": [
       "a48f76dbc711d7866c751abc69e1ff4e.zip:   0%|          | 0.00/14.5M [00:00<?, ?B/s]"
      ]
     },
     "metadata": {},
     "output_type": "display_data"
    },
    {
     "name": "stdout",
     "output_type": "stream",
     "text": [
      "✅ Downloaded: /glade/work/milesep/era5_cds/era5_sfc_2002_09.nc\n",
      "2002 10 18\n"
     ]
    },
    {
     "name": "stderr",
     "output_type": "stream",
     "text": [
      "2025-08-17 00:19:47,097 WARNING [2025-08-17T06:19:47.025330] You are using a deprecated API endpoint. If you are using cdsapi, please upgrade to the latest version.\n",
      "2025-08-17 00:19:47,098 INFO Request ID is 1a859cc0-c4a6-4ded-997b-103d4655a8b5\n",
      "2025-08-17 00:19:47,257 INFO status has been updated to accepted\n",
      "2025-08-17 00:19:54,856 INFO status has been updated to running\n",
      "2025-08-17 00:22:39,584 INFO status has been updated to successful\n"
     ]
    },
    {
     "data": {
      "application/vnd.jupyter.widget-view+json": {
       "model_id": "",
       "version_major": 2,
       "version_minor": 0
      },
      "text/plain": [
       "7ac3a5560f040385dce9c7b2f30eb811.nc:   0%|          | 0.00/116M [00:00<?, ?B/s]"
      ]
     },
     "metadata": {},
     "output_type": "display_data"
    },
    {
     "name": "stdout",
     "output_type": "stream",
     "text": [
      "✅ Downloaded: /glade/work/milesep/era5_cds/era5_pl_2002_10.nc\n"
     ]
    },
    {
     "name": "stderr",
     "output_type": "stream",
     "text": [
      "2025-08-17 00:22:55,682 WARNING [2025-08-17T06:22:55.607922] You are using a deprecated API endpoint. If you are using cdsapi, please upgrade to the latest version.\n",
      "2025-08-17 00:22:55,683 INFO Request ID is 28715532-24bc-4bb8-aa93-5f601b785bd0\n",
      "2025-08-17 00:22:55,850 INFO status has been updated to accepted\n",
      "2025-08-17 00:23:03,490 INFO status has been updated to running\n",
      "2025-08-17 00:23:28,031 INFO status has been updated to successful\n"
     ]
    },
    {
     "data": {
      "application/vnd.jupyter.widget-view+json": {
       "model_id": "",
       "version_major": 2,
       "version_minor": 0
      },
      "text/plain": [
       "ed13dc2ba1e31cbe8fb222b93bef0e48.zip:   0%|          | 0.00/13.6M [00:00<?, ?B/s]"
      ]
     },
     "metadata": {},
     "output_type": "display_data"
    },
    {
     "name": "stdout",
     "output_type": "stream",
     "text": [
      "✅ Downloaded: /glade/work/milesep/era5_cds/era5_sfc_2002_10.nc\n",
      "2002 11 9\n"
     ]
    },
    {
     "name": "stderr",
     "output_type": "stream",
     "text": [
      "2025-08-17 00:23:32,994 WARNING [2025-08-17T06:23:32.919838] You are using a deprecated API endpoint. If you are using cdsapi, please upgrade to the latest version.\n",
      "2025-08-17 00:23:32,995 INFO Request ID is 371002f8-f517-4657-b20a-6fa0bb60f7b9\n",
      "2025-08-17 00:23:33,147 INFO status has been updated to accepted\n",
      "2025-08-17 00:23:40,900 INFO status has been updated to running\n",
      "2025-08-17 00:25:27,110 INFO status has been updated to successful\n"
     ]
    },
    {
     "data": {
      "application/vnd.jupyter.widget-view+json": {
       "model_id": "",
       "version_major": 2,
       "version_minor": 0
      },
      "text/plain": [
       "115d3a4b7a46223abb5b9675ee2c0779.nc:   0%|          | 0.00/56.2M [00:00<?, ?B/s]"
      ]
     },
     "metadata": {},
     "output_type": "display_data"
    },
    {
     "name": "stdout",
     "output_type": "stream",
     "text": [
      "✅ Downloaded: /glade/work/milesep/era5_cds/era5_pl_2002_11.nc\n"
     ]
    },
    {
     "name": "stderr",
     "output_type": "stream",
     "text": [
      "2025-08-17 00:25:34,978 WARNING [2025-08-17T06:25:34.902467] You are using a deprecated API endpoint. If you are using cdsapi, please upgrade to the latest version.\n",
      "2025-08-17 00:25:34,979 INFO Request ID is 4fe1245a-d1b3-4e7e-9ee4-401560706c72\n",
      "2025-08-17 00:25:35,147 INFO status has been updated to accepted\n",
      "2025-08-17 00:25:48,017 INFO status has been updated to running\n",
      "2025-08-17 00:25:55,764 INFO status has been updated to successful\n"
     ]
    },
    {
     "data": {
      "application/vnd.jupyter.widget-view+json": {
       "model_id": "",
       "version_major": 2,
       "version_minor": 0
      },
      "text/plain": [
       "a45460d00ed8f2dba578120c929f0136.zip:   0%|          | 0.00/6.80M [00:00<?, ?B/s]"
      ]
     },
     "metadata": {},
     "output_type": "display_data"
    },
    {
     "name": "stdout",
     "output_type": "stream",
     "text": [
      "✅ Downloaded: /glade/work/milesep/era5_cds/era5_sfc_2002_11.nc\n",
      "2002 12 16\n"
     ]
    },
    {
     "name": "stderr",
     "output_type": "stream",
     "text": [
      "2025-08-17 00:25:58,942 WARNING [2025-08-17T06:25:58.866673] You are using a deprecated API endpoint. If you are using cdsapi, please upgrade to the latest version.\n",
      "2025-08-17 00:25:58,943 INFO Request ID is c0bca60f-8e2a-4e9c-b132-7a194ddf7500\n",
      "2025-08-17 00:25:59,096 INFO status has been updated to accepted\n",
      "2025-08-17 00:26:06,704 INFO status has been updated to running\n",
      "2025-08-17 00:28:51,290 INFO status has been updated to successful\n"
     ]
    },
    {
     "data": {
      "application/vnd.jupyter.widget-view+json": {
       "model_id": "",
       "version_major": 2,
       "version_minor": 0
      },
      "text/plain": [
       "3350034c452dbc1adc1e1e1a73af13a5.nc:   0%|          | 0.00/108M [00:00<?, ?B/s]"
      ]
     },
     "metadata": {},
     "output_type": "display_data"
    },
    {
     "name": "stdout",
     "output_type": "stream",
     "text": [
      "✅ Downloaded: /glade/work/milesep/era5_cds/era5_pl_2002_12.nc\n"
     ]
    },
    {
     "name": "stderr",
     "output_type": "stream",
     "text": [
      "2025-08-17 00:29:01,753 WARNING [2025-08-17T06:29:01.679908] You are using a deprecated API endpoint. If you are using cdsapi, please upgrade to the latest version.\n",
      "2025-08-17 00:29:01,754 INFO Request ID is cd4492ca-0899-4d94-b72a-0fe91ec0f5e2\n",
      "2025-08-17 00:29:01,937 INFO status has been updated to accepted\n",
      "2025-08-17 00:29:10,004 INFO status has been updated to running\n",
      "2025-08-17 00:29:34,556 INFO status has been updated to successful\n"
     ]
    },
    {
     "name": "stdout",
     "output_type": "stream",
     "text": [
      "⚠️ Attempt 1 failed for /glade/work/milesep/era5_cds/era5_sfc_2002_12.nc: Result not ready, job is running\n",
      "Retrying in 30s...\n"
     ]
    },
    {
     "name": "stderr",
     "output_type": "stream",
     "text": [
      "2025-08-17 00:30:05,368 WARNING [2025-08-17T06:30:05.293649] You are using a deprecated API endpoint. If you are using cdsapi, please upgrade to the latest version.\n",
      "2025-08-17 00:30:05,368 INFO Request ID is c3da3e19-bda4-4ed8-9a1a-41289bd4c844\n",
      "2025-08-17 00:30:05,850 INFO status has been updated to accepted\n",
      "2025-08-17 00:30:13,471 INFO status has been updated to running\n",
      "2025-08-17 00:30:18,758 INFO status has been updated to accepted\n",
      "2025-08-17 00:30:38,075 INFO status has been updated to successful\n"
     ]
    },
    {
     "data": {
      "application/vnd.jupyter.widget-view+json": {
       "model_id": "490657b1fdae4f26ba56d6edb71f7534",
       "version_major": 2,
       "version_minor": 0
      },
      "text/plain": [
       "99a7d7d0beb7f4fb06cf90dd02488fd9.zip:   0%|          | 0.00/12.0M [00:00<?, ?B/s]"
      ]
     },
     "metadata": {},
     "output_type": "display_data"
    },
    {
     "name": "stdout",
     "output_type": "stream",
     "text": [
      "✅ Downloaded: /glade/work/milesep/era5_cds/era5_sfc_2002_12.nc\n",
      "2003 1 1\n"
     ]
    },
    {
     "name": "stderr",
     "output_type": "stream",
     "text": [
      "2025-08-17 00:30:51,823 WARNING [2025-08-17T06:30:51.747973] You are using a deprecated API endpoint. If you are using cdsapi, please upgrade to the latest version.\n",
      "2025-08-17 00:30:51,824 INFO Request ID is de7a2b28-39b4-4dfd-90d5-19cd32605e53\n",
      "2025-08-17 00:30:51,996 INFO status has been updated to accepted\n",
      "2025-08-17 00:30:59,659 INFO status has been updated to running\n",
      "2025-08-17 00:31:04,882 INFO status has been updated to accepted\n",
      "2025-08-17 00:31:12,654 INFO status has been updated to successful\n"
     ]
    },
    {
     "data": {
      "application/vnd.jupyter.widget-view+json": {
       "model_id": "e9b9e99bcb2b4961a736d059095dab84",
       "version_major": 2,
       "version_minor": 0
      },
      "text/plain": [
       "43f118164048b11d956773a93e9e8b55.nc:   0%|          | 0.00/6.25M [00:00<?, ?B/s]"
      ]
     },
     "metadata": {},
     "output_type": "display_data"
    },
    {
     "name": "stdout",
     "output_type": "stream",
     "text": [
      "✅ Downloaded: /glade/work/milesep/era5_cds/era5_pl_2003_01.nc\n"
     ]
    },
    {
     "name": "stderr",
     "output_type": "stream",
     "text": [
      "2025-08-17 00:31:15,842 WARNING [2025-08-17T06:31:15.755564] You are using a deprecated API endpoint. If you are using cdsapi, please upgrade to the latest version.\n",
      "2025-08-17 00:31:15,842 INFO Request ID is 5100ef67-b7dc-4758-93fa-b98d8acf7021\n",
      "2025-08-17 00:31:16,014 INFO status has been updated to accepted\n",
      "2025-08-17 00:31:23,639 INFO status has been updated to running\n",
      "2025-08-17 00:31:36,618 INFO status has been updated to successful\n"
     ]
    },
    {
     "data": {
      "application/vnd.jupyter.widget-view+json": {
       "model_id": "0ffb0e5f42ed4024b56b1511ad94c26c",
       "version_major": 2,
       "version_minor": 0
      },
      "text/plain": [
       "d47582cef396569ff077231bf0f28b96.zip:   0%|          | 0.00/857k [00:00<?, ?B/s]"
      ]
     },
     "metadata": {},
     "output_type": "display_data"
    },
    {
     "name": "stdout",
     "output_type": "stream",
     "text": [
      "✅ Downloaded: /glade/work/milesep/era5_cds/era5_sfc_2003_01.nc\n",
      "2003 2 11\n"
     ]
    },
    {
     "name": "stderr",
     "output_type": "stream",
     "text": [
      "2025-08-17 00:31:39,334 WARNING [2025-08-17T06:31:39.259759] You are using a deprecated API endpoint. If you are using cdsapi, please upgrade to the latest version.\n",
      "2025-08-17 00:31:39,335 INFO Request ID is e303391b-6b38-402b-86e8-ed70e4a83ed2\n",
      "2025-08-17 00:31:39,502 INFO status has been updated to accepted\n",
      "2025-08-17 00:31:47,349 INFO status has been updated to running\n",
      "2025-08-17 00:33:34,112 INFO status has been updated to successful\n"
     ]
    },
    {
     "data": {
      "application/vnd.jupyter.widget-view+json": {
       "model_id": "399979598ddd4986b591e2f1150e2177",
       "version_major": 2,
       "version_minor": 0
      },
      "text/plain": [
       "46fbec25047dc666545e2b7f6577bb5c.nc:   0%|          | 0.00/67.7M [00:00<?, ?B/s]"
      ]
     },
     "metadata": {},
     "output_type": "display_data"
    },
    {
     "name": "stdout",
     "output_type": "stream",
     "text": [
      "✅ Downloaded: /glade/work/milesep/era5_cds/era5_pl_2003_02.nc\n"
     ]
    },
    {
     "name": "stderr",
     "output_type": "stream",
     "text": [
      "2025-08-17 00:34:15,961 WARNING [2025-08-17T06:34:15.883981] You are using a deprecated API endpoint. If you are using cdsapi, please upgrade to the latest version.\n",
      "2025-08-17 00:34:15,961 INFO Request ID is 3552622e-7462-4f40-81b2-c596245e1930\n",
      "2025-08-17 00:34:16,147 INFO status has been updated to accepted\n",
      "2025-08-17 00:34:23,827 INFO status has been updated to running\n",
      "2025-08-17 00:34:36,818 INFO status has been updated to successful\n"
     ]
    },
    {
     "data": {
      "application/vnd.jupyter.widget-view+json": {
       "model_id": "524b40742cca4ca79c2364f10e71c3a0",
       "version_major": 2,
       "version_minor": 0
      },
      "text/plain": [
       "4074be52dc93a6bbe093cf35024c3cba.zip:   0%|          | 0.00/8.39M [00:00<?, ?B/s]"
      ]
     },
     "metadata": {},
     "output_type": "display_data"
    },
    {
     "name": "stdout",
     "output_type": "stream",
     "text": [
      "✅ Downloaded: /glade/work/milesep/era5_cds/era5_sfc_2003_02.nc\n",
      "2003 3 21\n"
     ]
    },
    {
     "name": "stderr",
     "output_type": "stream",
     "text": [
      "2025-08-17 00:34:39,897 WARNING [2025-08-17T06:34:39.822784] You are using a deprecated API endpoint. If you are using cdsapi, please upgrade to the latest version.\n",
      "2025-08-17 00:34:39,898 INFO Request ID is 77b43188-9fd4-4c50-a467-b261ec9dfbb6\n",
      "2025-08-17 00:34:40,090 INFO status has been updated to accepted\n",
      "2025-08-17 00:34:47,689 INFO status has been updated to running\n",
      "2025-08-17 00:37:32,042 INFO status has been updated to successful\n"
     ]
    },
    {
     "data": {
      "application/vnd.jupyter.widget-view+json": {
       "model_id": "9edd3b5c03ed41f79dc1f247b8b72f28",
       "version_major": 2,
       "version_minor": 0
      },
      "text/plain": [
       "c2e6d421ef8b97502bf7225db8139545.nc:   0%|          | 0.00/139M [00:00<?, ?B/s]"
      ]
     },
     "metadata": {},
     "output_type": "display_data"
    },
    {
     "name": "stdout",
     "output_type": "stream",
     "text": [
      "✅ Downloaded: /glade/work/milesep/era5_cds/era5_pl_2003_03.nc\n"
     ]
    },
    {
     "name": "stderr",
     "output_type": "stream",
     "text": [
      "2025-08-17 00:38:14,806 WARNING [2025-08-17T06:38:14.727826] You are using a deprecated API endpoint. If you are using cdsapi, please upgrade to the latest version.\n",
      "2025-08-17 00:38:14,807 INFO Request ID is 0715691f-6819-4020-8ea8-7ce175820c47\n",
      "2025-08-17 00:38:14,990 INFO status has been updated to accepted\n",
      "2025-08-17 00:38:22,665 INFO status has been updated to running\n",
      "2025-08-17 00:38:47,280 INFO status has been updated to successful\n"
     ]
    },
    {
     "data": {
      "application/vnd.jupyter.widget-view+json": {
       "model_id": "4baac18ea95d406db0d60b4cee917776",
       "version_major": 2,
       "version_minor": 0
      },
      "text/plain": [
       "46c720cbf717d781cf33e04f00b057dd.zip:   0%|          | 0.00/16.1M [00:00<?, ?B/s]"
      ]
     },
     "metadata": {},
     "output_type": "display_data"
    },
    {
     "name": "stdout",
     "output_type": "stream",
     "text": [
      "✅ Downloaded: /glade/work/milesep/era5_cds/era5_sfc_2003_03.nc\n",
      "2003 4 24\n"
     ]
    },
    {
     "name": "stderr",
     "output_type": "stream",
     "text": [
      "2025-08-17 00:38:51,131 WARNING [2025-08-17T06:38:51.056185] You are using a deprecated API endpoint. If you are using cdsapi, please upgrade to the latest version.\n",
      "2025-08-17 00:38:51,132 INFO Request ID is a02c5232-6f86-4360-83f4-c637ecfb68ea\n",
      "2025-08-17 00:38:51,308 INFO status has been updated to accepted\n",
      "2025-08-17 00:38:59,184 INFO status has been updated to running\n",
      "2025-08-17 00:39:04,424 INFO status has been updated to accepted\n",
      "2025-08-17 00:39:12,175 INFO status has been updated to running\n",
      "2025-08-17 00:43:10,815 INFO status has been updated to successful\n"
     ]
    },
    {
     "data": {
      "application/vnd.jupyter.widget-view+json": {
       "model_id": "e177e36d967a43eabcfd3e41d6dced13",
       "version_major": 2,
       "version_minor": 0
      },
      "text/plain": [
       "bea47d7db6f630147088a2cbad5a4156.nc:   0%|          | 0.00/161M [00:00<?, ?B/s]"
      ]
     },
     "metadata": {},
     "output_type": "display_data"
    },
    {
     "name": "stdout",
     "output_type": "stream",
     "text": [
      "✅ Downloaded: /glade/work/milesep/era5_cds/era5_pl_2003_04.nc\n"
     ]
    },
    {
     "name": "stderr",
     "output_type": "stream",
     "text": [
      "2025-08-17 00:43:44,270 WARNING [2025-08-17T06:43:44.197471] You are using a deprecated API endpoint. If you are using cdsapi, please upgrade to the latest version.\n",
      "2025-08-17 00:43:44,271 INFO Request ID is 24e169cb-f8b5-4971-a527-9f96a1f56e3c\n",
      "2025-08-17 00:43:44,430 INFO status has been updated to accepted\n",
      "2025-08-17 00:43:52,027 INFO status has been updated to running\n",
      "2025-08-17 00:44:16,622 INFO status has been updated to successful\n"
     ]
    },
    {
     "data": {
      "application/vnd.jupyter.widget-view+json": {
       "model_id": "c71ff98b913d4d4b960503f63d85e9f8",
       "version_major": 2,
       "version_minor": 0
      },
      "text/plain": [
       "fac7af6d1ec0154d1fcceac5dc60d5ce.zip:   0%|          | 0.00/18.5M [00:00<?, ?B/s]"
      ]
     },
     "metadata": {},
     "output_type": "display_data"
    },
    {
     "name": "stdout",
     "output_type": "stream",
     "text": [
      "✅ Downloaded: /glade/work/milesep/era5_cds/era5_sfc_2003_04.nc\n",
      "2003 5 30\n"
     ]
    },
    {
     "name": "stderr",
     "output_type": "stream",
     "text": [
      "2025-08-17 00:44:20,865 WARNING [2025-08-17T06:44:20.793676] You are using a deprecated API endpoint. If you are using cdsapi, please upgrade to the latest version.\n",
      "2025-08-17 00:44:20,866 INFO Request ID is 03930e5a-00e5-4b6e-bae7-6126e2c87b26\n",
      "2025-08-17 00:44:21,039 INFO status has been updated to accepted\n",
      "2025-08-17 00:44:28,721 INFO status has been updated to running\n",
      "2025-08-17 00:50:41,064 INFO status has been updated to successful\n"
     ]
    },
    {
     "data": {
      "application/vnd.jupyter.widget-view+json": {
       "model_id": "e19daa4196384a4f91fd99513557c913",
       "version_major": 2,
       "version_minor": 0
      },
      "text/plain": [
       "3df1f1120bb259c71f6885086b192c71.nc:   0%|          | 0.00/202M [00:00<?, ?B/s]"
      ]
     },
     "metadata": {},
     "output_type": "display_data"
    },
    {
     "name": "stdout",
     "output_type": "stream",
     "text": [
      "✅ Downloaded: /glade/work/milesep/era5_cds/era5_pl_2003_05.nc\n"
     ]
    },
    {
     "name": "stderr",
     "output_type": "stream",
     "text": [
      "2025-08-17 00:51:07,529 WARNING [2025-08-17T06:51:07.455900] You are using a deprecated API endpoint. If you are using cdsapi, please upgrade to the latest version.\n",
      "2025-08-17 00:51:07,530 INFO Request ID is 70aa72e4-6b85-4dcd-a458-e785026e76d9\n",
      "2025-08-17 00:51:07,699 INFO status has been updated to accepted\n",
      "2025-08-17 00:51:20,598 INFO status has been updated to running\n",
      "2025-08-17 00:52:22,983 INFO status has been updated to successful\n"
     ]
    },
    {
     "data": {
      "application/vnd.jupyter.widget-view+json": {
       "model_id": "d316f68464c24cd5bbc03c55c281f5bc",
       "version_major": 2,
       "version_minor": 0
      },
      "text/plain": [
       "baf70d8a726515cb07c786d9fd63b123.zip:   0%|          | 0.00/23.2M [00:00<?, ?B/s]"
      ]
     },
     "metadata": {},
     "output_type": "display_data"
    },
    {
     "name": "stdout",
     "output_type": "stream",
     "text": [
      "✅ Downloaded: /glade/work/milesep/era5_cds/era5_sfc_2003_05.nc\n",
      "2003 6 27\n"
     ]
    },
    {
     "name": "stderr",
     "output_type": "stream",
     "text": [
      "2025-08-17 00:52:26,948 WARNING [2025-08-17T06:52:26.877322] You are using a deprecated API endpoint. If you are using cdsapi, please upgrade to the latest version.\n",
      "2025-08-17 00:52:26,949 INFO Request ID is b97fbb8c-dba0-470c-8090-fd55068ce922\n",
      "2025-08-17 00:52:27,244 INFO status has been updated to accepted\n",
      "2025-08-17 00:52:47,814 INFO status has been updated to running\n",
      "2025-08-17 00:58:46,931 INFO status has been updated to successful\n"
     ]
    },
    {
     "data": {
      "application/vnd.jupyter.widget-view+json": {
       "model_id": "9a525dd0b7734d9b9712d636b3a45ead",
       "version_major": 2,
       "version_minor": 0
      },
      "text/plain": [
       "876626d015b3bad5bed4613bc3eb1e18.nc:   0%|          | 0.00/180M [00:00<?, ?B/s]"
      ]
     },
     "metadata": {},
     "output_type": "display_data"
    },
    {
     "name": "stdout",
     "output_type": "stream",
     "text": [
      "✅ Downloaded: /glade/work/milesep/era5_cds/era5_pl_2003_06.nc\n"
     ]
    },
    {
     "name": "stderr",
     "output_type": "stream",
     "text": [
      "2025-08-17 00:59:08,854 WARNING [2025-08-17T06:59:08.775223] You are using a deprecated API endpoint. If you are using cdsapi, please upgrade to the latest version.\n",
      "2025-08-17 00:59:08,855 INFO Request ID is 6fc6e15e-a8e9-4d8b-a6f3-cbbe86e2d8b5\n",
      "2025-08-17 00:59:09,018 INFO status has been updated to accepted\n",
      "2025-08-17 00:59:16,665 INFO status has been updated to running\n",
      "2025-08-17 00:59:58,568 INFO status has been updated to successful\n"
     ]
    },
    {
     "data": {
      "application/vnd.jupyter.widget-view+json": {
       "model_id": "a7c23d92f772416db0bf94c6ab84a9f2",
       "version_major": 2,
       "version_minor": 0
      },
      "text/plain": [
       "ff9628998535d4dced52239d036b2b8e.zip:   0%|          | 0.00/20.8M [00:00<?, ?B/s]"
      ]
     },
     "metadata": {},
     "output_type": "display_data"
    },
    {
     "name": "stdout",
     "output_type": "stream",
     "text": [
      "✅ Downloaded: /glade/work/milesep/era5_cds/era5_sfc_2003_06.nc\n",
      "2003 7 31\n"
     ]
    },
    {
     "name": "stderr",
     "output_type": "stream",
     "text": [
      "2025-08-17 01:00:02,537 WARNING [2025-08-17T07:00:02.461821] You are using a deprecated API endpoint. If you are using cdsapi, please upgrade to the latest version.\n",
      "2025-08-17 01:00:02,538 INFO Request ID is 527328a7-8a86-4d66-96b6-fb00146e12c8\n",
      "2025-08-17 01:00:02,714 INFO status has been updated to accepted\n",
      "2025-08-17 01:00:15,809 INFO status has been updated to running\n",
      "2025-08-17 01:04:21,955 INFO status has been updated to successful\n"
     ]
    },
    {
     "data": {
      "application/vnd.jupyter.widget-view+json": {
       "model_id": "e0e32af0b9614e838e43a1502ee4c351",
       "version_major": 2,
       "version_minor": 0
      },
      "text/plain": [
       "5dfc0e2c752a33c281cb6fa25e11fe9b.nc:   0%|          | 0.00/205M [00:00<?, ?B/s]"
      ]
     },
     "metadata": {},
     "output_type": "display_data"
    },
    {
     "name": "stdout",
     "output_type": "stream",
     "text": [
      "✅ Downloaded: /glade/work/milesep/era5_cds/era5_pl_2003_07.nc\n"
     ]
    },
    {
     "name": "stderr",
     "output_type": "stream",
     "text": [
      "2025-08-17 01:04:56,363 WARNING [2025-08-17T07:04:56.293163] You are using a deprecated API endpoint. If you are using cdsapi, please upgrade to the latest version.\n",
      "2025-08-17 01:04:56,364 INFO Request ID is 2f4947e5-0867-4b21-9bf9-0aac67cb93e0\n",
      "2025-08-17 01:04:56,661 INFO status has been updated to accepted\n",
      "2025-08-17 01:05:04,322 INFO status has been updated to running\n",
      "2025-08-17 01:05:46,243 INFO status has been updated to successful\n"
     ]
    },
    {
     "data": {
      "application/vnd.jupyter.widget-view+json": {
       "model_id": "8407ff7d63e543dca004a51120e7d570",
       "version_major": 2,
       "version_minor": 0
      },
      "text/plain": [
       "28b26199df546b9dc2e0dd5739ef5f5c.zip:   0%|          | 0.00/23.7M [00:00<?, ?B/s]"
      ]
     },
     "metadata": {},
     "output_type": "display_data"
    },
    {
     "name": "stdout",
     "output_type": "stream",
     "text": [
      "✅ Downloaded: /glade/work/milesep/era5_cds/era5_sfc_2003_07.nc\n",
      "2003 8 27\n"
     ]
    },
    {
     "name": "stderr",
     "output_type": "stream",
     "text": [
      "2025-08-17 01:05:51,563 WARNING [2025-08-17T07:05:51.492791] You are using a deprecated API endpoint. If you are using cdsapi, please upgrade to the latest version.\n",
      "2025-08-17 01:05:51,564 INFO Request ID is 89e688e2-d74d-4d44-b692-38cb5a7d1a4c\n",
      "2025-08-17 01:05:51,738 INFO status has been updated to accepted\n",
      "2025-08-17 01:05:59,480 INFO status has been updated to running\n",
      "2025-08-17 01:10:10,970 INFO status has been updated to successful\n"
     ]
    },
    {
     "data": {
      "application/vnd.jupyter.widget-view+json": {
       "model_id": "d86d42b7d3d94a0ab15f84dcdda878de",
       "version_major": 2,
       "version_minor": 0
      },
      "text/plain": [
       "f203a9c58facc29fd69c4f0610b62bd2.nc:   0%|          | 0.00/180M [00:00<?, ?B/s]"
      ]
     },
     "metadata": {},
     "output_type": "display_data"
    },
    {
     "name": "stdout",
     "output_type": "stream",
     "text": [
      "✅ Downloaded: /glade/work/milesep/era5_cds/era5_pl_2003_08.nc\n"
     ]
    },
    {
     "name": "stderr",
     "output_type": "stream",
     "text": [
      "2025-08-17 01:11:05,345 WARNING [2025-08-17T07:11:05.270827] You are using a deprecated API endpoint. If you are using cdsapi, please upgrade to the latest version.\n",
      "2025-08-17 01:11:05,346 INFO Request ID is c4d91a7f-cb7d-4378-b27f-3575ca7bd1b0\n",
      "2025-08-17 01:11:05,515 INFO status has been updated to accepted\n",
      "2025-08-17 01:11:13,147 INFO status has been updated to running\n",
      "2025-08-17 01:11:55,043 INFO status has been updated to successful\n"
     ]
    },
    {
     "data": {
      "application/vnd.jupyter.widget-view+json": {
       "model_id": "e5060540fe91448bb18f6a9cedd81013",
       "version_major": 2,
       "version_minor": 0
      },
      "text/plain": [
       "4e52ae6aaaf13ae44f4a089b181c3ff3.zip:   0%|          | 0.00/20.6M [00:00<?, ?B/s]"
      ]
     },
     "metadata": {},
     "output_type": "display_data"
    },
    {
     "name": "stdout",
     "output_type": "stream",
     "text": [
      "✅ Downloaded: /glade/work/milesep/era5_cds/era5_sfc_2003_08.nc\n",
      "2003 9 18\n"
     ]
    },
    {
     "name": "stderr",
     "output_type": "stream",
     "text": [
      "2025-08-17 01:11:58,929 WARNING [2025-08-17T07:11:58.802054] You are using a deprecated API endpoint. If you are using cdsapi, please upgrade to the latest version.\n",
      "2025-08-17 01:11:58,930 INFO Request ID is 5b265ad8-27f9-40c5-8d8e-3c21fcb556a8\n",
      "2025-08-17 01:11:59,147 INFO status has been updated to accepted\n",
      "2025-08-17 01:12:06,894 INFO status has been updated to running\n",
      "2025-08-17 01:14:51,544 INFO status has been updated to successful\n"
     ]
    },
    {
     "data": {
      "application/vnd.jupyter.widget-view+json": {
       "model_id": "2d6830af5f794c949afd60bf06105d55",
       "version_major": 2,
       "version_minor": 0
      },
      "text/plain": [
       "8214bb00b4b204bb586439e13a671c95.nc:   0%|          | 0.00/117M [00:00<?, ?B/s]"
      ]
     },
     "metadata": {},
     "output_type": "display_data"
    },
    {
     "name": "stdout",
     "output_type": "stream",
     "text": [
      "✅ Downloaded: /glade/work/milesep/era5_cds/era5_pl_2003_09.nc\n"
     ]
    },
    {
     "name": "stderr",
     "output_type": "stream",
     "text": [
      "2025-08-17 01:15:03,249 WARNING [2025-08-17T07:15:03.176446] You are using a deprecated API endpoint. If you are using cdsapi, please upgrade to the latest version.\n",
      "2025-08-17 01:15:03,249 INFO Request ID is b88ebf79-8d11-4992-96dc-1eb54a8c7b5c\n",
      "2025-08-17 01:15:03,420 INFO status has been updated to accepted\n",
      "2025-08-17 01:15:11,226 INFO status has been updated to running\n",
      "2025-08-17 01:15:35,783 INFO status has been updated to successful\n"
     ]
    },
    {
     "data": {
      "application/vnd.jupyter.widget-view+json": {
       "model_id": "d6dffa30dbdb4c6e9b2d85a12215dc8a",
       "version_major": 2,
       "version_minor": 0
      },
      "text/plain": [
       "a557549a1b6e32c9a8adc871a6f59315.zip:   0%|          | 0.00/13.8M [00:00<?, ?B/s]"
      ]
     },
     "metadata": {},
     "output_type": "display_data"
    },
    {
     "name": "stdout",
     "output_type": "stream",
     "text": [
      "✅ Downloaded: /glade/work/milesep/era5_cds/era5_sfc_2003_09.nc\n",
      "2003 10 8\n"
     ]
    },
    {
     "name": "stderr",
     "output_type": "stream",
     "text": [
      "2025-08-17 01:15:40,331 WARNING [2025-08-17T07:15:40.259658] You are using a deprecated API endpoint. If you are using cdsapi, please upgrade to the latest version.\n",
      "2025-08-17 01:15:40,332 INFO Request ID is 632f4531-a2c7-47e4-b912-26486cb36e5b\n",
      "2025-08-17 01:15:40,484 INFO status has been updated to accepted\n",
      "2025-08-17 01:15:48,063 INFO status has been updated to running\n",
      "2025-08-17 01:17:34,285 INFO status has been updated to successful\n"
     ]
    },
    {
     "data": {
      "application/vnd.jupyter.widget-view+json": {
       "model_id": "02287d4bad694161922f2e8af516a65c",
       "version_major": 2,
       "version_minor": 0
      },
      "text/plain": [
       "99d9b8593edd5747f83c056b5921024c.nc:   0%|          | 0.00/48.3M [00:00<?, ?B/s]"
      ]
     },
     "metadata": {},
     "output_type": "display_data"
    },
    {
     "name": "stdout",
     "output_type": "stream",
     "text": [
      "✅ Downloaded: /glade/work/milesep/era5_cds/era5_pl_2003_10.nc\n"
     ]
    },
    {
     "name": "stderr",
     "output_type": "stream",
     "text": [
      "2025-08-17 01:17:41,130 WARNING [2025-08-17T07:17:41.059506] You are using a deprecated API endpoint. If you are using cdsapi, please upgrade to the latest version.\n",
      "2025-08-17 01:17:41,131 INFO Request ID is 850682b7-eba0-4585-ab4a-5fbc8319db9d\n",
      "2025-08-17 01:17:41,303 INFO status has been updated to accepted\n",
      "2025-08-17 01:17:45,400 INFO status has been updated to running\n",
      "2025-08-17 01:18:01,902 INFO status has been updated to successful\n"
     ]
    },
    {
     "data": {
      "application/vnd.jupyter.widget-view+json": {
       "model_id": "5260ea5b6ddd465f80d61339f6fafdeb",
       "version_major": 2,
       "version_minor": 0
      },
      "text/plain": [
       "b129464b087ce100c99d23fbb1685690.zip:   0%|          | 0.00/6.12M [00:00<?, ?B/s]"
      ]
     },
     "metadata": {},
     "output_type": "display_data"
    },
    {
     "name": "stderr",
     "output_type": "stream",
     "text": [
      "2025-08-17 01:18:04,711 WARNING [2025-08-17T07:18:04.638154] You are using a deprecated API endpoint. If you are using cdsapi, please upgrade to the latest version.\n",
      "2025-08-17 01:18:04,712 INFO Request ID is 602ae1b5-b85e-4c7b-a9dd-2093109dd052\n"
     ]
    },
    {
     "name": "stdout",
     "output_type": "stream",
     "text": [
      "✅ Downloaded: /glade/work/milesep/era5_cds/era5_sfc_2003_10.nc\n",
      "2003 11 9\n"
     ]
    },
    {
     "name": "stderr",
     "output_type": "stream",
     "text": [
      "2025-08-17 01:18:04,861 INFO status has been updated to accepted\n",
      "2025-08-17 01:18:17,711 INFO status has been updated to running\n",
      "2025-08-17 01:19:58,783 INFO status has been updated to successful\n"
     ]
    },
    {
     "data": {
      "application/vnd.jupyter.widget-view+json": {
       "model_id": "a999c1b0eda3461fb992c92c9439db1d",
       "version_major": 2,
       "version_minor": 0
      },
      "text/plain": [
       "5ee296ff5c8e5bb39914cc073c90f31f.nc:   0%|          | 0.00/56.0M [00:00<?, ?B/s]"
      ]
     },
     "metadata": {},
     "output_type": "display_data"
    },
    {
     "name": "stdout",
     "output_type": "stream",
     "text": [
      "✅ Downloaded: /glade/work/milesep/era5_cds/era5_pl_2003_11.nc\n"
     ]
    },
    {
     "name": "stderr",
     "output_type": "stream",
     "text": [
      "2025-08-17 01:20:09,468 WARNING [2025-08-17T07:20:09.396708] You are using a deprecated API endpoint. If you are using cdsapi, please upgrade to the latest version.\n",
      "2025-08-17 01:20:09,468 INFO Request ID is 7b44cf94-9484-4edc-90b3-1b550e61b673\n",
      "2025-08-17 01:20:09,639 INFO status has been updated to accepted\n",
      "2025-08-17 01:20:17,264 INFO status has been updated to running\n",
      "2025-08-17 01:20:41,800 INFO status has been updated to successful\n"
     ]
    },
    {
     "data": {
      "application/vnd.jupyter.widget-view+json": {
       "model_id": "9f399f1f855c4f088ff23b39356e568d",
       "version_major": 2,
       "version_minor": 0
      },
      "text/plain": [
       "73a33d32a1c87085ce4fb520491660e8.zip:   0%|          | 0.00/6.78M [00:00<?, ?B/s]"
      ]
     },
     "metadata": {},
     "output_type": "display_data"
    },
    {
     "name": "stdout",
     "output_type": "stream",
     "text": [
      "✅ Downloaded: /glade/work/milesep/era5_cds/era5_sfc_2003_11.nc\n",
      "2003 12 7\n"
     ]
    },
    {
     "name": "stderr",
     "output_type": "stream",
     "text": [
      "2025-08-17 01:20:46,794 WARNING [2025-08-17T07:20:46.722391] You are using a deprecated API endpoint. If you are using cdsapi, please upgrade to the latest version.\n",
      "2025-08-17 01:20:46,795 INFO Request ID is 8afa596e-5c95-414d-a3a4-52bf6d644ac2\n",
      "2025-08-17 01:20:46,961 INFO status has been updated to accepted\n",
      "2025-08-17 01:20:54,560 INFO status has been updated to running\n",
      "2025-08-17 01:22:02,359 INFO status has been updated to successful\n"
     ]
    },
    {
     "data": {
      "application/vnd.jupyter.widget-view+json": {
       "model_id": "6fcc61e5d93e4c7497d1f552fa8ea5c2",
       "version_major": 2,
       "version_minor": 0
      },
      "text/plain": [
       "5be320420ab34be76a1a1e15c994cc7c.nc:   0%|          | 0.00/42.5M [00:00<?, ?B/s]"
      ]
     },
     "metadata": {},
     "output_type": "display_data"
    },
    {
     "name": "stdout",
     "output_type": "stream",
     "text": [
      "✅ Downloaded: /glade/work/milesep/era5_cds/era5_pl_2003_12.nc\n"
     ]
    },
    {
     "name": "stderr",
     "output_type": "stream",
     "text": [
      "2025-08-17 01:22:08,103 WARNING [2025-08-17T07:22:07.999931] You are using a deprecated API endpoint. If you are using cdsapi, please upgrade to the latest version.\n",
      "2025-08-17 01:22:08,104 INFO Request ID is e6d915c8-8f2b-48d0-af10-d56c7e4648bc\n",
      "2025-08-17 01:22:08,273 INFO status has been updated to accepted\n",
      "2025-08-17 01:22:15,913 INFO status has been updated to running\n",
      "2025-08-17 01:22:40,446 INFO status has been updated to successful\n"
     ]
    },
    {
     "data": {
      "application/vnd.jupyter.widget-view+json": {
       "model_id": "ba3a7d1a0a554c918704a0ba00f3b967",
       "version_major": 2,
       "version_minor": 0
      },
      "text/plain": [
       "665a53eccd117d881e40d3e8fe0dfc72.zip:   0%|          | 0.00/5.32M [00:00<?, ?B/s]"
      ]
     },
     "metadata": {},
     "output_type": "display_data"
    },
    {
     "name": "stdout",
     "output_type": "stream",
     "text": [
      "✅ Downloaded: /glade/work/milesep/era5_cds/era5_sfc_2003_12.nc\n",
      "2004 1 4\n"
     ]
    },
    {
     "name": "stderr",
     "output_type": "stream",
     "text": [
      "2025-08-17 01:22:43,490 WARNING [2025-08-17T07:22:43.415990] You are using a deprecated API endpoint. If you are using cdsapi, please upgrade to the latest version.\n",
      "2025-08-17 01:22:43,491 INFO Request ID is c85da852-27d4-4da7-92b4-ed7e0b82d0c7\n",
      "2025-08-17 01:22:43,800 INFO status has been updated to accepted\n",
      "2025-08-17 01:22:51,453 INFO status has been updated to running\n",
      "2025-08-17 01:23:33,232 INFO status has been updated to successful\n"
     ]
    },
    {
     "data": {
      "application/vnd.jupyter.widget-view+json": {
       "model_id": "3145de2acb814e71abd786f7adc2d9b9",
       "version_major": 2,
       "version_minor": 0
      },
      "text/plain": [
       "1560456c8e4a6fc6a24bab63173db5eb.nc:   0%|          | 0.00/24.2M [00:00<?, ?B/s]"
      ]
     },
     "metadata": {},
     "output_type": "display_data"
    },
    {
     "name": "stdout",
     "output_type": "stream",
     "text": [
      "✅ Downloaded: /glade/work/milesep/era5_cds/era5_pl_2004_01.nc\n"
     ]
    },
    {
     "name": "stderr",
     "output_type": "stream",
     "text": [
      "2025-08-17 01:23:37,883 WARNING [2025-08-17T07:23:37.811041] You are using a deprecated API endpoint. If you are using cdsapi, please upgrade to the latest version.\n",
      "2025-08-17 01:23:37,884 INFO Request ID is a8a298fd-483d-46dc-a18b-9611f32aaf2c\n",
      "2025-08-17 01:23:38,216 INFO status has been updated to accepted\n",
      "2025-08-17 01:23:45,837 INFO status has been updated to running\n",
      "2025-08-17 01:23:58,835 INFO status has been updated to successful\n"
     ]
    },
    {
     "data": {
      "application/vnd.jupyter.widget-view+json": {
       "model_id": "6ad17494e05f4db68b7bb45c85734819",
       "version_major": 2,
       "version_minor": 0
      },
      "text/plain": [
       "2784de646f1db4e56234ebedd4fa5458.zip:   0%|          | 0.00/3.09M [00:00<?, ?B/s]"
      ]
     },
     "metadata": {},
     "output_type": "display_data"
    },
    {
     "name": "stdout",
     "output_type": "stream",
     "text": [
      "✅ Downloaded: /glade/work/milesep/era5_cds/era5_sfc_2004_01.nc\n",
      "2004 2 13\n"
     ]
    },
    {
     "name": "stderr",
     "output_type": "stream",
     "text": [
      "2025-08-17 01:24:01,561 WARNING [2025-08-17T07:24:01.488955] You are using a deprecated API endpoint. If you are using cdsapi, please upgrade to the latest version.\n",
      "2025-08-17 01:24:01,562 INFO Request ID is af063cd9-e21b-4f83-978e-5fdbb83982d5\n",
      "2025-08-17 01:24:01,747 INFO status has been updated to accepted\n",
      "2025-08-17 01:24:09,374 INFO status has been updated to running\n",
      "2025-08-17 01:25:55,902 INFO status has been updated to successful\n"
     ]
    },
    {
     "data": {
      "application/vnd.jupyter.widget-view+json": {
       "model_id": "a05ec03c5cfa4f9fa00719ba547912ff",
       "version_major": 2,
       "version_minor": 0
      },
      "text/plain": [
       "24de110dc9d7b7ab201a817524ba4fe0.nc:   0%|          | 0.00/80.7M [00:00<?, ?B/s]"
      ]
     },
     "metadata": {},
     "output_type": "display_data"
    },
    {
     "name": "stdout",
     "output_type": "stream",
     "text": [
      "✅ Downloaded: /glade/work/milesep/era5_cds/era5_pl_2004_02.nc\n"
     ]
    },
    {
     "name": "stderr",
     "output_type": "stream",
     "text": [
      "2025-08-17 01:26:08,665 WARNING [2025-08-17T07:26:08.594371] You are using a deprecated API endpoint. If you are using cdsapi, please upgrade to the latest version.\n",
      "2025-08-17 01:26:08,666 INFO Request ID is 378d628a-d837-40a8-b77b-d8c734aaf395\n",
      "2025-08-17 01:26:08,818 INFO status has been updated to accepted\n",
      "2025-08-17 01:26:16,451 INFO status has been updated to running\n",
      "2025-08-17 01:27:24,005 INFO status has been updated to successful\n"
     ]
    },
    {
     "data": {
      "application/vnd.jupyter.widget-view+json": {
       "model_id": "275f5b77c7144deea999ae3c959bc917",
       "version_major": 2,
       "version_minor": 0
      },
      "text/plain": [
       "90a2c29fbd542e22f557a7f3b83557d5.zip:   0%|          | 0.00/9.91M [00:00<?, ?B/s]"
      ]
     },
     "metadata": {},
     "output_type": "display_data"
    },
    {
     "name": "stdout",
     "output_type": "stream",
     "text": [
      "✅ Downloaded: /glade/work/milesep/era5_cds/era5_sfc_2004_02.nc\n",
      "2004 3 15\n"
     ]
    },
    {
     "name": "stderr",
     "output_type": "stream",
     "text": [
      "2025-08-17 01:27:27,236 WARNING [2025-08-17T07:27:27.146799] You are using a deprecated API endpoint. If you are using cdsapi, please upgrade to the latest version.\n",
      "2025-08-17 01:27:27,237 INFO Request ID is a1b28215-da47-45d2-bad5-ce87db5ada60\n",
      "2025-08-17 01:27:27,402 INFO status has been updated to accepted\n",
      "2025-08-17 01:27:40,306 INFO status has been updated to running\n",
      "2025-08-17 01:30:19,491 INFO status has been updated to successful\n"
     ]
    },
    {
     "data": {
      "application/vnd.jupyter.widget-view+json": {
       "model_id": "260d0ad427d64ecba08bc14d6359a8d2",
       "version_major": 2,
       "version_minor": 0
      },
      "text/plain": [
       "422e863fa93dc408ff8f6a77bf3efd19.nc:   0%|          | 0.00/99.8M [00:00<?, ?B/s]"
      ]
     },
     "metadata": {},
     "output_type": "display_data"
    },
    {
     "name": "stdout",
     "output_type": "stream",
     "text": [
      "✅ Downloaded: /glade/work/milesep/era5_cds/era5_pl_2004_03.nc\n"
     ]
    },
    {
     "name": "stderr",
     "output_type": "stream",
     "text": [
      "2025-08-17 01:30:29,668 WARNING [2025-08-17T07:30:29.593940] You are using a deprecated API endpoint. If you are using cdsapi, please upgrade to the latest version.\n",
      "2025-08-17 01:30:29,669 INFO Request ID is ae6df4ea-cec2-4221-b04c-49c008565020\n",
      "2025-08-17 01:30:29,838 INFO status has been updated to accepted\n",
      "2025-08-17 01:30:37,485 INFO status has been updated to running\n",
      "2025-08-17 01:31:02,074 INFO status has been updated to successful\n"
     ]
    },
    {
     "data": {
      "application/vnd.jupyter.widget-view+json": {
       "model_id": "31ae3c7f03b24ca893dfbb5bc3739c27",
       "version_major": 2,
       "version_minor": 0
      },
      "text/plain": [
       "b644022c300867bba1ae50dd6936ea2e.zip:   0%|          | 0.00/11.5M [00:00<?, ?B/s]"
      ]
     },
     "metadata": {},
     "output_type": "display_data"
    },
    {
     "name": "stdout",
     "output_type": "stream",
     "text": [
      "✅ Downloaded: /glade/work/milesep/era5_cds/era5_sfc_2004_03.nc\n",
      "2004 4 27\n"
     ]
    },
    {
     "name": "stderr",
     "output_type": "stream",
     "text": [
      "2025-08-17 01:31:07,802 WARNING [2025-08-17T07:31:07.727121] You are using a deprecated API endpoint. If you are using cdsapi, please upgrade to the latest version.\n",
      "2025-08-17 01:31:07,803 INFO Request ID is ae2cb65b-98a6-4d7a-9ab8-d3b0e405b58a\n",
      "2025-08-17 01:31:07,964 INFO status has been updated to accepted\n",
      "2025-08-17 01:31:15,550 INFO status has been updated to running\n",
      "2025-08-17 01:35:26,911 INFO status has been updated to successful\n"
     ]
    },
    {
     "data": {
      "application/vnd.jupyter.widget-view+json": {
       "model_id": "d8ad24433c044d18baefa27c99f1e508",
       "version_major": 2,
       "version_minor": 0
      },
      "text/plain": [
       "6a908ed999bb7a2513bd7025140f1c06.nc:   0%|          | 0.00/180M [00:00<?, ?B/s]"
      ]
     },
     "metadata": {},
     "output_type": "display_data"
    },
    {
     "name": "stdout",
     "output_type": "stream",
     "text": [
      "✅ Downloaded: /glade/work/milesep/era5_cds/era5_pl_2004_04.nc\n"
     ]
    },
    {
     "name": "stderr",
     "output_type": "stream",
     "text": [
      "2025-08-17 01:35:55,171 WARNING [2025-08-17T07:35:55.098663] You are using a deprecated API endpoint. If you are using cdsapi, please upgrade to the latest version.\n",
      "2025-08-17 01:35:55,172 INFO Request ID is 6b9e58f7-d3ea-4752-b6d1-258cd1f749ae\n",
      "2025-08-17 01:35:55,341 INFO status has been updated to accepted\n",
      "2025-08-17 01:36:02,974 INFO status has been updated to running\n",
      "2025-08-17 01:36:44,745 INFO status has been updated to successful\n"
     ]
    },
    {
     "data": {
      "application/vnd.jupyter.widget-view+json": {
       "model_id": "5380eb5508954fe0acc672ed7767a50c",
       "version_major": 2,
       "version_minor": 0
      },
      "text/plain": [
       "f84e3b74f4bfb64e17125705a76d830a.zip:   0%|          | 0.00/20.8M [00:00<?, ?B/s]"
      ]
     },
     "metadata": {},
     "output_type": "display_data"
    },
    {
     "name": "stdout",
     "output_type": "stream",
     "text": [
      "✅ Downloaded: /glade/work/milesep/era5_cds/era5_sfc_2004_04.nc\n",
      "2004 5 28\n"
     ]
    },
    {
     "name": "stderr",
     "output_type": "stream",
     "text": [
      "2025-08-17 01:36:48,797 WARNING [2025-08-17T07:36:48.723642] You are using a deprecated API endpoint. If you are using cdsapi, please upgrade to the latest version.\n",
      "2025-08-17 01:36:48,798 INFO Request ID is 3f9dd986-756d-47bb-9c70-0d329ac7ba28\n",
      "2025-08-17 01:36:48,970 INFO status has been updated to accepted\n",
      "2025-08-17 01:36:56,588 INFO status has been updated to running\n",
      "2025-08-17 01:41:08,775 INFO status has been updated to successful\n"
     ]
    },
    {
     "data": {
      "application/vnd.jupyter.widget-view+json": {
       "model_id": "fdbb136e9f0f45388d1a94c455a009ac",
       "version_major": 2,
       "version_minor": 0
      },
      "text/plain": [
       "497dcfd46928ada6b28a7fe357469686.nc:   0%|          | 0.00/187M [00:00<?, ?B/s]"
      ]
     },
     "metadata": {},
     "output_type": "display_data"
    },
    {
     "name": "stdout",
     "output_type": "stream",
     "text": [
      "✅ Downloaded: /glade/work/milesep/era5_cds/era5_pl_2004_05.nc\n"
     ]
    },
    {
     "name": "stderr",
     "output_type": "stream",
     "text": [
      "2025-08-17 01:41:22,942 WARNING [2025-08-17T07:41:22.868922] You are using a deprecated API endpoint. If you are using cdsapi, please upgrade to the latest version.\n",
      "2025-08-17 01:41:22,943 INFO Request ID is 2f49198b-a2dc-4a2b-a4f2-16241e5c51ba\n",
      "2025-08-17 01:41:23,111 INFO status has been updated to accepted\n",
      "2025-08-17 01:41:30,804 INFO status has been updated to running\n",
      "2025-08-17 01:42:12,567 INFO status has been updated to successful\n"
     ]
    },
    {
     "data": {
      "application/vnd.jupyter.widget-view+json": {
       "model_id": "bb0c68c573b245de9e12192a2de11ae8",
       "version_major": 2,
       "version_minor": 0
      },
      "text/plain": [
       "4e8f619b78820005454426a8e8216e0e.zip:   0%|          | 0.00/21.5M [00:00<?, ?B/s]"
      ]
     },
     "metadata": {},
     "output_type": "display_data"
    },
    {
     "name": "stdout",
     "output_type": "stream",
     "text": [
      "✅ Downloaded: /glade/work/milesep/era5_cds/era5_sfc_2004_05.nc\n",
      "2004 6 30\n"
     ]
    },
    {
     "name": "stderr",
     "output_type": "stream",
     "text": [
      "2025-08-17 01:42:16,638 WARNING [2025-08-17T07:42:16.566675] You are using a deprecated API endpoint. If you are using cdsapi, please upgrade to the latest version.\n",
      "2025-08-17 01:42:16,639 INFO Request ID is 3f0de725-9f5e-4a8c-9e84-d9dd133836ab\n",
      "2025-08-17 01:42:16,921 INFO status has been updated to accepted\n",
      "2025-08-17 01:42:24,542 INFO status has been updated to running\n",
      "2025-08-17 01:50:37,456 INFO status has been updated to successful\n"
     ]
    },
    {
     "data": {
      "application/vnd.jupyter.widget-view+json": {
       "model_id": "e85864976be344d8a510bbaa353bd6fb",
       "version_major": 2,
       "version_minor": 0
      },
      "text/plain": [
       "a975d3043b10a12c2aede0af4917fb82.nc:   0%|          | 0.00/197M [00:00<?, ?B/s]"
      ]
     },
     "metadata": {},
     "output_type": "display_data"
    },
    {
     "name": "stdout",
     "output_type": "stream",
     "text": [
      "✅ Downloaded: /glade/work/milesep/era5_cds/era5_pl_2004_06.nc\n"
     ]
    },
    {
     "name": "stderr",
     "output_type": "stream",
     "text": [
      "2025-08-17 01:51:35,045 WARNING [2025-08-17T07:51:34.973165] You are using a deprecated API endpoint. If you are using cdsapi, please upgrade to the latest version.\n",
      "2025-08-17 01:51:35,046 INFO Request ID is 06b38712-3201-4e97-a75a-e76d760eca44\n",
      "2025-08-17 01:51:35,218 INFO status has been updated to accepted\n",
      "2025-08-17 01:51:48,352 INFO status has been updated to running\n",
      "2025-08-17 01:52:24,933 INFO status has been updated to successful\n"
     ]
    },
    {
     "data": {
      "application/vnd.jupyter.widget-view+json": {
       "model_id": "bce18a914b1e46f0a161c29748cd4c0b",
       "version_major": 2,
       "version_minor": 0
      },
      "text/plain": [
       "593c44da8f666cdfb68b46a5214ce600.zip:   0%|          | 0.00/23.1M [00:00<?, ?B/s]"
      ]
     },
     "metadata": {},
     "output_type": "display_data"
    },
    {
     "name": "stdout",
     "output_type": "stream",
     "text": [
      "✅ Downloaded: /glade/work/milesep/era5_cds/era5_sfc_2004_06.nc\n",
      "2004 7 28\n"
     ]
    },
    {
     "name": "stderr",
     "output_type": "stream",
     "text": [
      "2025-08-17 01:52:29,490 WARNING [2025-08-17T07:52:29.419966] You are using a deprecated API endpoint. If you are using cdsapi, please upgrade to the latest version.\n",
      "2025-08-17 01:52:29,491 INFO Request ID is 6812d15c-721b-4eac-8332-8ead38131d07\n",
      "2025-08-17 01:52:29,913 INFO status has been updated to accepted\n",
      "2025-08-17 01:52:37,533 INFO status has been updated to running\n",
      "2025-08-17 01:56:49,268 INFO status has been updated to successful\n"
     ]
    },
    {
     "data": {
      "application/vnd.jupyter.widget-view+json": {
       "model_id": "2dec7567dbdb435f9577cbb86e0c089c",
       "version_major": 2,
       "version_minor": 0
      },
      "text/plain": [
       "312a172253b9e46060c4b4d3e33e7abb.nc:   0%|          | 0.00/186M [00:00<?, ?B/s]"
      ]
     },
     "metadata": {},
     "output_type": "display_data"
    },
    {
     "name": "stdout",
     "output_type": "stream",
     "text": [
      "✅ Downloaded: /glade/work/milesep/era5_cds/era5_pl_2004_07.nc\n"
     ]
    },
    {
     "name": "stderr",
     "output_type": "stream",
     "text": [
      "2025-08-17 01:57:07,728 WARNING [2025-08-17T07:57:07.653281] You are using a deprecated API endpoint. If you are using cdsapi, please upgrade to the latest version.\n",
      "2025-08-17 01:57:07,729 INFO Request ID is 1f1eefae-8f9f-4680-a012-bc29b5a40b82\n",
      "2025-08-17 01:57:07,894 INFO status has been updated to accepted\n",
      "2025-08-17 01:57:15,539 INFO status has been updated to running\n",
      "2025-08-17 01:57:57,600 INFO status has been updated to successful\n"
     ]
    },
    {
     "data": {
      "application/vnd.jupyter.widget-view+json": {
       "model_id": "9fc5db5e4d0a4ece9f69311853343851",
       "version_major": 2,
       "version_minor": 0
      },
      "text/plain": [
       "80c82a9e612d78a4b43af9974db90f7e.zip:   0%|          | 0.00/21.5M [00:00<?, ?B/s]"
      ]
     },
     "metadata": {},
     "output_type": "display_data"
    },
    {
     "name": "stdout",
     "output_type": "stream",
     "text": [
      "✅ Downloaded: /glade/work/milesep/era5_cds/era5_sfc_2004_07.nc\n",
      "2004 8 30\n"
     ]
    },
    {
     "name": "stderr",
     "output_type": "stream",
     "text": [
      "2025-08-17 01:58:01,739 WARNING [2025-08-17T07:58:01.642281] You are using a deprecated API endpoint. If you are using cdsapi, please upgrade to the latest version.\n",
      "2025-08-17 01:58:01,739 INFO Request ID is 593f3063-0ee7-46d6-9817-00054bc168c4\n",
      "2025-08-17 01:58:01,906 INFO status has been updated to accepted\n",
      "2025-08-17 01:58:09,516 INFO status has been updated to running\n",
      "2025-08-17 02:02:21,271 INFO status has been updated to successful\n"
     ]
    },
    {
     "data": {
      "application/vnd.jupyter.widget-view+json": {
       "model_id": "b0c28d34d57f4e8cba6561121d2555b8",
       "version_major": 2,
       "version_minor": 0
      },
      "text/plain": [
       "1eca9273fa78147bab4db8ccd7a7c1c2.nc:   0%|          | 0.00/206M [00:00<?, ?B/s]"
      ]
     },
     "metadata": {},
     "output_type": "display_data"
    },
    {
     "name": "stdout",
     "output_type": "stream",
     "text": [
      "✅ Downloaded: /glade/work/milesep/era5_cds/era5_pl_2004_08.nc\n"
     ]
    },
    {
     "name": "stderr",
     "output_type": "stream",
     "text": [
      "2025-08-17 02:03:02,143 WARNING [2025-08-17T08:03:02.061740] You are using a deprecated API endpoint. If you are using cdsapi, please upgrade to the latest version.\n",
      "2025-08-17 02:03:02,144 INFO Request ID is d9ff5819-799b-4062-b646-c00264e1c1bf\n",
      "2025-08-17 02:03:02,313 INFO status has been updated to accepted\n",
      "2025-08-17 02:03:09,936 INFO status has been updated to running\n",
      "2025-08-17 02:03:51,841 INFO status has been updated to successful\n"
     ]
    },
    {
     "data": {
      "application/vnd.jupyter.widget-view+json": {
       "model_id": "83e73847261644e793fded4bd735f89b",
       "version_major": 2,
       "version_minor": 0
      },
      "text/plain": [
       "a9d0116c122f470bc083da72179cccfa.zip:   0%|          | 0.00/22.9M [00:00<?, ?B/s]"
      ]
     },
     "metadata": {},
     "output_type": "display_data"
    },
    {
     "name": "stdout",
     "output_type": "stream",
     "text": [
      "✅ Downloaded: /glade/work/milesep/era5_cds/era5_sfc_2004_08.nc\n",
      "2004 9 20\n"
     ]
    },
    {
     "name": "stderr",
     "output_type": "stream",
     "text": [
      "2025-08-17 02:03:56,630 WARNING [2025-08-17T08:03:56.556496] You are using a deprecated API endpoint. If you are using cdsapi, please upgrade to the latest version.\n",
      "2025-08-17 02:03:56,630 INFO Request ID is 2d0d2d70-8c1b-453d-ae52-83270907c45c\n",
      "2025-08-17 02:03:56,805 INFO status has been updated to accepted\n",
      "2025-08-17 02:04:09,652 INFO status has been updated to running\n",
      "2025-08-17 02:08:15,962 INFO status has been updated to successful\n"
     ]
    },
    {
     "data": {
      "application/vnd.jupyter.widget-view+json": {
       "model_id": "9f247d192b1a4f3190997d3fd6579dd9",
       "version_major": 2,
       "version_minor": 0
      },
      "text/plain": [
       "6be270656906768408df492e5aaa5711.nc:   0%|          | 0.00/130M [00:00<?, ?B/s]"
      ]
     },
     "metadata": {},
     "output_type": "display_data"
    },
    {
     "name": "stdout",
     "output_type": "stream",
     "text": [
      "✅ Downloaded: /glade/work/milesep/era5_cds/era5_pl_2004_09.nc\n"
     ]
    },
    {
     "name": "stderr",
     "output_type": "stream",
     "text": [
      "2025-08-17 02:08:36,026 WARNING [2025-08-17T08:08:35.951683] You are using a deprecated API endpoint. If you are using cdsapi, please upgrade to the latest version.\n",
      "2025-08-17 02:08:36,026 INFO Request ID is a43f6e30-730f-456b-8034-7f3a17cc97a0\n",
      "2025-08-17 02:08:36,183 INFO status has been updated to accepted\n",
      "2025-08-17 02:08:43,842 INFO status has been updated to running\n",
      "2025-08-17 02:09:51,456 INFO status has been updated to successful\n"
     ]
    },
    {
     "data": {
      "application/vnd.jupyter.widget-view+json": {
       "model_id": "5b759d8712d84ced9edaa0184b3a7b6e",
       "version_major": 2,
       "version_minor": 0
      },
      "text/plain": [
       "aba1423bcf69757c88987c27e4a79c22.zip:   0%|          | 0.00/15.2M [00:00<?, ?B/s]"
      ]
     },
     "metadata": {},
     "output_type": "display_data"
    },
    {
     "name": "stdout",
     "output_type": "stream",
     "text": [
      "✅ Downloaded: /glade/work/milesep/era5_cds/era5_sfc_2004_09.nc\n",
      "2004 10 15\n"
     ]
    },
    {
     "name": "stderr",
     "output_type": "stream",
     "text": [
      "2025-08-17 02:09:56,169 WARNING [2025-08-17T08:09:56.093746] You are using a deprecated API endpoint. If you are using cdsapi, please upgrade to the latest version.\n",
      "2025-08-17 02:09:56,170 INFO Request ID is 2e4c5cb4-dc7b-41e8-84ac-8f2938fbdbf9\n",
      "2025-08-17 02:09:56,363 INFO status has been updated to accepted\n",
      "2025-08-17 02:10:04,205 INFO status has been updated to running\n",
      "2025-08-17 02:12:48,690 INFO status has been updated to successful\n"
     ]
    },
    {
     "data": {
      "application/vnd.jupyter.widget-view+json": {
       "model_id": "4768f7afa08044e39c0e26c96e70fae8",
       "version_major": 2,
       "version_minor": 0
      },
      "text/plain": [
       "44fde4581517f6f1be770a64b54531b0.nc:   0%|          | 0.00/98.5M [00:00<?, ?B/s]"
      ]
     },
     "metadata": {},
     "output_type": "display_data"
    },
    {
     "name": "stdout",
     "output_type": "stream",
     "text": [
      "✅ Downloaded: /glade/work/milesep/era5_cds/era5_pl_2004_10.nc\n"
     ]
    },
    {
     "name": "stderr",
     "output_type": "stream",
     "text": [
      "2025-08-17 02:12:57,129 WARNING [2025-08-17T08:12:57.049658] You are using a deprecated API endpoint. If you are using cdsapi, please upgrade to the latest version.\n",
      "2025-08-17 02:12:57,130 INFO Request ID is 1de75c36-3792-44ac-8f36-7e0c6bd80ff2\n",
      "2025-08-17 02:12:57,306 INFO status has been updated to accepted\n",
      "2025-08-17 02:13:04,924 INFO status has been updated to running\n",
      "2025-08-17 02:13:29,494 INFO status has been updated to successful\n"
     ]
    },
    {
     "data": {
      "application/vnd.jupyter.widget-view+json": {
       "model_id": "1cb67433e53e4049a5f14e647f7ccdd0",
       "version_major": 2,
       "version_minor": 0
      },
      "text/plain": [
       "b1fdfba38a7ed67ba62e3b7bce7a35fd.zip:   0%|          | 0.00/11.3M [00:00<?, ?B/s]"
      ]
     },
     "metadata": {},
     "output_type": "display_data"
    },
    {
     "name": "stdout",
     "output_type": "stream",
     "text": [
      "✅ Downloaded: /glade/work/milesep/era5_cds/era5_sfc_2004_10.nc\n",
      "2004 11 9\n"
     ]
    },
    {
     "name": "stderr",
     "output_type": "stream",
     "text": [
      "2025-08-17 02:13:33,760 WARNING [2025-08-17T08:13:33.687066] You are using a deprecated API endpoint. If you are using cdsapi, please upgrade to the latest version.\n",
      "2025-08-17 02:13:33,761 INFO Request ID is c4ebe910-562d-4ab7-bf9f-90698180e58b\n",
      "2025-08-17 02:13:33,928 INFO status has been updated to accepted\n",
      "2025-08-17 02:13:41,768 INFO status has been updated to running\n",
      "2025-08-17 02:14:49,450 INFO status has been updated to successful\n"
     ]
    },
    {
     "data": {
      "application/vnd.jupyter.widget-view+json": {
       "model_id": "9b80eb76148a4c49960ebaa4899d4646",
       "version_major": 2,
       "version_minor": 0
      },
      "text/plain": [
       "fa169f0ec6584f82f2884e29d7dcb6e1.nc:   0%|          | 0.00/56.1M [00:00<?, ?B/s]"
      ]
     },
     "metadata": {},
     "output_type": "display_data"
    },
    {
     "name": "stdout",
     "output_type": "stream",
     "text": [
      "✅ Downloaded: /glade/work/milesep/era5_cds/era5_pl_2004_11.nc\n"
     ]
    },
    {
     "name": "stderr",
     "output_type": "stream",
     "text": [
      "2025-08-17 02:14:58,951 WARNING [2025-08-17T08:14:58.877189] You are using a deprecated API endpoint. If you are using cdsapi, please upgrade to the latest version.\n",
      "2025-08-17 02:14:58,952 INFO Request ID is 47831bf0-7c47-46b0-9119-3c0ce0af80f3\n",
      "2025-08-17 02:14:59,130 INFO status has been updated to accepted\n",
      "2025-08-17 02:15:06,775 INFO status has been updated to running\n",
      "2025-08-17 02:15:12,007 INFO status has been updated to accepted\n",
      "2025-08-17 02:15:19,755 INFO status has been updated to running\n",
      "2025-08-17 02:15:48,560 INFO status has been updated to successful\n"
     ]
    },
    {
     "data": {
      "application/vnd.jupyter.widget-view+json": {
       "model_id": "82e1d1ff59ba46d5b82d90cd7ba979fa",
       "version_major": 2,
       "version_minor": 0
      },
      "text/plain": [
       "2162923b0bd21fc1c871f3953cb35f04.zip:   0%|          | 0.00/6.77M [00:00<?, ?B/s]"
      ]
     },
     "metadata": {},
     "output_type": "display_data"
    },
    {
     "name": "stdout",
     "output_type": "stream",
     "text": [
      "✅ Downloaded: /glade/work/milesep/era5_cds/era5_sfc_2004_11.nc\n",
      "2004 12 6\n"
     ]
    },
    {
     "name": "stderr",
     "output_type": "stream",
     "text": [
      "2025-08-17 02:15:53,657 WARNING [2025-08-17T08:15:53.581330] You are using a deprecated API endpoint. If you are using cdsapi, please upgrade to the latest version.\n",
      "2025-08-17 02:15:53,658 INFO Request ID is 2cb24681-2923-4ddb-b5cb-c22b0bcdd1a2\n",
      "2025-08-17 02:15:53,888 INFO status has been updated to accepted\n",
      "2025-08-17 02:16:01,595 INFO status has been updated to running\n",
      "2025-08-17 02:17:09,218 INFO status has been updated to successful\n"
     ]
    },
    {
     "data": {
      "application/vnd.jupyter.widget-view+json": {
       "model_id": "9b11c448511e45fc98b033030a486148",
       "version_major": 2,
       "version_minor": 0
      },
      "text/plain": [
       "3d15cef8788cee1cca00c33d3822a770.nc:   0%|          | 0.00/36.5M [00:00<?, ?B/s]"
      ]
     },
     "metadata": {},
     "output_type": "display_data"
    },
    {
     "name": "stdout",
     "output_type": "stream",
     "text": [
      "✅ Downloaded: /glade/work/milesep/era5_cds/era5_pl_2004_12.nc\n"
     ]
    },
    {
     "name": "stderr",
     "output_type": "stream",
     "text": [
      "2025-08-17 02:17:13,873 WARNING [2025-08-17T08:17:13.794399] You are using a deprecated API endpoint. If you are using cdsapi, please upgrade to the latest version.\n",
      "2025-08-17 02:17:13,873 INFO Request ID is 8f4ad307-e5ca-417e-b04b-f8e6fb313027\n",
      "2025-08-17 02:17:14,046 INFO status has been updated to accepted\n",
      "2025-08-17 02:17:26,950 INFO status has been updated to running\n",
      "2025-08-17 02:17:46,259 INFO status has been updated to successful\n"
     ]
    },
    {
     "data": {
      "application/vnd.jupyter.widget-view+json": {
       "model_id": "d1f216217257414d84f71ceacc206214",
       "version_major": 2,
       "version_minor": 0
      },
      "text/plain": [
       "88d734c2b0382ba6c9e1cc7a70e768ac.zip:   0%|          | 0.00/4.58M [00:00<?, ?B/s]"
      ]
     },
     "metadata": {},
     "output_type": "display_data"
    },
    {
     "name": "stdout",
     "output_type": "stream",
     "text": [
      "✅ Downloaded: /glade/work/milesep/era5_cds/era5_sfc_2004_12.nc\n",
      "2005 1 3\n"
     ]
    },
    {
     "name": "stderr",
     "output_type": "stream",
     "text": [
      "2025-08-17 02:17:49,234 WARNING [2025-08-17T08:17:49.159280] You are using a deprecated API endpoint. If you are using cdsapi, please upgrade to the latest version.\n",
      "2025-08-17 02:17:49,235 INFO Request ID is d8603fbf-c173-4ce0-9282-369652f58650\n",
      "2025-08-17 02:17:49,401 INFO status has been updated to accepted\n",
      "2025-08-17 02:17:57,082 INFO status has been updated to running\n",
      "2025-08-17 02:18:38,913 INFO status has been updated to successful\n"
     ]
    },
    {
     "data": {
      "application/vnd.jupyter.widget-view+json": {
       "model_id": "bc29b69cd3404d81b24885e185351ef7",
       "version_major": 2,
       "version_minor": 0
      },
      "text/plain": [
       "3f85c8e55401d685b5157b4c1046aba6.nc:   0%|          | 0.00/18.3M [00:00<?, ?B/s]"
      ]
     },
     "metadata": {},
     "output_type": "display_data"
    },
    {
     "name": "stdout",
     "output_type": "stream",
     "text": [
      "✅ Downloaded: /glade/work/milesep/era5_cds/era5_pl_2005_01.nc\n"
     ]
    },
    {
     "name": "stderr",
     "output_type": "stream",
     "text": [
      "2025-08-17 02:18:43,518 WARNING [2025-08-17T08:18:43.442083] You are using a deprecated API endpoint. If you are using cdsapi, please upgrade to the latest version.\n",
      "2025-08-17 02:18:43,519 INFO Request ID is 574a45aa-1892-4e9c-95cd-782a08c82310\n",
      "2025-08-17 02:18:43,693 INFO status has been updated to accepted\n",
      "2025-08-17 02:19:04,329 INFO status has been updated to successful\n"
     ]
    },
    {
     "data": {
      "application/vnd.jupyter.widget-view+json": {
       "model_id": "9d498fb7b39e4c7f9a54af563775547e",
       "version_major": 2,
       "version_minor": 0
      },
      "text/plain": [
       "40b1654233473e24d9a5f370099e985b.zip:   0%|          | 0.00/2.33M [00:00<?, ?B/s]"
      ]
     },
     "metadata": {},
     "output_type": "display_data"
    },
    {
     "name": "stdout",
     "output_type": "stream",
     "text": [
      "✅ Downloaded: /glade/work/milesep/era5_cds/era5_sfc_2005_01.nc\n",
      "2005 2 5\n"
     ]
    },
    {
     "name": "stderr",
     "output_type": "stream",
     "text": [
      "2025-08-17 02:19:07,212 WARNING [2025-08-17T08:19:07.138633] You are using a deprecated API endpoint. If you are using cdsapi, please upgrade to the latest version.\n",
      "2025-08-17 02:19:07,213 INFO Request ID is 82c284f8-edf5-4172-b1d9-809c9e20f443\n",
      "2025-08-17 02:19:07,366 INFO status has been updated to accepted\n",
      "2025-08-17 02:19:28,039 INFO status has been updated to running\n",
      "2025-08-17 02:19:56,844 INFO status has been updated to successful\n"
     ]
    },
    {
     "data": {
      "application/vnd.jupyter.widget-view+json": {
       "model_id": "013a9c24974144cea8fba6735007b15b",
       "version_major": 2,
       "version_minor": 0
      },
      "text/plain": [
       "fa46593f4163f0fbf7588192911987ba.nc:   0%|          | 0.00/29.7M [00:00<?, ?B/s]"
      ]
     },
     "metadata": {},
     "output_type": "display_data"
    },
    {
     "name": "stdout",
     "output_type": "stream",
     "text": [
      "✅ Downloaded: /glade/work/milesep/era5_cds/era5_pl_2005_02.nc\n"
     ]
    },
    {
     "name": "stderr",
     "output_type": "stream",
     "text": [
      "2025-08-17 02:20:01,056 WARNING [2025-08-17T08:20:00.980052] You are using a deprecated API endpoint. If you are using cdsapi, please upgrade to the latest version.\n",
      "2025-08-17 02:20:01,056 INFO Request ID is 6ebd9d3b-a3f1-4535-bc7d-2c7af732aeec\n",
      "2025-08-17 02:20:01,215 INFO status has been updated to accepted\n",
      "2025-08-17 02:20:09,071 INFO status has been updated to running\n",
      "2025-08-17 02:20:22,034 INFO status has been updated to successful\n"
     ]
    },
    {
     "data": {
      "application/vnd.jupyter.widget-view+json": {
       "model_id": "a3bd402ff8ae44418a786f78026b8666",
       "version_major": 2,
       "version_minor": 0
      },
      "text/plain": [
       "cd46cc6e1e61fc28b68fd9d390e2bf09.zip:   0%|          | 0.00/3.85M [00:00<?, ?B/s]"
      ]
     },
     "metadata": {},
     "output_type": "display_data"
    },
    {
     "name": "stdout",
     "output_type": "stream",
     "text": [
      "✅ Downloaded: /glade/work/milesep/era5_cds/era5_sfc_2005_02.nc\n",
      "2005 3 18\n"
     ]
    },
    {
     "name": "stderr",
     "output_type": "stream",
     "text": [
      "2025-08-17 02:20:24,999 WARNING [2025-08-17T08:20:24.924946] You are using a deprecated API endpoint. If you are using cdsapi, please upgrade to the latest version.\n",
      "2025-08-17 02:20:24,999 INFO Request ID is 46b9813f-8fda-4960-92a8-2704f3a64357\n",
      "2025-08-17 02:20:25,157 INFO status has been updated to accepted\n",
      "2025-08-17 02:20:32,765 INFO status has been updated to running\n",
      "2025-08-17 02:23:17,084 INFO status has been updated to successful\n"
     ]
    },
    {
     "data": {
      "application/vnd.jupyter.widget-view+json": {
       "model_id": "bd030b27bc6349d99f4a15785f793f06",
       "version_major": 2,
       "version_minor": 0
      },
      "text/plain": [
       "171017c4b97b85c325e54e6eac81ac2f.nc:   0%|          | 0.00/116M [00:00<?, ?B/s]"
      ]
     },
     "metadata": {},
     "output_type": "display_data"
    },
    {
     "name": "stdout",
     "output_type": "stream",
     "text": [
      "✅ Downloaded: /glade/work/milesep/era5_cds/era5_pl_2005_03.nc\n"
     ]
    },
    {
     "name": "stderr",
     "output_type": "stream",
     "text": [
      "2025-08-17 02:23:33,532 WARNING [2025-08-17T08:23:33.459094] You are using a deprecated API endpoint. If you are using cdsapi, please upgrade to the latest version.\n",
      "2025-08-17 02:23:33,533 INFO Request ID is ef1888aa-87a6-420c-a402-affd7cda3917\n",
      "2025-08-17 02:23:33,688 INFO status has been updated to accepted\n",
      "2025-08-17 02:23:41,412 INFO status has been updated to running\n",
      "2025-08-17 02:24:05,969 INFO status has been updated to successful\n"
     ]
    },
    {
     "data": {
      "application/vnd.jupyter.widget-view+json": {
       "model_id": "cf16e051923b49dc891ed2a6d32bf49b",
       "version_major": 2,
       "version_minor": 0
      },
      "text/plain": [
       "e12ed4b447039f7817615f20f6192db5.zip:   0%|          | 0.00/13.7M [00:00<?, ?B/s]"
      ]
     },
     "metadata": {},
     "output_type": "display_data"
    },
    {
     "name": "stdout",
     "output_type": "stream",
     "text": [
      "✅ Downloaded: /glade/work/milesep/era5_cds/era5_sfc_2005_03.nc\n",
      "2005 4 22\n"
     ]
    },
    {
     "name": "stderr",
     "output_type": "stream",
     "text": [
      "2025-08-17 02:24:09,811 WARNING [2025-08-17T08:24:09.737490] You are using a deprecated API endpoint. If you are using cdsapi, please upgrade to the latest version.\n",
      "2025-08-17 02:24:09,812 INFO Request ID is ca91686a-19a8-408b-9eb3-7e3713a5961f\n",
      "2025-08-17 02:24:09,965 INFO status has been updated to accepted\n",
      "2025-08-17 02:24:17,579 INFO status has been updated to running\n",
      "2025-08-17 02:28:29,275 INFO status has been updated to successful\n"
     ]
    },
    {
     "data": {
      "application/vnd.jupyter.widget-view+json": {
       "model_id": "a1a83943d7d54ff3807855b54eacd379",
       "version_major": 2,
       "version_minor": 0
      },
      "text/plain": [
       "3cfbdaccef96125118fa577f6fc7b8a4.nc:   0%|          | 0.00/148M [00:00<?, ?B/s]"
      ]
     },
     "metadata": {},
     "output_type": "display_data"
    },
    {
     "name": "stdout",
     "output_type": "stream",
     "text": [
      "✅ Downloaded: /glade/work/milesep/era5_cds/era5_pl_2005_04.nc\n"
     ]
    },
    {
     "name": "stderr",
     "output_type": "stream",
     "text": [
      "2025-08-17 02:28:52,043 WARNING [2025-08-17T08:28:51.952766] You are using a deprecated API endpoint. If you are using cdsapi, please upgrade to the latest version.\n",
      "2025-08-17 02:28:52,044 INFO Request ID is 7ce3e577-11cf-4665-8741-b606523d839e\n",
      "2025-08-17 02:28:52,391 INFO status has been updated to accepted\n",
      "2025-08-17 02:29:00,289 INFO status has been updated to running\n",
      "2025-08-17 02:29:42,207 INFO status has been updated to successful\n"
     ]
    },
    {
     "data": {
      "application/vnd.jupyter.widget-view+json": {
       "model_id": "48b720f6d5e849d09c35a51bbb5a1b37",
       "version_major": 2,
       "version_minor": 0
      },
      "text/plain": [
       "d4c895bc444402f6203668b098b81861.zip:   0%|          | 0.00/16.9M [00:00<?, ?B/s]"
      ]
     },
     "metadata": {},
     "output_type": "display_data"
    },
    {
     "name": "stdout",
     "output_type": "stream",
     "text": [
      "✅ Downloaded: /glade/work/milesep/era5_cds/era5_sfc_2005_04.nc\n",
      "2005 5 27\n"
     ]
    },
    {
     "name": "stderr",
     "output_type": "stream",
     "text": [
      "2025-08-17 02:29:47,483 WARNING [2025-08-17T08:29:47.407759] You are using a deprecated API endpoint. If you are using cdsapi, please upgrade to the latest version.\n",
      "2025-08-17 02:29:47,483 INFO Request ID is af464097-b17f-451e-97de-fb0b8a6e2894\n",
      "2025-08-17 02:29:47,707 INFO status has been updated to accepted\n",
      "2025-08-17 02:29:55,436 INFO status has been updated to running\n",
      "2025-08-17 02:30:00,706 INFO status has been updated to accepted\n",
      "2025-08-17 02:30:20,143 INFO status has been updated to running\n",
      "2025-08-17 02:34:06,910 INFO status has been updated to successful\n"
     ]
    },
    {
     "data": {
      "application/vnd.jupyter.widget-view+json": {
       "model_id": "7592d2ed090c45c688aff21962e2e01a",
       "version_major": 2,
       "version_minor": 0
      },
      "text/plain": [
       "ffcf3c0d2b6f2101915f410d15f80d38.nc:   0%|          | 0.00/181M [00:00<?, ?B/s]"
      ]
     },
     "metadata": {},
     "output_type": "display_data"
    },
    {
     "name": "stdout",
     "output_type": "stream",
     "text": [
      "✅ Downloaded: /glade/work/milesep/era5_cds/era5_pl_2005_05.nc\n"
     ]
    },
    {
     "name": "stderr",
     "output_type": "stream",
     "text": [
      "2025-08-17 02:34:29,197 WARNING [2025-08-17T08:34:29.125829] You are using a deprecated API endpoint. If you are using cdsapi, please upgrade to the latest version.\n",
      "2025-08-17 02:34:29,197 INFO Request ID is 5d2dc017-d22e-465a-aae4-7b34ef6b74f9\n",
      "2025-08-17 02:34:29,376 INFO status has been updated to accepted\n",
      "2025-08-17 02:34:37,045 INFO status has been updated to running\n",
      "2025-08-17 02:35:18,842 INFO status has been updated to successful\n"
     ]
    },
    {
     "data": {
      "application/vnd.jupyter.widget-view+json": {
       "model_id": "66ebdfb1fbf7410bb4227ebd0745c7ea",
       "version_major": 2,
       "version_minor": 0
      },
      "text/plain": [
       "9c1f49c16e4d7967c76f143fadeea0dc.zip:   0%|          | 0.00/20.9M [00:00<?, ?B/s]"
      ]
     },
     "metadata": {},
     "output_type": "display_data"
    },
    {
     "name": "stdout",
     "output_type": "stream",
     "text": [
      "✅ Downloaded: /glade/work/milesep/era5_cds/era5_sfc_2005_05.nc\n",
      "2005 6 30\n"
     ]
    },
    {
     "name": "stderr",
     "output_type": "stream",
     "text": [
      "2025-08-17 02:35:28,694 WARNING [2025-08-17T08:35:28.622710] You are using a deprecated API endpoint. If you are using cdsapi, please upgrade to the latest version.\n",
      "2025-08-17 02:35:28,694 INFO Request ID is af7e087e-5524-41bb-b3a7-d9e8c01451a6\n",
      "2025-08-17 02:35:29,068 INFO status has been updated to accepted\n",
      "2025-08-17 02:35:36,704 INFO status has been updated to running\n",
      "2025-08-17 02:39:48,193 INFO status has been updated to successful\n"
     ]
    },
    {
     "data": {
      "application/vnd.jupyter.widget-view+json": {
       "model_id": "f4b81358091848e7907af2138dfe9c49",
       "version_major": 2,
       "version_minor": 0
      },
      "text/plain": [
       "31e3f5c12dea41eb9102d513a7d4a7c0.nc:   0%|          | 0.00/203M [00:00<?, ?B/s]"
      ]
     },
     "metadata": {},
     "output_type": "display_data"
    },
    {
     "name": "stdout",
     "output_type": "stream",
     "text": [
      "✅ Downloaded: /glade/work/milesep/era5_cds/era5_pl_2005_06.nc\n"
     ]
    },
    {
     "name": "stderr",
     "output_type": "stream",
     "text": [
      "2025-08-17 02:41:12,894 WARNING [2025-08-17T08:41:12.818986] You are using a deprecated API endpoint. If you are using cdsapi, please upgrade to the latest version.\n",
      "2025-08-17 02:41:12,895 INFO Request ID is c8f54c31-67f7-4842-9da6-bdad18713e35\n",
      "2025-08-17 02:41:13,139 INFO status has been updated to accepted\n",
      "2025-08-17 02:41:21,195 INFO status has been updated to running\n",
      "2025-08-17 02:42:28,859 INFO status has been updated to successful\n"
     ]
    },
    {
     "data": {
      "application/vnd.jupyter.widget-view+json": {
       "model_id": "cbf354f5ab4744f7bfb9e631dfd8a070",
       "version_major": 2,
       "version_minor": 0
      },
      "text/plain": [
       "7e3c0e826f7cfbfa129f93ffc9b68bab.zip:   0%|          | 0.00/23.1M [00:00<?, ?B/s]"
      ]
     },
     "metadata": {},
     "output_type": "display_data"
    },
    {
     "name": "stdout",
     "output_type": "stream",
     "text": [
      "✅ Downloaded: /glade/work/milesep/era5_cds/era5_sfc_2005_06.nc\n",
      "2005 7 29\n"
     ]
    },
    {
     "name": "stderr",
     "output_type": "stream",
     "text": [
      "2025-08-17 02:42:33,072 WARNING [2025-08-17T08:42:32.999556] You are using a deprecated API endpoint. If you are using cdsapi, please upgrade to the latest version.\n",
      "2025-08-17 02:42:33,073 INFO Request ID is 27353d70-5135-4c24-a8b2-fc91e3020e81\n",
      "2025-08-17 02:42:33,361 INFO status has been updated to accepted\n",
      "2025-08-17 02:42:41,015 INFO status has been updated to running\n",
      "2025-08-17 02:46:52,335 INFO status has been updated to successful\n"
     ]
    },
    {
     "data": {
      "application/vnd.jupyter.widget-view+json": {
       "model_id": "f56f77cc5663431397cb00bd518570a4",
       "version_major": 2,
       "version_minor": 0
      },
      "text/plain": [
       "6d0b3338862466209a9ac73cea10b85b.nc:   0%|          | 0.00/194M [00:00<?, ?B/s]"
      ]
     },
     "metadata": {},
     "output_type": "display_data"
    },
    {
     "name": "stdout",
     "output_type": "stream",
     "text": [
      "✅ Downloaded: /glade/work/milesep/era5_cds/era5_pl_2005_07.nc\n"
     ]
    },
    {
     "name": "stderr",
     "output_type": "stream",
     "text": [
      "2025-08-17 02:47:06,696 WARNING [2025-08-17T08:47:06.619526] You are using a deprecated API endpoint. If you are using cdsapi, please upgrade to the latest version.\n",
      "2025-08-17 02:47:06,697 INFO Request ID is 4de5b551-bcd6-44ac-8dc9-f7b2ac353caa\n",
      "2025-08-17 02:47:06,878 INFO status has been updated to accepted\n",
      "2025-08-17 02:47:14,558 INFO status has been updated to running\n",
      "2025-08-17 02:47:56,391 INFO status has been updated to successful\n"
     ]
    },
    {
     "data": {
      "application/vnd.jupyter.widget-view+json": {
       "model_id": "73831ba914754b3395bffd20a22188f7",
       "version_major": 2,
       "version_minor": 0
      },
      "text/plain": [
       "8f4ad6464e4b4155a4fee3ecde1f2034.zip:   0%|          | 0.00/22.3M [00:00<?, ?B/s]"
      ]
     },
     "metadata": {},
     "output_type": "display_data"
    },
    {
     "name": "stdout",
     "output_type": "stream",
     "text": [
      "✅ Downloaded: /glade/work/milesep/era5_cds/era5_sfc_2005_07.nc\n",
      "2005 8 25\n"
     ]
    },
    {
     "name": "stderr",
     "output_type": "stream",
     "text": [
      "2025-08-17 02:48:00,677 WARNING [2025-08-17T08:48:00.599144] You are using a deprecated API endpoint. If you are using cdsapi, please upgrade to the latest version.\n",
      "2025-08-17 02:48:00,677 INFO Request ID is 598a6f72-3567-49f9-8498-cd84eb401858\n",
      "2025-08-17 02:48:00,870 INFO status has been updated to accepted\n",
      "2025-08-17 02:48:08,596 INFO status has been updated to running\n",
      "2025-08-17 02:52:20,481 INFO status has been updated to successful\n"
     ]
    },
    {
     "data": {
      "application/vnd.jupyter.widget-view+json": {
       "model_id": "f58e05c5f6d94e199121dcdc743b14ad",
       "version_major": 2,
       "version_minor": 0
      },
      "text/plain": [
       "7443e8dd845275001264673ab5eedc45.nc:   0%|          | 0.00/163M [00:00<?, ?B/s]"
      ]
     },
     "metadata": {},
     "output_type": "display_data"
    },
    {
     "name": "stdout",
     "output_type": "stream",
     "text": [
      "✅ Downloaded: /glade/work/milesep/era5_cds/era5_pl_2005_08.nc\n"
     ]
    },
    {
     "name": "stderr",
     "output_type": "stream",
     "text": [
      "2025-08-17 02:52:59,663 WARNING [2025-08-17T08:52:59.588573] You are using a deprecated API endpoint. If you are using cdsapi, please upgrade to the latest version.\n",
      "2025-08-17 02:52:59,664 INFO Request ID is cf21dd0a-940c-4d32-80b1-c010d24e3eb7\n",
      "2025-08-17 02:52:59,850 INFO status has been updated to accepted\n",
      "2025-08-17 02:53:07,468 INFO status has been updated to running\n",
      "2025-08-17 02:53:32,034 INFO status has been updated to successful\n"
     ]
    },
    {
     "data": {
      "application/vnd.jupyter.widget-view+json": {
       "model_id": "10063e386eb2458392f07aee88dc9fe8",
       "version_major": 2,
       "version_minor": 0
      },
      "text/plain": [
       "7e9b2e04edf673ebcbdfc0bf2373d04b.zip:   0%|          | 0.00/19.1M [00:00<?, ?B/s]"
      ]
     },
     "metadata": {},
     "output_type": "display_data"
    },
    {
     "name": "stdout",
     "output_type": "stream",
     "text": [
      "✅ Downloaded: /glade/work/milesep/era5_cds/era5_sfc_2005_08.nc\n",
      "2005 9 22\n"
     ]
    },
    {
     "name": "stderr",
     "output_type": "stream",
     "text": [
      "2025-08-17 02:53:38,846 WARNING [2025-08-17T08:53:38.773663] You are using a deprecated API endpoint. If you are using cdsapi, please upgrade to the latest version.\n",
      "2025-08-17 02:53:38,847 INFO Request ID is 8e134fd3-1832-4cee-a967-8148950a2b09\n",
      "2025-08-17 02:53:39,020 INFO status has been updated to accepted\n",
      "2025-08-17 02:53:52,155 INFO status has been updated to running\n",
      "2025-08-17 02:57:58,676 INFO status has been updated to successful\n"
     ]
    },
    {
     "data": {
      "application/vnd.jupyter.widget-view+json": {
       "model_id": "b0649146a1b4408dbb214560aab9bf9d",
       "version_major": 2,
       "version_minor": 0
      },
      "text/plain": [
       "93d6dc471d60499b09cfadd89e21d130.nc:   0%|          | 0.00/144M [00:00<?, ?B/s]"
      ]
     },
     "metadata": {},
     "output_type": "display_data"
    },
    {
     "name": "stdout",
     "output_type": "stream",
     "text": [
      "✅ Downloaded: /glade/work/milesep/era5_cds/era5_pl_2005_09.nc\n"
     ]
    },
    {
     "name": "stderr",
     "output_type": "stream",
     "text": [
      "2025-08-17 02:58:17,136 WARNING [2025-08-17T08:58:17.064234] You are using a deprecated API endpoint. If you are using cdsapi, please upgrade to the latest version.\n",
      "2025-08-17 02:58:17,137 INFO Request ID is 39d0366d-6511-4ecd-9405-ae3343a392bb\n",
      "2025-08-17 02:58:17,365 INFO status has been updated to accepted\n",
      "2025-08-17 02:58:25,129 INFO status has been updated to running\n",
      "2025-08-17 02:59:06,994 INFO status has been updated to successful\n"
     ]
    },
    {
     "data": {
      "application/vnd.jupyter.widget-view+json": {
       "model_id": "e34cbcd8b0894fe3bc7eace07646afda",
       "version_major": 2,
       "version_minor": 0
      },
      "text/plain": [
       "7e5bcb5f311fe1e31c18257c957121c.zip:   0%|          | 0.00/16.8M [00:00<?, ?B/s]"
      ]
     },
     "metadata": {},
     "output_type": "display_data"
    },
    {
     "name": "stdout",
     "output_type": "stream",
     "text": [
      "✅ Downloaded: /glade/work/milesep/era5_cds/era5_sfc_2005_09.nc\n",
      "2005 10 11\n"
     ]
    },
    {
     "name": "stderr",
     "output_type": "stream",
     "text": [
      "2025-08-17 02:59:11,446 WARNING [2025-08-17T08:59:11.374283] You are using a deprecated API endpoint. If you are using cdsapi, please upgrade to the latest version.\n",
      "2025-08-17 02:59:11,447 INFO Request ID is 440ce669-621c-4ae8-acdd-aec54399e0b8\n",
      "2025-08-17 02:59:11,645 INFO status has been updated to accepted\n",
      "2025-08-17 02:59:19,323 INFO status has been updated to running\n",
      "2025-08-17 03:01:05,629 INFO status has been updated to successful\n"
     ]
    },
    {
     "data": {
      "application/vnd.jupyter.widget-view+json": {
       "model_id": "eecf34825c4942d1ac0bbf38eabf3015",
       "version_major": 2,
       "version_minor": 0
      },
      "text/plain": [
       "da78a38ff3720970900da7ec0513024a.nc:   0%|          | 0.00/67.4M [00:00<?, ?B/s]"
      ]
     },
     "metadata": {},
     "output_type": "display_data"
    },
    {
     "name": "stdout",
     "output_type": "stream",
     "text": [
      "✅ Downloaded: /glade/work/milesep/era5_cds/era5_pl_2005_10.nc\n"
     ]
    },
    {
     "name": "stderr",
     "output_type": "stream",
     "text": [
      "2025-08-17 03:01:17,818 WARNING [2025-08-17T09:01:17.745883] You are using a deprecated API endpoint. If you are using cdsapi, please upgrade to the latest version.\n",
      "2025-08-17 03:01:17,819 INFO Request ID is 2d64ed6c-c672-4a25-a71c-28423a22d352\n",
      "2025-08-17 03:01:17,987 INFO status has been updated to accepted\n",
      "2025-08-17 03:01:31,036 INFO status has been updated to running\n",
      "2025-08-17 03:01:50,329 INFO status has been updated to successful\n"
     ]
    },
    {
     "data": {
      "application/vnd.jupyter.widget-view+json": {
       "model_id": "7d499517afc1410a9d762c7a08e134a8",
       "version_major": 2,
       "version_minor": 0
      },
      "text/plain": [
       "a6cf0ea44f8b774e2ddb9fdd657d1124.zip:   0%|          | 0.00/8.32M [00:00<?, ?B/s]"
      ]
     },
     "metadata": {},
     "output_type": "display_data"
    },
    {
     "name": "stdout",
     "output_type": "stream",
     "text": [
      "✅ Downloaded: /glade/work/milesep/era5_cds/era5_sfc_2005_10.nc\n",
      "2005 11 14\n"
     ]
    },
    {
     "name": "stderr",
     "output_type": "stream",
     "text": [
      "2025-08-17 03:01:53,343 WARNING [2025-08-17T09:01:53.271937] You are using a deprecated API endpoint. If you are using cdsapi, please upgrade to the latest version.\n",
      "2025-08-17 03:01:53,344 INFO Request ID is f221cc00-7795-4963-842a-83b3d61d2460\n",
      "2025-08-17 03:01:53,517 INFO status has been updated to accepted\n",
      "2025-08-17 03:02:01,123 INFO status has been updated to running\n",
      "2025-08-17 03:03:47,337 INFO status has been updated to successful\n"
     ]
    },
    {
     "data": {
      "application/vnd.jupyter.widget-view+json": {
       "model_id": "58b8a5674ae04538a755e287755b8140",
       "version_major": 2,
       "version_minor": 0
      },
      "text/plain": [
       "b4b25bac007d2757a4a307b6c74580b6.nc:   0%|          | 0.00/87.1M [00:00<?, ?B/s]"
      ]
     },
     "metadata": {},
     "output_type": "display_data"
    },
    {
     "name": "stdout",
     "output_type": "stream",
     "text": [
      "✅ Downloaded: /glade/work/milesep/era5_cds/era5_pl_2005_11.nc\n"
     ]
    },
    {
     "name": "stderr",
     "output_type": "stream",
     "text": [
      "2025-08-17 03:04:05,423 WARNING [2025-08-17T09:04:05.350681] You are using a deprecated API endpoint. If you are using cdsapi, please upgrade to the latest version.\n",
      "2025-08-17 03:04:05,424 INFO Request ID is c3119f24-85e8-4025-8822-40e734966c05\n",
      "2025-08-17 03:04:05,576 INFO status has been updated to accepted\n",
      "2025-08-17 03:04:13,342 INFO status has been updated to running\n",
      "2025-08-17 03:04:37,849 INFO status has been updated to successful\n"
     ]
    },
    {
     "name": "stdout",
     "output_type": "stream",
     "text": [
      "⚠️ Attempt 1 failed for /glade/work/milesep/era5_cds/era5_sfc_2005_11.nc: Result not ready, job is running\n",
      "Retrying in 30s...\n"
     ]
    },
    {
     "name": "stderr",
     "output_type": "stream",
     "text": [
      "2025-08-17 03:05:08,295 WARNING [2025-08-17T09:05:08.223529] You are using a deprecated API endpoint. If you are using cdsapi, please upgrade to the latest version.\n",
      "2025-08-17 03:05:08,295 INFO Request ID is 107d061c-231b-4fcf-a91b-e5cc0eaa80af\n",
      "2025-08-17 03:05:08,464 INFO status has been updated to accepted\n",
      "2025-08-17 03:05:16,216 INFO status has been updated to running\n",
      "2025-08-17 03:05:21,450 INFO status has been updated to successful\n"
     ]
    },
    {
     "data": {
      "application/vnd.jupyter.widget-view+json": {
       "model_id": "94608845288b47749f592b05d3fa77fe",
       "version_major": 2,
       "version_minor": 0
      },
      "text/plain": [
       "b292b7a3d93d4f774cd75429d06e052e.zip:   0%|          | 0.00/10.5M [00:00<?, ?B/s]"
      ]
     },
     "metadata": {},
     "output_type": "display_data"
    },
    {
     "name": "stdout",
     "output_type": "stream",
     "text": [
      "✅ Downloaded: /glade/work/milesep/era5_cds/era5_sfc_2005_11.nc\n",
      "2005 12 8\n"
     ]
    },
    {
     "name": "stderr",
     "output_type": "stream",
     "text": [
      "2025-08-17 03:05:26,393 WARNING [2025-08-17T09:05:26.322850] You are using a deprecated API endpoint. If you are using cdsapi, please upgrade to the latest version.\n",
      "2025-08-17 03:05:26,394 INFO Request ID is 14cedf5e-56d6-4096-800d-c6cb51d24de7\n",
      "2025-08-17 03:05:26,682 INFO status has been updated to accepted\n",
      "2025-08-17 03:05:39,507 INFO status has been updated to running\n",
      "2025-08-17 03:06:41,997 INFO status has been updated to successful\n"
     ]
    },
    {
     "data": {
      "application/vnd.jupyter.widget-view+json": {
       "model_id": "7c78eeae6c1e4db7887b597a2b9009cf",
       "version_major": 2,
       "version_minor": 0
      },
      "text/plain": [
       "21cfcfd4ff464219d8397761c5356ee5.nc:   0%|          | 0.00/48.1M [00:00<?, ?B/s]"
      ]
     },
     "metadata": {},
     "output_type": "display_data"
    },
    {
     "name": "stdout",
     "output_type": "stream",
     "text": [
      "✅ Downloaded: /glade/work/milesep/era5_cds/era5_pl_2005_12.nc\n"
     ]
    },
    {
     "name": "stderr",
     "output_type": "stream",
     "text": [
      "2025-08-17 03:06:50,445 WARNING [2025-08-17T09:06:50.375350] You are using a deprecated API endpoint. If you are using cdsapi, please upgrade to the latest version.\n",
      "2025-08-17 03:06:50,446 INFO Request ID is c9c6428b-f627-4b9f-937a-bafd6fe31f29\n",
      "2025-08-17 03:06:50,618 INFO status has been updated to accepted\n",
      "2025-08-17 03:07:03,627 INFO status has been updated to running\n",
      "2025-08-17 03:07:22,922 INFO status has been updated to successful\n"
     ]
    },
    {
     "data": {
      "application/vnd.jupyter.widget-view+json": {
       "model_id": "d4186c293650433d80ead60e24f6cf5b",
       "version_major": 2,
       "version_minor": 0
      },
      "text/plain": [
       "e5718b4c1919375642e8eb787ea92132.zip:   0%|          | 0.00/6.09M [00:00<?, ?B/s]"
      ]
     },
     "metadata": {},
     "output_type": "display_data"
    },
    {
     "name": "stdout",
     "output_type": "stream",
     "text": [
      "✅ Downloaded: /glade/work/milesep/era5_cds/era5_sfc_2005_12.nc\n",
      "2006 1 8\n"
     ]
    },
    {
     "name": "stderr",
     "output_type": "stream",
     "text": [
      "2025-08-17 03:07:25,956 WARNING [2025-08-17T09:07:25.886220] You are using a deprecated API endpoint. If you are using cdsapi, please upgrade to the latest version.\n",
      "2025-08-17 03:07:25,957 INFO Request ID is a8b183c6-0ba4-4db3-9d61-38fd9cf31cec\n",
      "2025-08-17 03:07:26,125 INFO status has been updated to accepted\n",
      "2025-08-17 03:07:38,948 INFO status has been updated to running\n",
      "2025-08-17 03:08:41,311 INFO status has been updated to successful\n"
     ]
    },
    {
     "data": {
      "application/vnd.jupyter.widget-view+json": {
       "model_id": "d5727462bb6d478d9d338adcd3f7b01a",
       "version_major": 2,
       "version_minor": 0
      },
      "text/plain": [
       "d3a64b1216167e1cc9db1e58a781c343.nc:   0%|          | 0.00/48.6M [00:00<?, ?B/s]"
      ]
     },
     "metadata": {},
     "output_type": "display_data"
    },
    {
     "name": "stdout",
     "output_type": "stream",
     "text": [
      "✅ Downloaded: /glade/work/milesep/era5_cds/era5_pl_2006_01.nc\n"
     ]
    },
    {
     "name": "stderr",
     "output_type": "stream",
     "text": [
      "2025-08-17 03:08:53,365 WARNING [2025-08-17T09:08:53.281088] You are using a deprecated API endpoint. If you are using cdsapi, please upgrade to the latest version.\n",
      "2025-08-17 03:08:53,365 INFO Request ID is 46bc1e1a-85ba-4d62-83cd-fb5b2a7ab429\n",
      "2025-08-17 03:08:53,534 INFO status has been updated to accepted\n",
      "2025-08-17 03:09:01,127 INFO status has been updated to running\n",
      "2025-08-17 03:09:14,124 INFO status has been updated to successful\n"
     ]
    },
    {
     "data": {
      "application/vnd.jupyter.widget-view+json": {
       "model_id": "a10a79cbc24347ffa2e1a2bf541e3eae",
       "version_major": 2,
       "version_minor": 0
      },
      "text/plain": [
       "5aee3f315def1fb368fde2af2c46571d.zip:   0%|          | 0.00/6.05M [00:00<?, ?B/s]"
      ]
     },
     "metadata": {},
     "output_type": "display_data"
    },
    {
     "name": "stdout",
     "output_type": "stream",
     "text": [
      "✅ Downloaded: /glade/work/milesep/era5_cds/era5_sfc_2006_01.nc\n",
      "2006 2 5\n"
     ]
    },
    {
     "name": "stderr",
     "output_type": "stream",
     "text": [
      "2025-08-17 03:09:17,407 WARNING [2025-08-17T09:09:17.335262] You are using a deprecated API endpoint. If you are using cdsapi, please upgrade to the latest version.\n",
      "2025-08-17 03:09:17,408 INFO Request ID is ee65d88c-924d-451b-9b9c-12b5a61df616\n",
      "2025-08-17 03:09:17,574 INFO status has been updated to accepted\n",
      "2025-08-17 03:09:25,184 INFO status has been updated to running\n",
      "2025-08-17 03:10:06,921 INFO status has been updated to successful\n"
     ]
    },
    {
     "data": {
      "application/vnd.jupyter.widget-view+json": {
       "model_id": "e633ec781302406298a85fe2aea1f7a5",
       "version_major": 2,
       "version_minor": 0
      },
      "text/plain": [
       "b185140749c54719ca586e30a6546576.nc:   0%|          | 0.00/30.2M [00:00<?, ?B/s]"
      ]
     },
     "metadata": {},
     "output_type": "display_data"
    },
    {
     "name": "stdout",
     "output_type": "stream",
     "text": [
      "✅ Downloaded: /glade/work/milesep/era5_cds/era5_pl_2006_02.nc\n"
     ]
    },
    {
     "name": "stderr",
     "output_type": "stream",
     "text": [
      "2025-08-17 03:10:12,126 WARNING [2025-08-17T09:10:12.055110] You are using a deprecated API endpoint. If you are using cdsapi, please upgrade to the latest version.\n",
      "2025-08-17 03:10:12,127 INFO Request ID is fc150880-5950-4196-9711-f1d169df9e55\n",
      "2025-08-17 03:10:12,300 INFO status has been updated to accepted\n",
      "2025-08-17 03:10:19,951 INFO status has been updated to running\n",
      "2025-08-17 03:10:32,908 INFO status has been updated to successful\n"
     ]
    },
    {
     "data": {
      "application/vnd.jupyter.widget-view+json": {
       "model_id": "cc567fb21cfb49448441190543b84a8e",
       "version_major": 2,
       "version_minor": 0
      },
      "text/plain": [
       "4e75cdea6ca2ed207ef55ade8edb521b.zip:   0%|          | 0.00/3.85M [00:00<?, ?B/s]"
      ]
     },
     "metadata": {},
     "output_type": "display_data"
    },
    {
     "name": "stdout",
     "output_type": "stream",
     "text": [
      "✅ Downloaded: /glade/work/milesep/era5_cds/era5_sfc_2006_02.nc\n",
      "2006 3 17\n"
     ]
    },
    {
     "name": "stderr",
     "output_type": "stream",
     "text": [
      "2025-08-17 03:10:36,545 WARNING [2025-08-17T09:10:36.472279] You are using a deprecated API endpoint. If you are using cdsapi, please upgrade to the latest version.\n",
      "2025-08-17 03:10:36,546 INFO Request ID is 3a9856b8-841d-43d5-8253-71b57ea4d89f\n",
      "2025-08-17 03:10:36,718 INFO status has been updated to accepted\n",
      "2025-08-17 03:10:49,697 INFO status has been updated to running\n",
      "2025-08-17 03:13:28,877 INFO status has been updated to successful\n"
     ]
    },
    {
     "data": {
      "application/vnd.jupyter.widget-view+json": {
       "model_id": "19ebdf1265364c6ba1cd4dd00b1c3f57",
       "version_major": 2,
       "version_minor": 0
      },
      "text/plain": [
       "fe6d5d1728fd8a72fb0ee6775ea5f13a.nc:   0%|          | 0.00/111M [00:00<?, ?B/s]"
      ]
     },
     "metadata": {},
     "output_type": "display_data"
    },
    {
     "name": "stdout",
     "output_type": "stream",
     "text": [
      "✅ Downloaded: /glade/work/milesep/era5_cds/era5_pl_2006_03.nc\n"
     ]
    },
    {
     "name": "stderr",
     "output_type": "stream",
     "text": [
      "2025-08-17 03:13:39,030 WARNING [2025-08-17T09:13:38.944052] You are using a deprecated API endpoint. If you are using cdsapi, please upgrade to the latest version.\n",
      "2025-08-17 03:13:39,031 INFO Request ID is 57c62b1c-9d77-47f4-96d4-7adcf15e6910\n",
      "2025-08-17 03:13:39,534 INFO status has been updated to accepted\n",
      "2025-08-17 03:13:52,402 INFO status has been updated to running\n",
      "2025-08-17 03:14:11,710 INFO status has been updated to successful\n"
     ]
    },
    {
     "data": {
      "application/vnd.jupyter.widget-view+json": {
       "model_id": "7fcfb6521c8240d194dcfcc3ff09797a",
       "version_major": 2,
       "version_minor": 0
      },
      "text/plain": [
       "3cfa14cf0cd171189a47dd67e220d7a2.zip:   0%|          | 0.00/13.0M [00:00<?, ?B/s]"
      ]
     },
     "metadata": {},
     "output_type": "display_data"
    },
    {
     "name": "stdout",
     "output_type": "stream",
     "text": [
      "✅ Downloaded: /glade/work/milesep/era5_cds/era5_sfc_2006_03.nc\n",
      "2006 4 28\n"
     ]
    },
    {
     "name": "stderr",
     "output_type": "stream",
     "text": [
      "2025-08-17 03:14:15,827 WARNING [2025-08-17T09:14:15.752749] You are using a deprecated API endpoint. If you are using cdsapi, please upgrade to the latest version.\n",
      "2025-08-17 03:14:15,828 INFO Request ID is 363591a5-409e-4eaa-9a66-b2748231286d\n",
      "2025-08-17 03:14:16,055 INFO status has been updated to accepted\n",
      "2025-08-17 03:14:28,897 INFO status has been updated to running\n",
      "2025-08-17 03:18:35,316 INFO status has been updated to successful\n"
     ]
    },
    {
     "data": {
      "application/vnd.jupyter.widget-view+json": {
       "model_id": "16e9e5b960d8406881b333bd48743f74",
       "version_major": 2,
       "version_minor": 0
      },
      "text/plain": [
       "4cc2969229ab8b11908333b9f26ee2b7.nc:   0%|          | 0.00/187M [00:00<?, ?B/s]"
      ]
     },
     "metadata": {},
     "output_type": "display_data"
    },
    {
     "name": "stdout",
     "output_type": "stream",
     "text": [
      "✅ Downloaded: /glade/work/milesep/era5_cds/era5_pl_2006_04.nc\n"
     ]
    },
    {
     "name": "stderr",
     "output_type": "stream",
     "text": [
      "2025-08-17 03:19:23,156 WARNING [2025-08-17T09:19:23.084549] You are using a deprecated API endpoint. If you are using cdsapi, please upgrade to the latest version.\n",
      "2025-08-17 03:19:23,157 INFO Request ID is d51c6785-2dba-4720-8832-54f31aaaf85c\n",
      "2025-08-17 03:19:23,309 INFO status has been updated to accepted\n",
      "2025-08-17 03:19:31,024 INFO status has been updated to running\n",
      "2025-08-17 03:20:12,882 INFO status has been updated to successful\n"
     ]
    },
    {
     "data": {
      "application/vnd.jupyter.widget-view+json": {
       "model_id": "ecaebf421eff4cbfae478b2396106426",
       "version_major": 2,
       "version_minor": 0
      },
      "text/plain": [
       "d201a9e8a992096e419fae867f1ca95c.zip:   0%|          | 0.00/21.6M [00:00<?, ?B/s]"
      ]
     },
     "metadata": {},
     "output_type": "display_data"
    },
    {
     "name": "stdout",
     "output_type": "stream",
     "text": [
      "✅ Downloaded: /glade/work/milesep/era5_cds/era5_sfc_2006_04.nc\n",
      "2006 5 29\n"
     ]
    },
    {
     "name": "stderr",
     "output_type": "stream",
     "text": [
      "2025-08-17 03:20:16,859 WARNING [2025-08-17T09:20:16.791681] You are using a deprecated API endpoint. If you are using cdsapi, please upgrade to the latest version.\n",
      "2025-08-17 03:20:16,860 INFO Request ID is 10998344-cffd-4aff-89ca-038737d7acd5\n",
      "2025-08-17 03:20:17,015 INFO status has been updated to accepted\n",
      "2025-08-17 03:20:29,863 INFO status has been updated to running\n",
      "2025-08-17 03:24:35,927 INFO status has been updated to successful\n"
     ]
    },
    {
     "data": {
      "application/vnd.jupyter.widget-view+json": {
       "model_id": "d2e1129c8198418b8ddccba320509162",
       "version_major": 2,
       "version_minor": 0
      },
      "text/plain": [
       "b64efd3696701ccda93d905cf1bbcf7.nc:   0%|          | 0.00/194M [00:00<?, ?B/s]"
      ]
     },
     "metadata": {},
     "output_type": "display_data"
    },
    {
     "name": "stdout",
     "output_type": "stream",
     "text": [
      "✅ Downloaded: /glade/work/milesep/era5_cds/era5_pl_2006_05.nc\n"
     ]
    },
    {
     "name": "stderr",
     "output_type": "stream",
     "text": [
      "2025-08-17 03:24:55,731 WARNING [2025-08-17T09:24:55.656355] You are using a deprecated API endpoint. If you are using cdsapi, please upgrade to the latest version.\n",
      "2025-08-17 03:24:55,731 INFO Request ID is 164495a4-d38e-4ba5-82f1-72665622a9d3\n",
      "2025-08-17 03:24:55,904 INFO status has been updated to accepted\n",
      "2025-08-17 03:25:03,535 INFO status has been updated to running\n",
      "2025-08-17 03:25:45,334 INFO status has been updated to successful\n"
     ]
    },
    {
     "data": {
      "application/vnd.jupyter.widget-view+json": {
       "model_id": "cb714bf502b24aefb3c51a3e44f1bbef",
       "version_major": 2,
       "version_minor": 0
      },
      "text/plain": [
       "bc7d50180db22d0da84b99747e9cae86.zip:   0%|          | 0.00/22.5M [00:00<?, ?B/s]"
      ]
     },
     "metadata": {},
     "output_type": "display_data"
    },
    {
     "name": "stdout",
     "output_type": "stream",
     "text": [
      "✅ Downloaded: /glade/work/milesep/era5_cds/era5_sfc_2006_05.nc\n",
      "2006 6 30\n"
     ]
    },
    {
     "name": "stderr",
     "output_type": "stream",
     "text": [
      "2025-08-17 03:25:49,000 WARNING [2025-08-17T09:25:48.930350] You are using a deprecated API endpoint. If you are using cdsapi, please upgrade to the latest version.\n",
      "2025-08-17 03:25:49,001 INFO Request ID is 8802c704-9c35-4fae-894e-7ec81e0a5930\n",
      "2025-08-17 03:25:49,167 INFO status has been updated to accepted\n",
      "2025-08-17 03:25:56,774 INFO status has been updated to running\n",
      "2025-08-17 03:30:08,465 INFO status has been updated to successful\n"
     ]
    },
    {
     "data": {
      "application/vnd.jupyter.widget-view+json": {
       "model_id": "3da6d7ad082f4ad59c6e39d3bb5fac6a",
       "version_major": 2,
       "version_minor": 0
      },
      "text/plain": [
       "c3e29e403a8e0e1e5cbadd8849e9f406.nc:   0%|          | 0.00/201M [00:00<?, ?B/s]"
      ]
     },
     "metadata": {},
     "output_type": "display_data"
    },
    {
     "name": "stdout",
     "output_type": "stream",
     "text": [
      "✅ Downloaded: /glade/work/milesep/era5_cds/era5_pl_2006_06.nc\n"
     ]
    },
    {
     "name": "stderr",
     "output_type": "stream",
     "text": [
      "2025-08-17 03:33:43,598 WARNING [2025-08-17T09:33:43.532304] You are using a deprecated API endpoint. If you are using cdsapi, please upgrade to the latest version.\n",
      "2025-08-17 03:33:43,599 INFO Request ID is f264fcd0-dbb5-4684-bce4-76ae98a9a9de\n",
      "2025-08-17 03:33:43,766 INFO status has been updated to accepted\n",
      "2025-08-17 03:33:51,410 INFO status has been updated to running\n",
      "2025-08-17 03:34:33,194 INFO status has been updated to successful\n"
     ]
    },
    {
     "data": {
      "application/vnd.jupyter.widget-view+json": {
       "model_id": "a12a9c977d3b4c0b97fde175934813fe",
       "version_major": 2,
       "version_minor": 0
      },
      "text/plain": [
       "9583c733d6c25d216ff105678f0672ff.zip:   0%|          | 0.00/23.2M [00:00<?, ?B/s]"
      ]
     },
     "metadata": {},
     "output_type": "display_data"
    },
    {
     "name": "stdout",
     "output_type": "stream",
     "text": [
      "✅ Downloaded: /glade/work/milesep/era5_cds/era5_sfc_2006_06.nc\n",
      "2006 7 29\n"
     ]
    },
    {
     "name": "stderr",
     "output_type": "stream",
     "text": [
      "2025-08-17 03:34:37,017 WARNING [2025-08-17T09:34:36.947401] You are using a deprecated API endpoint. If you are using cdsapi, please upgrade to the latest version.\n",
      "2025-08-17 03:34:37,018 INFO Request ID is fccb7452-2a90-467e-8d2b-c5bc8e67f431\n",
      "2025-08-17 03:34:37,166 INFO status has been updated to accepted\n",
      "2025-08-17 03:34:50,121 INFO status has been updated to running\n",
      "2025-08-17 03:34:57,877 INFO status has been updated to accepted\n",
      "2025-08-17 03:35:09,415 INFO status has been updated to running\n",
      "2025-08-17 03:38:56,291 INFO status has been updated to successful\n"
     ]
    },
    {
     "data": {
      "application/vnd.jupyter.widget-view+json": {
       "model_id": "beb667f8e84049eab355ba1801f0a2bc",
       "version_major": 2,
       "version_minor": 0
      },
      "text/plain": [
       "2c2c67148ddc321634574619d5b99099.nc:   0%|          | 0.00/194M [00:00<?, ?B/s]"
      ]
     },
     "metadata": {},
     "output_type": "display_data"
    },
    {
     "name": "stdout",
     "output_type": "stream",
     "text": [
      "✅ Downloaded: /glade/work/milesep/era5_cds/era5_pl_2006_07.nc\n"
     ]
    },
    {
     "name": "stderr",
     "output_type": "stream",
     "text": [
      "2025-08-17 03:39:52,800 WARNING [2025-08-17T09:39:52.731530] You are using a deprecated API endpoint. If you are using cdsapi, please upgrade to the latest version.\n",
      "2025-08-17 03:39:52,801 INFO Request ID is 41043835-e278-4fcd-8d89-10036c277808\n",
      "2025-08-17 03:39:52,962 INFO status has been updated to accepted\n",
      "2025-08-17 03:40:05,822 INFO status has been updated to running\n",
      "2025-08-17 03:41:08,174 INFO status has been updated to successful\n"
     ]
    },
    {
     "data": {
      "application/vnd.jupyter.widget-view+json": {
       "model_id": "2f819a337d344f7386f386215b3d555a",
       "version_major": 2,
       "version_minor": 0
      },
      "text/plain": [
       "97c8b321bc63b765c8879a7c369cb284.zip:   0%|          | 0.00/22.3M [00:00<?, ?B/s]"
      ]
     },
     "metadata": {},
     "output_type": "display_data"
    },
    {
     "name": "stdout",
     "output_type": "stream",
     "text": [
      "✅ Downloaded: /glade/work/milesep/era5_cds/era5_sfc_2006_07.nc\n",
      "2006 8 28\n"
     ]
    },
    {
     "name": "stderr",
     "output_type": "stream",
     "text": [
      "2025-08-17 03:41:12,174 WARNING [2025-08-17T09:41:12.107211] You are using a deprecated API endpoint. If you are using cdsapi, please upgrade to the latest version.\n",
      "2025-08-17 03:41:12,175 INFO Request ID is d4a01c2d-a842-48a0-9c81-bd4e17665cd0\n",
      "2025-08-17 03:41:12,341 INFO status has been updated to accepted\n",
      "2025-08-17 03:41:19,984 INFO status has been updated to running\n",
      "2025-08-17 03:45:32,145 INFO status has been updated to successful\n"
     ]
    },
    {
     "data": {
      "application/vnd.jupyter.widget-view+json": {
       "model_id": "c1fa294ba2a04df086636542f84b872d",
       "version_major": 2,
       "version_minor": 0
      },
      "text/plain": [
       "459d327f509f5786879378ebcc64b7f3.nc:   0%|          | 0.00/187M [00:00<?, ?B/s]"
      ]
     },
     "metadata": {},
     "output_type": "display_data"
    },
    {
     "name": "stdout",
     "output_type": "stream",
     "text": [
      "✅ Downloaded: /glade/work/milesep/era5_cds/era5_pl_2006_08.nc\n"
     ]
    },
    {
     "name": "stderr",
     "output_type": "stream",
     "text": [
      "2025-08-17 03:45:59,346 WARNING [2025-08-17T09:45:59.275273] You are using a deprecated API endpoint. If you are using cdsapi, please upgrade to the latest version.\n",
      "2025-08-17 03:45:59,347 INFO Request ID is 23d0e67f-57a2-4c48-9ed8-969310c6c483\n",
      "2025-08-17 03:45:59,514 INFO status has been updated to accepted\n",
      "2025-08-17 03:46:07,125 INFO status has been updated to running\n",
      "2025-08-17 03:46:48,912 INFO status has been updated to successful\n"
     ]
    },
    {
     "name": "stdout",
     "output_type": "stream",
     "text": [
      "⚠️ Attempt 1 failed for /glade/work/milesep/era5_cds/era5_sfc_2006_08.nc: Result not ready, job is running\n",
      "Retrying in 30s...\n"
     ]
    },
    {
     "name": "stderr",
     "output_type": "stream",
     "text": [
      "2025-08-17 03:47:19,542 WARNING [2025-08-17T09:47:19.470218] You are using a deprecated API endpoint. If you are using cdsapi, please upgrade to the latest version.\n",
      "2025-08-17 03:47:19,543 INFO Request ID is 95c1e511-d35a-4da8-b5b8-4980311341b3\n",
      "2025-08-17 03:47:19,719 INFO status has been updated to accepted\n",
      "2025-08-17 03:47:27,349 INFO status has been updated to successful\n"
     ]
    },
    {
     "name": "stdout",
     "output_type": "stream",
     "text": [
      "⚠️ Attempt 2 failed for /glade/work/milesep/era5_cds/era5_sfc_2006_08.nc: Result not ready, job is accepted\n",
      "Retrying in 60s...\n"
     ]
    },
    {
     "name": "stderr",
     "output_type": "stream",
     "text": [
      "2025-08-17 03:48:28,329 WARNING [2025-08-17T09:48:28.260305] You are using a deprecated API endpoint. If you are using cdsapi, please upgrade to the latest version.\n",
      "2025-08-17 03:48:28,330 INFO Request ID is 5472369f-65be-4edf-bf3e-a9501303c273\n",
      "2025-08-17 03:48:28,505 INFO status has been updated to accepted\n",
      "2025-08-17 03:48:36,169 INFO status has been updated to running\n",
      "2025-08-17 03:48:41,400 INFO status has been updated to successful\n"
     ]
    },
    {
     "data": {
      "application/vnd.jupyter.widget-view+json": {
       "model_id": "2cf5d791961940efb88fd09fa009239e",
       "version_major": 2,
       "version_minor": 0
      },
      "text/plain": [
       "db6343253dac05637f4c3df3c1e6ff3b.zip:   0%|          | 0.00/21.4M [00:00<?, ?B/s]"
      ]
     },
     "metadata": {},
     "output_type": "display_data"
    },
    {
     "name": "stdout",
     "output_type": "stream",
     "text": [
      "✅ Downloaded: /glade/work/milesep/era5_cds/era5_sfc_2006_08.nc\n",
      "2006 9 18\n"
     ]
    },
    {
     "name": "stderr",
     "output_type": "stream",
     "text": [
      "2025-08-17 03:48:45,686 WARNING [2025-08-17T09:48:45.619787] You are using a deprecated API endpoint. If you are using cdsapi, please upgrade to the latest version.\n",
      "2025-08-17 03:48:45,687 INFO Request ID is 6d96035b-c821-486d-b83c-2ab6c10149da\n",
      "2025-08-17 03:48:45,846 INFO status has been updated to accepted\n",
      "2025-08-17 03:48:58,673 INFO status has been updated to running\n",
      "2025-08-17 03:53:04,828 INFO status has been updated to successful\n"
     ]
    },
    {
     "data": {
      "application/vnd.jupyter.widget-view+json": {
       "model_id": "318ca29207034e43bf47488c5d33e1c1",
       "version_major": 2,
       "version_minor": 0
      },
      "text/plain": [
       "a3c954f6ef99795461d4c604cb7e825b.nc:   0%|          | 0.00/116M [00:00<?, ?B/s]"
      ]
     },
     "metadata": {},
     "output_type": "display_data"
    },
    {
     "name": "stdout",
     "output_type": "stream",
     "text": [
      "✅ Downloaded: /glade/work/milesep/era5_cds/era5_pl_2006_09.nc\n"
     ]
    },
    {
     "name": "stderr",
     "output_type": "stream",
     "text": [
      "2025-08-17 03:53:14,416 WARNING [2025-08-17T09:53:14.344108] You are using a deprecated API endpoint. If you are using cdsapi, please upgrade to the latest version.\n",
      "2025-08-17 03:53:14,416 INFO Request ID is 0e66b0f8-ec9d-4df6-8e3a-f40a0e80ac2f\n",
      "2025-08-17 03:53:14,583 INFO status has been updated to accepted\n",
      "2025-08-17 03:53:46,754 INFO status has been updated to successful\n"
     ]
    },
    {
     "data": {
      "application/vnd.jupyter.widget-view+json": {
       "model_id": "155d13a0cc71478694edddab597fc6cb",
       "version_major": 2,
       "version_minor": 0
      },
      "text/plain": [
       "48fe68e103399173221dc9d3ba34b348.zip:   0%|          | 0.00/13.7M [00:00<?, ?B/s]"
      ]
     },
     "metadata": {},
     "output_type": "display_data"
    },
    {
     "name": "stdout",
     "output_type": "stream",
     "text": [
      "✅ Downloaded: /glade/work/milesep/era5_cds/era5_sfc_2006_09.nc\n",
      "2006 10 18\n"
     ]
    },
    {
     "name": "stderr",
     "output_type": "stream",
     "text": [
      "2025-08-17 03:53:50,124 WARNING [2025-08-17T09:53:50.055385] You are using a deprecated API endpoint. If you are using cdsapi, please upgrade to the latest version.\n",
      "2025-08-17 03:53:50,125 INFO Request ID is 15d5eb68-6c85-4b83-9893-396c215c5a92\n",
      "2025-08-17 03:53:50,292 INFO status has been updated to accepted\n",
      "2025-08-17 03:54:03,104 INFO status has been updated to running\n",
      "2025-08-17 03:56:42,528 INFO status has been updated to successful\n"
     ]
    },
    {
     "data": {
      "application/vnd.jupyter.widget-view+json": {
       "model_id": "9f34dbc76fd941cb83052ea03c67520d",
       "version_major": 2,
       "version_minor": 0
      },
      "text/plain": [
       "757cddd989f8a355a37349a73271f3e7.nc:   0%|          | 0.00/118M [00:00<?, ?B/s]"
      ]
     },
     "metadata": {},
     "output_type": "display_data"
    },
    {
     "name": "stdout",
     "output_type": "stream",
     "text": [
      "✅ Downloaded: /glade/work/milesep/era5_cds/era5_pl_2006_10.nc\n"
     ]
    },
    {
     "name": "stderr",
     "output_type": "stream",
     "text": [
      "2025-08-17 03:56:54,396 WARNING [2025-08-17T09:56:54.328080] You are using a deprecated API endpoint. If you are using cdsapi, please upgrade to the latest version.\n",
      "2025-08-17 03:56:54,397 INFO Request ID is 26dc5ebd-ac4d-496d-b375-3e98fe8e1759\n",
      "2025-08-17 03:56:54,576 INFO status has been updated to accepted\n",
      "2025-08-17 03:57:02,239 INFO status has been updated to running\n",
      "2025-08-17 03:57:26,751 INFO status has been updated to successful\n"
     ]
    },
    {
     "data": {
      "application/vnd.jupyter.widget-view+json": {
       "model_id": "15e740f680284a9789fe5d8275727ca0",
       "version_major": 2,
       "version_minor": 0
      },
      "text/plain": [
       "eac643a93bfa8aee1e86153ba009f685.zip:   0%|          | 0.00/13.6M [00:00<?, ?B/s]"
      ]
     },
     "metadata": {},
     "output_type": "display_data"
    },
    {
     "name": "stdout",
     "output_type": "stream",
     "text": [
      "✅ Downloaded: /glade/work/milesep/era5_cds/era5_sfc_2006_10.nc\n",
      "2006 11 6\n"
     ]
    },
    {
     "name": "stderr",
     "output_type": "stream",
     "text": [
      "2025-08-17 03:57:30,510 WARNING [2025-08-17T09:57:30.422950] You are using a deprecated API endpoint. If you are using cdsapi, please upgrade to the latest version.\n",
      "2025-08-17 03:57:30,511 INFO Request ID is 4ff5b049-5d36-4387-a573-ab8bb30c9a83\n",
      "2025-08-17 03:57:30,658 INFO status has been updated to accepted\n",
      "2025-08-17 03:57:38,258 INFO status has been updated to running\n",
      "2025-08-17 03:59:24,417 INFO status has been updated to successful\n"
     ]
    },
    {
     "data": {
      "application/vnd.jupyter.widget-view+json": {
       "model_id": "1e088d3420644ceb9afe9e36c14e4852",
       "version_major": 2,
       "version_minor": 0
      },
      "text/plain": [
       "76b58146eeced46a458eb42d22515344.nc:   0%|          | 0.00/37.0M [00:00<?, ?B/s]"
      ]
     },
     "metadata": {},
     "output_type": "display_data"
    },
    {
     "name": "stdout",
     "output_type": "stream",
     "text": [
      "✅ Downloaded: /glade/work/milesep/era5_cds/era5_pl_2006_11.nc\n"
     ]
    },
    {
     "name": "stderr",
     "output_type": "stream",
     "text": [
      "2025-08-17 03:59:29,393 WARNING [2025-08-17T09:59:29.325687] You are using a deprecated API endpoint. If you are using cdsapi, please upgrade to the latest version.\n",
      "2025-08-17 03:59:29,394 INFO Request ID is a9780e8f-9a81-432b-ac20-08b785a68366\n",
      "2025-08-17 03:59:29,575 INFO status has been updated to accepted\n",
      "2025-08-17 03:59:37,191 INFO status has been updated to running\n",
      "2025-08-17 03:59:50,143 INFO status has been updated to successful\n"
     ]
    },
    {
     "data": {
      "application/vnd.jupyter.widget-view+json": {
       "model_id": "858cb064ce6043b7b29bcec3180a6a52",
       "version_major": 2,
       "version_minor": 0
      },
      "text/plain": [
       "f9b92bce4ba0e1ae98a21289dcc67d5a.zip:   0%|          | 0.00/4.56M [00:00<?, ?B/s]"
      ]
     },
     "metadata": {},
     "output_type": "display_data"
    },
    {
     "name": "stderr",
     "output_type": "stream",
     "text": [
      "2025-08-17 03:59:53,060 WARNING [2025-08-17T09:59:52.992934] You are using a deprecated API endpoint. If you are using cdsapi, please upgrade to the latest version.\n",
      "2025-08-17 03:59:53,061 INFO Request ID is 88c0d75e-56de-4d83-9859-8b1cbfadabae\n"
     ]
    },
    {
     "name": "stdout",
     "output_type": "stream",
     "text": [
      "✅ Downloaded: /glade/work/milesep/era5_cds/era5_sfc_2006_11.nc\n",
      "2006 12 6\n"
     ]
    },
    {
     "name": "stderr",
     "output_type": "stream",
     "text": [
      "2025-08-17 03:59:53,225 INFO status has been updated to accepted\n",
      "2025-08-17 04:00:00,904 INFO status has been updated to running\n",
      "2025-08-17 04:01:08,755 INFO status has been updated to successful\n"
     ]
    },
    {
     "data": {
      "application/vnd.jupyter.widget-view+json": {
       "model_id": "cfbfd4c9d1e84ed8b538d4f098cd2311",
       "version_major": 2,
       "version_minor": 0
      },
      "text/plain": [
       "63a93f21984f397b40d6d4c2b88df1ff.nc:   0%|          | 0.00/36.8M [00:00<?, ?B/s]"
      ]
     },
     "metadata": {},
     "output_type": "display_data"
    },
    {
     "name": "stdout",
     "output_type": "stream",
     "text": [
      "✅ Downloaded: /glade/work/milesep/era5_cds/era5_pl_2006_12.nc\n"
     ]
    },
    {
     "name": "stderr",
     "output_type": "stream",
     "text": [
      "2025-08-17 04:01:13,977 WARNING [2025-08-17T10:01:13.908905] You are using a deprecated API endpoint. If you are using cdsapi, please upgrade to the latest version.\n",
      "2025-08-17 04:01:13,978 INFO Request ID is 432fa9a0-4ead-44de-9c2b-168acd227895\n",
      "2025-08-17 04:01:14,148 INFO status has been updated to accepted\n",
      "2025-08-17 04:01:27,544 INFO status has been updated to running\n",
      "2025-08-17 04:01:46,854 INFO status has been updated to successful\n"
     ]
    },
    {
     "data": {
      "application/vnd.jupyter.widget-view+json": {
       "model_id": "bcb8236c4c6b4099b603b3198c6d3b21",
       "version_major": 2,
       "version_minor": 0
      },
      "text/plain": [
       "fe2172f37eab82106267dbe3a071f2cb.zip:   0%|          | 0.00/4.57M [00:00<?, ?B/s]"
      ]
     },
     "metadata": {},
     "output_type": "display_data"
    },
    {
     "name": "stdout",
     "output_type": "stream",
     "text": [
      "✅ Downloaded: /glade/work/milesep/era5_cds/era5_sfc_2006_12.nc\n",
      "2007 1 3\n"
     ]
    },
    {
     "name": "stderr",
     "output_type": "stream",
     "text": [
      "2025-08-17 04:01:49,591 WARNING [2025-08-17T10:01:49.522855] You are using a deprecated API endpoint. If you are using cdsapi, please upgrade to the latest version.\n",
      "2025-08-17 04:01:49,591 INFO Request ID is b224bb32-93c9-4d98-800c-51c938008a9e\n",
      "2025-08-17 04:01:49,738 INFO status has been updated to accepted\n",
      "2025-08-17 04:02:02,657 INFO status has been updated to running\n",
      "2025-08-17 04:02:10,531 INFO status has been updated to accepted\n",
      "2025-08-17 04:02:22,091 INFO status has been updated to running\n",
      "2025-08-17 04:02:39,344 INFO status has been updated to successful\n"
     ]
    },
    {
     "data": {
      "application/vnd.jupyter.widget-view+json": {
       "model_id": "42c0cf7b6f6f4d8c9a7567ce6388f5ed",
       "version_major": 2,
       "version_minor": 0
      },
      "text/plain": [
       "e268b96c1de815fe9c2c285730a637ec.nc:   0%|          | 0.00/18.4M [00:00<?, ?B/s]"
      ]
     },
     "metadata": {},
     "output_type": "display_data"
    },
    {
     "name": "stdout",
     "output_type": "stream",
     "text": [
      "✅ Downloaded: /glade/work/milesep/era5_cds/era5_pl_2007_01.nc\n"
     ]
    },
    {
     "name": "stderr",
     "output_type": "stream",
     "text": [
      "2025-08-17 04:02:42,888 WARNING [2025-08-17T10:02:42.820964] You are using a deprecated API endpoint. If you are using cdsapi, please upgrade to the latest version.\n",
      "2025-08-17 04:02:42,889 INFO Request ID is ecf9e7f0-9a5a-438f-b4ef-92ac7b45467c\n",
      "2025-08-17 04:02:43,060 INFO status has been updated to accepted\n",
      "2025-08-17 04:02:56,119 INFO status has been updated to running\n",
      "2025-08-17 04:03:03,906 INFO status has been updated to successful\n"
     ]
    },
    {
     "data": {
      "application/vnd.jupyter.widget-view+json": {
       "model_id": "8a9d6c9738e84019b6c3dbc1d999832a",
       "version_major": 2,
       "version_minor": 0
      },
      "text/plain": [
       "6769980cb603c6366d30e9e16b9929fb.zip:   0%|          | 0.00/2.31M [00:00<?, ?B/s]"
      ]
     },
     "metadata": {},
     "output_type": "display_data"
    },
    {
     "name": "stdout",
     "output_type": "stream",
     "text": [
      "✅ Downloaded: /glade/work/milesep/era5_cds/era5_sfc_2007_01.nc\n",
      "2007 2 8\n"
     ]
    },
    {
     "name": "stderr",
     "output_type": "stream",
     "text": [
      "2025-08-17 04:03:06,531 WARNING [2025-08-17T10:03:06.463728] You are using a deprecated API endpoint. If you are using cdsapi, please upgrade to the latest version.\n",
      "2025-08-17 04:03:06,532 INFO Request ID is 5301e441-3dd4-4006-aaa1-5d703d43084a\n",
      "2025-08-17 04:03:06,761 INFO status has been updated to accepted\n",
      "2025-08-17 04:03:19,662 INFO status has been updated to running\n",
      "2025-08-17 04:04:22,084 INFO status has been updated to successful\n"
     ]
    },
    {
     "data": {
      "application/vnd.jupyter.widget-view+json": {
       "model_id": "2b517da3f6e54e18ae5356ede1078db3",
       "version_major": 2,
       "version_minor": 0
      },
      "text/plain": [
       "f844cbcfd2f292e4738924d530504169.nc:   0%|          | 0.00/48.1M [00:00<?, ?B/s]"
      ]
     },
     "metadata": {},
     "output_type": "display_data"
    },
    {
     "name": "stdout",
     "output_type": "stream",
     "text": [
      "✅ Downloaded: /glade/work/milesep/era5_cds/era5_pl_2007_02.nc\n"
     ]
    },
    {
     "name": "stderr",
     "output_type": "stream",
     "text": [
      "2025-08-17 04:04:28,929 WARNING [2025-08-17T10:04:28.861287] You are using a deprecated API endpoint. If you are using cdsapi, please upgrade to the latest version.\n",
      "2025-08-17 04:04:28,930 INFO Request ID is 0d5ccd97-742f-4010-8417-05d79189404f\n",
      "2025-08-17 04:04:29,096 INFO status has been updated to accepted\n",
      "2025-08-17 04:04:36,746 INFO status has been updated to running\n",
      "2025-08-17 04:04:49,716 INFO status has been updated to successful\n"
     ]
    },
    {
     "data": {
      "application/vnd.jupyter.widget-view+json": {
       "model_id": "4042c7ed210447a6a366d583a7f17ecf",
       "version_major": 2,
       "version_minor": 0
      },
      "text/plain": [
       "fedf776c05d138084d5b2f0d3f7fd5d7.zip:   0%|          | 0.00/6.10M [00:00<?, ?B/s]"
      ]
     },
     "metadata": {},
     "output_type": "display_data"
    },
    {
     "name": "stdout",
     "output_type": "stream",
     "text": [
      "✅ Downloaded: /glade/work/milesep/era5_cds/era5_sfc_2007_02.nc\n",
      "2007 3 17\n"
     ]
    },
    {
     "name": "stderr",
     "output_type": "stream",
     "text": [
      "2025-08-17 04:04:53,375 WARNING [2025-08-17T10:04:53.305870] You are using a deprecated API endpoint. If you are using cdsapi, please upgrade to the latest version.\n",
      "2025-08-17 04:04:53,376 INFO Request ID is 8ff86360-3f2e-4aae-932b-471f6dc56a41\n",
      "2025-08-17 04:04:53,530 INFO status has been updated to accepted\n",
      "2025-08-17 04:05:01,158 INFO status has been updated to running\n",
      "2025-08-17 04:07:45,586 INFO status has been updated to successful\n"
     ]
    },
    {
     "data": {
      "application/vnd.jupyter.widget-view+json": {
       "model_id": "f82a961638d64339b4b33586df9e559d",
       "version_major": 2,
       "version_minor": 0
      },
      "text/plain": [
       "e48ab12d18ca8c592800fc0dde15d44a.nc:   0%|          | 0.00/110M [00:00<?, ?B/s]"
      ]
     },
     "metadata": {},
     "output_type": "display_data"
    },
    {
     "name": "stdout",
     "output_type": "stream",
     "text": [
      "✅ Downloaded: /glade/work/milesep/era5_cds/era5_pl_2007_03.nc\n"
     ]
    },
    {
     "name": "stderr",
     "output_type": "stream",
     "text": [
      "2025-08-17 04:07:56,648 WARNING [2025-08-17T10:07:56.578209] You are using a deprecated API endpoint. If you are using cdsapi, please upgrade to the latest version.\n",
      "2025-08-17 04:07:56,649 INFO Request ID is fe22cfde-ffcf-4dce-a03c-8e669a7a1346\n",
      "2025-08-17 04:07:56,807 INFO status has been updated to accepted\n",
      "2025-08-17 04:08:04,419 INFO status has been updated to running\n",
      "2025-08-17 04:09:12,324 INFO status has been updated to successful\n"
     ]
    },
    {
     "data": {
      "application/vnd.jupyter.widget-view+json": {
       "model_id": "952c4e596298433a8967d8e7188cdf5f",
       "version_major": 2,
       "version_minor": 0
      },
      "text/plain": [
       "c84ef8f69ac7db7aa6623604073d4408.zip:   0%|          | 0.00/13.0M [00:00<?, ?B/s]"
      ]
     },
     "metadata": {},
     "output_type": "display_data"
    },
    {
     "name": "stdout",
     "output_type": "stream",
     "text": [
      "✅ Downloaded: /glade/work/milesep/era5_cds/era5_sfc_2007_03.nc\n",
      "2007 4 20\n"
     ]
    },
    {
     "name": "stderr",
     "output_type": "stream",
     "text": [
      "2025-08-17 04:09:15,567 WARNING [2025-08-17T10:09:15.496987] You are using a deprecated API endpoint. If you are using cdsapi, please upgrade to the latest version.\n",
      "2025-08-17 04:09:15,567 INFO Request ID is 2386f412-6ddf-4287-a73b-1726ea4c15b8\n",
      "2025-08-17 04:09:15,741 INFO status has been updated to accepted\n",
      "2025-08-17 04:09:23,382 INFO status has been updated to running\n",
      "2025-08-17 04:12:07,730 INFO status has been updated to successful\n"
     ]
    },
    {
     "data": {
      "application/vnd.jupyter.widget-view+json": {
       "model_id": "8e123a7d5bc8476ea052cd1b981b37fb",
       "version_major": 2,
       "version_minor": 0
      },
      "text/plain": [
       "43a3adaaa18c39ca4786cac9404a7442.nc:   0%|          | 0.00/131M [00:00<?, ?B/s]"
      ]
     },
     "metadata": {},
     "output_type": "display_data"
    },
    {
     "name": "stdout",
     "output_type": "stream",
     "text": [
      "✅ Downloaded: /glade/work/milesep/era5_cds/era5_pl_2007_04.nc\n"
     ]
    },
    {
     "name": "stderr",
     "output_type": "stream",
     "text": [
      "2025-08-17 04:12:34,392 WARNING [2025-08-17T10:12:34.322211] You are using a deprecated API endpoint. If you are using cdsapi, please upgrade to the latest version.\n",
      "2025-08-17 04:12:34,393 INFO Request ID is 1ff5e589-4dc2-443e-b531-bf3cae90947a\n",
      "2025-08-17 04:12:34,584 INFO status has been updated to accepted\n",
      "2025-08-17 04:12:42,214 INFO status has been updated to running\n",
      "2025-08-17 04:14:28,457 INFO status has been updated to successful\n"
     ]
    },
    {
     "data": {
      "application/vnd.jupyter.widget-view+json": {
       "model_id": "b467ecf052af43618e8d873bb76de6f0",
       "version_major": 2,
       "version_minor": 0
      },
      "text/plain": [
       "1f038a13a0a4798a338796bbecd2772d.zip:   0%|          | 0.00/15.4M [00:00<?, ?B/s]"
      ]
     },
     "metadata": {},
     "output_type": "display_data"
    },
    {
     "name": "stdout",
     "output_type": "stream",
     "text": [
      "✅ Downloaded: /glade/work/milesep/era5_cds/era5_sfc_2007_04.nc\n",
      "2007 5 30\n"
     ]
    },
    {
     "name": "stderr",
     "output_type": "stream",
     "text": [
      "2025-08-17 04:14:32,351 WARNING [2025-08-17T10:14:32.281640] You are using a deprecated API endpoint. If you are using cdsapi, please upgrade to the latest version.\n",
      "2025-08-17 04:14:32,352 INFO Request ID is 144c3a45-efed-4c87-8d51-2b1e901666db\n",
      "2025-08-17 04:14:32,525 INFO status has been updated to accepted\n",
      "2025-08-17 04:14:45,573 INFO status has been updated to running\n",
      "2025-08-17 04:20:52,264 INFO status has been updated to successful\n"
     ]
    },
    {
     "data": {
      "application/vnd.jupyter.widget-view+json": {
       "model_id": "c0dd9f440a894fa1aebf4b0b8b7a17e2",
       "version_major": 2,
       "version_minor": 0
      },
      "text/plain": [
       "afe942a8cac4b0f89ccd48f4ddb05c91.nc:   0%|          | 0.00/207M [00:00<?, ?B/s]"
      ]
     },
     "metadata": {},
     "output_type": "display_data"
    },
    {
     "name": "stdout",
     "output_type": "stream",
     "text": [
      "✅ Downloaded: /glade/work/milesep/era5_cds/era5_pl_2007_05.nc\n"
     ]
    },
    {
     "name": "stderr",
     "output_type": "stream",
     "text": [
      "2025-08-17 04:21:57,214 WARNING [2025-08-17T10:21:57.147614] You are using a deprecated API endpoint. If you are using cdsapi, please upgrade to the latest version.\n",
      "2025-08-17 04:21:57,215 INFO Request ID is 1005e905-9dd5-4acb-aed7-83d031cfa15d\n",
      "2025-08-17 04:21:57,381 INFO status has been updated to accepted\n",
      "2025-08-17 04:22:05,090 INFO status has been updated to running\n",
      "2025-08-17 04:22:10,325 INFO status has been updated to accepted\n",
      "2025-08-17 04:22:18,222 INFO status has been updated to running\n",
      "2025-08-17 04:22:47,041 INFO status has been updated to successful\n"
     ]
    },
    {
     "data": {
      "application/vnd.jupyter.widget-view+json": {
       "model_id": "5aa12ffb8a174a478b61f89dd53d1e64",
       "version_major": 2,
       "version_minor": 0
      },
      "text/plain": [
       "8f79f5c786da2573012913a162ee8d76.zip:   0%|          | 0.00/23.2M [00:00<?, ?B/s]"
      ]
     },
     "metadata": {},
     "output_type": "display_data"
    },
    {
     "name": "stdout",
     "output_type": "stream",
     "text": [
      "✅ Downloaded: /glade/work/milesep/era5_cds/era5_sfc_2007_05.nc\n",
      "2007 6 30\n"
     ]
    },
    {
     "name": "stderr",
     "output_type": "stream",
     "text": [
      "2025-08-17 04:22:52,143 WARNING [2025-08-17T10:22:52.073621] You are using a deprecated API endpoint. If you are using cdsapi, please upgrade to the latest version.\n",
      "2025-08-17 04:22:52,143 INFO Request ID is 7b454df6-2f38-406d-9f65-8e52109eae27\n",
      "2025-08-17 04:22:52,297 INFO status has been updated to accepted\n",
      "2025-08-17 04:23:05,109 INFO status has been updated to running\n",
      "2025-08-17 04:23:12,856 INFO status has been updated to accepted\n",
      "2025-08-17 04:23:24,421 INFO status has been updated to running\n",
      "2025-08-17 04:27:11,343 INFO status has been updated to successful\n"
     ]
    },
    {
     "data": {
      "application/vnd.jupyter.widget-view+json": {
       "model_id": "fd907059c1ef48589d32f643e06e28ed",
       "version_major": 2,
       "version_minor": 0
      },
      "text/plain": [
       "b9918fb090e951ad8d47e8e0387b79f2.nc:   0%|          | 0.00/201M [00:00<?, ?B/s]"
      ]
     },
     "metadata": {},
     "output_type": "display_data"
    },
    {
     "name": "stdout",
     "output_type": "stream",
     "text": [
      "✅ Downloaded: /glade/work/milesep/era5_cds/era5_pl_2007_06.nc\n"
     ]
    },
    {
     "name": "stderr",
     "output_type": "stream",
     "text": [
      "2025-08-17 04:27:34,384 WARNING [2025-08-17T10:27:34.313312] You are using a deprecated API endpoint. If you are using cdsapi, please upgrade to the latest version.\n",
      "2025-08-17 04:27:34,385 INFO Request ID is 565bf7ee-493e-4750-b8c4-c67facc85ead\n",
      "2025-08-17 04:27:34,574 INFO status has been updated to accepted\n",
      "2025-08-17 04:27:47,447 INFO status has been updated to running\n",
      "2025-08-17 04:28:24,015 INFO status has been updated to successful\n"
     ]
    },
    {
     "data": {
      "application/vnd.jupyter.widget-view+json": {
       "model_id": "fb3c79499ec244d2b1d540a802c1514e",
       "version_major": 2,
       "version_minor": 0
      },
      "text/plain": [
       "1b3896a563f5036b8b908fed92e8e4d9.zip:   0%|          | 0.00/23.1M [00:00<?, ?B/s]"
      ]
     },
     "metadata": {},
     "output_type": "display_data"
    },
    {
     "name": "stdout",
     "output_type": "stream",
     "text": [
      "✅ Downloaded: /glade/work/milesep/era5_cds/era5_sfc_2007_06.nc\n",
      "2007 7 25\n"
     ]
    },
    {
     "name": "stderr",
     "output_type": "stream",
     "text": [
      "2025-08-17 04:28:29,602 WARNING [2025-08-17T10:28:29.532563] You are using a deprecated API endpoint. If you are using cdsapi, please upgrade to the latest version.\n",
      "2025-08-17 04:28:29,603 INFO Request ID is 69e8696f-86f5-40b6-bcda-9c3d2231bdd7\n",
      "2025-08-17 04:28:29,758 INFO status has been updated to accepted\n",
      "2025-08-17 04:28:42,576 INFO status has been updated to running\n",
      "2025-08-17 04:32:48,715 INFO status has been updated to successful\n"
     ]
    },
    {
     "data": {
      "application/vnd.jupyter.widget-view+json": {
       "model_id": "ebd695f57f6044ac9aebb0e773b6155a",
       "version_major": 2,
       "version_minor": 0
      },
      "text/plain": [
       "f947cb619e244b572658efab0c0544c8.nc:   0%|          | 0.00/165M [00:00<?, ?B/s]"
      ]
     },
     "metadata": {},
     "output_type": "display_data"
    },
    {
     "name": "stdout",
     "output_type": "stream",
     "text": [
      "✅ Downloaded: /glade/work/milesep/era5_cds/era5_pl_2007_07.nc\n"
     ]
    },
    {
     "name": "stderr",
     "output_type": "stream",
     "text": [
      "2025-08-17 04:33:32,175 WARNING [2025-08-17T10:33:32.108359] You are using a deprecated API endpoint. If you are using cdsapi, please upgrade to the latest version.\n",
      "2025-08-17 04:33:32,176 INFO Request ID is cd26ef91-265f-4959-860e-f4d0735b029a\n",
      "2025-08-17 04:33:32,347 INFO status has been updated to accepted\n",
      "2025-08-17 04:33:45,226 INFO status has been updated to running\n",
      "2025-08-17 04:34:21,774 INFO status has been updated to successful\n"
     ]
    },
    {
     "data": {
      "application/vnd.jupyter.widget-view+json": {
       "model_id": "144d064d71884acba7b64ab06d2aee27",
       "version_major": 2,
       "version_minor": 0
      },
      "text/plain": [
       "150d3f235e5aab1192674c4e1a6ff984.zip:   0%|          | 0.00/19.2M [00:00<?, ?B/s]"
      ]
     },
     "metadata": {},
     "output_type": "display_data"
    },
    {
     "name": "stdout",
     "output_type": "stream",
     "text": [
      "✅ Downloaded: /glade/work/milesep/era5_cds/era5_sfc_2007_07.nc\n",
      "2007 8 29\n"
     ]
    },
    {
     "name": "stderr",
     "output_type": "stream",
     "text": [
      "2025-08-17 04:34:25,292 WARNING [2025-08-17T10:34:25.224959] You are using a deprecated API endpoint. If you are using cdsapi, please upgrade to the latest version.\n",
      "2025-08-17 04:34:25,292 INFO Request ID is 636027e2-177a-4252-9024-ed73e11709d2\n",
      "2025-08-17 04:34:25,466 INFO status has been updated to accepted\n",
      "2025-08-17 04:34:33,056 INFO status has been updated to running\n",
      "2025-08-17 04:40:44,895 INFO status has been updated to successful\n"
     ]
    },
    {
     "data": {
      "application/vnd.jupyter.widget-view+json": {
       "model_id": "0b1ad2cde33c4aacb04805508fd1679d",
       "version_major": 2,
       "version_minor": 0
      },
      "text/plain": [
       "c2dfe524c9f93d59280ad1fc6765320c.nc:   0%|          | 0.00/195M [00:00<?, ?B/s]"
      ]
     },
     "metadata": {},
     "output_type": "display_data"
    },
    {
     "name": "stdout",
     "output_type": "stream",
     "text": [
      "✅ Downloaded: /glade/work/milesep/era5_cds/era5_pl_2007_08.nc\n"
     ]
    },
    {
     "name": "stderr",
     "output_type": "stream",
     "text": [
      "2025-08-17 04:41:07,005 WARNING [2025-08-17T10:41:06.934139] You are using a deprecated API endpoint. If you are using cdsapi, please upgrade to the latest version.\n",
      "2025-08-17 04:41:07,006 INFO Request ID is 54b7cbca-adb2-43bf-be8a-91a46b506def\n",
      "2025-08-17 04:41:07,157 INFO status has been updated to accepted\n",
      "2025-08-17 04:41:14,793 INFO status has been updated to running\n",
      "2025-08-17 04:41:56,572 INFO status has been updated to successful\n"
     ]
    },
    {
     "name": "stdout",
     "output_type": "stream",
     "text": [
      "⚠️ Attempt 1 failed for /glade/work/milesep/era5_cds/era5_sfc_2007_08.nc: Result not ready, job is running\n",
      "Retrying in 30s...\n"
     ]
    },
    {
     "name": "stderr",
     "output_type": "stream",
     "text": [
      "2025-08-17 04:42:27,019 WARNING [2025-08-17T10:42:26.948277] You are using a deprecated API endpoint. If you are using cdsapi, please upgrade to the latest version.\n",
      "2025-08-17 04:42:27,020 INFO Request ID is 37735383-5ec4-41f4-a061-771fa9318188\n",
      "2025-08-17 04:42:27,288 INFO status has been updated to accepted\n",
      "2025-08-17 04:42:47,920 INFO status has been updated to successful\n"
     ]
    },
    {
     "name": "stdout",
     "output_type": "stream",
     "text": [
      "⚠️ Attempt 2 failed for /glade/work/milesep/era5_cds/era5_sfc_2007_08.nc: Result not ready, job is accepted\n",
      "Retrying in 60s...\n"
     ]
    },
    {
     "name": "stderr",
     "output_type": "stream",
     "text": [
      "2025-08-17 04:43:48,823 WARNING [2025-08-17T10:43:48.754178] You are using a deprecated API endpoint. If you are using cdsapi, please upgrade to the latest version.\n",
      "2025-08-17 04:43:48,823 INFO Request ID is 6dc56905-794e-47af-9688-e8351a38ad60\n",
      "2025-08-17 04:43:49,004 INFO status has been updated to accepted\n",
      "2025-08-17 04:44:01,892 INFO status has been updated to successful\n"
     ]
    },
    {
     "data": {
      "application/vnd.jupyter.widget-view+json": {
       "model_id": "a3c5836cf48c4fe6841db1b7df98ceed",
       "version_major": 2,
       "version_minor": 0
      },
      "text/plain": [
       "5393b018109905360a4fe95854038c71.zip:   0%|          | 0.00/22.2M [00:00<?, ?B/s]"
      ]
     },
     "metadata": {},
     "output_type": "display_data"
    },
    {
     "name": "stdout",
     "output_type": "stream",
     "text": [
      "✅ Downloaded: /glade/work/milesep/era5_cds/era5_sfc_2007_08.nc\n",
      "2007 9 16\n"
     ]
    },
    {
     "name": "stderr",
     "output_type": "stream",
     "text": [
      "2025-08-17 04:44:08,477 WARNING [2025-08-17T10:44:08.408463] You are using a deprecated API endpoint. If you are using cdsapi, please upgrade to the latest version.\n",
      "2025-08-17 04:44:08,478 INFO Request ID is 032e2cd4-f86c-4ffd-ad30-74614caac27d\n",
      "2025-08-17 04:44:08,653 INFO status has been updated to accepted\n",
      "2025-08-17 04:44:16,262 INFO status has been updated to running\n",
      "2025-08-17 04:47:00,594 INFO status has been updated to successful\n"
     ]
    },
    {
     "data": {
      "application/vnd.jupyter.widget-view+json": {
       "model_id": "756c86f52bcf4ebeae4e4b9561848dd2",
       "version_major": 2,
       "version_minor": 0
      },
      "text/plain": [
       "7057e8f15ba00a49aa6b887842a190ec.nc:   0%|          | 0.00/105M [00:00<?, ?B/s]"
      ]
     },
     "metadata": {},
     "output_type": "display_data"
    },
    {
     "name": "stdout",
     "output_type": "stream",
     "text": [
      "✅ Downloaded: /glade/work/milesep/era5_cds/era5_pl_2007_09.nc\n"
     ]
    },
    {
     "name": "stderr",
     "output_type": "stream",
     "text": [
      "2025-08-17 04:47:11,467 WARNING [2025-08-17T10:47:11.397098] You are using a deprecated API endpoint. If you are using cdsapi, please upgrade to the latest version.\n",
      "2025-08-17 04:47:11,468 INFO Request ID is 4ae7a03a-f366-4b75-b5d9-450217f38ab6\n",
      "2025-08-17 04:47:11,658 INFO status has been updated to accepted\n",
      "2025-08-17 04:47:19,294 INFO status has been updated to running\n",
      "2025-08-17 04:47:43,847 INFO status has been updated to successful\n"
     ]
    },
    {
     "data": {
      "application/vnd.jupyter.widget-view+json": {
       "model_id": "691fb82b375249919ba237c8a767269f",
       "version_major": 2,
       "version_minor": 0
      },
      "text/plain": [
       "f1e5a0d3a060a2178589f1b7fd7f5c75.zip:   0%|          | 0.00/12.2M [00:00<?, ?B/s]"
      ]
     },
     "metadata": {},
     "output_type": "display_data"
    },
    {
     "name": "stdout",
     "output_type": "stream",
     "text": [
      "✅ Downloaded: /glade/work/milesep/era5_cds/era5_sfc_2007_09.nc\n",
      "2007 10 12\n"
     ]
    },
    {
     "name": "stderr",
     "output_type": "stream",
     "text": [
      "2025-08-17 04:47:47,198 WARNING [2025-08-17T10:47:47.127336] You are using a deprecated API endpoint. If you are using cdsapi, please upgrade to the latest version.\n",
      "2025-08-17 04:47:47,198 INFO Request ID is 6f758f4f-703a-4ec8-862d-eb331e6e1410\n",
      "2025-08-17 04:47:47,351 INFO status has been updated to accepted\n",
      "2025-08-17 04:47:54,963 INFO status has been updated to running\n",
      "2025-08-17 04:49:41,330 INFO status has been updated to successful\n"
     ]
    },
    {
     "data": {
      "application/vnd.jupyter.widget-view+json": {
       "model_id": "a8b34b7f7e5c43faba12cbca294837e7",
       "version_major": 2,
       "version_minor": 0
      },
      "text/plain": [
       "d03048564ef4115d852c2442aacdb097.nc:   0%|          | 0.00/74.4M [00:00<?, ?B/s]"
      ]
     },
     "metadata": {},
     "output_type": "display_data"
    },
    {
     "name": "stdout",
     "output_type": "stream",
     "text": [
      "✅ Downloaded: /glade/work/milesep/era5_cds/era5_pl_2007_10.nc\n"
     ]
    },
    {
     "name": "stderr",
     "output_type": "stream",
     "text": [
      "2025-08-17 04:49:48,248 WARNING [2025-08-17T10:49:48.178005] You are using a deprecated API endpoint. If you are using cdsapi, please upgrade to the latest version.\n",
      "2025-08-17 04:49:48,248 INFO Request ID is 516e4cef-d7ee-49ad-a44e-4818b0285d5b\n",
      "2025-08-17 04:49:48,426 INFO status has been updated to accepted\n",
      "2025-08-17 04:50:01,269 INFO status has been updated to running\n",
      "2025-08-17 04:50:37,988 INFO status has been updated to successful\n"
     ]
    },
    {
     "data": {
      "application/vnd.jupyter.widget-view+json": {
       "model_id": "1e4a59da01bb425f85b125e9f3bb601c",
       "version_major": 2,
       "version_minor": 0
      },
      "text/plain": [
       "b3ee8f45e3b062f8f5879ab0063cbac1.zip:   0%|          | 0.00/9.07M [00:00<?, ?B/s]"
      ]
     },
     "metadata": {},
     "output_type": "display_data"
    },
    {
     "name": "stdout",
     "output_type": "stream",
     "text": [
      "✅ Downloaded: /glade/work/milesep/era5_cds/era5_sfc_2007_10.nc\n",
      "2007 11 4\n"
     ]
    },
    {
     "name": "stderr",
     "output_type": "stream",
     "text": [
      "2025-08-17 04:50:40,945 WARNING [2025-08-17T10:50:40.875690] You are using a deprecated API endpoint. If you are using cdsapi, please upgrade to the latest version.\n",
      "2025-08-17 04:50:40,946 INFO Request ID is 4f0b3c82-a2d1-4d70-922f-fd208359d352\n",
      "2025-08-17 04:50:41,120 INFO status has been updated to accepted\n",
      "2025-08-17 04:50:48,745 INFO status has been updated to running\n",
      "2025-08-17 04:51:30,538 INFO status has been updated to successful\n"
     ]
    },
    {
     "data": {
      "application/vnd.jupyter.widget-view+json": {
       "model_id": "f9926d663a5e4b3386db038d2fa9cbf1",
       "version_major": 2,
       "version_minor": 0
      },
      "text/plain": [
       "1db81713b4241efecbd50792dc5d71a6.nc:   0%|          | 0.00/24.2M [00:00<?, ?B/s]"
      ]
     },
     "metadata": {},
     "output_type": "display_data"
    },
    {
     "name": "stdout",
     "output_type": "stream",
     "text": [
      "✅ Downloaded: /glade/work/milesep/era5_cds/era5_pl_2007_11.nc\n"
     ]
    },
    {
     "name": "stderr",
     "output_type": "stream",
     "text": [
      "2025-08-17 04:51:37,937 WARNING [2025-08-17T10:51:37.866594] You are using a deprecated API endpoint. If you are using cdsapi, please upgrade to the latest version.\n",
      "2025-08-17 04:51:37,938 INFO Request ID is 2eca6962-df2c-4cde-be65-1fd78f85bcef\n",
      "2025-08-17 04:51:38,114 INFO status has been updated to accepted\n",
      "2025-08-17 04:51:50,961 INFO status has been updated to running\n",
      "2025-08-17 04:51:58,728 INFO status has been updated to successful\n"
     ]
    },
    {
     "data": {
      "application/vnd.jupyter.widget-view+json": {
       "model_id": "b1369e7de5bc442d84de6df164c66741",
       "version_major": 2,
       "version_minor": 0
      },
      "text/plain": [
       "6fe9e1604a30ecbdd72f834121f214bb.zip:   0%|          | 0.00/3.05M [00:00<?, ?B/s]"
      ]
     },
     "metadata": {},
     "output_type": "display_data"
    },
    {
     "name": "stderr",
     "output_type": "stream",
     "text": [
      "2025-08-17 04:52:01,379 WARNING [2025-08-17T10:52:01.307647] You are using a deprecated API endpoint. If you are using cdsapi, please upgrade to the latest version.\n",
      "2025-08-17 04:52:01,380 INFO Request ID is 65086496-fc7e-4556-9337-97b40418f883\n"
     ]
    },
    {
     "name": "stdout",
     "output_type": "stream",
     "text": [
      "✅ Downloaded: /glade/work/milesep/era5_cds/era5_sfc_2007_11.nc\n",
      "2007 12 6\n"
     ]
    },
    {
     "name": "stderr",
     "output_type": "stream",
     "text": [
      "2025-08-17 04:52:01,542 INFO status has been updated to accepted\n",
      "2025-08-17 04:52:14,421 INFO status has been updated to running\n",
      "2025-08-17 04:53:16,792 INFO status has been updated to successful\n"
     ]
    },
    {
     "data": {
      "application/vnd.jupyter.widget-view+json": {
       "model_id": "1ee35972fe8b4bc09bb80ca685d6ebad",
       "version_major": 2,
       "version_minor": 0
      },
      "text/plain": [
       "39477193148da9bbcf94a278c9f78ab.nc:   0%|          | 0.00/36.6M [00:00<?, ?B/s]"
      ]
     },
     "metadata": {},
     "output_type": "display_data"
    },
    {
     "name": "stdout",
     "output_type": "stream",
     "text": [
      "✅ Downloaded: /glade/work/milesep/era5_cds/era5_pl_2007_12.nc\n"
     ]
    },
    {
     "name": "stderr",
     "output_type": "stream",
     "text": [
      "2025-08-17 04:53:35,599 WARNING [2025-08-17T10:53:35.529115] You are using a deprecated API endpoint. If you are using cdsapi, please upgrade to the latest version.\n",
      "2025-08-17 04:53:35,600 INFO Request ID is 02f348a7-5c5e-4d60-a248-022286940a53\n",
      "2025-08-17 04:53:35,772 INFO status has been updated to accepted\n",
      "2025-08-17 04:53:43,419 INFO status has been updated to running\n",
      "2025-08-17 04:53:56,390 INFO status has been updated to successful\n"
     ]
    },
    {
     "data": {
      "application/vnd.jupyter.widget-view+json": {
       "model_id": "ee606098f97741bc801cb840621156d8",
       "version_major": 2,
       "version_minor": 0
      },
      "text/plain": [
       "bcf9fba5e28fc5231ecc5f6a8ba535c1.zip:   0%|          | 0.00/4.56M [00:00<?, ?B/s]"
      ]
     },
     "metadata": {},
     "output_type": "display_data"
    },
    {
     "name": "stdout",
     "output_type": "stream",
     "text": [
      "✅ Downloaded: /glade/work/milesep/era5_cds/era5_sfc_2007_12.nc\n",
      "2008 1 7\n"
     ]
    },
    {
     "name": "stderr",
     "output_type": "stream",
     "text": [
      "2025-08-17 04:53:59,267 WARNING [2025-08-17T10:53:59.197829] You are using a deprecated API endpoint. If you are using cdsapi, please upgrade to the latest version.\n",
      "2025-08-17 04:53:59,268 INFO Request ID is 60185002-93e0-48ae-8a12-210893b0c91f\n",
      "2025-08-17 04:53:59,458 INFO status has been updated to accepted\n",
      "2025-08-17 04:54:07,070 INFO status has been updated to running\n",
      "2025-08-17 04:54:12,288 INFO status has been updated to accepted\n",
      "2025-08-17 04:54:31,616 INFO status has been updated to running\n",
      "2025-08-17 04:55:14,665 INFO status has been updated to successful\n"
     ]
    },
    {
     "name": "stdout",
     "output_type": "stream",
     "text": [
      "⚠️ Attempt 1 failed for /glade/work/milesep/era5_cds/era5_pl_2008_01.nc: Result not ready, job is running\n",
      "Retrying in 30s...\n"
     ]
    },
    {
     "name": "stderr",
     "output_type": "stream",
     "text": [
      "2025-08-17 04:55:45,060 WARNING [2025-08-17T10:55:44.988479] You are using a deprecated API endpoint. If you are using cdsapi, please upgrade to the latest version.\n",
      "2025-08-17 04:55:45,061 INFO Request ID is 6b52a096-6dda-4c64-bb10-a5e60033f0c8\n",
      "2025-08-17 04:55:45,229 INFO status has been updated to accepted\n",
      "2025-08-17 04:56:05,787 INFO status has been updated to successful\n"
     ]
    },
    {
     "name": "stdout",
     "output_type": "stream",
     "text": [
      "⚠️ Attempt 2 failed for /glade/work/milesep/era5_cds/era5_pl_2008_01.nc: Result not ready, job is accepted\n",
      "Retrying in 60s...\n"
     ]
    },
    {
     "name": "stderr",
     "output_type": "stream",
     "text": [
      "2025-08-17 04:57:06,527 WARNING [2025-08-17T10:57:06.442083] You are using a deprecated API endpoint. If you are using cdsapi, please upgrade to the latest version.\n",
      "2025-08-17 04:57:06,528 INFO Request ID is 28ec0865-0c1b-45b7-bbcd-e1da7588e50c\n",
      "2025-08-17 04:57:06,710 INFO status has been updated to accepted\n",
      "2025-08-17 04:57:14,360 INFO status has been updated to running\n",
      "2025-08-17 04:57:19,612 INFO status has been updated to successful\n"
     ]
    },
    {
     "data": {
      "application/vnd.jupyter.widget-view+json": {
       "model_id": "07c7b27898e042b7a633edddc81fcbc2",
       "version_major": 2,
       "version_minor": 0
      },
      "text/plain": [
       "5c75d8fdbbd5de657632b509c0c496cd.nc:   0%|          | 0.00/42.8M [00:00<?, ?B/s]"
      ]
     },
     "metadata": {},
     "output_type": "display_data"
    },
    {
     "name": "stdout",
     "output_type": "stream",
     "text": [
      "✅ Downloaded: /glade/work/milesep/era5_cds/era5_pl_2008_01.nc\n"
     ]
    },
    {
     "name": "stderr",
     "output_type": "stream",
     "text": [
      "2025-08-17 04:57:28,501 WARNING [2025-08-17T10:57:28.429710] You are using a deprecated API endpoint. If you are using cdsapi, please upgrade to the latest version.\n",
      "2025-08-17 04:57:28,502 INFO Request ID is b2139dc1-f11c-4c10-9f03-74e33e99b71c\n",
      "2025-08-17 04:57:28,668 INFO status has been updated to accepted\n",
      "2025-08-17 04:57:41,522 INFO status has been updated to running\n",
      "2025-08-17 04:57:49,284 INFO status has been updated to successful\n"
     ]
    },
    {
     "data": {
      "application/vnd.jupyter.widget-view+json": {
       "model_id": "9b34ebc6412c421c8911cb85b2cc5001",
       "version_major": 2,
       "version_minor": 0
      },
      "text/plain": [
       "6e42a30da819069f7606c05c34c27017.zip:   0%|          | 0.00/5.32M [00:00<?, ?B/s]"
      ]
     },
     "metadata": {},
     "output_type": "display_data"
    },
    {
     "name": "stdout",
     "output_type": "stream",
     "text": [
      "✅ Downloaded: /glade/work/milesep/era5_cds/era5_sfc_2008_01.nc\n",
      "2008 2 15\n"
     ]
    },
    {
     "name": "stderr",
     "output_type": "stream",
     "text": [
      "2025-08-17 04:57:52,297 WARNING [2025-08-17T10:57:52.226199] You are using a deprecated API endpoint. If you are using cdsapi, please upgrade to the latest version.\n",
      "2025-08-17 04:57:52,298 INFO Request ID is 68b8df51-866e-4a2a-b9b2-962a4ddee062\n",
      "2025-08-17 04:57:52,451 INFO status has been updated to accepted\n",
      "2025-08-17 04:58:05,270 INFO status has been updated to running\n",
      "2025-08-17 05:00:44,404 INFO status has been updated to successful\n"
     ]
    },
    {
     "data": {
      "application/vnd.jupyter.widget-view+json": {
       "model_id": "d38792935aab448e96a3b037437ad776",
       "version_major": 2,
       "version_minor": 0
      },
      "text/plain": [
       "f38ef2b99ad65b9c20851b717f19b6d7.nc:   0%|          | 0.00/101M [00:00<?, ?B/s]"
      ]
     },
     "metadata": {},
     "output_type": "display_data"
    },
    {
     "name": "stdout",
     "output_type": "stream",
     "text": [
      "✅ Downloaded: /glade/work/milesep/era5_cds/era5_pl_2008_02.nc\n"
     ]
    },
    {
     "name": "stderr",
     "output_type": "stream",
     "text": [
      "2025-08-17 05:00:57,245 WARNING [2025-08-17T11:00:57.174347] You are using a deprecated API endpoint. If you are using cdsapi, please upgrade to the latest version.\n",
      "2025-08-17 05:00:57,245 INFO Request ID is bfd085af-2f23-4d7a-aa75-bbe5ba6c70bd\n",
      "2025-08-17 05:00:57,412 INFO status has been updated to accepted\n",
      "2025-08-17 05:01:10,261 INFO status has been updated to running\n",
      "2025-08-17 05:01:29,564 INFO status has been updated to successful\n"
     ]
    },
    {
     "data": {
      "application/vnd.jupyter.widget-view+json": {
       "model_id": "15ce95ebb7db45389122ab4b6668ef85",
       "version_major": 2,
       "version_minor": 0
      },
      "text/plain": [
       "982004675010ce51299f4ccb4775b2c5.zip:   0%|          | 0.00/11.4M [00:00<?, ?B/s]"
      ]
     },
     "metadata": {},
     "output_type": "display_data"
    },
    {
     "name": "stdout",
     "output_type": "stream",
     "text": [
      "✅ Downloaded: /glade/work/milesep/era5_cds/era5_sfc_2008_02.nc\n",
      "2008 3 17\n"
     ]
    },
    {
     "name": "stderr",
     "output_type": "stream",
     "text": [
      "2025-08-17 05:01:33,966 WARNING [2025-08-17T11:01:33.898324] You are using a deprecated API endpoint. If you are using cdsapi, please upgrade to the latest version.\n",
      "2025-08-17 05:01:33,966 INFO Request ID is b53cb589-8f9a-4e73-85f7-4c5e107925bb\n",
      "2025-08-17 05:01:34,117 INFO status has been updated to accepted\n",
      "2025-08-17 05:01:41,705 INFO status has been updated to running\n",
      "2025-08-17 05:04:26,084 INFO status has been updated to successful\n"
     ]
    },
    {
     "data": {
      "application/vnd.jupyter.widget-view+json": {
       "model_id": "7d7e74086261428bbad0daa1040f954a",
       "version_major": 2,
       "version_minor": 0
      },
      "text/plain": [
       "a72986bf72e5023e15bd0d423a8e3e66.nc:   0%|          | 0.00/111M [00:00<?, ?B/s]"
      ]
     },
     "metadata": {},
     "output_type": "display_data"
    },
    {
     "name": "stdout",
     "output_type": "stream",
     "text": [
      "✅ Downloaded: /glade/work/milesep/era5_cds/era5_pl_2008_03.nc\n"
     ]
    },
    {
     "name": "stderr",
     "output_type": "stream",
     "text": [
      "2025-08-17 05:04:41,451 WARNING [2025-08-17T11:04:41.380502] You are using a deprecated API endpoint. If you are using cdsapi, please upgrade to the latest version.\n",
      "2025-08-17 05:04:41,452 INFO Request ID is 4e99f35e-c5de-4147-b0a6-565510bb092f\n",
      "2025-08-17 05:04:41,615 INFO status has been updated to accepted\n",
      "2025-08-17 05:04:54,452 INFO status has been updated to running\n",
      "2025-08-17 05:05:13,746 INFO status has been updated to successful\n"
     ]
    },
    {
     "data": {
      "application/vnd.jupyter.widget-view+json": {
       "model_id": "f6ec6c30437d4d8eb3ca60f5093a1b18",
       "version_major": 2,
       "version_minor": 0
      },
      "text/plain": [
       "df7284885c8bc81a9523b0e513c624ef.zip:   0%|          | 0.00/13.0M [00:00<?, ?B/s]"
      ]
     },
     "metadata": {},
     "output_type": "display_data"
    },
    {
     "name": "stdout",
     "output_type": "stream",
     "text": [
      "✅ Downloaded: /glade/work/milesep/era5_cds/era5_sfc_2008_03.nc\n",
      "2008 4 23\n"
     ]
    },
    {
     "name": "stderr",
     "output_type": "stream",
     "text": [
      "2025-08-17 05:05:17,361 WARNING [2025-08-17T11:05:17.289161] You are using a deprecated API endpoint. If you are using cdsapi, please upgrade to the latest version.\n",
      "2025-08-17 05:05:17,362 INFO Request ID is ecf26c9d-ed05-45b2-9815-fa02f610ca0f\n",
      "2025-08-17 05:05:17,543 INFO status has been updated to accepted\n",
      "2025-08-17 05:05:30,373 INFO status has been updated to running\n",
      "2025-08-17 05:09:36,705 INFO status has been updated to successful\n"
     ]
    },
    {
     "data": {
      "application/vnd.jupyter.widget-view+json": {
       "model_id": "4bd193bf53ed4eeb950c316e0ea20962",
       "version_major": 2,
       "version_minor": 0
      },
      "text/plain": [
       "88d557a0d27a29344f8f6397bf8c837f.nc:   0%|          | 0.00/154M [00:00<?, ?B/s]"
      ]
     },
     "metadata": {},
     "output_type": "display_data"
    },
    {
     "name": "stdout",
     "output_type": "stream",
     "text": [
      "✅ Downloaded: /glade/work/milesep/era5_cds/era5_pl_2008_04.nc\n"
     ]
    },
    {
     "name": "stderr",
     "output_type": "stream",
     "text": [
      "2025-08-17 05:10:43,892 WARNING [2025-08-17T11:10:43.816104] You are using a deprecated API endpoint. If you are using cdsapi, please upgrade to the latest version.\n",
      "2025-08-17 05:10:43,893 INFO Request ID is 8c5ee78c-cc2a-44ba-93fd-eb0e4d3f1e3a\n",
      "2025-08-17 05:10:44,107 INFO status has been updated to accepted\n",
      "2025-08-17 05:10:57,058 INFO status has been updated to running\n",
      "2025-08-17 05:11:33,646 INFO status has been updated to successful\n"
     ]
    },
    {
     "data": {
      "application/vnd.jupyter.widget-view+json": {
       "model_id": "6efa356b60dd4b3a90f178301e2c164a",
       "version_major": 2,
       "version_minor": 0
      },
      "text/plain": [
       "d2900450f65753b3028991f582089496.zip:   0%|          | 0.00/17.8M [00:00<?, ?B/s]"
      ]
     },
     "metadata": {},
     "output_type": "display_data"
    },
    {
     "name": "stdout",
     "output_type": "stream",
     "text": [
      "✅ Downloaded: /glade/work/milesep/era5_cds/era5_sfc_2008_04.nc\n",
      "2008 5 28\n"
     ]
    },
    {
     "name": "stderr",
     "output_type": "stream",
     "text": [
      "2025-08-17 05:11:37,581 WARNING [2025-08-17T11:11:37.510452] You are using a deprecated API endpoint. If you are using cdsapi, please upgrade to the latest version.\n",
      "2025-08-17 05:11:37,582 INFO Request ID is 7383526c-af7e-422b-a76f-c77fb5cd70e3\n",
      "2025-08-17 05:11:37,765 INFO status has been updated to accepted\n",
      "2025-08-17 05:11:50,609 INFO status has been updated to running\n",
      "2025-08-17 05:17:57,812 INFO status has been updated to successful\n"
     ]
    },
    {
     "data": {
      "application/vnd.jupyter.widget-view+json": {
       "model_id": "e46c9b451bad48e99eb1e85474fcf99b",
       "version_major": 2,
       "version_minor": 0
      },
      "text/plain": [
       "fdc0c4c477dc584f789c1c1eaecfe604.nc:   0%|          | 0.00/189M [00:00<?, ?B/s]"
      ]
     },
     "metadata": {},
     "output_type": "display_data"
    },
    {
     "name": "stdout",
     "output_type": "stream",
     "text": [
      "✅ Downloaded: /glade/work/milesep/era5_cds/era5_pl_2008_05.nc\n"
     ]
    },
    {
     "name": "stderr",
     "output_type": "stream",
     "text": [
      "2025-08-17 05:18:15,015 WARNING [2025-08-17T11:18:14.944330] You are using a deprecated API endpoint. If you are using cdsapi, please upgrade to the latest version.\n",
      "2025-08-17 05:18:15,015 INFO Request ID is 6f48be18-4957-46bb-9c35-467e3557a948\n",
      "2025-08-17 05:18:15,182 INFO status has been updated to accepted\n",
      "2025-08-17 05:18:28,064 INFO status has been updated to running\n",
      "2025-08-17 05:19:04,609 INFO status has been updated to successful\n"
     ]
    },
    {
     "data": {
      "application/vnd.jupyter.widget-view+json": {
       "model_id": "ef6325e994b44af99f89ec8f94477d97",
       "version_major": 2,
       "version_minor": 0
      },
      "text/plain": [
       "9bdaf8b255d413857a0519847e078dbb.zip:   0%|          | 0.00/21.6M [00:00<?, ?B/s]"
      ]
     },
     "metadata": {},
     "output_type": "display_data"
    },
    {
     "name": "stdout",
     "output_type": "stream",
     "text": [
      "✅ Downloaded: /glade/work/milesep/era5_cds/era5_sfc_2008_05.nc\n",
      "2008 6 29\n"
     ]
    },
    {
     "name": "stderr",
     "output_type": "stream",
     "text": [
      "2025-08-17 05:19:09,305 WARNING [2025-08-17T11:19:09.233915] You are using a deprecated API endpoint. If you are using cdsapi, please upgrade to the latest version.\n",
      "2025-08-17 05:19:09,305 INFO Request ID is fb091309-b0b0-4d6d-ae31-427a68e5f42b\n",
      "2025-08-17 05:19:09,476 INFO status has been updated to accepted\n",
      "2025-08-17 05:19:17,086 INFO status has been updated to running\n",
      "2025-08-17 05:23:28,466 INFO status has been updated to successful\n"
     ]
    },
    {
     "data": {
      "application/vnd.jupyter.widget-view+json": {
       "model_id": "b60b517dbde64407926cc585f0041d22",
       "version_major": 2,
       "version_minor": 0
      },
      "text/plain": [
       "4a949753be39305df131a8a123bce746.nc:   0%|          | 0.00/193M [00:00<?, ?B/s]"
      ]
     },
     "metadata": {},
     "output_type": "display_data"
    },
    {
     "name": "stdout",
     "output_type": "stream",
     "text": [
      "✅ Downloaded: /glade/work/milesep/era5_cds/era5_pl_2008_06.nc\n"
     ]
    },
    {
     "name": "stderr",
     "output_type": "stream",
     "text": [
      "2025-08-17 05:26:07,825 WARNING [2025-08-17T11:26:07.756511] You are using a deprecated API endpoint. If you are using cdsapi, please upgrade to the latest version.\n",
      "2025-08-17 05:26:07,826 INFO Request ID is 4b624048-3f4b-4baa-90a3-abc09d2b4496\n",
      "2025-08-17 05:26:07,992 INFO status has been updated to accepted\n",
      "2025-08-17 05:26:15,650 INFO status has been updated to running\n",
      "2025-08-17 05:26:57,396 INFO status has been updated to successful\n"
     ]
    },
    {
     "data": {
      "application/vnd.jupyter.widget-view+json": {
       "model_id": "e5e47bcdd121470fbd4c8aa3f1bfaabc",
       "version_major": 2,
       "version_minor": 0
      },
      "text/plain": [
       "ff33fdc1184eb9cfb4fa43c710d7ce5c.zip:   0%|          | 0.00/22.3M [00:00<?, ?B/s]"
      ]
     },
     "metadata": {},
     "output_type": "display_data"
    },
    {
     "name": "stdout",
     "output_type": "stream",
     "text": [
      "✅ Downloaded: /glade/work/milesep/era5_cds/era5_sfc_2008_06.nc\n",
      "2008 7 30\n"
     ]
    },
    {
     "name": "stderr",
     "output_type": "stream",
     "text": [
      "2025-08-17 05:27:01,926 WARNING [2025-08-17T11:27:01.858753] You are using a deprecated API endpoint. If you are using cdsapi, please upgrade to the latest version.\n",
      "2025-08-17 05:27:01,927 INFO Request ID is bf6f2909-18d1-4c7d-89fa-cae28b53ebb3\n",
      "2025-08-17 05:27:02,101 INFO status has been updated to accepted\n",
      "2025-08-17 05:27:09,697 INFO status has been updated to running\n",
      "2025-08-17 05:31:21,084 INFO status has been updated to successful\n"
     ]
    },
    {
     "data": {
      "application/vnd.jupyter.widget-view+json": {
       "model_id": "66377d5a5c1140ab9310837a6f40d9bb",
       "version_major": 2,
       "version_minor": 0
      },
      "text/plain": [
       "22d53ed769a27911951067aa1a2eea79.nc:   0%|          | 0.00/201M [00:00<?, ?B/s]"
      ]
     },
     "metadata": {},
     "output_type": "display_data"
    },
    {
     "name": "stdout",
     "output_type": "stream",
     "text": [
      "✅ Downloaded: /glade/work/milesep/era5_cds/era5_pl_2008_07.nc\n"
     ]
    },
    {
     "name": "stderr",
     "output_type": "stream",
     "text": [
      "2025-08-17 05:33:33,969 WARNING [2025-08-17T11:33:33.899167] You are using a deprecated API endpoint. If you are using cdsapi, please upgrade to the latest version.\n",
      "2025-08-17 05:33:33,970 INFO Request ID is 0da4b0c2-efe3-41cc-9059-8384bf79fe8e\n",
      "2025-08-17 05:33:34,143 INFO status has been updated to accepted\n",
      "2025-08-17 05:33:41,790 INFO status has been updated to running\n",
      "2025-08-17 05:34:49,385 INFO status has been updated to successful\n"
     ]
    },
    {
     "data": {
      "application/vnd.jupyter.widget-view+json": {
       "model_id": "d2fee9addffa4110ab5c5a108a58ea37",
       "version_major": 2,
       "version_minor": 0
      },
      "text/plain": [
       "882bde6998191abe45b63b1e4e1d307a.zip:   0%|          | 0.00/23.0M [00:00<?, ?B/s]"
      ]
     },
     "metadata": {},
     "output_type": "display_data"
    },
    {
     "name": "stdout",
     "output_type": "stream",
     "text": [
      "✅ Downloaded: /glade/work/milesep/era5_cds/era5_sfc_2008_07.nc\n",
      "2008 8 27\n"
     ]
    },
    {
     "name": "stderr",
     "output_type": "stream",
     "text": [
      "2025-08-17 05:34:53,483 WARNING [2025-08-17T11:34:53.410786] You are using a deprecated API endpoint. If you are using cdsapi, please upgrade to the latest version.\n",
      "2025-08-17 05:34:53,484 INFO Request ID is 0a66f9cc-219c-4c7d-be84-f9c939cb5ea9\n",
      "2025-08-17 05:34:53,660 INFO status has been updated to accepted\n",
      "2025-08-17 05:35:25,814 INFO status has been updated to running\n",
      "2025-08-17 05:39:12,804 INFO status has been updated to successful\n"
     ]
    },
    {
     "data": {
      "application/vnd.jupyter.widget-view+json": {
       "model_id": "cc0181058ae74a1caacb17e1a21db1f4",
       "version_major": 2,
       "version_minor": 0
      },
      "text/plain": [
       "3c6a8d8e60dcedd04c95c1b9ff1fd80e.nc:   0%|          | 0.00/179M [00:00<?, ?B/s]"
      ]
     },
     "metadata": {},
     "output_type": "display_data"
    },
    {
     "name": "stdout",
     "output_type": "stream",
     "text": [
      "✅ Downloaded: /glade/work/milesep/era5_cds/era5_pl_2008_08.nc\n"
     ]
    },
    {
     "name": "stderr",
     "output_type": "stream",
     "text": [
      "2025-08-17 05:39:44,072 WARNING [2025-08-17T11:39:44.004078] You are using a deprecated API endpoint. If you are using cdsapi, please upgrade to the latest version.\n",
      "2025-08-17 05:39:44,073 INFO Request ID is 219008c3-122d-4476-9c3c-003bb6b6d856\n",
      "2025-08-17 05:39:44,238 INFO status has been updated to accepted\n",
      "2025-08-17 05:39:57,073 INFO status has been updated to running\n",
      "2025-08-17 05:40:59,528 INFO status has been updated to successful\n"
     ]
    },
    {
     "data": {
      "application/vnd.jupyter.widget-view+json": {
       "model_id": "d297c0067a64424c924edff48be51427",
       "version_major": 2,
       "version_minor": 0
      },
      "text/plain": [
       "eceaf105682b1c8975466a43f150ce96.zip:   0%|          | 0.00/20.7M [00:00<?, ?B/s]"
      ]
     },
     "metadata": {},
     "output_type": "display_data"
    },
    {
     "name": "stdout",
     "output_type": "stream",
     "text": [
      "✅ Downloaded: /glade/work/milesep/era5_cds/era5_sfc_2008_08.nc\n",
      "2008 9 19\n"
     ]
    },
    {
     "name": "stderr",
     "output_type": "stream",
     "text": [
      "2025-08-17 05:41:05,485 WARNING [2025-08-17T11:41:05.417201] You are using a deprecated API endpoint. If you are using cdsapi, please upgrade to the latest version.\n",
      "2025-08-17 05:41:05,486 INFO Request ID is e05cd2f1-9955-46f2-92ef-81cee967644a\n",
      "2025-08-17 05:41:05,652 INFO status has been updated to accepted\n",
      "2025-08-17 05:41:13,261 INFO status has been updated to running\n",
      "2025-08-17 05:43:57,823 INFO status has been updated to successful\n"
     ]
    },
    {
     "data": {
      "application/vnd.jupyter.widget-view+json": {
       "model_id": "8d3431b2b7f54f6a8cbc8e2a897a2f75",
       "version_major": 2,
       "version_minor": 0
      },
      "text/plain": [
       "da2b3967ddbc3f330fc682952dc6c482.nc:   0%|          | 0.00/124M [00:00<?, ?B/s]"
      ]
     },
     "metadata": {},
     "output_type": "display_data"
    },
    {
     "name": "stdout",
     "output_type": "stream",
     "text": [
      "✅ Downloaded: /glade/work/milesep/era5_cds/era5_pl_2008_09.nc\n"
     ]
    },
    {
     "name": "stderr",
     "output_type": "stream",
     "text": [
      "2025-08-17 05:44:06,780 WARNING [2025-08-17T11:44:06.710915] You are using a deprecated API endpoint. If you are using cdsapi, please upgrade to the latest version.\n",
      "2025-08-17 05:44:06,780 INFO Request ID is 02d28b89-b1a8-4b82-ac2a-025662989b72\n",
      "2025-08-17 05:44:06,942 INFO status has been updated to accepted\n",
      "2025-08-17 05:44:14,601 INFO status has been updated to running\n",
      "2025-08-17 05:44:39,113 INFO status has been updated to successful\n"
     ]
    },
    {
     "data": {
      "application/vnd.jupyter.widget-view+json": {
       "model_id": "062598a0fca34fc69f2cb2451c5c7021",
       "version_major": 2,
       "version_minor": 0
      },
      "text/plain": [
       "64dc932c50bf178b23e7f6a64bfd8941.zip:   0%|          | 0.00/14.5M [00:00<?, ?B/s]"
      ]
     },
     "metadata": {},
     "output_type": "display_data"
    },
    {
     "name": "stdout",
     "output_type": "stream",
     "text": [
      "✅ Downloaded: /glade/work/milesep/era5_cds/era5_sfc_2008_09.nc\n",
      "2008 10 9\n"
     ]
    },
    {
     "name": "stderr",
     "output_type": "stream",
     "text": [
      "2025-08-17 05:44:42,700 WARNING [2025-08-17T11:44:42.633324] You are using a deprecated API endpoint. If you are using cdsapi, please upgrade to the latest version.\n",
      "2025-08-17 05:44:42,700 INFO Request ID is 7c2d561f-0238-4c0b-aedc-fe8ead02c350\n",
      "2025-08-17 05:44:42,863 INFO status has been updated to accepted\n",
      "2025-08-17 05:44:50,464 INFO status has been updated to running\n",
      "2025-08-17 05:46:36,640 INFO status has been updated to successful\n"
     ]
    },
    {
     "data": {
      "application/vnd.jupyter.widget-view+json": {
       "model_id": "76c675be63a348c7977650dc1b218154",
       "version_major": 2,
       "version_minor": 0
      },
      "text/plain": [
       "44a09a09ca97382ed8818cd5832f4877.nc:   0%|          | 0.00/55.7M [00:00<?, ?B/s]"
      ]
     },
     "metadata": {},
     "output_type": "display_data"
    },
    {
     "name": "stdout",
     "output_type": "stream",
     "text": [
      "✅ Downloaded: /glade/work/milesep/era5_cds/era5_pl_2008_10.nc\n"
     ]
    },
    {
     "name": "stderr",
     "output_type": "stream",
     "text": [
      "2025-08-17 05:46:44,959 WARNING [2025-08-17T11:46:44.892797] You are using a deprecated API endpoint. If you are using cdsapi, please upgrade to the latest version.\n",
      "2025-08-17 05:46:44,960 INFO Request ID is db1fa0a9-6672-402f-bdef-bc4706c1ca36\n",
      "2025-08-17 05:46:45,129 INFO status has been updated to accepted\n",
      "2025-08-17 05:47:05,823 INFO status has been updated to running\n",
      "2025-08-17 05:47:17,364 INFO status has been updated to successful\n"
     ]
    },
    {
     "data": {
      "application/vnd.jupyter.widget-view+json": {
       "model_id": "5791270073c74dad9748d89f25a5f828",
       "version_major": 2,
       "version_minor": 0
      },
      "text/plain": [
       "7355e00df5b30228f7bd54f0e28279dc.zip:   0%|          | 0.00/6.88M [00:00<?, ?B/s]"
      ]
     },
     "metadata": {},
     "output_type": "display_data"
    },
    {
     "name": "stdout",
     "output_type": "stream",
     "text": [
      "✅ Downloaded: /glade/work/milesep/era5_cds/era5_sfc_2008_10.nc\n",
      "2008 11 8\n"
     ]
    },
    {
     "name": "stderr",
     "output_type": "stream",
     "text": [
      "2025-08-17 05:47:20,298 WARNING [2025-08-17T11:47:20.230218] You are using a deprecated API endpoint. If you are using cdsapi, please upgrade to the latest version.\n",
      "2025-08-17 05:47:20,299 INFO Request ID is 598e0964-43e0-4599-acac-9ec90adf4247\n",
      "2025-08-17 05:47:20,448 INFO status has been updated to accepted\n",
      "2025-08-17 05:47:28,041 INFO status has been updated to running\n",
      "2025-08-17 05:48:35,608 INFO status has been updated to successful\n"
     ]
    },
    {
     "data": {
      "application/vnd.jupyter.widget-view+json": {
       "model_id": "44b194d71c6141c49e5dea62e4615a0e",
       "version_major": 2,
       "version_minor": 0
      },
      "text/plain": [
       "5d3f4de69b69260ae9ee5aa1557b1d6f.nc:   0%|          | 0.00/49.1M [00:00<?, ?B/s]"
      ]
     },
     "metadata": {},
     "output_type": "display_data"
    },
    {
     "name": "stdout",
     "output_type": "stream",
     "text": [
      "✅ Downloaded: /glade/work/milesep/era5_cds/era5_pl_2008_11.nc\n"
     ]
    },
    {
     "name": "stderr",
     "output_type": "stream",
     "text": [
      "2025-08-17 05:48:40,634 WARNING [2025-08-17T11:48:40.566616] You are using a deprecated API endpoint. If you are using cdsapi, please upgrade to the latest version.\n",
      "2025-08-17 05:48:40,635 INFO Request ID is 0f9b9d1c-50d3-4d39-996d-3c52b8c43d9e\n",
      "2025-08-17 05:48:40,813 INFO status has been updated to accepted\n",
      "2025-08-17 05:48:48,497 INFO status has been updated to running\n",
      "2025-08-17 05:49:01,471 INFO status has been updated to successful\n"
     ]
    },
    {
     "data": {
      "application/vnd.jupyter.widget-view+json": {
       "model_id": "31a0965957074290a3098dbee1d52ae3",
       "version_major": 2,
       "version_minor": 0
      },
      "text/plain": [
       "6a8147b79eaa75f3d4eaed5235f1e3a7.zip:   0%|          | 0.00/6.10M [00:00<?, ?B/s]"
      ]
     },
     "metadata": {},
     "output_type": "display_data"
    },
    {
     "name": "stdout",
     "output_type": "stream",
     "text": [
      "✅ Downloaded: /glade/work/milesep/era5_cds/era5_sfc_2008_11.nc\n",
      "2008 12 7\n"
     ]
    },
    {
     "name": "stderr",
     "output_type": "stream",
     "text": [
      "2025-08-17 05:49:05,480 WARNING [2025-08-17T11:49:05.413205] You are using a deprecated API endpoint. If you are using cdsapi, please upgrade to the latest version.\n",
      "2025-08-17 05:49:05,481 INFO Request ID is 9b01e310-97ca-408d-8500-b1a8146aa85a\n",
      "2025-08-17 05:49:05,633 INFO status has been updated to accepted\n",
      "2025-08-17 05:49:18,432 INFO status has been updated to running\n",
      "2025-08-17 05:50:59,420 INFO status has been updated to successful\n"
     ]
    },
    {
     "data": {
      "application/vnd.jupyter.widget-view+json": {
       "model_id": "e90ce831325449038e4470f90061beb6",
       "version_major": 2,
       "version_minor": 0
      },
      "text/plain": [
       "e9bccf3895341dd204878750cf75b36e.nc:   0%|          | 0.00/42.6M [00:00<?, ?B/s]"
      ]
     },
     "metadata": {},
     "output_type": "display_data"
    },
    {
     "name": "stdout",
     "output_type": "stream",
     "text": [
      "✅ Downloaded: /glade/work/milesep/era5_cds/era5_pl_2008_12.nc\n"
     ]
    },
    {
     "name": "stderr",
     "output_type": "stream",
     "text": [
      "2025-08-17 05:51:09,123 WARNING [2025-08-17T11:51:09.054709] You are using a deprecated API endpoint. If you are using cdsapi, please upgrade to the latest version.\n",
      "2025-08-17 05:51:09,124 INFO Request ID is 243f8458-ff72-4128-9d1b-20ebe22d3893\n",
      "2025-08-17 05:51:09,297 INFO status has been updated to accepted\n",
      "2025-08-17 05:51:13,416 INFO status has been updated to running\n",
      "2025-08-17 05:51:29,924 INFO status has been updated to successful\n"
     ]
    },
    {
     "data": {
      "application/vnd.jupyter.widget-view+json": {
       "model_id": "5943efc8d4e5451abbc31dd96f3fc6e5",
       "version_major": 2,
       "version_minor": 0
      },
      "text/plain": [
       "c46cb7ba9d3b84bda191f91800e4cd4f.zip:   0%|          | 0.00/5.34M [00:00<?, ?B/s]"
      ]
     },
     "metadata": {},
     "output_type": "display_data"
    },
    {
     "name": "stdout",
     "output_type": "stream",
     "text": [
      "✅ Downloaded: /glade/work/milesep/era5_cds/era5_sfc_2008_12.nc\n",
      "2009 1 2\n"
     ]
    },
    {
     "name": "stderr",
     "output_type": "stream",
     "text": [
      "2025-08-17 05:51:32,824 WARNING [2025-08-17T11:51:32.756895] You are using a deprecated API endpoint. If you are using cdsapi, please upgrade to the latest version.\n",
      "2025-08-17 05:51:32,825 INFO Request ID is 27c469af-b6aa-480f-9ded-b9b9df2c57de\n",
      "2025-08-17 05:51:32,976 INFO status has been updated to accepted\n",
      "2025-08-17 05:51:40,570 INFO status has been updated to running\n",
      "2025-08-17 05:52:22,327 INFO status has been updated to successful\n"
     ]
    },
    {
     "data": {
      "application/vnd.jupyter.widget-view+json": {
       "model_id": "647ae08164a043fdb12e08df50eeb6cf",
       "version_major": 2,
       "version_minor": 0
      },
      "text/plain": [
       "1ab23df5de697b9a760069f770381906.nc:   0%|          | 0.00/12.2M [00:00<?, ?B/s]"
      ]
     },
     "metadata": {},
     "output_type": "display_data"
    },
    {
     "name": "stdout",
     "output_type": "stream",
     "text": [
      "✅ Downloaded: /glade/work/milesep/era5_cds/era5_pl_2009_01.nc\n"
     ]
    },
    {
     "name": "stderr",
     "output_type": "stream",
     "text": [
      "2025-08-17 05:52:25,814 WARNING [2025-08-17T11:52:25.748037] You are using a deprecated API endpoint. If you are using cdsapi, please upgrade to the latest version.\n",
      "2025-08-17 05:52:25,815 INFO Request ID is 7b25e918-8fc3-4ad9-86c9-086595395d65\n",
      "2025-08-17 05:52:25,965 INFO status has been updated to accepted\n",
      "2025-08-17 05:52:33,672 INFO status has been updated to running\n",
      "2025-08-17 05:52:46,674 INFO status has been updated to successful\n"
     ]
    },
    {
     "name": "stdout",
     "output_type": "stream",
     "text": [
      "⚠️ Attempt 1 failed for /glade/work/milesep/era5_cds/era5_sfc_2009_01.nc: Result not ready, job is running\n",
      "Retrying in 30s...\n"
     ]
    },
    {
     "name": "stderr",
     "output_type": "stream",
     "text": [
      "2025-08-17 05:53:17,120 WARNING [2025-08-17T11:53:17.051882] You are using a deprecated API endpoint. If you are using cdsapi, please upgrade to the latest version.\n",
      "2025-08-17 05:53:17,121 INFO Request ID is 57e1a3a1-cc40-4320-b215-6c0e1e79beb3\n",
      "2025-08-17 05:53:17,271 INFO status has been updated to accepted\n",
      "2025-08-17 05:53:49,479 INFO status has been updated to successful\n"
     ]
    },
    {
     "data": {
      "application/vnd.jupyter.widget-view+json": {
       "model_id": "fea33aa0f55046249f71ed77b77fdb9b",
       "version_major": 2,
       "version_minor": 0
      },
      "text/plain": [
       "c05e884bf07f292f1a437bdd88fa0dba.zip:   0%|          | 0.00/1.58M [00:00<?, ?B/s]"
      ]
     },
     "metadata": {},
     "output_type": "display_data"
    },
    {
     "name": "stdout",
     "output_type": "stream",
     "text": [
      "✅ Downloaded: /glade/work/milesep/era5_cds/era5_sfc_2009_01.nc\n",
      "2009 2 10\n"
     ]
    },
    {
     "name": "stderr",
     "output_type": "stream",
     "text": [
      "2025-08-17 05:53:52,076 WARNING [2025-08-17T11:53:52.009578] You are using a deprecated API endpoint. If you are using cdsapi, please upgrade to the latest version.\n",
      "2025-08-17 05:53:52,077 INFO Request ID is 980831cc-39ca-4617-8ca7-e93b9357f8d2\n",
      "2025-08-17 05:53:52,237 INFO status has been updated to accepted\n",
      "2025-08-17 05:54:05,208 INFO status has been updated to running\n",
      "2025-08-17 05:55:46,264 INFO status has been updated to successful\n"
     ]
    },
    {
     "data": {
      "application/vnd.jupyter.widget-view+json": {
       "model_id": "8c1470126fc2484d922fe62cb0475913",
       "version_major": 2,
       "version_minor": 0
      },
      "text/plain": [
       "16d26a61aaf82e6ae02e060ea5154ce6.nc:   0%|          | 0.00/61.9M [00:00<?, ?B/s]"
      ]
     },
     "metadata": {},
     "output_type": "display_data"
    },
    {
     "name": "stdout",
     "output_type": "stream",
     "text": [
      "✅ Downloaded: /glade/work/milesep/era5_cds/era5_pl_2009_02.nc\n"
     ]
    },
    {
     "name": "stderr",
     "output_type": "stream",
     "text": [
      "2025-08-17 05:55:52,296 WARNING [2025-08-17T11:55:52.227456] You are using a deprecated API endpoint. If you are using cdsapi, please upgrade to the latest version.\n",
      "2025-08-17 05:55:52,297 INFO Request ID is 7d896e51-896b-462a-8be0-82eaa5a48628\n",
      "2025-08-17 05:55:52,468 INFO status has been updated to accepted\n",
      "2025-08-17 05:56:13,122 INFO status has been updated to successful\n"
     ]
    },
    {
     "data": {
      "application/vnd.jupyter.widget-view+json": {
       "model_id": "cb47e0079dd74e52bbc444a96c3a9f53",
       "version_major": 2,
       "version_minor": 0
      },
      "text/plain": [
       "e5e6426e153bf2b2a511e5a9a531b1bb.zip:   0%|          | 0.00/7.64M [00:00<?, ?B/s]"
      ]
     },
     "metadata": {},
     "output_type": "display_data"
    },
    {
     "name": "stdout",
     "output_type": "stream",
     "text": [
      "✅ Downloaded: /glade/work/milesep/era5_cds/era5_sfc_2009_02.nc\n",
      "2009 3 14\n"
     ]
    },
    {
     "name": "stderr",
     "output_type": "stream",
     "text": [
      "2025-08-17 05:56:16,096 WARNING [2025-08-17T11:56:16.028938] You are using a deprecated API endpoint. If you are using cdsapi, please upgrade to the latest version.\n",
      "2025-08-17 05:56:16,096 INFO Request ID is 4a7f3629-27ba-4f9f-b190-67959bc5a02f\n",
      "2025-08-17 05:56:16,265 INFO status has been updated to accepted\n",
      "2025-08-17 05:56:23,834 INFO status has been updated to running\n",
      "2025-08-17 05:59:08,422 INFO status has been updated to successful\n"
     ]
    },
    {
     "data": {
      "application/vnd.jupyter.widget-view+json": {
       "model_id": "c6972cd09ccf4d3ca72ed50a167380d4",
       "version_major": 2,
       "version_minor": 0
      },
      "text/plain": [
       "56a1d64b230f8dc0e3419ed9b6a788dd.nc:   0%|          | 0.00/87.1M [00:00<?, ?B/s]"
      ]
     },
     "metadata": {},
     "output_type": "display_data"
    },
    {
     "name": "stdout",
     "output_type": "stream",
     "text": [
      "✅ Downloaded: /glade/work/milesep/era5_cds/era5_pl_2009_03.nc\n"
     ]
    },
    {
     "name": "stderr",
     "output_type": "stream",
     "text": [
      "2025-08-17 05:59:16,094 WARNING [2025-08-17T11:59:16.025087] You are using a deprecated API endpoint. If you are using cdsapi, please upgrade to the latest version.\n",
      "2025-08-17 05:59:16,094 INFO Request ID is 65af419c-5319-41c7-81f4-f4e2ebde419f\n",
      "2025-08-17 05:59:16,264 INFO status has been updated to accepted\n",
      "2025-08-17 05:59:36,912 INFO status has been updated to running\n",
      "2025-08-17 05:59:48,458 INFO status has been updated to successful\n"
     ]
    },
    {
     "data": {
      "application/vnd.jupyter.widget-view+json": {
       "model_id": "9b7106a201e8424389bc877365e510f8",
       "version_major": 2,
       "version_minor": 0
      },
      "text/plain": [
       "c415560acbdca24afccb4f6ff35f5750.zip:   0%|          | 0.00/10.8M [00:00<?, ?B/s]"
      ]
     },
     "metadata": {},
     "output_type": "display_data"
    },
    {
     "name": "stdout",
     "output_type": "stream",
     "text": [
      "✅ Downloaded: /glade/work/milesep/era5_cds/era5_sfc_2009_03.nc\n",
      "2009 4 22\n"
     ]
    },
    {
     "name": "stderr",
     "output_type": "stream",
     "text": [
      "2025-08-17 05:59:51,567 WARNING [2025-08-17T11:59:51.498972] You are using a deprecated API endpoint. If you are using cdsapi, please upgrade to the latest version.\n",
      "2025-08-17 05:59:51,567 INFO Request ID is 33fe842e-ac62-4967-8dfc-885460a81161\n",
      "2025-08-17 05:59:51,717 INFO status has been updated to accepted\n",
      "2025-08-17 05:59:59,316 INFO status has been updated to running\n",
      "2025-08-17 06:04:11,830 INFO status has been updated to successful\n"
     ]
    },
    {
     "data": {
      "application/vnd.jupyter.widget-view+json": {
       "model_id": "28b34bbd5adc497f83d8104b39d009ad",
       "version_major": 2,
       "version_minor": 0
      },
      "text/plain": [
       "ee4f781783a3bb5cf0a447ba607b2d1d.nc:   0%|          | 0.00/145M [00:00<?, ?B/s]"
      ]
     },
     "metadata": {},
     "output_type": "display_data"
    },
    {
     "name": "stdout",
     "output_type": "stream",
     "text": [
      "✅ Downloaded: /glade/work/milesep/era5_cds/era5_pl_2009_04.nc\n"
     ]
    },
    {
     "name": "stderr",
     "output_type": "stream",
     "text": [
      "2025-08-17 06:04:51,617 WARNING [2025-08-17T12:04:51.543644] You are using a deprecated API endpoint. If you are using cdsapi, please upgrade to the latest version.\n",
      "2025-08-17 06:04:51,618 INFO Request ID is 81e49f8f-366d-4934-bd76-9fbf12338713\n",
      "2025-08-17 06:04:51,795 INFO status has been updated to accepted\n",
      "2025-08-17 06:05:04,666 INFO status has been updated to running\n",
      "2025-08-17 06:05:41,248 INFO status has been updated to successful\n"
     ]
    },
    {
     "data": {
      "application/vnd.jupyter.widget-view+json": {
       "model_id": "4fd2334033bf4b6ca95b191dacbf9ad0",
       "version_major": 2,
       "version_minor": 0
      },
      "text/plain": [
       "a0c8708547eb7492e3ad66b6ca3506b7.zip:   0%|          | 0.00/17.0M [00:00<?, ?B/s]"
      ]
     },
     "metadata": {},
     "output_type": "display_data"
    },
    {
     "name": "stdout",
     "output_type": "stream",
     "text": [
      "✅ Downloaded: /glade/work/milesep/era5_cds/era5_sfc_2009_04.nc\n",
      "2009 5 22\n"
     ]
    },
    {
     "name": "stderr",
     "output_type": "stream",
     "text": [
      "2025-08-17 06:05:45,658 WARNING [2025-08-17T12:05:45.586365] You are using a deprecated API endpoint. If you are using cdsapi, please upgrade to the latest version.\n",
      "2025-08-17 06:05:45,659 INFO Request ID is 5665abe1-0166-4a79-8fe6-a6cdb5b8270d\n",
      "2025-08-17 06:05:45,917 INFO status has been updated to accepted\n",
      "2025-08-17 06:05:53,548 INFO status has been updated to running\n",
      "2025-08-17 06:10:05,039 INFO status has been updated to successful\n"
     ]
    },
    {
     "data": {
      "application/vnd.jupyter.widget-view+json": {
       "model_id": "41a6cf25038d479887241081c8fcf75f",
       "version_major": 2,
       "version_minor": 0
      },
      "text/plain": [
       "ea7ca328a0437e00752d34928f486242.nc:   0%|          | 0.00/146M [00:00<?, ?B/s]"
      ]
     },
     "metadata": {},
     "output_type": "display_data"
    },
    {
     "name": "stdout",
     "output_type": "stream",
     "text": [
      "✅ Downloaded: /glade/work/milesep/era5_cds/era5_pl_2009_05.nc\n"
     ]
    },
    {
     "name": "stderr",
     "output_type": "stream",
     "text": [
      "2025-08-17 06:13:04,759 WARNING [2025-08-17T12:13:04.692408] You are using a deprecated API endpoint. If you are using cdsapi, please upgrade to the latest version.\n",
      "2025-08-17 06:13:04,760 INFO Request ID is 673ab8d3-b8c2-4b4a-ad3d-399870b0dd24\n",
      "2025-08-17 06:13:04,942 INFO status has been updated to accepted\n",
      "2025-08-17 06:13:17,952 INFO status has been updated to running\n",
      "2025-08-17 06:13:54,496 INFO status has been updated to successful\n"
     ]
    },
    {
     "data": {
      "application/vnd.jupyter.widget-view+json": {
       "model_id": "3510ea50bf734a9d9cd4cade9a87d2fc",
       "version_major": 2,
       "version_minor": 0
      },
      "text/plain": [
       "26dafb7444a942db7fd3b183f909ab08.zip:   0%|          | 0.00/17.0M [00:00<?, ?B/s]"
      ]
     },
     "metadata": {},
     "output_type": "display_data"
    },
    {
     "name": "stdout",
     "output_type": "stream",
     "text": [
      "✅ Downloaded: /glade/work/milesep/era5_cds/era5_sfc_2009_05.nc\n",
      "2009 6 29\n"
     ]
    },
    {
     "name": "stderr",
     "output_type": "stream",
     "text": [
      "2025-08-17 06:14:49,404 WARNING [2025-08-17T12:14:49.331904] You are using a deprecated API endpoint. If you are using cdsapi, please upgrade to the latest version.\n",
      "2025-08-17 06:14:49,404 INFO Request ID is 40d2118b-93fa-497e-917f-ad0bf11a76e7\n",
      "2025-08-17 06:14:49,598 INFO status has been updated to accepted\n",
      "2025-08-17 06:15:02,620 INFO status has been updated to running\n",
      "2025-08-17 06:19:08,736 INFO status has been updated to successful\n"
     ]
    },
    {
     "data": {
      "application/vnd.jupyter.widget-view+json": {
       "model_id": "3d4e907f492c4f779624807e8f78d2a5",
       "version_major": 2,
       "version_minor": 0
      },
      "text/plain": [
       "85f9cee5c31e34bbe620435550604211.nc:   0%|          | 0.00/191M [00:00<?, ?B/s]"
      ]
     },
     "metadata": {},
     "output_type": "display_data"
    },
    {
     "name": "stdout",
     "output_type": "stream",
     "text": [
      "✅ Downloaded: /glade/work/milesep/era5_cds/era5_pl_2009_06.nc\n"
     ]
    },
    {
     "name": "stderr",
     "output_type": "stream",
     "text": [
      "2025-08-17 06:19:34,057 WARNING [2025-08-17T12:19:33.987992] You are using a deprecated API endpoint. If you are using cdsapi, please upgrade to the latest version.\n",
      "2025-08-17 06:19:34,058 INFO Request ID is 11bd91e5-8caf-472a-9e4f-078debd95cf9\n",
      "2025-08-17 06:19:34,268 INFO status has been updated to accepted\n",
      "2025-08-17 06:19:47,258 INFO status has been updated to running\n",
      "2025-08-17 06:20:23,853 INFO status has been updated to successful\n"
     ]
    },
    {
     "data": {
      "application/vnd.jupyter.widget-view+json": {
       "model_id": "3dfb4deeb391415eaae42329d8f2bd6e",
       "version_major": 2,
       "version_minor": 0
      },
      "text/plain": [
       "bde220b6ae9a60fd661fb7be3052069c.zip:   0%|          | 0.00/22.4M [00:00<?, ?B/s]"
      ]
     },
     "metadata": {},
     "output_type": "display_data"
    },
    {
     "name": "stdout",
     "output_type": "stream",
     "text": [
      "✅ Downloaded: /glade/work/milesep/era5_cds/era5_sfc_2009_06.nc\n",
      "2009 7 31\n"
     ]
    },
    {
     "name": "stderr",
     "output_type": "stream",
     "text": [
      "2025-08-17 06:20:39,207 WARNING [2025-08-17T12:20:39.138433] You are using a deprecated API endpoint. If you are using cdsapi, please upgrade to the latest version.\n",
      "2025-08-17 06:20:39,208 INFO Request ID is dda9ddd4-fb32-4cd2-b2d4-b11783f2450b\n",
      "2025-08-17 06:20:39,435 INFO status has been updated to accepted\n",
      "2025-08-17 06:20:47,065 INFO status has been updated to running\n",
      "2025-08-17 06:24:58,325 INFO status has been updated to successful\n"
     ]
    },
    {
     "data": {
      "application/vnd.jupyter.widget-view+json": {
       "model_id": "aef942301d9740638d4f622f78c668f3",
       "version_major": 2,
       "version_minor": 0
      },
      "text/plain": [
       "1902bb1fe58cdbc561976345736c8a90.nc:   0%|          | 0.00/205M [00:00<?, ?B/s]"
      ]
     },
     "metadata": {},
     "output_type": "display_data"
    },
    {
     "name": "stdout",
     "output_type": "stream",
     "text": [
      "✅ Downloaded: /glade/work/milesep/era5_cds/era5_pl_2009_07.nc\n"
     ]
    },
    {
     "name": "stderr",
     "output_type": "stream",
     "text": [
      "2025-08-17 06:25:53,545 WARNING [2025-08-17T12:25:53.474197] You are using a deprecated API endpoint. If you are using cdsapi, please upgrade to the latest version.\n",
      "2025-08-17 06:25:53,545 INFO Request ID is 832c2fdc-907c-4deb-b375-1728e00ea9e1\n",
      "2025-08-17 06:25:53,708 INFO status has been updated to accepted\n",
      "2025-08-17 06:26:01,393 INFO status has been updated to running\n",
      "2025-08-17 06:27:09,010 INFO status has been updated to successful\n"
     ]
    },
    {
     "data": {
      "application/vnd.jupyter.widget-view+json": {
       "model_id": "30a493688df249fba86cebd61c3b77b9",
       "version_major": 2,
       "version_minor": 0
      },
      "text/plain": [
       "6d799d98aeb7ec95a5fc5bc8652d70ba.zip:   0%|          | 0.00/23.7M [00:00<?, ?B/s]"
      ]
     },
     "metadata": {},
     "output_type": "display_data"
    },
    {
     "name": "stdout",
     "output_type": "stream",
     "text": [
      "✅ Downloaded: /glade/work/milesep/era5_cds/era5_sfc_2009_07.nc\n",
      "2009 8 23\n"
     ]
    },
    {
     "name": "stderr",
     "output_type": "stream",
     "text": [
      "2025-08-17 06:27:13,044 WARNING [2025-08-17T12:27:12.972695] You are using a deprecated API endpoint. If you are using cdsapi, please upgrade to the latest version.\n",
      "2025-08-17 06:27:13,045 INFO Request ID is f5620efa-e880-4fc7-89f7-da92f70e78af\n",
      "2025-08-17 06:27:13,263 INFO status has been updated to accepted\n",
      "2025-08-17 06:27:34,106 INFO status has been updated to running\n",
      "2025-08-17 06:33:32,991 INFO status has been updated to successful\n"
     ]
    },
    {
     "data": {
      "application/vnd.jupyter.widget-view+json": {
       "model_id": "96b0db46a96b41e8bbb65f83a65f0035",
       "version_major": 2,
       "version_minor": 0
      },
      "text/plain": [
       "9b4516fb3a4d08787a2100bd03cce7c6.nc:   0%|          | 0.00/151M [00:00<?, ?B/s]"
      ]
     },
     "metadata": {},
     "output_type": "display_data"
    },
    {
     "name": "stdout",
     "output_type": "stream",
     "text": [
      "✅ Downloaded: /glade/work/milesep/era5_cds/era5_pl_2009_08.nc\n"
     ]
    },
    {
     "name": "stderr",
     "output_type": "stream",
     "text": [
      "2025-08-17 06:33:44,439 WARNING [2025-08-17T12:33:44.369335] You are using a deprecated API endpoint. If you are using cdsapi, please upgrade to the latest version.\n",
      "2025-08-17 06:33:44,440 INFO Request ID is f1ab785a-77d6-4328-97cd-fad7bfb2df99\n",
      "2025-08-17 06:33:44,596 INFO status has been updated to accepted\n",
      "2025-08-17 06:34:05,274 INFO status has been updated to running\n",
      "2025-08-17 06:34:34,078 INFO status has been updated to successful\n"
     ]
    },
    {
     "data": {
      "application/vnd.jupyter.widget-view+json": {
       "model_id": "ed36789c602f4c82a237fc9109f52f07",
       "version_major": 2,
       "version_minor": 0
      },
      "text/plain": [
       "65f01c88c00b0786b5553df56ce78f17.zip:   0%|          | 0.00/17.6M [00:00<?, ?B/s]"
      ]
     },
     "metadata": {},
     "output_type": "display_data"
    },
    {
     "name": "stdout",
     "output_type": "stream",
     "text": [
      "✅ Downloaded: /glade/work/milesep/era5_cds/era5_sfc_2009_08.nc\n",
      "2009 9 8\n"
     ]
    },
    {
     "name": "stderr",
     "output_type": "stream",
     "text": [
      "2025-08-17 06:34:37,580 WARNING [2025-08-17T12:34:37.508764] You are using a deprecated API endpoint. If you are using cdsapi, please upgrade to the latest version.\n",
      "2025-08-17 06:34:37,581 INFO Request ID is df5b00d9-e3b2-47f8-86f4-4b90d1fbbfc5\n",
      "2025-08-17 06:34:37,751 INFO status has been updated to accepted\n",
      "2025-08-17 06:34:45,462 INFO status has been updated to running\n",
      "2025-08-17 06:35:53,113 INFO status has been updated to successful\n"
     ]
    },
    {
     "data": {
      "application/vnd.jupyter.widget-view+json": {
       "model_id": "7db77e1206a045ca99f198672ad9c1d8",
       "version_major": 2,
       "version_minor": 0
      },
      "text/plain": [
       "2d402c18865b9c458e7c6a25f6550f1d.nc:   0%|          | 0.00/47.9M [00:00<?, ?B/s]"
      ]
     },
     "metadata": {},
     "output_type": "display_data"
    },
    {
     "name": "stdout",
     "output_type": "stream",
     "text": [
      "✅ Downloaded: /glade/work/milesep/era5_cds/era5_pl_2009_09.nc\n"
     ]
    },
    {
     "name": "stderr",
     "output_type": "stream",
     "text": [
      "2025-08-17 06:35:58,123 WARNING [2025-08-17T12:35:58.051548] You are using a deprecated API endpoint. If you are using cdsapi, please upgrade to the latest version.\n",
      "2025-08-17 06:35:58,124 INFO Request ID is 88eaf3ee-c4f8-4f17-8328-38f9c6ce9e45\n",
      "2025-08-17 06:35:58,303 INFO status has been updated to accepted\n",
      "2025-08-17 06:36:05,940 INFO status has been updated to running\n",
      "2025-08-17 06:36:47,900 INFO status has been updated to successful\n"
     ]
    },
    {
     "data": {
      "application/vnd.jupyter.widget-view+json": {
       "model_id": "8448a59a70674409bc85856d6c0f815c",
       "version_major": 2,
       "version_minor": 0
      },
      "text/plain": [
       "206180edc7d73cb03c597ff37702be5e.zip:   0%|          | 0.00/6.15M [00:00<?, ?B/s]"
      ]
     },
     "metadata": {},
     "output_type": "display_data"
    },
    {
     "name": "stdout",
     "output_type": "stream",
     "text": [
      "✅ Downloaded: /glade/work/milesep/era5_cds/era5_sfc_2009_09.nc\n",
      "2009 10 13\n"
     ]
    },
    {
     "name": "stderr",
     "output_type": "stream",
     "text": [
      "2025-08-17 06:36:50,806 WARNING [2025-08-17T12:36:50.736830] You are using a deprecated API endpoint. If you are using cdsapi, please upgrade to the latest version.\n",
      "2025-08-17 06:36:50,807 INFO Request ID is 4e70bf20-a078-43e0-81d3-08b1a12374e8\n",
      "2025-08-17 06:36:50,959 INFO status has been updated to accepted\n",
      "2025-08-17 06:36:58,549 INFO status has been updated to running\n",
      "2025-08-17 06:38:44,913 INFO status has been updated to successful\n"
     ]
    },
    {
     "data": {
      "application/vnd.jupyter.widget-view+json": {
       "model_id": "be413727875a4978b764b0905d1f1587",
       "version_major": 2,
       "version_minor": 0
      },
      "text/plain": [
       "faa02a4383d972e8b826ac0244f55bf0.nc:   0%|          | 0.00/80.3M [00:00<?, ?B/s]"
      ]
     },
     "metadata": {},
     "output_type": "display_data"
    },
    {
     "name": "stdout",
     "output_type": "stream",
     "text": [
      "✅ Downloaded: /glade/work/milesep/era5_cds/era5_pl_2009_10.nc\n"
     ]
    },
    {
     "name": "stderr",
     "output_type": "stream",
     "text": [
      "2025-08-17 06:38:52,580 WARNING [2025-08-17T12:38:52.501687] You are using a deprecated API endpoint. If you are using cdsapi, please upgrade to the latest version.\n",
      "2025-08-17 06:38:52,580 INFO Request ID is 09c50c35-0d3e-412d-9e2f-5197ce5997bf\n",
      "2025-08-17 06:38:52,749 INFO status has been updated to accepted\n",
      "2025-08-17 06:39:00,380 INFO status has been updated to running\n",
      "2025-08-17 06:39:24,955 INFO status has been updated to successful\n"
     ]
    },
    {
     "data": {
      "application/vnd.jupyter.widget-view+json": {
       "model_id": "04c0ca720d0346daacc8cdb297ed410b",
       "version_major": 2,
       "version_minor": 0
      },
      "text/plain": [
       "4e2466268c2dca8646d94503264c6c1.zip:   0%|          | 0.00/9.79M [00:00<?, ?B/s]"
      ]
     },
     "metadata": {},
     "output_type": "display_data"
    },
    {
     "name": "stdout",
     "output_type": "stream",
     "text": [
      "✅ Downloaded: /glade/work/milesep/era5_cds/era5_sfc_2009_10.nc\n",
      "2009 12 8\n"
     ]
    },
    {
     "name": "stderr",
     "output_type": "stream",
     "text": [
      "2025-08-17 06:39:28,293 WARNING [2025-08-17T12:39:28.222058] You are using a deprecated API endpoint. If you are using cdsapi, please upgrade to the latest version.\n",
      "2025-08-17 06:39:28,293 INFO Request ID is 1d01529f-4ed3-410b-8c06-8bbee4bf7ff6\n",
      "2025-08-17 06:39:28,445 INFO status has been updated to accepted\n",
      "2025-08-17 06:39:36,095 INFO status has been updated to running\n",
      "2025-08-17 06:39:41,328 INFO status has been updated to accepted\n",
      "2025-08-17 06:39:49,091 INFO status has been updated to running\n",
      "2025-08-17 06:40:43,708 INFO status has been updated to successful\n"
     ]
    },
    {
     "data": {
      "application/vnd.jupyter.widget-view+json": {
       "model_id": "0e67e6b264314e8c9e5715397299cfea",
       "version_major": 2,
       "version_minor": 0
      },
      "text/plain": [
       "b55f31db234dba8cbb9c51fa926ff30c.nc:   0%|          | 0.00/48.8M [00:00<?, ?B/s]"
      ]
     },
     "metadata": {},
     "output_type": "display_data"
    },
    {
     "name": "stdout",
     "output_type": "stream",
     "text": [
      "✅ Downloaded: /glade/work/milesep/era5_cds/era5_pl_2009_12.nc\n"
     ]
    },
    {
     "name": "stderr",
     "output_type": "stream",
     "text": [
      "2025-08-17 06:40:55,070 WARNING [2025-08-17T12:40:54.999979] You are using a deprecated API endpoint. If you are using cdsapi, please upgrade to the latest version.\n",
      "2025-08-17 06:40:55,071 INFO Request ID is ce52bc72-c997-4017-ba35-6cff66b2ba35\n",
      "2025-08-17 06:40:55,247 INFO status has been updated to accepted\n",
      "2025-08-17 06:41:02,876 INFO status has been updated to running\n",
      "2025-08-17 06:41:27,438 INFO status has been updated to successful\n"
     ]
    },
    {
     "data": {
      "application/vnd.jupyter.widget-view+json": {
       "model_id": "8573a068cdbd481a930b63b6297baa58",
       "version_major": 2,
       "version_minor": 0
      },
      "text/plain": [
       "f331712ba3c16a05591b9142e38d2f69.zip:   0%|          | 0.00/6.09M [00:00<?, ?B/s]"
      ]
     },
     "metadata": {},
     "output_type": "display_data"
    },
    {
     "name": "stdout",
     "output_type": "stream",
     "text": [
      "✅ Downloaded: /glade/work/milesep/era5_cds/era5_sfc_2009_12.nc\n",
      "2010 1 6\n"
     ]
    },
    {
     "name": "stderr",
     "output_type": "stream",
     "text": [
      "2025-08-17 06:41:30,400 WARNING [2025-08-17T12:41:30.330940] You are using a deprecated API endpoint. If you are using cdsapi, please upgrade to the latest version.\n",
      "2025-08-17 06:41:30,401 INFO Request ID is daef7368-058e-49a3-90a6-2b5bfae86f2e\n",
      "2025-08-17 06:41:30,576 INFO status has been updated to accepted\n",
      "2025-08-17 06:41:38,193 INFO status has been updated to running\n",
      "2025-08-17 06:42:19,977 INFO status has been updated to successful\n"
     ]
    },
    {
     "data": {
      "application/vnd.jupyter.widget-view+json": {
       "model_id": "d6fde2ec36974aae8235556155c5bf48",
       "version_major": 2,
       "version_minor": 0
      },
      "text/plain": [
       "c93a92c8ef848a4fdfdcd520ece1517c.nc:   0%|          | 0.00/36.7M [00:00<?, ?B/s]"
      ]
     },
     "metadata": {},
     "output_type": "display_data"
    },
    {
     "name": "stdout",
     "output_type": "stream",
     "text": [
      "✅ Downloaded: /glade/work/milesep/era5_cds/era5_pl_2010_01.nc\n"
     ]
    },
    {
     "name": "stderr",
     "output_type": "stream",
     "text": [
      "2025-08-17 06:42:25,808 WARNING [2025-08-17T12:42:25.738038] You are using a deprecated API endpoint. If you are using cdsapi, please upgrade to the latest version.\n",
      "2025-08-17 06:42:25,809 INFO Request ID is 5b910da5-cba4-4aa0-95be-f05719cc177a\n",
      "2025-08-17 06:42:26,036 INFO status has been updated to accepted\n",
      "2025-08-17 06:42:33,701 INFO status has been updated to running\n",
      "2025-08-17 06:42:46,706 INFO status has been updated to successful\n"
     ]
    },
    {
     "data": {
      "application/vnd.jupyter.widget-view+json": {
       "model_id": "98a545fd5d6443f2b8416da405519217",
       "version_major": 2,
       "version_minor": 0
      },
      "text/plain": [
       "9e1e8b28e58e885efa8fc6bb23581180.zip:   0%|          | 0.00/4.58M [00:00<?, ?B/s]"
      ]
     },
     "metadata": {},
     "output_type": "display_data"
    },
    {
     "name": "stdout",
     "output_type": "stream",
     "text": [
      "✅ Downloaded: /glade/work/milesep/era5_cds/era5_sfc_2010_01.nc\n",
      "2010 2 3\n"
     ]
    },
    {
     "name": "stderr",
     "output_type": "stream",
     "text": [
      "2025-08-17 06:42:50,056 WARNING [2025-08-17T12:42:49.984302] You are using a deprecated API endpoint. If you are using cdsapi, please upgrade to the latest version.\n",
      "2025-08-17 06:42:50,057 INFO Request ID is ba1a6acb-77ed-4c57-bf9d-cde0d3a4d9a0\n",
      "2025-08-17 06:42:50,239 INFO status has been updated to accepted\n",
      "2025-08-17 06:42:57,857 INFO status has been updated to running\n",
      "2025-08-17 06:43:22,403 INFO status has been updated to successful\n"
     ]
    },
    {
     "data": {
      "application/vnd.jupyter.widget-view+json": {
       "model_id": "cc780d8fda574a61a71aabf8fd9d7e63",
       "version_major": 2,
       "version_minor": 0
      },
      "text/plain": [
       "153ff34bd8dfdd513b1495e068e82e7d.nc:   0%|          | 0.00/18.0M [00:00<?, ?B/s]"
      ]
     },
     "metadata": {},
     "output_type": "display_data"
    },
    {
     "name": "stdout",
     "output_type": "stream",
     "text": [
      "✅ Downloaded: /glade/work/milesep/era5_cds/era5_pl_2010_02.nc\n"
     ]
    },
    {
     "name": "stderr",
     "output_type": "stream",
     "text": [
      "2025-08-17 06:43:26,140 WARNING [2025-08-17T12:43:26.068908] You are using a deprecated API endpoint. If you are using cdsapi, please upgrade to the latest version.\n",
      "2025-08-17 06:43:26,140 INFO Request ID is 8624d17e-5b4a-463d-b5b9-53e546ad8941\n",
      "2025-08-17 06:43:26,306 INFO status has been updated to accepted\n",
      "2025-08-17 06:43:33,896 INFO status has been updated to running\n",
      "2025-08-17 06:43:39,118 INFO status has been updated to accepted\n",
      "2025-08-17 06:43:58,486 INFO status has been updated to successful\n"
     ]
    },
    {
     "data": {
      "application/vnd.jupyter.widget-view+json": {
       "model_id": "ff373705b5e743d89783f5bd4ff8b03f",
       "version_major": 2,
       "version_minor": 0
      },
      "text/plain": [
       "f41718761fff1f406286073ec82d8522.zip:   0%|          | 0.00/2.34M [00:00<?, ?B/s]"
      ]
     },
     "metadata": {},
     "output_type": "display_data"
    },
    {
     "name": "stdout",
     "output_type": "stream",
     "text": [
      "✅ Downloaded: /glade/work/milesep/era5_cds/era5_sfc_2010_02.nc\n",
      "2010 3 9\n"
     ]
    },
    {
     "name": "stderr",
     "output_type": "stream",
     "text": [
      "2025-08-17 06:44:01,628 WARNING [2025-08-17T12:44:01.557684] You are using a deprecated API endpoint. If you are using cdsapi, please upgrade to the latest version.\n",
      "2025-08-17 06:44:01,629 INFO Request ID is 991e76a3-d581-43f1-920b-694c88103efa\n",
      "2025-08-17 06:44:01,801 INFO status has been updated to accepted\n",
      "2025-08-17 06:44:09,404 INFO status has been updated to running\n",
      "2025-08-17 06:45:17,135 INFO status has been updated to successful\n"
     ]
    },
    {
     "data": {
      "application/vnd.jupyter.widget-view+json": {
       "model_id": "19e28ef1ce044ad78f306cbedb31dc13",
       "version_major": 2,
       "version_minor": 0
      },
      "text/plain": [
       "52bcab2867d2633629d5b6768ac02185.nc:   0%|          | 0.00/56.1M [00:00<?, ?B/s]"
      ]
     },
     "metadata": {},
     "output_type": "display_data"
    },
    {
     "name": "stdout",
     "output_type": "stream",
     "text": [
      "✅ Downloaded: /glade/work/milesep/era5_cds/era5_pl_2010_03.nc\n"
     ]
    },
    {
     "name": "stderr",
     "output_type": "stream",
     "text": [
      "2025-08-17 06:45:23,259 WARNING [2025-08-17T12:45:23.188907] You are using a deprecated API endpoint. If you are using cdsapi, please upgrade to the latest version.\n",
      "2025-08-17 06:45:23,259 INFO Request ID is 848beb80-855f-4458-831a-f140c9d8fba4\n",
      "2025-08-17 06:45:23,442 INFO status has been updated to accepted\n",
      "2025-08-17 06:45:31,066 INFO status has been updated to running\n",
      "2025-08-17 06:45:44,368 INFO status has been updated to successful\n"
     ]
    },
    {
     "data": {
      "application/vnd.jupyter.widget-view+json": {
       "model_id": "02c887ae4b6b4b9f910a5856af2c79ba",
       "version_major": 2,
       "version_minor": 0
      },
      "text/plain": [
       "8c5e0aa2e9adacf43d72e4c8b07fe2ab.zip:   0%|          | 0.00/6.94M [00:00<?, ?B/s]"
      ]
     },
     "metadata": {},
     "output_type": "display_data"
    },
    {
     "name": "stdout",
     "output_type": "stream",
     "text": [
      "✅ Downloaded: /glade/work/milesep/era5_cds/era5_sfc_2010_03.nc\n",
      "2010 4 18\n"
     ]
    },
    {
     "name": "stderr",
     "output_type": "stream",
     "text": [
      "2025-08-17 06:45:47,382 WARNING [2025-08-17T12:45:47.312299] You are using a deprecated API endpoint. If you are using cdsapi, please upgrade to the latest version.\n",
      "2025-08-17 06:45:47,383 INFO Request ID is 4e315283-a2fb-412b-ae85-7227dd0dee27\n",
      "2025-08-17 06:45:47,540 INFO status has been updated to accepted\n",
      "2025-08-17 06:46:19,711 INFO status has been updated to running\n",
      "2025-08-17 06:48:39,591 INFO status has been updated to successful\n"
     ]
    },
    {
     "data": {
      "application/vnd.jupyter.widget-view+json": {
       "model_id": "86b3c386e3a749fd866e172b040aaf5c",
       "version_major": 2,
       "version_minor": 0
      },
      "text/plain": [
       "5ac54a2b603ba272be2d3d64bde9cfe4.nc:   0%|          | 0.00/119M [00:00<?, ?B/s]"
      ]
     },
     "metadata": {},
     "output_type": "display_data"
    },
    {
     "name": "stdout",
     "output_type": "stream",
     "text": [
      "✅ Downloaded: /glade/work/milesep/era5_cds/era5_pl_2010_04.nc\n"
     ]
    },
    {
     "name": "stderr",
     "output_type": "stream",
     "text": [
      "2025-08-17 06:49:01,088 WARNING [2025-08-17T12:49:01.021500] You are using a deprecated API endpoint. If you are using cdsapi, please upgrade to the latest version.\n",
      "2025-08-17 06:49:01,089 INFO Request ID is a0cf686a-21d3-4d89-a28d-0a546d7343d0\n",
      "2025-08-17 06:49:01,253 INFO status has been updated to accepted\n",
      "2025-08-17 06:49:08,857 INFO status has been updated to running\n",
      "2025-08-17 06:49:50,630 INFO status has been updated to successful\n"
     ]
    },
    {
     "data": {
      "application/vnd.jupyter.widget-view+json": {
       "model_id": "b7e77474e596416e847555b62f92bf2d",
       "version_major": 2,
       "version_minor": 0
      },
      "text/plain": [
       "3fa899d344d89e20689475c73be6eef0.zip:   0%|          | 0.00/13.9M [00:00<?, ?B/s]"
      ]
     },
     "metadata": {},
     "output_type": "display_data"
    },
    {
     "name": "stdout",
     "output_type": "stream",
     "text": [
      "✅ Downloaded: /glade/work/milesep/era5_cds/era5_sfc_2010_04.nc\n",
      "2010 5 30\n"
     ]
    },
    {
     "name": "stderr",
     "output_type": "stream",
     "text": [
      "2025-08-17 06:49:54,993 WARNING [2025-08-17T12:49:54.925611] You are using a deprecated API endpoint. If you are using cdsapi, please upgrade to the latest version.\n",
      "2025-08-17 06:49:54,993 INFO Request ID is a3b72bea-f493-474f-a957-b39f30cf2b30\n",
      "2025-08-17 06:49:55,142 INFO status has been updated to accepted\n",
      "2025-08-17 06:50:02,794 INFO status has been updated to running\n",
      "2025-08-17 06:56:15,081 INFO status has been updated to successful\n"
     ]
    },
    {
     "data": {
      "application/vnd.jupyter.widget-view+json": {
       "model_id": "eac08dea237a4ad3b09e54bee817125e",
       "version_major": 2,
       "version_minor": 0
      },
      "text/plain": [
       "208a2552d5abe0070f651b29dfa27774.nc:   0%|          | 0.00/202M [00:00<?, ?B/s]"
      ]
     },
     "metadata": {},
     "output_type": "display_data"
    },
    {
     "name": "stdout",
     "output_type": "stream",
     "text": [
      "✅ Downloaded: /glade/work/milesep/era5_cds/era5_pl_2010_05.nc\n"
     ]
    },
    {
     "name": "stderr",
     "output_type": "stream",
     "text": [
      "2025-08-17 06:57:02,143 WARNING [2025-08-17T12:57:02.076460] You are using a deprecated API endpoint. If you are using cdsapi, please upgrade to the latest version.\n",
      "2025-08-17 06:57:02,144 INFO Request ID is ce2a80c2-37be-4483-9e99-43848729cfa2\n",
      "2025-08-17 06:57:02,316 INFO status has been updated to accepted\n",
      "2025-08-17 06:57:15,370 INFO status has been updated to running\n",
      "2025-08-17 06:57:51,933 INFO status has been updated to successful\n"
     ]
    },
    {
     "data": {
      "application/vnd.jupyter.widget-view+json": {
       "model_id": "b3878f927ade416e81fd81d245463eb9",
       "version_major": 2,
       "version_minor": 0
      },
      "text/plain": [
       "202d8e6d092041fe4da8d738bfc5adf9.zip:   0%|          | 0.00/23.2M [00:00<?, ?B/s]"
      ]
     },
     "metadata": {},
     "output_type": "display_data"
    },
    {
     "name": "stdout",
     "output_type": "stream",
     "text": [
      "✅ Downloaded: /glade/work/milesep/era5_cds/era5_sfc_2010_05.nc\n",
      "2010 6 30\n"
     ]
    },
    {
     "name": "stderr",
     "output_type": "stream",
     "text": [
      "2025-08-17 06:57:56,048 WARNING [2025-08-17T12:57:55.981126] You are using a deprecated API endpoint. If you are using cdsapi, please upgrade to the latest version.\n",
      "2025-08-17 06:57:56,048 INFO Request ID is 4b38005b-61d8-4ffd-8694-06c7c909d67f\n",
      "2025-08-17 06:57:56,203 INFO status has been updated to accepted\n",
      "2025-08-17 06:58:09,022 INFO status has been updated to running\n",
      "2025-08-17 07:02:15,271 INFO status has been updated to successful\n"
     ]
    },
    {
     "data": {
      "application/vnd.jupyter.widget-view+json": {
       "model_id": "b8899157c7be4efaae37afecfd7e9eee",
       "version_major": 2,
       "version_minor": 0
      },
      "text/plain": [
       "714b14147606c8dbbaa35818ed006757.nc:   0%|          | 0.00/198M [00:00<?, ?B/s]"
      ]
     },
     "metadata": {},
     "output_type": "display_data"
    },
    {
     "name": "stdout",
     "output_type": "stream",
     "text": [
      "✅ Downloaded: /glade/work/milesep/era5_cds/era5_pl_2010_06.nc\n"
     ]
    },
    {
     "name": "stderr",
     "output_type": "stream",
     "text": [
      "2025-08-17 07:02:35,511 WARNING [2025-08-17T13:02:35.443247] You are using a deprecated API endpoint. If you are using cdsapi, please upgrade to the latest version.\n",
      "2025-08-17 07:02:35,511 INFO Request ID is 39b72a96-3a72-439a-9495-ea8e0938bc3d\n",
      "2025-08-17 07:02:35,701 INFO status has been updated to accepted\n",
      "2025-08-17 07:02:43,582 INFO status has been updated to running\n",
      "2025-08-17 07:03:51,120 INFO status has been updated to successful\n"
     ]
    },
    {
     "data": {
      "application/vnd.jupyter.widget-view+json": {
       "model_id": "080d0a0de9f3499ea81b0bb35ab6778a",
       "version_major": 2,
       "version_minor": 0
      },
      "text/plain": [
       "f4d984b1a8a1358ae2682e1b5f97edd2.zip:   0%|          | 0.00/23.1M [00:00<?, ?B/s]"
      ]
     },
     "metadata": {},
     "output_type": "display_data"
    },
    {
     "name": "stdout",
     "output_type": "stream",
     "text": [
      "✅ Downloaded: /glade/work/milesep/era5_cds/era5_sfc_2010_06.nc\n",
      "2010 7 27\n"
     ]
    },
    {
     "name": "stderr",
     "output_type": "stream",
     "text": [
      "2025-08-17 07:03:55,128 WARNING [2025-08-17T13:03:55.060378] You are using a deprecated API endpoint. If you are using cdsapi, please upgrade to the latest version.\n",
      "2025-08-17 07:03:55,128 INFO Request ID is 1e68f5bf-8aac-4c01-b19e-8fcd1c08b45d\n",
      "2025-08-17 07:03:55,312 INFO status has been updated to accepted\n",
      "2025-08-17 07:04:08,425 INFO status has been updated to running\n",
      "2025-08-17 07:04:16,181 INFO status has been updated to accepted\n",
      "2025-08-17 07:04:27,719 INFO status has been updated to running\n",
      "2025-08-17 07:05:49,369 INFO status has been updated to accepted\n",
      "2025-08-17 07:06:47,493 INFO status has been updated to running\n",
      "2025-08-17 07:10:15,107 INFO status has been updated to successful\n"
     ]
    },
    {
     "data": {
      "application/vnd.jupyter.widget-view+json": {
       "model_id": "3a86bff988e04c889a46d553967f96b1",
       "version_major": 2,
       "version_minor": 0
      },
      "text/plain": [
       "58480cd54d1482e8e7d2ae6adafbb633.nc:   0%|          | 0.00/182M [00:00<?, ?B/s]"
      ]
     },
     "metadata": {},
     "output_type": "display_data"
    },
    {
     "name": "stdout",
     "output_type": "stream",
     "text": [
      "✅ Downloaded: /glade/work/milesep/era5_cds/era5_pl_2010_07.nc\n"
     ]
    },
    {
     "name": "stderr",
     "output_type": "stream",
     "text": [
      "2025-08-17 07:10:28,772 WARNING [2025-08-17T13:10:28.700507] You are using a deprecated API endpoint. If you are using cdsapi, please upgrade to the latest version.\n",
      "2025-08-17 07:10:28,772 INFO Request ID is 9a0351e7-bea4-4839-9340-f825035f6a3b\n",
      "2025-08-17 07:10:28,945 INFO status has been updated to accepted\n",
      "2025-08-17 07:10:36,954 INFO status has been updated to running\n",
      "2025-08-17 07:11:18,854 INFO status has been updated to successful\n"
     ]
    },
    {
     "data": {
      "application/vnd.jupyter.widget-view+json": {
       "model_id": "f3d44d8cfe8b47cc98e8de19dce33581",
       "version_major": 2,
       "version_minor": 0
      },
      "text/plain": [
       "9869949fb679f926081f9a23dc16c3a5.zip:   0%|          | 0.00/20.7M [00:00<?, ?B/s]"
      ]
     },
     "metadata": {},
     "output_type": "display_data"
    },
    {
     "name": "stdout",
     "output_type": "stream",
     "text": [
      "✅ Downloaded: /glade/work/milesep/era5_cds/era5_sfc_2010_07.nc\n",
      "2010 8 22\n"
     ]
    },
    {
     "name": "stderr",
     "output_type": "stream",
     "text": [
      "2025-08-17 07:11:22,989 WARNING [2025-08-17T13:11:22.918569] You are using a deprecated API endpoint. If you are using cdsapi, please upgrade to the latest version.\n",
      "2025-08-17 07:11:22,990 INFO Request ID is 168f55c4-b2cd-4df8-8ba6-a47cd08b7e24\n",
      "2025-08-17 07:11:23,156 INFO status has been updated to accepted\n",
      "2025-08-17 07:11:35,989 INFO status has been updated to running\n",
      "2025-08-17 07:14:15,188 INFO status has been updated to successful\n"
     ]
    },
    {
     "data": {
      "application/vnd.jupyter.widget-view+json": {
       "model_id": "046f89e7310c4af7b1bf7582e257cd69",
       "version_major": 2,
       "version_minor": 0
      },
      "text/plain": [
       "61d1a1a9e4e400553dcda189c1fcdd03.nc:   0%|          | 0.00/144M [00:00<?, ?B/s]"
      ]
     },
     "metadata": {},
     "output_type": "display_data"
    },
    {
     "name": "stdout",
     "output_type": "stream",
     "text": [
      "✅ Downloaded: /glade/work/milesep/era5_cds/era5_pl_2010_08.nc\n"
     ]
    },
    {
     "name": "stderr",
     "output_type": "stream",
     "text": [
      "2025-08-17 07:14:27,210 WARNING [2025-08-17T13:14:27.140347] You are using a deprecated API endpoint. If you are using cdsapi, please upgrade to the latest version.\n",
      "2025-08-17 07:14:27,210 INFO Request ID is c4d68672-88c6-4b85-87a8-45a5dc45832e\n",
      "2025-08-17 07:14:27,361 INFO status has been updated to accepted\n",
      "2025-08-17 07:14:35,121 INFO status has been updated to running\n",
      "2025-08-17 07:15:16,982 INFO status has been updated to successful\n"
     ]
    },
    {
     "data": {
      "application/vnd.jupyter.widget-view+json": {
       "model_id": "6f42a520e7804460860cbdaa83498c12",
       "version_major": 2,
       "version_minor": 0
      },
      "text/plain": [
       "8281bc582f6e70d49578cb03f7dcd920.zip:   0%|          | 0.00/16.9M [00:00<?, ?B/s]"
      ]
     },
     "metadata": {},
     "output_type": "display_data"
    },
    {
     "name": "stdout",
     "output_type": "stream",
     "text": [
      "✅ Downloaded: /glade/work/milesep/era5_cds/era5_sfc_2010_08.nc\n",
      "2010 9 19\n"
     ]
    },
    {
     "name": "stderr",
     "output_type": "stream",
     "text": [
      "2025-08-17 07:15:22,002 WARNING [2025-08-17T13:15:21.934412] You are using a deprecated API endpoint. If you are using cdsapi, please upgrade to the latest version.\n",
      "2025-08-17 07:15:22,003 INFO Request ID is 885a1893-8126-4035-b9f8-e4b7fcd4d852\n",
      "2025-08-17 07:15:22,171 INFO status has been updated to accepted\n",
      "2025-08-17 07:15:42,752 INFO status has been updated to running\n",
      "2025-08-17 07:15:54,456 INFO status has been updated to accepted\n",
      "2025-08-17 07:16:11,709 INFO status has been updated to running\n",
      "2025-08-17 07:18:14,501 INFO status has been updated to successful\n"
     ]
    },
    {
     "data": {
      "application/vnd.jupyter.widget-view+json": {
       "model_id": "737eb47a33364dceaea57e6bf1ff1cc8",
       "version_major": 2,
       "version_minor": 0
      },
      "text/plain": [
       "ea4808aeea3535fc4f9e354f22002659.nc:   0%|          | 0.00/124M [00:00<?, ?B/s]"
      ]
     },
     "metadata": {},
     "output_type": "display_data"
    },
    {
     "name": "stdout",
     "output_type": "stream",
     "text": [
      "✅ Downloaded: /glade/work/milesep/era5_cds/era5_pl_2010_09.nc\n"
     ]
    },
    {
     "name": "stderr",
     "output_type": "stream",
     "text": [
      "2025-08-17 07:18:23,174 WARNING [2025-08-17T13:18:23.106632] You are using a deprecated API endpoint. If you are using cdsapi, please upgrade to the latest version.\n",
      "2025-08-17 07:18:23,175 INFO Request ID is 3e7fd4f9-4aed-4862-9a68-f94f5af94e37\n",
      "2025-08-17 07:18:23,340 INFO status has been updated to accepted\n",
      "2025-08-17 07:18:27,522 INFO status has been updated to running\n",
      "2025-08-17 07:18:55,778 INFO status has been updated to successful\n"
     ]
    },
    {
     "data": {
      "application/vnd.jupyter.widget-view+json": {
       "model_id": "9acc6778f2a7489a8229f9a9b8f09896",
       "version_major": 2,
       "version_minor": 0
      },
      "text/plain": [
       "52e0318713d7d2284d27944e747ea814.zip:   0%|          | 0.00/14.5M [00:00<?, ?B/s]"
      ]
     },
     "metadata": {},
     "output_type": "display_data"
    },
    {
     "name": "stdout",
     "output_type": "stream",
     "text": [
      "✅ Downloaded: /glade/work/milesep/era5_cds/era5_sfc_2010_09.nc\n",
      "2010 10 14\n"
     ]
    },
    {
     "name": "stderr",
     "output_type": "stream",
     "text": [
      "2025-08-17 07:18:59,143 WARNING [2025-08-17T13:18:59.074917] You are using a deprecated API endpoint. If you are using cdsapi, please upgrade to the latest version.\n",
      "2025-08-17 07:18:59,144 INFO Request ID is 82030347-3934-45e6-a652-d8b4bd3e4fcf\n",
      "2025-08-17 07:18:59,294 INFO status has been updated to accepted\n",
      "2025-08-17 07:19:07,000 INFO status has been updated to running\n",
      "2025-08-17 07:20:53,160 INFO status has been updated to successful\n"
     ]
    },
    {
     "data": {
      "application/vnd.jupyter.widget-view+json": {
       "model_id": "52a35cfef8b54b959942af8588ec4634",
       "version_major": 2,
       "version_minor": 0
      },
      "text/plain": [
       "81261e0e2a750d179c9f51a729c88c5b.nc:   0%|          | 0.00/86.3M [00:00<?, ?B/s]"
      ]
     },
     "metadata": {},
     "output_type": "display_data"
    },
    {
     "name": "stdout",
     "output_type": "stream",
     "text": [
      "✅ Downloaded: /glade/work/milesep/era5_cds/era5_pl_2010_10.nc\n"
     ]
    },
    {
     "name": "stderr",
     "output_type": "stream",
     "text": [
      "2025-08-17 07:21:08,390 WARNING [2025-08-17T13:21:08.322887] You are using a deprecated API endpoint. If you are using cdsapi, please upgrade to the latest version.\n",
      "2025-08-17 07:21:08,391 INFO Request ID is 119d9273-420b-4f4c-841f-7986065ebda0\n",
      "2025-08-17 07:21:08,565 INFO status has been updated to accepted\n",
      "2025-08-17 07:21:16,163 INFO status has been updated to running\n",
      "2025-08-17 07:21:40,685 INFO status has been updated to successful\n"
     ]
    },
    {
     "data": {
      "application/vnd.jupyter.widget-view+json": {
       "model_id": "048cd3d9fa2e4ba2b08767d32d64227e",
       "version_major": 2,
       "version_minor": 0
      },
      "text/plain": [
       "656b9b870381906a53698d94fc991e51.zip:   0%|          | 0.00/10.6M [00:00<?, ?B/s]"
      ]
     },
     "metadata": {},
     "output_type": "display_data"
    },
    {
     "name": "stdout",
     "output_type": "stream",
     "text": [
      "✅ Downloaded: /glade/work/milesep/era5_cds/era5_sfc_2010_10.nc\n",
      "2010 11 6\n"
     ]
    },
    {
     "name": "stderr",
     "output_type": "stream",
     "text": [
      "2025-08-17 07:21:46,147 WARNING [2025-08-17T13:21:46.080281] You are using a deprecated API endpoint. If you are using cdsapi, please upgrade to the latest version.\n",
      "2025-08-17 07:21:46,147 INFO Request ID is d5e75377-e3d5-4b8c-be65-4be502eb1d02\n",
      "2025-08-17 07:21:46,325 INFO status has been updated to accepted\n",
      "2025-08-17 07:21:53,893 INFO status has been updated to running\n",
      "2025-08-17 07:23:01,471 INFO status has been updated to successful\n"
     ]
    },
    {
     "data": {
      "application/vnd.jupyter.widget-view+json": {
       "model_id": "ef5bd9cc64874a7a9098dc7fd4630cb6",
       "version_major": 2,
       "version_minor": 0
      },
      "text/plain": [
       "8b4cc2a4ce90d31d23a2924d5d5d5c7e.nc:   0%|          | 0.00/36.5M [00:00<?, ?B/s]"
      ]
     },
     "metadata": {},
     "output_type": "display_data"
    },
    {
     "name": "stdout",
     "output_type": "stream",
     "text": [
      "✅ Downloaded: /glade/work/milesep/era5_cds/era5_pl_2010_11.nc\n"
     ]
    },
    {
     "name": "stderr",
     "output_type": "stream",
     "text": [
      "2025-08-17 07:23:07,406 WARNING [2025-08-17T13:23:07.337046] You are using a deprecated API endpoint. If you are using cdsapi, please upgrade to the latest version.\n",
      "2025-08-17 07:23:07,407 INFO Request ID is a6f59e99-f557-4159-87ff-39dadacbc694\n",
      "2025-08-17 07:23:07,570 INFO status has been updated to accepted\n",
      "2025-08-17 07:23:15,204 INFO status has been updated to running\n",
      "2025-08-17 07:23:39,706 INFO status has been updated to successful\n"
     ]
    },
    {
     "data": {
      "application/vnd.jupyter.widget-view+json": {
       "model_id": "0ced91da5ae74194b6dc1e43203acf97",
       "version_major": 2,
       "version_minor": 0
      },
      "text/plain": [
       "b3920b19f0a4b014f6f7af3d14ee9f76.zip:   0%|          | 0.00/4.60M [00:00<?, ?B/s]"
      ]
     },
     "metadata": {},
     "output_type": "display_data"
    },
    {
     "name": "stdout",
     "output_type": "stream",
     "text": [
      "✅ Downloaded: /glade/work/milesep/era5_cds/era5_sfc_2010_11.nc\n",
      "2010 12 3\n"
     ]
    },
    {
     "name": "stderr",
     "output_type": "stream",
     "text": [
      "2025-08-17 07:23:42,347 WARNING [2025-08-17T13:23:42.280517] You are using a deprecated API endpoint. If you are using cdsapi, please upgrade to the latest version.\n",
      "2025-08-17 07:23:42,348 INFO Request ID is 63437399-a030-49b7-b817-7edcad77cb39\n",
      "2025-08-17 07:23:42,665 INFO status has been updated to accepted\n",
      "2025-08-17 07:24:03,195 INFO status has been updated to running\n",
      "2025-08-17 07:24:31,978 INFO status has been updated to successful\n"
     ]
    },
    {
     "data": {
      "application/vnd.jupyter.widget-view+json": {
       "model_id": "63c6236c2c6546a9bb6aa74d05cf7047",
       "version_major": 2,
       "version_minor": 0
      },
      "text/plain": [
       "781d2d09c0300082a7410795efe2392d.nc:   0%|          | 0.00/18.3M [00:00<?, ?B/s]"
      ]
     },
     "metadata": {},
     "output_type": "display_data"
    },
    {
     "name": "stdout",
     "output_type": "stream",
     "text": [
      "✅ Downloaded: /glade/work/milesep/era5_cds/era5_pl_2010_12.nc\n"
     ]
    },
    {
     "name": "stderr",
     "output_type": "stream",
     "text": [
      "2025-08-17 07:24:37,021 WARNING [2025-08-17T13:24:36.952838] You are using a deprecated API endpoint. If you are using cdsapi, please upgrade to the latest version.\n",
      "2025-08-17 07:24:37,022 INFO Request ID is 23bb9ea6-b800-47c8-aea9-662a07847b18\n",
      "2025-08-17 07:24:37,185 INFO status has been updated to accepted\n",
      "2025-08-17 07:24:57,802 INFO status has been updated to successful\n"
     ]
    },
    {
     "data": {
      "application/vnd.jupyter.widget-view+json": {
       "model_id": "d54d8de936fd497c87eb8591adda85dd",
       "version_major": 2,
       "version_minor": 0
      },
      "text/plain": [
       "2d67c6f617fca291b74d309df570f9a9.zip:   0%|          | 0.00/2.37M [00:00<?, ?B/s]"
      ]
     },
     "metadata": {},
     "output_type": "display_data"
    },
    {
     "name": "stdout",
     "output_type": "stream",
     "text": [
      "✅ Downloaded: /glade/work/milesep/era5_cds/era5_sfc_2010_12.nc\n",
      "2011 1 6\n"
     ]
    },
    {
     "name": "stderr",
     "output_type": "stream",
     "text": [
      "2025-08-17 07:25:00,486 WARNING [2025-08-17T13:25:00.412994] You are using a deprecated API endpoint. If you are using cdsapi, please upgrade to the latest version.\n",
      "2025-08-17 07:25:00,486 INFO Request ID is ce67f94b-77b4-43c5-8d21-91fa76923806\n",
      "2025-08-17 07:25:00,632 INFO status has been updated to accepted\n",
      "2025-08-17 07:25:08,333 INFO status has been updated to running\n",
      "2025-08-17 07:26:15,886 INFO status has been updated to successful\n"
     ]
    },
    {
     "data": {
      "application/vnd.jupyter.widget-view+json": {
       "model_id": "b516caef7b8f4ae687fb0c0bd4c0c925",
       "version_major": 2,
       "version_minor": 0
      },
      "text/plain": [
       "9c05e72acba4ec578ebc9d890f15217.nc:   0%|          | 0.00/36.0M [00:00<?, ?B/s]"
      ]
     },
     "metadata": {},
     "output_type": "display_data"
    },
    {
     "name": "stdout",
     "output_type": "stream",
     "text": [
      "✅ Downloaded: /glade/work/milesep/era5_cds/era5_pl_2011_01.nc\n"
     ]
    },
    {
     "name": "stderr",
     "output_type": "stream",
     "text": [
      "2025-08-17 07:26:21,784 WARNING [2025-08-17T13:26:21.715965] You are using a deprecated API endpoint. If you are using cdsapi, please upgrade to the latest version.\n",
      "2025-08-17 07:26:21,785 INFO Request ID is 288e1b24-16c3-4501-b1ac-f4c66dd1234b\n",
      "2025-08-17 07:26:21,950 INFO status has been updated to accepted\n",
      "2025-08-17 07:26:29,553 INFO status has been updated to running\n",
      "2025-08-17 07:26:42,561 INFO status has been updated to successful\n"
     ]
    },
    {
     "data": {
      "application/vnd.jupyter.widget-view+json": {
       "model_id": "c5a67bcc03854430ac4b8abd9c660014",
       "version_major": 2,
       "version_minor": 0
      },
      "text/plain": [
       "ea3031b808aa78d92276fc317683d52f.zip:   0%|          | 0.00/4.61M [00:00<?, ?B/s]"
      ]
     },
     "metadata": {},
     "output_type": "display_data"
    },
    {
     "name": "stdout",
     "output_type": "stream",
     "text": [
      "✅ Downloaded: /glade/work/milesep/era5_cds/era5_sfc_2011_01.nc\n",
      "2011 2 4\n"
     ]
    },
    {
     "name": "stderr",
     "output_type": "stream",
     "text": [
      "2025-08-17 07:26:45,430 WARNING [2025-08-17T13:26:45.362587] You are using a deprecated API endpoint. If you are using cdsapi, please upgrade to the latest version.\n",
      "2025-08-17 07:26:45,431 INFO Request ID is b3d3961b-ebe0-46bf-8949-f875a8083a87\n",
      "2025-08-17 07:26:45,583 INFO status has been updated to accepted\n",
      "2025-08-17 07:26:53,175 INFO status has been updated to running\n",
      "2025-08-17 07:27:34,937 INFO status has been updated to successful\n"
     ]
    },
    {
     "data": {
      "application/vnd.jupyter.widget-view+json": {
       "model_id": "1dee7b79885b462cade676dee4e49a43",
       "version_major": 2,
       "version_minor": 0
      },
      "text/plain": [
       "687c535a5751870cefcd16c5b743d585.nc:   0%|          | 0.00/23.9M [00:00<?, ?B/s]"
      ]
     },
     "metadata": {},
     "output_type": "display_data"
    },
    {
     "name": "stdout",
     "output_type": "stream",
     "text": [
      "✅ Downloaded: /glade/work/milesep/era5_cds/era5_pl_2011_02.nc\n"
     ]
    },
    {
     "name": "stderr",
     "output_type": "stream",
     "text": [
      "2025-08-17 07:27:39,404 WARNING [2025-08-17T13:27:39.335386] You are using a deprecated API endpoint. If you are using cdsapi, please upgrade to the latest version.\n",
      "2025-08-17 07:27:39,405 INFO Request ID is 54a82428-6f9f-4882-b8bf-de3a408fec1c\n",
      "2025-08-17 07:27:39,577 INFO status has been updated to accepted\n",
      "2025-08-17 07:27:47,194 INFO status has been updated to running\n",
      "Recovering from connection error [('Connection aborted.', RemoteDisconnected('Remote end closed connection without response'))], attemps 1 of 500\n",
      "Retrying in 120 seconds\n",
      "2025-08-17 07:30:50,751 INFO status has been updated to successful\n"
     ]
    },
    {
     "data": {
      "application/vnd.jupyter.widget-view+json": {
       "model_id": "d578fdf3c2e048f5ba69c4edeac2abe0",
       "version_major": 2,
       "version_minor": 0
      },
      "text/plain": [
       "a8cfd8f2c2903543f89348d2380818e6.zip:   0%|          | 0.00/3.13M [00:00<?, ?B/s]"
      ]
     },
     "metadata": {},
     "output_type": "display_data"
    },
    {
     "name": "stdout",
     "output_type": "stream",
     "text": [
      "✅ Downloaded: /glade/work/milesep/era5_cds/era5_sfc_2011_02.nc\n",
      "2011 3 17\n"
     ]
    },
    {
     "name": "stderr",
     "output_type": "stream",
     "text": [
      "2025-08-17 07:30:54,033 WARNING [2025-08-17T13:30:53.962151] You are using a deprecated API endpoint. If you are using cdsapi, please upgrade to the latest version.\n",
      "2025-08-17 07:30:54,034 INFO Request ID is 59d9d223-b792-490a-ac1e-2ea9ad2bc1e1\n",
      "2025-08-17 07:30:54,207 INFO status has been updated to accepted\n",
      "2025-08-17 07:31:01,841 INFO status has been updated to running\n",
      "2025-08-17 07:33:46,214 INFO status has been updated to successful\n"
     ]
    },
    {
     "data": {
      "application/vnd.jupyter.widget-view+json": {
       "model_id": "70d745468bc546a9b19bcbc28a6be2af",
       "version_major": 2,
       "version_minor": 0
      },
      "text/plain": [
       "9f72ef420a4b90ce2a8a4ad6c45817ee.nc:   0%|          | 0.00/109M [00:00<?, ?B/s]"
      ]
     },
     "metadata": {},
     "output_type": "display_data"
    },
    {
     "name": "stdout",
     "output_type": "stream",
     "text": [
      "✅ Downloaded: /glade/work/milesep/era5_cds/era5_pl_2011_03.nc\n"
     ]
    },
    {
     "name": "stderr",
     "output_type": "stream",
     "text": [
      "2025-08-17 07:33:55,262 WARNING [2025-08-17T13:33:55.187497] You are using a deprecated API endpoint. If you are using cdsapi, please upgrade to the latest version.\n",
      "2025-08-17 07:33:55,263 INFO Request ID is 68e57e27-2978-4ca2-909d-95ac5087d07d\n",
      "2025-08-17 07:33:55,429 INFO status has been updated to accepted\n",
      "2025-08-17 07:34:08,245 INFO status has been updated to running\n",
      "2025-08-17 07:34:27,530 INFO status has been updated to successful\n"
     ]
    },
    {
     "data": {
      "application/vnd.jupyter.widget-view+json": {
       "model_id": "34af4e768d1c4c7e9f854c656088811f",
       "version_major": 2,
       "version_minor": 0
      },
      "text/plain": [
       "3c36cca4b346292bca514e23d9746962.zip:   0%|          | 0.00/13.0M [00:00<?, ?B/s]"
      ]
     },
     "metadata": {},
     "output_type": "display_data"
    },
    {
     "name": "stdout",
     "output_type": "stream",
     "text": [
      "✅ Downloaded: /glade/work/milesep/era5_cds/era5_sfc_2011_03.nc\n",
      "2011 4 23\n"
     ]
    },
    {
     "name": "stderr",
     "output_type": "stream",
     "text": [
      "2025-08-17 07:34:31,138 WARNING [2025-08-17T13:34:31.065542] You are using a deprecated API endpoint. If you are using cdsapi, please upgrade to the latest version.\n",
      "2025-08-17 07:34:31,139 INFO Request ID is 098ea343-31d8-4ad7-8604-2dcf6926dd2f\n",
      "2025-08-17 07:34:31,313 INFO status has been updated to accepted\n",
      "2025-08-17 07:34:44,225 INFO status has been updated to running\n",
      "2025-08-17 07:38:50,620 INFO status has been updated to successful\n"
     ]
    },
    {
     "data": {
      "application/vnd.jupyter.widget-view+json": {
       "model_id": "2a6e8865f7ce4e1da765b8172120a216",
       "version_major": 2,
       "version_minor": 0
      },
      "text/plain": [
       "e006f5b76e64d893eda2ecc9009d1ab3.nc:   0%|          | 0.00/153M [00:00<?, ?B/s]"
      ]
     },
     "metadata": {},
     "output_type": "display_data"
    },
    {
     "name": "stdout",
     "output_type": "stream",
     "text": [
      "✅ Downloaded: /glade/work/milesep/era5_cds/era5_pl_2011_04.nc\n"
     ]
    },
    {
     "name": "stderr",
     "output_type": "stream",
     "text": [
      "2025-08-17 07:39:15,993 WARNING [2025-08-17T13:39:15.922611] You are using a deprecated API endpoint. If you are using cdsapi, please upgrade to the latest version.\n",
      "2025-08-17 07:39:15,993 INFO Request ID is 07c66162-90b9-48bc-84ba-58f8cfa95f0a\n",
      "2025-08-17 07:39:16,310 INFO status has been updated to accepted\n",
      "2025-08-17 07:39:23,953 INFO status has been updated to running\n",
      "2025-08-17 07:40:05,794 INFO status has been updated to successful\n"
     ]
    },
    {
     "name": "stdout",
     "output_type": "stream",
     "text": [
      "⚠️ Attempt 1 failed for /glade/work/milesep/era5_cds/era5_sfc_2011_04.nc: Result not ready, job is running\n",
      "Retrying in 30s...\n"
     ]
    },
    {
     "name": "stderr",
     "output_type": "stream",
     "text": [
      "2025-08-17 07:40:36,444 WARNING [2025-08-17T13:40:36.371306] You are using a deprecated API endpoint. If you are using cdsapi, please upgrade to the latest version.\n",
      "2025-08-17 07:40:36,445 INFO Request ID is a1ada349-3bbf-4f51-9e2a-48735359c407\n",
      "2025-08-17 07:40:36,665 INFO status has been updated to accepted\n",
      "2025-08-17 07:40:44,282 INFO status has been updated to running\n",
      "2025-08-17 07:40:49,521 INFO status has been updated to successful\n"
     ]
    },
    {
     "data": {
      "application/vnd.jupyter.widget-view+json": {
       "model_id": "4e3a124548a44959b7980fedfaa9f9fd",
       "version_major": 2,
       "version_minor": 0
      },
      "text/plain": [
       "6f1e2c27d301dab44004c8fad0bc4418.zip:   0%|          | 0.00/17.7M [00:00<?, ?B/s]"
      ]
     },
     "metadata": {},
     "output_type": "display_data"
    },
    {
     "name": "stdout",
     "output_type": "stream",
     "text": [
      "✅ Downloaded: /glade/work/milesep/era5_cds/era5_sfc_2011_04.nc\n",
      "2011 5 26\n"
     ]
    },
    {
     "name": "stderr",
     "output_type": "stream",
     "text": [
      "2025-08-17 07:40:53,507 WARNING [2025-08-17T13:40:53.436372] You are using a deprecated API endpoint. If you are using cdsapi, please upgrade to the latest version.\n",
      "2025-08-17 07:40:53,507 INFO Request ID is ac840281-4ba2-4678-b57b-1030e3e40ad5\n",
      "2025-08-17 07:40:53,684 INFO status has been updated to accepted\n",
      "2025-08-17 07:41:06,643 INFO status has been updated to running\n",
      "2025-08-17 07:45:12,731 INFO status has been updated to successful\n"
     ]
    },
    {
     "data": {
      "application/vnd.jupyter.widget-view+json": {
       "model_id": "e2a1c52875a8466f851792a084c300fb",
       "version_major": 2,
       "version_minor": 0
      },
      "text/plain": [
       "1f2c0dc4d22c5a42f81e5f665a04e584.nc:   0%|          | 0.00/176M [00:00<?, ?B/s]"
      ]
     },
     "metadata": {},
     "output_type": "display_data"
    },
    {
     "name": "stdout",
     "output_type": "stream",
     "text": [
      "✅ Downloaded: /glade/work/milesep/era5_cds/era5_pl_2011_05.nc\n"
     ]
    },
    {
     "name": "stderr",
     "output_type": "stream",
     "text": [
      "2025-08-17 07:45:31,042 WARNING [2025-08-17T13:45:30.967646] You are using a deprecated API endpoint. If you are using cdsapi, please upgrade to the latest version.\n",
      "2025-08-17 07:45:31,043 INFO Request ID is 7660ef7c-b3e6-4317-9b9d-7056e3950106\n",
      "2025-08-17 07:45:31,217 INFO status has been updated to accepted\n",
      "2025-08-17 07:45:38,866 INFO status has been updated to running\n",
      "2025-08-17 07:45:44,120 INFO status has been updated to accepted\n",
      "2025-08-17 07:46:03,426 INFO status has been updated to running\n",
      "2025-08-17 07:46:20,692 INFO status has been updated to successful\n"
     ]
    },
    {
     "data": {
      "application/vnd.jupyter.widget-view+json": {
       "model_id": "e2f5d6f142054f2392f818e824a5699e",
       "version_major": 2,
       "version_minor": 0
      },
      "text/plain": [
       "2f13b2a3bb6d218b6a003512fe900c3d.zip:   0%|          | 0.00/20.1M [00:00<?, ?B/s]"
      ]
     },
     "metadata": {},
     "output_type": "display_data"
    },
    {
     "name": "stdout",
     "output_type": "stream",
     "text": [
      "✅ Downloaded: /glade/work/milesep/era5_cds/era5_sfc_2011_05.nc\n",
      "2011 6 30\n"
     ]
    },
    {
     "name": "stderr",
     "output_type": "stream",
     "text": [
      "2025-08-17 07:46:26,698 WARNING [2025-08-17T13:46:26.624301] You are using a deprecated API endpoint. If you are using cdsapi, please upgrade to the latest version.\n",
      "2025-08-17 07:46:26,699 INFO Request ID is eaaa90c8-59da-4603-ba3b-b0432eb810eb\n",
      "2025-08-17 07:46:26,870 INFO status has been updated to accepted\n",
      "2025-08-17 07:46:39,765 INFO status has been updated to running\n",
      "2025-08-17 07:50:46,051 INFO status has been updated to successful\n"
     ]
    },
    {
     "data": {
      "application/vnd.jupyter.widget-view+json": {
       "model_id": "9d1e1cd2d8f44ae3912c8f8f66c92200",
       "version_major": 2,
       "version_minor": 0
      },
      "text/plain": [
       "4bb30f350d4bdd775eb5e7322414222a.nc:   0%|          | 0.00/204M [00:00<?, ?B/s]"
      ]
     },
     "metadata": {},
     "output_type": "display_data"
    },
    {
     "name": "stdout",
     "output_type": "stream",
     "text": [
      "✅ Downloaded: /glade/work/milesep/era5_cds/era5_pl_2011_06.nc\n"
     ]
    },
    {
     "name": "stderr",
     "output_type": "stream",
     "text": [
      "2025-08-17 07:52:49,933 WARNING [2025-08-17T13:52:49.853393] You are using a deprecated API endpoint. If you are using cdsapi, please upgrade to the latest version.\n",
      "2025-08-17 07:52:49,933 INFO Request ID is 9a33a99e-d0b2-4292-b49b-cc5203c4d560\n",
      "2025-08-17 07:52:50,115 INFO status has been updated to accepted\n",
      "2025-08-17 07:52:57,753 INFO status has been updated to running\n",
      "2025-08-17 07:53:39,681 INFO status has been updated to successful\n"
     ]
    },
    {
     "data": {
      "application/vnd.jupyter.widget-view+json": {
       "model_id": "b2de160fea7b441c9dc12eaf259326dc",
       "version_major": 2,
       "version_minor": 0
      },
      "text/plain": [
       "e8c210595ea0b33dcd641f29dc679797.zip:   0%|          | 0.00/23.1M [00:00<?, ?B/s]"
      ]
     },
     "metadata": {},
     "output_type": "display_data"
    },
    {
     "name": "stdout",
     "output_type": "stream",
     "text": [
      "✅ Downloaded: /glade/work/milesep/era5_cds/era5_sfc_2011_06.nc\n",
      "2011 7 31\n"
     ]
    },
    {
     "name": "stderr",
     "output_type": "stream",
     "text": [
      "2025-08-17 07:53:48,684 WARNING [2025-08-17T13:53:48.553156] You are using a deprecated API endpoint. If you are using cdsapi, please upgrade to the latest version.\n",
      "2025-08-17 07:53:48,685 INFO Request ID is 02bf45e6-ccd8-4d25-bf68-0a3d8bb71b91\n",
      "2025-08-17 07:53:48,920 INFO status has been updated to accepted\n",
      "2025-08-17 07:53:56,735 INFO status has been updated to running\n",
      "2025-08-17 07:58:08,085 INFO status has been updated to successful\n"
     ]
    },
    {
     "data": {
      "application/vnd.jupyter.widget-view+json": {
       "model_id": "5e04a74f694445c88b78d98569e008e2",
       "version_major": 2,
       "version_minor": 0
      },
      "text/plain": [
       "906dfd11d94ed93ddfa41cfb3001db7b.nc:   0%|          | 0.00/207M [00:00<?, ?B/s]"
      ]
     },
     "metadata": {},
     "output_type": "display_data"
    },
    {
     "name": "stdout",
     "output_type": "stream",
     "text": [
      "✅ Downloaded: /glade/work/milesep/era5_cds/era5_pl_2011_07.nc\n"
     ]
    },
    {
     "name": "stderr",
     "output_type": "stream",
     "text": [
      "2025-08-17 07:58:21,663 WARNING [2025-08-17T13:58:21.590436] You are using a deprecated API endpoint. If you are using cdsapi, please upgrade to the latest version.\n",
      "2025-08-17 07:58:21,664 INFO Request ID is b690406b-2402-4af7-8d7d-68b82734b812\n",
      "2025-08-17 07:58:21,822 INFO status has been updated to accepted\n",
      "2025-08-17 07:58:29,481 INFO status has been updated to running\n",
      "2025-08-17 07:59:11,489 INFO status has been updated to successful\n"
     ]
    },
    {
     "data": {
      "application/vnd.jupyter.widget-view+json": {
       "model_id": "71d24d35573148d5ba4de3c65e822658",
       "version_major": 2,
       "version_minor": 0
      },
      "text/plain": [
       "18d2e1e9dd21bb0ef6b92828ba8a8a82.zip:   0%|          | 0.00/23.8M [00:00<?, ?B/s]"
      ]
     },
     "metadata": {},
     "output_type": "display_data"
    },
    {
     "name": "stdout",
     "output_type": "stream",
     "text": [
      "✅ Downloaded: /glade/work/milesep/era5_cds/era5_sfc_2011_07.nc\n",
      "2011 8 27\n"
     ]
    },
    {
     "name": "stderr",
     "output_type": "stream",
     "text": [
      "2025-08-17 07:59:16,654 WARNING [2025-08-17T13:59:16.581128] You are using a deprecated API endpoint. If you are using cdsapi, please upgrade to the latest version.\n",
      "2025-08-17 07:59:16,655 INFO Request ID is 820c9eae-510e-4d8e-9d98-45e4ff14b09d\n",
      "2025-08-17 07:59:16,824 INFO status has been updated to accepted\n",
      "2025-08-17 07:59:37,416 INFO status has been updated to running\n",
      "2025-08-17 08:05:36,425 INFO status has been updated to successful\n"
     ]
    },
    {
     "data": {
      "application/vnd.jupyter.widget-view+json": {
       "model_id": "8b2718fec1b54aab9f6ff2a376a36d09",
       "version_major": 2,
       "version_minor": 0
      },
      "text/plain": [
       "25cd1abd71435ba84ce0e0d42431f75c.nc:   0%|          | 0.00/182M [00:00<?, ?B/s]"
      ]
     },
     "metadata": {},
     "output_type": "display_data"
    },
    {
     "name": "stdout",
     "output_type": "stream",
     "text": [
      "✅ Downloaded: /glade/work/milesep/era5_cds/era5_pl_2011_08.nc\n"
     ]
    },
    {
     "name": "stderr",
     "output_type": "stream",
     "text": [
      "2025-08-17 08:06:04,827 WARNING [2025-08-17T14:06:04.751607] You are using a deprecated API endpoint. If you are using cdsapi, please upgrade to the latest version.\n",
      "2025-08-17 08:06:04,827 INFO Request ID is 0e3ca745-6339-4bb7-bfc6-f1cb2d7ac286\n",
      "2025-08-17 08:06:04,999 INFO status has been updated to accepted\n",
      "2025-08-17 08:06:12,650 INFO status has been updated to running\n",
      "2025-08-17 08:06:54,544 INFO status has been updated to successful\n"
     ]
    },
    {
     "data": {
      "application/vnd.jupyter.widget-view+json": {
       "model_id": "a9ac33f0f07a4fdbb53bcdb971611c84",
       "version_major": 2,
       "version_minor": 0
      },
      "text/plain": [
       "6da6de12ba7edb05ced99725ee2d81ab.zip:   0%|          | 0.00/20.8M [00:00<?, ?B/s]"
      ]
     },
     "metadata": {},
     "output_type": "display_data"
    },
    {
     "name": "stdout",
     "output_type": "stream",
     "text": [
      "✅ Downloaded: /glade/work/milesep/era5_cds/era5_sfc_2011_08.nc\n",
      "2011 9 15\n"
     ]
    },
    {
     "name": "stderr",
     "output_type": "stream",
     "text": [
      "2025-08-17 08:06:58,974 WARNING [2025-08-17T14:06:58.901601] You are using a deprecated API endpoint. If you are using cdsapi, please upgrade to the latest version.\n",
      "2025-08-17 08:06:58,975 INFO Request ID is 738b1f97-d84f-4114-a0de-381c6aeab0c7\n",
      "2025-08-17 08:06:59,147 INFO status has been updated to accepted\n",
      "2025-08-17 08:07:11,992 INFO status has been updated to running\n",
      "2025-08-17 08:09:51,225 INFO status has been updated to successful\n"
     ]
    },
    {
     "data": {
      "application/vnd.jupyter.widget-view+json": {
       "model_id": "0dacac048fb84a0bad7a0ae32429ec66",
       "version_major": 2,
       "version_minor": 0
      },
      "text/plain": [
       "cebf6729aabfa9a991864d9b877837d8.nc:   0%|          | 0.00/98.9M [00:00<?, ?B/s]"
      ]
     },
     "metadata": {},
     "output_type": "display_data"
    },
    {
     "name": "stdout",
     "output_type": "stream",
     "text": [
      "✅ Downloaded: /glade/work/milesep/era5_cds/era5_pl_2011_09.nc\n"
     ]
    },
    {
     "name": "stderr",
     "output_type": "stream",
     "text": [
      "2025-08-17 08:09:59,045 WARNING [2025-08-17T14:09:58.970723] You are using a deprecated API endpoint. If you are using cdsapi, please upgrade to the latest version.\n",
      "2025-08-17 08:09:59,046 INFO Request ID is 838607bb-a804-4dcc-a451-8fe8ffb52461\n",
      "2025-08-17 08:09:59,225 INFO status has been updated to accepted\n",
      "2025-08-17 08:10:19,870 INFO status has been updated to running\n",
      "2025-08-17 08:10:31,428 INFO status has been updated to successful\n"
     ]
    },
    {
     "data": {
      "application/vnd.jupyter.widget-view+json": {
       "model_id": "e11f8fa406b54dac848c51f2183d1119",
       "version_major": 2,
       "version_minor": 0
      },
      "text/plain": [
       "6aa3f95932eff074f480cc590e1476dc.zip:   0%|          | 0.00/11.5M [00:00<?, ?B/s]"
      ]
     },
     "metadata": {},
     "output_type": "display_data"
    },
    {
     "name": "stdout",
     "output_type": "stream",
     "text": [
      "✅ Downloaded: /glade/work/milesep/era5_cds/era5_sfc_2011_09.nc\n",
      "2011 10 6\n"
     ]
    },
    {
     "name": "stderr",
     "output_type": "stream",
     "text": [
      "2025-08-17 08:10:35,049 WARNING [2025-08-17T14:10:34.975548] You are using a deprecated API endpoint. If you are using cdsapi, please upgrade to the latest version.\n",
      "2025-08-17 08:10:35,049 INFO Request ID is 980cb972-9e8a-4403-b9b5-cea062499661\n",
      "2025-08-17 08:10:35,235 INFO status has been updated to accepted\n",
      "2025-08-17 08:10:42,962 INFO status has been updated to running\n",
      "2025-08-17 08:11:24,745 INFO status has been updated to successful\n"
     ]
    },
    {
     "data": {
      "application/vnd.jupyter.widget-view+json": {
       "model_id": "afbc86d71c79433b8bc870928eef5155",
       "version_major": 2,
       "version_minor": 0
      },
      "text/plain": [
       "98b8809e20de2f9f136c6a09238cf5ac.nc:   0%|          | 0.00/36.4M [00:00<?, ?B/s]"
      ]
     },
     "metadata": {},
     "output_type": "display_data"
    },
    {
     "name": "stdout",
     "output_type": "stream",
     "text": [
      "✅ Downloaded: /glade/work/milesep/era5_cds/era5_pl_2011_10.nc\n"
     ]
    },
    {
     "name": "stderr",
     "output_type": "stream",
     "text": [
      "2025-08-17 08:11:32,460 WARNING [2025-08-17T14:11:32.384258] You are using a deprecated API endpoint. If you are using cdsapi, please upgrade to the latest version.\n",
      "2025-08-17 08:11:32,460 INFO Request ID is e69b46a2-1db5-479b-9396-f0fe4dba8897\n",
      "2025-08-17 08:11:32,713 INFO status has been updated to accepted\n",
      "2025-08-17 08:11:40,350 INFO status has been updated to running\n",
      "2025-08-17 08:12:04,887 INFO status has been updated to successful\n"
     ]
    },
    {
     "data": {
      "application/vnd.jupyter.widget-view+json": {
       "model_id": "e1e17fb33fd9430ea40082d16976ca14",
       "version_major": 2,
       "version_minor": 0
      },
      "text/plain": [
       "c4fd9e807bad2e454f304c97a76a9571.zip:   0%|          | 0.00/4.61M [00:00<?, ?B/s]"
      ]
     },
     "metadata": {},
     "output_type": "display_data"
    },
    {
     "name": "stdout",
     "output_type": "stream",
     "text": [
      "✅ Downloaded: /glade/work/milesep/era5_cds/era5_sfc_2011_10.nc\n",
      "2011 11 9\n"
     ]
    },
    {
     "name": "stderr",
     "output_type": "stream",
     "text": [
      "2025-08-17 08:12:07,868 WARNING [2025-08-17T14:12:07.796329] You are using a deprecated API endpoint. If you are using cdsapi, please upgrade to the latest version.\n",
      "2025-08-17 08:12:07,869 INFO Request ID is b30f5c94-e9aa-47d8-ba4f-407850a953dd\n",
      "2025-08-17 08:12:08,026 INFO status has been updated to accepted\n",
      "2025-08-17 08:12:15,664 INFO status has been updated to running\n",
      "2025-08-17 08:14:01,913 INFO status has been updated to successful\n"
     ]
    },
    {
     "data": {
      "application/vnd.jupyter.widget-view+json": {
       "model_id": "774ad6db1caa40c4a3a88282b62c360e",
       "version_major": 2,
       "version_minor": 0
      },
      "text/plain": [
       "15ce292d8d47c1f8239bbde1d2fd3f8.nc:   0%|          | 0.00/56.0M [00:00<?, ?B/s]"
      ]
     },
     "metadata": {},
     "output_type": "display_data"
    },
    {
     "name": "stdout",
     "output_type": "stream",
     "text": [
      "✅ Downloaded: /glade/work/milesep/era5_cds/era5_pl_2011_11.nc\n"
     ]
    },
    {
     "name": "stderr",
     "output_type": "stream",
     "text": [
      "2025-08-17 08:14:08,083 WARNING [2025-08-17T14:14:08.008553] You are using a deprecated API endpoint. If you are using cdsapi, please upgrade to the latest version.\n",
      "2025-08-17 08:14:08,084 INFO Request ID is 59c28623-7279-4160-8a7f-8bbd09e13e1c\n",
      "2025-08-17 08:14:08,339 INFO status has been updated to accepted\n",
      "2025-08-17 08:14:16,144 INFO status has been updated to running\n",
      "2025-08-17 08:14:29,120 INFO status has been updated to successful\n"
     ]
    },
    {
     "data": {
      "application/vnd.jupyter.widget-view+json": {
       "model_id": "e0ef855e1f6d408cae820fe1e70b712a",
       "version_major": 2,
       "version_minor": 0
      },
      "text/plain": [
       "54e48921f5adb8ddb7d64270d19a03d9.zip:   0%|          | 0.00/6.80M [00:00<?, ?B/s]"
      ]
     },
     "metadata": {},
     "output_type": "display_data"
    },
    {
     "name": "stdout",
     "output_type": "stream",
     "text": [
      "✅ Downloaded: /glade/work/milesep/era5_cds/era5_sfc_2011_11.nc\n",
      "2011 12 5\n"
     ]
    },
    {
     "name": "stderr",
     "output_type": "stream",
     "text": [
      "2025-08-17 08:14:32,214 WARNING [2025-08-17T14:14:32.137296] You are using a deprecated API endpoint. If you are using cdsapi, please upgrade to the latest version.\n",
      "2025-08-17 08:14:32,215 INFO Request ID is 7dc99956-bd16-4d50-a03d-3b36854de9f2\n",
      "2025-08-17 08:14:32,443 INFO status has been updated to accepted\n",
      "2025-08-17 08:14:40,130 INFO status has been updated to running\n",
      "2025-08-17 08:15:22,099 INFO status has been updated to successful\n"
     ]
    },
    {
     "data": {
      "application/vnd.jupyter.widget-view+json": {
       "model_id": "c8c5bbcca40b418ba3853e86d09a0e71",
       "version_major": 2,
       "version_minor": 0
      },
      "text/plain": [
       "c23cadbe02c3a23770a79cb9fc98ffd8.nc:   0%|          | 0.00/30.2M [00:00<?, ?B/s]"
      ]
     },
     "metadata": {},
     "output_type": "display_data"
    },
    {
     "name": "stdout",
     "output_type": "stream",
     "text": [
      "✅ Downloaded: /glade/work/milesep/era5_cds/era5_pl_2011_12.nc\n"
     ]
    },
    {
     "name": "stderr",
     "output_type": "stream",
     "text": [
      "2025-08-17 08:15:26,313 WARNING [2025-08-17T14:15:26.238143] You are using a deprecated API endpoint. If you are using cdsapi, please upgrade to the latest version.\n",
      "2025-08-17 08:15:26,313 INFO Request ID is 9b9b41eb-9908-4b53-be22-1e86122c147e\n",
      "2025-08-17 08:15:26,491 INFO status has been updated to accepted\n",
      "2025-08-17 08:15:34,216 INFO status has been updated to running\n",
      "2025-08-17 08:15:58,855 INFO status has been updated to successful\n"
     ]
    },
    {
     "data": {
      "application/vnd.jupyter.widget-view+json": {
       "model_id": "7dbc13fa963541739e136cf3ac9bb8b1",
       "version_major": 2,
       "version_minor": 0
      },
      "text/plain": [
       "c9eb41dfa1449f22f8a9999e58443b8e.zip:   0%|          | 0.00/3.78M [00:00<?, ?B/s]"
      ]
     },
     "metadata": {},
     "output_type": "display_data"
    },
    {
     "name": "stdout",
     "output_type": "stream",
     "text": [
      "✅ Downloaded: /glade/work/milesep/era5_cds/era5_sfc_2011_12.nc\n",
      "2012 1 9\n"
     ]
    },
    {
     "name": "stderr",
     "output_type": "stream",
     "text": [
      "2025-08-17 08:16:01,677 WARNING [2025-08-17T14:16:01.603657] You are using a deprecated API endpoint. If you are using cdsapi, please upgrade to the latest version.\n",
      "2025-08-17 08:16:01,678 INFO Request ID is 75104403-61bf-4ff1-a5e5-cfbddbac1387\n",
      "2025-08-17 08:16:01,838 INFO status has been updated to accepted\n",
      "2025-08-17 08:16:09,539 INFO status has been updated to running\n",
      "2025-08-17 08:17:56,146 INFO status has been updated to successful\n"
     ]
    },
    {
     "data": {
      "application/vnd.jupyter.widget-view+json": {
       "model_id": "504137eaca0e414b9712becfdab0d30b",
       "version_major": 2,
       "version_minor": 0
      },
      "text/plain": [
       "64ec8c13c1ca5c61c26ac9a0746ae2d8.nc:   0%|          | 0.00/56.4M [00:00<?, ?B/s]"
      ]
     },
     "metadata": {},
     "output_type": "display_data"
    },
    {
     "name": "stdout",
     "output_type": "stream",
     "text": [
      "✅ Downloaded: /glade/work/milesep/era5_cds/era5_pl_2012_01.nc\n"
     ]
    },
    {
     "name": "stderr",
     "output_type": "stream",
     "text": [
      "2025-08-17 08:18:07,188 WARNING [2025-08-17T14:18:07.114009] You are using a deprecated API endpoint. If you are using cdsapi, please upgrade to the latest version.\n",
      "2025-08-17 08:18:07,189 INFO Request ID is 2f536810-5bd3-421c-a7a8-99a01a3ed10c\n",
      "2025-08-17 08:18:07,380 INFO status has been updated to accepted\n",
      "2025-08-17 08:18:15,030 INFO status has been updated to running\n",
      "2025-08-17 08:18:28,016 INFO status has been updated to successful\n"
     ]
    },
    {
     "data": {
      "application/vnd.jupyter.widget-view+json": {
       "model_id": "bb50482c72a74646a78f11191c701baa",
       "version_major": 2,
       "version_minor": 0
      },
      "text/plain": [
       "315237554536c78b9299a9b444ef8215.zip:   0%|          | 0.00/6.85M [00:00<?, ?B/s]"
      ]
     },
     "metadata": {},
     "output_type": "display_data"
    },
    {
     "name": "stdout",
     "output_type": "stream",
     "text": [
      "✅ Downloaded: /glade/work/milesep/era5_cds/era5_sfc_2012_01.nc\n",
      "2012 2 11\n"
     ]
    },
    {
     "name": "stderr",
     "output_type": "stream",
     "text": [
      "2025-08-17 08:18:31,784 WARNING [2025-08-17T14:18:31.710201] You are using a deprecated API endpoint. If you are using cdsapi, please upgrade to the latest version.\n",
      "2025-08-17 08:18:31,784 INFO Request ID is ca83c6fc-3e56-4873-9639-5e8be70117da\n",
      "2025-08-17 08:18:31,950 INFO status has been updated to accepted\n",
      "2025-08-17 08:19:04,135 INFO status has been updated to running\n",
      "2025-08-17 08:21:24,288 INFO status has been updated to successful\n"
     ]
    },
    {
     "data": {
      "application/vnd.jupyter.widget-view+json": {
       "model_id": "7b83c0a34aae4593a52c26bf4dd861a7",
       "version_major": 2,
       "version_minor": 0
      },
      "text/plain": [
       "7967d017ac9bd7e7763d3cfbb91c4872.nc:   0%|          | 0.00/68.3M [00:00<?, ?B/s]"
      ]
     },
     "metadata": {},
     "output_type": "display_data"
    },
    {
     "name": "stdout",
     "output_type": "stream",
     "text": [
      "✅ Downloaded: /glade/work/milesep/era5_cds/era5_pl_2012_02.nc\n"
     ]
    },
    {
     "name": "stderr",
     "output_type": "stream",
     "text": [
      "2025-08-17 08:21:30,407 WARNING [2025-08-17T14:21:30.325093] You are using a deprecated API endpoint. If you are using cdsapi, please upgrade to the latest version.\n",
      "2025-08-17 08:21:30,408 INFO Request ID is 2a9c7183-34d0-4388-bc63-18fb45f2a1f5\n",
      "2025-08-17 08:21:30,610 INFO status has been updated to accepted\n",
      "2025-08-17 08:21:38,318 INFO status has been updated to running\n",
      "2025-08-17 08:22:02,872 INFO status has been updated to successful\n"
     ]
    },
    {
     "data": {
      "application/vnd.jupyter.widget-view+json": {
       "model_id": "8bfb548eb4af49c4a7d0c0293d2550a4",
       "version_major": 2,
       "version_minor": 0
      },
      "text/plain": [
       "954fb68fcf408f05c49dca93542d06e9.zip:   0%|          | 0.00/8.35M [00:00<?, ?B/s]"
      ]
     },
     "metadata": {},
     "output_type": "display_data"
    },
    {
     "name": "stdout",
     "output_type": "stream",
     "text": [
      "✅ Downloaded: /glade/work/milesep/era5_cds/era5_sfc_2012_02.nc\n",
      "2012 3 21\n"
     ]
    },
    {
     "name": "stderr",
     "output_type": "stream",
     "text": [
      "2025-08-17 08:22:06,041 WARNING [2025-08-17T14:22:05.967521] You are using a deprecated API endpoint. If you are using cdsapi, please upgrade to the latest version.\n",
      "2025-08-17 08:22:06,042 INFO Request ID is 80233165-fe87-437c-9eef-477b03158cd8\n",
      "2025-08-17 08:22:06,211 INFO status has been updated to accepted\n",
      "2025-08-17 08:22:19,036 INFO status has been updated to running\n",
      "2025-08-17 08:24:58,197 INFO status has been updated to successful\n"
     ]
    },
    {
     "data": {
      "application/vnd.jupyter.widget-view+json": {
       "model_id": "cfc10f24d89a427684240ab4aa06feba",
       "version_major": 2,
       "version_minor": 0
      },
      "text/plain": [
       "ed4ae31966955632bd1f52a906551f59.nc:   0%|          | 0.00/139M [00:00<?, ?B/s]"
      ]
     },
     "metadata": {},
     "output_type": "display_data"
    },
    {
     "name": "stdout",
     "output_type": "stream",
     "text": [
      "✅ Downloaded: /glade/work/milesep/era5_cds/era5_pl_2012_03.nc\n"
     ]
    },
    {
     "name": "stderr",
     "output_type": "stream",
     "text": [
      "2025-08-17 08:25:13,051 WARNING [2025-08-17T14:25:12.979575] You are using a deprecated API endpoint. If you are using cdsapi, please upgrade to the latest version.\n",
      "2025-08-17 08:25:13,051 INFO Request ID is 230d6f78-22eb-4033-b4ad-6ecb493a1069\n",
      "2025-08-17 08:25:13,227 INFO status has been updated to accepted\n",
      "2025-08-17 08:25:20,889 INFO status has been updated to running\n",
      "2025-08-17 08:26:28,514 INFO status has been updated to successful\n"
     ]
    },
    {
     "data": {
      "application/vnd.jupyter.widget-view+json": {
       "model_id": "7cfbd797c9494bfea845be5b8b7e3e4f",
       "version_major": 2,
       "version_minor": 0
      },
      "text/plain": [
       "455f4891b60c2e18aee590a60a14772a.zip:   0%|          | 0.00/16.1M [00:00<?, ?B/s]"
      ]
     },
     "metadata": {},
     "output_type": "display_data"
    },
    {
     "name": "stdout",
     "output_type": "stream",
     "text": [
      "✅ Downloaded: /glade/work/milesep/era5_cds/era5_sfc_2012_03.nc\n",
      "2012 4 25\n"
     ]
    },
    {
     "name": "stderr",
     "output_type": "stream",
     "text": [
      "2025-08-17 08:26:32,288 WARNING [2025-08-17T14:26:32.217466] You are using a deprecated API endpoint. If you are using cdsapi, please upgrade to the latest version.\n",
      "2025-08-17 08:26:32,289 INFO Request ID is b2866773-9036-41ca-88b4-b654df5c44fe\n",
      "2025-08-17 08:26:32,502 INFO status has been updated to accepted\n",
      "2025-08-17 08:26:40,151 INFO status has been updated to running\n",
      "2025-08-17 08:30:51,578 INFO status has been updated to successful\n"
     ]
    },
    {
     "data": {
      "application/vnd.jupyter.widget-view+json": {
       "model_id": "77b3f42a46fc4df09c0dbe1431106389",
       "version_major": 2,
       "version_minor": 0
      },
      "text/plain": [
       "6ca9914aa4f5ccfba09dd29eef1a48e2.nc:   0%|          | 0.00/169M [00:00<?, ?B/s]"
      ]
     },
     "metadata": {},
     "output_type": "display_data"
    },
    {
     "name": "stdout",
     "output_type": "stream",
     "text": [
      "✅ Downloaded: /glade/work/milesep/era5_cds/era5_pl_2012_04.nc\n"
     ]
    },
    {
     "name": "stderr",
     "output_type": "stream",
     "text": [
      "2025-08-17 08:31:18,102 WARNING [2025-08-17T14:31:18.030910] You are using a deprecated API endpoint. If you are using cdsapi, please upgrade to the latest version.\n",
      "2025-08-17 08:31:18,103 INFO Request ID is e03b6d4f-0bc9-4d04-a3ca-c731f45a31c3\n",
      "2025-08-17 08:31:18,259 INFO status has been updated to accepted\n",
      "2025-08-17 08:31:25,895 INFO status has been updated to running\n",
      "2025-08-17 08:32:33,622 INFO status has been updated to successful\n"
     ]
    },
    {
     "data": {
      "application/vnd.jupyter.widget-view+json": {
       "model_id": "07783aeed0804c83834d01dc21fb405f",
       "version_major": 2,
       "version_minor": 0
      },
      "text/plain": [
       "8b22971498e6fc49f8d5990b185799d6.zip:   0%|          | 0.00/19.3M [00:00<?, ?B/s]"
      ]
     },
     "metadata": {},
     "output_type": "display_data"
    },
    {
     "name": "stderr",
     "output_type": "stream",
     "text": [
      "2025-08-17 08:32:38,208 WARNING [2025-08-17T14:32:38.137319] You are using a deprecated API endpoint. If you are using cdsapi, please upgrade to the latest version.\n",
      "2025-08-17 08:32:38,209 INFO Request ID is cc42d6a9-6d2d-4bf7-b464-091943e7e447\n"
     ]
    },
    {
     "name": "stdout",
     "output_type": "stream",
     "text": [
      "✅ Downloaded: /glade/work/milesep/era5_cds/era5_sfc_2012_04.nc\n",
      "2012 5 26\n"
     ]
    },
    {
     "name": "stderr",
     "output_type": "stream",
     "text": [
      "2025-08-17 08:32:38,378 INFO status has been updated to accepted\n",
      "2025-08-17 08:32:51,222 INFO status has been updated to running\n",
      "2025-08-17 08:42:58,817 INFO status has been updated to successful\n"
     ]
    },
    {
     "data": {
      "application/vnd.jupyter.widget-view+json": {
       "model_id": "5315b875df504c56af63196fbcd9f278",
       "version_major": 2,
       "version_minor": 0
      },
      "text/plain": [
       "841a830cc99ed5ef2b30d8e7fd00eaeb.nc:   0%|          | 0.00/176M [00:00<?, ?B/s]"
      ]
     },
     "metadata": {},
     "output_type": "display_data"
    },
    {
     "name": "stdout",
     "output_type": "stream",
     "text": [
      "✅ Downloaded: /glade/work/milesep/era5_cds/era5_pl_2012_05.nc\n"
     ]
    },
    {
     "name": "stderr",
     "output_type": "stream",
     "text": [
      "2025-08-17 08:43:24,926 WARNING [2025-08-17T14:43:24.842595] You are using a deprecated API endpoint. If you are using cdsapi, please upgrade to the latest version.\n",
      "2025-08-17 08:43:24,927 INFO Request ID is e39e0fdf-e4d6-428d-a3f6-8e5fec260afa\n",
      "2025-08-17 08:43:25,102 INFO status has been updated to accepted\n",
      "2025-08-17 08:43:32,751 INFO status has been updated to running\n",
      "2025-08-17 08:44:14,562 INFO status has been updated to successful\n"
     ]
    },
    {
     "data": {
      "application/vnd.jupyter.widget-view+json": {
       "model_id": "ab9aa3edd72c464f87f7798a68349f7a",
       "version_major": 2,
       "version_minor": 0
      },
      "text/plain": [
       "9cfdcdee225bd7385f9ef61423fcb5fc.zip:   0%|          | 0.00/20.2M [00:00<?, ?B/s]"
      ]
     },
     "metadata": {},
     "output_type": "display_data"
    },
    {
     "name": "stdout",
     "output_type": "stream",
     "text": [
      "✅ Downloaded: /glade/work/milesep/era5_cds/era5_sfc_2012_05.nc\n",
      "2012 6 29\n"
     ]
    },
    {
     "name": "stderr",
     "output_type": "stream",
     "text": [
      "2025-08-17 08:44:19,305 WARNING [2025-08-17T14:44:19.231803] You are using a deprecated API endpoint. If you are using cdsapi, please upgrade to the latest version.\n",
      "2025-08-17 08:44:19,306 INFO Request ID is 0b7d92cb-1acc-4ee2-a888-a88998324b04\n",
      "2025-08-17 08:44:19,485 INFO status has been updated to accepted\n",
      "2025-08-17 08:44:32,702 INFO status has been updated to running\n",
      "2025-08-17 08:48:38,942 INFO status has been updated to successful\n"
     ]
    },
    {
     "data": {
      "application/vnd.jupyter.widget-view+json": {
       "model_id": "",
       "version_major": 2,
       "version_minor": 0
      },
      "text/plain": [
       "be5b09b29f957519ad638807c9068730.nc:   0%|          | 0.00/196M [00:00<?, ?B/s]"
      ]
     },
     "metadata": {},
     "output_type": "display_data"
    },
    {
     "name": "stdout",
     "output_type": "stream",
     "text": [
      "✅ Downloaded: /glade/work/milesep/era5_cds/era5_pl_2012_06.nc\n"
     ]
    },
    {
     "name": "stderr",
     "output_type": "stream",
     "text": [
      "2025-08-17 08:49:44,996 WARNING [2025-08-17T14:49:44.917483] You are using a deprecated API endpoint. If you are using cdsapi, please upgrade to the latest version.\n",
      "2025-08-17 08:49:44,997 INFO Request ID is 3fee1a3b-6303-49ba-87f8-2e5078350235\n",
      "2025-08-17 08:49:45,179 INFO status has been updated to accepted\n",
      "2025-08-17 08:50:05,928 INFO status has been updated to running\n",
      "2025-08-17 08:50:34,777 INFO status has been updated to successful\n"
     ]
    },
    {
     "data": {
      "application/vnd.jupyter.widget-view+json": {
       "model_id": "",
       "version_major": 2,
       "version_minor": 0
      },
      "text/plain": [
       "759f411308f3acd21bdb28e931fd07e5.zip:   0%|          | 0.00/22.4M [00:00<?, ?B/s]"
      ]
     },
     "metadata": {},
     "output_type": "display_data"
    },
    {
     "name": "stdout",
     "output_type": "stream",
     "text": [
      "✅ Downloaded: /glade/work/milesep/era5_cds/era5_sfc_2012_06.nc\n",
      "2012 7 28\n"
     ]
    },
    {
     "name": "stderr",
     "output_type": "stream",
     "text": [
      "2025-08-17 08:50:38,545 WARNING [2025-08-17T14:50:38.472311] You are using a deprecated API endpoint. If you are using cdsapi, please upgrade to the latest version.\n",
      "2025-08-17 08:50:38,546 INFO Request ID is 424e3218-f6ea-433e-830b-4ac6d798a1ec\n",
      "2025-08-17 08:50:38,725 INFO status has been updated to accepted\n",
      "2025-08-17 08:50:46,346 INFO status has been updated to running\n",
      "2025-08-17 08:54:57,949 INFO status has been updated to successful\n"
     ]
    },
    {
     "data": {
      "application/vnd.jupyter.widget-view+json": {
       "model_id": "",
       "version_major": 2,
       "version_minor": 0
      },
      "text/plain": [
       "1591a582fe2f4dd2baef61559b387afc.nc:   0%|          | 0.00/187M [00:00<?, ?B/s]"
      ]
     },
     "metadata": {},
     "output_type": "display_data"
    },
    {
     "name": "stdout",
     "output_type": "stream",
     "text": [
      "✅ Downloaded: /glade/work/milesep/era5_cds/era5_pl_2012_07.nc\n"
     ]
    },
    {
     "name": "stderr",
     "output_type": "stream",
     "text": [
      "2025-08-17 08:55:24,774 WARNING [2025-08-17T14:55:24.700448] You are using a deprecated API endpoint. If you are using cdsapi, please upgrade to the latest version.\n",
      "2025-08-17 08:55:24,775 INFO Request ID is ae1e88b6-6ac4-4a0d-9b5c-5fd36f2659db\n",
      "2025-08-17 08:55:25,247 INFO status has been updated to accepted\n",
      "2025-08-17 08:55:46,077 INFO status has been updated to running\n",
      "2025-08-17 08:56:40,689 INFO status has been updated to successful\n"
     ]
    },
    {
     "data": {
      "application/vnd.jupyter.widget-view+json": {
       "model_id": "",
       "version_major": 2,
       "version_minor": 0
      },
      "text/plain": [
       "2cef78054cb42cf3d9d79c9da18c5fb3.zip:   0%|          | 0.00/21.5M [00:00<?, ?B/s]"
      ]
     },
     "metadata": {},
     "output_type": "display_data"
    },
    {
     "name": "stdout",
     "output_type": "stream",
     "text": [
      "✅ Downloaded: /glade/work/milesep/era5_cds/era5_sfc_2012_07.nc\n",
      "2012 8 22\n"
     ]
    },
    {
     "name": "stderr",
     "output_type": "stream",
     "text": [
      "2025-08-17 08:56:44,854 WARNING [2025-08-17T14:56:44.779577] You are using a deprecated API endpoint. If you are using cdsapi, please upgrade to the latest version.\n",
      "2025-08-17 08:56:44,855 INFO Request ID is a2d6db2a-c241-4446-be8e-85631c11932a\n",
      "2025-08-17 08:56:45,034 INFO status has been updated to accepted\n",
      "2025-08-17 08:56:57,944 INFO status has been updated to running\n",
      "2025-08-17 09:01:04,181 INFO status has been updated to successful\n"
     ]
    },
    {
     "data": {
      "application/vnd.jupyter.widget-view+json": {
       "model_id": "",
       "version_major": 2,
       "version_minor": 0
      },
      "text/plain": [
       "f5c26a4e2f17b89bb09b8dca823cd8a0.nc:   0%|          | 0.00/144M [00:00<?, ?B/s]"
      ]
     },
     "metadata": {},
     "output_type": "display_data"
    },
    {
     "name": "stdout",
     "output_type": "stream",
     "text": [
      "✅ Downloaded: /glade/work/milesep/era5_cds/era5_pl_2012_08.nc\n"
     ]
    },
    {
     "name": "stderr",
     "output_type": "stream",
     "text": [
      "2025-08-17 09:02:24,857 WARNING [2025-08-17T15:02:24.785096] You are using a deprecated API endpoint. If you are using cdsapi, please upgrade to the latest version.\n",
      "2025-08-17 09:02:24,858 INFO Request ID is 6e00e878-75d0-4b14-b57a-3935e49be949\n",
      "2025-08-17 09:02:25,030 INFO status has been updated to accepted\n",
      "2025-08-17 09:02:37,886 INFO status has been updated to running\n",
      "2025-08-17 09:03:14,459 INFO status has been updated to successful\n"
     ]
    },
    {
     "data": {
      "application/vnd.jupyter.widget-view+json": {
       "model_id": "",
       "version_major": 2,
       "version_minor": 0
      },
      "text/plain": [
       "a93f5080b5005239543f0bce26be67b7.zip:   0%|          | 0.00/16.9M [00:00<?, ?B/s]"
      ]
     },
     "metadata": {},
     "output_type": "display_data"
    },
    {
     "name": "stdout",
     "output_type": "stream",
     "text": [
      "✅ Downloaded: /glade/work/milesep/era5_cds/era5_sfc_2012_08.nc\n",
      "2012 9 15\n"
     ]
    },
    {
     "name": "stderr",
     "output_type": "stream",
     "text": [
      "2025-08-17 09:03:18,839 WARNING [2025-08-17T15:03:18.767799] You are using a deprecated API endpoint. If you are using cdsapi, please upgrade to the latest version.\n",
      "2025-08-17 09:03:18,839 INFO Request ID is d6849491-2b68-4685-b3f8-cc1dced79490\n",
      "2025-08-17 09:03:18,995 INFO status has been updated to accepted\n",
      "2025-08-17 09:03:26,602 INFO status has been updated to running\n",
      "2025-08-17 09:05:12,847 INFO status has been updated to successful\n"
     ]
    },
    {
     "data": {
      "application/vnd.jupyter.widget-view+json": {
       "model_id": "",
       "version_major": 2,
       "version_minor": 0
      },
      "text/plain": [
       "9a9a6deefbad2e91ca097ad063c8f90b.nc:   0%|          | 0.00/99.2M [00:00<?, ?B/s]"
      ]
     },
     "metadata": {},
     "output_type": "display_data"
    },
    {
     "name": "stdout",
     "output_type": "stream",
     "text": [
      "✅ Downloaded: /glade/work/milesep/era5_cds/era5_pl_2012_09.nc\n"
     ]
    },
    {
     "name": "stderr",
     "output_type": "stream",
     "text": [
      "2025-08-17 09:05:29,661 WARNING [2025-08-17T15:05:29.589596] You are using a deprecated API endpoint. If you are using cdsapi, please upgrade to the latest version.\n",
      "2025-08-17 09:05:29,662 INFO Request ID is 211bd03c-4df8-4333-b046-14a38005f497\n",
      "2025-08-17 09:05:29,829 INFO status has been updated to accepted\n",
      "2025-08-17 09:05:37,449 INFO status has been updated to running\n",
      "2025-08-17 09:06:19,462 INFO status has been updated to successful\n"
     ]
    },
    {
     "data": {
      "application/vnd.jupyter.widget-view+json": {
       "model_id": "",
       "version_major": 2,
       "version_minor": 0
      },
      "text/plain": [
       "55eb4ac4b70de9f8507a51e193635523.zip:   0%|          | 0.00/11.5M [00:00<?, ?B/s]"
      ]
     },
     "metadata": {},
     "output_type": "display_data"
    },
    {
     "name": "stdout",
     "output_type": "stream",
     "text": [
      "✅ Downloaded: /glade/work/milesep/era5_cds/era5_sfc_2012_09.nc\n",
      "2012 10 11\n"
     ]
    },
    {
     "name": "stderr",
     "output_type": "stream",
     "text": [
      "2025-08-17 09:06:23,373 WARNING [2025-08-17T15:06:23.302064] You are using a deprecated API endpoint. If you are using cdsapi, please upgrade to the latest version.\n",
      "2025-08-17 09:06:23,374 INFO Request ID is c1c9dfea-e599-4655-8969-48bbbb5a095e\n",
      "2025-08-17 09:06:23,570 INFO status has been updated to accepted\n",
      "2025-08-17 09:06:36,414 INFO status has been updated to running\n",
      "2025-08-17 09:08:17,434 INFO status has been updated to successful\n"
     ]
    },
    {
     "data": {
      "application/vnd.jupyter.widget-view+json": {
       "model_id": "",
       "version_major": 2,
       "version_minor": 0
      },
      "text/plain": [
       "420c9ce3a2877ff45b4f2df91dfd5c9.nc:   0%|          | 0.00/68.1M [00:00<?, ?B/s]"
      ]
     },
     "metadata": {},
     "output_type": "display_data"
    },
    {
     "name": "stdout",
     "output_type": "stream",
     "text": [
      "✅ Downloaded: /glade/work/milesep/era5_cds/era5_pl_2012_10.nc\n"
     ]
    },
    {
     "name": "stderr",
     "output_type": "stream",
     "text": [
      "2025-08-17 09:08:23,816 WARNING [2025-08-17T15:08:23.745080] You are using a deprecated API endpoint. If you are using cdsapi, please upgrade to the latest version.\n",
      "2025-08-17 09:08:23,817 INFO Request ID is 294c7a6c-d520-4cdf-87a6-aef456ea1a70\n",
      "2025-08-17 09:08:23,990 INFO status has been updated to accepted\n",
      "2025-08-17 09:08:31,619 INFO status has been updated to running\n",
      "2025-08-17 09:08:56,127 INFO status has been updated to successful\n"
     ]
    },
    {
     "data": {
      "application/vnd.jupyter.widget-view+json": {
       "model_id": "",
       "version_major": 2,
       "version_minor": 0
      },
      "text/plain": [
       "d5730933800e8952cacc8eb8862d52af.zip:   0%|          | 0.00/8.37M [00:00<?, ?B/s]"
      ]
     },
     "metadata": {},
     "output_type": "display_data"
    },
    {
     "name": "stdout",
     "output_type": "stream",
     "text": [
      "✅ Downloaded: /glade/work/milesep/era5_cds/era5_sfc_2012_10.nc\n",
      "2012 11 5\n"
     ]
    },
    {
     "name": "stderr",
     "output_type": "stream",
     "text": [
      "2025-08-17 09:08:59,764 WARNING [2025-08-17T15:08:59.691407] You are using a deprecated API endpoint. If you are using cdsapi, please upgrade to the latest version.\n",
      "2025-08-17 09:08:59,765 INFO Request ID is 412b793b-f26e-4b7e-8524-a6d51e351759\n",
      "2025-08-17 09:08:59,919 INFO status has been updated to accepted\n",
      "2025-08-17 09:09:12,734 INFO status has been updated to running\n",
      "2025-08-17 09:09:49,585 INFO status has been updated to successful\n"
     ]
    },
    {
     "data": {
      "application/vnd.jupyter.widget-view+json": {
       "model_id": "",
       "version_major": 2,
       "version_minor": 0
      },
      "text/plain": [
       "7b8d9b61f0beddab31afce81f6206121.nc:   0%|          | 0.00/29.8M [00:00<?, ?B/s]"
      ]
     },
     "metadata": {},
     "output_type": "display_data"
    },
    {
     "name": "stdout",
     "output_type": "stream",
     "text": [
      "✅ Downloaded: /glade/work/milesep/era5_cds/era5_pl_2012_11.nc\n"
     ]
    },
    {
     "name": "stderr",
     "output_type": "stream",
     "text": [
      "2025-08-17 09:09:53,899 WARNING [2025-08-17T15:09:53.828609] You are using a deprecated API endpoint. If you are using cdsapi, please upgrade to the latest version.\n",
      "2025-08-17 09:09:53,900 INFO Request ID is 5411c0d7-694f-4d13-86e4-1ecae2a73322\n",
      "2025-08-17 09:09:54,081 INFO status has been updated to accepted\n",
      "2025-08-17 09:10:01,974 INFO status has been updated to running\n",
      "2025-08-17 09:10:26,508 INFO status has been updated to successful\n"
     ]
    },
    {
     "data": {
      "application/vnd.jupyter.widget-view+json": {
       "model_id": "",
       "version_major": 2,
       "version_minor": 0
      },
      "text/plain": [
       "8cad2ed4c9c5c87463fd0cfae09b10cb.zip:   0%|          | 0.00/3.83M [00:00<?, ?B/s]"
      ]
     },
     "metadata": {},
     "output_type": "display_data"
    },
    {
     "name": "stdout",
     "output_type": "stream",
     "text": [
      "✅ Downloaded: /glade/work/milesep/era5_cds/era5_sfc_2012_11.nc\n",
      "2012 12 11\n"
     ]
    },
    {
     "name": "stderr",
     "output_type": "stream",
     "text": [
      "2025-08-17 09:10:29,289 WARNING [2025-08-17T15:10:29.216973] You are using a deprecated API endpoint. If you are using cdsapi, please upgrade to the latest version.\n",
      "2025-08-17 09:10:29,290 INFO Request ID is db3b9528-149f-4003-bfba-39f65e6caa59\n",
      "2025-08-17 09:10:29,601 INFO status has been updated to accepted\n",
      "2025-08-17 09:10:37,296 INFO status has been updated to running\n",
      "2025-08-17 09:12:23,545 INFO status has been updated to successful\n"
     ]
    },
    {
     "data": {
      "application/vnd.jupyter.widget-view+json": {
       "model_id": "",
       "version_major": 2,
       "version_minor": 0
      },
      "text/plain": [
       "72e093535a580c67090279b767a5d4ba.nc:   0%|          | 0.00/68.5M [00:00<?, ?B/s]"
      ]
     },
     "metadata": {},
     "output_type": "display_data"
    },
    {
     "name": "stdout",
     "output_type": "stream",
     "text": [
      "✅ Downloaded: /glade/work/milesep/era5_cds/era5_pl_2012_12.nc\n"
     ]
    },
    {
     "name": "stderr",
     "output_type": "stream",
     "text": [
      "2025-08-17 09:12:30,696 WARNING [2025-08-17T15:12:30.621819] You are using a deprecated API endpoint. If you are using cdsapi, please upgrade to the latest version.\n",
      "2025-08-17 09:12:30,697 INFO Request ID is 630dc87e-3fc3-4ef5-a89c-7360a81d9256\n",
      "2025-08-17 09:12:30,850 INFO status has been updated to accepted\n",
      "2025-08-17 09:12:43,731 INFO status has been updated to running\n",
      "2025-08-17 09:13:03,015 INFO status has been updated to successful\n"
     ]
    },
    {
     "name": "stdout",
     "output_type": "stream",
     "text": [
      "⚠️ Attempt 1 failed for /glade/work/milesep/era5_cds/era5_sfc_2012_12.nc: Result not ready, job is running\n",
      "Retrying in 30s...\n"
     ]
    },
    {
     "name": "stderr",
     "output_type": "stream",
     "text": [
      "2025-08-17 09:13:33,508 WARNING [2025-08-17T15:13:33.435948] You are using a deprecated API endpoint. If you are using cdsapi, please upgrade to the latest version.\n",
      "2025-08-17 09:13:33,509 INFO Request ID is 08797186-6f27-405d-a6e4-55be458d7c76\n",
      "2025-08-17 09:13:33,718 INFO status has been updated to accepted\n",
      "2025-08-17 09:13:46,929 INFO status has been updated to successful\n"
     ]
    },
    {
     "data": {
      "application/vnd.jupyter.widget-view+json": {
       "model_id": "",
       "version_major": 2,
       "version_minor": 0
      },
      "text/plain": [
       "14dbc85ba290613902238d9dadcd91c.zip:   0%|          | 0.00/8.34M [00:00<?, ?B/s]"
      ]
     },
     "metadata": {},
     "output_type": "display_data"
    },
    {
     "name": "stdout",
     "output_type": "stream",
     "text": [
      "✅ Downloaded: /glade/work/milesep/era5_cds/era5_sfc_2012_12.nc\n",
      "2013 1 6\n"
     ]
    },
    {
     "name": "stderr",
     "output_type": "stream",
     "text": [
      "2025-08-17 09:13:50,174 WARNING [2025-08-17T15:13:50.103674] You are using a deprecated API endpoint. If you are using cdsapi, please upgrade to the latest version.\n",
      "2025-08-17 09:13:50,175 INFO Request ID is ba5fb67b-8900-4aba-b85c-05ab9312aa83\n",
      "2025-08-17 09:13:50,335 INFO status has been updated to accepted\n",
      "2025-08-17 09:13:57,960 INFO status has been updated to running\n",
      "2025-08-17 09:14:39,709 INFO status has been updated to successful\n"
     ]
    },
    {
     "data": {
      "application/vnd.jupyter.widget-view+json": {
       "model_id": "",
       "version_major": 2,
       "version_minor": 0
      },
      "text/plain": [
       "893d324488778e4cf02f9759699398b9.nc:   0%|          | 0.00/36.7M [00:00<?, ?B/s]"
      ]
     },
     "metadata": {},
     "output_type": "display_data"
    },
    {
     "name": "stdout",
     "output_type": "stream",
     "text": [
      "✅ Downloaded: /glade/work/milesep/era5_cds/era5_pl_2013_01.nc\n"
     ]
    },
    {
     "name": "stderr",
     "output_type": "stream",
     "text": [
      "2025-08-17 09:14:44,543 WARNING [2025-08-17T15:14:44.472698] You are using a deprecated API endpoint. If you are using cdsapi, please upgrade to the latest version.\n",
      "2025-08-17 09:14:44,543 INFO Request ID is d4a282c0-f5d2-49d7-9fad-7e77607513fa\n",
      "2025-08-17 09:14:44,698 INFO status has been updated to accepted\n",
      "2025-08-17 09:14:52,339 INFO status has been updated to running\n",
      "2025-08-17 09:15:05,327 INFO status has been updated to successful\n"
     ]
    },
    {
     "data": {
      "application/vnd.jupyter.widget-view+json": {
       "model_id": "",
       "version_major": 2,
       "version_minor": 0
      },
      "text/plain": [
       "d7c6a7669718e5285d58245891c4f9e3.zip:   0%|          | 0.00/4.57M [00:00<?, ?B/s]"
      ]
     },
     "metadata": {},
     "output_type": "display_data"
    },
    {
     "name": "stdout",
     "output_type": "stream",
     "text": [
      "✅ Downloaded: /glade/work/milesep/era5_cds/era5_sfc_2013_01.nc\n",
      "2013 2 10\n"
     ]
    },
    {
     "name": "stderr",
     "output_type": "stream",
     "text": [
      "2025-08-17 09:15:08,239 WARNING [2025-08-17T15:15:08.167160] You are using a deprecated API endpoint. If you are using cdsapi, please upgrade to the latest version.\n",
      "2025-08-17 09:15:08,239 INFO Request ID is e4e386a9-b1ca-4eb0-8816-e362c8cb799c\n",
      "2025-08-17 09:15:08,403 INFO status has been updated to accepted\n",
      "2025-08-17 09:15:16,019 INFO status has been updated to running\n",
      "2025-08-17 09:17:02,325 INFO status has been updated to successful\n"
     ]
    },
    {
     "data": {
      "application/vnd.jupyter.widget-view+json": {
       "model_id": "",
       "version_major": 2,
       "version_minor": 0
      },
      "text/plain": [
       "abf74fbc487b087be3200a8034e40ece.nc:   0%|          | 0.00/62.4M [00:00<?, ?B/s]"
      ]
     },
     "metadata": {},
     "output_type": "display_data"
    },
    {
     "name": "stdout",
     "output_type": "stream",
     "text": [
      "✅ Downloaded: /glade/work/milesep/era5_cds/era5_pl_2013_02.nc\n"
     ]
    },
    {
     "name": "stderr",
     "output_type": "stream",
     "text": [
      "2025-08-17 09:17:12,912 WARNING [2025-08-17T15:17:12.838935] You are using a deprecated API endpoint. If you are using cdsapi, please upgrade to the latest version.\n",
      "2025-08-17 09:17:12,913 INFO Request ID is 7c2eca14-cf9f-4ebc-b556-1cf9720128c5\n",
      "2025-08-17 09:17:13,084 INFO status has been updated to accepted\n",
      "2025-08-17 09:17:20,711 INFO status has been updated to running\n",
      "2025-08-17 09:17:33,715 INFO status has been updated to successful\n"
     ]
    },
    {
     "data": {
      "application/vnd.jupyter.widget-view+json": {
       "model_id": "",
       "version_major": 2,
       "version_minor": 0
      },
      "text/plain": [
       "80778360e3957a16f3c5f26739455241.zip:   0%|          | 0.00/7.63M [00:00<?, ?B/s]"
      ]
     },
     "metadata": {},
     "output_type": "display_data"
    },
    {
     "name": "stderr",
     "output_type": "stream",
     "text": [
      "2025-08-17 09:17:36,775 WARNING [2025-08-17T15:17:36.702471] You are using a deprecated API endpoint. If you are using cdsapi, please upgrade to the latest version.\n",
      "2025-08-17 09:17:36,776 INFO Request ID is 1a440873-3d77-4954-88fc-ef78a8aec110\n"
     ]
    },
    {
     "name": "stdout",
     "output_type": "stream",
     "text": [
      "✅ Downloaded: /glade/work/milesep/era5_cds/era5_sfc_2013_02.nc\n",
      "2013 3 13\n"
     ]
    },
    {
     "name": "stderr",
     "output_type": "stream",
     "text": [
      "2025-08-17 09:17:36,927 INFO status has been updated to accepted\n",
      "2025-08-17 09:17:49,766 INFO status has been updated to running\n",
      "2025-08-17 09:19:30,714 INFO status has been updated to successful\n"
     ]
    },
    {
     "data": {
      "application/vnd.jupyter.widget-view+json": {
       "model_id": "",
       "version_major": 2,
       "version_minor": 0
      },
      "text/plain": [
       "4fd68dd60b2986b3e56c744f755f287.nc:   0%|          | 0.00/79.9M [00:00<?, ?B/s]"
      ]
     },
     "metadata": {},
     "output_type": "display_data"
    },
    {
     "name": "stdout",
     "output_type": "stream",
     "text": [
      "✅ Downloaded: /glade/work/milesep/era5_cds/era5_pl_2013_03.nc\n"
     ]
    },
    {
     "name": "stderr",
     "output_type": "stream",
     "text": [
      "2025-08-17 09:19:37,504 WARNING [2025-08-17T15:19:37.432327] You are using a deprecated API endpoint. If you are using cdsapi, please upgrade to the latest version.\n",
      "2025-08-17 09:19:37,505 INFO Request ID is 3213268c-29d1-4f11-8ace-b6ed985115de\n",
      "2025-08-17 09:19:37,660 INFO status has been updated to accepted\n",
      "2025-08-17 09:19:45,284 INFO status has been updated to running\n",
      "2025-08-17 09:19:50,519 INFO status has been updated to accepted\n",
      "2025-08-17 09:19:58,278 INFO status has been updated to running\n",
      "2025-08-17 09:20:27,088 INFO status has been updated to successful\n"
     ]
    },
    {
     "data": {
      "application/vnd.jupyter.widget-view+json": {
       "model_id": "",
       "version_major": 2,
       "version_minor": 0
      },
      "text/plain": [
       "ee2e46db56a5f90ac431886f70dd0803.zip:   0%|          | 0.00/9.95M [00:00<?, ?B/s]"
      ]
     },
     "metadata": {},
     "output_type": "display_data"
    },
    {
     "name": "stdout",
     "output_type": "stream",
     "text": [
      "✅ Downloaded: /glade/work/milesep/era5_cds/era5_sfc_2013_03.nc\n",
      "2013 4 22\n"
     ]
    },
    {
     "name": "stderr",
     "output_type": "stream",
     "text": [
      "2025-08-17 09:20:30,358 WARNING [2025-08-17T15:20:30.278443] You are using a deprecated API endpoint. If you are using cdsapi, please upgrade to the latest version.\n",
      "2025-08-17 09:20:30,359 INFO Request ID is 934a2579-108d-4bd2-9283-0d575926a35c\n",
      "2025-08-17 09:20:30,509 INFO status has been updated to accepted\n",
      "2025-08-17 09:20:43,309 INFO status has been updated to running\n",
      "2025-08-17 09:23:22,450 INFO status has been updated to successful\n"
     ]
    },
    {
     "data": {
      "application/vnd.jupyter.widget-view+json": {
       "model_id": "",
       "version_major": 2,
       "version_minor": 0
      },
      "text/plain": [
       "a761c46e89c259cbeae77108abea808b.nc:   0%|          | 0.00/149M [00:00<?, ?B/s]"
      ]
     },
     "metadata": {},
     "output_type": "display_data"
    },
    {
     "name": "stdout",
     "output_type": "stream",
     "text": [
      "✅ Downloaded: /glade/work/milesep/era5_cds/era5_pl_2013_04.nc\n"
     ]
    },
    {
     "name": "stderr",
     "output_type": "stream",
     "text": [
      "2025-08-17 09:23:39,283 WARNING [2025-08-17T15:23:39.209012] You are using a deprecated API endpoint. If you are using cdsapi, please upgrade to the latest version.\n",
      "2025-08-17 09:23:39,283 INFO Request ID is d9743a1f-cd54-41e3-be1f-a37bc72c20cf\n",
      "2025-08-17 09:23:39,456 INFO status has been updated to accepted\n",
      "2025-08-17 09:23:47,167 INFO status has been updated to running\n",
      "2025-08-17 09:24:29,015 INFO status has been updated to successful\n"
     ]
    },
    {
     "data": {
      "application/vnd.jupyter.widget-view+json": {
       "model_id": "",
       "version_major": 2,
       "version_minor": 0
      },
      "text/plain": [
       "70bcd7fc8959896696567f5c0bddffee.zip:   0%|          | 0.00/17.0M [00:00<?, ?B/s]"
      ]
     },
     "metadata": {},
     "output_type": "display_data"
    },
    {
     "name": "stdout",
     "output_type": "stream",
     "text": [
      "✅ Downloaded: /glade/work/milesep/era5_cds/era5_sfc_2013_04.nc\n",
      "2013 5 23\n"
     ]
    },
    {
     "name": "stderr",
     "output_type": "stream",
     "text": [
      "2025-08-17 09:24:32,570 WARNING [2025-08-17T15:24:32.498598] You are using a deprecated API endpoint. If you are using cdsapi, please upgrade to the latest version.\n",
      "2025-08-17 09:24:32,570 INFO Request ID is 3d8da933-2aa9-4f8b-8b33-402603e773f2\n",
      "2025-08-17 09:24:32,724 INFO status has been updated to accepted\n",
      "2025-08-17 09:24:40,306 INFO status has been updated to running\n",
      "2025-08-17 09:28:51,808 INFO status has been updated to successful\n"
     ]
    },
    {
     "data": {
      "application/vnd.jupyter.widget-view+json": {
       "model_id": "",
       "version_major": 2,
       "version_minor": 0
      },
      "text/plain": [
       "b6906015a8bc62ab6db262e19ea62932.nc:   0%|          | 0.00/155M [00:00<?, ?B/s]"
      ]
     },
     "metadata": {},
     "output_type": "display_data"
    },
    {
     "name": "stdout",
     "output_type": "stream",
     "text": [
      "✅ Downloaded: /glade/work/milesep/era5_cds/era5_pl_2013_05.nc\n"
     ]
    },
    {
     "name": "stderr",
     "output_type": "stream",
     "text": [
      "2025-08-17 09:29:04,973 WARNING [2025-08-17T15:29:04.898547] You are using a deprecated API endpoint. If you are using cdsapi, please upgrade to the latest version.\n",
      "2025-08-17 09:29:04,973 INFO Request ID is 4394d158-af70-4ba0-b24d-e63e8e91c667\n",
      "2025-08-17 09:29:05,240 INFO status has been updated to accepted\n",
      "2025-08-17 09:29:12,873 INFO status has been updated to running\n",
      "2025-08-17 09:29:54,656 INFO status has been updated to successful\n"
     ]
    },
    {
     "data": {
      "application/vnd.jupyter.widget-view+json": {
       "model_id": "",
       "version_major": 2,
       "version_minor": 0
      },
      "text/plain": [
       "91066c8e851db4de6936e234bac87ea9.zip:   0%|          | 0.00/17.8M [00:00<?, ?B/s]"
      ]
     },
     "metadata": {},
     "output_type": "display_data"
    },
    {
     "name": "stdout",
     "output_type": "stream",
     "text": [
      "✅ Downloaded: /glade/work/milesep/era5_cds/era5_sfc_2013_05.nc\n",
      "2013 6 30\n"
     ]
    },
    {
     "name": "stderr",
     "output_type": "stream",
     "text": [
      "2025-08-17 09:29:58,301 WARNING [2025-08-17T15:29:58.224112] You are using a deprecated API endpoint. If you are using cdsapi, please upgrade to the latest version.\n",
      "2025-08-17 09:29:58,301 INFO Request ID is 840fd112-95f8-4f89-94eb-53467ac17d7d\n",
      "2025-08-17 09:29:58,479 INFO status has been updated to accepted\n",
      "2025-08-17 09:30:06,146 INFO status has been updated to running\n",
      "2025-08-17 09:34:17,489 INFO status has been updated to successful\n"
     ]
    },
    {
     "data": {
      "application/vnd.jupyter.widget-view+json": {
       "model_id": "",
       "version_major": 2,
       "version_minor": 0
      },
      "text/plain": [
       "9648438d273dc1403893c3aa1a1aeeff.nc:   0%|          | 0.00/203M [00:00<?, ?B/s]"
      ]
     },
     "metadata": {},
     "output_type": "display_data"
    },
    {
     "name": "stdout",
     "output_type": "stream",
     "text": [
      "✅ Downloaded: /glade/work/milesep/era5_cds/era5_pl_2013_06.nc\n"
     ]
    },
    {
     "name": "stderr",
     "output_type": "stream",
     "text": [
      "2025-08-17 09:36:32,314 WARNING [2025-08-17T15:36:32.243000] You are using a deprecated API endpoint. If you are using cdsapi, please upgrade to the latest version.\n",
      "2025-08-17 09:36:32,315 INFO Request ID is 105a0a01-63ef-4e6b-94d4-83bac61acc4d\n",
      "2025-08-17 09:36:32,486 INFO status has been updated to accepted\n",
      "2025-08-17 09:36:40,123 INFO status has been updated to running\n",
      "2025-08-17 09:37:21,877 INFO status has been updated to successful\n"
     ]
    },
    {
     "data": {
      "application/vnd.jupyter.widget-view+json": {
       "model_id": "",
       "version_major": 2,
       "version_minor": 0
      },
      "text/plain": [
       "bef49a2a17590ac187bf6eafd7406fd0.zip:   0%|          | 0.00/23.1M [00:00<?, ?B/s]"
      ]
     },
     "metadata": {},
     "output_type": "display_data"
    },
    {
     "name": "stdout",
     "output_type": "stream",
     "text": [
      "✅ Downloaded: /glade/work/milesep/era5_cds/era5_sfc_2013_06.nc\n",
      "2013 7 23\n"
     ]
    },
    {
     "name": "stderr",
     "output_type": "stream",
     "text": [
      "2025-08-17 09:37:25,948 WARNING [2025-08-17T15:37:25.875644] You are using a deprecated API endpoint. If you are using cdsapi, please upgrade to the latest version.\n",
      "2025-08-17 09:37:25,949 INFO Request ID is c0d7e879-1755-4abf-8783-508051fb716a\n",
      "2025-08-17 09:37:26,243 INFO status has been updated to accepted\n",
      "2025-08-17 09:37:39,093 INFO status has been updated to running\n",
      "2025-08-17 09:41:45,334 INFO status has been updated to successful\n"
     ]
    },
    {
     "data": {
      "application/vnd.jupyter.widget-view+json": {
       "model_id": "",
       "version_major": 2,
       "version_minor": 0
      },
      "text/plain": [
       "b205af0b8047be0749edefaf83a9d715.nc:   0%|          | 0.00/151M [00:00<?, ?B/s]"
      ]
     },
     "metadata": {},
     "output_type": "display_data"
    },
    {
     "name": "stdout",
     "output_type": "stream",
     "text": [
      "✅ Downloaded: /glade/work/milesep/era5_cds/era5_pl_2013_07.nc\n"
     ]
    },
    {
     "name": "stderr",
     "output_type": "stream",
     "text": [
      "2025-08-17 09:41:57,877 WARNING [2025-08-17T15:41:57.802414] You are using a deprecated API endpoint. If you are using cdsapi, please upgrade to the latest version.\n",
      "2025-08-17 09:41:57,878 INFO Request ID is 73e31ac1-96c7-4b1a-9d32-6cfcaf5bc047\n",
      "2025-08-17 09:41:58,057 INFO status has been updated to accepted\n",
      "2025-08-17 09:42:05,711 INFO status has been updated to running\n",
      "2025-08-17 09:43:13,348 INFO status has been updated to successful\n"
     ]
    },
    {
     "data": {
      "application/vnd.jupyter.widget-view+json": {
       "model_id": "",
       "version_major": 2,
       "version_minor": 0
      },
      "text/plain": [
       "7a461632ee02dff117a05b21dfe85e84.zip:   0%|          | 0.00/17.6M [00:00<?, ?B/s]"
      ]
     },
     "metadata": {},
     "output_type": "display_data"
    },
    {
     "name": "stdout",
     "output_type": "stream",
     "text": [
      "✅ Downloaded: /glade/work/milesep/era5_cds/era5_sfc_2013_07.nc\n",
      "2013 8 20\n"
     ]
    },
    {
     "name": "stderr",
     "output_type": "stream",
     "text": [
      "2025-08-17 09:43:18,210 WARNING [2025-08-17T15:43:18.138942] You are using a deprecated API endpoint. If you are using cdsapi, please upgrade to the latest version.\n",
      "2025-08-17 09:43:18,211 INFO Request ID is a26677e1-4bfa-47a6-8790-c739c3d48b5f\n",
      "2025-08-17 09:43:18,391 INFO status has been updated to accepted\n",
      "2025-08-17 09:43:26,085 INFO status has been updated to running\n",
      "2025-08-17 09:43:31,301 INFO status has been updated to accepted\n",
      "2025-08-17 09:43:39,176 INFO status has been updated to running\n",
      "2025-08-17 09:46:10,667 INFO status has been updated to successful\n"
     ]
    },
    {
     "data": {
      "application/vnd.jupyter.widget-view+json": {
       "model_id": "",
       "version_major": 2,
       "version_minor": 0
      },
      "text/plain": [
       "7b9856283af6fa87152f733d068104ce.nc:   0%|          | 0.00/132M [00:00<?, ?B/s]"
      ]
     },
     "metadata": {},
     "output_type": "display_data"
    },
    {
     "name": "stdout",
     "output_type": "stream",
     "text": [
      "✅ Downloaded: /glade/work/milesep/era5_cds/era5_pl_2013_08.nc\n"
     ]
    },
    {
     "name": "stderr",
     "output_type": "stream",
     "text": [
      "2025-08-17 09:46:22,561 WARNING [2025-08-17T15:46:22.493304] You are using a deprecated API endpoint. If you are using cdsapi, please upgrade to the latest version.\n",
      "2025-08-17 09:46:22,562 INFO Request ID is 5fb54887-350e-4aff-a4ad-c5bbae5026cb\n",
      "2025-08-17 09:46:22,730 INFO status has been updated to accepted\n",
      "2025-08-17 09:46:30,352 INFO status has been updated to running\n",
      "2025-08-17 09:47:12,262 INFO status has been updated to successful\n"
     ]
    },
    {
     "data": {
      "application/vnd.jupyter.widget-view+json": {
       "model_id": "",
       "version_major": 2,
       "version_minor": 0
      },
      "text/plain": [
       "ff7fd7dbc7cdf8eafe8b3db65e85ef88.zip:   0%|          | 0.00/15.3M [00:00<?, ?B/s]"
      ]
     },
     "metadata": {},
     "output_type": "display_data"
    },
    {
     "name": "stdout",
     "output_type": "stream",
     "text": [
      "✅ Downloaded: /glade/work/milesep/era5_cds/era5_sfc_2013_08.nc\n",
      "2013 9 16\n"
     ]
    },
    {
     "name": "stderr",
     "output_type": "stream",
     "text": [
      "2025-08-17 09:47:15,666 WARNING [2025-08-17T15:47:15.598909] You are using a deprecated API endpoint. If you are using cdsapi, please upgrade to the latest version.\n",
      "2025-08-17 09:47:15,667 INFO Request ID is 76799593-4c53-4558-aa45-325bb2329c70\n",
      "2025-08-17 09:47:15,833 INFO status has been updated to accepted\n",
      "2025-08-17 09:47:23,433 INFO status has been updated to running\n",
      "2025-08-17 09:50:07,758 INFO status has been updated to successful\n"
     ]
    },
    {
     "data": {
      "application/vnd.jupyter.widget-view+json": {
       "model_id": "",
       "version_major": 2,
       "version_minor": 0
      },
      "text/plain": [
       "f13c1df5b0bee329b9e4e583cbcfc4d7.nc:   0%|          | 0.00/106M [00:00<?, ?B/s]"
      ]
     },
     "metadata": {},
     "output_type": "display_data"
    },
    {
     "name": "stdout",
     "output_type": "stream",
     "text": [
      "✅ Downloaded: /glade/work/milesep/era5_cds/era5_pl_2013_09.nc\n"
     ]
    },
    {
     "name": "stderr",
     "output_type": "stream",
     "text": [
      "2025-08-17 09:51:08,868 WARNING [2025-08-17T15:51:08.798146] You are using a deprecated API endpoint. If you are using cdsapi, please upgrade to the latest version.\n",
      "2025-08-17 09:51:08,869 INFO Request ID is 3db7233a-5208-4ce8-b889-45fd222a952b\n",
      "2025-08-17 09:51:09,032 INFO status has been updated to accepted\n",
      "2025-08-17 09:51:16,674 INFO status has been updated to running\n",
      "2025-08-17 09:51:41,364 INFO status has been updated to successful\n"
     ]
    },
    {
     "data": {
      "application/vnd.jupyter.widget-view+json": {
       "model_id": "",
       "version_major": 2,
       "version_minor": 0
      },
      "text/plain": [
       "2b76766e0d5543a3b4bac2d36864ef86.zip:   0%|          | 0.00/12.2M [00:00<?, ?B/s]"
      ]
     },
     "metadata": {},
     "output_type": "display_data"
    },
    {
     "name": "stdout",
     "output_type": "stream",
     "text": [
      "✅ Downloaded: /glade/work/milesep/era5_cds/era5_sfc_2013_09.nc\n",
      "2013 10 13\n"
     ]
    },
    {
     "name": "stderr",
     "output_type": "stream",
     "text": [
      "2025-08-17 09:51:45,383 WARNING [2025-08-17T15:51:45.312979] You are using a deprecated API endpoint. If you are using cdsapi, please upgrade to the latest version.\n",
      "2025-08-17 09:51:45,383 INFO Request ID is 83b302e2-e716-4316-a157-b5dbdbc337fe\n",
      "2025-08-17 09:51:45,537 INFO status has been updated to accepted\n",
      "2025-08-17 09:51:53,164 INFO status has been updated to running\n",
      "2025-08-17 09:54:37,562 INFO status has been updated to successful\n"
     ]
    },
    {
     "data": {
      "application/vnd.jupyter.widget-view+json": {
       "model_id": "",
       "version_major": 2,
       "version_minor": 0
      },
      "text/plain": [
       "afbdaa12b29210f78afbe71cbcfb03dc.nc:   0%|          | 0.00/80.6M [00:00<?, ?B/s]"
      ]
     },
     "metadata": {},
     "output_type": "display_data"
    },
    {
     "name": "stdout",
     "output_type": "stream",
     "text": [
      "✅ Downloaded: /glade/work/milesep/era5_cds/era5_pl_2013_10.nc\n"
     ]
    },
    {
     "name": "stderr",
     "output_type": "stream",
     "text": [
      "2025-08-17 09:54:46,834 WARNING [2025-08-17T15:54:46.764274] You are using a deprecated API endpoint. If you are using cdsapi, please upgrade to the latest version.\n",
      "2025-08-17 09:54:46,834 INFO Request ID is 8edb5adf-0d5d-4370-93dd-b5c725b4ee7d\n",
      "2025-08-17 09:54:46,997 INFO status has been updated to accepted\n",
      "2025-08-17 09:54:54,621 INFO status has been updated to running\n",
      "2025-08-17 09:55:19,594 INFO status has been updated to successful\n"
     ]
    },
    {
     "data": {
      "application/vnd.jupyter.widget-view+json": {
       "model_id": "",
       "version_major": 2,
       "version_minor": 0
      },
      "text/plain": [
       "9255aa0406b24472e0016c88182a5ad1.zip:   0%|          | 0.00/9.87M [00:00<?, ?B/s]"
      ]
     },
     "metadata": {},
     "output_type": "display_data"
    },
    {
     "name": "stdout",
     "output_type": "stream",
     "text": [
      "✅ Downloaded: /glade/work/milesep/era5_cds/era5_sfc_2013_10.nc\n",
      "2013 11 5\n"
     ]
    },
    {
     "name": "stderr",
     "output_type": "stream",
     "text": [
      "2025-08-17 09:55:22,603 WARNING [2025-08-17T15:55:22.527250] You are using a deprecated API endpoint. If you are using cdsapi, please upgrade to the latest version.\n",
      "2025-08-17 09:55:22,603 INFO Request ID is 0d90136e-e4fe-444a-8d58-47e153bbedc4\n",
      "2025-08-17 09:55:22,760 INFO status has been updated to accepted\n",
      "2025-08-17 09:55:30,578 INFO status has been updated to running\n",
      "2025-08-17 09:56:38,140 INFO status has been updated to successful\n"
     ]
    },
    {
     "data": {
      "application/vnd.jupyter.widget-view+json": {
       "model_id": "",
       "version_major": 2,
       "version_minor": 0
      },
      "text/plain": [
       "269da7b6d056c4e29e797e680c731091.nc:   0%|          | 0.00/30.4M [00:00<?, ?B/s]"
      ]
     },
     "metadata": {},
     "output_type": "display_data"
    },
    {
     "name": "stdout",
     "output_type": "stream",
     "text": [
      "✅ Downloaded: /glade/work/milesep/era5_cds/era5_pl_2013_11.nc\n"
     ]
    },
    {
     "name": "stderr",
     "output_type": "stream",
     "text": [
      "2025-08-17 09:56:42,320 WARNING [2025-08-17T15:56:42.250051] You are using a deprecated API endpoint. If you are using cdsapi, please upgrade to the latest version.\n",
      "2025-08-17 09:56:42,321 INFO Request ID is b89b8f31-f163-458f-a91c-9d3ed812abd5\n",
      "2025-08-17 09:56:42,482 INFO status has been updated to accepted\n",
      "2025-08-17 09:57:14,849 INFO status has been updated to successful\n"
     ]
    },
    {
     "data": {
      "application/vnd.jupyter.widget-view+json": {
       "model_id": "",
       "version_major": 2,
       "version_minor": 0
      },
      "text/plain": [
       "c11d3b31b1e591da7eb49aa849418bad.zip:   0%|          | 0.00/3.78M [00:00<?, ?B/s]"
      ]
     },
     "metadata": {},
     "output_type": "display_data"
    },
    {
     "name": "stderr",
     "output_type": "stream",
     "text": [
      "2025-08-17 09:57:18,293 WARNING [2025-08-17T15:57:18.222258] You are using a deprecated API endpoint. If you are using cdsapi, please upgrade to the latest version.\n",
      "2025-08-17 09:57:18,294 INFO Request ID is 98ce1527-d553-4a7e-a6e2-df45e956fa28\n"
     ]
    },
    {
     "name": "stdout",
     "output_type": "stream",
     "text": [
      "✅ Downloaded: /glade/work/milesep/era5_cds/era5_sfc_2013_11.nc\n",
      "2013 12 3\n"
     ]
    },
    {
     "name": "stderr",
     "output_type": "stream",
     "text": [
      "2025-08-17 09:57:18,447 INFO status has been updated to accepted\n",
      "2025-08-17 09:57:26,309 INFO status has been updated to running\n",
      "2025-08-17 09:58:08,081 INFO status has been updated to successful\n"
     ]
    },
    {
     "data": {
      "application/vnd.jupyter.widget-view+json": {
       "model_id": "",
       "version_major": 2,
       "version_minor": 0
      },
      "text/plain": [
       "d27c3d0b4f903018d88d95bdc7cc6551.nc:   0%|          | 0.00/18.1M [00:00<?, ?B/s]"
      ]
     },
     "metadata": {},
     "output_type": "display_data"
    },
    {
     "name": "stdout",
     "output_type": "stream",
     "text": [
      "✅ Downloaded: /glade/work/milesep/era5_cds/era5_pl_2013_12.nc\n"
     ]
    },
    {
     "name": "stderr",
     "output_type": "stream",
     "text": [
      "2025-08-17 09:58:12,010 WARNING [2025-08-17T15:58:11.941299] You are using a deprecated API endpoint. If you are using cdsapi, please upgrade to the latest version.\n",
      "2025-08-17 09:58:12,011 INFO Request ID is 40a7fb4b-1cfe-44cb-a4a9-0d6a4183deb8\n",
      "2025-08-17 09:58:12,159 INFO status has been updated to accepted\n",
      "2025-08-17 09:58:24,965 INFO status has been updated to running\n",
      "2025-08-17 09:58:44,257 INFO status has been updated to successful\n"
     ]
    },
    {
     "data": {
      "application/vnd.jupyter.widget-view+json": {
       "model_id": "",
       "version_major": 2,
       "version_minor": 0
      },
      "text/plain": [
       "a421ff70b218ac6bf3a3766ad0917271.zip:   0%|          | 0.00/2.32M [00:00<?, ?B/s]"
      ]
     },
     "metadata": {},
     "output_type": "display_data"
    },
    {
     "name": "stdout",
     "output_type": "stream",
     "text": [
      "✅ Downloaded: /glade/work/milesep/era5_cds/era5_sfc_2013_12.nc\n",
      "2014 1 1\n"
     ]
    },
    {
     "name": "stderr",
     "output_type": "stream",
     "text": [
      "2025-08-17 09:58:46,817 WARNING [2025-08-17T15:58:46.747778] You are using a deprecated API endpoint. If you are using cdsapi, please upgrade to the latest version.\n",
      "2025-08-17 09:58:46,818 INFO Request ID is b5dc7975-c9ee-4a99-a303-513659cff47a\n",
      "2025-08-17 09:58:46,972 INFO status has been updated to accepted\n",
      "2025-08-17 09:58:59,782 INFO status has been updated to running\n",
      "2025-08-17 09:59:19,081 INFO status has been updated to successful\n"
     ]
    },
    {
     "data": {
      "application/vnd.jupyter.widget-view+json": {
       "model_id": "",
       "version_major": 2,
       "version_minor": 0
      },
      "text/plain": [
       "2a90e5d6f6e3b8f31459711863177e96.nc:   0%|          | 0.00/6.20M [00:00<?, ?B/s]"
      ]
     },
     "metadata": {},
     "output_type": "display_data"
    },
    {
     "name": "stdout",
     "output_type": "stream",
     "text": [
      "✅ Downloaded: /glade/work/milesep/era5_cds/era5_pl_2014_01.nc\n"
     ]
    },
    {
     "name": "stderr",
     "output_type": "stream",
     "text": [
      "2025-08-17 09:59:22,161 WARNING [2025-08-17T15:59:22.092211] You are using a deprecated API endpoint. If you are using cdsapi, please upgrade to the latest version.\n",
      "2025-08-17 09:59:22,162 INFO Request ID is 65d68e3c-247c-4940-812a-a56302f8f81a\n",
      "2025-08-17 09:59:22,388 INFO status has been updated to accepted\n",
      "2025-08-17 09:59:30,002 INFO status has been updated to running\n",
      "2025-08-17 09:59:35,244 INFO status has been updated to successful\n"
     ]
    },
    {
     "data": {
      "application/vnd.jupyter.widget-view+json": {
       "model_id": "",
       "version_major": 2,
       "version_minor": 0
      },
      "text/plain": [
       "9a0355ab2be9902e9b0a1801b21a20a5.zip:   0%|          | 0.00/861k [00:00<?, ?B/s]"
      ]
     },
     "metadata": {},
     "output_type": "display_data"
    },
    {
     "name": "stdout",
     "output_type": "stream",
     "text": [
      "✅ Downloaded: /glade/work/milesep/era5_cds/era5_sfc_2014_01.nc\n",
      "2014 2 3\n"
     ]
    },
    {
     "name": "stderr",
     "output_type": "stream",
     "text": [
      "2025-08-17 09:59:37,803 WARNING [2025-08-17T15:59:37.726285] You are using a deprecated API endpoint. If you are using cdsapi, please upgrade to the latest version.\n",
      "2025-08-17 09:59:37,803 INFO Request ID is 440a99ab-979f-4a73-9101-64e92ceb3924\n",
      "2025-08-17 09:59:37,954 INFO status has been updated to accepted\n",
      "2025-08-17 09:59:45,588 INFO status has been updated to running\n",
      "2025-08-17 10:00:27,408 INFO status has been updated to successful\n"
     ]
    },
    {
     "data": {
      "application/vnd.jupyter.widget-view+json": {
       "model_id": "",
       "version_major": 2,
       "version_minor": 0
      },
      "text/plain": [
       "928466dc189f9b1104332dc818a013dc.nc:   0%|          | 0.00/18.2M [00:00<?, ?B/s]"
      ]
     },
     "metadata": {},
     "output_type": "display_data"
    },
    {
     "name": "stdout",
     "output_type": "stream",
     "text": [
      "✅ Downloaded: /glade/work/milesep/era5_cds/era5_pl_2014_02.nc\n"
     ]
    },
    {
     "name": "stderr",
     "output_type": "stream",
     "text": [
      "2025-08-17 10:00:32,170 WARNING [2025-08-17T16:00:32.100603] You are using a deprecated API endpoint. If you are using cdsapi, please upgrade to the latest version.\n",
      "2025-08-17 10:00:32,171 INFO Request ID is 0d1a2eb2-605b-476e-80df-cd330123dae5\n",
      "2025-08-17 10:00:32,319 INFO status has been updated to accepted\n",
      "2025-08-17 10:00:39,916 INFO status has been updated to running\n",
      "2025-08-17 10:00:45,151 INFO status has been updated to successful\n"
     ]
    },
    {
     "data": {
      "application/vnd.jupyter.widget-view+json": {
       "model_id": "",
       "version_major": 2,
       "version_minor": 0
      },
      "text/plain": [
       "53feaea37e3275b6b64ca225ce2c9c48.zip:   0%|          | 0.00/2.35M [00:00<?, ?B/s]"
      ]
     },
     "metadata": {},
     "output_type": "display_data"
    },
    {
     "name": "stdout",
     "output_type": "stream",
     "text": [
      "✅ Downloaded: /glade/work/milesep/era5_cds/era5_sfc_2014_02.nc\n",
      "2014 3 9\n"
     ]
    },
    {
     "name": "stderr",
     "output_type": "stream",
     "text": [
      "2025-08-17 10:00:47,994 WARNING [2025-08-17T16:00:47.925712] You are using a deprecated API endpoint. If you are using cdsapi, please upgrade to the latest version.\n",
      "2025-08-17 10:00:47,995 INFO Request ID is 5a2db7fe-1492-43bf-a086-01ab18099189\n",
      "2025-08-17 10:00:48,153 INFO status has been updated to accepted\n",
      "2025-08-17 10:01:01,026 INFO status has been updated to running\n",
      "2025-08-17 10:02:03,448 INFO status has been updated to successful\n"
     ]
    },
    {
     "name": "stdout",
     "output_type": "stream",
     "text": [
      "⚠️ Attempt 1 failed for /glade/work/milesep/era5_cds/era5_pl_2014_03.nc: Result not ready, job is running\n",
      "Retrying in 30s...\n"
     ]
    },
    {
     "name": "stderr",
     "output_type": "stream",
     "text": [
      "2025-08-17 10:02:33,853 WARNING [2025-08-17T16:02:33.783305] You are using a deprecated API endpoint. If you are using cdsapi, please upgrade to the latest version.\n",
      "2025-08-17 10:02:33,854 INFO Request ID is 9cfbf137-3708-4731-9dd7-da4db444ec13\n",
      "2025-08-17 10:02:34,013 INFO status has been updated to accepted\n",
      "2025-08-17 10:02:41,840 INFO status has been updated to running\n",
      "2025-08-17 10:02:47,054 INFO status has been updated to successful\n"
     ]
    },
    {
     "data": {
      "application/vnd.jupyter.widget-view+json": {
       "model_id": "",
       "version_major": 2,
       "version_minor": 0
      },
      "text/plain": [
       "49daf76cd8ea02c2574253000f80f8c9.nc:   0%|          | 0.00/56.0M [00:00<?, ?B/s]"
      ]
     },
     "metadata": {},
     "output_type": "display_data"
    },
    {
     "name": "stdout",
     "output_type": "stream",
     "text": [
      "✅ Downloaded: /glade/work/milesep/era5_cds/era5_pl_2014_03.nc\n"
     ]
    },
    {
     "name": "stderr",
     "output_type": "stream",
     "text": [
      "2025-08-17 10:02:53,604 WARNING [2025-08-17T16:02:53.535224] You are using a deprecated API endpoint. If you are using cdsapi, please upgrade to the latest version.\n",
      "2025-08-17 10:02:53,605 INFO Request ID is 0d182deb-ff8f-4673-901a-02887e422e30\n",
      "2025-08-17 10:02:53,786 INFO status has been updated to accepted\n",
      "2025-08-17 10:03:01,378 INFO status has been updated to running\n",
      "2025-08-17 10:03:25,887 INFO status has been updated to successful\n"
     ]
    },
    {
     "data": {
      "application/vnd.jupyter.widget-view+json": {
       "model_id": "",
       "version_major": 2,
       "version_minor": 0
      },
      "text/plain": [
       "6f32035f119ac1348fdf3fbeb9449a3e.zip:   0%|          | 0.00/6.92M [00:00<?, ?B/s]"
      ]
     },
     "metadata": {},
     "output_type": "display_data"
    },
    {
     "name": "stderr",
     "output_type": "stream",
     "text": [
      "2025-08-17 10:03:30,380 WARNING [2025-08-17T16:03:30.309701] You are using a deprecated API endpoint. If you are using cdsapi, please upgrade to the latest version.\n",
      "2025-08-17 10:03:30,381 INFO Request ID is 53b1a471-bd54-4b3e-9d50-5aa0fd5b56e4\n"
     ]
    },
    {
     "name": "stdout",
     "output_type": "stream",
     "text": [
      "✅ Downloaded: /glade/work/milesep/era5_cds/era5_sfc_2014_03.nc\n",
      "2014 4 22\n"
     ]
    },
    {
     "name": "stderr",
     "output_type": "stream",
     "text": [
      "2025-08-17 10:03:30,533 INFO status has been updated to accepted\n",
      "2025-08-17 10:03:38,142 INFO status has been updated to running\n",
      "2025-08-17 10:06:22,726 INFO status has been updated to successful\n"
     ]
    },
    {
     "data": {
      "application/vnd.jupyter.widget-view+json": {
       "model_id": "",
       "version_major": 2,
       "version_minor": 0
      },
      "text/plain": [
       "dbf15aeb76aeba643babdd29ce0d2f9d.nc:   0%|          | 0.00/148M [00:00<?, ?B/s]"
      ]
     },
     "metadata": {},
     "output_type": "display_data"
    },
    {
     "name": "stdout",
     "output_type": "stream",
     "text": [
      "✅ Downloaded: /glade/work/milesep/era5_cds/era5_pl_2014_04.nc\n"
     ]
    },
    {
     "name": "stderr",
     "output_type": "stream",
     "text": [
      "2025-08-17 10:07:43,367 WARNING [2025-08-17T16:07:43.298059] You are using a deprecated API endpoint. If you are using cdsapi, please upgrade to the latest version.\n",
      "2025-08-17 10:07:43,367 INFO Request ID is a2784284-8eb7-4b17-83d6-6d7a9ee40022\n",
      "2025-08-17 10:07:43,528 INFO status has been updated to accepted\n",
      "2025-08-17 10:07:56,409 INFO status has been updated to running\n",
      "2025-08-17 10:08:32,972 INFO status has been updated to successful\n"
     ]
    },
    {
     "data": {
      "application/vnd.jupyter.widget-view+json": {
       "model_id": "",
       "version_major": 2,
       "version_minor": 0
      },
      "text/plain": [
       "7cf7b96b8b29a6647f61b549aa92c5bc.zip:   0%|          | 0.00/17.0M [00:00<?, ?B/s]"
      ]
     },
     "metadata": {},
     "output_type": "display_data"
    },
    {
     "name": "stdout",
     "output_type": "stream",
     "text": [
      "✅ Downloaded: /glade/work/milesep/era5_cds/era5_sfc_2014_04.nc\n",
      "2014 5 20\n"
     ]
    },
    {
     "name": "stderr",
     "output_type": "stream",
     "text": [
      "2025-08-17 10:08:49,619 WARNING [2025-08-17T16:08:49.550659] You are using a deprecated API endpoint. If you are using cdsapi, please upgrade to the latest version.\n",
      "2025-08-17 10:08:49,619 INFO Request ID is 8101e045-b6d2-4ff1-aa1a-b4b2e9d12fec\n",
      "2025-08-17 10:08:49,771 INFO status has been updated to accepted\n",
      "2025-08-17 10:09:02,929 INFO status has been updated to running\n",
      "2025-08-17 10:11:42,273 INFO status has been updated to successful\n"
     ]
    },
    {
     "data": {
      "application/vnd.jupyter.widget-view+json": {
       "model_id": "",
       "version_major": 2,
       "version_minor": 0
      },
      "text/plain": [
       "a9c3453282245c0fd343634266008dbe.nc:   0%|          | 0.00/133M [00:00<?, ?B/s]"
      ]
     },
     "metadata": {},
     "output_type": "display_data"
    },
    {
     "name": "stdout",
     "output_type": "stream",
     "text": [
      "✅ Downloaded: /glade/work/milesep/era5_cds/era5_pl_2014_05.nc\n"
     ]
    },
    {
     "name": "stderr",
     "output_type": "stream",
     "text": [
      "2025-08-17 10:12:47,320 WARNING [2025-08-17T16:12:47.254198] You are using a deprecated API endpoint. If you are using cdsapi, please upgrade to the latest version.\n",
      "2025-08-17 10:12:47,321 INFO Request ID is d5827e18-2a48-4a44-9a30-43762d81bcf1\n",
      "2025-08-17 10:12:47,492 INFO status has been updated to accepted\n",
      "2025-08-17 10:13:00,549 INFO status has been updated to running\n",
      "2025-08-17 10:13:37,122 INFO status has been updated to successful\n"
     ]
    },
    {
     "data": {
      "application/vnd.jupyter.widget-view+json": {
       "model_id": "",
       "version_major": 2,
       "version_minor": 0
      },
      "text/plain": [
       "85d4442265fd86570a7292f3f7235d89.zip:   0%|          | 0.00/15.5M [00:00<?, ?B/s]"
      ]
     },
     "metadata": {},
     "output_type": "display_data"
    },
    {
     "name": "stdout",
     "output_type": "stream",
     "text": [
      "✅ Downloaded: /glade/work/milesep/era5_cds/era5_sfc_2014_05.nc\n",
      "2014 6 29\n"
     ]
    },
    {
     "name": "stderr",
     "output_type": "stream",
     "text": [
      "2025-08-17 10:13:41,007 WARNING [2025-08-17T16:13:40.938663] You are using a deprecated API endpoint. If you are using cdsapi, please upgrade to the latest version.\n",
      "2025-08-17 10:13:41,008 INFO Request ID is 12adebd0-f2db-4f7a-b411-073a035fe64b\n",
      "2025-08-17 10:13:41,158 INFO status has been updated to accepted\n",
      "2025-08-17 10:13:53,991 INFO status has been updated to running\n",
      "2025-08-17 10:14:01,936 INFO status has been updated to accepted\n",
      "2025-08-17 10:14:13,473 INFO status has been updated to running\n",
      "2025-08-17 10:20:01,073 INFO status has been updated to successful\n"
     ]
    },
    {
     "data": {
      "application/vnd.jupyter.widget-view+json": {
       "model_id": "",
       "version_major": 2,
       "version_minor": 0
      },
      "text/plain": [
       "1b1611c1f64d5f34d4d515e74933e2ba.nc:   0%|          | 0.00/190M [00:00<?, ?B/s]"
      ]
     },
     "metadata": {},
     "output_type": "display_data"
    },
    {
     "name": "stdout",
     "output_type": "stream",
     "text": [
      "✅ Downloaded: /glade/work/milesep/era5_cds/era5_pl_2014_06.nc\n"
     ]
    },
    {
     "name": "stderr",
     "output_type": "stream",
     "text": [
      "2025-08-17 10:21:09,963 WARNING [2025-08-17T16:21:09.896503] You are using a deprecated API endpoint. If you are using cdsapi, please upgrade to the latest version.\n",
      "2025-08-17 10:21:09,963 INFO Request ID is 54556d3c-bb2a-4fd3-b906-7b7799d8bd87\n",
      "2025-08-17 10:21:10,127 INFO status has been updated to accepted\n",
      "2025-08-17 10:21:22,995 INFO status has been updated to running\n",
      "2025-08-17 10:21:59,559 INFO status has been updated to successful\n"
     ]
    },
    {
     "data": {
      "application/vnd.jupyter.widget-view+json": {
       "model_id": "",
       "version_major": 2,
       "version_minor": 0
      },
      "text/plain": [
       "f5b95fbf1c4df2e8f45624b146a97572.zip:   0%|          | 0.00/22.4M [00:00<?, ?B/s]"
      ]
     },
     "metadata": {},
     "output_type": "display_data"
    },
    {
     "name": "stdout",
     "output_type": "stream",
     "text": [
      "✅ Downloaded: /glade/work/milesep/era5_cds/era5_sfc_2014_06.nc\n",
      "2014 7 25\n"
     ]
    },
    {
     "name": "stderr",
     "output_type": "stream",
     "text": [
      "2025-08-17 10:22:03,342 WARNING [2025-08-17T16:22:03.275054] You are using a deprecated API endpoint. If you are using cdsapi, please upgrade to the latest version.\n",
      "2025-08-17 10:22:03,342 INFO Request ID is 9fb83469-9998-4911-be24-9ad467814de8\n",
      "2025-08-17 10:22:03,493 INFO status has been updated to accepted\n",
      "2025-08-17 10:22:35,709 INFO status has been updated to running\n",
      "2025-08-17 10:26:22,504 INFO status has been updated to successful\n"
     ]
    },
    {
     "data": {
      "application/vnd.jupyter.widget-view+json": {
       "model_id": "",
       "version_major": 2,
       "version_minor": 0
      },
      "text/plain": [
       "19c56a39b66df1ab46062c7364823844.nc:   0%|          | 0.00/166M [00:00<?, ?B/s]"
      ]
     },
     "metadata": {},
     "output_type": "display_data"
    },
    {
     "name": "stdout",
     "output_type": "stream",
     "text": [
      "✅ Downloaded: /glade/work/milesep/era5_cds/era5_pl_2014_07.nc\n"
     ]
    },
    {
     "name": "stderr",
     "output_type": "stream",
     "text": [
      "2025-08-17 10:26:50,099 WARNING [2025-08-17T16:26:50.031509] You are using a deprecated API endpoint. If you are using cdsapi, please upgrade to the latest version.\n",
      "2025-08-17 10:26:50,099 INFO Request ID is 6f720ea0-596d-4da7-8684-04d485326212\n",
      "2025-08-17 10:26:50,270 INFO status has been updated to accepted\n",
      "2025-08-17 10:27:03,171 INFO status has been updated to running\n",
      "2025-08-17 10:27:39,724 INFO status has been updated to successful\n"
     ]
    },
    {
     "data": {
      "application/vnd.jupyter.widget-view+json": {
       "model_id": "",
       "version_major": 2,
       "version_minor": 0
      },
      "text/plain": [
       "69d94f14c437b02dd1578db25d33b508.zip:   0%|          | 0.00/19.2M [00:00<?, ?B/s]"
      ]
     },
     "metadata": {},
     "output_type": "display_data"
    },
    {
     "name": "stdout",
     "output_type": "stream",
     "text": [
      "✅ Downloaded: /glade/work/milesep/era5_cds/era5_sfc_2014_07.nc\n",
      "2014 8 17\n"
     ]
    },
    {
     "name": "stderr",
     "output_type": "stream",
     "text": [
      "2025-08-17 10:27:43,630 WARNING [2025-08-17T16:27:43.562877] You are using a deprecated API endpoint. If you are using cdsapi, please upgrade to the latest version.\n",
      "2025-08-17 10:27:43,630 INFO Request ID is 676ca0f1-74ab-4be6-ba42-3108a76ef9ac\n",
      "2025-08-17 10:27:43,781 INFO status has been updated to accepted\n",
      "2025-08-17 10:27:51,482 INFO status has been updated to running\n",
      "2025-08-17 10:30:35,897 INFO status has been updated to successful\n"
     ]
    },
    {
     "data": {
      "application/vnd.jupyter.widget-view+json": {
       "model_id": "",
       "version_major": 2,
       "version_minor": 0
      },
      "text/plain": [
       "da2d1cd445d452e58be709a5310bffb3.nc:   0%|          | 0.00/111M [00:00<?, ?B/s]"
      ]
     },
     "metadata": {},
     "output_type": "display_data"
    },
    {
     "name": "stdout",
     "output_type": "stream",
     "text": [
      "✅ Downloaded: /glade/work/milesep/era5_cds/era5_pl_2014_08.nc\n"
     ]
    },
    {
     "name": "stderr",
     "output_type": "stream",
     "text": [
      "2025-08-17 10:30:53,792 WARNING [2025-08-17T16:30:53.719082] You are using a deprecated API endpoint. If you are using cdsapi, please upgrade to the latest version.\n",
      "2025-08-17 10:30:53,793 INFO Request ID is 6b024114-ccb3-42d6-ab8d-85ad45cf9cf9\n",
      "2025-08-17 10:30:53,959 INFO status has been updated to accepted\n",
      "2025-08-17 10:31:01,838 INFO status has been updated to running\n",
      "2025-08-17 10:31:43,653 INFO status has been updated to successful\n"
     ]
    },
    {
     "data": {
      "application/vnd.jupyter.widget-view+json": {
       "model_id": "",
       "version_major": 2,
       "version_minor": 0
      },
      "text/plain": [
       "2e1e38fc591c07e69468546642bd7a5f.zip:   0%|          | 0.00/13.1M [00:00<?, ?B/s]"
      ]
     },
     "metadata": {},
     "output_type": "display_data"
    },
    {
     "name": "stdout",
     "output_type": "stream",
     "text": [
      "✅ Downloaded: /glade/work/milesep/era5_cds/era5_sfc_2014_08.nc\n",
      "2014 9 13\n"
     ]
    },
    {
     "name": "stderr",
     "output_type": "stream",
     "text": [
      "2025-08-17 10:31:46,856 WARNING [2025-08-17T16:31:46.784916] You are using a deprecated API endpoint. If you are using cdsapi, please upgrade to the latest version.\n",
      "2025-08-17 10:31:46,857 INFO Request ID is a1d41bb5-8868-4c55-83f3-635ac17acbb6\n",
      "2025-08-17 10:31:47,038 INFO status has been updated to accepted\n",
      "2025-08-17 10:31:54,671 INFO status has been updated to running\n",
      "2025-08-17 10:33:41,162 INFO status has been updated to successful\n"
     ]
    },
    {
     "data": {
      "application/vnd.jupyter.widget-view+json": {
       "model_id": "",
       "version_major": 2,
       "version_minor": 0
      },
      "text/plain": [
       "1ada09b3c59cbaa4fbabf26967263620.nc:   0%|          | 0.00/80.4M [00:00<?, ?B/s]"
      ]
     },
     "metadata": {},
     "output_type": "display_data"
    },
    {
     "name": "stdout",
     "output_type": "stream",
     "text": [
      "✅ Downloaded: /glade/work/milesep/era5_cds/era5_pl_2014_09.nc\n"
     ]
    },
    {
     "name": "stderr",
     "output_type": "stream",
     "text": [
      "2025-08-17 10:33:55,963 WARNING [2025-08-17T16:33:55.892617] You are using a deprecated API endpoint. If you are using cdsapi, please upgrade to the latest version.\n",
      "2025-08-17 10:33:55,963 INFO Request ID is 18371658-82c6-4be3-9db5-3afd474142b2\n",
      "2025-08-17 10:33:56,130 INFO status has been updated to accepted\n",
      "2025-08-17 10:34:03,772 INFO status has been updated to running\n",
      "2025-08-17 10:34:28,302 INFO status has been updated to successful\n"
     ]
    },
    {
     "data": {
      "application/vnd.jupyter.widget-view+json": {
       "model_id": "",
       "version_major": 2,
       "version_minor": 0
      },
      "text/plain": [
       "b7433274a19d3d40fc5bf97597a34172.zip:   0%|          | 0.00/9.92M [00:00<?, ?B/s]"
      ]
     },
     "metadata": {},
     "output_type": "display_data"
    },
    {
     "name": "stdout",
     "output_type": "stream",
     "text": [
      "✅ Downloaded: /glade/work/milesep/era5_cds/era5_sfc_2014_09.nc\n",
      "2014 10 9\n"
     ]
    },
    {
     "name": "stderr",
     "output_type": "stream",
     "text": [
      "2025-08-17 10:34:31,490 WARNING [2025-08-17T16:34:31.418567] You are using a deprecated API endpoint. If you are using cdsapi, please upgrade to the latest version.\n",
      "2025-08-17 10:34:31,491 INFO Request ID is e813ccac-b557-4741-85f3-22ceecbe8120\n",
      "2025-08-17 10:34:31,649 INFO status has been updated to accepted\n",
      "2025-08-17 10:34:44,493 INFO status has been updated to running\n",
      "2025-08-17 10:36:25,511 INFO status has been updated to successful\n"
     ]
    },
    {
     "data": {
      "application/vnd.jupyter.widget-view+json": {
       "model_id": "",
       "version_major": 2,
       "version_minor": 0
      },
      "text/plain": [
       "7f979df86b9cd3328a02cf8620b4b896.nc:   0%|          | 0.00/55.7M [00:00<?, ?B/s]"
      ]
     },
     "metadata": {},
     "output_type": "display_data"
    },
    {
     "name": "stdout",
     "output_type": "stream",
     "text": [
      "✅ Downloaded: /glade/work/milesep/era5_cds/era5_pl_2014_10.nc\n"
     ]
    },
    {
     "name": "stderr",
     "output_type": "stream",
     "text": [
      "2025-08-17 10:36:47,538 WARNING [2025-08-17T16:36:47.466911] You are using a deprecated API endpoint. If you are using cdsapi, please upgrade to the latest version.\n",
      "2025-08-17 10:36:47,538 INFO Request ID is 976613f7-5995-4441-8148-0b0d577d813c\n",
      "2025-08-17 10:36:47,707 INFO status has been updated to accepted\n",
      "2025-08-17 10:36:55,328 INFO status has been updated to running\n",
      "2025-08-17 10:37:08,313 INFO status has been updated to successful\n"
     ]
    },
    {
     "data": {
      "application/vnd.jupyter.widget-view+json": {
       "model_id": "",
       "version_major": 2,
       "version_minor": 0
      },
      "text/plain": [
       "d4717ce46124c036504662a3cf69c26a.zip:   0%|          | 0.00/6.86M [00:00<?, ?B/s]"
      ]
     },
     "metadata": {},
     "output_type": "display_data"
    },
    {
     "name": "stdout",
     "output_type": "stream",
     "text": [
      "✅ Downloaded: /glade/work/milesep/era5_cds/era5_sfc_2014_10.nc\n",
      "2014 11 5\n"
     ]
    },
    {
     "name": "stderr",
     "output_type": "stream",
     "text": [
      "2025-08-17 10:37:12,314 WARNING [2025-08-17T16:37:12.243486] You are using a deprecated API endpoint. If you are using cdsapi, please upgrade to the latest version.\n",
      "2025-08-17 10:37:12,314 INFO Request ID is 767d7ea8-a77e-4c50-96a6-0634a438e5a7\n",
      "2025-08-17 10:37:12,476 INFO status has been updated to accepted\n",
      "2025-08-17 10:37:25,312 INFO status has been updated to running\n",
      "2025-08-17 10:38:01,863 INFO status has been updated to successful\n"
     ]
    },
    {
     "data": {
      "application/vnd.jupyter.widget-view+json": {
       "model_id": "",
       "version_major": 2,
       "version_minor": 0
      },
      "text/plain": [
       "5bbc69bac90bf5c32e0b5ed9fb2b9aab.nc:   0%|          | 0.00/30.4M [00:00<?, ?B/s]"
      ]
     },
     "metadata": {},
     "output_type": "display_data"
    },
    {
     "name": "stdout",
     "output_type": "stream",
     "text": [
      "✅ Downloaded: /glade/work/milesep/era5_cds/era5_pl_2014_11.nc\n"
     ]
    },
    {
     "name": "stderr",
     "output_type": "stream",
     "text": [
      "2025-08-17 10:38:06,642 WARNING [2025-08-17T16:38:06.561822] You are using a deprecated API endpoint. If you are using cdsapi, please upgrade to the latest version.\n",
      "2025-08-17 10:38:06,643 INFO Request ID is 7131d59c-14d8-4344-b5bd-3b8e05073440\n",
      "2025-08-17 10:38:06,822 INFO status has been updated to accepted\n",
      "2025-08-17 10:38:14,542 INFO status has been updated to running\n",
      "2025-08-17 10:38:27,521 INFO status has been updated to successful\n"
     ]
    },
    {
     "data": {
      "application/vnd.jupyter.widget-view+json": {
       "model_id": "",
       "version_major": 2,
       "version_minor": 0
      },
      "text/plain": [
       "81f71d31636aebb89a49e410601daafa.zip:   0%|          | 0.00/3.84M [00:00<?, ?B/s]"
      ]
     },
     "metadata": {},
     "output_type": "display_data"
    },
    {
     "name": "stdout",
     "output_type": "stream",
     "text": [
      "✅ Downloaded: /glade/work/milesep/era5_cds/era5_sfc_2014_11.nc\n",
      "2014 12 2\n"
     ]
    },
    {
     "name": "stderr",
     "output_type": "stream",
     "text": [
      "2025-08-17 10:38:30,275 WARNING [2025-08-17T16:38:30.203697] You are using a deprecated API endpoint. If you are using cdsapi, please upgrade to the latest version.\n",
      "2025-08-17 10:38:30,275 INFO Request ID is 41802f63-4a9b-45bf-8078-2143d9a0015e\n",
      "2025-08-17 10:38:30,491 INFO status has been updated to accepted\n",
      "2025-08-17 10:38:38,117 INFO status has been updated to running\n",
      "2025-08-17 10:39:02,657 INFO status has been updated to successful\n"
     ]
    },
    {
     "data": {
      "application/vnd.jupyter.widget-view+json": {
       "model_id": "",
       "version_major": 2,
       "version_minor": 0
      },
      "text/plain": [
       "a9c4b35dd2fcf32f82f318b1405454de.nc:   0%|          | 0.00/12.5M [00:00<?, ?B/s]"
      ]
     },
     "metadata": {},
     "output_type": "display_data"
    },
    {
     "name": "stdout",
     "output_type": "stream",
     "text": [
      "✅ Downloaded: /glade/work/milesep/era5_cds/era5_pl_2014_12.nc\n"
     ]
    },
    {
     "name": "stderr",
     "output_type": "stream",
     "text": [
      "2025-08-17 10:39:06,903 WARNING [2025-08-17T16:39:06.832482] You are using a deprecated API endpoint. If you are using cdsapi, please upgrade to the latest version.\n",
      "2025-08-17 10:39:06,904 INFO Request ID is 98724ca2-6fb9-418b-9725-e12e83e46372\n",
      "2025-08-17 10:39:07,302 INFO status has been updated to accepted\n",
      "2025-08-17 10:39:15,114 INFO status has been updated to running\n",
      "2025-08-17 10:39:20,332 INFO status has been updated to successful\n"
     ]
    },
    {
     "data": {
      "application/vnd.jupyter.widget-view+json": {
       "model_id": "",
       "version_major": 2,
       "version_minor": 0
      },
      "text/plain": [
       "db8aa5914acfb6399bd3776e734a5596.zip:   0%|          | 0.00/1.58M [00:00<?, ?B/s]"
      ]
     },
     "metadata": {},
     "output_type": "display_data"
    },
    {
     "name": "stdout",
     "output_type": "stream",
     "text": [
      "✅ Downloaded: /glade/work/milesep/era5_cds/era5_sfc_2014_12.nc\n",
      "2015 1 1\n"
     ]
    },
    {
     "name": "stderr",
     "output_type": "stream",
     "text": [
      "2025-08-17 10:39:23,076 WARNING [2025-08-17T16:39:23.004428] You are using a deprecated API endpoint. If you are using cdsapi, please upgrade to the latest version.\n",
      "2025-08-17 10:39:23,077 INFO Request ID is 34f5fce0-7d74-476c-8d5b-66db848aaea7\n",
      "2025-08-17 10:39:23,344 INFO status has been updated to accepted\n",
      "2025-08-17 10:39:30,951 INFO status has been updated to running\n",
      "2025-08-17 10:39:43,977 INFO status has been updated to successful\n"
     ]
    },
    {
     "data": {
      "application/vnd.jupyter.widget-view+json": {
       "model_id": "",
       "version_major": 2,
       "version_minor": 0
      },
      "text/plain": [
       "201c410234b9ee3cddfc23cc21190143.nc:   0%|          | 0.00/6.16M [00:00<?, ?B/s]"
      ]
     },
     "metadata": {},
     "output_type": "display_data"
    },
    {
     "name": "stdout",
     "output_type": "stream",
     "text": [
      "✅ Downloaded: /glade/work/milesep/era5_cds/era5_pl_2015_01.nc\n"
     ]
    },
    {
     "name": "stderr",
     "output_type": "stream",
     "text": [
      "2025-08-17 10:39:47,533 WARNING [2025-08-17T16:39:47.460986] You are using a deprecated API endpoint. If you are using cdsapi, please upgrade to the latest version.\n",
      "2025-08-17 10:39:47,534 INFO Request ID is a2a7f86f-f111-4798-8577-bb77fd01d328\n",
      "2025-08-17 10:39:47,687 INFO status has been updated to accepted\n",
      "2025-08-17 10:39:55,292 INFO status has been updated to running\n",
      "2025-08-17 10:40:00,530 INFO status has been updated to successful\n"
     ]
    },
    {
     "name": "stdout",
     "output_type": "stream",
     "text": [
      "⚠️ Attempt 1 failed for /glade/work/milesep/era5_cds/era5_sfc_2015_01.nc: Result not ready, job is accepted\n",
      "Retrying in 30s...\n"
     ]
    },
    {
     "name": "stderr",
     "output_type": "stream",
     "text": [
      "2025-08-17 10:40:31,163 WARNING [2025-08-17T16:40:31.092735] You are using a deprecated API endpoint. If you are using cdsapi, please upgrade to the latest version.\n",
      "2025-08-17 10:40:31,164 INFO Request ID is 0edd9dca-5860-4d13-9185-960576ca9a17\n",
      "2025-08-17 10:40:31,330 INFO status has been updated to accepted\n",
      "2025-08-17 10:40:52,080 INFO status has been updated to successful\n"
     ]
    },
    {
     "name": "stdout",
     "output_type": "stream",
     "text": [
      "⚠️ Attempt 2 failed for /glade/work/milesep/era5_cds/era5_sfc_2015_01.nc: Result not ready, job is accepted\n",
      "Retrying in 60s...\n"
     ]
    },
    {
     "name": "stderr",
     "output_type": "stream",
     "text": [
      "2025-08-17 10:41:53,169 WARNING [2025-08-17T16:41:53.100921] You are using a deprecated API endpoint. If you are using cdsapi, please upgrade to the latest version.\n",
      "2025-08-17 10:41:53,169 INFO Request ID is 3578df04-b33b-4c73-b149-728645a9f028\n",
      "2025-08-17 10:41:53,372 INFO status has been updated to accepted\n",
      "2025-08-17 10:42:06,336 INFO status has been updated to running\n",
      "2025-08-17 10:42:14,097 INFO status has been updated to successful\n"
     ]
    },
    {
     "data": {
      "application/vnd.jupyter.widget-view+json": {
       "model_id": "",
       "version_major": 2,
       "version_minor": 0
      },
      "text/plain": [
       "9ef5c4e3e9e8cb59d49c152319b7c8df.zip:   0%|          | 0.00/867k [00:00<?, ?B/s]"
      ]
     },
     "metadata": {},
     "output_type": "display_data"
    },
    {
     "name": "stdout",
     "output_type": "stream",
     "text": [
      "✅ Downloaded: /glade/work/milesep/era5_cds/era5_sfc_2015_01.nc\n",
      "2015 3 3\n"
     ]
    },
    {
     "name": "stderr",
     "output_type": "stream",
     "text": [
      "2025-08-17 10:42:17,276 WARNING [2025-08-17T16:42:17.209408] You are using a deprecated API endpoint. If you are using cdsapi, please upgrade to the latest version.\n",
      "2025-08-17 10:42:17,277 INFO Request ID is b3f237c5-29a4-4a45-8ad1-985944ace825\n",
      "2025-08-17 10:42:17,442 INFO status has been updated to accepted\n",
      "2025-08-17 10:42:30,340 INFO status has been updated to running\n",
      "2025-08-17 10:43:07,063 INFO status has been updated to successful\n"
     ]
    },
    {
     "data": {
      "application/vnd.jupyter.widget-view+json": {
       "model_id": "",
       "version_major": 2,
       "version_minor": 0
      },
      "text/plain": [
       "91c1b8e7216cc48f2d2e10309e8fd1e6.nc:   0%|          | 0.00/17.8M [00:00<?, ?B/s]"
      ]
     },
     "metadata": {},
     "output_type": "display_data"
    },
    {
     "name": "stdout",
     "output_type": "stream",
     "text": [
      "✅ Downloaded: /glade/work/milesep/era5_cds/era5_pl_2015_03.nc\n"
     ]
    },
    {
     "name": "stderr",
     "output_type": "stream",
     "text": [
      "2025-08-17 10:43:11,074 WARNING [2025-08-17T16:43:11.006566] You are using a deprecated API endpoint. If you are using cdsapi, please upgrade to the latest version.\n",
      "2025-08-17 10:43:11,075 INFO Request ID is ce7782b8-7b25-4642-bce7-8eb4b1634f4e\n",
      "2025-08-17 10:43:11,593 INFO status has been updated to accepted\n",
      "2025-08-17 10:43:19,217 INFO status has been updated to running\n",
      "2025-08-17 10:43:32,424 INFO status has been updated to successful\n"
     ]
    },
    {
     "data": {
      "application/vnd.jupyter.widget-view+json": {
       "model_id": "",
       "version_major": 2,
       "version_minor": 0
      },
      "text/plain": [
       "8c1a66227979e96250e645ebad90f0ad.zip:   0%|          | 0.00/2.39M [00:00<?, ?B/s]"
      ]
     },
     "metadata": {},
     "output_type": "display_data"
    },
    {
     "name": "stdout",
     "output_type": "stream",
     "text": [
      "✅ Downloaded: /glade/work/milesep/era5_cds/era5_sfc_2015_03.nc\n",
      "2015 4 23\n"
     ]
    },
    {
     "name": "stderr",
     "output_type": "stream",
     "text": [
      "2025-08-17 10:43:35,202 WARNING [2025-08-17T16:43:35.134649] You are using a deprecated API endpoint. If you are using cdsapi, please upgrade to the latest version.\n",
      "2025-08-17 10:43:35,203 INFO Request ID is 18a3065a-f68d-41e4-8abf-4ae6b7ec9f55\n",
      "2025-08-17 10:43:35,399 INFO status has been updated to accepted\n",
      "2025-08-17 10:43:43,010 INFO status has been updated to running\n",
      "2025-08-17 10:46:27,428 INFO status has been updated to successful\n"
     ]
    },
    {
     "name": "stdout",
     "output_type": "stream",
     "text": [
      "⚠️ Attempt 1 failed for /glade/work/milesep/era5_cds/era5_pl_2015_04.nc: Result not ready, job is running\n",
      "Retrying in 30s...\n"
     ]
    },
    {
     "name": "stderr",
     "output_type": "stream",
     "text": [
      "2025-08-17 10:46:57,862 WARNING [2025-08-17T16:46:57.791534] You are using a deprecated API endpoint. If you are using cdsapi, please upgrade to the latest version.\n",
      "2025-08-17 10:46:57,863 INFO Request ID is f661172b-586f-4358-9fbf-5c36e7b44047\n",
      "2025-08-17 10:46:58,034 INFO status has been updated to accepted\n",
      "2025-08-17 10:47:05,848 INFO status has been updated to running\n",
      "2025-08-17 10:47:11,093 INFO status has been updated to successful\n"
     ]
    },
    {
     "data": {
      "application/vnd.jupyter.widget-view+json": {
       "model_id": "",
       "version_major": 2,
       "version_minor": 0
      },
      "text/plain": [
       "ba720703532efb148f2e20c50587aa15.nc:   0%|          | 0.00/154M [00:00<?, ?B/s]"
      ]
     },
     "metadata": {},
     "output_type": "display_data"
    },
    {
     "name": "stdout",
     "output_type": "stream",
     "text": [
      "✅ Downloaded: /glade/work/milesep/era5_cds/era5_pl_2015_04.nc\n"
     ]
    },
    {
     "name": "stderr",
     "output_type": "stream",
     "text": [
      "2025-08-17 10:47:28,929 WARNING [2025-08-17T16:47:28.858514] You are using a deprecated API endpoint. If you are using cdsapi, please upgrade to the latest version.\n",
      "2025-08-17 10:47:28,930 INFO Request ID is db2a03d3-7d9c-4bb9-a6d9-4d22a1a11df4\n",
      "2025-08-17 10:47:29,106 INFO status has been updated to accepted\n",
      "2025-08-17 10:47:41,933 INFO status has been updated to running\n",
      "2025-08-17 10:48:18,515 INFO status has been updated to successful\n"
     ]
    },
    {
     "data": {
      "application/vnd.jupyter.widget-view+json": {
       "model_id": "",
       "version_major": 2,
       "version_minor": 0
      },
      "text/plain": [
       "dc11f13023e29981f5e5380db0101bf3.zip:   0%|          | 0.00/17.7M [00:00<?, ?B/s]"
      ]
     },
     "metadata": {},
     "output_type": "display_data"
    },
    {
     "name": "stdout",
     "output_type": "stream",
     "text": [
      "✅ Downloaded: /glade/work/milesep/era5_cds/era5_sfc_2015_04.nc\n",
      "2015 5 29\n"
     ]
    },
    {
     "name": "stderr",
     "output_type": "stream",
     "text": [
      "2025-08-17 10:48:23,255 WARNING [2025-08-17T16:48:23.185512] You are using a deprecated API endpoint. If you are using cdsapi, please upgrade to the latest version.\n",
      "2025-08-17 10:48:23,255 INFO Request ID is ca4d0c26-497e-49b1-a243-d0e539734459\n",
      "2025-08-17 10:48:23,407 INFO status has been updated to accepted\n",
      "2025-08-17 10:48:31,002 INFO status has been updated to running\n",
      "2025-08-17 10:52:42,273 INFO status has been updated to successful\n"
     ]
    },
    {
     "data": {
      "application/vnd.jupyter.widget-view+json": {
       "model_id": "",
       "version_major": 2,
       "version_minor": 0
      },
      "text/plain": [
       "18c2d0b5d93bdff5f08a77c2f0434c77.nc:   0%|          | 0.00/198M [00:00<?, ?B/s]"
      ]
     },
     "metadata": {},
     "output_type": "display_data"
    },
    {
     "name": "stdout",
     "output_type": "stream",
     "text": [
      "✅ Downloaded: /glade/work/milesep/era5_cds/era5_pl_2015_05.nc\n"
     ]
    },
    {
     "name": "stderr",
     "output_type": "stream",
     "text": [
      "2025-08-17 10:53:51,869 WARNING [2025-08-17T16:53:51.797633] You are using a deprecated API endpoint. If you are using cdsapi, please upgrade to the latest version.\n",
      "2025-08-17 10:53:51,870 INFO Request ID is f4caf141-b993-4ee1-9668-9025d44282ab\n",
      "2025-08-17 10:53:52,047 INFO status has been updated to accepted\n",
      "2025-08-17 10:53:59,678 INFO status has been updated to running\n",
      "2025-08-17 10:54:41,772 INFO status has been updated to successful\n"
     ]
    },
    {
     "data": {
      "application/vnd.jupyter.widget-view+json": {
       "model_id": "",
       "version_major": 2,
       "version_minor": 0
      },
      "text/plain": [
       "d938b2674476762e0035fdf3eb5b1d5e.zip:   0%|          | 0.00/22.3M [00:00<?, ?B/s]"
      ]
     },
     "metadata": {},
     "output_type": "display_data"
    },
    {
     "name": "stdout",
     "output_type": "stream",
     "text": [
      "✅ Downloaded: /glade/work/milesep/era5_cds/era5_sfc_2015_05.nc\n",
      "2015 6 30\n"
     ]
    },
    {
     "name": "stderr",
     "output_type": "stream",
     "text": [
      "2025-08-17 10:54:45,309 WARNING [2025-08-17T16:54:45.236008] You are using a deprecated API endpoint. If you are using cdsapi, please upgrade to the latest version.\n",
      "2025-08-17 10:54:45,309 INFO Request ID is fc5dd4a5-4d66-49eb-8f36-39856cb05328\n",
      "2025-08-17 10:54:45,480 INFO status has been updated to accepted\n",
      "2025-08-17 10:54:53,283 INFO status has been updated to running\n",
      "2025-08-17 10:54:58,502 INFO status has been updated to accepted\n",
      "2025-08-17 10:55:06,266 INFO status has been updated to running\n",
      "2025-08-17 10:59:04,638 INFO status has been updated to successful\n"
     ]
    },
    {
     "data": {
      "application/vnd.jupyter.widget-view+json": {
       "model_id": "",
       "version_major": 2,
       "version_minor": 0
      },
      "text/plain": [
       "a36426aedee1f7fb9c5b0a56cdd1c70e.nc:   0%|          | 0.00/201M [00:00<?, ?B/s]"
      ]
     },
     "metadata": {},
     "output_type": "display_data"
    },
    {
     "name": "stdout",
     "output_type": "stream",
     "text": [
      "✅ Downloaded: /glade/work/milesep/era5_cds/era5_pl_2015_06.nc\n"
     ]
    },
    {
     "name": "stderr",
     "output_type": "stream",
     "text": [
      "2025-08-17 10:59:26,223 WARNING [2025-08-17T16:59:26.148846] You are using a deprecated API endpoint. If you are using cdsapi, please upgrade to the latest version.\n",
      "2025-08-17 10:59:26,223 INFO Request ID is 34fb1202-0282-4b51-bc96-7b7b29f43e2b\n",
      "2025-08-17 10:59:26,378 INFO status has been updated to accepted\n",
      "2025-08-17 10:59:34,066 INFO status has been updated to running\n",
      "2025-08-17 11:00:15,912 INFO status has been updated to successful\n"
     ]
    },
    {
     "data": {
      "application/vnd.jupyter.widget-view+json": {
       "model_id": "",
       "version_major": 2,
       "version_minor": 0
      },
      "text/plain": [
       "3e87b3b59526f479acca9a0b3aca4d7.zip:   0%|          | 0.00/23.2M [00:00<?, ?B/s]"
      ]
     },
     "metadata": {},
     "output_type": "display_data"
    },
    {
     "name": "stdout",
     "output_type": "stream",
     "text": [
      "✅ Downloaded: /glade/work/milesep/era5_cds/era5_sfc_2015_06.nc\n",
      "2015 7 24\n"
     ]
    },
    {
     "name": "stderr",
     "output_type": "stream",
     "text": [
      "2025-08-17 11:00:19,858 WARNING [2025-08-17T17:00:19.790158] You are using a deprecated API endpoint. If you are using cdsapi, please upgrade to the latest version.\n",
      "2025-08-17 11:00:19,859 INFO Request ID is cf8d33bb-0b7b-4658-b1b5-33c97cfc5067\n",
      "2025-08-17 11:00:20,100 INFO status has been updated to accepted\n",
      "2025-08-17 11:00:27,678 INFO status has been updated to running\n",
      "2025-08-17 11:04:39,042 INFO status has been updated to successful\n"
     ]
    },
    {
     "data": {
      "application/vnd.jupyter.widget-view+json": {
       "model_id": "",
       "version_major": 2,
       "version_minor": 0
      },
      "text/plain": [
       "8d0b3ebad4b84417ffa342944972e47f.nc:   0%|          | 0.00/159M [00:00<?, ?B/s]"
      ]
     },
     "metadata": {},
     "output_type": "display_data"
    },
    {
     "name": "stdout",
     "output_type": "stream",
     "text": [
      "✅ Downloaded: /glade/work/milesep/era5_cds/era5_pl_2015_07.nc\n"
     ]
    },
    {
     "name": "stderr",
     "output_type": "stream",
     "text": [
      "2025-08-17 11:04:51,665 WARNING [2025-08-17T17:04:51.597603] You are using a deprecated API endpoint. If you are using cdsapi, please upgrade to the latest version.\n",
      "2025-08-17 11:04:51,666 INFO Request ID is 547fdd91-5800-4b45-bd52-82dff1153e95\n",
      "2025-08-17 11:04:51,828 INFO status has been updated to accepted\n",
      "2025-08-17 11:05:04,682 INFO status has been updated to running\n",
      "2025-08-17 11:05:12,436 INFO status has been updated to accepted\n",
      "2025-08-17 11:05:23,987 INFO status has been updated to running\n",
      "2025-08-17 11:05:41,224 INFO status has been updated to successful\n"
     ]
    },
    {
     "data": {
      "application/vnd.jupyter.widget-view+json": {
       "model_id": "",
       "version_major": 2,
       "version_minor": 0
      },
      "text/plain": [
       "1ed98bdb596afe0705124e5ab1a81604.zip:   0%|          | 0.00/18.4M [00:00<?, ?B/s]"
      ]
     },
     "metadata": {},
     "output_type": "display_data"
    },
    {
     "name": "stdout",
     "output_type": "stream",
     "text": [
      "✅ Downloaded: /glade/work/milesep/era5_cds/era5_sfc_2015_07.nc\n",
      "2015 8 16\n"
     ]
    },
    {
     "name": "stderr",
     "output_type": "stream",
     "text": [
      "2025-08-17 11:05:45,093 WARNING [2025-08-17T17:05:45.025963] You are using a deprecated API endpoint. If you are using cdsapi, please upgrade to the latest version.\n",
      "2025-08-17 11:05:45,093 INFO Request ID is 187a0796-5eb9-4ae9-bb4f-81878a456ee7\n",
      "2025-08-17 11:05:45,265 INFO status has been updated to accepted\n",
      "2025-08-17 11:05:52,952 INFO status has been updated to running\n",
      "2025-08-17 11:08:37,409 INFO status has been updated to successful\n"
     ]
    },
    {
     "data": {
      "application/vnd.jupyter.widget-view+json": {
       "model_id": "",
       "version_major": 2,
       "version_minor": 0
      },
      "text/plain": [
       "56593e3184a1e25fddd8b78d546daddc.nc:   0%|          | 0.00/104M [00:00<?, ?B/s]"
      ]
     },
     "metadata": {},
     "output_type": "display_data"
    },
    {
     "name": "stdout",
     "output_type": "stream",
     "text": [
      "✅ Downloaded: /glade/work/milesep/era5_cds/era5_pl_2015_08.nc\n"
     ]
    },
    {
     "name": "stderr",
     "output_type": "stream",
     "text": [
      "2025-08-17 11:09:02,557 WARNING [2025-08-17T17:09:02.484576] You are using a deprecated API endpoint. If you are using cdsapi, please upgrade to the latest version.\n",
      "2025-08-17 11:09:02,557 INFO Request ID is 01f075d1-f99e-4def-a1c6-0a03b3bb95fd\n",
      "2025-08-17 11:09:02,710 INFO status has been updated to accepted\n",
      "2025-08-17 11:09:15,726 INFO status has been updated to running\n",
      "2025-08-17 11:09:35,035 INFO status has been updated to successful\n"
     ]
    },
    {
     "data": {
      "application/vnd.jupyter.widget-view+json": {
       "model_id": "",
       "version_major": 2,
       "version_minor": 0
      },
      "text/plain": [
       "85c62652a79af7009c2a068c4f595a3d.zip:   0%|          | 0.00/12.3M [00:00<?, ?B/s]"
      ]
     },
     "metadata": {},
     "output_type": "display_data"
    },
    {
     "name": "stdout",
     "output_type": "stream",
     "text": [
      "✅ Downloaded: /glade/work/milesep/era5_cds/era5_sfc_2015_08.nc\n",
      "2015 9 5\n"
     ]
    },
    {
     "name": "stderr",
     "output_type": "stream",
     "text": [
      "2025-08-17 11:09:47,809 WARNING [2025-08-17T17:09:47.738009] You are using a deprecated API endpoint. If you are using cdsapi, please upgrade to the latest version.\n",
      "2025-08-17 11:09:47,810 INFO Request ID is fe822e78-9fcd-4ab3-9d92-0f83d851b74a\n",
      "2025-08-17 11:09:47,982 INFO status has been updated to accepted\n",
      "2025-08-17 11:10:00,988 INFO status has been updated to running\n",
      "2025-08-17 11:10:37,537 INFO status has been updated to accepted\n",
      "2025-08-17 11:11:03,329 INFO status has been updated to successful\n"
     ]
    },
    {
     "data": {
      "application/vnd.jupyter.widget-view+json": {
       "model_id": "",
       "version_major": 2,
       "version_minor": 0
      },
      "text/plain": [
       "484b04ab07230928e4738b239753ae6c.nc:   0%|          | 0.00/30.0M [00:00<?, ?B/s]"
      ]
     },
     "metadata": {},
     "output_type": "display_data"
    },
    {
     "name": "stdout",
     "output_type": "stream",
     "text": [
      "✅ Downloaded: /glade/work/milesep/era5_cds/era5_pl_2015_09.nc\n"
     ]
    },
    {
     "name": "stderr",
     "output_type": "stream",
     "text": [
      "2025-08-17 11:11:08,292 WARNING [2025-08-17T17:11:08.220806] You are using a deprecated API endpoint. If you are using cdsapi, please upgrade to the latest version.\n",
      "2025-08-17 11:11:08,293 INFO Request ID is c1c261b6-51b8-4da1-a0b0-415efa298017\n",
      "2025-08-17 11:11:08,573 INFO status has been updated to accepted\n",
      "2025-08-17 11:11:21,448 INFO status has been updated to running\n",
      "2025-08-17 11:11:29,192 INFO status has been updated to successful\n"
     ]
    },
    {
     "data": {
      "application/vnd.jupyter.widget-view+json": {
       "model_id": "",
       "version_major": 2,
       "version_minor": 0
      },
      "text/plain": [
       "af62577fb788c0da52421e5b9ff7208e.zip:   0%|          | 0.00/3.87M [00:00<?, ?B/s]"
      ]
     },
     "metadata": {},
     "output_type": "display_data"
    },
    {
     "name": "stdout",
     "output_type": "stream",
     "text": [
      "✅ Downloaded: /glade/work/milesep/era5_cds/era5_sfc_2015_09.nc\n",
      "2015 10 7\n"
     ]
    },
    {
     "name": "stderr",
     "output_type": "stream",
     "text": [
      "2025-08-17 11:11:32,072 WARNING [2025-08-17T17:11:32.000413] You are using a deprecated API endpoint. If you are using cdsapi, please upgrade to the latest version.\n",
      "2025-08-17 11:11:32,073 INFO Request ID is 583159fa-0267-4f61-8146-5ae6596c77e2\n",
      "2025-08-17 11:11:32,226 INFO status has been updated to accepted\n",
      "2025-08-17 11:11:39,813 INFO status has been updated to running\n",
      "2025-08-17 11:12:47,577 INFO status has been updated to successful\n"
     ]
    },
    {
     "data": {
      "application/vnd.jupyter.widget-view+json": {
       "model_id": "",
       "version_major": 2,
       "version_minor": 0
      },
      "text/plain": [
       "3c81198498b0885ffbaac58cada37f19.nc:   0%|          | 0.00/42.1M [00:00<?, ?B/s]"
      ]
     },
     "metadata": {},
     "output_type": "display_data"
    },
    {
     "name": "stdout",
     "output_type": "stream",
     "text": [
      "✅ Downloaded: /glade/work/milesep/era5_cds/era5_pl_2015_10.nc\n"
     ]
    },
    {
     "name": "stderr",
     "output_type": "stream",
     "text": [
      "2025-08-17 11:12:55,749 WARNING [2025-08-17T17:12:55.677945] You are using a deprecated API endpoint. If you are using cdsapi, please upgrade to the latest version.\n",
      "2025-08-17 11:12:55,750 INFO Request ID is 97eba6d3-a210-4824-b50b-8e440954fcf8\n",
      "2025-08-17 11:12:55,917 INFO status has been updated to accepted\n",
      "2025-08-17 11:13:03,521 INFO status has been updated to running\n",
      "2025-08-17 11:13:16,496 INFO status has been updated to successful\n"
     ]
    },
    {
     "data": {
      "application/vnd.jupyter.widget-view+json": {
       "model_id": "",
       "version_major": 2,
       "version_minor": 0
      },
      "text/plain": [
       "dae34d93bcb1974fbbe5c1ce495358a4.zip:   0%|          | 0.00/5.34M [00:00<?, ?B/s]"
      ]
     },
     "metadata": {},
     "output_type": "display_data"
    },
    {
     "name": "stdout",
     "output_type": "stream",
     "text": [
      "✅ Downloaded: /glade/work/milesep/era5_cds/era5_sfc_2015_10.nc\n",
      "2015 11 5\n"
     ]
    },
    {
     "name": "stderr",
     "output_type": "stream",
     "text": [
      "2025-08-17 11:13:26,080 WARNING [2025-08-17T17:13:26.009044] You are using a deprecated API endpoint. If you are using cdsapi, please upgrade to the latest version.\n",
      "2025-08-17 11:13:26,080 INFO Request ID is d718b9d0-5a77-452a-9450-24ee3969a847\n",
      "2025-08-17 11:13:26,228 INFO status has been updated to accepted\n",
      "2025-08-17 11:13:39,055 INFO status has been updated to running\n",
      "2025-08-17 11:14:41,461 INFO status has been updated to successful\n"
     ]
    },
    {
     "data": {
      "application/vnd.jupyter.widget-view+json": {
       "model_id": "",
       "version_major": 2,
       "version_minor": 0
      },
      "text/plain": [
       "6a17cfa149acdaeda7f6dc8a799bd66e.nc:   0%|          | 0.00/30.8M [00:00<?, ?B/s]"
      ]
     },
     "metadata": {},
     "output_type": "display_data"
    },
    {
     "name": "stdout",
     "output_type": "stream",
     "text": [
      "✅ Downloaded: /glade/work/milesep/era5_cds/era5_pl_2015_11.nc\n"
     ]
    },
    {
     "name": "stderr",
     "output_type": "stream",
     "text": [
      "2025-08-17 11:14:49,280 WARNING [2025-08-17T17:14:49.206357] You are using a deprecated API endpoint. If you are using cdsapi, please upgrade to the latest version.\n",
      "2025-08-17 11:14:49,281 INFO Request ID is e4a9860c-558b-4239-8adb-a673fb5a5ff7\n",
      "2025-08-17 11:14:49,456 INFO status has been updated to accepted\n",
      "2025-08-17 11:15:02,418 INFO status has been updated to running\n",
      "2025-08-17 11:15:10,181 INFO status has been updated to successful\n"
     ]
    },
    {
     "data": {
      "application/vnd.jupyter.widget-view+json": {
       "model_id": "",
       "version_major": 2,
       "version_minor": 0
      },
      "text/plain": [
       "e51d6a4ecd25cb0384fd0642c5b1d4a2.zip:   0%|          | 0.00/3.84M [00:00<?, ?B/s]"
      ]
     },
     "metadata": {},
     "output_type": "display_data"
    },
    {
     "name": "stdout",
     "output_type": "stream",
     "text": [
      "✅ Downloaded: /glade/work/milesep/era5_cds/era5_sfc_2015_11.nc\n",
      "2015 12 7\n"
     ]
    },
    {
     "name": "stderr",
     "output_type": "stream",
     "text": [
      "2025-08-17 11:15:12,918 WARNING [2025-08-17T17:15:12.846769] You are using a deprecated API endpoint. If you are using cdsapi, please upgrade to the latest version.\n",
      "2025-08-17 11:15:12,919 INFO Request ID is 3f84ccfa-e951-4da3-9d9b-7951a8ab76e8\n",
      "2025-08-17 11:15:13,118 INFO status has been updated to accepted\n",
      "2025-08-17 11:15:20,851 INFO status has been updated to running\n",
      "2025-08-17 11:16:28,433 INFO status has been updated to successful\n"
     ]
    },
    {
     "data": {
      "application/vnd.jupyter.widget-view+json": {
       "model_id": "",
       "version_major": 2,
       "version_minor": 0
      },
      "text/plain": [
       "921118ef7c9bdc08bbc04aa8f9ab6272.nc:   0%|          | 0.00/42.8M [00:00<?, ?B/s]"
      ]
     },
     "metadata": {},
     "output_type": "display_data"
    },
    {
     "name": "stdout",
     "output_type": "stream",
     "text": [
      "✅ Downloaded: /glade/work/milesep/era5_cds/era5_pl_2015_12.nc\n"
     ]
    },
    {
     "name": "stderr",
     "output_type": "stream",
     "text": [
      "2025-08-17 11:16:35,505 WARNING [2025-08-17T17:16:35.429411] You are using a deprecated API endpoint. If you are using cdsapi, please upgrade to the latest version.\n",
      "2025-08-17 11:16:35,505 INFO Request ID is 2e5152b5-95a0-4d17-bd2d-4d087011d306\n",
      "2025-08-17 11:16:35,680 INFO status has been updated to accepted\n",
      "2025-08-17 11:16:43,315 INFO status has been updated to running\n",
      "2025-08-17 11:17:08,201 INFO status has been updated to successful\n"
     ]
    },
    {
     "data": {
      "application/vnd.jupyter.widget-view+json": {
       "model_id": "",
       "version_major": 2,
       "version_minor": 0
      },
      "text/plain": [
       "3477172c4c7d7f894b1384cdc018b6f1.zip:   0%|          | 0.00/5.32M [00:00<?, ?B/s]"
      ]
     },
     "metadata": {},
     "output_type": "display_data"
    },
    {
     "name": "stdout",
     "output_type": "stream",
     "text": [
      "✅ Downloaded: /glade/work/milesep/era5_cds/era5_sfc_2015_12.nc\n",
      "2016 1 5\n"
     ]
    },
    {
     "name": "stderr",
     "output_type": "stream",
     "text": [
      "2025-08-17 11:17:11,145 WARNING [2025-08-17T17:17:11.075187] You are using a deprecated API endpoint. If you are using cdsapi, please upgrade to the latest version.\n",
      "2025-08-17 11:17:11,146 INFO Request ID is 3b74dbbb-2ab7-4a6f-bd7b-02cd5b8d448b\n",
      "2025-08-17 11:17:11,299 INFO status has been updated to accepted\n",
      "2025-08-17 11:17:18,931 INFO status has been updated to running\n",
      "2025-08-17 11:18:00,719 INFO status has been updated to successful\n"
     ]
    },
    {
     "data": {
      "application/vnd.jupyter.widget-view+json": {
       "model_id": "",
       "version_major": 2,
       "version_minor": 0
      },
      "text/plain": [
       "3d9cc299cee4312bed956c5b4932d6b3.nc:   0%|          | 0.00/30.3M [00:00<?, ?B/s]"
      ]
     },
     "metadata": {},
     "output_type": "display_data"
    },
    {
     "name": "stdout",
     "output_type": "stream",
     "text": [
      "✅ Downloaded: /glade/work/milesep/era5_cds/era5_pl_2016_01.nc\n"
     ]
    },
    {
     "name": "stderr",
     "output_type": "stream",
     "text": [
      "2025-08-17 11:19:18,339 WARNING [2025-08-17T17:19:18.270062] You are using a deprecated API endpoint. If you are using cdsapi, please upgrade to the latest version.\n",
      "2025-08-17 11:19:18,340 INFO Request ID is 0ff51153-b5c8-49b3-ab69-b61401d86bb0\n",
      "2025-08-17 11:19:18,507 INFO status has been updated to accepted\n",
      "2025-08-17 11:19:26,216 INFO status has been updated to running\n",
      "2025-08-17 11:19:39,208 INFO status has been updated to successful\n"
     ]
    },
    {
     "data": {
      "application/vnd.jupyter.widget-view+json": {
       "model_id": "",
       "version_major": 2,
       "version_minor": 0
      },
      "text/plain": [
       "573e12511cbee9616fae7c103a17ca33.zip:   0%|          | 0.00/3.86M [00:00<?, ?B/s]"
      ]
     },
     "metadata": {},
     "output_type": "display_data"
    },
    {
     "name": "stdout",
     "output_type": "stream",
     "text": [
      "✅ Downloaded: /glade/work/milesep/era5_cds/era5_sfc_2016_01.nc\n",
      "2016 2 6\n"
     ]
    },
    {
     "name": "stderr",
     "output_type": "stream",
     "text": [
      "2025-08-17 11:19:42,050 WARNING [2025-08-17T17:19:41.979919] You are using a deprecated API endpoint. If you are using cdsapi, please upgrade to the latest version.\n",
      "2025-08-17 11:19:42,050 INFO Request ID is dd98d6f5-b947-4a49-9a35-ca01019abd27\n",
      "2025-08-17 11:19:42,197 INFO status has been updated to accepted\n",
      "2025-08-17 11:19:49,781 INFO status has been updated to running\n",
      "2025-08-17 11:20:57,366 INFO status has been updated to successful\n"
     ]
    },
    {
     "data": {
      "application/vnd.jupyter.widget-view+json": {
       "model_id": "",
       "version_major": 2,
       "version_minor": 0
      },
      "text/plain": [
       "a0c6497a84a527a24205466bc97e975.nc:   0%|          | 0.00/36.3M [00:00<?, ?B/s]"
      ]
     },
     "metadata": {},
     "output_type": "display_data"
    },
    {
     "name": "stdout",
     "output_type": "stream",
     "text": [
      "✅ Downloaded: /glade/work/milesep/era5_cds/era5_pl_2016_02.nc\n"
     ]
    },
    {
     "name": "stderr",
     "output_type": "stream",
     "text": [
      "2025-08-17 11:21:02,389 WARNING [2025-08-17T17:21:02.321865] You are using a deprecated API endpoint. If you are using cdsapi, please upgrade to the latest version.\n",
      "2025-08-17 11:21:02,389 INFO Request ID is fd3bbcd4-5bfb-4f70-a74f-707bfb4293bf\n",
      "2025-08-17 11:21:02,550 INFO status has been updated to accepted\n",
      "2025-08-17 11:21:10,143 INFO status has been updated to running\n",
      "2025-08-17 11:21:23,263 INFO status has been updated to successful\n"
     ]
    },
    {
     "data": {
      "application/vnd.jupyter.widget-view+json": {
       "model_id": "",
       "version_major": 2,
       "version_minor": 0
      },
      "text/plain": [
       "1d4d3fc78ba4dee609ca7515ead98c75.zip:   0%|          | 0.00/4.63M [00:00<?, ?B/s]"
      ]
     },
     "metadata": {},
     "output_type": "display_data"
    },
    {
     "name": "stdout",
     "output_type": "stream",
     "text": [
      "✅ Downloaded: /glade/work/milesep/era5_cds/era5_sfc_2016_02.nc\n",
      "2016 3 14\n"
     ]
    },
    {
     "name": "stderr",
     "output_type": "stream",
     "text": [
      "2025-08-17 11:21:27,683 WARNING [2025-08-17T17:21:27.614620] You are using a deprecated API endpoint. If you are using cdsapi, please upgrade to the latest version.\n",
      "2025-08-17 11:21:27,684 INFO Request ID is d39a4d7c-cd74-4cae-ab8c-e0b52599001f\n",
      "2025-08-17 11:21:27,840 INFO status has been updated to accepted\n",
      "2025-08-17 11:21:35,435 INFO status has been updated to running\n",
      "2025-08-17 11:24:20,030 INFO status has been updated to successful\n"
     ]
    },
    {
     "data": {
      "application/vnd.jupyter.widget-view+json": {
       "model_id": "",
       "version_major": 2,
       "version_minor": 0
      },
      "text/plain": [
       "4938625720d4388e1f7a9402db16d34d.nc:   0%|          | 0.00/86.5M [00:00<?, ?B/s]"
      ]
     },
     "metadata": {},
     "output_type": "display_data"
    },
    {
     "name": "stdout",
     "output_type": "stream",
     "text": [
      "✅ Downloaded: /glade/work/milesep/era5_cds/era5_pl_2016_03.nc\n"
     ]
    },
    {
     "name": "stderr",
     "output_type": "stream",
     "text": [
      "2025-08-17 11:28:50,289 WARNING [2025-08-17T17:28:50.222476] You are using a deprecated API endpoint. If you are using cdsapi, please upgrade to the latest version.\n",
      "2025-08-17 11:28:50,290 INFO Request ID is efd5e713-7df7-4547-84f9-f29e9774a4a4\n",
      "2025-08-17 11:28:50,455 INFO status has been updated to accepted\n",
      "2025-08-17 11:28:58,078 INFO status has been updated to running\n",
      "2025-08-17 11:29:22,605 INFO status has been updated to successful\n"
     ]
    },
    {
     "data": {
      "application/vnd.jupyter.widget-view+json": {
       "model_id": "",
       "version_major": 2,
       "version_minor": 0
      },
      "text/plain": [
       "67e5a693bafa83097dce35746f903b5e.zip:   0%|          | 0.00/10.7M [00:00<?, ?B/s]"
      ]
     },
     "metadata": {},
     "output_type": "display_data"
    },
    {
     "name": "stdout",
     "output_type": "stream",
     "text": [
      "✅ Downloaded: /glade/work/milesep/era5_cds/era5_sfc_2016_03.nc\n",
      "2016 4 16\n"
     ]
    },
    {
     "name": "stderr",
     "output_type": "stream",
     "text": [
      "2025-08-17 11:29:26,070 WARNING [2025-08-17T17:29:26.003376] You are using a deprecated API endpoint. If you are using cdsapi, please upgrade to the latest version.\n",
      "2025-08-17 11:29:26,071 INFO Request ID is 1e4e88e3-72fc-4527-8d57-3590c8c51cc4\n",
      "2025-08-17 11:29:26,266 INFO status has been updated to accepted\n",
      "2025-08-17 11:29:34,039 INFO status has been updated to running\n",
      "2025-08-17 11:32:18,380 INFO status has been updated to successful\n"
     ]
    },
    {
     "data": {
      "application/vnd.jupyter.widget-view+json": {
       "model_id": "",
       "version_major": 2,
       "version_minor": 0
      },
      "text/plain": [
       "5512d3b8165f58edcb4b9fbad8da87ca.nc:   0%|          | 0.00/108M [00:00<?, ?B/s]"
      ]
     },
     "metadata": {},
     "output_type": "display_data"
    },
    {
     "name": "stdout",
     "output_type": "stream",
     "text": [
      "✅ Downloaded: /glade/work/milesep/era5_cds/era5_pl_2016_04.nc\n"
     ]
    },
    {
     "name": "stderr",
     "output_type": "stream",
     "text": [
      "2025-08-17 11:40:03,848 WARNING [2025-08-17T17:40:03.774936] You are using a deprecated API endpoint. If you are using cdsapi, please upgrade to the latest version.\n",
      "2025-08-17 11:40:03,849 INFO Request ID is 3d0f9e4b-b9bc-44c0-b3ec-a7a511217d9a\n",
      "2025-08-17 11:40:04,015 INFO status has been updated to accepted\n",
      "2025-08-17 11:40:11,839 INFO status has been updated to running\n",
      "2025-08-17 11:40:36,521 INFO status has been updated to successful\n"
     ]
    },
    {
     "data": {
      "application/vnd.jupyter.widget-view+json": {
       "model_id": "",
       "version_major": 2,
       "version_minor": 0
      },
      "text/plain": [
       "11764be025e6a8bd20136800e92166fc.zip:   0%|          | 0.00/12.4M [00:00<?, ?B/s]"
      ]
     },
     "metadata": {},
     "output_type": "display_data"
    },
    {
     "name": "stdout",
     "output_type": "stream",
     "text": [
      "✅ Downloaded: /glade/work/milesep/era5_cds/era5_sfc_2016_04.nc\n",
      "2016 5 25\n"
     ]
    },
    {
     "name": "stderr",
     "output_type": "stream",
     "text": [
      "2025-08-17 11:40:40,176 WARNING [2025-08-17T17:40:40.103081] You are using a deprecated API endpoint. If you are using cdsapi, please upgrade to the latest version.\n",
      "2025-08-17 11:40:40,177 INFO Request ID is d38921ce-8468-4707-9e03-df27fdb03652\n",
      "2025-08-17 11:40:40,431 INFO status has been updated to accepted\n",
      "2025-08-17 11:41:12,565 INFO status has been updated to running\n",
      "2025-08-17 11:45:00,432 INFO status has been updated to successful\n"
     ]
    },
    {
     "data": {
      "application/vnd.jupyter.widget-view+json": {
       "model_id": "",
       "version_major": 2,
       "version_minor": 0
      },
      "text/plain": [
       "911af7e19172cb500c542de1c3e511e7.nc:   0%|          | 0.00/167M [00:00<?, ?B/s]"
      ]
     },
     "metadata": {},
     "output_type": "display_data"
    },
    {
     "name": "stdout",
     "output_type": "stream",
     "text": [
      "✅ Downloaded: /glade/work/milesep/era5_cds/era5_pl_2016_05.nc\n"
     ]
    },
    {
     "name": "stderr",
     "output_type": "stream",
     "text": [
      "2025-08-17 11:45:56,722 WARNING [2025-08-17T17:45:56.651784] You are using a deprecated API endpoint. If you are using cdsapi, please upgrade to the latest version.\n",
      "2025-08-17 11:45:56,723 INFO Request ID is eee7a0ce-9d73-4cf6-b0c2-8571824f95bb\n",
      "2025-08-17 11:45:56,892 INFO status has been updated to accepted\n",
      "2025-08-17 11:46:10,122 INFO status has been updated to running\n",
      "2025-08-17 11:46:46,671 INFO status has been updated to successful\n"
     ]
    },
    {
     "data": {
      "application/vnd.jupyter.widget-view+json": {
       "model_id": "",
       "version_major": 2,
       "version_minor": 0
      },
      "text/plain": [
       "3cdec5fa42e82c37716623664e69625c.zip:   0%|          | 0.00/19.3M [00:00<?, ?B/s]"
      ]
     },
     "metadata": {},
     "output_type": "display_data"
    },
    {
     "name": "stdout",
     "output_type": "stream",
     "text": [
      "✅ Downloaded: /glade/work/milesep/era5_cds/era5_sfc_2016_05.nc\n",
      "2016 6 27\n"
     ]
    },
    {
     "name": "stderr",
     "output_type": "stream",
     "text": [
      "2025-08-17 11:47:15,775 WARNING [2025-08-17T17:47:15.704125] You are using a deprecated API endpoint. If you are using cdsapi, please upgrade to the latest version.\n",
      "2025-08-17 11:47:15,776 INFO Request ID is 57839f42-038a-4649-846b-386dd950aac2\n",
      "2025-08-17 11:47:15,935 INFO status has been updated to accepted\n",
      "2025-08-17 11:47:36,586 INFO status has been updated to running\n",
      "2025-08-17 11:51:34,965 INFO status has been updated to successful\n"
     ]
    },
    {
     "data": {
      "application/vnd.jupyter.widget-view+json": {
       "model_id": "",
       "version_major": 2,
       "version_minor": 0
      },
      "text/plain": [
       "7ca31c202c655fb1761471b78a409a5.nc:   0%|          | 0.00/179M [00:00<?, ?B/s]"
      ]
     },
     "metadata": {},
     "output_type": "display_data"
    },
    {
     "name": "stdout",
     "output_type": "stream",
     "text": [
      "✅ Downloaded: /glade/work/milesep/era5_cds/era5_pl_2016_06.nc\n"
     ]
    },
    {
     "name": "stderr",
     "output_type": "stream",
     "text": [
      "2025-08-17 11:56:26,305 WARNING [2025-08-17T17:56:26.237858] You are using a deprecated API endpoint. If you are using cdsapi, please upgrade to the latest version.\n",
      "2025-08-17 11:56:26,306 INFO Request ID is 41013ca3-f779-481a-99cd-3b7a97a4b2e6\n",
      "2025-08-17 11:56:26,483 INFO status has been updated to accepted\n",
      "2025-08-17 11:56:34,115 INFO status has been updated to running\n",
      "2025-08-17 11:56:39,328 INFO status has been updated to accepted\n",
      "2025-08-17 11:56:58,619 INFO status has been updated to running\n",
      "2025-08-17 11:57:16,000 INFO status has been updated to successful\n"
     ]
    },
    {
     "data": {
      "application/vnd.jupyter.widget-view+json": {
       "model_id": "",
       "version_major": 2,
       "version_minor": 0
      },
      "text/plain": [
       "19fc674a16452f1f4fbd7c652384e4ed.zip:   0%|          | 0.00/20.8M [00:00<?, ?B/s]"
      ]
     },
     "metadata": {},
     "output_type": "display_data"
    },
    {
     "name": "stdout",
     "output_type": "stream",
     "text": [
      "✅ Downloaded: /glade/work/milesep/era5_cds/era5_sfc_2016_06.nc\n",
      "2016 7 27\n"
     ]
    },
    {
     "name": "stderr",
     "output_type": "stream",
     "text": [
      "2025-08-17 11:57:20,277 WARNING [2025-08-17T17:57:20.209508] You are using a deprecated API endpoint. If you are using cdsapi, please upgrade to the latest version.\n",
      "2025-08-17 11:57:20,278 INFO Request ID is 1e20e16a-dd18-42f7-8b45-7c0e3c4ff092\n",
      "2025-08-17 11:57:20,431 INFO status has been updated to accepted\n",
      "2025-08-17 11:57:28,417 INFO status has been updated to running\n",
      "2025-08-17 11:57:33,928 INFO status has been updated to accepted\n",
      "2025-08-17 11:57:41,798 INFO status has been updated to running\n",
      "2025-08-17 12:01:40,272 INFO status has been updated to successful\n"
     ]
    },
    {
     "data": {
      "application/vnd.jupyter.widget-view+json": {
       "model_id": "",
       "version_major": 2,
       "version_minor": 0
      },
      "text/plain": [
       "fdf73b5bfb03b022b25e45d0f5c317d1.nc:   0%|          | 0.00/179M [00:00<?, ?B/s]"
      ]
     },
     "metadata": {},
     "output_type": "display_data"
    },
    {
     "name": "stdout",
     "output_type": "stream",
     "text": [
      "✅ Downloaded: /glade/work/milesep/era5_cds/era5_pl_2016_07.nc\n"
     ]
    },
    {
     "name": "stderr",
     "output_type": "stream",
     "text": [
      "2025-08-17 12:02:26,553 WARNING [2025-08-17T18:02:26.485076] You are using a deprecated API endpoint. If you are using cdsapi, please upgrade to the latest version.\n",
      "2025-08-17 12:02:26,553 INFO Request ID is 090549a7-2377-4c64-b123-3a5928f03f2f\n",
      "2025-08-17 12:02:26,698 INFO status has been updated to accepted\n",
      "2025-08-17 12:02:34,359 INFO status has been updated to running\n",
      "2025-08-17 12:02:39,595 INFO status has been updated to accepted\n",
      "2025-08-17 12:02:58,929 INFO status has been updated to running\n",
      "2025-08-17 12:03:16,197 INFO status has been updated to successful\n"
     ]
    },
    {
     "data": {
      "application/vnd.jupyter.widget-view+json": {
       "model_id": "",
       "version_major": 2,
       "version_minor": 0
      },
      "text/plain": [
       "ea28c60de95cbbcf0435e04403b8babe.zip:   0%|          | 0.00/20.7M [00:00<?, ?B/s]"
      ]
     },
     "metadata": {},
     "output_type": "display_data"
    },
    {
     "name": "stdout",
     "output_type": "stream",
     "text": [
      "✅ Downloaded: /glade/work/milesep/era5_cds/era5_sfc_2016_07.nc\n",
      "2016 8 15\n"
     ]
    },
    {
     "name": "stderr",
     "output_type": "stream",
     "text": [
      "2025-08-17 12:03:21,402 WARNING [2025-08-17T18:03:21.334236] You are using a deprecated API endpoint. If you are using cdsapi, please upgrade to the latest version.\n",
      "2025-08-17 12:03:21,403 INFO Request ID is db4a76f2-6a85-4a7c-b0ae-37621b7bd4fd\n",
      "2025-08-17 12:03:21,563 INFO status has been updated to accepted\n",
      "2025-08-17 12:03:29,244 INFO status has been updated to running\n",
      "2025-08-17 12:06:13,683 INFO status has been updated to successful\n"
     ]
    },
    {
     "data": {
      "application/vnd.jupyter.widget-view+json": {
       "model_id": "",
       "version_major": 2,
       "version_minor": 0
      },
      "text/plain": [
       "f7bc3f299f02c0bac73697823cfcde79.nc:   0%|          | 0.00/99.5M [00:00<?, ?B/s]"
      ]
     },
     "metadata": {},
     "output_type": "display_data"
    },
    {
     "name": "stdout",
     "output_type": "stream",
     "text": [
      "✅ Downloaded: /glade/work/milesep/era5_cds/era5_pl_2016_08.nc\n"
     ]
    },
    {
     "name": "stderr",
     "output_type": "stream",
     "text": [
      "2025-08-17 12:06:35,452 WARNING [2025-08-17T18:06:35.384049] You are using a deprecated API endpoint. If you are using cdsapi, please upgrade to the latest version.\n",
      "2025-08-17 12:06:35,453 INFO Request ID is 533a4699-aae2-4e95-8aeb-15c3e5c0c2f0\n",
      "2025-08-17 12:06:35,599 INFO status has been updated to accepted\n",
      "2025-08-17 12:06:48,473 INFO status has been updated to running\n",
      "2025-08-17 12:07:25,011 INFO status has been updated to successful\n"
     ]
    },
    {
     "data": {
      "application/vnd.jupyter.widget-view+json": {
       "model_id": "",
       "version_major": 2,
       "version_minor": 0
      },
      "text/plain": [
       "45ff4a793cd4cef0065c9ef83d9ac84e.zip:   0%|          | 0.00/11.5M [00:00<?, ?B/s]"
      ]
     },
     "metadata": {},
     "output_type": "display_data"
    },
    {
     "name": "stdout",
     "output_type": "stream",
     "text": [
      "✅ Downloaded: /glade/work/milesep/era5_cds/era5_sfc_2016_08.nc\n",
      "2016 9 14\n"
     ]
    },
    {
     "name": "stderr",
     "output_type": "stream",
     "text": [
      "2025-08-17 12:07:28,207 WARNING [2025-08-17T18:07:28.139407] You are using a deprecated API endpoint. If you are using cdsapi, please upgrade to the latest version.\n",
      "2025-08-17 12:07:28,208 INFO Request ID is b4f723ba-f151-4a12-bf22-415d847682bf\n",
      "2025-08-17 12:07:28,374 INFO status has been updated to accepted\n",
      "2025-08-17 12:07:35,998 INFO status has been updated to running\n",
      "2025-08-17 12:09:22,235 INFO status has been updated to successful\n"
     ]
    },
    {
     "data": {
      "application/vnd.jupyter.widget-view+json": {
       "model_id": "",
       "version_major": 2,
       "version_minor": 0
      },
      "text/plain": [
       "c072ef65285f35a7d94e8b4ad0e3d11b.nc:   0%|          | 0.00/86.4M [00:00<?, ?B/s]"
      ]
     },
     "metadata": {},
     "output_type": "display_data"
    },
    {
     "name": "stdout",
     "output_type": "stream",
     "text": [
      "✅ Downloaded: /glade/work/milesep/era5_cds/era5_pl_2016_09.nc\n"
     ]
    },
    {
     "name": "stderr",
     "output_type": "stream",
     "text": [
      "2025-08-17 12:09:30,473 WARNING [2025-08-17T18:09:30.403508] You are using a deprecated API endpoint. If you are using cdsapi, please upgrade to the latest version.\n",
      "2025-08-17 12:09:30,474 INFO Request ID is 191aca14-aa07-4453-a41a-b027262ec428\n",
      "2025-08-17 12:09:30,635 INFO status has been updated to accepted\n",
      "2025-08-17 12:09:38,266 INFO status has been updated to running\n",
      "2025-08-17 12:09:51,253 INFO status has been updated to successful\n"
     ]
    },
    {
     "data": {
      "application/vnd.jupyter.widget-view+json": {
       "model_id": "",
       "version_major": 2,
       "version_minor": 0
      },
      "text/plain": [
       "c3a6eb9368d09c115c1fe71d799e5e77.zip:   0%|          | 0.00/10.7M [00:00<?, ?B/s]"
      ]
     },
     "metadata": {},
     "output_type": "display_data"
    },
    {
     "name": "stderr",
     "output_type": "stream",
     "text": [
      "2025-08-17 12:09:55,085 WARNING [2025-08-17T18:09:55.017565] You are using a deprecated API endpoint. If you are using cdsapi, please upgrade to the latest version.\n",
      "2025-08-17 12:09:55,086 INFO Request ID is 205eac38-3c22-43b4-9366-c20dcd9fe767\n"
     ]
    },
    {
     "name": "stdout",
     "output_type": "stream",
     "text": [
      "✅ Downloaded: /glade/work/milesep/era5_cds/era5_sfc_2016_09.nc\n",
      "2016 10 5\n"
     ]
    },
    {
     "name": "stderr",
     "output_type": "stream",
     "text": [
      "2025-08-17 12:09:55,258 INFO status has been updated to accepted\n",
      "2025-08-17 12:10:08,050 INFO status has been updated to running\n",
      "2025-08-17 12:11:10,404 INFO status has been updated to successful\n"
     ]
    },
    {
     "data": {
      "application/vnd.jupyter.widget-view+json": {
       "model_id": "",
       "version_major": 2,
       "version_minor": 0
      },
      "text/plain": [
       "535cb1d299e773a1abdc537e0b38ad78.nc:   0%|          | 0.00/30.1M [00:00<?, ?B/s]"
      ]
     },
     "metadata": {},
     "output_type": "display_data"
    },
    {
     "name": "stdout",
     "output_type": "stream",
     "text": [
      "✅ Downloaded: /glade/work/milesep/era5_cds/era5_pl_2016_10.nc\n"
     ]
    },
    {
     "name": "stderr",
     "output_type": "stream",
     "text": [
      "2025-08-17 12:12:38,456 WARNING [2025-08-17T18:12:38.387950] You are using a deprecated API endpoint. If you are using cdsapi, please upgrade to the latest version.\n",
      "2025-08-17 12:12:38,457 INFO Request ID is 70660a0a-3202-45d8-b817-073f53ead437\n",
      "2025-08-17 12:12:38,623 INFO status has been updated to accepted\n",
      "2025-08-17 12:12:46,511 INFO status has been updated to running\n",
      "2025-08-17 12:12:59,497 INFO status has been updated to successful\n"
     ]
    },
    {
     "name": "stdout",
     "output_type": "stream",
     "text": [
      "⚠️ Attempt 1 failed for /glade/work/milesep/era5_cds/era5_sfc_2016_10.nc: Result not ready, job is running\n",
      "Retrying in 30s...\n"
     ]
    },
    {
     "name": "stderr",
     "output_type": "stream",
     "text": [
      "2025-08-17 12:13:30,082 WARNING [2025-08-17T18:13:30.013383] You are using a deprecated API endpoint. If you are using cdsapi, please upgrade to the latest version.\n",
      "2025-08-17 12:13:30,083 INFO Request ID is befdb32f-0796-4d9d-89bb-afde22048173\n",
      "2025-08-17 12:13:30,253 INFO status has been updated to accepted\n",
      "2025-08-17 12:13:43,083 INFO status has been updated to successful\n"
     ]
    },
    {
     "data": {
      "application/vnd.jupyter.widget-view+json": {
       "model_id": "",
       "version_major": 2,
       "version_minor": 0
      },
      "text/plain": [
       "f83d51df3edc05728a8fb500b7cab4d0.zip:   0%|          | 0.00/3.87M [00:00<?, ?B/s]"
      ]
     },
     "metadata": {},
     "output_type": "display_data"
    },
    {
     "name": "stdout",
     "output_type": "stream",
     "text": [
      "✅ Downloaded: /glade/work/milesep/era5_cds/era5_sfc_2016_10.nc\n",
      "2016 11 4\n"
     ]
    },
    {
     "name": "stderr",
     "output_type": "stream",
     "text": [
      "2025-08-17 12:13:45,852 WARNING [2025-08-17T18:13:45.782185] You are using a deprecated API endpoint. If you are using cdsapi, please upgrade to the latest version.\n",
      "2025-08-17 12:13:45,853 INFO Request ID is 98670241-806f-431a-9013-54236585b689\n",
      "2025-08-17 12:13:46,020 INFO status has been updated to accepted\n",
      "2025-08-17 12:13:53,669 INFO status has been updated to running\n",
      "2025-08-17 12:14:35,447 INFO status has been updated to successful\n"
     ]
    },
    {
     "data": {
      "application/vnd.jupyter.widget-view+json": {
       "model_id": "",
       "version_major": 2,
       "version_minor": 0
      },
      "text/plain": [
       "6b91a612795e35c765fef3718b88c87b.nc:   0%|          | 0.00/24.6M [00:00<?, ?B/s]"
      ]
     },
     "metadata": {},
     "output_type": "display_data"
    },
    {
     "name": "stdout",
     "output_type": "stream",
     "text": [
      "✅ Downloaded: /glade/work/milesep/era5_cds/era5_pl_2016_11.nc\n"
     ]
    },
    {
     "name": "stderr",
     "output_type": "stream",
     "text": [
      "2025-08-17 12:14:40,561 WARNING [2025-08-17T18:14:40.493041] You are using a deprecated API endpoint. If you are using cdsapi, please upgrade to the latest version.\n",
      "2025-08-17 12:14:40,562 INFO Request ID is 82c20541-2570-4f34-8a05-7373fc7207a3\n",
      "2025-08-17 12:14:40,725 INFO status has been updated to accepted\n",
      "2025-08-17 12:14:48,359 INFO status has been updated to running\n",
      "2025-08-17 12:14:53,681 INFO status has been updated to successful\n"
     ]
    },
    {
     "data": {
      "application/vnd.jupyter.widget-view+json": {
       "model_id": "",
       "version_major": 2,
       "version_minor": 0
      },
      "text/plain": [
       "84137f3ef5013977232b5a599804cc76.zip:   0%|          | 0.00/3.05M [00:00<?, ?B/s]"
      ]
     },
     "metadata": {},
     "output_type": "display_data"
    },
    {
     "name": "stdout",
     "output_type": "stream",
     "text": [
      "✅ Downloaded: /glade/work/milesep/era5_cds/era5_sfc_2016_11.nc\n",
      "2016 12 4\n"
     ]
    },
    {
     "name": "stderr",
     "output_type": "stream",
     "text": [
      "2025-08-17 12:14:56,305 WARNING [2025-08-17T18:14:56.237121] You are using a deprecated API endpoint. If you are using cdsapi, please upgrade to the latest version.\n",
      "2025-08-17 12:14:56,306 INFO Request ID is 250e5ea9-3200-4f36-8a4a-4ce6849a9de6\n",
      "2025-08-17 12:14:56,455 INFO status has been updated to accepted\n",
      "2025-08-17 12:15:09,417 INFO status has been updated to running\n",
      "2025-08-17 12:15:46,108 INFO status has been updated to successful\n"
     ]
    },
    {
     "data": {
      "application/vnd.jupyter.widget-view+json": {
       "model_id": "",
       "version_major": 2,
       "version_minor": 0
      },
      "text/plain": [
       "7fcdbe7fe8d557938c7d8d57659e0c8f.nc:   0%|          | 0.00/24.3M [00:00<?, ?B/s]"
      ]
     },
     "metadata": {},
     "output_type": "display_data"
    },
    {
     "name": "stdout",
     "output_type": "stream",
     "text": [
      "✅ Downloaded: /glade/work/milesep/era5_cds/era5_pl_2016_12.nc\n"
     ]
    },
    {
     "name": "stderr",
     "output_type": "stream",
     "text": [
      "2025-08-17 12:15:52,615 WARNING [2025-08-17T18:15:52.545670] You are using a deprecated API endpoint. If you are using cdsapi, please upgrade to the latest version.\n",
      "2025-08-17 12:15:52,616 INFO Request ID is 00d75bfc-10ee-40dc-a50d-1fd94861a852\n",
      "2025-08-17 12:15:52,782 INFO status has been updated to accepted\n",
      "2025-08-17 12:16:05,604 INFO status has been updated to running\n",
      "2025-08-17 12:16:13,376 INFO status has been updated to successful\n"
     ]
    },
    {
     "data": {
      "application/vnd.jupyter.widget-view+json": {
       "model_id": "",
       "version_major": 2,
       "version_minor": 0
      },
      "text/plain": [
       "df1c00ce2870f57736a41d1210d6f7e4.zip:   0%|          | 0.00/3.07M [00:00<?, ?B/s]"
      ]
     },
     "metadata": {},
     "output_type": "display_data"
    },
    {
     "name": "stdout",
     "output_type": "stream",
     "text": [
      "✅ Downloaded: /glade/work/milesep/era5_cds/era5_sfc_2016_12.nc\n",
      "2017 1 6\n"
     ]
    },
    {
     "name": "stderr",
     "output_type": "stream",
     "text": [
      "2025-08-17 12:16:16,119 WARNING [2025-08-17T18:16:16.050347] You are using a deprecated API endpoint. If you are using cdsapi, please upgrade to the latest version.\n",
      "2025-08-17 12:16:16,119 INFO Request ID is b10e86fd-5f19-474a-bec7-e39c6a7b7437\n",
      "2025-08-17 12:16:16,288 INFO status has been updated to accepted\n",
      "2025-08-17 12:16:23,889 INFO status has been updated to running\n",
      "2025-08-17 12:17:31,500 INFO status has been updated to successful\n"
     ]
    },
    {
     "data": {
      "application/vnd.jupyter.widget-view+json": {
       "model_id": "",
       "version_major": 2,
       "version_minor": 0
      },
      "text/plain": [
       "83b45e4c2ee72d7380bd8e4e08aa72cc.nc:   0%|          | 0.00/36.8M [00:00<?, ?B/s]"
      ]
     },
     "metadata": {},
     "output_type": "display_data"
    },
    {
     "name": "stdout",
     "output_type": "stream",
     "text": [
      "✅ Downloaded: /glade/work/milesep/era5_cds/era5_pl_2017_01.nc\n"
     ]
    },
    {
     "name": "stderr",
     "output_type": "stream",
     "text": [
      "2025-08-17 12:17:47,270 WARNING [2025-08-17T18:17:47.199637] You are using a deprecated API endpoint. If you are using cdsapi, please upgrade to the latest version.\n",
      "2025-08-17 12:17:47,270 INFO Request ID is 293ae27f-31d8-401e-9b71-691db5cf4703\n",
      "2025-08-17 12:17:47,420 INFO status has been updated to accepted\n",
      "2025-08-17 12:17:55,081 INFO status has been updated to running\n",
      "2025-08-17 12:18:08,038 INFO status has been updated to successful\n"
     ]
    },
    {
     "data": {
      "application/vnd.jupyter.widget-view+json": {
       "model_id": "",
       "version_major": 2,
       "version_minor": 0
      },
      "text/plain": [
       "3525812367d0b0ffdc18c527759a7f33.zip:   0%|          | 0.00/4.58M [00:00<?, ?B/s]"
      ]
     },
     "metadata": {},
     "output_type": "display_data"
    },
    {
     "name": "stdout",
     "output_type": "stream",
     "text": [
      "✅ Downloaded: /glade/work/milesep/era5_cds/era5_sfc_2017_01.nc\n",
      "2017 2 8\n"
     ]
    },
    {
     "name": "stderr",
     "output_type": "stream",
     "text": [
      "2025-08-17 12:18:10,888 WARNING [2025-08-17T18:18:10.817627] You are using a deprecated API endpoint. If you are using cdsapi, please upgrade to the latest version.\n",
      "2025-08-17 12:18:10,889 INFO Request ID is 37859fb2-4453-49b2-bc4f-9f6705755f08\n",
      "2025-08-17 12:18:11,065 INFO status has been updated to accepted\n",
      "2025-08-17 12:18:18,653 INFO status has been updated to running\n",
      "2025-08-17 12:20:04,869 INFO status has been updated to successful\n"
     ]
    },
    {
     "data": {
      "application/vnd.jupyter.widget-view+json": {
       "model_id": "",
       "version_major": 2,
       "version_minor": 0
      },
      "text/plain": [
       "744c5361a04c427b672433fc8d72a137.nc:   0%|          | 0.00/48.6M [00:00<?, ?B/s]"
      ]
     },
     "metadata": {},
     "output_type": "display_data"
    },
    {
     "name": "stdout",
     "output_type": "stream",
     "text": [
      "✅ Downloaded: /glade/work/milesep/era5_cds/era5_pl_2017_02.nc\n"
     ]
    },
    {
     "name": "stderr",
     "output_type": "stream",
     "text": [
      "2025-08-17 12:20:11,461 WARNING [2025-08-17T18:20:11.393816] You are using a deprecated API endpoint. If you are using cdsapi, please upgrade to the latest version.\n",
      "2025-08-17 12:20:11,462 INFO Request ID is b263323d-418a-4a7f-a9d4-ee84e6edd670\n",
      "2025-08-17 12:20:11,612 INFO status has been updated to accepted\n",
      "2025-08-17 12:20:19,220 INFO status has been updated to running\n",
      "2025-08-17 12:21:00,997 INFO status has been updated to successful\n"
     ]
    },
    {
     "data": {
      "application/vnd.jupyter.widget-view+json": {
       "model_id": "",
       "version_major": 2,
       "version_minor": 0
      },
      "text/plain": [
       "8a9e51cc359f0310badea3c302d1580c.zip:   0%|          | 0.00/6.08M [00:00<?, ?B/s]"
      ]
     },
     "metadata": {},
     "output_type": "display_data"
    },
    {
     "name": "stdout",
     "output_type": "stream",
     "text": [
      "✅ Downloaded: /glade/work/milesep/era5_cds/era5_sfc_2017_02.nc\n",
      "2017 3 14\n"
     ]
    },
    {
     "name": "stderr",
     "output_type": "stream",
     "text": [
      "2025-08-17 12:21:16,100 WARNING [2025-08-17T18:21:16.031372] You are using a deprecated API endpoint. If you are using cdsapi, please upgrade to the latest version.\n",
      "2025-08-17 12:21:16,100 INFO Request ID is ab6fe4b4-3ea7-4144-a0de-e33908196f1f\n",
      "2025-08-17 12:21:16,249 INFO status has been updated to accepted\n",
      "2025-08-17 12:21:23,890 INFO status has been updated to running\n",
      "2025-08-17 12:23:10,103 INFO status has been updated to successful\n"
     ]
    },
    {
     "data": {
      "application/vnd.jupyter.widget-view+json": {
       "model_id": "",
       "version_major": 2,
       "version_minor": 0
      },
      "text/plain": [
       "7a3383a4f69de61a24c60086d6c9a935.nc:   0%|          | 0.00/87.4M [00:00<?, ?B/s]"
      ]
     },
     "metadata": {},
     "output_type": "display_data"
    },
    {
     "name": "stdout",
     "output_type": "stream",
     "text": [
      "✅ Downloaded: /glade/work/milesep/era5_cds/era5_pl_2017_03.nc\n"
     ]
    },
    {
     "name": "stderr",
     "output_type": "stream",
     "text": [
      "2025-08-17 12:26:00,643 WARNING [2025-08-17T18:26:00.573121] You are using a deprecated API endpoint. If you are using cdsapi, please upgrade to the latest version.\n",
      "2025-08-17 12:26:00,644 INFO Request ID is bcfe55d5-04c7-4af2-96bb-f7c567f916c0\n",
      "2025-08-17 12:26:00,818 INFO status has been updated to accepted\n",
      "2025-08-17 12:26:08,464 INFO status has been updated to running\n",
      "2025-08-17 12:26:33,032 INFO status has been updated to successful\n"
     ]
    },
    {
     "data": {
      "application/vnd.jupyter.widget-view+json": {
       "model_id": "",
       "version_major": 2,
       "version_minor": 0
      },
      "text/plain": [
       "687a8f81b9afef2319ebfd55a047cd2e.zip:   0%|          | 0.00/10.8M [00:00<?, ?B/s]"
      ]
     },
     "metadata": {},
     "output_type": "display_data"
    },
    {
     "name": "stdout",
     "output_type": "stream",
     "text": [
      "✅ Downloaded: /glade/work/milesep/era5_cds/era5_sfc_2017_03.nc\n",
      "2017 4 21\n"
     ]
    },
    {
     "name": "stderr",
     "output_type": "stream",
     "text": [
      "2025-08-17 12:26:36,602 WARNING [2025-08-17T18:26:36.530897] You are using a deprecated API endpoint. If you are using cdsapi, please upgrade to the latest version.\n",
      "2025-08-17 12:26:36,602 INFO Request ID is f746dce8-ea84-41d8-b11c-55611bde6772\n",
      "2025-08-17 12:26:36,759 INFO status has been updated to accepted\n",
      "2025-08-17 12:26:44,394 INFO status has been updated to running\n",
      "2025-08-17 12:30:55,977 INFO status has been updated to successful\n"
     ]
    },
    {
     "data": {
      "application/vnd.jupyter.widget-view+json": {
       "model_id": "",
       "version_major": 2,
       "version_minor": 0
      },
      "text/plain": [
       "76202eb749d5c2ef788a053e4cd81d1f.nc:   0%|          | 0.00/139M [00:00<?, ?B/s]"
      ]
     },
     "metadata": {},
     "output_type": "display_data"
    },
    {
     "name": "stdout",
     "output_type": "stream",
     "text": [
      "✅ Downloaded: /glade/work/milesep/era5_cds/era5_pl_2017_04.nc\n"
     ]
    },
    {
     "name": "stderr",
     "output_type": "stream",
     "text": [
      "2025-08-17 12:31:50,094 WARNING [2025-08-17T18:31:50.006229] You are using a deprecated API endpoint. If you are using cdsapi, please upgrade to the latest version.\n",
      "2025-08-17 12:31:50,095 INFO Request ID is ca5d9c7f-76ee-4e89-bf74-625b9b35bb21\n",
      "2025-08-17 12:31:50,263 INFO status has been updated to accepted\n",
      "2025-08-17 12:31:58,082 INFO status has been updated to running\n",
      "2025-08-17 12:32:39,875 INFO status has been updated to successful\n"
     ]
    },
    {
     "data": {
      "application/vnd.jupyter.widget-view+json": {
       "model_id": "",
       "version_major": 2,
       "version_minor": 0
      },
      "text/plain": [
       "33eb2e0ba9418ac153e897f035d1ff0e.zip:   0%|          | 0.00/16.2M [00:00<?, ?B/s]"
      ]
     },
     "metadata": {},
     "output_type": "display_data"
    },
    {
     "name": "stdout",
     "output_type": "stream",
     "text": [
      "✅ Downloaded: /glade/work/milesep/era5_cds/era5_sfc_2017_04.nc\n",
      "2017 5 24\n"
     ]
    },
    {
     "name": "stderr",
     "output_type": "stream",
     "text": [
      "2025-08-17 12:32:44,115 WARNING [2025-08-17T18:32:44.043001] You are using a deprecated API endpoint. If you are using cdsapi, please upgrade to the latest version.\n",
      "2025-08-17 12:32:44,115 INFO Request ID is 9f8c005b-2419-4d5f-818c-ce014d6507fb\n",
      "2025-08-17 12:32:44,276 INFO status has been updated to accepted\n",
      "2025-08-17 12:32:57,134 INFO status has been updated to running\n",
      "2025-08-17 12:37:03,306 INFO status has been updated to successful\n"
     ]
    },
    {
     "data": {
      "application/vnd.jupyter.widget-view+json": {
       "model_id": "",
       "version_major": 2,
       "version_minor": 0
      },
      "text/plain": [
       "6503df7788f7f9cf5946fa94fb541ba1.nc:   0%|          | 0.00/161M [00:00<?, ?B/s]"
      ]
     },
     "metadata": {},
     "output_type": "display_data"
    },
    {
     "name": "stdout",
     "output_type": "stream",
     "text": [
      "✅ Downloaded: /glade/work/milesep/era5_cds/era5_pl_2017_05.nc\n"
     ]
    },
    {
     "name": "stderr",
     "output_type": "stream",
     "text": [
      "2025-08-17 12:37:19,210 WARNING [2025-08-17T18:37:19.137118] You are using a deprecated API endpoint. If you are using cdsapi, please upgrade to the latest version.\n",
      "2025-08-17 12:37:19,211 INFO Request ID is 92de42b5-f3c9-4cd7-a235-780da3a8eb12\n",
      "2025-08-17 12:37:19,384 INFO status has been updated to accepted\n",
      "2025-08-17 12:37:27,048 INFO status has been updated to running\n",
      "2025-08-17 12:38:08,802 INFO status has been updated to successful\n"
     ]
    },
    {
     "data": {
      "application/vnd.jupyter.widget-view+json": {
       "model_id": "",
       "version_major": 2,
       "version_minor": 0
      },
      "text/plain": [
       "90ccab3ef2ef139a99733dd4dc61cd57.zip:   0%|          | 0.00/18.5M [00:00<?, ?B/s]"
      ]
     },
     "metadata": {},
     "output_type": "display_data"
    },
    {
     "name": "stdout",
     "output_type": "stream",
     "text": [
      "✅ Downloaded: /glade/work/milesep/era5_cds/era5_sfc_2017_05.nc\n",
      "2017 6 23\n"
     ]
    },
    {
     "name": "stderr",
     "output_type": "stream",
     "text": [
      "2025-08-17 12:38:13,012 WARNING [2025-08-17T18:38:12.935200] You are using a deprecated API endpoint. If you are using cdsapi, please upgrade to the latest version.\n",
      "2025-08-17 12:38:13,013 INFO Request ID is 368ad767-fc16-449f-9482-57bfde39fca0\n",
      "2025-08-17 12:38:13,181 INFO status has been updated to accepted\n",
      "2025-08-17 12:38:45,500 INFO status has been updated to running\n",
      "2025-08-17 12:42:32,270 INFO status has been updated to successful\n"
     ]
    },
    {
     "data": {
      "application/vnd.jupyter.widget-view+json": {
       "model_id": "",
       "version_major": 2,
       "version_minor": 0
      },
      "text/plain": [
       "6132700fa9b1e6b5f7ef400ecde081dc.nc:   0%|          | 0.00/153M [00:00<?, ?B/s]"
      ]
     },
     "metadata": {},
     "output_type": "display_data"
    },
    {
     "name": "stdout",
     "output_type": "stream",
     "text": [
      "✅ Downloaded: /glade/work/milesep/era5_cds/era5_pl_2017_06.nc\n"
     ]
    },
    {
     "name": "stderr",
     "output_type": "stream",
     "text": [
      "2025-08-17 12:44:31,304 WARNING [2025-08-17T18:44:31.233619] You are using a deprecated API endpoint. If you are using cdsapi, please upgrade to the latest version.\n",
      "2025-08-17 12:44:31,304 INFO Request ID is 2a04f2ee-6941-4c11-aa29-0c18afb859af\n",
      "2025-08-17 12:44:31,490 INFO status has been updated to accepted\n",
      "2025-08-17 12:44:39,117 INFO status has been updated to running\n",
      "2025-08-17 12:45:46,737 INFO status has been updated to successful\n"
     ]
    },
    {
     "data": {
      "application/vnd.jupyter.widget-view+json": {
       "model_id": "",
       "version_major": 2,
       "version_minor": 0
      },
      "text/plain": [
       "a6b0afd40ce3c4b6476dc863c9f4bb07.zip:   0%|          | 0.00/17.7M [00:00<?, ?B/s]"
      ]
     },
     "metadata": {},
     "output_type": "display_data"
    },
    {
     "name": "stdout",
     "output_type": "stream",
     "text": [
      "✅ Downloaded: /glade/work/milesep/era5_cds/era5_sfc_2017_06.nc\n",
      "2017 7 23\n"
     ]
    },
    {
     "name": "stderr",
     "output_type": "stream",
     "text": [
      "2025-08-17 12:45:50,758 WARNING [2025-08-17T18:45:50.685989] You are using a deprecated API endpoint. If you are using cdsapi, please upgrade to the latest version.\n",
      "2025-08-17 12:45:50,759 INFO Request ID is 39c7afef-577a-4af2-ab63-ebc2d5962a47\n",
      "2025-08-17 12:45:50,926 INFO status has been updated to accepted\n",
      "2025-08-17 12:46:23,352 INFO status has been updated to running\n",
      "2025-08-17 12:50:10,112 INFO status has been updated to successful\n"
     ]
    },
    {
     "data": {
      "application/vnd.jupyter.widget-view+json": {
       "model_id": "",
       "version_major": 2,
       "version_minor": 0
      },
      "text/plain": [
       "31560490baf3448fb1c7ba2bc6106bbb.nc:   0%|          | 0.00/154M [00:00<?, ?B/s]"
      ]
     },
     "metadata": {},
     "output_type": "display_data"
    },
    {
     "name": "stdout",
     "output_type": "stream",
     "text": [
      "✅ Downloaded: /glade/work/milesep/era5_cds/era5_pl_2017_07.nc\n"
     ]
    },
    {
     "name": "stderr",
     "output_type": "stream",
     "text": [
      "2025-08-17 12:56:44,305 WARNING [2025-08-17T18:56:44.234611] You are using a deprecated API endpoint. If you are using cdsapi, please upgrade to the latest version.\n",
      "2025-08-17 12:56:44,306 INFO Request ID is d0d0f0b5-1697-4cec-babf-189c427955d8\n",
      "2025-08-17 12:56:44,522 INFO status has been updated to accepted\n",
      "2025-08-17 12:56:57,717 INFO status has been updated to running\n",
      "2025-08-17 12:57:17,212 INFO status has been updated to successful\n"
     ]
    },
    {
     "data": {
      "application/vnd.jupyter.widget-view+json": {
       "model_id": "",
       "version_major": 2,
       "version_minor": 0
      },
      "text/plain": [
       "e1295fb5dc240e55b2e83844085316d9.zip:   0%|          | 0.00/17.7M [00:00<?, ?B/s]"
      ]
     },
     "metadata": {},
     "output_type": "display_data"
    },
    {
     "name": "stdout",
     "output_type": "stream",
     "text": [
      "✅ Downloaded: /glade/work/milesep/era5_cds/era5_sfc_2017_07.nc\n",
      "2017 8 23\n"
     ]
    },
    {
     "name": "stderr",
     "output_type": "stream",
     "text": [
      "2025-08-17 12:57:21,352 WARNING [2025-08-17T18:57:21.283024] You are using a deprecated API endpoint. If you are using cdsapi, please upgrade to the latest version.\n",
      "2025-08-17 12:57:21,353 INFO Request ID is f434cdfb-f04a-4831-8cdf-3b511d297f21\n",
      "2025-08-17 12:57:21,522 INFO status has been updated to accepted\n",
      "2025-08-17 12:57:29,138 INFO status has been updated to running\n",
      "2025-08-17 13:00:13,587 INFO status has been updated to successful\n"
     ]
    },
    {
     "data": {
      "application/vnd.jupyter.widget-view+json": {
       "model_id": "",
       "version_major": 2,
       "version_minor": 0
      },
      "text/plain": [
       "9d2a2d2ea4791e258ef5aac7c0b3645e.nc:   0%|          | 0.00/150M [00:00<?, ?B/s]"
      ]
     },
     "metadata": {},
     "output_type": "display_data"
    },
    {
     "name": "stdout",
     "output_type": "stream",
     "text": [
      "✅ Downloaded: /glade/work/milesep/era5_cds/era5_pl_2017_08.nc\n"
     ]
    },
    {
     "name": "stderr",
     "output_type": "stream",
     "text": [
      "2025-08-17 13:00:34,459 WARNING [2025-08-17T19:00:34.388356] You are using a deprecated API endpoint. If you are using cdsapi, please upgrade to the latest version.\n",
      "2025-08-17 13:00:34,460 INFO Request ID is e41abc2b-6155-4162-bdfc-4cb4ceb261c0\n",
      "2025-08-17 13:00:34,631 INFO status has been updated to accepted\n",
      "2025-08-17 13:00:42,280 INFO status has been updated to running\n",
      "2025-08-17 13:01:24,271 INFO status has been updated to successful\n"
     ]
    },
    {
     "data": {
      "application/vnd.jupyter.widget-view+json": {
       "model_id": "",
       "version_major": 2,
       "version_minor": 0
      },
      "text/plain": [
       "f85a83a5113f035171522e3e5551161d.zip:   0%|          | 0.00/17.6M [00:00<?, ?B/s]"
      ]
     },
     "metadata": {},
     "output_type": "display_data"
    },
    {
     "name": "stdout",
     "output_type": "stream",
     "text": [
      "✅ Downloaded: /glade/work/milesep/era5_cds/era5_sfc_2017_08.nc\n",
      "2017 9 12\n"
     ]
    },
    {
     "name": "stderr",
     "output_type": "stream",
     "text": [
      "2025-08-17 13:01:30,214 WARNING [2025-08-17T19:01:30.142419] You are using a deprecated API endpoint. If you are using cdsapi, please upgrade to the latest version.\n",
      "2025-08-17 13:01:30,214 INFO Request ID is f3e990b7-fd06-4d8d-b086-384655db212c\n",
      "2025-08-17 13:01:30,408 INFO status has been updated to accepted\n",
      "2025-08-17 13:01:43,297 INFO status has been updated to running\n",
      "2025-08-17 13:03:24,314 INFO status has been updated to successful\n"
     ]
    },
    {
     "data": {
      "application/vnd.jupyter.widget-view+json": {
       "model_id": "",
       "version_major": 2,
       "version_minor": 0
      },
      "text/plain": [
       "da5e17360f204c8da6cfdb961960775d.nc:   0%|          | 0.00/74.1M [00:00<?, ?B/s]"
      ]
     },
     "metadata": {},
     "output_type": "display_data"
    },
    {
     "name": "stderr",
     "output_type": "stream",
     "text": [
      "Recovering from connection error [('Connection aborted.', RemoteDisconnected('Remote end closed connection without response'))], attemps 1 of 500\n",
      "Retrying in 120 seconds\n"
     ]
    },
    {
     "name": "stdout",
     "output_type": "stream",
     "text": [
      "✅ Downloaded: /glade/work/milesep/era5_cds/era5_pl_2017_09.nc\n"
     ]
    },
    {
     "name": "stderr",
     "output_type": "stream",
     "text": [
      "2025-08-17 13:06:15,421 WARNING [2025-08-17T19:06:15.349299] You are using a deprecated API endpoint. If you are using cdsapi, please upgrade to the latest version.\n",
      "2025-08-17 13:06:15,422 INFO Request ID is a65edd05-898b-4970-9dc8-633a78caf400\n",
      "2025-08-17 13:06:15,674 INFO status has been updated to accepted\n",
      "2025-08-17 13:06:23,306 INFO status has been updated to running\n",
      "2025-08-17 13:06:36,438 INFO status has been updated to successful\n"
     ]
    },
    {
     "data": {
      "application/vnd.jupyter.widget-view+json": {
       "model_id": "",
       "version_major": 2,
       "version_minor": 0
      },
      "text/plain": [
       "8766e05fdc136a0cebcef3a4ee643e0c.zip:   0%|          | 0.00/9.21M [00:00<?, ?B/s]"
      ]
     },
     "metadata": {},
     "output_type": "display_data"
    },
    {
     "name": "stdout",
     "output_type": "stream",
     "text": [
      "✅ Downloaded: /glade/work/milesep/era5_cds/era5_sfc_2017_09.nc\n",
      "2017 10 9\n"
     ]
    },
    {
     "name": "stderr",
     "output_type": "stream",
     "text": [
      "2025-08-17 13:06:39,924 WARNING [2025-08-17T19:06:39.852381] You are using a deprecated API endpoint. If you are using cdsapi, please upgrade to the latest version.\n",
      "2025-08-17 13:06:39,925 INFO Request ID is cfb712d2-8294-4237-b507-a1962193d104\n",
      "2025-08-17 13:06:40,079 INFO status has been updated to accepted\n",
      "2025-08-17 13:06:47,688 INFO status has been updated to running\n",
      "Recovering from connection error [('Connection aborted.', RemoteDisconnected('Remote end closed connection without response'))], attemps 1 of 500\n",
      "Retrying in 120 seconds\n",
      "2025-08-17 13:10:02,766 INFO status has been updated to successful\n"
     ]
    },
    {
     "data": {
      "application/vnd.jupyter.widget-view+json": {
       "model_id": "",
       "version_major": 2,
       "version_minor": 0
      },
      "text/plain": [
       "572907fd68e41f50999013b3e41fdaba.nc:   0%|          | 0.00/56.3M [00:00<?, ?B/s]"
      ]
     },
     "metadata": {},
     "output_type": "display_data"
    },
    {
     "name": "stdout",
     "output_type": "stream",
     "text": [
      "✅ Downloaded: /glade/work/milesep/era5_cds/era5_pl_2017_10.nc\n"
     ]
    },
    {
     "name": "stderr",
     "output_type": "stream",
     "text": [
      "2025-08-17 13:10:13,182 WARNING [2025-08-17T19:10:13.108136] You are using a deprecated API endpoint. If you are using cdsapi, please upgrade to the latest version.\n",
      "2025-08-17 13:10:13,183 INFO Request ID is 2a8b49c3-4f76-4b6f-b423-d264760fbae1\n",
      "2025-08-17 13:10:13,361 INFO status has been updated to accepted\n",
      "2025-08-17 13:10:26,206 INFO status has been updated to running\n",
      "2025-08-17 13:10:33,953 INFO status has been updated to successful\n"
     ]
    },
    {
     "data": {
      "application/vnd.jupyter.widget-view+json": {
       "model_id": "",
       "version_major": 2,
       "version_minor": 0
      },
      "text/plain": [
       "fb1ac45228df79f1deb8c42f7eeb7503.zip:   0%|          | 0.00/6.87M [00:00<?, ?B/s]"
      ]
     },
     "metadata": {},
     "output_type": "display_data"
    },
    {
     "name": "stdout",
     "output_type": "stream",
     "text": [
      "✅ Downloaded: /glade/work/milesep/era5_cds/era5_sfc_2017_10.nc\n",
      "2017 11 2\n"
     ]
    },
    {
     "name": "stderr",
     "output_type": "stream",
     "text": [
      "2025-08-17 13:10:37,250 WARNING [2025-08-17T19:10:37.177217] You are using a deprecated API endpoint. If you are using cdsapi, please upgrade to the latest version.\n",
      "2025-08-17 13:10:37,251 INFO Request ID is 468e37f6-137e-4935-858a-6d0b08d24552\n",
      "2025-08-17 13:10:37,401 INFO status has been updated to accepted\n",
      "2025-08-17 13:10:45,033 INFO status has been updated to running\n",
      "2025-08-17 13:11:09,693 INFO status has been updated to successful\n"
     ]
    },
    {
     "data": {
      "application/vnd.jupyter.widget-view+json": {
       "model_id": "",
       "version_major": 2,
       "version_minor": 0
      },
      "text/plain": [
       "ca60532e41373f83789801008310d0a0.nc:   0%|          | 0.00/12.2M [00:00<?, ?B/s]"
      ]
     },
     "metadata": {},
     "output_type": "display_data"
    },
    {
     "name": "stdout",
     "output_type": "stream",
     "text": [
      "✅ Downloaded: /glade/work/milesep/era5_cds/era5_pl_2017_11.nc\n"
     ]
    },
    {
     "name": "stderr",
     "output_type": "stream",
     "text": [
      "2025-08-17 13:11:13,270 WARNING [2025-08-17T19:11:13.195059] You are using a deprecated API endpoint. If you are using cdsapi, please upgrade to the latest version.\n",
      "2025-08-17 13:11:13,271 INFO Request ID is 5e5650e5-6df1-44e2-98ee-2e96ae4d7346\n",
      "2025-08-17 13:11:13,428 INFO status has been updated to accepted\n",
      "2025-08-17 13:11:21,412 INFO status has been updated to running\n",
      "2025-08-17 13:11:34,422 INFO status has been updated to successful\n"
     ]
    },
    {
     "data": {
      "application/vnd.jupyter.widget-view+json": {
       "model_id": "",
       "version_major": 2,
       "version_minor": 0
      },
      "text/plain": [
       "826a70ed5a0e7f44a8dbb69fafdb465.zip:   0%|          | 0.00/1.60M [00:00<?, ?B/s]"
      ]
     },
     "metadata": {},
     "output_type": "display_data"
    },
    {
     "name": "stdout",
     "output_type": "stream",
     "text": [
      "✅ Downloaded: /glade/work/milesep/era5_cds/era5_sfc_2017_11.nc\n",
      "2017 12 1\n"
     ]
    },
    {
     "name": "stderr",
     "output_type": "stream",
     "text": [
      "2025-08-17 13:11:36,992 WARNING [2025-08-17T19:11:36.917255] You are using a deprecated API endpoint. If you are using cdsapi, please upgrade to the latest version.\n",
      "2025-08-17 13:11:36,992 INFO Request ID is cbe60399-f553-41e2-a303-e68d0cde2039\n",
      "2025-08-17 13:11:37,145 INFO status has been updated to accepted\n",
      "2025-08-17 13:11:44,753 INFO status has been updated to running\n",
      "2025-08-17 13:12:26,519 INFO status has been updated to successful\n"
     ]
    },
    {
     "data": {
      "application/vnd.jupyter.widget-view+json": {
       "model_id": "",
       "version_major": 2,
       "version_minor": 0
      },
      "text/plain": [
       "28d33b03504e36966bf954c66408fb89.nc:   0%|          | 0.00/6.21M [00:00<?, ?B/s]"
      ]
     },
     "metadata": {},
     "output_type": "display_data"
    },
    {
     "name": "stdout",
     "output_type": "stream",
     "text": [
      "✅ Downloaded: /glade/work/milesep/era5_cds/era5_pl_2017_12.nc\n"
     ]
    },
    {
     "name": "stderr",
     "output_type": "stream",
     "text": [
      "2025-08-17 13:12:43,733 WARNING [2025-08-17T19:12:43.656660] You are using a deprecated API endpoint. If you are using cdsapi, please upgrade to the latest version.\n",
      "2025-08-17 13:12:43,733 INFO Request ID is 1fda4988-8afc-4761-ba4d-6864c243fbdb\n",
      "2025-08-17 13:12:43,902 INFO status has been updated to accepted\n",
      "2025-08-17 13:12:51,522 INFO status has been updated to running\n",
      "2025-08-17 13:12:56,759 INFO status has been updated to accepted\n",
      "2025-08-17 13:13:16,056 INFO status has been updated to successful\n"
     ]
    },
    {
     "data": {
      "application/vnd.jupyter.widget-view+json": {
       "model_id": "",
       "version_major": 2,
       "version_minor": 0
      },
      "text/plain": [
       "139bb5a9b3a7ac841a20d3d62c9045e7.zip:   0%|          | 0.00/854k [00:00<?, ?B/s]"
      ]
     },
     "metadata": {},
     "output_type": "display_data"
    },
    {
     "name": "stdout",
     "output_type": "stream",
     "text": [
      "✅ Downloaded: /glade/work/milesep/era5_cds/era5_sfc_2017_12.nc\n",
      "2018 1 1\n"
     ]
    },
    {
     "name": "stderr",
     "output_type": "stream",
     "text": [
      "2025-08-17 13:13:18,583 WARNING [2025-08-17T19:13:18.507535] You are using a deprecated API endpoint. If you are using cdsapi, please upgrade to the latest version.\n",
      "2025-08-17 13:13:18,584 INFO Request ID is 64da313b-c847-41f9-b406-11c8502abac5\n",
      "2025-08-17 13:13:18,763 INFO status has been updated to accepted\n",
      "2025-08-17 13:13:26,358 INFO status has been updated to running\n",
      "2025-08-17 13:13:39,340 INFO status has been updated to successful\n"
     ]
    },
    {
     "data": {
      "application/vnd.jupyter.widget-view+json": {
       "model_id": "",
       "version_major": 2,
       "version_minor": 0
      },
      "text/plain": [
       "bde8522e8126e7bc3ab3c26523363f23.nc:   0%|          | 0.00/6.13M [00:00<?, ?B/s]"
      ]
     },
     "metadata": {},
     "output_type": "display_data"
    },
    {
     "name": "stdout",
     "output_type": "stream",
     "text": [
      "✅ Downloaded: /glade/work/milesep/era5_cds/era5_pl_2018_01.nc\n"
     ]
    },
    {
     "name": "stderr",
     "output_type": "stream",
     "text": [
      "2025-08-17 13:13:42,564 WARNING [2025-08-17T19:13:42.490906] You are using a deprecated API endpoint. If you are using cdsapi, please upgrade to the latest version.\n",
      "2025-08-17 13:13:42,564 INFO Request ID is d3434d89-bd2b-4b6d-b9ed-f2440045d5b4\n",
      "2025-08-17 13:13:42,723 INFO status has been updated to accepted\n",
      "2025-08-17 13:13:55,596 INFO status has been updated to running\n",
      "2025-08-17 13:14:03,376 INFO status has been updated to successful\n"
     ]
    },
    {
     "data": {
      "application/vnd.jupyter.widget-view+json": {
       "model_id": "",
       "version_major": 2,
       "version_minor": 0
      },
      "text/plain": [
       "94d2d4d689b2cf247e6a7bea7d71bdff.zip:   0%|          | 0.00/851k [00:00<?, ?B/s]"
      ]
     },
     "metadata": {},
     "output_type": "display_data"
    },
    {
     "name": "stdout",
     "output_type": "stream",
     "text": [
      "✅ Downloaded: /glade/work/milesep/era5_cds/era5_sfc_2018_01.nc\n",
      "2018 2 2\n"
     ]
    },
    {
     "name": "stderr",
     "output_type": "stream",
     "text": [
      "2025-08-17 13:14:06,301 WARNING [2025-08-17T19:14:06.205268] You are using a deprecated API endpoint. If you are using cdsapi, please upgrade to the latest version.\n",
      "2025-08-17 13:14:06,301 INFO Request ID is d2ef7316-d042-4dea-b3fe-567b5c260a4d\n",
      "2025-08-17 13:14:06,478 INFO status has been updated to accepted\n",
      "2025-08-17 13:14:14,108 INFO status has been updated to running\n",
      "2025-08-17 13:14:38,621 INFO status has been updated to successful\n"
     ]
    },
    {
     "data": {
      "application/vnd.jupyter.widget-view+json": {
       "model_id": "",
       "version_major": 2,
       "version_minor": 0
      },
      "text/plain": [
       "14651fb38dd69e6bd6424b1671f67510.nc:   0%|          | 0.00/12.2M [00:00<?, ?B/s]"
      ]
     },
     "metadata": {},
     "output_type": "display_data"
    },
    {
     "name": "stdout",
     "output_type": "stream",
     "text": [
      "✅ Downloaded: /glade/work/milesep/era5_cds/era5_pl_2018_02.nc\n"
     ]
    },
    {
     "name": "stderr",
     "output_type": "stream",
     "text": [
      "2025-08-17 13:14:42,600 WARNING [2025-08-17T19:14:42.525165] You are using a deprecated API endpoint. If you are using cdsapi, please upgrade to the latest version.\n",
      "2025-08-17 13:14:42,600 INFO Request ID is d727e888-579e-464f-831d-2d1687191a57\n",
      "2025-08-17 13:14:42,788 INFO status has been updated to accepted\n",
      "2025-08-17 13:14:50,404 INFO status has been updated to running\n",
      "2025-08-17 13:14:55,641 INFO status has been updated to successful\n"
     ]
    },
    {
     "data": {
      "application/vnd.jupyter.widget-view+json": {
       "model_id": "",
       "version_major": 2,
       "version_minor": 0
      },
      "text/plain": [
       "19aec69a7a4773df19ea4f09b6986887.zip:   0%|          | 0.00/1.61M [00:00<?, ?B/s]"
      ]
     },
     "metadata": {},
     "output_type": "display_data"
    },
    {
     "name": "stdout",
     "output_type": "stream",
     "text": [
      "✅ Downloaded: /glade/work/milesep/era5_cds/era5_sfc_2018_02.nc\n",
      "2018 3 12\n"
     ]
    },
    {
     "name": "stderr",
     "output_type": "stream",
     "text": [
      "2025-08-17 13:14:58,263 WARNING [2025-08-17T19:14:58.188673] You are using a deprecated API endpoint. If you are using cdsapi, please upgrade to the latest version.\n",
      "2025-08-17 13:14:58,264 INFO Request ID is 1ca3cf5a-a396-43f7-81e6-d9b89baad77d\n",
      "2025-08-17 13:14:58,425 INFO status has been updated to accepted\n",
      "2025-08-17 13:15:06,433 INFO status has been updated to running\n",
      "2025-08-17 13:16:52,615 INFO status has been updated to successful\n"
     ]
    },
    {
     "data": {
      "application/vnd.jupyter.widget-view+json": {
       "model_id": "",
       "version_major": 2,
       "version_minor": 0
      },
      "text/plain": [
       "2beea95cfa78052edc62913cfc5a1854.nc:   0%|          | 0.00/74.5M [00:00<?, ?B/s]"
      ]
     },
     "metadata": {},
     "output_type": "display_data"
    },
    {
     "name": "stdout",
     "output_type": "stream",
     "text": [
      "✅ Downloaded: /glade/work/milesep/era5_cds/era5_pl_2018_03.nc\n"
     ]
    },
    {
     "name": "stderr",
     "output_type": "stream",
     "text": [
      "2025-08-17 13:17:17,440 WARNING [2025-08-17T19:17:17.365782] You are using a deprecated API endpoint. If you are using cdsapi, please upgrade to the latest version.\n",
      "2025-08-17 13:17:17,441 INFO Request ID is 303f4133-e138-4443-a641-ad3715332d97\n",
      "2025-08-17 13:17:17,604 INFO status has been updated to accepted\n",
      "2025-08-17 13:17:30,461 INFO status has been updated to running\n",
      "2025-08-17 13:17:38,228 INFO status has been updated to successful\n"
     ]
    },
    {
     "data": {
      "application/vnd.jupyter.widget-view+json": {
       "model_id": "",
       "version_major": 2,
       "version_minor": 0
      },
      "text/plain": [
       "6c428f65ca19badd22e54b326779456c.zip:   0%|          | 0.00/9.24M [00:00<?, ?B/s]"
      ]
     },
     "metadata": {},
     "output_type": "display_data"
    },
    {
     "name": "stdout",
     "output_type": "stream",
     "text": [
      "✅ Downloaded: /glade/work/milesep/era5_cds/era5_sfc_2018_03.nc\n",
      "2018 4 9\n"
     ]
    },
    {
     "name": "stderr",
     "output_type": "stream",
     "text": [
      "2025-08-17 13:17:41,992 WARNING [2025-08-17T19:17:41.919346] You are using a deprecated API endpoint. If you are using cdsapi, please upgrade to the latest version.\n",
      "2025-08-17 13:17:41,993 INFO Request ID is c7d64c1c-5a24-402b-b309-4e30c16ed3a4\n",
      "2025-08-17 13:17:42,172 INFO status has been updated to accepted\n",
      "2025-08-17 13:18:02,858 INFO status has been updated to running\n",
      "2025-08-17 13:18:57,447 INFO status has been updated to successful\n"
     ]
    },
    {
     "data": {
      "application/vnd.jupyter.widget-view+json": {
       "model_id": "",
       "version_major": 2,
       "version_minor": 0
      },
      "text/plain": [
       "f20d37e5b27b90a73b9cdd62977da6d7.nc:   0%|          | 0.00/56.4M [00:00<?, ?B/s]"
      ]
     },
     "metadata": {},
     "output_type": "display_data"
    },
    {
     "name": "stdout",
     "output_type": "stream",
     "text": [
      "✅ Downloaded: /glade/work/milesep/era5_cds/era5_pl_2018_04.nc\n"
     ]
    },
    {
     "name": "stderr",
     "output_type": "stream",
     "text": [
      "2025-08-17 13:19:21,443 WARNING [2025-08-17T19:19:21.355328] You are using a deprecated API endpoint. If you are using cdsapi, please upgrade to the latest version.\n",
      "2025-08-17 13:19:21,443 INFO Request ID is 86431fe9-7800-4417-ae66-99c0b9abaa17\n",
      "2025-08-17 13:19:21,616 INFO status has been updated to accepted\n",
      "2025-08-17 13:19:54,139 INFO status has been updated to successful\n"
     ]
    },
    {
     "data": {
      "application/vnd.jupyter.widget-view+json": {
       "model_id": "",
       "version_major": 2,
       "version_minor": 0
      },
      "text/plain": [
       "9763c62c165bb9596d5eaac4f201ee18.zip:   0%|          | 0.00/7.00M [00:00<?, ?B/s]"
      ]
     },
     "metadata": {},
     "output_type": "display_data"
    },
    {
     "name": "stdout",
     "output_type": "stream",
     "text": [
      "✅ Downloaded: /glade/work/milesep/era5_cds/era5_sfc_2018_04.nc\n",
      "2018 5 25\n"
     ]
    },
    {
     "name": "stderr",
     "output_type": "stream",
     "text": [
      "2025-08-17 13:19:57,244 WARNING [2025-08-17T19:19:57.172706] You are using a deprecated API endpoint. If you are using cdsapi, please upgrade to the latest version.\n",
      "2025-08-17 13:19:57,245 INFO Request ID is 05929113-ecf6-4558-bf17-36624a78d0d5\n",
      "2025-08-17 13:19:57,415 INFO status has been updated to accepted\n",
      "2025-08-17 13:20:05,075 INFO status has been updated to running\n",
      "2025-08-17 13:24:16,504 INFO status has been updated to successful\n"
     ]
    },
    {
     "data": {
      "application/vnd.jupyter.widget-view+json": {
       "model_id": "",
       "version_major": 2,
       "version_minor": 0
      },
      "text/plain": [
       "e33e1643b8de0f39e5c90f4e7f8b338e.nc:   0%|          | 0.00/169M [00:00<?, ?B/s]"
      ]
     },
     "metadata": {},
     "output_type": "display_data"
    },
    {
     "name": "stdout",
     "output_type": "stream",
     "text": [
      "✅ Downloaded: /glade/work/milesep/era5_cds/era5_pl_2018_05.nc\n"
     ]
    },
    {
     "name": "stderr",
     "output_type": "stream",
     "text": [
      "2025-08-17 13:24:38,657 WARNING [2025-08-17T19:24:38.584192] You are using a deprecated API endpoint. If you are using cdsapi, please upgrade to the latest version.\n",
      "2025-08-17 13:24:38,657 INFO Request ID is 5f6f3f64-4b17-48ae-9937-b0d174c8ea27\n",
      "2025-08-17 13:24:38,824 INFO status has been updated to accepted\n",
      "2025-08-17 13:24:51,652 INFO status has been updated to running\n",
      "2025-08-17 13:25:28,228 INFO status has been updated to successful\n"
     ]
    },
    {
     "data": {
      "application/vnd.jupyter.widget-view+json": {
       "model_id": "",
       "version_major": 2,
       "version_minor": 0
      },
      "text/plain": [
       "6d607b8e151442ca2bcf3aa5345551e0.zip:   0%|          | 0.00/19.3M [00:00<?, ?B/s]"
      ]
     },
     "metadata": {},
     "output_type": "display_data"
    },
    {
     "name": "stdout",
     "output_type": "stream",
     "text": [
      "✅ Downloaded: /glade/work/milesep/era5_cds/era5_sfc_2018_05.nc\n",
      "2018 6 27\n"
     ]
    },
    {
     "name": "stderr",
     "output_type": "stream",
     "text": [
      "2025-08-17 13:25:31,801 WARNING [2025-08-17T19:25:31.719397] You are using a deprecated API endpoint. If you are using cdsapi, please upgrade to the latest version.\n",
      "2025-08-17 13:25:31,801 INFO Request ID is 2a896611-437d-41ba-92ae-101595dbc409\n",
      "2025-08-17 13:25:31,954 INFO status has been updated to accepted\n",
      "2025-08-17 13:25:39,557 INFO status has been updated to running\n",
      "2025-08-17 13:29:50,879 INFO status has been updated to successful\n"
     ]
    },
    {
     "data": {
      "application/vnd.jupyter.widget-view+json": {
       "model_id": "",
       "version_major": 2,
       "version_minor": 0
      },
      "text/plain": [
       "718765dd4b505ae4730c4674b30fc5fc.nc:   0%|          | 0.00/183M [00:00<?, ?B/s]"
      ]
     },
     "metadata": {},
     "output_type": "display_data"
    },
    {
     "name": "stdout",
     "output_type": "stream",
     "text": [
      "✅ Downloaded: /glade/work/milesep/era5_cds/era5_pl_2018_06.nc\n"
     ]
    },
    {
     "name": "stderr",
     "output_type": "stream",
     "text": [
      "2025-08-17 13:41:39,271 WARNING [2025-08-17T19:41:39.200049] You are using a deprecated API endpoint. If you are using cdsapi, please upgrade to the latest version.\n",
      "2025-08-17 13:41:39,272 INFO Request ID is cbeb2aed-826d-4ec2-87bb-224ba3dfb53e\n",
      "2025-08-17 13:41:39,444 INFO status has been updated to accepted\n",
      "2025-08-17 13:41:47,085 INFO status has been updated to running\n",
      "2025-08-17 13:42:28,898 INFO status has been updated to successful\n"
     ]
    },
    {
     "data": {
      "application/vnd.jupyter.widget-view+json": {
       "model_id": "",
       "version_major": 2,
       "version_minor": 0
      },
      "text/plain": [
       "ceb415ef8e787aaae98a6cb0bec5def1.zip:   0%|          | 0.00/20.9M [00:00<?, ?B/s]"
      ]
     },
     "metadata": {},
     "output_type": "display_data"
    },
    {
     "name": "stdout",
     "output_type": "stream",
     "text": [
      "✅ Downloaded: /glade/work/milesep/era5_cds/era5_sfc_2018_06.nc\n",
      "2018 7 23\n"
     ]
    },
    {
     "name": "stderr",
     "output_type": "stream",
     "text": [
      "2025-08-17 13:42:32,947 WARNING [2025-08-17T19:42:32.874240] You are using a deprecated API endpoint. If you are using cdsapi, please upgrade to the latest version.\n",
      "2025-08-17 13:42:32,947 INFO Request ID is 5813542f-ebea-47d3-8da2-873684469ab3\n",
      "2025-08-17 13:42:33,100 INFO status has been updated to accepted\n",
      "2025-08-17 13:42:40,692 INFO status has been updated to running\n",
      "2025-08-17 13:45:25,163 INFO status has been updated to successful\n"
     ]
    },
    {
     "data": {
      "application/vnd.jupyter.widget-view+json": {
       "model_id": "",
       "version_major": 2,
       "version_minor": 0
      },
      "text/plain": [
       "c3c7cbe82e5113422d8d55b0411a0309.nc:   0%|          | 0.00/154M [00:00<?, ?B/s]"
      ]
     },
     "metadata": {},
     "output_type": "display_data"
    },
    {
     "name": "stdout",
     "output_type": "stream",
     "text": [
      "✅ Downloaded: /glade/work/milesep/era5_cds/era5_pl_2018_07.nc\n"
     ]
    },
    {
     "name": "stderr",
     "output_type": "stream",
     "text": [
      "2025-08-17 13:55:32,874 WARNING [2025-08-17T19:55:32.799680] You are using a deprecated API endpoint. If you are using cdsapi, please upgrade to the latest version.\n",
      "2025-08-17 13:55:32,875 INFO Request ID is 3e660714-862c-41e3-bbe2-49791794e032\n",
      "2025-08-17 13:55:33,062 INFO status has been updated to accepted\n",
      "2025-08-17 13:55:46,049 INFO status has been updated to running\n",
      "2025-08-17 13:56:22,826 INFO status has been updated to successful\n"
     ]
    },
    {
     "data": {
      "application/vnd.jupyter.widget-view+json": {
       "model_id": "",
       "version_major": 2,
       "version_minor": 0
      },
      "text/plain": [
       "b5404f258168109e65a0836be9e1126b.zip:   0%|          | 0.00/17.8M [00:00<?, ?B/s]"
      ]
     },
     "metadata": {},
     "output_type": "display_data"
    },
    {
     "name": "stdout",
     "output_type": "stream",
     "text": [
      "✅ Downloaded: /glade/work/milesep/era5_cds/era5_sfc_2018_07.nc\n",
      "2018 8 19\n"
     ]
    },
    {
     "name": "stderr",
     "output_type": "stream",
     "text": [
      "2025-08-17 13:56:26,350 WARNING [2025-08-17T19:56:26.277052] You are using a deprecated API endpoint. If you are using cdsapi, please upgrade to the latest version.\n",
      "2025-08-17 13:56:26,350 INFO Request ID is 8d9d9192-bd00-4ca6-874b-9099ce977784\n",
      "2025-08-17 13:56:26,506 INFO status has been updated to accepted\n",
      "2025-08-17 13:56:34,349 INFO status has been updated to running\n",
      "2025-08-17 13:59:18,785 INFO status has been updated to successful\n"
     ]
    },
    {
     "data": {
      "application/vnd.jupyter.widget-view+json": {
       "model_id": "",
       "version_major": 2,
       "version_minor": 0
      },
      "text/plain": [
       "9af7cf678bff5e60a72bca822c7cfc5c.nc:   0%|          | 0.00/125M [00:00<?, ?B/s]"
      ]
     },
     "metadata": {},
     "output_type": "display_data"
    },
    {
     "name": "stdout",
     "output_type": "stream",
     "text": [
      "✅ Downloaded: /glade/work/milesep/era5_cds/era5_pl_2018_08.nc\n"
     ]
    },
    {
     "name": "stderr",
     "output_type": "stream",
     "text": [
      "2025-08-17 13:59:28,133 WARNING [2025-08-17T19:59:28.059909] You are using a deprecated API endpoint. If you are using cdsapi, please upgrade to the latest version.\n",
      "2025-08-17 13:59:28,134 INFO Request ID is 0c1b056b-82ef-4ab6-89a6-2b6e10633001\n",
      "2025-08-17 13:59:28,306 INFO status has been updated to accepted\n",
      "2025-08-17 13:59:36,231 INFO status has been updated to running\n",
      "2025-08-17 14:00:00,915 INFO status has been updated to successful\n"
     ]
    },
    {
     "data": {
      "application/vnd.jupyter.widget-view+json": {
       "model_id": "",
       "version_major": 2,
       "version_minor": 0
      },
      "text/plain": [
       "18f0e8911cb9f2e1da8a1c4aac3698da.zip:   0%|          | 0.00/14.6M [00:00<?, ?B/s]"
      ]
     },
     "metadata": {},
     "output_type": "display_data"
    },
    {
     "name": "stdout",
     "output_type": "stream",
     "text": [
      "✅ Downloaded: /glade/work/milesep/era5_cds/era5_sfc_2018_08.nc\n",
      "2018 9 10\n"
     ]
    },
    {
     "name": "stderr",
     "output_type": "stream",
     "text": [
      "2025-08-17 14:00:19,222 WARNING [2025-08-17T20:00:19.119016] You are using a deprecated API endpoint. If you are using cdsapi, please upgrade to the latest version.\n",
      "2025-08-17 14:00:19,223 INFO Request ID is b9d6b0d6-de12-4500-a4bb-fe04e2ecd291\n",
      "2025-08-17 14:00:19,405 INFO status has been updated to accepted\n",
      "2025-08-17 14:00:27,121 INFO status has been updated to running\n",
      "2025-08-17 14:03:11,615 INFO status has been updated to successful\n"
     ]
    },
    {
     "data": {
      "application/vnd.jupyter.widget-view+json": {
       "model_id": "",
       "version_major": 2,
       "version_minor": 0
      },
      "text/plain": [
       "4f8ef1a0977c19f12155badee997e308.nc:   0%|          | 0.00/61.9M [00:00<?, ?B/s]"
      ]
     },
     "metadata": {},
     "output_type": "display_data"
    },
    {
     "name": "stdout",
     "output_type": "stream",
     "text": [
      "✅ Downloaded: /glade/work/milesep/era5_cds/era5_pl_2018_09.nc\n"
     ]
    },
    {
     "name": "stderr",
     "output_type": "stream",
     "text": [
      "2025-08-17 14:03:21,566 WARNING [2025-08-17T20:03:21.494694] You are using a deprecated API endpoint. If you are using cdsapi, please upgrade to the latest version.\n",
      "2025-08-17 14:03:21,567 INFO Request ID is 0f2e06ca-e1ba-496c-b6fd-8e982836e479\n",
      "2025-08-17 14:03:21,731 INFO status has been updated to accepted\n",
      "2025-08-17 14:03:34,661 INFO status has been updated to running\n",
      "2025-08-17 14:03:53,972 INFO status has been updated to successful\n"
     ]
    },
    {
     "data": {
      "application/vnd.jupyter.widget-view+json": {
       "model_id": "",
       "version_major": 2,
       "version_minor": 0
      },
      "text/plain": [
       "d4f8ea8ae5997a10f045496933192f0.zip:   0%|          | 0.00/7.68M [00:00<?, ?B/s]"
      ]
     },
     "metadata": {},
     "output_type": "display_data"
    },
    {
     "name": "stdout",
     "output_type": "stream",
     "text": [
      "✅ Downloaded: /glade/work/milesep/era5_cds/era5_sfc_2018_09.nc\n",
      "2018 10 13\n"
     ]
    },
    {
     "name": "stderr",
     "output_type": "stream",
     "text": [
      "2025-08-17 14:03:57,213 WARNING [2025-08-17T20:03:57.141035] You are using a deprecated API endpoint. If you are using cdsapi, please upgrade to the latest version.\n",
      "2025-08-17 14:03:57,214 INFO Request ID is 92533fdb-ef69-4ab1-ba09-f4656c23d154\n",
      "2025-08-17 14:03:57,370 INFO status has been updated to accepted\n",
      "2025-08-17 14:04:04,960 INFO status has been updated to running\n",
      "2025-08-17 14:05:51,345 INFO status has been updated to successful\n"
     ]
    },
    {
     "data": {
      "application/vnd.jupyter.widget-view+json": {
       "model_id": "",
       "version_major": 2,
       "version_minor": 0
      },
      "text/plain": [
       "75de85371f1fe41656f96914fe34f0e2.nc:   0%|          | 0.00/80.1M [00:00<?, ?B/s]"
      ]
     },
     "metadata": {},
     "output_type": "display_data"
    },
    {
     "name": "stdout",
     "output_type": "stream",
     "text": [
      "✅ Downloaded: /glade/work/milesep/era5_cds/era5_pl_2018_10.nc\n"
     ]
    },
    {
     "name": "stderr",
     "output_type": "stream",
     "text": [
      "2025-08-17 14:06:18,676 WARNING [2025-08-17T20:06:18.603547] You are using a deprecated API endpoint. If you are using cdsapi, please upgrade to the latest version.\n",
      "2025-08-17 14:06:18,677 INFO Request ID is c14b37e2-bc04-4659-b746-3cab02c6ea1f\n",
      "2025-08-17 14:06:18,977 INFO status has been updated to accepted\n",
      "2025-08-17 14:06:26,580 INFO status has been updated to running\n",
      "2025-08-17 14:06:39,555 INFO status has been updated to successful\n"
     ]
    },
    {
     "data": {
      "application/vnd.jupyter.widget-view+json": {
       "model_id": "",
       "version_major": 2,
       "version_minor": 0
      },
      "text/plain": [
       "91b930348c8c5bebd3e4a7d0d06ac47d.zip:   0%|          | 0.00/9.83M [00:00<?, ?B/s]"
      ]
     },
     "metadata": {},
     "output_type": "display_data"
    },
    {
     "name": "stderr",
     "output_type": "stream",
     "text": [
      "2025-08-17 14:06:42,577 WARNING [2025-08-17T20:06:42.507224] You are using a deprecated API endpoint. If you are using cdsapi, please upgrade to the latest version.\n",
      "2025-08-17 14:06:42,578 INFO Request ID is d91fe525-9741-40ab-84b4-59e8604769b5\n"
     ]
    },
    {
     "name": "stdout",
     "output_type": "stream",
     "text": [
      "✅ Downloaded: /glade/work/milesep/era5_cds/era5_sfc_2018_10.nc\n",
      "2018 11 6\n"
     ]
    },
    {
     "name": "stderr",
     "output_type": "stream",
     "text": [
      "2025-08-17 14:06:42,734 INFO status has been updated to accepted\n",
      "2025-08-17 14:06:55,583 INFO status has been updated to running\n",
      "2025-08-17 14:07:57,957 INFO status has been updated to successful\n"
     ]
    },
    {
     "data": {
      "application/vnd.jupyter.widget-view+json": {
       "model_id": "",
       "version_major": 2,
       "version_minor": 0
      },
      "text/plain": [
       "d197514ee9cfe357272c6ae1f49ca87e.nc:   0%|          | 0.00/36.6M [00:00<?, ?B/s]"
      ]
     },
     "metadata": {},
     "output_type": "display_data"
    },
    {
     "name": "stdout",
     "output_type": "stream",
     "text": [
      "✅ Downloaded: /glade/work/milesep/era5_cds/era5_pl_2018_11.nc\n"
     ]
    },
    {
     "name": "stderr",
     "output_type": "stream",
     "text": [
      "2025-08-17 14:08:03,035 WARNING [2025-08-17T20:08:02.962757] You are using a deprecated API endpoint. If you are using cdsapi, please upgrade to the latest version.\n",
      "2025-08-17 14:08:03,035 INFO Request ID is c6768f35-46f1-40a8-8253-1ffadb3dc223\n",
      "2025-08-17 14:08:03,204 INFO status has been updated to accepted\n",
      "2025-08-17 14:08:10,816 INFO status has been updated to running\n",
      "2025-08-17 14:08:23,777 INFO status has been updated to successful\n"
     ]
    },
    {
     "data": {
      "application/vnd.jupyter.widget-view+json": {
       "model_id": "",
       "version_major": 2,
       "version_minor": 0
      },
      "text/plain": [
       "4be98a1319946fe88221f664b9438a2f.zip:   0%|          | 0.00/4.60M [00:00<?, ?B/s]"
      ]
     },
     "metadata": {},
     "output_type": "display_data"
    },
    {
     "name": "stdout",
     "output_type": "stream",
     "text": [
      "✅ Downloaded: /glade/work/milesep/era5_cds/era5_sfc_2018_11.nc\n",
      "2018 12 8\n"
     ]
    },
    {
     "name": "stderr",
     "output_type": "stream",
     "text": [
      "2025-08-17 14:08:26,841 WARNING [2025-08-17T20:08:26.767902] You are using a deprecated API endpoint. If you are using cdsapi, please upgrade to the latest version.\n",
      "2025-08-17 14:08:26,842 INFO Request ID is e1ae823d-e686-492e-b0b3-3ebbd427e545\n",
      "2025-08-17 14:08:27,051 INFO status has been updated to accepted\n",
      "2025-08-17 14:08:34,657 INFO status has been updated to running\n",
      "2025-08-17 14:09:42,323 INFO status has been updated to successful\n"
     ]
    },
    {
     "data": {
      "application/vnd.jupyter.widget-view+json": {
       "model_id": "",
       "version_major": 2,
       "version_minor": 0
      },
      "text/plain": [
       "cb1400c640cc46d010cbb80570287d1f.nc:   0%|          | 0.00/49.2M [00:00<?, ?B/s]"
      ]
     },
     "metadata": {},
     "output_type": "display_data"
    },
    {
     "name": "stdout",
     "output_type": "stream",
     "text": [
      "✅ Downloaded: /glade/work/milesep/era5_cds/era5_pl_2018_12.nc\n"
     ]
    },
    {
     "name": "stderr",
     "output_type": "stream",
     "text": [
      "2025-08-17 14:09:47,716 WARNING [2025-08-17T20:09:47.645348] You are using a deprecated API endpoint. If you are using cdsapi, please upgrade to the latest version.\n",
      "2025-08-17 14:09:47,717 INFO Request ID is 92774124-cec6-45bf-b00f-0996aae942b7\n",
      "2025-08-17 14:09:47,887 INFO status has been updated to accepted\n",
      "2025-08-17 14:09:55,521 INFO status has been updated to running\n",
      "2025-08-17 14:10:08,519 INFO status has been updated to successful\n"
     ]
    },
    {
     "data": {
      "application/vnd.jupyter.widget-view+json": {
       "model_id": "",
       "version_major": 2,
       "version_minor": 0
      },
      "text/plain": [
       "6ba04ea2ec7bec704c0b531aae8f82a1.zip:   0%|          | 0.00/6.08M [00:00<?, ?B/s]"
      ]
     },
     "metadata": {},
     "output_type": "display_data"
    },
    {
     "name": "stdout",
     "output_type": "stream",
     "text": [
      "✅ Downloaded: /glade/work/milesep/era5_cds/era5_sfc_2018_12.nc\n",
      "2019 1 2\n"
     ]
    },
    {
     "name": "stderr",
     "output_type": "stream",
     "text": [
      "2025-08-17 14:10:11,588 WARNING [2025-08-17T20:10:11.503434] You are using a deprecated API endpoint. If you are using cdsapi, please upgrade to the latest version.\n",
      "2025-08-17 14:10:11,589 INFO Request ID is a217c6b6-bcec-47aa-af4f-5dfbddfba9da\n",
      "2025-08-17 14:10:11,754 INFO status has been updated to accepted\n",
      "2025-08-17 14:10:19,406 INFO status has been updated to running\n",
      "2025-08-17 14:10:43,935 INFO status has been updated to successful\n"
     ]
    },
    {
     "data": {
      "application/vnd.jupyter.widget-view+json": {
       "model_id": "",
       "version_major": 2,
       "version_minor": 0
      },
      "text/plain": [
       "e3422225b20f7297da15b0591652cdf0.nc:   0%|          | 0.00/12.2M [00:00<?, ?B/s]"
      ]
     },
     "metadata": {},
     "output_type": "display_data"
    },
    {
     "name": "stdout",
     "output_type": "stream",
     "text": [
      "✅ Downloaded: /glade/work/milesep/era5_cds/era5_pl_2019_01.nc\n"
     ]
    },
    {
     "name": "stderr",
     "output_type": "stream",
     "text": [
      "2025-08-17 14:10:47,462 WARNING [2025-08-17T20:10:47.387783] You are using a deprecated API endpoint. If you are using cdsapi, please upgrade to the latest version.\n",
      "2025-08-17 14:10:47,463 INFO Request ID is ab604d7a-da91-4a32-878c-331bc5de5d13\n",
      "2025-08-17 14:10:47,652 INFO status has been updated to accepted\n",
      "2025-08-17 14:10:55,273 INFO status has been updated to running\n",
      "2025-08-17 14:11:00,524 INFO status has been updated to accepted\n",
      "2025-08-17 14:11:08,288 INFO status has been updated to successful\n"
     ]
    },
    {
     "name": "stdout",
     "output_type": "stream",
     "text": [
      "⚠️ Attempt 1 failed for /glade/work/milesep/era5_cds/era5_sfc_2019_01.nc: Result not ready, job is accepted\n",
      "Retrying in 30s...\n"
     ]
    },
    {
     "name": "stderr",
     "output_type": "stream",
     "text": [
      "2025-08-17 14:11:38,804 WARNING [2025-08-17T20:11:38.731260] You are using a deprecated API endpoint. If you are using cdsapi, please upgrade to the latest version.\n",
      "2025-08-17 14:11:38,805 INFO Request ID is 4a1939be-7975-4e4e-a8d5-42e802b96e0f\n",
      "2025-08-17 14:11:38,971 INFO status has been updated to accepted\n",
      "2025-08-17 14:11:46,652 INFO status has been updated to successful\n"
     ]
    },
    {
     "data": {
      "application/vnd.jupyter.widget-view+json": {
       "model_id": "",
       "version_major": 2,
       "version_minor": 0
      },
      "text/plain": [
       "a7ac0b05b13b811021b459918b9b0118.zip:   0%|          | 0.00/1.60M [00:00<?, ?B/s]"
      ]
     },
     "metadata": {},
     "output_type": "display_data"
    },
    {
     "name": "stdout",
     "output_type": "stream",
     "text": [
      "✅ Downloaded: /glade/work/milesep/era5_cds/era5_sfc_2019_01.nc\n",
      "2019 2 4\n"
     ]
    },
    {
     "name": "stderr",
     "output_type": "stream",
     "text": [
      "2025-08-17 14:11:49,261 WARNING [2025-08-17T20:11:49.189882] You are using a deprecated API endpoint. If you are using cdsapi, please upgrade to the latest version.\n",
      "2025-08-17 14:11:49,262 INFO Request ID is 8dca2e5f-16cf-46ae-be13-f4e0fe04b032\n",
      "2025-08-17 14:11:49,442 INFO status has been updated to accepted\n",
      "2025-08-17 14:11:57,153 INFO status has been updated to running\n",
      "2025-08-17 14:12:38,985 INFO status has been updated to successful\n"
     ]
    },
    {
     "data": {
      "application/vnd.jupyter.widget-view+json": {
       "model_id": "",
       "version_major": 2,
       "version_minor": 0
      },
      "text/plain": [
       "b3d32dece44bb7189d8189368c52e720.nc:   0%|          | 0.00/24.2M [00:00<?, ?B/s]"
      ]
     },
     "metadata": {},
     "output_type": "display_data"
    },
    {
     "name": "stdout",
     "output_type": "stream",
     "text": [
      "✅ Downloaded: /glade/work/milesep/era5_cds/era5_pl_2019_02.nc\n"
     ]
    },
    {
     "name": "stderr",
     "output_type": "stream",
     "text": [
      "2025-08-17 14:12:58,481 WARNING [2025-08-17T20:12:58.409515] You are using a deprecated API endpoint. If you are using cdsapi, please upgrade to the latest version.\n",
      "2025-08-17 14:12:58,482 INFO Request ID is dd88706e-f771-4f10-a837-b3474d3bdfb8\n",
      "2025-08-17 14:12:58,646 INFO status has been updated to accepted\n",
      "2025-08-17 14:13:06,377 INFO status has been updated to running\n",
      "2025-08-17 14:13:11,603 INFO status has been updated to successful\n"
     ]
    },
    {
     "data": {
      "application/vnd.jupyter.widget-view+json": {
       "model_id": "",
       "version_major": 2,
       "version_minor": 0
      },
      "text/plain": [
       "3db85b10734b2e1f89437dcd3199ca3f.zip:   0%|          | 0.00/3.11M [00:00<?, ?B/s]"
      ]
     },
     "metadata": {},
     "output_type": "display_data"
    },
    {
     "name": "stdout",
     "output_type": "stream",
     "text": [
      "✅ Downloaded: /glade/work/milesep/era5_cds/era5_sfc_2019_02.nc\n",
      "2019 3 10\n"
     ]
    },
    {
     "name": "stderr",
     "output_type": "stream",
     "text": [
      "2025-08-17 14:13:14,988 WARNING [2025-08-17T20:13:14.915611] You are using a deprecated API endpoint. If you are using cdsapi, please upgrade to the latest version.\n",
      "2025-08-17 14:13:14,989 INFO Request ID is e3b44ee8-e565-4219-ba02-38c690f8794c\n",
      "2025-08-17 14:13:15,141 INFO status has been updated to accepted\n",
      "2025-08-17 14:13:22,750 INFO status has been updated to running\n",
      "2025-08-17 14:15:09,144 INFO status has been updated to successful\n"
     ]
    },
    {
     "data": {
      "application/vnd.jupyter.widget-view+json": {
       "model_id": "",
       "version_major": 2,
       "version_minor": 0
      },
      "text/plain": [
       "691967d772b63632e384e2904133b5e6.nc:   0%|          | 0.00/62.2M [00:00<?, ?B/s]"
      ]
     },
     "metadata": {},
     "output_type": "display_data"
    },
    {
     "name": "stdout",
     "output_type": "stream",
     "text": [
      "✅ Downloaded: /glade/work/milesep/era5_cds/era5_pl_2019_03.nc\n"
     ]
    },
    {
     "name": "stderr",
     "output_type": "stream",
     "text": [
      "2025-08-17 14:15:15,898 WARNING [2025-08-17T20:15:15.821560] You are using a deprecated API endpoint. If you are using cdsapi, please upgrade to the latest version.\n",
      "2025-08-17 14:15:15,899 INFO Request ID is 0c523aa5-dcc7-4848-a485-d558e6a02bfc\n",
      "2025-08-17 14:15:16,071 INFO status has been updated to accepted\n",
      "2025-08-17 14:15:28,894 INFO status has been updated to running\n",
      "2025-08-17 14:15:48,210 INFO status has been updated to successful\n"
     ]
    },
    {
     "data": {
      "application/vnd.jupyter.widget-view+json": {
       "model_id": "",
       "version_major": 2,
       "version_minor": 0
      },
      "text/plain": [
       "1607a04200498fd75e1d8684b1517db2.zip:   0%|          | 0.00/7.67M [00:00<?, ?B/s]"
      ]
     },
     "metadata": {},
     "output_type": "display_data"
    },
    {
     "name": "stdout",
     "output_type": "stream",
     "text": [
      "✅ Downloaded: /glade/work/milesep/era5_cds/era5_sfc_2019_03.nc\n",
      "2019 4 23\n"
     ]
    },
    {
     "name": "stderr",
     "output_type": "stream",
     "text": [
      "2025-08-17 14:15:52,038 WARNING [2025-08-17T20:15:51.965460] You are using a deprecated API endpoint. If you are using cdsapi, please upgrade to the latest version.\n",
      "2025-08-17 14:15:52,039 INFO Request ID is a6998c51-37da-4237-9bcf-910ad59ca9ce\n",
      "2025-08-17 14:15:52,209 INFO status has been updated to accepted\n",
      "2025-08-17 14:16:24,413 INFO status has been updated to running\n",
      "2025-08-17 14:20:11,175 INFO status has been updated to successful\n"
     ]
    },
    {
     "data": {
      "application/vnd.jupyter.widget-view+json": {
       "model_id": "",
       "version_major": 2,
       "version_minor": 0
      },
      "text/plain": [
       "87392cd8898a725299f48de5189d2362.nc:   0%|          | 0.00/151M [00:00<?, ?B/s]"
      ]
     },
     "metadata": {},
     "output_type": "display_data"
    },
    {
     "name": "stdout",
     "output_type": "stream",
     "text": [
      "✅ Downloaded: /glade/work/milesep/era5_cds/era5_pl_2019_04.nc\n"
     ]
    },
    {
     "name": "stderr",
     "output_type": "stream",
     "text": [
      "2025-08-17 14:20:28,433 WARNING [2025-08-17T20:20:28.356830] You are using a deprecated API endpoint. If you are using cdsapi, please upgrade to the latest version.\n",
      "2025-08-17 14:20:28,434 INFO Request ID is f33fe80a-e0a4-4b40-b2b7-4eea9d520d12\n",
      "2025-08-17 14:20:28,626 INFO status has been updated to accepted\n",
      "2025-08-17 14:20:36,351 INFO status has been updated to running\n",
      "2025-08-17 14:21:18,179 INFO status has been updated to successful\n"
     ]
    },
    {
     "data": {
      "application/vnd.jupyter.widget-view+json": {
       "model_id": "",
       "version_major": 2,
       "version_minor": 0
      },
      "text/plain": [
       "4c31d844554c5736ce35d3148def660d.zip:   0%|          | 0.00/17.7M [00:00<?, ?B/s]"
      ]
     },
     "metadata": {},
     "output_type": "display_data"
    },
    {
     "name": "stdout",
     "output_type": "stream",
     "text": [
      "✅ Downloaded: /glade/work/milesep/era5_cds/era5_sfc_2019_04.nc\n",
      "2019 5 29\n"
     ]
    },
    {
     "name": "stderr",
     "output_type": "stream",
     "text": [
      "2025-08-17 14:21:22,037 WARNING [2025-08-17T20:21:21.962073] You are using a deprecated API endpoint. If you are using cdsapi, please upgrade to the latest version.\n",
      "2025-08-17 14:21:22,037 INFO Request ID is b4bbba35-1b18-4d1a-871f-f80f3208605e\n",
      "2025-08-17 14:21:22,218 INFO status has been updated to accepted\n",
      "2025-08-17 14:21:29,872 INFO status has been updated to running\n",
      "2025-08-17 14:25:41,227 INFO status has been updated to successful\n"
     ]
    },
    {
     "data": {
      "application/vnd.jupyter.widget-view+json": {
       "model_id": "",
       "version_major": 2,
       "version_minor": 0
      },
      "text/plain": [
       "7778646dd861354e8c633d5a6d91af10.nc:   0%|          | 0.00/197M [00:00<?, ?B/s]"
      ]
     },
     "metadata": {},
     "output_type": "display_data"
    },
    {
     "name": "stdout",
     "output_type": "stream",
     "text": [
      "✅ Downloaded: /glade/work/milesep/era5_cds/era5_pl_2019_05.nc\n"
     ]
    },
    {
     "name": "stderr",
     "output_type": "stream",
     "text": [
      "2025-08-17 14:25:56,139 WARNING [2025-08-17T20:25:56.027860] You are using a deprecated API endpoint. If you are using cdsapi, please upgrade to the latest version.\n",
      "2025-08-17 14:25:56,140 INFO Request ID is a749ef84-5b69-458f-95f8-f0d34eee2469\n",
      "2025-08-17 14:25:56,347 INFO status has been updated to accepted\n",
      "2025-08-17 14:26:04,071 INFO status has been updated to running\n",
      "2025-08-17 14:26:46,027 INFO status has been updated to successful\n"
     ]
    },
    {
     "data": {
      "application/vnd.jupyter.widget-view+json": {
       "model_id": "",
       "version_major": 2,
       "version_minor": 0
      },
      "text/plain": [
       "17534dfe24c5d8e309c83298f04a90ff.zip:   0%|          | 0.00/22.4M [00:00<?, ?B/s]"
      ]
     },
     "metadata": {},
     "output_type": "display_data"
    },
    {
     "name": "stdout",
     "output_type": "stream",
     "text": [
      "✅ Downloaded: /glade/work/milesep/era5_cds/era5_sfc_2019_05.nc\n",
      "2019 6 28\n"
     ]
    },
    {
     "name": "stderr",
     "output_type": "stream",
     "text": [
      "2025-08-17 14:26:49,970 WARNING [2025-08-17T20:26:49.858247] You are using a deprecated API endpoint. If you are using cdsapi, please upgrade to the latest version.\n",
      "2025-08-17 14:26:49,971 INFO Request ID is 1d378fcd-9074-49ef-a9b5-72867123c442\n",
      "2025-08-17 14:26:50,188 INFO status has been updated to accepted\n",
      "2025-08-17 14:26:57,856 INFO status has been updated to running\n",
      "2025-08-17 14:31:09,343 INFO status has been updated to successful\n"
     ]
    },
    {
     "data": {
      "application/vnd.jupyter.widget-view+json": {
       "model_id": "",
       "version_major": 2,
       "version_minor": 0
      },
      "text/plain": [
       "8d30c8ef46fc2f92912712b0f86d3462.nc:   0%|          | 0.00/187M [00:00<?, ?B/s]"
      ]
     },
     "metadata": {},
     "output_type": "display_data"
    },
    {
     "name": "stdout",
     "output_type": "stream",
     "text": [
      "✅ Downloaded: /glade/work/milesep/era5_cds/era5_pl_2019_06.nc\n"
     ]
    },
    {
     "name": "stderr",
     "output_type": "stream",
     "text": [
      "2025-08-17 14:32:06,407 WARNING [2025-08-17T20:32:06.330590] You are using a deprecated API endpoint. If you are using cdsapi, please upgrade to the latest version.\n",
      "2025-08-17 14:32:06,407 INFO Request ID is d2afd6cb-6ab4-43b0-9800-d4d7cc166032\n",
      "2025-08-17 14:32:06,594 INFO status has been updated to accepted\n",
      "2025-08-17 14:32:14,268 INFO status has been updated to running\n",
      "2025-08-17 14:32:56,142 INFO status has been updated to successful\n"
     ]
    },
    {
     "data": {
      "application/vnd.jupyter.widget-view+json": {
       "model_id": "",
       "version_major": 2,
       "version_minor": 0
      },
      "text/plain": [
       "98b44f6e3d00058ac779b10d8f93d04.zip:   0%|          | 0.00/21.6M [00:00<?, ?B/s]"
      ]
     },
     "metadata": {},
     "output_type": "display_data"
    },
    {
     "name": "stdout",
     "output_type": "stream",
     "text": [
      "✅ Downloaded: /glade/work/milesep/era5_cds/era5_sfc_2019_06.nc\n",
      "2019 7 26\n"
     ]
    },
    {
     "name": "stderr",
     "output_type": "stream",
     "text": [
      "2025-08-17 14:33:00,619 WARNING [2025-08-17T20:33:00.548853] You are using a deprecated API endpoint. If you are using cdsapi, please upgrade to the latest version.\n",
      "2025-08-17 14:33:00,619 INFO Request ID is 9993e042-9762-471b-9a24-b0f632004fce\n",
      "2025-08-17 14:33:00,774 INFO status has been updated to accepted\n",
      "2025-08-17 14:33:08,523 INFO status has been updated to running\n",
      "2025-08-17 14:37:20,043 INFO status has been updated to successful\n"
     ]
    },
    {
     "data": {
      "application/vnd.jupyter.widget-view+json": {
       "model_id": "",
       "version_major": 2,
       "version_minor": 0
      },
      "text/plain": [
       "677c4efc0ff6de2d91b663ffae98338.nc:   0%|          | 0.00/174M [00:00<?, ?B/s]"
      ]
     },
     "metadata": {},
     "output_type": "display_data"
    },
    {
     "name": "stdout",
     "output_type": "stream",
     "text": [
      "✅ Downloaded: /glade/work/milesep/era5_cds/era5_pl_2019_07.nc\n"
     ]
    },
    {
     "name": "stderr",
     "output_type": "stream",
     "text": [
      "2025-08-17 14:44:42,307 WARNING [2025-08-17T20:44:42.236318] You are using a deprecated API endpoint. If you are using cdsapi, please upgrade to the latest version.\n",
      "2025-08-17 14:44:42,308 INFO Request ID is 8be2545a-8d82-4138-844b-874ea3e947b8\n",
      "2025-08-17 14:44:42,482 INFO status has been updated to accepted\n",
      "2025-08-17 14:44:50,142 INFO status has been updated to running\n",
      "2025-08-17 14:45:58,077 INFO status has been updated to successful\n"
     ]
    },
    {
     "data": {
      "application/vnd.jupyter.widget-view+json": {
       "model_id": "",
       "version_major": 2,
       "version_minor": 0
      },
      "text/plain": [
       "21c8920b8503596fc2b18875cae31db2.zip:   0%|          | 0.00/20.0M [00:00<?, ?B/s]"
      ]
     },
     "metadata": {},
     "output_type": "display_data"
    },
    {
     "name": "stdout",
     "output_type": "stream",
     "text": [
      "✅ Downloaded: /glade/work/milesep/era5_cds/era5_sfc_2019_07.nc\n",
      "2019 8 23\n"
     ]
    },
    {
     "name": "stderr",
     "output_type": "stream",
     "text": [
      "2025-08-17 14:46:04,924 WARNING [2025-08-17T20:46:04.851025] You are using a deprecated API endpoint. If you are using cdsapi, please upgrade to the latest version.\n",
      "2025-08-17 14:46:04,925 INFO Request ID is 423437b1-4480-4682-b45a-9a9adcd0ffab\n",
      "2025-08-17 14:46:05,093 INFO status has been updated to accepted\n",
      "2025-08-17 14:46:17,950 INFO status has been updated to running\n",
      "2025-08-17 14:50:24,070 INFO status has been updated to successful\n"
     ]
    },
    {
     "data": {
      "application/vnd.jupyter.widget-view+json": {
       "model_id": "",
       "version_major": 2,
       "version_minor": 0
      },
      "text/plain": [
       "dd7d0ce84f2b608670f4cf6d5aad14c1.nc:   0%|          | 0.00/152M [00:00<?, ?B/s]"
      ]
     },
     "metadata": {},
     "output_type": "display_data"
    },
    {
     "name": "stdout",
     "output_type": "stream",
     "text": [
      "✅ Downloaded: /glade/work/milesep/era5_cds/era5_pl_2019_08.nc\n"
     ]
    },
    {
     "name": "stderr",
     "output_type": "stream",
     "text": [
      "2025-08-17 14:51:40,449 WARNING [2025-08-17T20:51:40.372553] You are using a deprecated API endpoint. If you are using cdsapi, please upgrade to the latest version.\n",
      "2025-08-17 14:51:40,449 INFO Request ID is 6dcb2785-9b50-40f3-abde-21a179760687\n",
      "2025-08-17 14:51:40,623 INFO status has been updated to accepted\n",
      "2025-08-17 14:51:48,298 INFO status has been updated to running\n",
      "2025-08-17 14:52:30,171 INFO status has been updated to successful\n"
     ]
    },
    {
     "data": {
      "application/vnd.jupyter.widget-view+json": {
       "model_id": "",
       "version_major": 2,
       "version_minor": 0
      },
      "text/plain": [
       "7d3293f048d5a60439ee2f1c4f05e624.zip:   0%|          | 0.00/17.6M [00:00<?, ?B/s]"
      ]
     },
     "metadata": {},
     "output_type": "display_data"
    },
    {
     "name": "stdout",
     "output_type": "stream",
     "text": [
      "✅ Downloaded: /glade/work/milesep/era5_cds/era5_sfc_2019_08.nc\n",
      "2019 9 17\n"
     ]
    },
    {
     "name": "stderr",
     "output_type": "stream",
     "text": [
      "2025-08-17 14:52:34,105 WARNING [2025-08-17T20:52:34.028675] You are using a deprecated API endpoint. If you are using cdsapi, please upgrade to the latest version.\n",
      "2025-08-17 14:52:34,105 INFO Request ID is 1d2af64b-9042-45d0-97c2-f526349b479f\n",
      "2025-08-17 14:52:34,364 INFO status has been updated to accepted\n",
      "2025-08-17 14:52:42,065 INFO status has been updated to running\n",
      "2025-08-17 14:55:26,960 INFO status has been updated to successful\n"
     ]
    },
    {
     "data": {
      "application/vnd.jupyter.widget-view+json": {
       "model_id": "",
       "version_major": 2,
       "version_minor": 0
      },
      "text/plain": [
       "df4845900ae9bfce0f7ecf34c00f396a.nc:   0%|          | 0.00/113M [00:00<?, ?B/s]"
      ]
     },
     "metadata": {},
     "output_type": "display_data"
    },
    {
     "name": "stdout",
     "output_type": "stream",
     "text": [
      "✅ Downloaded: /glade/work/milesep/era5_cds/era5_pl_2019_09.nc\n"
     ]
    },
    {
     "name": "stderr",
     "output_type": "stream",
     "text": [
      "2025-08-17 14:55:48,448 WARNING [2025-08-17T20:55:48.374584] You are using a deprecated API endpoint. If you are using cdsapi, please upgrade to the latest version.\n",
      "2025-08-17 14:55:48,448 INFO Request ID is c6a44aa5-c7c7-439b-87dd-2076b0e2d3bc\n",
      "2025-08-17 14:55:48,626 INFO status has been updated to accepted\n",
      "2025-08-17 14:55:56,297 INFO status has been updated to running\n",
      "2025-08-17 14:56:21,004 INFO status has been updated to successful\n"
     ]
    },
    {
     "data": {
      "application/vnd.jupyter.widget-view+json": {
       "model_id": "",
       "version_major": 2,
       "version_minor": 0
      },
      "text/plain": [
       "6c0d738f2e9fa8cfb88d647b96e71a9c.zip:   0%|          | 0.00/13.0M [00:00<?, ?B/s]"
      ]
     },
     "metadata": {},
     "output_type": "display_data"
    },
    {
     "name": "stdout",
     "output_type": "stream",
     "text": [
      "✅ Downloaded: /glade/work/milesep/era5_cds/era5_sfc_2019_09.nc\n",
      "2019 10 8\n"
     ]
    },
    {
     "name": "stderr",
     "output_type": "stream",
     "text": [
      "2025-08-17 14:56:25,597 WARNING [2025-08-17T20:56:25.524986] You are using a deprecated API endpoint. If you are using cdsapi, please upgrade to the latest version.\n",
      "2025-08-17 14:56:25,597 INFO Request ID is 7f324c19-fe4b-46df-bdb7-8326ed02ad97\n",
      "2025-08-17 14:56:25,773 INFO status has been updated to accepted\n",
      "2025-08-17 14:56:33,423 INFO status has been updated to running\n",
      "2025-08-17 14:58:19,728 INFO status has been updated to successful\n"
     ]
    },
    {
     "data": {
      "application/vnd.jupyter.widget-view+json": {
       "model_id": "",
       "version_major": 2,
       "version_minor": 0
      },
      "text/plain": [
       "69c285371d91bc6427a535301c66e36f.nc:   0%|          | 0.00/49.1M [00:00<?, ?B/s]"
      ]
     },
     "metadata": {},
     "output_type": "display_data"
    },
    {
     "name": "stdout",
     "output_type": "stream",
     "text": [
      "✅ Downloaded: /glade/work/milesep/era5_cds/era5_pl_2019_10.nc\n"
     ]
    },
    {
     "name": "stderr",
     "output_type": "stream",
     "text": [
      "2025-08-17 14:58:26,913 WARNING [2025-08-17T20:58:26.834095] You are using a deprecated API endpoint. If you are using cdsapi, please upgrade to the latest version.\n",
      "2025-08-17 14:58:26,914 INFO Request ID is 1df1abbf-c3f5-4493-9157-b8290db1a418\n",
      "2025-08-17 14:58:27,245 INFO status has been updated to accepted\n",
      "2025-08-17 14:58:35,138 INFO status has been updated to running\n",
      "2025-08-17 14:58:59,668 INFO status has been updated to successful\n"
     ]
    },
    {
     "data": {
      "application/vnd.jupyter.widget-view+json": {
       "model_id": "",
       "version_major": 2,
       "version_minor": 0
      },
      "text/plain": [
       "c3c0ae33f99328246666b675ad0aa178.zip:   0%|          | 0.00/6.13M [00:00<?, ?B/s]"
      ]
     },
     "metadata": {},
     "output_type": "display_data"
    },
    {
     "name": "stdout",
     "output_type": "stream",
     "text": [
      "✅ Downloaded: /glade/work/milesep/era5_cds/era5_sfc_2019_10.nc\n",
      "2019 11 2\n"
     ]
    },
    {
     "name": "stderr",
     "output_type": "stream",
     "text": [
      "2025-08-17 14:59:03,950 WARNING [2025-08-17T20:59:03.876154] You are using a deprecated API endpoint. If you are using cdsapi, please upgrade to the latest version.\n",
      "2025-08-17 14:59:03,951 INFO Request ID is 58e1f6cd-1358-4b25-ba68-ea846572b2b6\n",
      "2025-08-17 14:59:04,123 INFO status has been updated to accepted\n",
      "2025-08-17 14:59:17,208 INFO status has been updated to running\n",
      "2025-08-17 14:59:36,648 INFO status has been updated to successful\n"
     ]
    },
    {
     "data": {
      "application/vnd.jupyter.widget-view+json": {
       "model_id": "",
       "version_major": 2,
       "version_minor": 0
      },
      "text/plain": [
       "1381118c25d525bf0fdb28ba49d302ad.nc:   0%|          | 0.00/12.2M [00:00<?, ?B/s]"
      ]
     },
     "metadata": {},
     "output_type": "display_data"
    },
    {
     "name": "stdout",
     "output_type": "stream",
     "text": [
      "✅ Downloaded: /glade/work/milesep/era5_cds/era5_pl_2019_11.nc\n"
     ]
    },
    {
     "name": "stderr",
     "output_type": "stream",
     "text": [
      "2025-08-17 14:59:40,660 WARNING [2025-08-17T20:59:40.584484] You are using a deprecated API endpoint. If you are using cdsapi, please upgrade to the latest version.\n",
      "2025-08-17 14:59:40,660 INFO Request ID is a039889a-4ccb-4fa2-b88b-0c0585a9aa98\n",
      "2025-08-17 14:59:40,831 INFO status has been updated to accepted\n",
      "2025-08-17 14:59:48,439 INFO status has been updated to running\n",
      "2025-08-17 15:00:13,283 INFO status has been updated to successful\n"
     ]
    },
    {
     "data": {
      "application/vnd.jupyter.widget-view+json": {
       "model_id": "",
       "version_major": 2,
       "version_minor": 0
      },
      "text/plain": [
       "93f0c580688799dbd755eecbfc6d3cca.zip:   0%|          | 0.00/1.59M [00:00<?, ?B/s]"
      ]
     },
     "metadata": {},
     "output_type": "display_data"
    },
    {
     "name": "stdout",
     "output_type": "stream",
     "text": [
      "✅ Downloaded: /glade/work/milesep/era5_cds/era5_sfc_2019_11.nc\n",
      "2019 12 3\n"
     ]
    },
    {
     "name": "stderr",
     "output_type": "stream",
     "text": [
      "2025-08-17 15:00:16,062 WARNING [2025-08-17T21:00:15.988258] You are using a deprecated API endpoint. If you are using cdsapi, please upgrade to the latest version.\n",
      "2025-08-17 15:00:16,063 INFO Request ID is 708cc30d-3a01-4038-9c93-5f1746ec56e5\n",
      "2025-08-17 15:00:16,220 INFO status has been updated to accepted\n",
      "2025-08-17 15:00:23,887 INFO status has been updated to running\n",
      "2025-08-17 15:01:05,718 INFO status has been updated to successful\n"
     ]
    },
    {
     "data": {
      "application/vnd.jupyter.widget-view+json": {
       "model_id": "",
       "version_major": 2,
       "version_minor": 0
      },
      "text/plain": [
       "ea01dbe1613f132c53be6b5d9d477307.nc:   0%|          | 0.00/18.2M [00:00<?, ?B/s]"
      ]
     },
     "metadata": {},
     "output_type": "display_data"
    },
    {
     "name": "stdout",
     "output_type": "stream",
     "text": [
      "✅ Downloaded: /glade/work/milesep/era5_cds/era5_pl_2019_12.nc\n"
     ]
    },
    {
     "name": "stderr",
     "output_type": "stream",
     "text": [
      "2025-08-17 15:01:10,082 WARNING [2025-08-17T21:01:10.006591] You are using a deprecated API endpoint. If you are using cdsapi, please upgrade to the latest version.\n",
      "2025-08-17 15:01:10,083 INFO Request ID is a6999281-d879-46e6-bfe7-4c993dd310e1\n",
      "2025-08-17 15:01:10,283 INFO status has been updated to accepted\n",
      "2025-08-17 15:01:17,909 INFO status has been updated to running\n",
      "2025-08-17 15:01:23,148 INFO status has been updated to successful\n"
     ]
    },
    {
     "data": {
      "application/vnd.jupyter.widget-view+json": {
       "model_id": "",
       "version_major": 2,
       "version_minor": 0
      },
      "text/plain": [
       "def04f48c7feae981477ab29a4e94b88.zip:   0%|          | 0.00/2.34M [00:00<?, ?B/s]"
      ]
     },
     "metadata": {},
     "output_type": "display_data"
    },
    {
     "name": "stdout",
     "output_type": "stream",
     "text": [
      "✅ Downloaded: /glade/work/milesep/era5_cds/era5_sfc_2019_12.nc\n",
      "2020 1 4\n"
     ]
    },
    {
     "name": "stderr",
     "output_type": "stream",
     "text": [
      "2025-08-17 15:01:25,979 WARNING [2025-08-17T21:01:25.905070] You are using a deprecated API endpoint. If you are using cdsapi, please upgrade to the latest version.\n",
      "2025-08-17 15:01:25,980 INFO Request ID is 16828347-a153-453d-bb9e-d8e9e9407747\n",
      "2025-08-17 15:01:26,140 INFO status has been updated to accepted\n",
      "2025-08-17 15:01:46,751 INFO status has been updated to running\n",
      "2025-08-17 15:03:20,221 INFO status has been updated to successful\n"
     ]
    },
    {
     "data": {
      "application/vnd.jupyter.widget-view+json": {
       "model_id": "",
       "version_major": 2,
       "version_minor": 0
      },
      "text/plain": [
       "652323152f530d96b841b6c12c7856fb.nc:   0%|          | 0.00/24.4M [00:00<?, ?B/s]"
      ]
     },
     "metadata": {},
     "output_type": "display_data"
    },
    {
     "name": "stdout",
     "output_type": "stream",
     "text": [
      "✅ Downloaded: /glade/work/milesep/era5_cds/era5_pl_2020_01.nc\n"
     ]
    },
    {
     "name": "stderr",
     "output_type": "stream",
     "text": [
      "2025-08-17 15:03:24,952 WARNING [2025-08-17T21:03:24.871116] You are using a deprecated API endpoint. If you are using cdsapi, please upgrade to the latest version.\n",
      "2025-08-17 15:03:24,953 INFO Request ID is f1435498-7388-4fdd-b7a2-bfa79a799fda\n",
      "2025-08-17 15:03:25,125 INFO status has been updated to accepted\n",
      "2025-08-17 15:03:38,170 INFO status has been updated to running\n",
      "2025-08-17 15:03:45,932 INFO status has been updated to successful\n"
     ]
    },
    {
     "data": {
      "application/vnd.jupyter.widget-view+json": {
       "model_id": "",
       "version_major": 2,
       "version_minor": 0
      },
      "text/plain": [
       "5c15abe9fdaaeb6fff41fa3053c032af.zip:   0%|          | 0.00/3.08M [00:00<?, ?B/s]"
      ]
     },
     "metadata": {},
     "output_type": "display_data"
    },
    {
     "name": "stdout",
     "output_type": "stream",
     "text": [
      "✅ Downloaded: /glade/work/milesep/era5_cds/era5_sfc_2020_01.nc\n",
      "2020 2 6\n"
     ]
    },
    {
     "name": "stderr",
     "output_type": "stream",
     "text": [
      "2025-08-17 15:03:48,725 WARNING [2025-08-17T21:03:48.649060] You are using a deprecated API endpoint. If you are using cdsapi, please upgrade to the latest version.\n",
      "2025-08-17 15:03:48,726 INFO Request ID is ef27dee3-ebf8-4f47-a2c1-885353bec6d0\n",
      "2025-08-17 15:03:49,034 INFO status has been updated to accepted\n",
      "2025-08-17 15:03:56,642 INFO status has been updated to running\n",
      "2025-08-17 15:05:42,859 INFO status has been updated to successful\n"
     ]
    },
    {
     "data": {
      "application/vnd.jupyter.widget-view+json": {
       "model_id": "",
       "version_major": 2,
       "version_minor": 0
      },
      "text/plain": [
       "94544e62ae0bae6bea630cf39107183d.nc:   0%|          | 0.00/36.7M [00:00<?, ?B/s]"
      ]
     },
     "metadata": {},
     "output_type": "display_data"
    },
    {
     "name": "stdout",
     "output_type": "stream",
     "text": [
      "✅ Downloaded: /glade/work/milesep/era5_cds/era5_pl_2020_02.nc\n"
     ]
    },
    {
     "name": "stderr",
     "output_type": "stream",
     "text": [
      "2025-08-17 15:05:55,568 WARNING [2025-08-17T21:05:55.492255] You are using a deprecated API endpoint. If you are using cdsapi, please upgrade to the latest version.\n",
      "2025-08-17 15:05:55,569 INFO Request ID is 075f16ba-139c-4d5c-b2dc-62197b7039e9\n",
      "2025-08-17 15:05:55,751 INFO status has been updated to accepted\n",
      "2025-08-17 15:06:08,617 INFO status has been updated to running\n",
      "2025-08-17 15:06:16,383 INFO status has been updated to successful\n"
     ]
    },
    {
     "data": {
      "application/vnd.jupyter.widget-view+json": {
       "model_id": "",
       "version_major": 2,
       "version_minor": 0
      },
      "text/plain": [
       "947f8bcaf10f157b4a1783a8fe786dc0.zip:   0%|          | 0.00/4.59M [00:00<?, ?B/s]"
      ]
     },
     "metadata": {},
     "output_type": "display_data"
    },
    {
     "name": "stdout",
     "output_type": "stream",
     "text": [
      "✅ Downloaded: /glade/work/milesep/era5_cds/era5_sfc_2020_02.nc\n",
      "2020 3 18\n"
     ]
    },
    {
     "name": "stderr",
     "output_type": "stream",
     "text": [
      "2025-08-17 15:06:20,573 WARNING [2025-08-17T21:06:20.486736] You are using a deprecated API endpoint. If you are using cdsapi, please upgrade to the latest version.\n",
      "2025-08-17 15:06:20,574 INFO Request ID is 4e3510d0-6190-46be-98d4-cd2d0f02df89\n",
      "2025-08-17 15:06:20,728 INFO status has been updated to accepted\n",
      "2025-08-17 15:06:33,683 INFO status has been updated to running\n",
      "2025-08-17 15:09:12,821 INFO status has been updated to successful\n"
     ]
    },
    {
     "data": {
      "application/vnd.jupyter.widget-view+json": {
       "model_id": "",
       "version_major": 2,
       "version_minor": 0
      },
      "text/plain": [
       "3ac7009bfaae6f12b30b58b296ab91d1.nc:   0%|          | 0.00/117M [00:00<?, ?B/s]"
      ]
     },
     "metadata": {},
     "output_type": "display_data"
    },
    {
     "name": "stdout",
     "output_type": "stream",
     "text": [
      "✅ Downloaded: /glade/work/milesep/era5_cds/era5_pl_2020_03.nc\n"
     ]
    },
    {
     "name": "stderr",
     "output_type": "stream",
     "text": [
      "2025-08-17 15:09:29,120 WARNING [2025-08-17T21:09:29.045298] You are using a deprecated API endpoint. If you are using cdsapi, please upgrade to the latest version.\n",
      "2025-08-17 15:09:29,121 INFO Request ID is 32cd4718-1031-41a5-814f-00bab1d1ab58\n",
      "2025-08-17 15:09:29,298 INFO status has been updated to accepted\n",
      "2025-08-17 15:09:42,148 INFO status has been updated to running\n",
      "2025-08-17 15:10:18,721 INFO status has been updated to successful\n"
     ]
    },
    {
     "data": {
      "application/vnd.jupyter.widget-view+json": {
       "model_id": "",
       "version_major": 2,
       "version_minor": 0
      },
      "text/plain": [
       "8e1e6bf691a690c5b06de04a3907a85a.zip:   0%|          | 0.00/13.8M [00:00<?, ?B/s]"
      ]
     },
     "metadata": {},
     "output_type": "display_data"
    },
    {
     "name": "stdout",
     "output_type": "stream",
     "text": [
      "✅ Downloaded: /glade/work/milesep/era5_cds/era5_sfc_2020_03.nc\n",
      "2020 4 19\n"
     ]
    },
    {
     "name": "stderr",
     "output_type": "stream",
     "text": [
      "2025-08-17 15:10:24,598 WARNING [2025-08-17T21:10:24.521226] You are using a deprecated API endpoint. If you are using cdsapi, please upgrade to the latest version.\n",
      "2025-08-17 15:10:24,599 INFO Request ID is a9ff1364-747d-46a8-a912-0882b8bbb1a0\n",
      "2025-08-17 15:10:24,756 INFO status has been updated to accepted\n",
      "2025-08-17 15:10:32,378 INFO status has been updated to running\n",
      "2025-08-17 15:13:17,188 INFO status has been updated to successful\n"
     ]
    },
    {
     "data": {
      "application/vnd.jupyter.widget-view+json": {
       "model_id": "",
       "version_major": 2,
       "version_minor": 0
      },
      "text/plain": [
       "d3d7dbb3248cc58725ebad2520f464f4.nc:   0%|          | 0.00/125M [00:00<?, ?B/s]"
      ]
     },
     "metadata": {},
     "output_type": "display_data"
    },
    {
     "name": "stdout",
     "output_type": "stream",
     "text": [
      "✅ Downloaded: /glade/work/milesep/era5_cds/era5_pl_2020_04.nc\n"
     ]
    },
    {
     "name": "stderr",
     "output_type": "stream",
     "text": [
      "2025-08-17 15:13:28,020 WARNING [2025-08-17T21:13:27.946616] You are using a deprecated API endpoint. If you are using cdsapi, please upgrade to the latest version.\n",
      "2025-08-17 15:13:28,021 INFO Request ID is 2b175e12-6cc8-4419-95fd-811630a2c246\n",
      "2025-08-17 15:13:28,184 INFO status has been updated to accepted\n",
      "2025-08-17 15:13:36,247 INFO status has been updated to running\n",
      "2025-08-17 15:14:43,849 INFO status has been updated to successful\n"
     ]
    },
    {
     "data": {
      "application/vnd.jupyter.widget-view+json": {
       "model_id": "",
       "version_major": 2,
       "version_minor": 0
      },
      "text/plain": [
       "ddcfbc26d5c2622a1e4fafd606dbc850.zip:   0%|          | 0.00/14.7M [00:00<?, ?B/s]"
      ]
     },
     "metadata": {},
     "output_type": "display_data"
    },
    {
     "name": "stdout",
     "output_type": "stream",
     "text": [
      "✅ Downloaded: /glade/work/milesep/era5_cds/era5_sfc_2020_04.nc\n",
      "2020 5 21\n"
     ]
    },
    {
     "name": "stderr",
     "output_type": "stream",
     "text": [
      "2025-08-17 15:14:47,699 WARNING [2025-08-17T21:14:47.626272] You are using a deprecated API endpoint. If you are using cdsapi, please upgrade to the latest version.\n",
      "2025-08-17 15:14:47,700 INFO Request ID is da25d67b-d9b6-4ec8-bb99-5bc6236cb03d\n",
      "2025-08-17 15:14:47,869 INFO status has been updated to accepted\n",
      "2025-08-17 15:14:55,609 INFO status has been updated to running\n",
      "2025-08-17 15:17:41,172 INFO status has been updated to successful\n"
     ]
    },
    {
     "data": {
      "application/vnd.jupyter.widget-view+json": {
       "model_id": "",
       "version_major": 2,
       "version_minor": 0
      },
      "text/plain": [
       "7f52149d04518d05fdaf7e05f6155569.nc:   0%|          | 0.00/141M [00:00<?, ?B/s]"
      ]
     },
     "metadata": {},
     "output_type": "display_data"
    },
    {
     "name": "stdout",
     "output_type": "stream",
     "text": [
      "✅ Downloaded: /glade/work/milesep/era5_cds/era5_pl_2020_05.nc\n"
     ]
    },
    {
     "name": "stderr",
     "output_type": "stream",
     "text": [
      "2025-08-17 15:20:17,480 WARNING [2025-08-17T21:20:17.409613] You are using a deprecated API endpoint. If you are using cdsapi, please upgrade to the latest version.\n",
      "2025-08-17 15:20:17,481 INFO Request ID is d26b2402-1994-429e-b0a2-b2f8590c1d2f\n",
      "2025-08-17 15:20:17,653 INFO status has been updated to accepted\n",
      "2025-08-17 15:20:30,540 INFO status has been updated to running\n",
      "2025-08-17 15:20:49,869 INFO status has been updated to accepted\n",
      "2025-08-17 15:21:07,110 INFO status has been updated to running\n",
      "2025-08-17 15:21:32,907 INFO status has been updated to successful\n"
     ]
    },
    {
     "data": {
      "application/vnd.jupyter.widget-view+json": {
       "model_id": "",
       "version_major": 2,
       "version_minor": 0
      },
      "text/plain": [
       "49d067e8e6fc008d760239b8b991f4a8.zip:   0%|          | 0.00/16.3M [00:00<?, ?B/s]"
      ]
     },
     "metadata": {},
     "output_type": "display_data"
    },
    {
     "name": "stdout",
     "output_type": "stream",
     "text": [
      "✅ Downloaded: /glade/work/milesep/era5_cds/era5_sfc_2020_05.nc\n",
      "2020 6 22\n"
     ]
    },
    {
     "name": "stderr",
     "output_type": "stream",
     "text": [
      "2025-08-17 15:21:36,603 WARNING [2025-08-17T21:21:36.529222] You are using a deprecated API endpoint. If you are using cdsapi, please upgrade to the latest version.\n",
      "2025-08-17 15:21:36,603 INFO Request ID is 3cf58a2c-70e1-48e3-a56f-421bb78fa354\n",
      "2025-08-17 15:21:36,772 INFO status has been updated to accepted\n",
      "2025-08-17 15:21:44,366 INFO status has been updated to running\n",
      "2025-08-17 15:25:55,932 INFO status has been updated to successful\n"
     ]
    },
    {
     "data": {
      "application/vnd.jupyter.widget-view+json": {
       "model_id": "",
       "version_major": 2,
       "version_minor": 0
      },
      "text/plain": [
       "7feb81bbbf14ac51f0f3106b7334afea.nc:   0%|          | 0.00/147M [00:00<?, ?B/s]"
      ]
     },
     "metadata": {},
     "output_type": "display_data"
    },
    {
     "name": "stdout",
     "output_type": "stream",
     "text": [
      "✅ Downloaded: /glade/work/milesep/era5_cds/era5_pl_2020_06.nc\n"
     ]
    },
    {
     "name": "stderr",
     "output_type": "stream",
     "text": [
      "2025-08-17 15:26:30,669 WARNING [2025-08-17T21:26:30.593704] You are using a deprecated API endpoint. If you are using cdsapi, please upgrade to the latest version.\n",
      "2025-08-17 15:26:30,669 INFO Request ID is 904ec2f8-75b5-4aca-9d88-a4d1e603290f\n",
      "2025-08-17 15:26:30,990 INFO status has been updated to accepted\n",
      "2025-08-17 15:26:43,885 INFO status has been updated to running\n",
      "2025-08-17 15:27:20,461 INFO status has been updated to successful\n"
     ]
    },
    {
     "data": {
      "application/vnd.jupyter.widget-view+json": {
       "model_id": "",
       "version_major": 2,
       "version_minor": 0
      },
      "text/plain": [
       "b37379f8e6e1d96f0675462781d9dccc.zip:   0%|          | 0.00/17.0M [00:00<?, ?B/s]"
      ]
     },
     "metadata": {},
     "output_type": "display_data"
    },
    {
     "name": "stdout",
     "output_type": "stream",
     "text": [
      "✅ Downloaded: /glade/work/milesep/era5_cds/era5_sfc_2020_06.nc\n",
      "2020 7 24\n"
     ]
    },
    {
     "name": "stderr",
     "output_type": "stream",
     "text": [
      "2025-08-17 15:27:31,764 WARNING [2025-08-17T21:27:31.687863] You are using a deprecated API endpoint. If you are using cdsapi, please upgrade to the latest version.\n",
      "2025-08-17 15:27:31,765 INFO Request ID is 7f66b69c-6617-4211-952d-9d1c9c3e8bf6\n",
      "2025-08-17 15:27:31,922 INFO status has been updated to accepted\n",
      "2025-08-17 15:27:39,614 INFO status has been updated to running\n",
      "2025-08-17 15:31:51,195 INFO status has been updated to successful\n"
     ]
    },
    {
     "data": {
      "application/vnd.jupyter.widget-view+json": {
       "model_id": "",
       "version_major": 2,
       "version_minor": 0
      },
      "text/plain": [
       "2cb8e60e3d569dbb2b0b291be7104a03.nc:   0%|          | 0.00/160M [00:00<?, ?B/s]"
      ]
     },
     "metadata": {},
     "output_type": "display_data"
    },
    {
     "name": "stdout",
     "output_type": "stream",
     "text": [
      "✅ Downloaded: /glade/work/milesep/era5_cds/era5_pl_2020_07.nc\n"
     ]
    },
    {
     "name": "stderr",
     "output_type": "stream",
     "text": [
      "2025-08-17 15:32:53,943 WARNING [2025-08-17T21:32:53.867072] You are using a deprecated API endpoint. If you are using cdsapi, please upgrade to the latest version.\n",
      "2025-08-17 15:32:53,943 INFO Request ID is 96681bc0-d6f1-4ec2-ae6d-d517494c5e42\n",
      "2025-08-17 15:32:54,120 INFO status has been updated to accepted\n",
      "2025-08-17 15:33:07,023 INFO status has been updated to running\n",
      "2025-08-17 15:33:43,609 INFO status has been updated to successful\n"
     ]
    },
    {
     "data": {
      "application/vnd.jupyter.widget-view+json": {
       "model_id": "",
       "version_major": 2,
       "version_minor": 0
      },
      "text/plain": [
       "764817b78bffacf54024340daac78426.zip:   0%|          | 0.00/18.4M [00:00<?, ?B/s]"
      ]
     },
     "metadata": {},
     "output_type": "display_data"
    },
    {
     "name": "stdout",
     "output_type": "stream",
     "text": [
      "✅ Downloaded: /glade/work/milesep/era5_cds/era5_sfc_2020_07.nc\n",
      "2020 8 23\n"
     ]
    },
    {
     "name": "stderr",
     "output_type": "stream",
     "text": [
      "2025-08-17 15:33:47,240 WARNING [2025-08-17T21:33:47.164678] You are using a deprecated API endpoint. If you are using cdsapi, please upgrade to the latest version.\n",
      "2025-08-17 15:33:47,241 INFO Request ID is 49e423f3-4c15-47e4-91fd-735efc53f481\n",
      "2025-08-17 15:33:47,417 INFO status has been updated to accepted\n",
      "2025-08-17 15:33:55,016 INFO status has been updated to running\n",
      "2025-08-17 15:38:06,696 INFO status has been updated to successful\n"
     ]
    },
    {
     "data": {
      "application/vnd.jupyter.widget-view+json": {
       "model_id": "",
       "version_major": 2,
       "version_minor": 0
      },
      "text/plain": [
       "3fe1bf6f2f8bbf7f63a0b0193a5474e0.nc:   0%|          | 0.00/153M [00:00<?, ?B/s]"
      ]
     },
     "metadata": {},
     "output_type": "display_data"
    },
    {
     "name": "stdout",
     "output_type": "stream",
     "text": [
      "✅ Downloaded: /glade/work/milesep/era5_cds/era5_pl_2020_08.nc\n"
     ]
    },
    {
     "name": "stderr",
     "output_type": "stream",
     "text": [
      "2025-08-17 15:39:01,483 WARNING [2025-08-17T21:39:01.408731] You are using a deprecated API endpoint. If you are using cdsapi, please upgrade to the latest version.\n",
      "2025-08-17 15:39:01,484 INFO Request ID is 282b838a-d24a-410f-be12-cd6870fd2c69\n",
      "2025-08-17 15:39:01,669 INFO status has been updated to accepted\n",
      "2025-08-17 15:39:09,328 INFO status has been updated to running\n",
      "2025-08-17 15:39:33,902 INFO status has been updated to successful\n"
     ]
    },
    {
     "data": {
      "application/vnd.jupyter.widget-view+json": {
       "model_id": "",
       "version_major": 2,
       "version_minor": 0
      },
      "text/plain": [
       "3f4a086c2c6380557ea9766f07b10159.zip:   0%|          | 0.00/17.7M [00:00<?, ?B/s]"
      ]
     },
     "metadata": {},
     "output_type": "display_data"
    },
    {
     "name": "stdout",
     "output_type": "stream",
     "text": [
      "✅ Downloaded: /glade/work/milesep/era5_cds/era5_sfc_2020_08.nc\n",
      "2020 9 8\n"
     ]
    },
    {
     "name": "stderr",
     "output_type": "stream",
     "text": [
      "2025-08-17 15:39:37,695 WARNING [2025-08-17T21:39:37.621054] You are using a deprecated API endpoint. If you are using cdsapi, please upgrade to the latest version.\n",
      "2025-08-17 15:39:37,695 INFO Request ID is 70ceba02-a284-401f-91b7-b2a08a5c034a\n",
      "2025-08-17 15:39:37,878 INFO status has been updated to accepted\n",
      "2025-08-17 15:39:58,476 INFO status has been updated to running\n",
      "2025-08-17 15:41:31,723 INFO status has been updated to successful\n"
     ]
    },
    {
     "data": {
      "application/vnd.jupyter.widget-view+json": {
       "model_id": "",
       "version_major": 2,
       "version_minor": 0
      },
      "text/plain": [
       "a294901364fe374d1cf67641663c2503.nc:   0%|          | 0.00/47.9M [00:00<?, ?B/s]"
      ]
     },
     "metadata": {},
     "output_type": "display_data"
    },
    {
     "name": "stdout",
     "output_type": "stream",
     "text": [
      "✅ Downloaded: /glade/work/milesep/era5_cds/era5_pl_2020_09.nc\n"
     ]
    },
    {
     "name": "stderr",
     "output_type": "stream",
     "text": [
      "2025-08-17 15:41:39,918 WARNING [2025-08-17T21:41:39.844919] You are using a deprecated API endpoint. If you are using cdsapi, please upgrade to the latest version.\n",
      "2025-08-17 15:41:39,919 INFO Request ID is 0e8e69da-8f99-40cf-910b-814d6384671f\n",
      "2025-08-17 15:41:40,094 INFO status has been updated to accepted\n",
      "2025-08-17 15:41:52,985 INFO status has been updated to running\n",
      "2025-08-17 15:42:12,296 INFO status has been updated to successful\n"
     ]
    },
    {
     "data": {
      "application/vnd.jupyter.widget-view+json": {
       "model_id": "",
       "version_major": 2,
       "version_minor": 0
      },
      "text/plain": [
       "153bac33b9ee7f496e29ee78e6723130.zip:   0%|          | 0.00/6.12M [00:00<?, ?B/s]"
      ]
     },
     "metadata": {},
     "output_type": "display_data"
    },
    {
     "name": "stdout",
     "output_type": "stream",
     "text": [
      "✅ Downloaded: /glade/work/milesep/era5_cds/era5_sfc_2020_09.nc\n",
      "2020 10 6\n"
     ]
    },
    {
     "name": "stderr",
     "output_type": "stream",
     "text": [
      "2025-08-17 15:42:16,107 WARNING [2025-08-17T21:42:16.033007] You are using a deprecated API endpoint. If you are using cdsapi, please upgrade to the latest version.\n",
      "2025-08-17 15:42:16,108 INFO Request ID is c6b489d6-83c5-4854-a1a9-3bac5827ad8c\n",
      "2025-08-17 15:42:16,318 INFO status has been updated to accepted\n",
      "2025-08-17 15:42:29,194 INFO status has been updated to running\n",
      "2025-08-17 15:43:05,782 INFO status has been updated to successful\n"
     ]
    },
    {
     "name": "stdout",
     "output_type": "stream",
     "text": [
      "⚠️ Attempt 1 failed for /glade/work/milesep/era5_cds/era5_pl_2020_10.nc: Result not ready, job is running\n",
      "Retrying in 30s...\n"
     ]
    },
    {
     "name": "stderr",
     "output_type": "stream",
     "text": [
      "2025-08-17 15:43:36,809 WARNING [2025-08-17T21:43:36.708910] You are using a deprecated API endpoint. If you are using cdsapi, please upgrade to the latest version.\n",
      "2025-08-17 15:43:36,809 INFO Request ID is dac72113-1bb0-47d6-9a90-e8b9f162bd3e\n",
      "2025-08-17 15:43:37,018 INFO status has been updated to accepted\n",
      "2025-08-17 15:43:44,693 INFO status has been updated to running\n",
      "2025-08-17 15:43:49,912 INFO status has been updated to successful\n"
     ]
    },
    {
     "data": {
      "application/vnd.jupyter.widget-view+json": {
       "model_id": "",
       "version_major": 2,
       "version_minor": 0
      },
      "text/plain": [
       "39cd4c1f36c47c697bd3fe9d044ed9a9.nc:   0%|          | 0.00/36.3M [00:00<?, ?B/s]"
      ]
     },
     "metadata": {},
     "output_type": "display_data"
    },
    {
     "name": "stdout",
     "output_type": "stream",
     "text": [
      "✅ Downloaded: /glade/work/milesep/era5_cds/era5_pl_2020_10.nc\n"
     ]
    },
    {
     "name": "stderr",
     "output_type": "stream",
     "text": [
      "2025-08-17 15:43:55,678 WARNING [2025-08-17T21:43:55.604182] You are using a deprecated API endpoint. If you are using cdsapi, please upgrade to the latest version.\n",
      "2025-08-17 15:43:55,678 INFO Request ID is c2502b43-ac97-4c8e-ae6f-1846e0bd0448\n",
      "2025-08-17 15:43:55,879 INFO status has been updated to accepted\n",
      "2025-08-17 15:44:03,524 INFO status has been updated to running\n",
      "2025-08-17 15:44:16,740 INFO status has been updated to successful\n"
     ]
    },
    {
     "data": {
      "application/vnd.jupyter.widget-view+json": {
       "model_id": "",
       "version_major": 2,
       "version_minor": 0
      },
      "text/plain": [
       "6a6b11e3ed5b0fe190f6bd11ae8c3e40.zip:   0%|          | 0.00/4.59M [00:00<?, ?B/s]"
      ]
     },
     "metadata": {},
     "output_type": "display_data"
    },
    {
     "name": "stdout",
     "output_type": "stream",
     "text": [
      "✅ Downloaded: /glade/work/milesep/era5_cds/era5_sfc_2020_10.nc\n",
      "2020 11 5\n"
     ]
    },
    {
     "name": "stderr",
     "output_type": "stream",
     "text": [
      "2025-08-17 15:44:19,686 WARNING [2025-08-17T21:44:19.609695] You are using a deprecated API endpoint. If you are using cdsapi, please upgrade to the latest version.\n",
      "2025-08-17 15:44:19,686 INFO Request ID is 80a3405c-7851-4feb-9a41-b7ee69e91591\n",
      "2025-08-17 15:44:19,854 INFO status has been updated to accepted\n",
      "2025-08-17 15:44:32,712 INFO status has been updated to running\n",
      "2025-08-17 15:45:09,406 INFO status has been updated to successful\n"
     ]
    },
    {
     "data": {
      "application/vnd.jupyter.widget-view+json": {
       "model_id": "",
       "version_major": 2,
       "version_minor": 0
      },
      "text/plain": [
       "b3507b263c68cdbdb946e1c84cfe1ece.nc:   0%|          | 0.00/30.3M [00:00<?, ?B/s]"
      ]
     },
     "metadata": {},
     "output_type": "display_data"
    },
    {
     "name": "stdout",
     "output_type": "stream",
     "text": [
      "✅ Downloaded: /glade/work/milesep/era5_cds/era5_pl_2020_11.nc\n"
     ]
    },
    {
     "name": "stderr",
     "output_type": "stream",
     "text": [
      "2025-08-17 15:45:14,969 WARNING [2025-08-17T21:45:14.893528] You are using a deprecated API endpoint. If you are using cdsapi, please upgrade to the latest version.\n",
      "2025-08-17 15:45:14,970 INFO Request ID is 90ad1998-c358-4bfb-929f-e020ea627bc3\n",
      "2025-08-17 15:45:15,142 INFO status has been updated to accepted\n",
      "2025-08-17 15:45:22,786 INFO status has been updated to running\n",
      "2025-08-17 15:45:35,801 INFO status has been updated to successful\n"
     ]
    },
    {
     "data": {
      "application/vnd.jupyter.widget-view+json": {
       "model_id": "",
       "version_major": 2,
       "version_minor": 0
      },
      "text/plain": [
       "b1f4b21813b2f0ecb1e5d0489197d316.zip:   0%|          | 0.00/3.81M [00:00<?, ?B/s]"
      ]
     },
     "metadata": {},
     "output_type": "display_data"
    },
    {
     "name": "stdout",
     "output_type": "stream",
     "text": [
      "✅ Downloaded: /glade/work/milesep/era5_cds/era5_sfc_2020_11.nc\n",
      "2020 12 4\n"
     ]
    },
    {
     "name": "stderr",
     "output_type": "stream",
     "text": [
      "2025-08-17 15:45:38,663 WARNING [2025-08-17T21:45:38.587727] You are using a deprecated API endpoint. If you are using cdsapi, please upgrade to the latest version.\n",
      "2025-08-17 15:45:38,663 INFO Request ID is ecaab713-cb79-43dc-be34-ada7e04f8f9f\n",
      "2025-08-17 15:45:38,834 INFO status has been updated to accepted\n",
      "2025-08-17 15:45:46,458 INFO status has been updated to running\n",
      "2025-08-17 15:46:28,258 INFO status has been updated to successful\n"
     ]
    },
    {
     "name": "stdout",
     "output_type": "stream",
     "text": [
      "⚠️ Attempt 1 failed for /glade/work/milesep/era5_cds/era5_pl_2020_12.nc: Result not ready, job is running\n",
      "Retrying in 30s...\n"
     ]
    },
    {
     "name": "stderr",
     "output_type": "stream",
     "text": [
      "2025-08-17 15:46:58,660 WARNING [2025-08-17T21:46:58.585563] You are using a deprecated API endpoint. If you are using cdsapi, please upgrade to the latest version.\n",
      "2025-08-17 15:46:58,661 INFO Request ID is ce886067-2931-45c8-b182-3fe8d641c0a0\n",
      "2025-08-17 15:46:58,951 INFO status has been updated to accepted\n",
      "2025-08-17 15:47:06,805 INFO status has been updated to successful\n"
     ]
    },
    {
     "data": {
      "application/vnd.jupyter.widget-view+json": {
       "model_id": "",
       "version_major": 2,
       "version_minor": 0
      },
      "text/plain": [
       "194d65f9fedad1acf3481633c1c0aa56.nc:   0%|          | 0.00/24.5M [00:00<?, ?B/s]"
      ]
     },
     "metadata": {},
     "output_type": "display_data"
    },
    {
     "name": "stdout",
     "output_type": "stream",
     "text": [
      "✅ Downloaded: /glade/work/milesep/era5_cds/era5_pl_2020_12.nc\n"
     ]
    },
    {
     "name": "stderr",
     "output_type": "stream",
     "text": [
      "2025-08-17 15:47:12,311 WARNING [2025-08-17T21:47:12.234926] You are using a deprecated API endpoint. If you are using cdsapi, please upgrade to the latest version.\n",
      "2025-08-17 15:47:12,311 INFO Request ID is 316dd358-0213-40f2-94a0-dba4788abe1e\n",
      "2025-08-17 15:47:12,474 INFO status has been updated to accepted\n",
      "2025-08-17 15:47:20,097 INFO status has been updated to running\n",
      "2025-08-17 15:47:33,066 INFO status has been updated to successful\n"
     ]
    },
    {
     "data": {
      "application/vnd.jupyter.widget-view+json": {
       "model_id": "",
       "version_major": 2,
       "version_minor": 0
      },
      "text/plain": [
       "e2243c332af25a4190bc42d8c8594d39.zip:   0%|          | 0.00/3.10M [00:00<?, ?B/s]"
      ]
     },
     "metadata": {},
     "output_type": "display_data"
    },
    {
     "name": "stdout",
     "output_type": "stream",
     "text": [
      "✅ Downloaded: /glade/work/milesep/era5_cds/era5_sfc_2020_12.nc\n",
      "2021 1 3\n"
     ]
    },
    {
     "name": "stderr",
     "output_type": "stream",
     "text": [
      "2025-08-17 15:47:35,919 WARNING [2025-08-17T21:47:35.844440] You are using a deprecated API endpoint. If you are using cdsapi, please upgrade to the latest version.\n",
      "2025-08-17 15:47:35,919 INFO Request ID is 5e3aed83-824a-4880-8c38-070c98ef1815\n",
      "2025-08-17 15:47:36,077 INFO status has been updated to accepted\n",
      "2025-08-17 15:47:48,901 INFO status has been updated to running\n",
      "2025-08-17 15:48:25,485 INFO status has been updated to successful\n"
     ]
    },
    {
     "data": {
      "application/vnd.jupyter.widget-view+json": {
       "model_id": "",
       "version_major": 2,
       "version_minor": 0
      },
      "text/plain": [
       "a42813beee4bcde5c7a520b5c331a50d.nc:   0%|          | 0.00/18.3M [00:00<?, ?B/s]"
      ]
     },
     "metadata": {},
     "output_type": "display_data"
    },
    {
     "name": "stdout",
     "output_type": "stream",
     "text": [
      "✅ Downloaded: /glade/work/milesep/era5_cds/era5_pl_2021_01.nc\n"
     ]
    },
    {
     "name": "stderr",
     "output_type": "stream",
     "text": [
      "2025-08-17 15:48:29,579 WARNING [2025-08-17T21:48:29.505544] You are using a deprecated API endpoint. If you are using cdsapi, please upgrade to the latest version.\n",
      "2025-08-17 15:48:29,580 INFO Request ID is a44f2dc1-2e2f-423a-ae4f-b0c4c125df63\n",
      "2025-08-17 15:48:29,749 INFO status has been updated to accepted\n",
      "2025-08-17 15:48:42,621 INFO status has been updated to running\n",
      "2025-08-17 15:48:50,410 INFO status has been updated to successful\n"
     ]
    },
    {
     "data": {
      "application/vnd.jupyter.widget-view+json": {
       "model_id": "",
       "version_major": 2,
       "version_minor": 0
      },
      "text/plain": [
       "f0df41460e33a34cbd4e7fad836c21b3.zip:   0%|          | 0.00/2.35M [00:00<?, ?B/s]"
      ]
     },
     "metadata": {},
     "output_type": "display_data"
    },
    {
     "name": "stdout",
     "output_type": "stream",
     "text": [
      "✅ Downloaded: /glade/work/milesep/era5_cds/era5_sfc_2021_01.nc\n",
      "2021 2 5\n"
     ]
    },
    {
     "name": "stderr",
     "output_type": "stream",
     "text": [
      "2025-08-17 15:48:54,360 WARNING [2025-08-17T21:48:54.286866] You are using a deprecated API endpoint. If you are using cdsapi, please upgrade to the latest version.\n",
      "2025-08-17 15:48:54,361 INFO Request ID is 42aca91d-a35e-49da-bb68-ef7b186272e6\n",
      "2025-08-17 15:48:54,534 INFO status has been updated to accepted\n",
      "2025-08-17 15:49:02,162 INFO status has been updated to running\n",
      "2025-08-17 15:49:43,948 INFO status has been updated to successful\n"
     ]
    },
    {
     "data": {
      "application/vnd.jupyter.widget-view+json": {
       "model_id": "",
       "version_major": 2,
       "version_minor": 0
      },
      "text/plain": [
       "40146fb730b233f8369dc4b6a5f5d2d6.nc:   0%|          | 0.00/30.2M [00:00<?, ?B/s]"
      ]
     },
     "metadata": {},
     "output_type": "display_data"
    },
    {
     "name": "stdout",
     "output_type": "stream",
     "text": [
      "✅ Downloaded: /glade/work/milesep/era5_cds/era5_pl_2021_02.nc\n"
     ]
    },
    {
     "name": "stderr",
     "output_type": "stream",
     "text": [
      "2025-08-17 15:49:49,191 WARNING [2025-08-17T21:49:49.117362] You are using a deprecated API endpoint. If you are using cdsapi, please upgrade to the latest version.\n",
      "2025-08-17 15:49:49,192 INFO Request ID is 67dfd88e-3559-4cc0-a138-be1ce4791bf5\n",
      "2025-08-17 15:49:49,376 INFO status has been updated to accepted\n",
      "2025-08-17 15:50:10,008 INFO status has been updated to running\n",
      "2025-08-17 15:50:21,568 INFO status has been updated to successful\n"
     ]
    },
    {
     "data": {
      "application/vnd.jupyter.widget-view+json": {
       "model_id": "",
       "version_major": 2,
       "version_minor": 0
      },
      "text/plain": [
       "644766416113552f2e34094f0298c551.zip:   0%|          | 0.00/3.89M [00:00<?, ?B/s]"
      ]
     },
     "metadata": {},
     "output_type": "display_data"
    },
    {
     "name": "stdout",
     "output_type": "stream",
     "text": [
      "✅ Downloaded: /glade/work/milesep/era5_cds/era5_sfc_2021_02.nc\n",
      "2021 3 13\n"
     ]
    },
    {
     "name": "stderr",
     "output_type": "stream",
     "text": [
      "2025-08-17 15:50:24,327 WARNING [2025-08-17T21:50:24.251955] You are using a deprecated API endpoint. If you are using cdsapi, please upgrade to the latest version.\n",
      "2025-08-17 15:50:24,328 INFO Request ID is 28eea340-e9e3-4ed9-8487-c194a2a6239b\n",
      "2025-08-17 15:50:24,484 INFO status has been updated to accepted\n",
      "2025-08-17 15:50:32,116 INFO status has been updated to running\n",
      "2025-08-17 15:52:18,420 INFO status has been updated to successful\n"
     ]
    },
    {
     "data": {
      "application/vnd.jupyter.widget-view+json": {
       "model_id": "",
       "version_major": 2,
       "version_minor": 0
      },
      "text/plain": [
       "597822b5caaa6d8e5a85a1769ec5fd8c.nc:   0%|          | 0.00/81.0M [00:00<?, ?B/s]"
      ]
     },
     "metadata": {},
     "output_type": "display_data"
    },
    {
     "name": "stdout",
     "output_type": "stream",
     "text": [
      "✅ Downloaded: /glade/work/milesep/era5_cds/era5_pl_2021_03.nc\n"
     ]
    },
    {
     "name": "stderr",
     "output_type": "stream",
     "text": [
      "2025-08-17 15:52:29,003 WARNING [2025-08-17T21:52:28.929037] You are using a deprecated API endpoint. If you are using cdsapi, please upgrade to the latest version.\n",
      "2025-08-17 15:52:29,004 INFO Request ID is 08d547fd-b51c-477f-a1e7-c5c506440dea\n",
      "2025-08-17 15:52:29,184 INFO status has been updated to accepted\n",
      "2025-08-17 15:52:36,830 INFO status has been updated to running\n",
      "2025-08-17 15:53:18,653 INFO status has been updated to successful\n"
     ]
    },
    {
     "data": {
      "application/vnd.jupyter.widget-view+json": {
       "model_id": "",
       "version_major": 2,
       "version_minor": 0
      },
      "text/plain": [
       "c80c67f03d2424e96887e37ea8451f85.zip:   0%|          | 0.00/9.99M [00:00<?, ?B/s]"
      ]
     },
     "metadata": {},
     "output_type": "display_data"
    },
    {
     "name": "stdout",
     "output_type": "stream",
     "text": [
      "✅ Downloaded: /glade/work/milesep/era5_cds/era5_sfc_2021_03.nc\n",
      "2021 4 16\n"
     ]
    },
    {
     "name": "stderr",
     "output_type": "stream",
     "text": [
      "2025-08-17 15:53:21,890 WARNING [2025-08-17T21:53:21.815789] You are using a deprecated API endpoint. If you are using cdsapi, please upgrade to the latest version.\n",
      "2025-08-17 15:53:21,891 INFO Request ID is 6ff823fd-37ab-46b3-a286-8c4cf7baacd0\n",
      "2025-08-17 15:53:22,063 INFO status has been updated to accepted\n",
      "2025-08-17 15:53:34,889 INFO status has been updated to running\n",
      "2025-08-17 15:55:15,850 INFO status has been updated to successful\n"
     ]
    },
    {
     "data": {
      "application/vnd.jupyter.widget-view+json": {
       "model_id": "",
       "version_major": 2,
       "version_minor": 0
      },
      "text/plain": [
       "ca766f79a0c5b5b49adbdc3125f248d7.nc:   0%|          | 0.00/107M [00:00<?, ?B/s]"
      ]
     },
     "metadata": {},
     "output_type": "display_data"
    },
    {
     "name": "stdout",
     "output_type": "stream",
     "text": [
      "✅ Downloaded: /glade/work/milesep/era5_cds/era5_pl_2021_04.nc\n"
     ]
    },
    {
     "name": "stderr",
     "output_type": "stream",
     "text": [
      "2025-08-17 15:55:35,253 WARNING [2025-08-17T21:55:35.177539] You are using a deprecated API endpoint. If you are using cdsapi, please upgrade to the latest version.\n",
      "2025-08-17 15:55:35,254 INFO Request ID is 97b17812-f252-429c-84e4-1a88330cc2c4\n",
      "2025-08-17 15:55:35,426 INFO status has been updated to accepted\n",
      "2025-08-17 15:55:43,175 INFO status has been updated to running\n",
      "2025-08-17 15:56:07,907 INFO status has been updated to successful\n"
     ]
    },
    {
     "data": {
      "application/vnd.jupyter.widget-view+json": {
       "model_id": "",
       "version_major": 2,
       "version_minor": 0
      },
      "text/plain": [
       "da251429cb1b274ef066d420cdcfd3d.zip:   0%|          | 0.00/12.4M [00:00<?, ?B/s]"
      ]
     },
     "metadata": {},
     "output_type": "display_data"
    },
    {
     "name": "stdout",
     "output_type": "stream",
     "text": [
      "✅ Downloaded: /glade/work/milesep/era5_cds/era5_sfc_2021_04.nc\n",
      "2021 5 24\n"
     ]
    },
    {
     "name": "stderr",
     "output_type": "stream",
     "text": [
      "2025-08-17 15:56:11,915 WARNING [2025-08-17T21:56:11.840254] You are using a deprecated API endpoint. If you are using cdsapi, please upgrade to the latest version.\n",
      "2025-08-17 15:56:11,915 INFO Request ID is 5adb7be0-b2ae-496b-852f-26604bc8f73c\n",
      "2025-08-17 15:56:12,085 INFO status has been updated to accepted\n",
      "2025-08-17 15:56:19,793 INFO status has been updated to running\n",
      "2025-08-17 15:59:04,263 INFO status has been updated to successful\n"
     ]
    },
    {
     "name": "stdout",
     "output_type": "stream",
     "text": [
      "⚠️ Attempt 1 failed for /glade/work/milesep/era5_cds/era5_pl_2021_05.nc: Result not ready, job is running\n",
      "Retrying in 30s...\n"
     ]
    },
    {
     "name": "stderr",
     "output_type": "stream",
     "text": [
      "2025-08-17 15:59:34,782 WARNING [2025-08-17T21:59:34.711584] You are using a deprecated API endpoint. If you are using cdsapi, please upgrade to the latest version.\n",
      "2025-08-17 15:59:34,783 INFO Request ID is b0fcb44f-c4d2-4b67-aff3-6544daffc1b9\n",
      "2025-08-17 15:59:34,961 INFO status has been updated to accepted\n",
      "2025-08-17 15:59:42,832 INFO status has been updated to successful\n"
     ]
    },
    {
     "data": {
      "application/vnd.jupyter.widget-view+json": {
       "model_id": "",
       "version_major": 2,
       "version_minor": 0
      },
      "text/plain": [
       "3b20687e55bb884e0c3f3d0a28f3439f.nc:   0%|          | 0.00/162M [00:00<?, ?B/s]"
      ]
     },
     "metadata": {},
     "output_type": "display_data"
    },
    {
     "name": "stdout",
     "output_type": "stream",
     "text": [
      "✅ Downloaded: /glade/work/milesep/era5_cds/era5_pl_2021_05.nc\n"
     ]
    },
    {
     "name": "stderr",
     "output_type": "stream",
     "text": [
      "2025-08-17 16:03:11,879 WARNING [2025-08-17T22:03:11.805758] You are using a deprecated API endpoint. If you are using cdsapi, please upgrade to the latest version.\n",
      "2025-08-17 16:03:11,879 INFO Request ID is 85fb97be-53a9-4516-a3cb-20b5d3ae6230\n",
      "2025-08-17 16:03:12,068 INFO status has been updated to accepted\n",
      "2025-08-17 16:03:25,569 INFO status has been updated to running\n",
      "2025-08-17 16:04:02,490 INFO status has been updated to successful\n"
     ]
    },
    {
     "data": {
      "application/vnd.jupyter.widget-view+json": {
       "model_id": "",
       "version_major": 2,
       "version_minor": 0
      },
      "text/plain": [
       "4d9d457f092a9c7333c74d14434aef85.zip:   0%|          | 0.00/18.6M [00:00<?, ?B/s]"
      ]
     },
     "metadata": {},
     "output_type": "display_data"
    },
    {
     "name": "stdout",
     "output_type": "stream",
     "text": [
      "✅ Downloaded: /glade/work/milesep/era5_cds/era5_sfc_2021_05.nc\n",
      "2021 6 21\n"
     ]
    },
    {
     "name": "stderr",
     "output_type": "stream",
     "text": [
      "2025-08-17 16:04:06,402 WARNING [2025-08-17T22:04:06.328472] You are using a deprecated API endpoint. If you are using cdsapi, please upgrade to the latest version.\n",
      "2025-08-17 16:04:06,403 INFO Request ID is b758360b-ea73-4889-ae58-b1946a9912fd\n",
      "2025-08-17 16:04:06,574 INFO status has been updated to accepted\n",
      "2025-08-17 16:04:19,470 INFO status has been updated to running\n",
      "2025-08-17 16:08:25,778 INFO status has been updated to successful\n"
     ]
    },
    {
     "data": {
      "application/vnd.jupyter.widget-view+json": {
       "model_id": "",
       "version_major": 2,
       "version_minor": 0
      },
      "text/plain": [
       "b65a43c1e51776ab17f022b8f2f315ec.nc:   0%|          | 0.00/140M [00:00<?, ?B/s]"
      ]
     },
     "metadata": {},
     "output_type": "display_data"
    },
    {
     "name": "stdout",
     "output_type": "stream",
     "text": [
      "✅ Downloaded: /glade/work/milesep/era5_cds/era5_pl_2021_06.nc\n"
     ]
    },
    {
     "name": "stderr",
     "output_type": "stream",
     "text": [
      "2025-08-17 16:08:49,601 WARNING [2025-08-17T22:08:49.528638] You are using a deprecated API endpoint. If you are using cdsapi, please upgrade to the latest version.\n",
      "2025-08-17 16:08:49,602 INFO Request ID is 8767b4ec-a14e-4ab2-b2e3-8612fb01a474\n",
      "2025-08-17 16:08:49,772 INFO status has been updated to accepted\n",
      "2025-08-17 16:08:57,381 INFO status has been updated to running\n",
      "2025-08-17 16:09:22,089 INFO status has been updated to successful\n"
     ]
    },
    {
     "name": "stdout",
     "output_type": "stream",
     "text": [
      "⚠️ Attempt 1 failed for /glade/work/milesep/era5_cds/era5_sfc_2021_06.nc: Result not ready, job is running\n",
      "Retrying in 30s...\n"
     ]
    },
    {
     "name": "stderr",
     "output_type": "stream",
     "text": [
      "2025-08-17 16:09:52,530 WARNING [2025-08-17T22:09:52.458197] You are using a deprecated API endpoint. If you are using cdsapi, please upgrade to the latest version.\n",
      "2025-08-17 16:09:52,531 INFO Request ID is 44a08002-ab0f-459e-91d9-abb30cf8ea4b\n",
      "2025-08-17 16:09:52,711 INFO status has been updated to accepted\n",
      "2025-08-17 16:10:13,531 INFO status has been updated to successful\n"
     ]
    },
    {
     "data": {
      "application/vnd.jupyter.widget-view+json": {
       "model_id": "",
       "version_major": 2,
       "version_minor": 0
      },
      "text/plain": [
       "4652910950f6a75727913c6e25a78b35.zip:   0%|          | 0.00/16.2M [00:00<?, ?B/s]"
      ]
     },
     "metadata": {},
     "output_type": "display_data"
    },
    {
     "name": "stdout",
     "output_type": "stream",
     "text": [
      "✅ Downloaded: /glade/work/milesep/era5_cds/era5_sfc_2021_06.nc\n",
      "2021 7 22\n"
     ]
    },
    {
     "name": "stderr",
     "output_type": "stream",
     "text": [
      "2025-08-17 16:10:17,076 WARNING [2025-08-17T22:10:16.997071] You are using a deprecated API endpoint. If you are using cdsapi, please upgrade to the latest version.\n",
      "2025-08-17 16:10:17,077 INFO Request ID is abf278e9-c823-4fa6-8bad-ed28507aeb11\n",
      "2025-08-17 16:10:17,251 INFO status has been updated to accepted\n",
      "2025-08-17 16:10:30,072 INFO status has been updated to running\n",
      "2025-08-17 16:13:09,185 INFO status has been updated to successful\n"
     ]
    },
    {
     "data": {
      "application/vnd.jupyter.widget-view+json": {
       "model_id": "",
       "version_major": 2,
       "version_minor": 0
      },
      "text/plain": [
       "fe9a7234b0c5048752fdc806a519c561.nc:   0%|          | 0.00/144M [00:00<?, ?B/s]"
      ]
     },
     "metadata": {},
     "output_type": "display_data"
    },
    {
     "name": "stdout",
     "output_type": "stream",
     "text": [
      "✅ Downloaded: /glade/work/milesep/era5_cds/era5_pl_2021_07.nc\n"
     ]
    },
    {
     "name": "stderr",
     "output_type": "stream",
     "text": [
      "2025-08-17 16:13:34,765 WARNING [2025-08-17T22:13:34.637018] You are using a deprecated API endpoint. If you are using cdsapi, please upgrade to the latest version.\n",
      "2025-08-17 16:13:34,766 INFO Request ID is 2d2e2963-c1d9-4cd0-bdd2-3dd7c1d2ad15\n",
      "2025-08-17 16:13:34,983 INFO status has been updated to accepted\n",
      "2025-08-17 16:13:42,732 INFO status has been updated to running\n",
      "2025-08-17 16:14:24,682 INFO status has been updated to successful\n"
     ]
    },
    {
     "data": {
      "application/vnd.jupyter.widget-view+json": {
       "model_id": "",
       "version_major": 2,
       "version_minor": 0
      },
      "text/plain": [
       "f80dd7a2ecd37ca986a53096ffe0dd4.zip:   0%|          | 0.00/16.9M [00:00<?, ?B/s]"
      ]
     },
     "metadata": {},
     "output_type": "display_data"
    },
    {
     "name": "stdout",
     "output_type": "stream",
     "text": [
      "✅ Downloaded: /glade/work/milesep/era5_cds/era5_sfc_2021_07.nc\n",
      "2021 8 20\n"
     ]
    },
    {
     "name": "stderr",
     "output_type": "stream",
     "text": [
      "2025-08-17 16:14:29,247 WARNING [2025-08-17T22:14:29.098447] You are using a deprecated API endpoint. If you are using cdsapi, please upgrade to the latest version.\n",
      "2025-08-17 16:14:29,248 INFO Request ID is b88a8557-2d25-41aa-967b-815058901098\n",
      "2025-08-17 16:14:29,477 INFO status has been updated to accepted\n",
      "2025-08-17 16:14:42,591 INFO status has been updated to running\n",
      "2025-08-17 16:17:22,657 INFO status has been updated to successful\n"
     ]
    },
    {
     "data": {
      "application/vnd.jupyter.widget-view+json": {
       "model_id": "",
       "version_major": 2,
       "version_minor": 0
      },
      "text/plain": [
       "c9fd943022fdf0fe96901578061a86b2.nc:   0%|          | 0.00/133M [00:00<?, ?B/s]"
      ]
     },
     "metadata": {},
     "output_type": "display_data"
    },
    {
     "name": "stdout",
     "output_type": "stream",
     "text": [
      "✅ Downloaded: /glade/work/milesep/era5_cds/era5_pl_2021_08.nc\n"
     ]
    },
    {
     "name": "stderr",
     "output_type": "stream",
     "text": [
      "2025-08-17 16:17:53,137 WARNING [2025-08-17T22:17:53.064972] You are using a deprecated API endpoint. If you are using cdsapi, please upgrade to the latest version.\n",
      "2025-08-17 16:17:53,138 INFO Request ID is ba2c0762-92ba-4b90-9497-8adad83e7dc5\n",
      "2025-08-17 16:17:53,308 INFO status has been updated to accepted\n",
      "2025-08-17 16:18:06,206 INFO status has been updated to running\n",
      "2025-08-17 16:18:42,764 INFO status has been updated to successful\n"
     ]
    },
    {
     "data": {
      "application/vnd.jupyter.widget-view+json": {
       "model_id": "",
       "version_major": 2,
       "version_minor": 0
      },
      "text/plain": [
       "878646e10548685b2a3142b450ccbdfb.zip:   0%|          | 0.00/15.3M [00:00<?, ?B/s]"
      ]
     },
     "metadata": {},
     "output_type": "display_data"
    },
    {
     "name": "stdout",
     "output_type": "stream",
     "text": [
      "✅ Downloaded: /glade/work/milesep/era5_cds/era5_sfc_2021_08.nc\n",
      "2021 9 13\n"
     ]
    },
    {
     "name": "stderr",
     "output_type": "stream",
     "text": [
      "2025-08-17 16:18:46,670 WARNING [2025-08-17T22:18:46.596519] You are using a deprecated API endpoint. If you are using cdsapi, please upgrade to the latest version.\n",
      "2025-08-17 16:18:46,671 INFO Request ID is f4aa8491-0234-43f8-b090-9a9dceb658c6\n",
      "2025-08-17 16:18:46,850 INFO status has been updated to accepted\n",
      "2025-08-17 16:18:54,696 INFO status has been updated to running\n",
      "2025-08-17 16:20:41,151 INFO status has been updated to successful\n"
     ]
    },
    {
     "data": {
      "application/vnd.jupyter.widget-view+json": {
       "model_id": "",
       "version_major": 2,
       "version_minor": 0
      },
      "text/plain": [
       "ae688056d80a9406c0f4d5f77f343461.nc:   0%|          | 0.00/80.5M [00:00<?, ?B/s]"
      ]
     },
     "metadata": {},
     "output_type": "display_data"
    },
    {
     "name": "stdout",
     "output_type": "stream",
     "text": [
      "✅ Downloaded: /glade/work/milesep/era5_cds/era5_pl_2021_09.nc\n"
     ]
    },
    {
     "name": "stderr",
     "output_type": "stream",
     "text": [
      "2025-08-17 16:20:56,579 WARNING [2025-08-17T22:20:56.500097] You are using a deprecated API endpoint. If you are using cdsapi, please upgrade to the latest version.\n",
      "2025-08-17 16:20:56,580 INFO Request ID is d4adc04b-2ba2-4b96-9c8c-27c2c5e48d08\n",
      "2025-08-17 16:20:56,778 INFO status has been updated to accepted\n",
      "2025-08-17 16:21:04,441 INFO status has been updated to running\n",
      "2025-08-17 16:21:29,191 INFO status has been updated to successful\n"
     ]
    },
    {
     "data": {
      "application/vnd.jupyter.widget-view+json": {
       "model_id": "",
       "version_major": 2,
       "version_minor": 0
      },
      "text/plain": [
       "523ce2ad7f3595379950523398ac4474.zip:   0%|          | 0.00/9.98M [00:00<?, ?B/s]"
      ]
     },
     "metadata": {},
     "output_type": "display_data"
    },
    {
     "name": "stdout",
     "output_type": "stream",
     "text": [
      "✅ Downloaded: /glade/work/milesep/era5_cds/era5_sfc_2021_09.nc\n",
      "2021 10 12\n"
     ]
    },
    {
     "name": "stderr",
     "output_type": "stream",
     "text": [
      "2025-08-17 16:21:32,213 WARNING [2025-08-17T22:21:32.142178] You are using a deprecated API endpoint. If you are using cdsapi, please upgrade to the latest version.\n",
      "2025-08-17 16:21:32,214 INFO Request ID is 08fdf752-39a1-42d7-9967-8604de12d7ae\n",
      "2025-08-17 16:21:32,368 INFO status has been updated to accepted\n",
      "2025-08-17 16:21:45,197 INFO status has been updated to running\n",
      "2025-08-17 16:21:52,945 INFO status has been updated to accepted\n",
      "2025-08-17 16:22:04,493 INFO status has been updated to running\n",
      "2025-08-17 16:23:26,139 INFO status has been updated to successful\n"
     ]
    },
    {
     "data": {
      "application/vnd.jupyter.widget-view+json": {
       "model_id": "",
       "version_major": 2,
       "version_minor": 0
      },
      "text/plain": [
       "9a233bde9c48343dffff711550f6f803.nc:   0%|          | 0.00/75.1M [00:00<?, ?B/s]"
      ]
     },
     "metadata": {},
     "output_type": "display_data"
    },
    {
     "name": "stdout",
     "output_type": "stream",
     "text": [
      "✅ Downloaded: /glade/work/milesep/era5_cds/era5_pl_2021_10.nc\n"
     ]
    },
    {
     "name": "stderr",
     "output_type": "stream",
     "text": [
      "2025-08-17 16:23:49,541 WARNING [2025-08-17T22:23:49.468163] You are using a deprecated API endpoint. If you are using cdsapi, please upgrade to the latest version.\n",
      "2025-08-17 16:23:49,542 INFO Request ID is 68a0c052-92a9-44e0-9aa1-eaf2704dddf8\n",
      "2025-08-17 16:23:49,720 INFO status has been updated to accepted\n",
      "2025-08-17 16:23:57,348 INFO status has been updated to running\n",
      "2025-08-17 16:24:21,905 INFO status has been updated to successful\n"
     ]
    },
    {
     "name": "stdout",
     "output_type": "stream",
     "text": [
      "⚠️ Attempt 1 failed for /glade/work/milesep/era5_cds/era5_sfc_2021_10.nc: Result not ready, job is running\n",
      "Retrying in 30s...\n"
     ]
    },
    {
     "name": "stderr",
     "output_type": "stream",
     "text": [
      "2025-08-17 16:24:52,371 WARNING [2025-08-17T22:24:52.297721] You are using a deprecated API endpoint. If you are using cdsapi, please upgrade to the latest version.\n",
      "2025-08-17 16:24:52,372 INFO Request ID is 0e21edc5-a967-4cfa-a332-610a6b3ea6b7\n",
      "2025-08-17 16:24:52,577 INFO status has been updated to accepted\n",
      "2025-08-17 16:25:00,214 INFO status has been updated to successful\n"
     ]
    },
    {
     "data": {
      "application/vnd.jupyter.widget-view+json": {
       "model_id": "",
       "version_major": 2,
       "version_minor": 0
      },
      "text/plain": [
       "d96b26409b385a900e3bab2776c6f780.zip:   0%|          | 0.00/9.11M [00:00<?, ?B/s]"
      ]
     },
     "metadata": {},
     "output_type": "display_data"
    },
    {
     "name": "stdout",
     "output_type": "stream",
     "text": [
      "✅ Downloaded: /glade/work/milesep/era5_cds/era5_sfc_2021_10.nc\n",
      "2021 11 1\n"
     ]
    },
    {
     "name": "stderr",
     "output_type": "stream",
     "text": [
      "2025-08-17 16:25:03,672 WARNING [2025-08-17T22:25:03.599342] You are using a deprecated API endpoint. If you are using cdsapi, please upgrade to the latest version.\n",
      "2025-08-17 16:25:03,673 INFO Request ID is 77890e55-422b-4081-b5aa-ca0583cd6626\n",
      "2025-08-17 16:25:03,833 INFO status has been updated to accepted\n",
      "2025-08-17 16:25:11,451 INFO status has been updated to running\n",
      "2025-08-17 16:25:24,503 INFO status has been updated to successful\n"
     ]
    },
    {
     "data": {
      "application/vnd.jupyter.widget-view+json": {
       "model_id": "",
       "version_major": 2,
       "version_minor": 0
      },
      "text/plain": [
       "833a6f7b36d2081824f9084ba97a1879.nc:   0%|          | 0.00/6.04M [00:00<?, ?B/s]"
      ]
     },
     "metadata": {},
     "output_type": "display_data"
    },
    {
     "name": "stdout",
     "output_type": "stream",
     "text": [
      "✅ Downloaded: /glade/work/milesep/era5_cds/era5_pl_2021_11.nc\n"
     ]
    },
    {
     "name": "stderr",
     "output_type": "stream",
     "text": [
      "2025-08-17 16:25:27,481 WARNING [2025-08-17T22:25:27.409550] You are using a deprecated API endpoint. If you are using cdsapi, please upgrade to the latest version.\n",
      "2025-08-17 16:25:27,482 INFO Request ID is a8fc3b3f-c5a8-45ff-94c9-e87526a23d8c\n",
      "2025-08-17 16:25:27,637 INFO status has been updated to accepted\n",
      "2025-08-17 16:25:31,704 INFO status has been updated to running\n",
      "2025-08-17 16:25:40,448 INFO status has been updated to successful\n"
     ]
    },
    {
     "data": {
      "application/vnd.jupyter.widget-view+json": {
       "model_id": "",
       "version_major": 2,
       "version_minor": 0
      },
      "text/plain": [
       "4cce89a4123e9d6a8395249c2282d23f.zip:   0%|          | 0.00/854k [00:00<?, ?B/s]"
      ]
     },
     "metadata": {},
     "output_type": "display_data"
    },
    {
     "name": "stdout",
     "output_type": "stream",
     "text": [
      "✅ Downloaded: /glade/work/milesep/era5_cds/era5_sfc_2021_11.nc\n",
      "2021 12 10\n"
     ]
    },
    {
     "name": "stderr",
     "output_type": "stream",
     "text": [
      "2025-08-17 16:25:42,908 WARNING [2025-08-17T22:25:42.835018] You are using a deprecated API endpoint. If you are using cdsapi, please upgrade to the latest version.\n",
      "2025-08-17 16:25:42,909 INFO Request ID is 04fb2b8a-2603-406f-ab61-c7175bbf6008\n",
      "2025-08-17 16:25:43,066 INFO status has been updated to accepted\n",
      "2025-08-17 16:26:15,601 INFO status has been updated to running\n",
      "2025-08-17 16:28:35,826 INFO status has been updated to successful\n"
     ]
    },
    {
     "data": {
      "application/vnd.jupyter.widget-view+json": {
       "model_id": "",
       "version_major": 2,
       "version_minor": 0
      },
      "text/plain": [
       "8ac803586cb6b4a78c62a1f12c772cf9.nc:   0%|          | 0.00/62.0M [00:00<?, ?B/s]"
      ]
     },
     "metadata": {},
     "output_type": "display_data"
    },
    {
     "name": "stdout",
     "output_type": "stream",
     "text": [
      "✅ Downloaded: /glade/work/milesep/era5_cds/era5_pl_2021_12.nc\n"
     ]
    },
    {
     "name": "stderr",
     "output_type": "stream",
     "text": [
      "2025-08-17 16:28:42,771 WARNING [2025-08-17T22:28:42.698005] You are using a deprecated API endpoint. If you are using cdsapi, please upgrade to the latest version.\n",
      "2025-08-17 16:28:42,772 INFO Request ID is 4b52759c-c7c4-49a3-8ac2-d0685f8639e1\n",
      "2025-08-17 16:28:42,923 INFO status has been updated to accepted\n",
      "2025-08-17 16:28:55,824 INFO status has been updated to running\n",
      "2025-08-17 16:29:15,111 INFO status has been updated to successful\n"
     ]
    },
    {
     "data": {
      "application/vnd.jupyter.widget-view+json": {
       "model_id": "",
       "version_major": 2,
       "version_minor": 0
      },
      "text/plain": [
       "b4224769aa353e281ebc804be8aa1759.zip:   0%|          | 0.00/7.58M [00:00<?, ?B/s]"
      ]
     },
     "metadata": {},
     "output_type": "display_data"
    },
    {
     "name": "stdout",
     "output_type": "stream",
     "text": [
      "✅ Downloaded: /glade/work/milesep/era5_cds/era5_sfc_2021_12.nc\n",
      "2022 1 3\n"
     ]
    },
    {
     "name": "stderr",
     "output_type": "stream",
     "text": [
      "2025-08-17 16:29:18,238 WARNING [2025-08-17T22:29:18.166914] You are using a deprecated API endpoint. If you are using cdsapi, please upgrade to the latest version.\n",
      "2025-08-17 16:29:18,238 INFO Request ID is f6cf5555-2ec6-49b3-aa70-d39d21014893\n",
      "2025-08-17 16:29:18,517 INFO status has been updated to accepted\n",
      "2025-08-17 16:29:26,107 INFO status has been updated to running\n",
      "2025-08-17 16:29:50,612 INFO status has been updated to successful\n"
     ]
    },
    {
     "data": {
      "application/vnd.jupyter.widget-view+json": {
       "model_id": "",
       "version_major": 2,
       "version_minor": 0
      },
      "text/plain": [
       "b135da3ca0b4254bfbd5c3e1cf8093e1.nc:   0%|          | 0.00/18.1M [00:00<?, ?B/s]"
      ]
     },
     "metadata": {},
     "output_type": "display_data"
    },
    {
     "name": "stdout",
     "output_type": "stream",
     "text": [
      "✅ Downloaded: /glade/work/milesep/era5_cds/era5_pl_2022_01.nc\n"
     ]
    },
    {
     "name": "stderr",
     "output_type": "stream",
     "text": [
      "2025-08-17 16:29:54,291 WARNING [2025-08-17T22:29:54.217449] You are using a deprecated API endpoint. If you are using cdsapi, please upgrade to the latest version.\n",
      "2025-08-17 16:29:54,291 INFO Request ID is 271cbf25-1f4c-4fe3-9e73-c64fdb6abf9f\n",
      "2025-08-17 16:29:54,447 INFO status has been updated to accepted\n",
      "2025-08-17 16:29:58,518 INFO status has been updated to running\n",
      "2025-08-17 16:30:07,348 INFO status has been updated to successful\n"
     ]
    },
    {
     "data": {
      "application/vnd.jupyter.widget-view+json": {
       "model_id": "",
       "version_major": 2,
       "version_minor": 0
      },
      "text/plain": [
       "e7f716d0d0c8e278c78993f2a1a589ba.zip:   0%|          | 0.00/2.37M [00:00<?, ?B/s]"
      ]
     },
     "metadata": {},
     "output_type": "display_data"
    },
    {
     "name": "stdout",
     "output_type": "stream",
     "text": [
      "✅ Downloaded: /glade/work/milesep/era5_cds/era5_sfc_2022_01.nc\n",
      "2022 2 5\n"
     ]
    },
    {
     "name": "stderr",
     "output_type": "stream",
     "text": [
      "2025-08-17 16:30:10,795 WARNING [2025-08-17T22:30:10.723807] You are using a deprecated API endpoint. If you are using cdsapi, please upgrade to the latest version.\n",
      "2025-08-17 16:30:10,796 INFO Request ID is 8d51cbb8-3c46-461d-bab3-c5a86323bd42\n",
      "2025-08-17 16:30:10,947 INFO status has been updated to accepted\n",
      "2025-08-17 16:30:23,800 INFO status has been updated to running\n",
      "2025-08-17 16:31:26,183 INFO status has been updated to successful\n"
     ]
    },
    {
     "data": {
      "application/vnd.jupyter.widget-view+json": {
       "model_id": "",
       "version_major": 2,
       "version_minor": 0
      },
      "text/plain": [
       "3d21db91e067046baa557f73a3a849f3.nc:   0%|          | 0.00/30.1M [00:00<?, ?B/s]"
      ]
     },
     "metadata": {},
     "output_type": "display_data"
    },
    {
     "name": "stdout",
     "output_type": "stream",
     "text": [
      "✅ Downloaded: /glade/work/milesep/era5_cds/era5_pl_2022_02.nc\n"
     ]
    },
    {
     "name": "stderr",
     "output_type": "stream",
     "text": [
      "2025-08-17 16:31:30,426 WARNING [2025-08-17T22:31:30.355125] You are using a deprecated API endpoint. If you are using cdsapi, please upgrade to the latest version.\n",
      "2025-08-17 16:31:30,427 INFO Request ID is b36b3aeb-a8e2-4542-8f66-f5055908c41c\n",
      "2025-08-17 16:31:30,582 INFO status has been updated to accepted\n",
      "2025-08-17 16:31:38,195 INFO status has been updated to running\n",
      "2025-08-17 16:31:51,186 INFO status has been updated to successful\n"
     ]
    },
    {
     "data": {
      "application/vnd.jupyter.widget-view+json": {
       "model_id": "",
       "version_major": 2,
       "version_minor": 0
      },
      "text/plain": [
       "cfe2e567e7bd30c6a93e1f13094f4fc.zip:   0%|          | 0.00/3.85M [00:00<?, ?B/s]"
      ]
     },
     "metadata": {},
     "output_type": "display_data"
    },
    {
     "name": "stderr",
     "output_type": "stream",
     "text": [
      "2025-08-17 16:31:53,973 WARNING [2025-08-17T22:31:53.902076] You are using a deprecated API endpoint. If you are using cdsapi, please upgrade to the latest version.\n",
      "2025-08-17 16:31:53,974 INFO Request ID is cfb06b65-0d34-4e0a-a577-45f34d589983\n"
     ]
    },
    {
     "name": "stdout",
     "output_type": "stream",
     "text": [
      "✅ Downloaded: /glade/work/milesep/era5_cds/era5_sfc_2022_02.nc\n",
      "2022 3 18\n"
     ]
    },
    {
     "name": "stderr",
     "output_type": "stream",
     "text": [
      "2025-08-17 16:31:54,184 INFO status has been updated to accepted\n",
      "2025-08-17 16:32:01,799 INFO status has been updated to running\n",
      "2025-08-17 16:34:46,782 INFO status has been updated to successful\n"
     ]
    },
    {
     "data": {
      "application/vnd.jupyter.widget-view+json": {
       "model_id": "",
       "version_major": 2,
       "version_minor": 0
      },
      "text/plain": [
       "1dd72d73ca62509e60b2e3e3e5ba0673.nc:   0%|          | 0.00/120M [00:00<?, ?B/s]"
      ]
     },
     "metadata": {},
     "output_type": "display_data"
    },
    {
     "name": "stdout",
     "output_type": "stream",
     "text": [
      "✅ Downloaded: /glade/work/milesep/era5_cds/era5_pl_2022_03.nc\n"
     ]
    },
    {
     "name": "stderr",
     "output_type": "stream",
     "text": [
      "2025-08-17 16:35:03,370 WARNING [2025-08-17T22:35:03.292186] You are using a deprecated API endpoint. If you are using cdsapi, please upgrade to the latest version.\n",
      "2025-08-17 16:35:03,371 INFO Request ID is eaeb739a-e2ff-45e5-82f5-3a446ba4e006\n",
      "2025-08-17 16:35:03,541 INFO status has been updated to accepted\n",
      "2025-08-17 16:35:16,433 INFO status has been updated to running\n",
      "2025-08-17 16:35:35,752 INFO status has been updated to successful\n"
     ]
    },
    {
     "data": {
      "application/vnd.jupyter.widget-view+json": {
       "model_id": "",
       "version_major": 2,
       "version_minor": 0
      },
      "text/plain": [
       "baf95f58f537b92a8f6deec5e0415850.zip:   0%|          | 0.00/13.8M [00:00<?, ?B/s]"
      ]
     },
     "metadata": {},
     "output_type": "display_data"
    },
    {
     "name": "stdout",
     "output_type": "stream",
     "text": [
      "✅ Downloaded: /glade/work/milesep/era5_cds/era5_sfc_2022_03.nc\n",
      "2022 4 22\n"
     ]
    },
    {
     "name": "stderr",
     "output_type": "stream",
     "text": [
      "2025-08-17 16:35:40,765 WARNING [2025-08-17T22:35:40.690785] You are using a deprecated API endpoint. If you are using cdsapi, please upgrade to the latest version.\n",
      "2025-08-17 16:35:40,766 INFO Request ID is e5b0c4fc-7b88-48f3-b204-36465c3faddf\n",
      "2025-08-17 16:35:40,933 INFO status has been updated to accepted\n",
      "2025-08-17 16:35:48,547 INFO status has been updated to running\n",
      "2025-08-17 16:38:33,203 INFO status has been updated to successful\n"
     ]
    },
    {
     "data": {
      "application/vnd.jupyter.widget-view+json": {
       "model_id": "",
       "version_major": 2,
       "version_minor": 0
      },
      "text/plain": [
       "46b3e826ccfbaced34221ac0c9446c32.nc:   0%|          | 0.00/145M [00:00<?, ?B/s]"
      ]
     },
     "metadata": {},
     "output_type": "display_data"
    },
    {
     "name": "stdout",
     "output_type": "stream",
     "text": [
      "✅ Downloaded: /glade/work/milesep/era5_cds/era5_pl_2022_04.nc\n"
     ]
    },
    {
     "name": "stderr",
     "output_type": "stream",
     "text": [
      "2025-08-17 16:38:44,742 WARNING [2025-08-17T22:38:44.664339] You are using a deprecated API endpoint. If you are using cdsapi, please upgrade to the latest version.\n",
      "2025-08-17 16:38:44,743 INFO Request ID is 5871f11a-5173-43a8-9fce-d3714f6e1fc9\n",
      "2025-08-17 16:38:44,911 INFO status has been updated to accepted\n",
      "2025-08-17 16:38:57,814 INFO status has been updated to running\n",
      "2025-08-17 16:39:34,384 INFO status has been updated to successful\n"
     ]
    },
    {
     "data": {
      "application/vnd.jupyter.widget-view+json": {
       "model_id": "",
       "version_major": 2,
       "version_minor": 0
      },
      "text/plain": [
       "6256b642f1c29dc0b186a1c3ca9e7bd9.zip:   0%|          | 0.00/17.0M [00:00<?, ?B/s]"
      ]
     },
     "metadata": {},
     "output_type": "display_data"
    },
    {
     "name": "stdout",
     "output_type": "stream",
     "text": [
      "✅ Downloaded: /glade/work/milesep/era5_cds/era5_sfc_2022_04.nc\n",
      "2022 5 30\n"
     ]
    },
    {
     "name": "stderr",
     "output_type": "stream",
     "text": [
      "2025-08-17 16:39:37,887 WARNING [2025-08-17T22:39:37.816422] You are using a deprecated API endpoint. If you are using cdsapi, please upgrade to the latest version.\n",
      "2025-08-17 16:39:37,888 INFO Request ID is 6128ffea-837c-4707-bcf5-1824bb7b5caf\n",
      "2025-08-17 16:39:38,046 INFO status has been updated to accepted\n",
      "2025-08-17 16:39:50,881 INFO status has been updated to running\n",
      "2025-08-17 16:43:57,076 INFO status has been updated to successful\n"
     ]
    },
    {
     "data": {
      "application/vnd.jupyter.widget-view+json": {
       "model_id": "",
       "version_major": 2,
       "version_minor": 0
      },
      "text/plain": [
       "8b40a8600354b827ca71f26d4435cd11.nc:   0%|          | 0.00/205M [00:00<?, ?B/s]"
      ]
     },
     "metadata": {},
     "output_type": "display_data"
    },
    {
     "name": "stdout",
     "output_type": "stream",
     "text": [
      "✅ Downloaded: /glade/work/milesep/era5_cds/era5_pl_2022_05.nc\n"
     ]
    },
    {
     "name": "stderr",
     "output_type": "stream",
     "text": [
      "2025-08-17 16:45:03,291 WARNING [2025-08-17T22:45:03.181790] You are using a deprecated API endpoint. If you are using cdsapi, please upgrade to the latest version.\n",
      "2025-08-17 16:45:03,292 INFO Request ID is 343b11b0-af0d-41f9-89a9-81c9b5f6c03a\n",
      "2025-08-17 16:45:03,473 INFO status has been updated to accepted\n",
      "2025-08-17 16:45:11,192 INFO status has been updated to running\n",
      "2025-08-17 16:45:53,214 INFO status has been updated to successful\n"
     ]
    },
    {
     "data": {
      "application/vnd.jupyter.widget-view+json": {
       "model_id": "",
       "version_major": 2,
       "version_minor": 0
      },
      "text/plain": [
       "f37352471c9b9ef260eb10d35a0658f4.zip:   0%|          | 0.00/23.3M [00:00<?, ?B/s]"
      ]
     },
     "metadata": {},
     "output_type": "display_data"
    },
    {
     "name": "stderr",
     "output_type": "stream",
     "text": [
      "2025-08-17 16:45:57,506 WARNING [2025-08-17T22:45:57.432101] You are using a deprecated API endpoint. If you are using cdsapi, please upgrade to the latest version.\n"
     ]
    },
    {
     "name": "stdout",
     "output_type": "stream",
     "text": [
      "✅ Downloaded: /glade/work/milesep/era5_cds/era5_sfc_2022_05.nc\n",
      "2022 6 25\n"
     ]
    },
    {
     "name": "stderr",
     "output_type": "stream",
     "text": [
      "2025-08-17 16:45:57,507 INFO Request ID is 97d25491-5c72-413a-9dd9-3dfdc6840eca\n",
      "2025-08-17 16:45:57,663 INFO status has been updated to accepted\n",
      "2025-08-17 16:46:29,811 INFO status has been updated to running\n",
      "2025-08-17 16:50:16,772 INFO status has been updated to successful\n"
     ]
    },
    {
     "data": {
      "application/vnd.jupyter.widget-view+json": {
       "model_id": "",
       "version_major": 2,
       "version_minor": 0
      },
      "text/plain": [
       "a87a3df4cf0d7fbdb46bc878507eced5.nc:   0%|          | 0.00/170M [00:00<?, ?B/s]"
      ]
     },
     "metadata": {},
     "output_type": "display_data"
    },
    {
     "name": "stdout",
     "output_type": "stream",
     "text": [
      "✅ Downloaded: /glade/work/milesep/era5_cds/era5_pl_2022_06.nc\n"
     ]
    },
    {
     "name": "stderr",
     "output_type": "stream",
     "text": [
      "2025-08-17 16:50:28,588 WARNING [2025-08-17T22:50:28.513192] You are using a deprecated API endpoint. If you are using cdsapi, please upgrade to the latest version.\n",
      "2025-08-17 16:50:28,588 INFO Request ID is fe65a80d-98fd-4cc8-903d-77a03cc31a70\n",
      "2025-08-17 16:50:28,768 INFO status has been updated to accepted\n",
      "2025-08-17 16:50:36,458 INFO status has been updated to running\n",
      "2025-08-17 16:51:44,046 INFO status has been updated to successful\n"
     ]
    },
    {
     "data": {
      "application/vnd.jupyter.widget-view+json": {
       "model_id": "",
       "version_major": 2,
       "version_minor": 0
      },
      "text/plain": [
       "622185b61a4956500ca31123b8d1b9b7.zip:   0%|          | 0.00/19.4M [00:00<?, ?B/s]"
      ]
     },
     "metadata": {},
     "output_type": "display_data"
    },
    {
     "name": "stdout",
     "output_type": "stream",
     "text": [
      "✅ Downloaded: /glade/work/milesep/era5_cds/era5_sfc_2022_06.nc\n",
      "2022 7 26\n"
     ]
    },
    {
     "name": "stderr",
     "output_type": "stream",
     "text": [
      "2025-08-17 16:51:48,863 WARNING [2025-08-17T22:51:48.784480] You are using a deprecated API endpoint. If you are using cdsapi, please upgrade to the latest version.\n",
      "2025-08-17 16:51:48,864 INFO Request ID is 7710e734-88c6-4977-aedd-2c2fdc953582\n",
      "2025-08-17 16:51:49,038 INFO status has been updated to accepted\n",
      "2025-08-17 16:52:21,447 INFO status has been updated to running\n",
      "2025-08-17 16:56:09,299 INFO status has been updated to successful\n"
     ]
    },
    {
     "data": {
      "application/vnd.jupyter.widget-view+json": {
       "model_id": "",
       "version_major": 2,
       "version_minor": 0
      },
      "text/plain": [
       "a05332e119859a8d48c08d5b646131ad.nc:   0%|          | 0.00/175M [00:00<?, ?B/s]"
      ]
     },
     "metadata": {},
     "output_type": "display_data"
    },
    {
     "name": "stdout",
     "output_type": "stream",
     "text": [
      "✅ Downloaded: /glade/work/milesep/era5_cds/era5_pl_2022_07.nc\n"
     ]
    },
    {
     "name": "stderr",
     "output_type": "stream",
     "text": [
      "2025-08-17 16:56:33,392 WARNING [2025-08-17T22:56:33.317111] You are using a deprecated API endpoint. If you are using cdsapi, please upgrade to the latest version.\n",
      "2025-08-17 16:56:33,393 INFO Request ID is 728ad781-f444-4a70-b075-654746422323\n",
      "2025-08-17 16:56:34,118 INFO status has been updated to accepted\n",
      "2025-08-17 16:56:41,802 INFO status has been updated to running\n",
      "2025-08-17 16:57:23,606 INFO status has been updated to successful\n"
     ]
    },
    {
     "data": {
      "application/vnd.jupyter.widget-view+json": {
       "model_id": "",
       "version_major": 2,
       "version_minor": 0
      },
      "text/plain": [
       "ae0760a1b18bd83bbd9ca3648ac42600.zip:   0%|          | 0.00/19.9M [00:00<?, ?B/s]"
      ]
     },
     "metadata": {},
     "output_type": "display_data"
    },
    {
     "name": "stdout",
     "output_type": "stream",
     "text": [
      "✅ Downloaded: /glade/work/milesep/era5_cds/era5_sfc_2022_07.nc\n",
      "2022 8 9\n"
     ]
    },
    {
     "name": "stderr",
     "output_type": "stream",
     "text": [
      "2025-08-17 16:57:29,336 WARNING [2025-08-17T22:57:29.259100] You are using a deprecated API endpoint. If you are using cdsapi, please upgrade to the latest version.\n",
      "2025-08-17 16:57:29,336 INFO Request ID is 308e53e9-ffb3-4218-834b-a9202ca6a443\n",
      "2025-08-17 16:57:29,569 INFO status has been updated to accepted\n",
      "2025-08-17 16:57:37,166 INFO status has been updated to running\n",
      "2025-08-17 16:58:44,883 INFO status has been updated to successful\n"
     ]
    },
    {
     "data": {
      "application/vnd.jupyter.widget-view+json": {
       "model_id": "",
       "version_major": 2,
       "version_minor": 0
      },
      "text/plain": [
       "ba1e5d92c08acc9de720f0c8eb556221.nc:   0%|          | 0.00/55.8M [00:00<?, ?B/s]"
      ]
     },
     "metadata": {},
     "output_type": "display_data"
    },
    {
     "name": "stdout",
     "output_type": "stream",
     "text": [
      "✅ Downloaded: /glade/work/milesep/era5_cds/era5_pl_2022_08.nc\n"
     ]
    },
    {
     "name": "stderr",
     "output_type": "stream",
     "text": [
      "2025-08-17 17:00:47,478 WARNING [2025-08-17T23:00:47.401681] You are using a deprecated API endpoint. If you are using cdsapi, please upgrade to the latest version.\n",
      "2025-08-17 17:00:47,479 INFO Request ID is 73f1149f-b733-466f-bff1-2988be6cdcaa\n",
      "2025-08-17 17:00:47,663 INFO status has been updated to accepted\n",
      "2025-08-17 17:00:55,332 INFO status has been updated to running\n",
      "2025-08-17 17:01:08,596 INFO status has been updated to successful\n"
     ]
    },
    {
     "data": {
      "application/vnd.jupyter.widget-view+json": {
       "model_id": "",
       "version_major": 2,
       "version_minor": 0
      },
      "text/plain": [
       "7d785f0e7e847ec01edfc57a58fe3ea0.zip:   0%|          | 0.00/6.92M [00:00<?, ?B/s]"
      ]
     },
     "metadata": {},
     "output_type": "display_data"
    },
    {
     "name": "stderr",
     "output_type": "stream",
     "text": [
      "2025-08-17 17:01:11,849 WARNING [2025-08-17T23:01:11.775358] You are using a deprecated API endpoint. If you are using cdsapi, please upgrade to the latest version.\n",
      "2025-08-17 17:01:11,850 INFO Request ID is c8e7b848-ca77-4284-9440-895a6c1eb3f2\n"
     ]
    },
    {
     "name": "stdout",
     "output_type": "stream",
     "text": [
      "✅ Downloaded: /glade/work/milesep/era5_cds/era5_sfc_2022_08.nc\n",
      "2022 9 11\n"
     ]
    },
    {
     "name": "stderr",
     "output_type": "stream",
     "text": [
      "2025-08-17 17:01:12,008 INFO status has been updated to accepted\n",
      "2025-08-17 17:01:24,853 INFO status has been updated to running\n",
      "2025-08-17 17:01:32,608 INFO status has been updated to accepted\n",
      "2025-08-17 17:01:44,163 INFO status has been updated to running\n",
      "2025-08-17 17:03:05,847 INFO status has been updated to successful\n"
     ]
    },
    {
     "data": {
      "application/vnd.jupyter.widget-view+json": {
       "model_id": "",
       "version_major": 2,
       "version_minor": 0
      },
      "text/plain": [
       "69c7aec28ad31ab972e586446cbce0bd.nc:   0%|          | 0.00/67.8M [00:00<?, ?B/s]"
      ]
     },
     "metadata": {},
     "output_type": "display_data"
    },
    {
     "name": "stdout",
     "output_type": "stream",
     "text": [
      "✅ Downloaded: /glade/work/milesep/era5_cds/era5_pl_2022_09.nc\n"
     ]
    },
    {
     "name": "stderr",
     "output_type": "stream",
     "text": [
      "2025-08-17 17:03:13,985 WARNING [2025-08-17T23:03:13.910924] You are using a deprecated API endpoint. If you are using cdsapi, please upgrade to the latest version.\n",
      "2025-08-17 17:03:13,986 INFO Request ID is 051d1a08-a715-441b-9f8a-7340dfcd7061\n",
      "2025-08-17 17:03:14,169 INFO status has been updated to accepted\n",
      "2025-08-17 17:03:21,833 INFO status has been updated to running\n",
      "2025-08-17 17:03:46,489 INFO status has been updated to successful\n"
     ]
    },
    {
     "data": {
      "application/vnd.jupyter.widget-view+json": {
       "model_id": "",
       "version_major": 2,
       "version_minor": 0
      },
      "text/plain": [
       "92b8986b2cf1076b1bd2b231bd596391.zip:   0%|          | 0.00/8.42M [00:00<?, ?B/s]"
      ]
     },
     "metadata": {},
     "output_type": "display_data"
    },
    {
     "name": "stdout",
     "output_type": "stream",
     "text": [
      "✅ Downloaded: /glade/work/milesep/era5_cds/era5_sfc_2022_09.nc\n",
      "2022 10 8\n"
     ]
    },
    {
     "name": "stderr",
     "output_type": "stream",
     "text": [
      "2025-08-17 17:03:51,149 WARNING [2025-08-17T23:03:51.072902] You are using a deprecated API endpoint. If you are using cdsapi, please upgrade to the latest version.\n",
      "2025-08-17 17:03:51,150 INFO Request ID is 359199da-5c5c-4bb1-b5ef-3ef93aded93c\n",
      "2025-08-17 17:03:51,378 INFO status has been updated to accepted\n",
      "2025-08-17 17:04:04,223 INFO status has been updated to running\n",
      "2025-08-17 17:05:06,616 INFO status has been updated to successful\n"
     ]
    },
    {
     "data": {
      "application/vnd.jupyter.widget-view+json": {
       "model_id": "",
       "version_major": 2,
       "version_minor": 0
      },
      "text/plain": [
       "a8d297fc376579aacdb691497315924f.nc:   0%|          | 0.00/48.9M [00:00<?, ?B/s]"
      ]
     },
     "metadata": {},
     "output_type": "display_data"
    },
    {
     "name": "stdout",
     "output_type": "stream",
     "text": [
      "✅ Downloaded: /glade/work/milesep/era5_cds/era5_pl_2022_10.nc\n"
     ]
    },
    {
     "name": "stderr",
     "output_type": "stream",
     "text": [
      "2025-08-17 17:05:12,971 WARNING [2025-08-17T23:05:12.896806] You are using a deprecated API endpoint. If you are using cdsapi, please upgrade to the latest version.\n",
      "2025-08-17 17:05:12,972 INFO Request ID is b3c39783-da56-47d8-a488-39b40c46b2b7\n",
      "2025-08-17 17:05:13,303 INFO status has been updated to accepted\n",
      "2025-08-17 17:05:26,174 INFO status has been updated to running\n",
      "2025-08-17 17:06:02,733 INFO status has been updated to successful\n"
     ]
    },
    {
     "data": {
      "application/vnd.jupyter.widget-view+json": {
       "model_id": "",
       "version_major": 2,
       "version_minor": 0
      },
      "text/plain": [
       "e4c344cf3ec58db4ebaf59c5a9d9f1cb.zip:   0%|          | 0.00/6.12M [00:00<?, ?B/s]"
      ]
     },
     "metadata": {},
     "output_type": "display_data"
    },
    {
     "name": "stdout",
     "output_type": "stream",
     "text": [
      "✅ Downloaded: /glade/work/milesep/era5_cds/era5_sfc_2022_10.nc\n",
      "2022 11 7\n"
     ]
    },
    {
     "name": "stderr",
     "output_type": "stream",
     "text": [
      "2025-08-17 17:06:05,750 WARNING [2025-08-17T23:06:05.673674] You are using a deprecated API endpoint. If you are using cdsapi, please upgrade to the latest version.\n",
      "2025-08-17 17:06:05,750 INFO Request ID is c11cabf8-0825-415f-b6f1-b9bbc3ddfd26\n",
      "2025-08-17 17:06:05,940 INFO status has been updated to accepted\n",
      "2025-08-17 17:06:13,621 INFO status has been updated to running\n",
      "2025-08-17 17:08:58,199 INFO status has been updated to successful\n"
     ]
    },
    {
     "data": {
      "application/vnd.jupyter.widget-view+json": {
       "model_id": "",
       "version_major": 2,
       "version_minor": 0
      },
      "text/plain": [
       "83eae742f71c12a3fe99ea485ecb67b4.nc:   0%|          | 0.00/42.7M [00:00<?, ?B/s]"
      ]
     },
     "metadata": {},
     "output_type": "display_data"
    },
    {
     "name": "stdout",
     "output_type": "stream",
     "text": [
      "✅ Downloaded: /glade/work/milesep/era5_cds/era5_pl_2022_11.nc\n"
     ]
    },
    {
     "name": "stderr",
     "output_type": "stream",
     "text": [
      "2025-08-17 17:09:03,268 WARNING [2025-08-17T23:09:03.193978] You are using a deprecated API endpoint. If you are using cdsapi, please upgrade to the latest version.\n",
      "2025-08-17 17:09:03,269 INFO Request ID is 1ee147ec-4c6c-48f2-902c-edb32335627c\n",
      "2025-08-17 17:09:03,441 INFO status has been updated to accepted\n",
      "2025-08-17 17:09:11,326 INFO status has been updated to running\n",
      "2025-08-17 17:09:24,387 INFO status has been updated to successful\n"
     ]
    },
    {
     "data": {
      "application/vnd.jupyter.widget-view+json": {
       "model_id": "",
       "version_major": 2,
       "version_minor": 0
      },
      "text/plain": [
       "27d34805ca447c40959d6826ec749434.zip:   0%|          | 0.00/5.35M [00:00<?, ?B/s]"
      ]
     },
     "metadata": {},
     "output_type": "display_data"
    },
    {
     "name": "stdout",
     "output_type": "stream",
     "text": [
      "✅ Downloaded: /glade/work/milesep/era5_cds/era5_sfc_2022_11.nc\n",
      "2022 12 4\n"
     ]
    },
    {
     "name": "stderr",
     "output_type": "stream",
     "text": [
      "2025-08-17 17:09:31,086 WARNING [2025-08-17T23:09:31.004583] You are using a deprecated API endpoint. If you are using cdsapi, please upgrade to the latest version.\n",
      "2025-08-17 17:09:31,087 INFO Request ID is 38c119ea-c4c8-4fe1-8d10-cd5d7a864c90\n",
      "2025-08-17 17:09:31,253 INFO status has been updated to accepted\n",
      "2025-08-17 17:09:38,920 INFO status has been updated to running\n",
      "2025-08-17 17:10:20,775 INFO status has been updated to successful\n"
     ]
    },
    {
     "data": {
      "application/vnd.jupyter.widget-view+json": {
       "model_id": "",
       "version_major": 2,
       "version_minor": 0
      },
      "text/plain": [
       "f0462a9bfb4e7ac0fd560bb8c3904388.nc:   0%|          | 0.00/24.6M [00:00<?, ?B/s]"
      ]
     },
     "metadata": {},
     "output_type": "display_data"
    },
    {
     "name": "stdout",
     "output_type": "stream",
     "text": [
      "✅ Downloaded: /glade/work/milesep/era5_cds/era5_pl_2022_12.nc\n"
     ]
    },
    {
     "name": "stderr",
     "output_type": "stream",
     "text": [
      "2025-08-17 17:10:27,739 WARNING [2025-08-17T23:10:27.661447] You are using a deprecated API endpoint. If you are using cdsapi, please upgrade to the latest version.\n",
      "2025-08-17 17:10:27,740 INFO Request ID is 07fb2a3f-b892-4e77-87d3-6392dacdcea0\n",
      "2025-08-17 17:10:28,057 INFO status has been updated to accepted\n",
      "2025-08-17 17:10:35,722 INFO status has been updated to running\n",
      "2025-08-17 17:10:48,749 INFO status has been updated to successful\n"
     ]
    },
    {
     "data": {
      "application/vnd.jupyter.widget-view+json": {
       "model_id": "",
       "version_major": 2,
       "version_minor": 0
      },
      "text/plain": [
       "92e4df8e55e8adb544b65f13e4295504.zip:   0%|          | 0.00/3.08M [00:00<?, ?B/s]"
      ]
     },
     "metadata": {},
     "output_type": "display_data"
    },
    {
     "name": "stdout",
     "output_type": "stream",
     "text": [
      "✅ Downloaded: /glade/work/milesep/era5_cds/era5_sfc_2022_12.nc\n",
      "2023 1 8\n"
     ]
    },
    {
     "name": "stderr",
     "output_type": "stream",
     "text": [
      "2025-08-17 17:10:51,581 WARNING [2025-08-17T23:10:51.506089] You are using a deprecated API endpoint. If you are using cdsapi, please upgrade to the latest version.\n",
      "2025-08-17 17:10:51,581 INFO Request ID is 3a05ae96-e88e-433c-8a5e-8881a31a02b2\n",
      "2025-08-17 17:10:51,742 INFO status has been updated to accepted\n",
      "2025-08-17 17:10:59,483 INFO status has been updated to running\n",
      "2025-08-17 17:12:07,072 INFO status has been updated to successful\n"
     ]
    },
    {
     "data": {
      "application/vnd.jupyter.widget-view+json": {
       "model_id": "",
       "version_major": 2,
       "version_minor": 0
      },
      "text/plain": [
       "a98633d6d9ac87ea868c48227ce1a55d.nc:   0%|          | 0.00/48.8M [00:00<?, ?B/s]"
      ]
     },
     "metadata": {},
     "output_type": "display_data"
    },
    {
     "name": "stdout",
     "output_type": "stream",
     "text": [
      "✅ Downloaded: /glade/work/milesep/era5_cds/era5_pl_2023_01.nc\n"
     ]
    },
    {
     "name": "stderr",
     "output_type": "stream",
     "text": [
      "2025-08-17 17:12:12,500 WARNING [2025-08-17T23:12:12.418966] You are using a deprecated API endpoint. If you are using cdsapi, please upgrade to the latest version.\n",
      "2025-08-17 17:12:12,501 INFO Request ID is 3abbdcb0-1a06-4a2b-a025-67b7835a6a6a\n",
      "2025-08-17 17:12:12,695 INFO status has been updated to accepted\n",
      "2025-08-17 17:12:25,600 INFO status has been updated to running\n",
      "2025-08-17 17:12:44,913 INFO status has been updated to successful\n"
     ]
    },
    {
     "data": {
      "application/vnd.jupyter.widget-view+json": {
       "model_id": "",
       "version_major": 2,
       "version_minor": 0
      },
      "text/plain": [
       "92c7c2d2fee057f26609a92ee6b65481.zip:   0%|          | 0.00/6.04M [00:00<?, ?B/s]"
      ]
     },
     "metadata": {},
     "output_type": "display_data"
    },
    {
     "name": "stdout",
     "output_type": "stream",
     "text": [
      "✅ Downloaded: /glade/work/milesep/era5_cds/era5_sfc_2023_01.nc\n",
      "2023 2 7\n"
     ]
    },
    {
     "name": "stderr",
     "output_type": "stream",
     "text": [
      "2025-08-17 17:12:48,478 WARNING [2025-08-17T23:12:48.399023] You are using a deprecated API endpoint. If you are using cdsapi, please upgrade to the latest version.\n",
      "2025-08-17 17:12:48,478 INFO Request ID is acd199f8-9e47-4997-ab99-7e4d570bae49\n",
      "2025-08-17 17:12:48,650 INFO status has been updated to accepted\n",
      "2025-08-17 17:13:01,541 INFO status has been updated to running\n",
      "2025-08-17 17:14:04,160 INFO status has been updated to successful\n"
     ]
    },
    {
     "data": {
      "application/vnd.jupyter.widget-view+json": {
       "model_id": "",
       "version_major": 2,
       "version_minor": 0
      },
      "text/plain": [
       "65697d4b3ada4430ad636137368f08ff.nc:   0%|          | 0.00/42.4M [00:00<?, ?B/s]"
      ]
     },
     "metadata": {},
     "output_type": "display_data"
    },
    {
     "name": "stdout",
     "output_type": "stream",
     "text": [
      "✅ Downloaded: /glade/work/milesep/era5_cds/era5_pl_2023_02.nc\n"
     ]
    },
    {
     "name": "stderr",
     "output_type": "stream",
     "text": [
      "2025-08-17 17:16:13,040 WARNING [2025-08-17T23:16:12.964130] You are using a deprecated API endpoint. If you are using cdsapi, please upgrade to the latest version.\n",
      "2025-08-17 17:16:13,040 INFO Request ID is 78806245-d586-4d6e-a146-886aa28e5f5f\n",
      "2025-08-17 17:16:13,221 INFO status has been updated to accepted\n",
      "2025-08-17 17:16:20,885 INFO status has been updated to running\n",
      "2025-08-17 17:16:45,601 INFO status has been updated to successful\n"
     ]
    },
    {
     "data": {
      "application/vnd.jupyter.widget-view+json": {
       "model_id": "",
       "version_major": 2,
       "version_minor": 0
      },
      "text/plain": [
       "c6353d7b6e9b05ab2343a7f603086976.zip:   0%|          | 0.00/5.38M [00:00<?, ?B/s]"
      ]
     },
     "metadata": {},
     "output_type": "display_data"
    },
    {
     "name": "stdout",
     "output_type": "stream",
     "text": [
      "✅ Downloaded: /glade/work/milesep/era5_cds/era5_sfc_2023_02.nc\n",
      "2023 3 12\n"
     ]
    },
    {
     "name": "stderr",
     "output_type": "stream",
     "text": [
      "2025-08-17 17:16:48,789 WARNING [2025-08-17T23:16:48.712648] You are using a deprecated API endpoint. If you are using cdsapi, please upgrade to the latest version.\n",
      "2025-08-17 17:16:48,790 INFO Request ID is 111f47fe-1e6c-4055-a726-3f27533c4e31\n",
      "2025-08-17 17:16:48,962 INFO status has been updated to accepted\n",
      "2025-08-17 17:17:01,775 INFO status has been updated to running\n",
      "2025-08-17 17:18:42,765 INFO status has been updated to successful\n"
     ]
    },
    {
     "data": {
      "application/vnd.jupyter.widget-view+json": {
       "model_id": "",
       "version_major": 2,
       "version_minor": 0
      },
      "text/plain": [
       "cc85112068ed87088b57627488dd5a32.nc:   0%|          | 0.00/74.7M [00:00<?, ?B/s]"
      ]
     },
     "metadata": {},
     "output_type": "display_data"
    },
    {
     "name": "stdout",
     "output_type": "stream",
     "text": [
      "✅ Downloaded: /glade/work/milesep/era5_cds/era5_pl_2023_03.nc\n"
     ]
    },
    {
     "name": "stderr",
     "output_type": "stream",
     "text": [
      "2025-08-17 17:18:57,420 WARNING [2025-08-17T23:18:57.345532] You are using a deprecated API endpoint. If you are using cdsapi, please upgrade to the latest version.\n",
      "2025-08-17 17:18:57,420 INFO Request ID is acb23a27-1c89-411d-a176-87746c258a5f\n",
      "2025-08-17 17:18:57,573 INFO status has been updated to accepted\n",
      "2025-08-17 17:19:05,234 INFO status has been updated to running\n",
      "2025-08-17 17:19:47,085 INFO status has been updated to successful\n"
     ]
    },
    {
     "data": {
      "application/vnd.jupyter.widget-view+json": {
       "model_id": "",
       "version_major": 2,
       "version_minor": 0
      },
      "text/plain": [
       "96c46c9e11a7c3d922509107312b996f.zip:   0%|          | 0.00/9.23M [00:00<?, ?B/s]"
      ]
     },
     "metadata": {},
     "output_type": "display_data"
    },
    {
     "name": "stdout",
     "output_type": "stream",
     "text": [
      "✅ Downloaded: /glade/work/milesep/era5_cds/era5_sfc_2023_03.nc\n",
      "2023 4 21\n"
     ]
    },
    {
     "name": "stderr",
     "output_type": "stream",
     "text": [
      "2025-08-17 17:19:50,175 WARNING [2025-08-17T23:19:50.100288] You are using a deprecated API endpoint. If you are using cdsapi, please upgrade to the latest version.\n",
      "2025-08-17 17:19:50,175 INFO Request ID is 5f114574-990b-434c-bf05-d73790062d0f\n",
      "2025-08-17 17:19:50,347 INFO status has been updated to accepted\n",
      "2025-08-17 17:19:57,965 INFO status has been updated to running\n"
     ]
    }
   ],
   "source": [
    "for year in years:\n",
    "    days_this_year = selected_days[selected_days.year == year]\n",
    "\n",
    "    for month in sorted(set(days_this_year.month)):\n",
    "        days_this_month = days_this_year[days_this_year.month == month]\n",
    "        days = sorted({f\"{d.day:02d}\" for d in days_this_month})\n",
    "        month_str = f\"{month:02d}\"\n",
    "\n",
    "        print(year, month, len(days_this_month))\n",
    "\n",
    "        # ------------------ Pressure levels ------------------\n",
    "        pl_file = out_dir / f\"era5_pl_{year}_{month_str}.nc\"\n",
    "        if pl_file.exists():\n",
    "            try:\n",
    "                xr.open_dataset(pl_file).close()\n",
    "                print(f\"Skipping (exists): {pl_file}\")\n",
    "                all_files.append(pl_file)\n",
    "            except Exception:\n",
    "                print(f\"Corrupt file detected, redownloading: {pl_file}\")\n",
    "                pl_file.unlink()\n",
    "                safe_retrieve(\"reanalysis-era5-pressure-levels\", {\n",
    "                    \"product_type\": \"reanalysis\",\n",
    "                    \"format\": \"netcdf\",\n",
    "                    \"variable\": pressure_var_dict[detail],\n",
    "                    \"pressure_level\": [str(l) for l in levels_dict[detail]],\n",
    "                    \"year\": str(year),\n",
    "                    \"month\": month_str,\n",
    "                    \"day\": days,\n",
    "                    \"time\": hours,\n",
    "                    \"area\": [\n",
    "                        lat_dict[detail].start,\n",
    "                        lon_dict[detail].start - 360,\n",
    "                        lat_dict[detail].stop,\n",
    "                        lon_dict[detail].stop - 360,\n",
    "                    ],\n",
    "                }, pl_file)\n",
    "                all_files.append(pl_file)\n",
    "        else:\n",
    "            safe_retrieve(\"reanalysis-era5-pressure-levels\", {\n",
    "                \"product_type\": \"reanalysis\",\n",
    "                \"format\": \"netcdf\",\n",
    "                \"variable\": pressure_var_dict[detail],\n",
    "                \"pressure_level\": [str(l) for l in levels_dict[detail]],\n",
    "                \"year\": str(year),\n",
    "                \"month\": month_str,\n",
    "                \"day\": days,\n",
    "                \"time\": hours,\n",
    "                \"area\": [\n",
    "                    lat_dict[detail].start,\n",
    "                    lon_dict[detail].start - 360,\n",
    "                    lat_dict[detail].stop,\n",
    "                    lon_dict[detail].stop - 360,\n",
    "                ],\n",
    "            }, pl_file)\n",
    "            all_files.append(pl_file)\n",
    "\n",
    "        # ------------------ Single levels ------------------\n",
    "        sfc_file = out_dir / f\"era5_sfc_{year}_{month_str}.nc\"\n",
    "        if sfc_file.exists():\n",
    "            try:\n",
    "                xr.open_dataset(sfc_file).close()\n",
    "                print(f\"Skipping (exists): {sfc_file}\")\n",
    "                all_files.append(sfc_file)\n",
    "            except Exception:\n",
    "                print(f\"Corrupt file detected, redownloading: {sfc_file}\")\n",
    "                sfc_file.unlink()\n",
    "                safe_retrieve(\"reanalysis-era5-single-levels\", {\n",
    "                    \"product_type\": \"reanalysis\",\n",
    "                    \"format\": \"netcdf\",\n",
    "                    \"variable\": surface_var_dict[detail],\n",
    "                    \"year\": str(year),\n",
    "                    \"month\": month_str,\n",
    "                    \"day\": days,\n",
    "                    \"time\": hours,\n",
    "                    \"area\": [\n",
    "                        lat_dict[detail].start,\n",
    "                        lon_dict[detail].start - 360,\n",
    "                        lat_dict[detail].stop,\n",
    "                        lon_dict[detail].stop - 360,\n",
    "                    ],\n",
    "                }, sfc_file)\n",
    "                all_files.append(sfc_file)\n",
    "        else:\n",
    "            safe_retrieve(\"reanalysis-era5-single-levels\", {\n",
    "                \"product_type\": \"reanalysis\",\n",
    "                \"format\": \"netcdf\",\n",
    "                \"variable\": surface_var_dict[detail],\n",
    "                \"year\": str(year),\n",
    "                \"month\": month_str,\n",
    "                \"day\": days,\n",
    "                \"time\": hours,\n",
    "                \"area\": [\n",
    "                    lat_dict[detail].start,\n",
    "                    lon_dict[detail].start - 360,\n",
    "                    lat_dict[detail].stop,\n",
    "                    lon_dict[detail].stop - 360,\n",
    "                ],\n",
    "            }, sfc_file)\n",
    "            all_files.append(sfc_file)"
   ]
  },
  {
   "cell_type": "code",
   "execution_count": null,
   "id": "0425ecd9-34aa-4786-9b50-5269e84131e9",
   "metadata": {},
   "outputs": [],
   "source": [
    "# --- combine downloaded files and finish pipeline\n",
    "ds = xr.open_mfdataset(all_files, combine=\"by_coords\")\n",
    "\n",
    "# subset exactly the selected days again (to be safe)\n",
    "time_days = ds.time.dt.floor(\"D\")\n",
    "ds = ds.sel(time=ds.time[np.isin(time_days, selected_days)])\n",
    "\n",
    "# add day/tod index, thin spatially\n",
    "ds = ds.assign_coords(day=ds.time.dt.floor(\"D\"), tod=ds.time.dt.hour)\n",
    "ds = ds.set_index(time=[\"day\", \"tod\"]).unstack(\"time\")\n",
    "ds = ds.thin({\"latitude\": space_thin_dict[detail], \"longitude\": space_thin_dict[detail]})\n",
    "\n",
    "ds.to_zarr(f\"/glade/work/milesep/convective_outlook_ml/inputs_raw_{detail}_cds.zarr\",\n",
    "           mode=\"w\", consolidated=True)"
   ]
  }
 ],
 "metadata": {
  "kernelspec": {
   "display_name": "Python [conda env:mlco]",
   "language": "python",
   "name": "conda-env-mlco-py"
  },
  "language_info": {
   "codemirror_mode": {
    "name": "ipython",
    "version": 3
   },
   "file_extension": ".py",
   "mimetype": "text/x-python",
   "name": "python",
   "nbconvert_exporter": "python",
   "pygments_lexer": "ipython3",
   "version": "3.11.9"
  }
 },
 "nbformat": 4,
 "nbformat_minor": 5
}
