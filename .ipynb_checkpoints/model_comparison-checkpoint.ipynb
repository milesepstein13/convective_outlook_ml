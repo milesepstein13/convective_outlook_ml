{
 "cells": [
  {
   "cell_type": "markdown",
   "id": "6c87307c-c45a-40cd-a668-fb01cbb6b91c",
   "metadata": {},
   "source": [
    "This notebook will compare model architecture, hyperparameters, inputs, and training/validation error"
   ]
  },
  {
   "cell_type": "code",
   "execution_count": null,
   "id": "f7640bc2-c69c-4959-9d04-e4bf91e1fc11",
   "metadata": {},
   "outputs": [],
   "source": []
  }
 ],
 "metadata": {
  "kernelspec": {
   "display_name": "Python 3 (ipykernel)",
   "language": "python",
   "name": "python3"
  },
  "language_info": {
   "codemirror_mode": {
    "name": "ipython",
    "version": 3
   },
   "file_extension": ".py",
   "mimetype": "text/x-python",
   "name": "python",
   "nbconvert_exporter": "python",
   "pygments_lexer": "ipython3",
   "version": "3.10.13"
  }
 },
 "nbformat": 4,
 "nbformat_minor": 5
}
