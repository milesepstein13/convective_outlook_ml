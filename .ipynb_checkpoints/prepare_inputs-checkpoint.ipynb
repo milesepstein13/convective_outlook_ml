{
 "cells": [
  {
   "cell_type": "markdown",
   "id": "02fb829c-7bee-4414-b269-66fda9832ae0",
   "metadata": {},
   "source": [
    "Splits inputs into into training and test and normalizes (from and to /work/milesep/convective_outlook_ml)"
   ]
  },
  {
   "cell_type": "code",
   "execution_count": 5,
   "id": "10d0a433-650e-4279-8c7b-62535ab2ec99",
   "metadata": {},
   "outputs": [],
   "source": [
    "import xarray as xr"
   ]
  },
  {
   "cell_type": "code",
   "execution_count": 6,
   "id": "6813173b-869a-46d4-b8b5-4ddf5ff0f19b",
   "metadata": {},
   "outputs": [],
   "source": [
    "ds = xr.open_zarr(\"/glade/work/milesep/convective_outlook_ml/mdt_inputs_raw.zarr\")"
   ]
  },
  {
   "cell_type": "code",
   "execution_count": 7,
   "id": "85b50c05-f872-48af-a114-d2610e903771",
   "metadata": {},
   "outputs": [],
   "source": [
    "ds = ds.chunk({\"time\": 240})"
   ]
  },
  {
   "cell_type": "code",
   "execution_count": 8,
   "id": "1270969b-360a-4d16-a5c4-e870fd2d368d",
   "metadata": {},
   "outputs": [],
   "source": [
    "# split time into date and TOD\n",
    "\n",
    "ds = ds.assign_coords(\n",
    "    day=('time', ds.time.dt.floor('D').data),\n",
    "    tod=('time', ds.time.dt.time.data)\n",
    ")\n",
    "\n",
    "ds = ds.set_index(time=['day', 'tod']).unstack('time')"
   ]
  },
  {
   "cell_type": "code",
   "execution_count": 9,
   "id": "177f2c7e-da14-43e3-83ac-27ab6fee07ad",
   "metadata": {},
   "outputs": [],
   "source": [
    "# split into training and test datasets\n",
    "\n",
    "train_ds = ds.sel(day=slice('2002-01-01', '2019-12-31'))\n",
    "test_ds = ds.sel(day=slice('2020-01-01', '2024-12-31'))\n",
    "test_ds = test_ds.chunk({'day': 10})"
   ]
  },
  {
   "cell_type": "code",
   "execution_count": 10,
   "id": "d25f023e-494a-48ee-b39f-37a649012fd0",
   "metadata": {},
   "outputs": [],
   "source": [
    "# mean and std for each day\n",
    "def compute_daily_stats(ds):\n",
    "    day_stats = {}\n",
    "    for var in ds.data_vars:\n",
    "        dims = ds[var].dims\n",
    "\n",
    "        # Determine whether level is in the variable\n",
    "        reduce_dims = set(dims) & {'latitude', 'longitude', 'tod'}\n",
    "        group_dims = ['day']\n",
    "        if 'level' in dims:\n",
    "            group_dims.append('level')\n",
    "\n",
    "        # Compute stats\n",
    "        mean = ds[var].groupby('day').mean(dim=list(reduce_dims | {'tod'}), skipna=True)\n",
    "        std = ds[var].groupby('day').std(dim=list(reduce_dims | {'tod'}), skipna=True)\n",
    "\n",
    "        # Preserve level as dimension\n",
    "        mean = mean.rename(f'{var}_mean')\n",
    "        std = std.rename(f'{var}_std')\n",
    "\n",
    "        day_stats[f'{var}_mean'] = mean\n",
    "        day_stats[f'{var}_std'] = std\n",
    "\n",
    "    return xr.Dataset(day_stats)\n",
    "\n",
    "\n",
    "# Compute the stats\n",
    "daily_stats_ds = compute_daily_stats(train_ds)"
   ]
  },
  {
   "cell_type": "code",
   "execution_count": null,
   "id": "28472f42-16a8-47f9-9493-83414bcbacbe",
   "metadata": {},
   "outputs": [],
   "source": [
    "daily_stats_ds = daily_stats_ds.compute()\n",
    "daily_stats_ds.to_nc(\"data/processed_data/daily_input_stats.nc\")"
   ]
  },
  {
   "cell_type": "code",
   "execution_count": null,
   "id": "9dc42764-ee2b-48a2-a9a5-92d5efc91207",
   "metadata": {},
   "outputs": [],
   "source": [
    "def compute_overall_from_daily_stats(daily_stats_ds):\n",
    "\n",
    "    overall_stats = {}\n",
    "\n",
    "    for var in daily_stats_ds.data_vars:\n",
    "        if var.endswith(\"_mean\"):\n",
    "            base_name = var[:-5]\n",
    "            mean_name = f\"{base_name}_mean\"\n",
    "            std_name = f\"{base_name}_std\"\n",
    "\n",
    "            mean_da = daily_stats_ds[mean_name]\n",
    "            std_da = daily_stats_ds[std_name]\n",
    "\n",
    "            # Mean of daily means\n",
    "            overall_mean = mean_da.mean(dim=\"day\", skipna=True)\n",
    "\n",
    "            # Pooled std calculation:\n",
    "            # std_total = sqrt( mean(std_i^2 + (mu_i - mu_total)^2) ) (law of total variance)\n",
    "            variance_component = std_da**2 + (mean_da - overall_mean)**2\n",
    "            overall_std = (variance_component.mean(dim=\"day\", skipna=True))**0.5\n",
    "\n",
    "            overall_stats[f\"{base_name}_mean\"] = overall_mean\n",
    "            overall_stats[f\"{base_name}_std\"] = overall_std\n",
    "\n",
    "    return xr.Dataset(overall_stats)"
   ]
  },
  {
   "cell_type": "code",
   "execution_count": null,
   "id": "97f2586f-5327-4b2e-a6cd-26fbddac2301",
   "metadata": {},
   "outputs": [],
   "source": [
    "def standardize_with_stats(ds, stats):\n",
    "    standardized = {}\n",
    "    for var in ds.data_vars:\n",
    "        da = ds[var]\n",
    "        mean = stats[f\"{var}_mean\"]\n",
    "        std = stats[f\"{var}_std\"]\n",
    "        standardized[var] = (da - mean) / std\n",
    "    return xr.Dataset(standardized)"
   ]
  },
  {
   "cell_type": "code",
   "execution_count": null,
   "id": "c7618926-4bd3-489f-9148-31b67f2363c5",
   "metadata": {},
   "outputs": [],
   "source": [
    "train_stats = compute_overall_from_daily_stats(daily_stats_ds)"
   ]
  },
  {
   "cell_type": "code",
   "execution_count": null,
   "id": "43252702-062a-4658-8d70-f94852f5ab4a",
   "metadata": {},
   "outputs": [],
   "source": [
    "train_ds_std = standardize_with_stats(train_ds, train_stats)\n",
    "test_ds_std = standardize_with_stats(test_ds, train_stats)"
   ]
  },
  {
   "cell_type": "code",
   "execution_count": null,
   "id": "d9f869b2-d725-494c-a842-e26950226d22",
   "metadata": {},
   "outputs": [],
   "source": [
    "train_ds_std.to_zarr(\"/glade/work/milesep/convective_outlook_ml/mdt_train_inputs_processed.zarr\", mode=\"w\")"
   ]
  },
  {
   "cell_type": "code",
   "execution_count": null,
   "id": "96eb40c1-f0f0-489c-9d4a-12e337537f8a",
   "metadata": {},
   "outputs": [],
   "source": [
    "test_ds_std.to_zarr(\"/glade/work/milesep/convective_outlook_ml/mdt_test_inputs_processed.zarr\", mode=\"w\")"
   ]
  }
 ],
 "metadata": {
  "kernelspec": {
   "display_name": "Python [conda env:mlco]",
   "language": "python",
   "name": "conda-env-mlco-py"
  },
  "language_info": {
   "codemirror_mode": {
    "name": "ipython",
    "version": 3
   },
   "file_extension": ".py",
   "mimetype": "text/x-python",
   "name": "python",
   "nbconvert_exporter": "python",
   "pygments_lexer": "ipython3",
   "version": "3.11.9"
  }
 },
 "nbformat": 4,
 "nbformat_minor": 5
}
