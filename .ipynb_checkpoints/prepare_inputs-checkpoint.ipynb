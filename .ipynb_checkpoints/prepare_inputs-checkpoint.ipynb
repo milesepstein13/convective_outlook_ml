{
 "cells": [
  {
   "cell_type": "markdown",
   "id": "0cea6da4-bcd8-4452-9be8-3b5ff7d02f2f",
   "metadata": {},
   "source": [
    "This notebook will prepare the input datasets (by loading from era5) and save them to data/processed_data"
   ]
  },
  {
   "cell_type": "code",
   "execution_count": null,
   "id": "20a4f9e5-ab22-4ba4-966d-0713c8ce5e57",
   "metadata": {},
   "outputs": [],
   "source": []
  }
 ],
 "metadata": {
  "kernelspec": {
   "display_name": "Python 3 (ipykernel)",
   "language": "python",
   "name": "python3"
  },
  "language_info": {
   "codemirror_mode": {
    "name": "ipython",
    "version": 3
   },
   "file_extension": ".py",
   "mimetype": "text/x-python",
   "name": "python",
   "nbconvert_exporter": "python",
   "pygments_lexer": "ipython3",
   "version": "3.10.13"
  }
 },
 "nbformat": 4,
 "nbformat_minor": 5
}
