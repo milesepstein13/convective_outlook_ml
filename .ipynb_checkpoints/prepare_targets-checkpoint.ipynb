{
 "cells": [
  {
   "cell_type": "markdown",
   "id": "321bbc5e-a389-4094-b7c5-120f81992f71",
   "metadata": {},
   "source": [
    "This file will prepare the test and training target variable datasets (by selecting from contingencies and pph datasets in data/raw_data) and save in data/processed_data"
   ]
  },
  {
   "cell_type": "code",
   "execution_count": null,
   "id": "723c9dc3-e9a4-45b4-9a9b-b2bbd9dd6fd7",
   "metadata": {},
   "outputs": [],
   "source": []
  }
 ],
 "metadata": {
  "kernelspec": {
   "display_name": "Python 3 (ipykernel)",
   "language": "python",
   "name": "python3"
  },
  "language_info": {
   "codemirror_mode": {
    "name": "ipython",
    "version": 3
   },
   "file_extension": ".py",
   "mimetype": "text/x-python",
   "name": "python",
   "nbconvert_exporter": "python",
   "pygments_lexer": "ipython3",
   "version": "3.10.13"
  }
 },
 "nbformat": 4,
 "nbformat_minor": 5
}
