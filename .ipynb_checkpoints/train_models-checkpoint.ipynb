{
 "cells": [
  {
   "cell_type": "markdown",
   "id": "6c87307c-c45a-40cd-a668-fb01cbb6b91c",
   "metadata": {},
   "source": [
    "This notebook will compare model architecture, hyperparameters, inputs, and training/validation error"
   ]
  },
  {
   "cell_type": "code",
   "execution_count": 1,
   "id": "f7640bc2-c69c-4959-9d04-e4bf91e1fc11",
   "metadata": {},
   "outputs": [],
   "source": [
    "import xarray as xr\n",
    "import numpy as np\n",
    "from src.crossval import run_crossval"
   ]
  },
  {
   "cell_type": "code",
   "execution_count": 2,
   "id": "0bf77751",
   "metadata": {},
   "outputs": [],
   "source": [
    "input_dir = \"/glade/work/milesep/convective_outlook_ml\"\n",
    "target_dir = \"data/processed_data\"\n",
    "stats_dir = \"data/processed_data\""
   ]
  },
  {
   "cell_type": "code",
   "execution_count": 4,
   "id": "73b26ee0-34da-41d2-9224-1cc6110d00e1",
   "metadata": {},
   "outputs": [
    {
     "name": "stdout",
     "output_type": "stream",
     "text": [
      "cnn3d_3_layer_big full 0.001 8\n",
      "Using device: cuda\n",
      "\n",
      "Fold 0:\n",
      "Loading data...\n",
      "Standardizing data...\n",
      "Setting up datasets...\n",
      "Model device: cuda:0\n",
      "Starting training from scratch\n"
     ]
    },
    {
     "name": "stderr",
     "output_type": "stream",
     "text": [
      "Training: 100%|██████████| 50/50 [11:41<00:00, 14.03s/epoch, train_loss=0.8414, val_loss=1.0289]\n"
     ]
    },
    {
     "name": "stdout",
     "output_type": "stream",
     "text": [
      "\n",
      "Fold 1:\n",
      "Loading data...\n",
      "Standardizing data...\n",
      "Setting up datasets...\n",
      "Model device: cuda:0\n",
      "Starting training from scratch\n"
     ]
    },
    {
     "name": "stderr",
     "output_type": "stream",
     "text": [
      "Training: 100%|██████████| 50/50 [11:38<00:00, 13.97s/epoch, train_loss=0.8030, val_loss=1.1571]\n"
     ]
    },
    {
     "name": "stdout",
     "output_type": "stream",
     "text": [
      "\n",
      "Fold 2:\n",
      "Loading data...\n",
      "Standardizing data...\n",
      "Setting up datasets...\n",
      "Model device: cuda:0\n",
      "Starting training from scratch\n"
     ]
    },
    {
     "name": "stderr",
     "output_type": "stream",
     "text": [
      "Training: 100%|██████████| 50/50 [11:25<00:00, 13.71s/epoch, train_loss=0.8575, val_loss=1.0144]\n"
     ]
    },
    {
     "name": "stdout",
     "output_type": "stream",
     "text": [
      "\n",
      "Fold 3:\n",
      "Loading data...\n",
      "Standardizing data...\n",
      "Setting up datasets...\n",
      "Model device: cuda:0\n",
      "Starting training from scratch\n"
     ]
    },
    {
     "name": "stderr",
     "output_type": "stream",
     "text": [
      "Training: 100%|██████████| 50/50 [12:02<00:00, 14.46s/epoch, train_loss=0.8823, val_loss=0.9088]\n"
     ]
    },
    {
     "name": "stdout",
     "output_type": "stream",
     "text": [
      "\n",
      "Fold 4:\n",
      "Loading data...\n",
      "Standardizing data...\n",
      "Setting up datasets...\n",
      "Model device: cuda:0\n",
      "Starting training from scratch\n"
     ]
    },
    {
     "name": "stderr",
     "output_type": "stream",
     "text": [
      "Training: 100%|██████████| 50/50 [11:38<00:00, 13.97s/epoch, train_loss=0.8613, val_loss=0.8661]\n"
     ]
    },
    {
     "name": "stdout",
     "output_type": "stream",
     "text": [
      "Logging average losses...\n",
      "Reading fold 0\n",
      "Reading fold 1\n",
      "Reading fold 2\n",
      "Reading fold 3\n",
      "Reading fold 4\n",
      "cnn3d_3_layer_big: 0.945 ± 0.113\n",
      "cnn3d_fewer_channels full 0.001 8\n",
      "Using device: cuda\n",
      "\n",
      "Fold 0:\n",
      "Loading data...\n",
      "Standardizing data...\n",
      "Setting up datasets...\n",
      "Model device: cuda:0\n",
      "Starting training from scratch\n"
     ]
    },
    {
     "name": "stderr",
     "output_type": "stream",
     "text": [
      "Training: 100%|██████████| 50/50 [11:39<00:00, 13.99s/epoch, train_loss=0.9445, val_loss=0.9634]\n"
     ]
    },
    {
     "name": "stdout",
     "output_type": "stream",
     "text": [
      "\n",
      "Fold 1:\n",
      "Loading data...\n",
      "Standardizing data...\n",
      "Setting up datasets...\n",
      "Model device: cuda:0\n",
      "Starting training from scratch\n"
     ]
    },
    {
     "name": "stderr",
     "output_type": "stream",
     "text": [
      "Training: 100%|██████████| 50/50 [11:37<00:00, 13.95s/epoch, train_loss=0.8908, val_loss=1.2080]\n"
     ]
    },
    {
     "name": "stdout",
     "output_type": "stream",
     "text": [
      "\n",
      "Fold 2:\n",
      "Loading data...\n",
      "Standardizing data...\n",
      "Setting up datasets...\n",
      "Model device: cuda:0\n",
      "Starting training from scratch\n"
     ]
    },
    {
     "name": "stderr",
     "output_type": "stream",
     "text": [
      "Training: 100%|██████████| 50/50 [11:39<00:00, 13.98s/epoch, train_loss=0.9381, val_loss=1.0020]\n"
     ]
    },
    {
     "name": "stdout",
     "output_type": "stream",
     "text": [
      "\n",
      "Fold 3:\n",
      "Loading data...\n",
      "Standardizing data...\n",
      "Setting up datasets...\n",
      "Model device: cuda:0\n",
      "Starting training from scratch\n"
     ]
    },
    {
     "name": "stderr",
     "output_type": "stream",
     "text": [
      "Training: 100%|██████████| 50/50 [12:07<00:00, 14.54s/epoch, train_loss=0.9598, val_loss=0.8944]\n"
     ]
    },
    {
     "name": "stdout",
     "output_type": "stream",
     "text": [
      "\n",
      "Fold 4:\n",
      "Loading data...\n",
      "Standardizing data...\n",
      "Setting up datasets...\n",
      "Model device: cuda:0\n",
      "Starting training from scratch\n"
     ]
    },
    {
     "name": "stderr",
     "output_type": "stream",
     "text": [
      "Training: 100%|██████████| 50/50 [11:42<00:00, 14.05s/epoch, train_loss=0.9819, val_loss=0.8258]\n"
     ]
    },
    {
     "name": "stdout",
     "output_type": "stream",
     "text": [
      "Logging average losses...\n",
      "Reading fold 0\n",
      "Reading fold 1\n",
      "Reading fold 2\n",
      "Reading fold 3\n",
      "Reading fold 4\n",
      "cnn3d_fewer_channels: 0.966 ± 0.132\n",
      "cnn3d_3_layer_fewer_channels full 0.001 8\n",
      "Using device: cuda\n",
      "\n",
      "Fold 0:\n",
      "Loading data...\n",
      "Standardizing data...\n",
      "Setting up datasets...\n",
      "Model device: cuda:0\n",
      "Starting training from scratch\n"
     ]
    },
    {
     "name": "stderr",
     "output_type": "stream",
     "text": [
      "Training: 100%|██████████| 50/50 [11:42<00:00, 14.06s/epoch, train_loss=0.9194, val_loss=1.0003]\n"
     ]
    },
    {
     "name": "stdout",
     "output_type": "stream",
     "text": [
      "\n",
      "Fold 1:\n",
      "Loading data...\n",
      "Standardizing data...\n",
      "Setting up datasets...\n",
      "Model device: cuda:0\n",
      "Starting training from scratch\n"
     ]
    },
    {
     "name": "stderr",
     "output_type": "stream",
     "text": [
      "Training: 100%|██████████| 50/50 [11:41<00:00, 14.03s/epoch, train_loss=0.8711, val_loss=1.2028]\n"
     ]
    },
    {
     "name": "stdout",
     "output_type": "stream",
     "text": [
      "\n",
      "Fold 2:\n",
      "Loading data...\n",
      "Standardizing data...\n",
      "Setting up datasets...\n",
      "Model device: cuda:0\n",
      "Starting training from scratch\n"
     ]
    },
    {
     "name": "stderr",
     "output_type": "stream",
     "text": [
      "Training: 100%|██████████| 50/50 [11:47<00:00, 14.14s/epoch, train_loss=0.9131, val_loss=0.9853]\n"
     ]
    },
    {
     "name": "stdout",
     "output_type": "stream",
     "text": [
      "\n",
      "Fold 3:\n",
      "Loading data...\n",
      "Standardizing data...\n",
      "Setting up datasets...\n",
      "Model device: cuda:0\n",
      "Starting training from scratch\n"
     ]
    },
    {
     "name": "stderr",
     "output_type": "stream",
     "text": [
      "Training: 100%|██████████| 50/50 [11:30<00:00, 13.80s/epoch, train_loss=0.9542, val_loss=0.8761]\n"
     ]
    },
    {
     "name": "stdout",
     "output_type": "stream",
     "text": [
      "\n",
      "Fold 4:\n",
      "Loading data...\n",
      "Standardizing data...\n",
      "Setting up datasets...\n",
      "Model device: cuda:0\n",
      "Starting training from scratch\n"
     ]
    },
    {
     "name": "stderr",
     "output_type": "stream",
     "text": [
      "Training: 100%|██████████| 50/50 [11:39<00:00, 13.99s/epoch, train_loss=0.9767, val_loss=0.8286]\n"
     ]
    },
    {
     "name": "stdout",
     "output_type": "stream",
     "text": [
      "Logging average losses...\n",
      "Reading fold 0\n",
      "Reading fold 1\n",
      "Reading fold 2\n",
      "Reading fold 3\n",
      "Reading fold 4\n",
      "cnn3d_3_layer_fewer_channels: 0.957 ± 0.128\n"
     ]
    }
   ],
   "source": [
    "# compare all models, save training and validation curves along with corresponding model name, data level, model/training hyperparameters\n",
    "model_names = [\"cnn3d_3_layer_big\", \"cnn3d_fewer_channels\", \"cnn3d_3_layer_fewer_channels\"]\n",
    "\n",
    "levels = [\"full\", \"full\", \"full\"]\n",
    "\n",
    "lrs = [1e-3, 1e-3, 1e-3]\n",
    "\n",
    "batch_sizes = [8, 8, 8]\n",
    "\n",
    "epochs = [50] * len(model_names)\n",
    "# restarts = [True, False, False, False, False, False, False, False, False, False, False]\n",
    "# Don't do linear regression with full dataset--too many parameters\n",
    "for name, level, lr, batch_size, epoch in zip(model_names, levels, lrs, batch_sizes, epochs):\n",
    "    if level[:4] == 'slgt':\n",
    "        slgt_mod_str = '_slgt'\n",
    "    else:\n",
    "        slgt_mod_str = ''\n",
    "    print(name, level, lr, batch_size)\n",
    "    inputs = xr.open_zarr(f\"{input_dir}/train_inputs_{level}.zarr\")\n",
    "    targets = xr.open_dataset(f\"{target_dir}/train_targets{slgt_mod_str}.nc\")\n",
    "    stats = xr.open_dataset(f\"{stats_dir}/daily_input_stats_{level}.nc\")\n",
    "    scores, train_counts, val_counts = run_crossval(inputs, targets, stats, name, batch_size = batch_size, lr = lr, epochs = epoch, level = level, restart = True)\n",
    "    print(f\"{name}: {np.average(scores, weights = val_counts):.3f} ± {np.std(scores):.3f}\")"
   ]
  }
 ],
 "metadata": {
  "kernelspec": {
   "display_name": "Python [conda env:mlco]",
   "language": "python",
   "name": "conda-env-mlco-py"
  },
  "language_info": {
   "codemirror_mode": {
    "name": "ipython",
    "version": 3
   },
   "file_extension": ".py",
   "mimetype": "text/x-python",
   "name": "python",
   "nbconvert_exporter": "python",
   "pygments_lexer": "ipython3",
   "version": "3.11.9"
  }
 },
 "nbformat": 4,
 "nbformat_minor": 5
}
