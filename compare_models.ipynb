{
 "cells": [
  {
   "cell_type": "markdown",
   "id": "95d4d0bc",
   "metadata": {},
   "source": [
    "compares model performance across models trained with train_models"
   ]
  }
 ],
 "metadata": {
  "language_info": {
   "name": "python"
  }
 },
 "nbformat": 4,
 "nbformat_minor": 5
}
