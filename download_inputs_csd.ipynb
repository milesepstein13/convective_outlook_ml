{
 "cells": [
  {
   "cell_type": "code",
   "execution_count": 1,
   "id": "b709d967-5980-4be3-84cc-e41da8f26966",
   "metadata": {},
   "outputs": [],
   "source": [
    "import cdsapi\n",
    "import xarray as xr\n",
    "import pandas as pd\n",
    "import numpy as np\n",
    "from pathlib import Path\n",
    "import time"
   ]
  },
  {
   "cell_type": "code",
   "execution_count": 2,
   "id": "e3fdd94d-9145-43eb-96ec-00ed5ad818d0",
   "metadata": {},
   "outputs": [],
   "source": [
    "c = cdsapi.Client()"
   ]
  },
  {
   "cell_type": "code",
   "execution_count": 3,
   "id": "7c7a862c-cc6e-4d5b-8e37-c2c550afc391",
   "metadata": {},
   "outputs": [],
   "source": [
    "# specifying sizes and thinnings\n",
    "\n",
    "lat_dict = {\n",
    "    'full': slice(50, 25),\n",
    "    'small': slice(45, 30),\n",
    "    'slgt_small': slice(50, 25),\n",
    "    'slgt_full': slice(50, 25)\n",
    "}\n",
    "\n",
    "lon_dict = {\n",
    "    'full': slice(360-125, 360-66),\n",
    "    'small': slice(360-105, 360-85),\n",
    "    'slgt_small': slice(360-125, 360-66),\n",
    "    'slgt_full': slice(360-125, 360-66)\n",
    "}\n",
    "\n",
    "levels_dict = {\n",
    "    'full': [925, 850, 700, 500, 300],\n",
    "    'small': [925, 850, 700, 500, 300],\n",
    "    'slgt_small': [925, 850, 700, 500, 300],\n",
    "    'slgt_full': [925, 850, 700, 500, 300]\n",
    "}\n",
    "\n",
    "time_thin_dict = {\n",
    "    'full': 1,\n",
    "    'small': 6,\n",
    "    'slgt_small': 6,\n",
    "    'slgt_full': 1,\n",
    "}\n",
    "\n",
    "space_thin_dict = {\n",
    "    'full': 1,\n",
    "    'small': 4,\n",
    "    'slgt_small': 4,\n",
    "    'slgt_full': 1\n",
    "}\n",
    "\n",
    "risk_level_dict = {\n",
    "    'full': ['MDT', 'HIGH'],\n",
    "    'small': ['MDT', 'HIGH'],\n",
    "    'slgt_small': ['SLGT', 'ENH', 'MDT', 'HIGH'],\n",
    "    'slgt_full': ['SLGT', 'ENH', 'MDT', 'HIGH']\n",
    "}\n",
    "\n",
    "pressure_var_dict = {\n",
    "    'full': [\"geopotential\", \"potential_vorticity\", \"specific_humidity\", \"temperature\", \"u_component_of_wind\", \"v_component_of_wind\", \"vertical_velocity\"],\n",
    "    'small': [\"geopotential\", \"potential_vorticity\", \"specific_humidity\", \"temperature\", \"u_component_of_wind\", \"v_component_of_wind\", \"vertical_velocity\"],\n",
    "    'slgt_small': [\"geopotential\", \"potential_vorticity\", \"specific_humidity\", \"temperature\", \"u_component_of_wind\", \"v_component_of_wind\", \"vertical_velocity\"],\n",
    "    'slgt_full': [\"geopotential\", \"potential_vorticity\", \"specific_humidity\", \"temperature\", \"u_component_of_wind\", \"v_component_of_wind\", \"vertical_velocity\"]\n",
    "}\n",
    "\n",
    "surface_var_dict = {\n",
    "    'full': [\"10m_u_component_of_wind\", \"10m_v_component_of_wind\", \"2m_dewpoint_temperature\", \"2m_temperature\", \"geopotential_at_surface\", \"toa_incident_solar_radiation\"],\n",
    "    'small': [\"10m_u_component_of_wind\", \"10m_v_component_of_wind\", \"2m_dewpoint_temperature\", \"2m_temperature\", \"geopotential_at_surface\", \"toa_incident_solar_radiation\"],\n",
    "    'slgt_small': [\"10m_u_component_of_wind\", \"10m_v_component_of_wind\", \"2m_dewpoint_temperature\", \"2m_temperature\", \"geopotential_at_surface\", \"toa_incident_solar_radiation\"],\n",
    "    'slgt_full': [\"10m_u_component_of_wind\", \"10m_v_component_of_wind\", \"2m_dewpoint_temperature\", \"2m_temperature\", \"geopotential_at_surface\", \"toa_incident_solar_radiation\"]\n",
    "}"
   ]
  },
  {
   "cell_type": "code",
   "execution_count": 4,
   "id": "ce4797a6-ce9f-4ee9-ad44-f29bf228aa18",
   "metadata": {},
   "outputs": [],
   "source": [
    "detail = 'slgt_full'"
   ]
  },
  {
   "cell_type": "code",
   "execution_count": 5,
   "id": "b4a777ce-bea0-4547-a2c5-c54a942ed9aa",
   "metadata": {},
   "outputs": [],
   "source": [
    "# --- risk days\n",
    "pph = xr.load_dataset(\"data/raw_data/labelled_pph.nc\")\n",
    "missing_dates = [\n",
    "    '200204250000', '200208300000', '200304150000', '200304160000',\n",
    "    '200306250000', '200307270000', '200307280000', '200312280000',\n",
    "    '200404140000', '200408090000', '200905280000', '201105210000',\n",
    "    '202005240000', '200510240000'\n",
    "]\n",
    "dates_of_interest = pph[\"time\"][pph[\"MAX_CAT\"].isin(risk_level_dict[detail])]\n",
    "dates_of_interest = dates_of_interest[dates_of_interest > \"200203310000\"]\n",
    "dates_of_interest = dates_of_interest[~(dates_of_interest.isin(missing_dates))]\n",
    "selected_days = pd.to_datetime(dates_of_interest.values, format=\"%Y%m%d%H%M\").normalize()\n",
    "\n",
    "years = np.unique(selected_days.year)"
   ]
  },
  {
   "cell_type": "code",
   "execution_count": 6,
   "id": "5a98ac5f-8ec1-49af-be27-4ad6c3113990",
   "metadata": {},
   "outputs": [],
   "source": [
    "out_dir = Path(\"/glade/work/milesep/era5_cds_\" + detail)\n",
    "out_dir.mkdir(parents=True, exist_ok=True)\n",
    "\n",
    "pl_files = []\n",
    "sfc_files = []\n",
    "\n",
    "# --- derive requested hours directly from thin factor\n",
    "hours = [f\"{h:02d}:00\" for h in range(0, 24, time_thin_dict[detail])]"
   ]
  },
  {
   "cell_type": "code",
   "execution_count": 7,
   "id": "2b0ae368-c7b2-491d-81f4-c12843f876bb",
   "metadata": {},
   "outputs": [],
   "source": [
    "def safe_retrieve(dataset, request, target, max_retries=5, wait=30):\n",
    "    \"\"\"\n",
    "    Robust CDSAPI download:\n",
    "    - Writes to .part file first\n",
    "    - Retries with exponential backoff if download fails\n",
    "    \"\"\"\n",
    "    tmp_target = target.with_suffix(\".nc.part\")\n",
    "\n",
    "    for attempt in range(1, max_retries + 1):\n",
    "        try:\n",
    "            c.retrieve(dataset, request, str(tmp_target))\n",
    "            tmp_target.rename(target)  # rename only after success\n",
    "            print(f\"✅ Downloaded: {target}\")\n",
    "            return target\n",
    "        except Exception as e:\n",
    "            print(f\"⚠️ Attempt {attempt} failed for {target}: {e}\")\n",
    "            if tmp_target.exists():\n",
    "                tmp_target.unlink()  # clean up bad partials\n",
    "            if attempt < max_retries:\n",
    "                sleep_time = wait * attempt\n",
    "                print(f\"Retrying in {sleep_time}s...\")\n",
    "                time.sleep(sleep_time)\n",
    "            else:\n",
    "                raise RuntimeError(f\"Failed to download {target} after {max_retries} attempts.\")"
   ]
  },
  {
   "cell_type": "code",
   "execution_count": 8,
   "id": "03d50661-2457-4798-9f4d-8a0354f0a967",
   "metadata": {},
   "outputs": [],
   "source": [
    "area = [lat_dict[detail].start,\n",
    "        lon_dict[detail].start - 360,\n",
    "        lat_dict[detail].stop,\n",
    "        lon_dict[detail].stop - 360]\n",
    "\n",
    "levels = [str(l) for l in levels_dict[detail]]\n",
    "\n",
    "all_sfc_vars = surface_var_dict[detail]\n",
    "possible_accum_vars = ['toa_incident_solar_radiation']\n",
    "\n",
    "sfc_inst_vars = [x for x in all_sfc_vars if x not in possible_accum_vars]\n",
    "sfc_inst_vars = ['geopotential' if x == 'geopotential_at_surface' else x for x in sfc_inst_vars]\n",
    "sfc_accum_vars = [x for x in all_sfc_vars if x in possible_accum_vars]\n",
    "\n",
    "\n",
    "def chunk_list(lst, n):\n",
    "    \"\"\"Yield successive n-sized chunks from lst.\"\"\"\n",
    "    for i in range(0, len(lst), n):\n",
    "        yield lst[i:i + n]"
   ]
  },
  {
   "cell_type": "code",
   "execution_count": null,
   "id": "0ac0c9b7-0398-49ff-85d2-85e89dfd76c2",
   "metadata": {},
   "outputs": [
    {
     "name": "stdout",
     "output_type": "stream",
     "text": [
      "2002 4 23\n"
     ]
    },
    {
     "name": "stderr",
     "output_type": "stream",
     "text": [
      "2025-08-21 13:42:26,018 WARNING [2025-08-21T19:42:25.946185] You are using a deprecated API endpoint. If you are using cdsapi, please upgrade to the latest version.\n",
      "2025-08-21 13:42:26,019 INFO Request ID is 1d205d67-4475-45db-af4c-4588c43122a2\n",
      "2025-08-21 13:42:26,191 INFO status has been updated to accepted\n",
      "2025-08-21 13:42:39,083 INFO status has been updated to running\n",
      "2025-08-21 13:52:46,731 INFO status has been updated to successful\n"
     ]
    },
    {
     "data": {
      "application/vnd.jupyter.widget-view+json": {
       "model_id": "",
       "version_major": 2,
       "version_minor": 0
      },
      "text/plain": [
       "2dc41427d96700193c8dd34fdec2c09b.nc:   0%|          | 0.00/376M [00:00<?, ?B/s]"
      ]
     },
     "metadata": {},
     "output_type": "display_data"
    },
    {
     "name": "stdout",
     "output_type": "stream",
     "text": [
      "✅ Downloaded: /glade/work/milesep/era5_cds_slgt_full/era5_pl_2002_04_1.nc\n"
     ]
    },
    {
     "name": "stderr",
     "output_type": "stream",
     "text": [
      "2025-08-21 13:53:30,160 WARNING [2025-08-21T19:53:30.092006] You are using a deprecated API endpoint. If you are using cdsapi, please upgrade to the latest version.\n",
      "2025-08-21 13:53:30,161 INFO Request ID is 4f761969-06cd-461c-937f-6dad6fd5fab2\n",
      "2025-08-21 13:53:30,341 INFO status has been updated to accepted\n",
      "2025-08-21 13:53:38,109 INFO status has been updated to running\n",
      "2025-08-21 14:01:50,749 INFO status has been updated to successful\n"
     ]
    },
    {
     "data": {
      "application/vnd.jupyter.widget-view+json": {
       "model_id": "",
       "version_major": 2,
       "version_minor": 0
      },
      "text/plain": [
       "aa6387d1c7e13232b67a9137cfbaa786.nc:   0%|          | 0.00/376M [00:00<?, ?B/s]"
      ]
     },
     "metadata": {},
     "output_type": "display_data"
    },
    {
     "name": "stdout",
     "output_type": "stream",
     "text": [
      "✅ Downloaded: /glade/work/milesep/era5_cds_slgt_full/era5_pl_2002_04_2.nc\n"
     ]
    },
    {
     "name": "stderr",
     "output_type": "stream",
     "text": [
      "2025-08-21 14:07:30,417 WARNING [2025-08-21T20:07:30.345425] You are using a deprecated API endpoint. If you are using cdsapi, please upgrade to the latest version.\n",
      "2025-08-21 14:07:30,417 INFO Request ID is c02cd512-b7a7-4b78-9c12-774634cd1746\n",
      "2025-08-21 14:07:30,988 INFO status has been updated to accepted\n",
      "2025-08-21 14:07:44,125 INFO status has been updated to running\n",
      "2025-08-21 14:10:23,517 INFO status has been updated to successful\n"
     ]
    },
    {
     "data": {
      "application/vnd.jupyter.widget-view+json": {
       "model_id": "",
       "version_major": 2,
       "version_minor": 0
      },
      "text/plain": [
       "8a326e11ce00b04d286275e8731efaea.nc:   0%|          | 0.00/121M [00:00<?, ?B/s]"
      ]
     },
     "metadata": {},
     "output_type": "display_data"
    },
    {
     "name": "stdout",
     "output_type": "stream",
     "text": [
      "✅ Downloaded: /glade/work/milesep/era5_cds_slgt_full/era5_pl_2002_04_3.nc\n"
     ]
    },
    {
     "name": "stderr",
     "output_type": "stream",
     "text": [
      "2025-08-21 14:10:36,561 WARNING [2025-08-21T20:10:36.488119] You are using a deprecated API endpoint. If you are using cdsapi, please upgrade to the latest version.\n",
      "2025-08-21 14:10:36,561 INFO Request ID is d8d3665d-9f23-4a87-9d3c-c9eb370ac803\n",
      "2025-08-21 14:10:36,732 INFO status has been updated to accepted\n",
      "2025-08-21 14:11:08,927 INFO status has been updated to running\n",
      "2025-08-21 14:13:28,723 INFO status has been updated to successful\n"
     ]
    },
    {
     "data": {
      "application/vnd.jupyter.widget-view+json": {
       "model_id": "",
       "version_major": 2,
       "version_minor": 0
      },
      "text/plain": [
       "eccd6627f1521a0c6e5c9ba708b42f94.nc:   0%|          | 0.00/99.3M [00:00<?, ?B/s]"
      ]
     },
     "metadata": {},
     "output_type": "display_data"
    },
    {
     "name": "stdout",
     "output_type": "stream",
     "text": [
      "✅ Downloaded: /glade/work/milesep/era5_cds_slgt_full/era5_sfc_inst_2002_04.nc\n"
     ]
    },
    {
     "name": "stderr",
     "output_type": "stream",
     "text": [
      "2025-08-21 14:13:45,140 WARNING [2025-08-21T20:13:45.073276] You are using a deprecated API endpoint. If you are using cdsapi, please upgrade to the latest version.\n",
      "2025-08-21 14:13:45,141 INFO Request ID is 9fc50e48-33b3-456c-9b8a-d93834c7edf6\n",
      "2025-08-21 14:13:45,308 INFO status has been updated to accepted\n",
      "2025-08-21 14:14:06,035 INFO status has been updated to running\n",
      "2025-08-21 14:15:00,642 INFO status has been updated to successful\n"
     ]
    },
    {
     "data": {
      "application/vnd.jupyter.widget-view+json": {
       "model_id": "",
       "version_major": 2,
       "version_minor": 0
      },
      "text/plain": [
       "2b9f1f689a6cc7f641c2f35a9e36d1cc.nc:   0%|          | 0.00/8.44M [00:00<?, ?B/s]"
      ]
     },
     "metadata": {},
     "output_type": "display_data"
    },
    {
     "name": "stderr",
     "output_type": "stream",
     "text": [
      "2025-08-21 14:15:03,733 WARNING [2025-08-21T20:15:03.665351] You are using a deprecated API endpoint. If you are using cdsapi, please upgrade to the latest version.\n",
      "2025-08-21 14:15:03,734 INFO Request ID is b0cc102d-0919-4da5-83b4-381a5435d574\n"
     ]
    },
    {
     "name": "stdout",
     "output_type": "stream",
     "text": [
      "✅ Downloaded: /glade/work/milesep/era5_cds_slgt_full/era5_sfc_accum_2002_04.nc\n",
      "2002 5 28\n"
     ]
    },
    {
     "name": "stderr",
     "output_type": "stream",
     "text": [
      "2025-08-21 14:15:03,935 INFO status has been updated to accepted\n",
      "2025-08-21 14:15:16,795 INFO status has been updated to running\n",
      "2025-08-21 14:23:23,880 INFO status has been updated to successful\n"
     ]
    },
    {
     "data": {
      "application/vnd.jupyter.widget-view+json": {
       "model_id": "",
       "version_major": 2,
       "version_minor": 0
      },
      "text/plain": [
       "a5bb88b5d9eacdb36b5b4242bcc73784.nc:   0%|          | 0.00/376M [00:00<?, ?B/s]"
      ]
     },
     "metadata": {},
     "output_type": "display_data"
    },
    {
     "name": "stdout",
     "output_type": "stream",
     "text": [
      "✅ Downloaded: /glade/work/milesep/era5_cds_slgt_full/era5_pl_2002_05_1.nc\n"
     ]
    },
    {
     "name": "stderr",
     "output_type": "stream",
     "text": [
      "2025-08-21 14:24:01,764 WARNING [2025-08-21T20:24:01.694863] You are using a deprecated API endpoint. If you are using cdsapi, please upgrade to the latest version.\n",
      "2025-08-21 14:24:01,765 INFO Request ID is 0754ec46-af40-4dd1-bd52-5e4096bc3b31\n",
      "2025-08-21 14:24:01,936 INFO status has been updated to accepted\n",
      "2025-08-21 14:24:22,533 INFO status has been updated to running\n",
      "2025-08-21 14:32:21,956 INFO status has been updated to successful\n"
     ]
    },
    {
     "data": {
      "application/vnd.jupyter.widget-view+json": {
       "model_id": "",
       "version_major": 2,
       "version_minor": 0
      },
      "text/plain": [
       "c40ae7c15087139ecd9d60d1eb956e7e.nc:   0%|          | 0.00/376M [00:00<?, ?B/s]"
      ]
     },
     "metadata": {},
     "output_type": "display_data"
    },
    {
     "name": "stdout",
     "output_type": "stream",
     "text": [
      "✅ Downloaded: /glade/work/milesep/era5_cds_slgt_full/era5_pl_2002_05_2.nc\n"
     ]
    },
    {
     "name": "stderr",
     "output_type": "stream",
     "text": [
      "2025-08-21 14:32:55,685 WARNING [2025-08-21T20:32:55.615087] You are using a deprecated API endpoint. If you are using cdsapi, please upgrade to the latest version.\n",
      "2025-08-21 14:32:55,686 INFO Request ID is 65e3a4e0-1f90-4dd8-8c59-68c3176a162d\n",
      "2025-08-21 14:32:55,839 INFO status has been updated to accepted\n",
      "2025-08-21 14:33:08,738 INFO status has been updated to running\n",
      "2025-08-21 14:39:15,527 INFO status has been updated to successful\n"
     ]
    },
    {
     "data": {
      "application/vnd.jupyter.widget-view+json": {
       "model_id": "",
       "version_major": 2,
       "version_minor": 0
      },
      "text/plain": [
       "73114d39310cca09572c431481c172d4.nc:   0%|          | 0.00/306M [00:00<?, ?B/s]"
      ]
     },
     "metadata": {},
     "output_type": "display_data"
    },
    {
     "name": "stdout",
     "output_type": "stream",
     "text": [
      "✅ Downloaded: /glade/work/milesep/era5_cds_slgt_full/era5_pl_2002_05_3.nc\n"
     ]
    },
    {
     "name": "stderr",
     "output_type": "stream",
     "text": [
      "2025-08-21 14:39:53,433 WARNING [2025-08-21T20:39:53.364739] You are using a deprecated API endpoint. If you are using cdsapi, please upgrade to the latest version.\n",
      "2025-08-21 14:39:53,434 INFO Request ID is bbcff399-7bef-41e8-affa-b72f40f17352\n",
      "2025-08-21 14:39:53,614 INFO status has been updated to accepted\n",
      "2025-08-21 14:40:14,380 INFO status has been updated to running\n",
      "2025-08-21 14:44:12,794 INFO status has been updated to successful\n"
     ]
    },
    {
     "data": {
      "application/vnd.jupyter.widget-view+json": {
       "model_id": "",
       "version_major": 2,
       "version_minor": 0
      },
      "text/plain": [
       "4e74c3c7fbcca4592c28578344d66cf5.nc:   0%|          | 0.00/121M [00:00<?, ?B/s]"
      ]
     },
     "metadata": {},
     "output_type": "display_data"
    },
    {
     "name": "stdout",
     "output_type": "stream",
     "text": [
      "✅ Downloaded: /glade/work/milesep/era5_cds_slgt_full/era5_sfc_inst_2002_05.nc\n"
     ]
    },
    {
     "name": "stderr",
     "output_type": "stream",
     "text": [
      "2025-08-21 14:44:46,231 WARNING [2025-08-21T20:44:46.162434] You are using a deprecated API endpoint. If you are using cdsapi, please upgrade to the latest version.\n",
      "2025-08-21 14:44:46,231 INFO Request ID is ee757010-3097-4103-b4cf-89f2bb7f8173\n",
      "2025-08-21 14:44:46,382 INFO status has been updated to accepted\n",
      "2025-08-21 14:44:59,224 INFO status has been updated to running\n",
      "2025-08-21 14:46:01,559 INFO status has been updated to successful\n"
     ]
    },
    {
     "name": "stdout",
     "output_type": "stream",
     "text": [
      "⚠️ Attempt 1 failed for /glade/work/milesep/era5_cds_slgt_full/era5_sfc_accum_2002_05.nc: Result not ready, job is running\n",
      "Retrying in 30s...\n"
     ]
    },
    {
     "name": "stderr",
     "output_type": "stream",
     "text": [
      "2025-08-21 14:46:32,056 WARNING [2025-08-21T20:46:31.988953] You are using a deprecated API endpoint. If you are using cdsapi, please upgrade to the latest version.\n",
      "2025-08-21 14:46:32,058 INFO Request ID is df5ee037-01d5-4836-8422-ae38ab37c5e1\n",
      "2025-08-21 14:46:32,224 INFO status has been updated to accepted\n",
      "2025-08-21 14:46:52,825 INFO status has been updated to successful\n"
     ]
    },
    {
     "data": {
      "application/vnd.jupyter.widget-view+json": {
       "model_id": "",
       "version_major": 2,
       "version_minor": 0
      },
      "text/plain": [
       "e8cedb0072ae56f17c0c7cf0d039ba5.nc:   0%|          | 0.00/10.7M [00:00<?, ?B/s]"
      ]
     },
     "metadata": {},
     "output_type": "display_data"
    },
    {
     "name": "stdout",
     "output_type": "stream",
     "text": [
      "✅ Downloaded: /glade/work/milesep/era5_cds_slgt_full/era5_sfc_accum_2002_05.nc\n",
      "2002 6 30\n"
     ]
    },
    {
     "name": "stderr",
     "output_type": "stream",
     "text": [
      "2025-08-21 14:46:56,216 WARNING [2025-08-21T20:46:56.146509] You are using a deprecated API endpoint. If you are using cdsapi, please upgrade to the latest version.\n",
      "2025-08-21 14:46:56,217 INFO Request ID is dacc4ff7-ea0b-4980-ac0b-1c62128eddc7\n",
      "2025-08-21 14:46:56,373 INFO status has been updated to accepted\n",
      "2025-08-21 14:47:09,263 INFO status has been updated to running\n",
      "2025-08-21 14:55:16,353 INFO status has been updated to successful\n"
     ]
    },
    {
     "data": {
      "application/vnd.jupyter.widget-view+json": {
       "model_id": "",
       "version_major": 2,
       "version_minor": 0
      },
      "text/plain": [
       "a504719d349103e5a4da51702d066746.nc:   0%|          | 0.00/379M [00:00<?, ?B/s]"
      ]
     },
     "metadata": {},
     "output_type": "display_data"
    },
    {
     "name": "stdout",
     "output_type": "stream",
     "text": [
      "✅ Downloaded: /glade/work/milesep/era5_cds_slgt_full/era5_pl_2002_06_1.nc\n"
     ]
    },
    {
     "name": "stderr",
     "output_type": "stream",
     "text": [
      "2025-08-21 14:56:02,979 WARNING [2025-08-21T20:56:02.909697] You are using a deprecated API endpoint. If you are using cdsapi, please upgrade to the latest version.\n",
      "2025-08-21 14:56:02,980 INFO Request ID is 8fed9ce8-2a05-4f44-b2e1-ef33ca92ed78\n",
      "2025-08-21 14:56:03,171 INFO status has been updated to accepted\n",
      "2025-08-21 14:56:16,162 INFO status has been updated to running\n",
      "2025-08-21 15:04:24,596 INFO status has been updated to successful\n"
     ]
    },
    {
     "data": {
      "application/vnd.jupyter.widget-view+json": {
       "model_id": "",
       "version_major": 2,
       "version_minor": 0
      },
      "text/plain": [
       "fad2cadbcefc174b84cf424438a27843.nc:   0%|          | 0.00/380M [00:00<?, ?B/s]"
      ]
     },
     "metadata": {},
     "output_type": "display_data"
    },
    {
     "name": "stdout",
     "output_type": "stream",
     "text": [
      "✅ Downloaded: /glade/work/milesep/era5_cds_slgt_full/era5_pl_2002_06_2.nc\n"
     ]
    },
    {
     "name": "stderr",
     "output_type": "stream",
     "text": [
      "2025-08-21 15:05:18,115 WARNING [2025-08-21T21:05:18.041968] You are using a deprecated API endpoint. If you are using cdsapi, please upgrade to the latest version.\n",
      "2025-08-21 15:05:18,116 INFO Request ID is 8ab2acd0-1b2e-44e3-b269-38dd4a4b0c85\n",
      "2025-08-21 15:05:18,293 INFO status has been updated to accepted\n",
      "2025-08-21 15:05:38,962 INFO status has been updated to running\n",
      "2025-08-21 15:15:38,892 INFO status has been updated to successful\n"
     ]
    },
    {
     "data": {
      "application/vnd.jupyter.widget-view+json": {
       "model_id": "",
       "version_major": 2,
       "version_minor": 0
      },
      "text/plain": [
       "899d633a6a3f1c001fa83c25b891e809.nc:   0%|          | 0.00/378M [00:00<?, ?B/s]"
      ]
     },
     "metadata": {},
     "output_type": "display_data"
    },
    {
     "name": "stdout",
     "output_type": "stream",
     "text": [
      "✅ Downloaded: /glade/work/milesep/era5_cds_slgt_full/era5_pl_2002_06_3.nc\n"
     ]
    },
    {
     "name": "stderr",
     "output_type": "stream",
     "text": [
      "2025-08-21 15:17:06,164 WARNING [2025-08-21T21:17:06.096075] You are using a deprecated API endpoint. If you are using cdsapi, please upgrade to the latest version.\n",
      "2025-08-21 15:17:06,165 INFO Request ID is 0082df54-d670-4b19-b4af-c239571ca820\n",
      "2025-08-21 15:17:06,332 INFO status has been updated to accepted\n",
      "2025-08-21 15:18:21,596 INFO status has been updated to running\n",
      "2025-08-21 15:25:26,277 INFO status has been updated to successful\n"
     ]
    },
    {
     "data": {
      "application/vnd.jupyter.widget-view+json": {
       "model_id": "",
       "version_major": 2,
       "version_minor": 0
      },
      "text/plain": [
       "74a6fafaef02e21ee5919a810e4a3285.nc:   0%|          | 0.00/129M [00:00<?, ?B/s]"
      ]
     },
     "metadata": {},
     "output_type": "display_data"
    },
    {
     "name": "stdout",
     "output_type": "stream",
     "text": [
      "✅ Downloaded: /glade/work/milesep/era5_cds_slgt_full/era5_sfc_inst_2002_06.nc\n"
     ]
    },
    {
     "name": "stderr",
     "output_type": "stream",
     "text": [
      "2025-08-21 15:25:56,285 WARNING [2025-08-21T21:25:56.212900] You are using a deprecated API endpoint. If you are using cdsapi, please upgrade to the latest version.\n",
      "2025-08-21 15:25:56,286 INFO Request ID is 6c75df69-e6eb-4d8b-bd57-2345c0052196\n",
      "2025-08-21 15:25:56,462 INFO status has been updated to accepted\n",
      "2025-08-21 15:26:09,326 INFO status has been updated to running\n",
      "2025-08-21 15:26:17,093 INFO status has been updated to accepted\n",
      "2025-08-21 15:26:28,660 INFO status has been updated to running\n",
      "2025-08-21 15:27:50,328 INFO status has been updated to successful\n"
     ]
    },
    {
     "data": {
      "application/vnd.jupyter.widget-view+json": {
       "model_id": "",
       "version_major": 2,
       "version_minor": 0
      },
      "text/plain": [
       "817077a19097ec618d3cdcbe20b6cf4d.nc:   0%|          | 0.00/11.3M [00:00<?, ?B/s]"
      ]
     },
     "metadata": {},
     "output_type": "display_data"
    },
    {
     "name": "stdout",
     "output_type": "stream",
     "text": [
      "✅ Downloaded: /glade/work/milesep/era5_cds_slgt_full/era5_sfc_accum_2002_06.nc\n",
      "2002 7 30\n"
     ]
    },
    {
     "name": "stderr",
     "output_type": "stream",
     "text": [
      "2025-08-21 15:27:53,664 WARNING [2025-08-21T21:27:53.593033] You are using a deprecated API endpoint. If you are using cdsapi, please upgrade to the latest version.\n",
      "2025-08-21 15:27:53,665 INFO Request ID is ca89cb89-415c-4339-bbc1-12f4a18555f4\n",
      "2025-08-21 15:27:54,216 INFO status has been updated to accepted\n",
      "2025-08-21 15:28:07,105 INFO status has been updated to running\n",
      "2025-08-21 15:36:14,280 INFO status has been updated to successful\n"
     ]
    },
    {
     "data": {
      "application/vnd.jupyter.widget-view+json": {
       "model_id": "50ff72c799cd4a409c4e48257be282cf",
       "version_major": 2,
       "version_minor": 0
      },
      "text/plain": [
       "1ccbc3d73274d87d88739890f9ff1d02.nc:   0%|          | 0.00/378M [00:00<?, ?B/s]"
      ]
     },
     "metadata": {},
     "output_type": "display_data"
    },
    {
     "name": "stdout",
     "output_type": "stream",
     "text": [
      "✅ Downloaded: /glade/work/milesep/era5_cds_slgt_full/era5_pl_2002_07_1.nc\n"
     ]
    },
    {
     "name": "stderr",
     "output_type": "stream",
     "text": [
      "2025-08-21 15:38:24,686 WARNING [2025-08-21T21:38:24.613428] You are using a deprecated API endpoint. If you are using cdsapi, please upgrade to the latest version.\n",
      "2025-08-21 15:38:24,687 INFO Request ID is f8fde1c6-3ac6-4eec-a1ad-14c9a7addfe0\n",
      "2025-08-21 15:38:24,857 INFO status has been updated to accepted\n",
      "2025-08-21 15:38:32,504 INFO status has been updated to running\n",
      "2025-08-21 15:46:45,130 INFO status has been updated to successful\n"
     ]
    },
    {
     "data": {
      "application/vnd.jupyter.widget-view+json": {
       "model_id": "0619923e14b94d4189ca62eb247329ae",
       "version_major": 2,
       "version_minor": 0
      },
      "text/plain": [
       "b3c95e70de34f608f1932b79d21ecc4d.nc:   0%|          | 0.00/375M [00:00<?, ?B/s]"
      ]
     },
     "metadata": {},
     "output_type": "display_data"
    },
    {
     "name": "stderr",
     "output_type": "stream",
     "text": [
      "IOPub message rate exceeded.\n",
      "The Jupyter server will temporarily stop sending output\n",
      "to the client in order to avoid crashing it.\n",
      "To change this limit, set the config variable\n",
      "`--ServerApp.iopub_msg_rate_limit`.\n",
      "\n",
      "Current values:\n",
      "ServerApp.iopub_msg_rate_limit=1000.0 (msgs/sec)\n",
      "ServerApp.rate_limit_window=3.0 (secs)\n",
      "\n",
      "2025-08-21 16:09:45,926 INFO status has been updated to successful\n"
     ]
    },
    {
     "data": {
      "application/vnd.jupyter.widget-view+json": {
       "model_id": "2aa7bf9bae1342edb9bbb75c1e9e2ad1",
       "version_major": 2,
       "version_minor": 0
      },
      "text/plain": [
       "af7a234347c5fb49364c3c4d0e0345af.nc:   0%|          | 0.00/378M [00:00<?, ?B/s]"
      ]
     },
     "metadata": {},
     "output_type": "display_data"
    },
    {
     "name": "stdout",
     "output_type": "stream",
     "text": [
      "✅ Downloaded: /glade/work/milesep/era5_cds_slgt_full/era5_pl_2002_08_1.nc\n"
     ]
    },
    {
     "name": "stderr",
     "output_type": "stream",
     "text": [
      "2025-08-21 16:10:17,363 WARNING [2025-08-21T22:10:17.293841] You are using a deprecated API endpoint. If you are using cdsapi, please upgrade to the latest version.\n",
      "2025-08-21 16:10:17,364 INFO Request ID is 53ff0822-9057-42b1-8bcc-bd32bc98d70f\n",
      "2025-08-21 16:10:17,535 INFO status has been updated to accepted\n",
      "2025-08-21 16:10:32,625 INFO status has been updated to running\n",
      "2025-08-21 16:18:39,661 INFO status has been updated to successful\n"
     ]
    },
    {
     "data": {
      "application/vnd.jupyter.widget-view+json": {
       "model_id": "96313f1b515741e7a661f4ede5b9ef96",
       "version_major": 2,
       "version_minor": 0
      },
      "text/plain": [
       "7d562f73f4f2780f49028b11d8531cb.nc:   0%|          | 0.00/374M [00:00<?, ?B/s]"
      ]
     },
     "metadata": {},
     "output_type": "display_data"
    },
    {
     "name": "stdout",
     "output_type": "stream",
     "text": [
      "✅ Downloaded: /glade/work/milesep/era5_cds_slgt_full/era5_pl_2002_08_2.nc\n"
     ]
    },
    {
     "name": "stderr",
     "output_type": "stream",
     "text": [
      "2025-08-21 16:19:10,070 WARNING [2025-08-21T22:19:09.999927] You are using a deprecated API endpoint. If you are using cdsapi, please upgrade to the latest version.\n",
      "2025-08-21 16:19:10,071 INFO Request ID is 44a105c7-5fc8-40b4-a03d-9488508583c7\n",
      "2025-08-21 16:19:10,241 INFO status has been updated to accepted\n",
      "2025-08-21 16:19:30,990 INFO status has been updated to running\n",
      "2025-08-21 16:27:30,359 INFO status has been updated to successful\n"
     ]
    },
    {
     "data": {
      "application/vnd.jupyter.widget-view+json": {
       "model_id": "cdc90ef011c54443846783078c820bc2",
       "version_major": 2,
       "version_minor": 0
      },
      "text/plain": [
       "eb16f9e282a715b99c12f2d40b572e98.nc:   0%|          | 0.00/374M [00:00<?, ?B/s]"
      ]
     },
     "metadata": {},
     "output_type": "display_data"
    },
    {
     "name": "stdout",
     "output_type": "stream",
     "text": [
      "✅ Downloaded: /glade/work/milesep/era5_cds_slgt_full/era5_pl_2002_08_3.nc\n"
     ]
    },
    {
     "name": "stderr",
     "output_type": "stream",
     "text": [
      "2025-08-21 16:28:37,499 WARNING [2025-08-21T22:28:37.426937] You are using a deprecated API endpoint. If you are using cdsapi, please upgrade to the latest version.\n",
      "2025-08-21 16:28:37,500 INFO Request ID is a5b342fa-16df-4151-8413-11e91422cc49\n",
      "2025-08-21 16:28:37,666 INFO status has been updated to accepted\n",
      "2025-08-21 16:28:45,347 INFO status has been updated to running\n",
      "2025-08-21 16:32:56,715 INFO status has been updated to successful\n"
     ]
    },
    {
     "data": {
      "application/vnd.jupyter.widget-view+json": {
       "model_id": "3ab5488a29ed43168e78707543494aa0",
       "version_major": 2,
       "version_minor": 0
      },
      "text/plain": [
       "d3ab6a4e3dba65f030428f850a8ca85c.nc:   0%|          | 0.00/129M [00:00<?, ?B/s]"
      ]
     },
     "metadata": {},
     "output_type": "display_data"
    },
    {
     "name": "stdout",
     "output_type": "stream",
     "text": [
      "✅ Downloaded: /glade/work/milesep/era5_cds_slgt_full/era5_sfc_inst_2002_08.nc\n"
     ]
    },
    {
     "name": "stderr",
     "output_type": "stream",
     "text": [
      "2025-08-21 16:33:48,336 WARNING [2025-08-21T22:33:48.264803] You are using a deprecated API endpoint. If you are using cdsapi, please upgrade to the latest version.\n",
      "2025-08-21 16:33:48,337 INFO Request ID is 64d9bedd-a729-447d-831f-53f574d77a23\n",
      "2025-08-21 16:33:48,515 INFO status has been updated to accepted\n",
      "2025-08-21 16:34:09,197 INFO status has been updated to running\n",
      "2025-08-21 16:35:42,440 INFO status has been updated to successful\n"
     ]
    },
    {
     "data": {
      "application/vnd.jupyter.widget-view+json": {
       "model_id": "889951f63bee4defb60d2eb578bb25c8",
       "version_major": 2,
       "version_minor": 0
      },
      "text/plain": [
       "bbf50318a194f174c333db739e37de4f.nc:   0%|          | 0.00/11.2M [00:00<?, ?B/s]"
      ]
     },
     "metadata": {},
     "output_type": "display_data"
    },
    {
     "name": "stdout",
     "output_type": "stream",
     "text": [
      "✅ Downloaded: /glade/work/milesep/era5_cds_slgt_full/era5_sfc_accum_2002_08.nc\n",
      "2002 9 19\n"
     ]
    },
    {
     "name": "stderr",
     "output_type": "stream",
     "text": [
      "2025-08-21 16:35:45,962 WARNING [2025-08-21T22:35:45.892322] You are using a deprecated API endpoint. If you are using cdsapi, please upgrade to the latest version.\n",
      "2025-08-21 16:35:45,963 INFO Request ID is caf7f715-2235-43bd-9ef8-f8707096ef13\n",
      "2025-08-21 16:35:46,125 INFO status has been updated to accepted\n",
      "2025-08-21 16:35:59,055 INFO status has been updated to running\n",
      "2025-08-21 16:36:06,802 INFO status has been updated to accepted\n",
      "2025-08-21 16:36:18,349 INFO status has been updated to running\n",
      "2025-08-21 16:44:06,473 INFO status has been updated to successful\n"
     ]
    },
    {
     "data": {
      "application/vnd.jupyter.widget-view+json": {
       "model_id": "bbbeb8fb6b664bd4925dd21985bca36c",
       "version_major": 2,
       "version_minor": 0
      },
      "text/plain": [
       "3d07f64ff6b2b6f53b61a5ad6f4d76c3.nc:   0%|          | 0.00/376M [00:00<?, ?B/s]"
      ]
     },
     "metadata": {},
     "output_type": "display_data"
    },
    {
     "name": "stdout",
     "output_type": "stream",
     "text": [
      "✅ Downloaded: /glade/work/milesep/era5_cds_slgt_full/era5_pl_2002_09_1.nc\n"
     ]
    },
    {
     "name": "stderr",
     "output_type": "stream",
     "text": [
      "2025-08-21 16:44:42,076 WARNING [2025-08-21T22:44:42.007215] You are using a deprecated API endpoint. If you are using cdsapi, please upgrade to the latest version.\n",
      "2025-08-21 16:44:42,077 INFO Request ID is e60cc311-cc35-4377-adde-9acb61830de6\n",
      "2025-08-21 16:44:42,235 INFO status has been updated to accepted\n",
      "2025-08-21 16:44:50,013 INFO status has been updated to running\n",
      "2025-08-21 16:53:02,473 INFO status has been updated to successful\n"
     ]
    },
    {
     "data": {
      "application/vnd.jupyter.widget-view+json": {
       "model_id": "0ef4587fb64f421ca4417c9c2f2ae430",
       "version_major": 2,
       "version_minor": 0
      },
      "text/plain": [
       "3ae212c6814f676d94511ddb8be02c5e.nc:   0%|          | 0.00/342M [00:00<?, ?B/s]"
      ]
     },
     "metadata": {},
     "output_type": "display_data"
    },
    {
     "name": "stdout",
     "output_type": "stream",
     "text": [
      "✅ Downloaded: /glade/work/milesep/era5_cds_slgt_full/era5_pl_2002_09_2.nc\n"
     ]
    },
    {
     "name": "stderr",
     "output_type": "stream",
     "text": [
      "2025-08-21 16:54:35,056 WARNING [2025-08-21T22:54:34.956310] You are using a deprecated API endpoint. If you are using cdsapi, please upgrade to the latest version.\n",
      "2025-08-21 16:54:35,057 INFO Request ID is c9f7c8aa-8d64-47e0-823a-9529f4515ac3\n",
      "2025-08-21 16:54:35,253 INFO status has been updated to accepted\n",
      "2025-08-21 16:54:48,780 INFO status has been updated to running\n",
      "2025-08-21 16:57:27,951 INFO status has been updated to successful\n"
     ]
    },
    {
     "data": {
      "application/vnd.jupyter.widget-view+json": {
       "model_id": "ee71509e95874f21b3bb7647df3c2222",
       "version_major": 2,
       "version_minor": 0
      },
      "text/plain": [
       "9b192a09ac600e9cc4eec804f93a783f.nc:   0%|          | 0.00/82.0M [00:00<?, ?B/s]"
      ]
     },
     "metadata": {},
     "output_type": "display_data"
    },
    {
     "name": "stdout",
     "output_type": "stream",
     "text": [
      "✅ Downloaded: /glade/work/milesep/era5_cds_slgt_full/era5_sfc_inst_2002_09.nc\n"
     ]
    },
    {
     "name": "stderr",
     "output_type": "stream",
     "text": [
      "2025-08-21 16:57:57,204 WARNING [2025-08-21T22:57:57.115392] You are using a deprecated API endpoint. If you are using cdsapi, please upgrade to the latest version.\n",
      "2025-08-21 16:57:57,205 INFO Request ID is bf7aa932-e766-4cf6-b44d-fa23a857fb2b\n",
      "2025-08-21 16:57:57,732 INFO status has been updated to accepted\n",
      "2025-08-21 16:58:11,085 INFO status has been updated to running\n",
      "2025-08-21 16:59:14,317 INFO status has been updated to successful\n"
     ]
    },
    {
     "data": {
      "application/vnd.jupyter.widget-view+json": {
       "model_id": "5a74fd23f8df4f10bca44e95587a0725",
       "version_major": 2,
       "version_minor": 0
      },
      "text/plain": [
       "6c874b66c9c294556efa24e35f8061ee.nc:   0%|          | 0.00/6.51M [00:00<?, ?B/s]"
      ]
     },
     "metadata": {},
     "output_type": "display_data"
    },
    {
     "name": "stdout",
     "output_type": "stream",
     "text": [
      "✅ Downloaded: /glade/work/milesep/era5_cds_slgt_full/era5_sfc_accum_2002_09.nc\n",
      "2002 10 18\n"
     ]
    },
    {
     "name": "stderr",
     "output_type": "stream",
     "text": [
      "2025-08-21 16:59:17,582 WARNING [2025-08-21T22:59:17.510670] You are using a deprecated API endpoint. If you are using cdsapi, please upgrade to the latest version.\n",
      "2025-08-21 16:59:17,583 INFO Request ID is a37a1081-4ae4-48df-991b-f9e1ea7f47b9\n",
      "2025-08-21 16:59:17,771 INFO status has been updated to accepted\n",
      "2025-08-21 16:59:25,680 INFO status has been updated to running\n",
      "2025-08-21 17:09:39,007 INFO status has been updated to successful\n"
     ]
    },
    {
     "data": {
      "application/vnd.jupyter.widget-view+json": {
       "model_id": "bccd8ad8906a41d7bcf2ca008520159f",
       "version_major": 2,
       "version_minor": 0
      },
      "text/plain": [
       "40d5c4183a583820d294861519f88ee9.nc:   0%|          | 0.00/374M [00:00<?, ?B/s]"
      ]
     },
     "metadata": {},
     "output_type": "display_data"
    },
    {
     "name": "stdout",
     "output_type": "stream",
     "text": [
      "✅ Downloaded: /glade/work/milesep/era5_cds_slgt_full/era5_pl_2002_10_1.nc\n"
     ]
    },
    {
     "name": "stderr",
     "output_type": "stream",
     "text": [
      "2025-08-21 17:10:57,439 WARNING [2025-08-21T23:10:57.371788] You are using a deprecated API endpoint. If you are using cdsapi, please upgrade to the latest version.\n",
      "2025-08-21 17:10:57,440 INFO Request ID is 747ad472-27ad-4272-bd2e-c1ef0c2951c3\n",
      "2025-08-21 17:10:57,608 INFO status has been updated to accepted\n",
      "2025-08-21 17:11:10,725 INFO status has been updated to running\n",
      "2025-08-21 17:19:17,851 INFO status has been updated to successful\n"
     ]
    },
    {
     "data": {
      "application/vnd.jupyter.widget-view+json": {
       "model_id": "",
       "version_major": 2,
       "version_minor": 0
      },
      "text/plain": [
       "18c30822b1a9b95c509785559f95567f.nc:   0%|          | 0.00/302M [00:00<?, ?B/s]"
      ]
     },
     "metadata": {},
     "output_type": "display_data"
    },
    {
     "name": "stdout",
     "output_type": "stream",
     "text": [
      "✅ Downloaded: /glade/work/milesep/era5_cds_slgt_full/era5_pl_2002_10_2.nc\n"
     ]
    },
    {
     "name": "stderr",
     "output_type": "stream",
     "text": [
      "2025-08-21 17:20:15,892 WARNING [2025-08-21T23:20:15.820361] You are using a deprecated API endpoint. If you are using cdsapi, please upgrade to the latest version.\n",
      "2025-08-21 17:20:15,893 INFO Request ID is cf77bd29-ca33-4627-9d4b-f224f4230729\n",
      "2025-08-21 17:20:16,065 INFO status has been updated to accepted\n",
      "2025-08-21 17:20:29,090 INFO status has been updated to running\n",
      "2025-08-21 17:23:08,501 INFO status has been updated to successful\n"
     ]
    },
    {
     "data": {
      "application/vnd.jupyter.widget-view+json": {
       "model_id": "",
       "version_major": 2,
       "version_minor": 0
      },
      "text/plain": [
       "a451c9ff9db18cb3d91cf1d7c8f2834c.nc:   0%|          | 0.00/77.6M [00:00<?, ?B/s]"
      ]
     },
     "metadata": {},
     "output_type": "display_data"
    },
    {
     "name": "stdout",
     "output_type": "stream",
     "text": [
      "✅ Downloaded: /glade/work/milesep/era5_cds_slgt_full/era5_sfc_inst_2002_10.nc\n"
     ]
    },
    {
     "name": "stderr",
     "output_type": "stream",
     "text": [
      "2025-08-21 17:23:18,165 WARNING [2025-08-21T23:23:18.098007] You are using a deprecated API endpoint. If you are using cdsapi, please upgrade to the latest version.\n",
      "2025-08-21 17:23:18,166 INFO Request ID is 88465317-3cc3-4223-b051-7ce2e0462c95\n",
      "2025-08-21 17:23:18,330 INFO status has been updated to accepted\n",
      "2025-08-21 17:23:31,152 INFO status has been updated to running\n",
      "2025-08-21 17:24:34,017 INFO status has been updated to successful\n"
     ]
    },
    {
     "data": {
      "application/vnd.jupyter.widget-view+json": {
       "model_id": "",
       "version_major": 2,
       "version_minor": 0
      },
      "text/plain": [
       "5a8626cede10db57dda29010176adc96.nc:   0%|          | 0.00/5.78M [00:00<?, ?B/s]"
      ]
     },
     "metadata": {},
     "output_type": "display_data"
    },
    {
     "name": "stdout",
     "output_type": "stream",
     "text": [
      "✅ Downloaded: /glade/work/milesep/era5_cds_slgt_full/era5_sfc_accum_2002_10.nc\n",
      "2002 11 9\n"
     ]
    },
    {
     "name": "stderr",
     "output_type": "stream",
     "text": [
      "2025-08-21 17:24:38,315 WARNING [2025-08-21T23:24:38.248331] You are using a deprecated API endpoint. If you are using cdsapi, please upgrade to the latest version.\n",
      "2025-08-21 17:24:38,316 INFO Request ID is 64aeb476-32e2-4cb1-9736-d10db220a272\n",
      "2025-08-21 17:24:38,510 INFO status has been updated to accepted\n",
      "2025-08-21 17:24:46,307 INFO status has been updated to running\n",
      "2025-08-21 17:32:59,038 INFO status has been updated to successful\n"
     ]
    },
    {
     "data": {
      "application/vnd.jupyter.widget-view+json": {
       "model_id": "",
       "version_major": 2,
       "version_minor": 0
      },
      "text/plain": [
       "1b560438c84090b2a75eecee8e4039d5.nc:   0%|          | 0.00/347M [00:00<?, ?B/s]"
      ]
     },
     "metadata": {},
     "output_type": "display_data"
    },
    {
     "name": "stdout",
     "output_type": "stream",
     "text": [
      "✅ Downloaded: /glade/work/milesep/era5_cds_slgt_full/era5_pl_2002_11_1.nc\n"
     ]
    },
    {
     "name": "stderr",
     "output_type": "stream",
     "text": [
      "2025-08-21 17:35:21,198 WARNING [2025-08-21T23:35:21.127454] You are using a deprecated API endpoint. If you are using cdsapi, please upgrade to the latest version.\n",
      "2025-08-21 17:35:21,199 INFO Request ID is 41e0efc6-9849-4bd0-94f7-172bd83cd738\n",
      "2025-08-21 17:35:21,372 INFO status has been updated to accepted\n",
      "2025-08-21 17:35:34,252 INFO status has been updated to running\n",
      "2025-08-21 17:37:15,543 INFO status has been updated to successful\n"
     ]
    },
    {
     "data": {
      "application/vnd.jupyter.widget-view+json": {
       "model_id": "",
       "version_major": 2,
       "version_minor": 0
      },
      "text/plain": [
       "c8f9834f9ba24d0b6565997cd29284c0.nc:   0%|          | 0.00/39.1M [00:00<?, ?B/s]"
      ]
     },
     "metadata": {},
     "output_type": "display_data"
    },
    {
     "name": "stdout",
     "output_type": "stream",
     "text": [
      "✅ Downloaded: /glade/work/milesep/era5_cds_slgt_full/era5_sfc_inst_2002_11.nc\n"
     ]
    },
    {
     "name": "stderr",
     "output_type": "stream",
     "text": [
      "2025-08-21 17:37:20,912 WARNING [2025-08-21T23:37:20.841338] You are using a deprecated API endpoint. If you are using cdsapi, please upgrade to the latest version.\n",
      "2025-08-21 17:37:20,912 INFO Request ID is 1928a18b-2bff-402f-bab0-4df43ae1c7e1\n",
      "2025-08-21 17:37:21,077 INFO status has been updated to accepted\n",
      "2025-08-21 17:37:33,979 INFO status has been updated to running\n",
      "2025-08-21 17:38:36,381 INFO status has been updated to successful\n"
     ]
    },
    {
     "data": {
      "application/vnd.jupyter.widget-view+json": {
       "model_id": "",
       "version_major": 2,
       "version_minor": 0
      },
      "text/plain": [
       "6513f767e4c632689df1969964de8385.nc:   0%|          | 0.00/2.75M [00:00<?, ?B/s]"
      ]
     },
     "metadata": {},
     "output_type": "display_data"
    },
    {
     "name": "stdout",
     "output_type": "stream",
     "text": [
      "✅ Downloaded: /glade/work/milesep/era5_cds_slgt_full/era5_sfc_accum_2002_11.nc\n",
      "2002 12 16\n"
     ]
    },
    {
     "name": "stderr",
     "output_type": "stream",
     "text": [
      "2025-08-21 17:38:39,712 WARNING [2025-08-21T23:38:39.640391] You are using a deprecated API endpoint. If you are using cdsapi, please upgrade to the latest version.\n",
      "2025-08-21 17:38:39,713 INFO Request ID is 83d4aad2-2fb2-4284-a9e3-3d95863da00f\n",
      "2025-08-21 17:38:39,867 INFO status has been updated to accepted\n",
      "2025-08-21 17:38:52,795 INFO status has been updated to running\n",
      "2025-08-21 17:47:00,150 INFO status has been updated to successful\n"
     ]
    },
    {
     "data": {
      "application/vnd.jupyter.widget-view+json": {
       "model_id": "",
       "version_major": 2,
       "version_minor": 0
      },
      "text/plain": [
       "7652e6cc665449eeffe6d9beacd04b73.nc:   0%|          | 0.00/375M [00:00<?, ?B/s]"
      ]
     },
     "metadata": {},
     "output_type": "display_data"
    },
    {
     "name": "stdout",
     "output_type": "stream",
     "text": [
      "✅ Downloaded: /glade/work/milesep/era5_cds_slgt_full/era5_pl_2002_12_1.nc\n"
     ]
    },
    {
     "name": "stderr",
     "output_type": "stream",
     "text": [
      "2025-08-21 17:48:05,875 WARNING [2025-08-21T23:48:05.805773] You are using a deprecated API endpoint. If you are using cdsapi, please upgrade to the latest version.\n",
      "2025-08-21 17:48:05,876 INFO Request ID is f8ce4f59-d273-4c6b-9409-b5a0b5cb0af4\n",
      "2025-08-21 17:48:06,052 INFO status has been updated to accepted\n",
      "2025-08-21 17:48:38,258 INFO status has been updated to running\n",
      "2025-08-21 17:54:25,747 INFO status has been updated to successful\n"
     ]
    },
    {
     "data": {
      "application/vnd.jupyter.widget-view+json": {
       "model_id": "",
       "version_major": 2,
       "version_minor": 0
      },
      "text/plain": [
       "5e3966bc26928f905ddc214f201eb7c3.nc:   0%|          | 0.00/239M [00:00<?, ?B/s]"
      ]
     },
     "metadata": {},
     "output_type": "display_data"
    },
    {
     "name": "stdout",
     "output_type": "stream",
     "text": [
      "✅ Downloaded: /glade/work/milesep/era5_cds_slgt_full/era5_pl_2002_12_2.nc\n"
     ]
    },
    {
     "name": "stderr",
     "output_type": "stream",
     "text": [
      "2025-08-21 17:55:06,976 WARNING [2025-08-21T23:55:06.907531] You are using a deprecated API endpoint. If you are using cdsapi, please upgrade to the latest version.\n",
      "2025-08-21 17:55:06,977 INFO Request ID is 7ff4690b-fd3f-4365-a522-3fec1ed10ad1\n",
      "2025-08-21 17:55:07,146 INFO status has been updated to accepted\n",
      "2025-08-21 17:55:27,699 INFO status has been updated to running\n",
      "2025-08-21 17:57:59,054 INFO status has been updated to successful\n"
     ]
    },
    {
     "data": {
      "application/vnd.jupyter.widget-view+json": {
       "model_id": "",
       "version_major": 2,
       "version_minor": 0
      },
      "text/plain": [
       "3eba9e83ed489286fcad094163ab47e2.nc:   0%|          | 0.00/69.4M [00:00<?, ?B/s]"
      ]
     },
     "metadata": {},
     "output_type": "display_data"
    },
    {
     "name": "stdout",
     "output_type": "stream",
     "text": [
      "✅ Downloaded: /glade/work/milesep/era5_cds_slgt_full/era5_sfc_inst_2002_12.nc\n"
     ]
    },
    {
     "name": "stderr",
     "output_type": "stream",
     "text": [
      "2025-08-21 17:58:42,378 WARNING [2025-08-21T23:58:42.308585] You are using a deprecated API endpoint. If you are using cdsapi, please upgrade to the latest version.\n",
      "2025-08-21 17:58:42,379 INFO Request ID is 9e600982-683e-43d7-a5f4-98fb59021f8b\n",
      "2025-08-21 17:58:42,550 INFO status has been updated to accepted\n",
      "2025-08-21 17:58:55,471 INFO status has been updated to running\n",
      "2025-08-21 17:59:32,031 INFO status has been updated to successful\n"
     ]
    },
    {
     "data": {
      "application/vnd.jupyter.widget-view+json": {
       "model_id": "",
       "version_major": 2,
       "version_minor": 0
      },
      "text/plain": [
       "4beabd34a08157dc1bcf9a42f751e442.nc:   0%|          | 0.00/4.42M [00:00<?, ?B/s]"
      ]
     },
     "metadata": {},
     "output_type": "display_data"
    },
    {
     "name": "stdout",
     "output_type": "stream",
     "text": [
      "✅ Downloaded: /glade/work/milesep/era5_cds_slgt_full/era5_sfc_accum_2002_12.nc\n",
      "2003 1 1\n"
     ]
    },
    {
     "name": "stderr",
     "output_type": "stream",
     "text": [
      "2025-08-21 17:59:35,468 WARNING [2025-08-21T23:59:35.397428] You are using a deprecated API endpoint. If you are using cdsapi, please upgrade to the latest version.\n",
      "2025-08-21 17:59:35,468 INFO Request ID is c5027c79-1c7c-4c28-9fc5-2ee3041fbcd4\n",
      "2025-08-21 17:59:35,627 INFO status has been updated to accepted\n",
      "2025-08-21 17:59:48,510 INFO status has been updated to running\n",
      "2025-08-21 18:00:50,896 INFO status has been updated to successful\n"
     ]
    },
    {
     "data": {
      "application/vnd.jupyter.widget-view+json": {
       "model_id": "",
       "version_major": 2,
       "version_minor": 0
      },
      "text/plain": [
       "8aba9f44766d1a9862d5b42284203c01.nc:   0%|          | 0.00/37.1M [00:00<?, ?B/s]"
      ]
     },
     "metadata": {},
     "output_type": "display_data"
    },
    {
     "name": "stdout",
     "output_type": "stream",
     "text": [
      "✅ Downloaded: /glade/work/milesep/era5_cds_slgt_full/era5_pl_2003_01_1.nc\n"
     ]
    },
    {
     "name": "stderr",
     "output_type": "stream",
     "text": [
      "2025-08-21 18:00:56,562 WARNING [2025-08-22T00:00:56.490540] You are using a deprecated API endpoint. If you are using cdsapi, please upgrade to the latest version.\n",
      "2025-08-21 18:00:56,563 INFO Request ID is a0fd1911-5c76-4cd3-95e5-55fa19459eb2\n",
      "2025-08-21 18:00:56,793 INFO status has been updated to accepted\n",
      "2025-08-21 18:01:09,624 INFO status has been updated to running\n",
      "2025-08-21 18:01:46,233 INFO status has been updated to successful\n"
     ]
    },
    {
     "data": {
      "application/vnd.jupyter.widget-view+json": {
       "model_id": "",
       "version_major": 2,
       "version_minor": 0
      },
      "text/plain": [
       "429e66959c110aade6d59ea35d86684b.nc:   0%|          | 0.00/4.48M [00:00<?, ?B/s]"
      ]
     },
     "metadata": {},
     "output_type": "display_data"
    },
    {
     "name": "stdout",
     "output_type": "stream",
     "text": [
      "✅ Downloaded: /glade/work/milesep/era5_cds_slgt_full/era5_sfc_inst_2003_01.nc\n"
     ]
    },
    {
     "name": "stderr",
     "output_type": "stream",
     "text": [
      "2025-08-21 18:01:49,401 WARNING [2025-08-22T00:01:49.330896] You are using a deprecated API endpoint. If you are using cdsapi, please upgrade to the latest version.\n",
      "2025-08-21 18:01:49,402 INFO Request ID is 0d73c83f-54d2-43c6-9e4b-d984762b394e\n",
      "2025-08-21 18:01:49,558 INFO status has been updated to accepted\n",
      "2025-08-21 18:02:38,998 INFO status has been updated to running\n",
      "2025-08-21 18:03:04,811 INFO status has been updated to successful\n"
     ]
    },
    {
     "data": {
      "application/vnd.jupyter.widget-view+json": {
       "model_id": "",
       "version_major": 2,
       "version_minor": 0
      },
      "text/plain": [
       "b7607304ddf3b2ea1b7746a2e32a2cfb.nc:   0%|          | 0.00/295k [00:00<?, ?B/s]"
      ]
     },
     "metadata": {},
     "output_type": "display_data"
    },
    {
     "name": "stdout",
     "output_type": "stream",
     "text": [
      "✅ Downloaded: /glade/work/milesep/era5_cds_slgt_full/era5_sfc_accum_2003_01.nc\n",
      "2003 2 11\n"
     ]
    },
    {
     "name": "stderr",
     "output_type": "stream",
     "text": [
      "2025-08-21 18:03:07,261 WARNING [2025-08-22T00:03:07.190307] You are using a deprecated API endpoint. If you are using cdsapi, please upgrade to the latest version.\n",
      "2025-08-21 18:03:07,262 INFO Request ID is 44afbe27-4c4e-4e1e-a433-946cfb21763a\n",
      "2025-08-21 18:03:07,465 INFO status has been updated to accepted\n",
      "2025-08-21 18:03:20,332 INFO status has been updated to running\n",
      "2025-08-21 18:11:27,443 INFO status has been updated to successful\n"
     ]
    },
    {
     "data": {
      "application/vnd.jupyter.widget-view+json": {
       "model_id": "",
       "version_major": 2,
       "version_minor": 0
      },
      "text/plain": [
       "c74f477e834ddab83eacc5aee5cb1338.nc:   0%|          | 0.00/373M [00:00<?, ?B/s]"
      ]
     },
     "metadata": {},
     "output_type": "display_data"
    },
    {
     "name": "stdout",
     "output_type": "stream",
     "text": [
      "✅ Downloaded: /glade/work/milesep/era5_cds_slgt_full/era5_pl_2003_02_1.nc\n"
     ]
    },
    {
     "name": "stderr",
     "output_type": "stream",
     "text": [
      "2025-08-21 18:12:21,913 WARNING [2025-08-22T00:12:21.842711] You are using a deprecated API endpoint. If you are using cdsapi, please upgrade to the latest version.\n",
      "2025-08-21 18:12:21,914 INFO Request ID is 219170b2-2e36-4b28-bd00-f892896ff21c\n",
      "2025-08-21 18:12:22,084 INFO status has been updated to accepted\n",
      "2025-08-21 18:12:34,975 INFO status has been updated to running\n",
      "2025-08-21 18:12:42,719 INFO status has been updated to accepted\n",
      "2025-08-21 18:12:54,286 INFO status has been updated to running\n",
      "2025-08-21 18:13:37,324 INFO status has been updated to successful\n"
     ]
    },
    {
     "data": {
      "application/vnd.jupyter.widget-view+json": {
       "model_id": "",
       "version_major": 2,
       "version_minor": 0
      },
      "text/plain": [
       "ba599876feb5157172d85aca9359725c.nc:   0%|          | 0.00/35.4M [00:00<?, ?B/s]"
      ]
     },
     "metadata": {},
     "output_type": "display_data"
    },
    {
     "name": "stdout",
     "output_type": "stream",
     "text": [
      "✅ Downloaded: /glade/work/milesep/era5_cds_slgt_full/era5_pl_2003_02_2.nc\n"
     ]
    },
    {
     "name": "stderr",
     "output_type": "stream",
     "text": [
      "2025-08-21 18:13:55,391 WARNING [2025-08-22T00:13:55.321185] You are using a deprecated API endpoint. If you are using cdsapi, please upgrade to the latest version.\n",
      "2025-08-21 18:13:55,392 INFO Request ID is 6f8c9901-09ce-4ac6-8014-ffc245f4f407\n",
      "2025-08-21 18:13:56,086 INFO status has been updated to accepted\n",
      "2025-08-21 18:14:28,709 INFO status has been updated to running\n",
      "2025-08-21 18:15:11,791 INFO status has been updated to successful\n"
     ]
    },
    {
     "name": "stdout",
     "output_type": "stream",
     "text": [
      "⚠️ Attempt 1 failed for /glade/work/milesep/era5_cds_slgt_full/era5_sfc_inst_2003_02.nc: Result not ready, job is running\n",
      "Retrying in 30s...\n"
     ]
    },
    {
     "name": "stderr",
     "output_type": "stream",
     "text": [
      "2025-08-21 18:15:42,775 WARNING [2025-08-22T00:15:42.703110] You are using a deprecated API endpoint. If you are using cdsapi, please upgrade to the latest version.\n",
      "2025-08-21 18:15:42,776 INFO Request ID is b0563db8-43ee-4e1c-9f16-6966b39d6caf\n",
      "2025-08-21 18:15:42,937 INFO status has been updated to accepted\n",
      "2025-08-21 18:16:15,125 INFO status has been updated to successful\n"
     ]
    },
    {
     "data": {
      "application/vnd.jupyter.widget-view+json": {
       "model_id": "",
       "version_major": 2,
       "version_minor": 0
      },
      "text/plain": [
       "be04aa6a11b7c59377dedb2a1d5fcabb.nc:   0%|          | 0.00/47.8M [00:00<?, ?B/s]"
      ]
     },
     "metadata": {},
     "output_type": "display_data"
    },
    {
     "name": "stdout",
     "output_type": "stream",
     "text": [
      "✅ Downloaded: /glade/work/milesep/era5_cds_slgt_full/era5_sfc_inst_2003_02.nc\n"
     ]
    },
    {
     "name": "stderr",
     "output_type": "stream",
     "text": [
      "2025-08-21 18:16:20,216 WARNING [2025-08-22T00:16:20.144965] You are using a deprecated API endpoint. If you are using cdsapi, please upgrade to the latest version.\n",
      "2025-08-21 18:16:20,217 INFO Request ID is 09de3cb5-cdec-4809-8456-2b74ee43898d\n",
      "2025-08-21 18:16:20,373 INFO status has been updated to accepted\n",
      "2025-08-21 18:16:33,813 INFO status has been updated to running\n",
      "2025-08-21 18:17:10,408 INFO status has been updated to successful\n"
     ]
    },
    {
     "data": {
      "application/vnd.jupyter.widget-view+json": {
       "model_id": "",
       "version_major": 2,
       "version_minor": 0
      },
      "text/plain": [
       "5c12e57277f669dd79fb638d5a7551ed.nc:   0%|          | 0.00/3.48M [00:00<?, ?B/s]"
      ]
     },
     "metadata": {},
     "output_type": "display_data"
    },
    {
     "name": "stdout",
     "output_type": "stream",
     "text": [
      "✅ Downloaded: /glade/work/milesep/era5_cds_slgt_full/era5_sfc_accum_2003_02.nc\n",
      "2003 3 21\n"
     ]
    },
    {
     "name": "stderr",
     "output_type": "stream",
     "text": [
      "2025-08-21 18:17:13,156 WARNING [2025-08-22T00:17:13.084581] You are using a deprecated API endpoint. If you are using cdsapi, please upgrade to the latest version.\n",
      "2025-08-21 18:17:13,157 INFO Request ID is 5e01b64a-57ee-46ab-b86c-0dab136292c6\n",
      "2025-08-21 18:17:13,310 INFO status has been updated to accepted\n",
      "2025-08-21 18:17:26,202 INFO status has been updated to running\n",
      "2025-08-21 18:25:33,420 INFO status has been updated to successful\n"
     ]
    },
    {
     "data": {
      "application/vnd.jupyter.widget-view+json": {
       "model_id": "",
       "version_major": 2,
       "version_minor": 0
      },
      "text/plain": [
       "1df282651fe8c73129ede6b27e50e8bc.nc:   0%|          | 0.00/372M [00:00<?, ?B/s]"
      ]
     },
     "metadata": {},
     "output_type": "display_data"
    },
    {
     "name": "stdout",
     "output_type": "stream",
     "text": [
      "✅ Downloaded: /glade/work/milesep/era5_cds_slgt_full/era5_pl_2003_03_1.nc\n"
     ]
    },
    {
     "name": "stderr",
     "output_type": "stream",
     "text": [
      "2025-08-21 18:26:36,854 WARNING [2025-08-22T00:26:36.786625] You are using a deprecated API endpoint. If you are using cdsapi, please upgrade to the latest version.\n",
      "2025-08-21 18:26:36,854 INFO Request ID is 1db8862d-087d-44d6-9d6a-13e546a1e2bf\n",
      "2025-08-21 18:26:37,039 INFO status has been updated to accepted\n",
      "2025-08-21 18:26:50,059 INFO status has been updated to running\n",
      "2025-08-21 18:26:57,809 INFO status has been updated to accepted\n",
      "2025-08-21 18:27:09,353 INFO status has been updated to running\n",
      "2025-08-21 18:34:57,461 INFO status has been updated to successful\n"
     ]
    },
    {
     "data": {
      "application/vnd.jupyter.widget-view+json": {
       "model_id": "",
       "version_major": 2,
       "version_minor": 0
      },
      "text/plain": [
       "252822ac8fb6b8dc7f12a54ad6559191.nc:   0%|          | 0.00/378M [00:00<?, ?B/s]"
      ]
     },
     "metadata": {},
     "output_type": "display_data"
    },
    {
     "name": "stdout",
     "output_type": "stream",
     "text": [
      "✅ Downloaded: /glade/work/milesep/era5_cds_slgt_full/era5_pl_2003_03_2.nc\n"
     ]
    },
    {
     "name": "stderr",
     "output_type": "stream",
     "text": [
      "2025-08-21 18:35:29,607 WARNING [2025-08-22T00:35:29.536489] You are using a deprecated API endpoint. If you are using cdsapi, please upgrade to the latest version.\n",
      "2025-08-21 18:35:29,609 INFO Request ID is 6d124f7b-2d16-473c-ae55-9e7eb64275ae\n",
      "2025-08-21 18:35:29,784 INFO status has been updated to accepted\n",
      "2025-08-21 18:35:50,388 INFO status has been updated to running\n",
      "2025-08-21 18:37:23,659 INFO status has been updated to successful\n"
     ]
    },
    {
     "data": {
      "application/vnd.jupyter.widget-view+json": {
       "model_id": "",
       "version_major": 2,
       "version_minor": 0
      },
      "text/plain": [
       "3d9b698e2df6ef599d6984e4212e05a6.nc:   0%|          | 0.00/36.8M [00:00<?, ?B/s]"
      ]
     },
     "metadata": {},
     "output_type": "display_data"
    },
    {
     "name": "stdout",
     "output_type": "stream",
     "text": [
      "✅ Downloaded: /glade/work/milesep/era5_cds_slgt_full/era5_pl_2003_03_3.nc\n"
     ]
    },
    {
     "name": "stderr",
     "output_type": "stream",
     "text": [
      "2025-08-21 18:37:28,440 WARNING [2025-08-22T00:37:28.369702] You are using a deprecated API endpoint. If you are using cdsapi, please upgrade to the latest version.\n",
      "2025-08-21 18:37:28,441 INFO Request ID is 334bad6b-73f6-4499-87f9-568e86511522\n",
      "2025-08-21 18:37:28,706 INFO status has been updated to accepted\n",
      "2025-08-21 18:37:41,620 INFO status has been updated to running\n",
      "2025-08-21 18:40:20,883 INFO status has been updated to successful\n"
     ]
    },
    {
     "data": {
      "application/vnd.jupyter.widget-view+json": {
       "model_id": "",
       "version_major": 2,
       "version_minor": 0
      },
      "text/plain": [
       "6f37ed267a78663b920b37172f27c347.nc:   0%|          | 0.00/91.4M [00:00<?, ?B/s]"
      ]
     },
     "metadata": {},
     "output_type": "display_data"
    },
    {
     "name": "stdout",
     "output_type": "stream",
     "text": [
      "✅ Downloaded: /glade/work/milesep/era5_cds_slgt_full/era5_sfc_inst_2003_03.nc\n"
     ]
    },
    {
     "name": "stderr",
     "output_type": "stream",
     "text": [
      "2025-08-21 18:40:59,224 WARNING [2025-08-22T00:40:59.155532] You are using a deprecated API endpoint. If you are using cdsapi, please upgrade to the latest version.\n",
      "2025-08-21 18:40:59,225 INFO Request ID is 7f336c84-6d1c-4763-a6df-96ea224fedcb\n",
      "2025-08-21 18:40:59,395 INFO status has been updated to accepted\n",
      "2025-08-21 18:41:31,587 INFO status has been updated to running\n",
      "2025-08-21 18:42:14,817 INFO status has been updated to successful\n"
     ]
    },
    {
     "data": {
      "application/vnd.jupyter.widget-view+json": {
       "model_id": "",
       "version_major": 2,
       "version_minor": 0
      },
      "text/plain": [
       "36e7d9eee6f626b25ce73bb928a30b0d.nc:   0%|          | 0.00/7.04M [00:00<?, ?B/s]"
      ]
     },
     "metadata": {},
     "output_type": "display_data"
    },
    {
     "name": "stdout",
     "output_type": "stream",
     "text": [
      "✅ Downloaded: /glade/work/milesep/era5_cds_slgt_full/era5_sfc_accum_2003_03.nc\n",
      "2003 4 22\n"
     ]
    },
    {
     "name": "stderr",
     "output_type": "stream",
     "text": [
      "2025-08-21 18:42:17,785 WARNING [2025-08-22T00:42:17.718873] You are using a deprecated API endpoint. If you are using cdsapi, please upgrade to the latest version.\n",
      "2025-08-21 18:42:17,786 INFO Request ID is d86f2150-2b3c-4875-92b3-8c31f5bfeccc\n",
      "2025-08-21 18:42:17,956 INFO status has been updated to accepted\n",
      "2025-08-21 18:42:30,798 INFO status has been updated to running\n",
      "2025-08-21 18:50:38,071 INFO status has been updated to successful\n"
     ]
    },
    {
     "data": {
      "application/vnd.jupyter.widget-view+json": {
       "model_id": "6196db88f3d84b7cbb4a2190e313d71e",
       "version_major": 2,
       "version_minor": 0
      },
      "text/plain": [
       "d778b52ce2e790f624c71c9794699daf.nc:   0%|          | 0.00/374M [00:00<?, ?B/s]"
      ]
     },
     "metadata": {},
     "output_type": "display_data"
    },
    {
     "name": "stderr",
     "output_type": "stream",
     "text": [
      "IOPub message rate exceeded.\n",
      "The Jupyter server will temporarily stop sending output\n",
      "to the client in order to avoid crashing it.\n",
      "To change this limit, set the config variable\n",
      "`--ServerApp.iopub_msg_rate_limit`.\n",
      "\n",
      "Current values:\n",
      "ServerApp.iopub_msg_rate_limit=1000.0 (msgs/sec)\n",
      "ServerApp.rate_limit_window=3.0 (secs)\n",
      "\n",
      "2025-08-22 10:18:10,617 INFO status has been updated to successful\n"
     ]
    },
    {
     "data": {
      "application/vnd.jupyter.widget-view+json": {
       "model_id": "",
       "version_major": 2,
       "version_minor": 0
      },
      "text/plain": [
       "b07b55f2dac0d79e890c64677adb412d.nc:   0%|          | 0.00/376M [00:00<?, ?B/s]"
      ]
     },
     "metadata": {},
     "output_type": "display_data"
    },
    {
     "name": "stdout",
     "output_type": "stream",
     "text": [
      "✅ Downloaded: /glade/work/milesep/era5_cds_slgt_full/era5_pl_2005_07_1.nc\n"
     ]
    },
    {
     "name": "stderr",
     "output_type": "stream",
     "text": [
      "2025-08-22 10:18:36,027 WARNING [2025-08-22T16:18:35.958197] You are using a deprecated API endpoint. If you are using cdsapi, please upgrade to the latest version.\n",
      "2025-08-22 10:18:36,028 INFO Request ID is 51276f4c-d3cb-4cac-bada-bee80b323895\n",
      "2025-08-22 10:18:36,184 INFO status has been updated to accepted\n",
      "2025-08-22 10:36:59,836 INFO status has been updated to running\n",
      "2025-08-22 10:45:01,749 INFO status has been updated to successful\n"
     ]
    },
    {
     "data": {
      "application/vnd.jupyter.widget-view+json": {
       "model_id": "",
       "version_major": 2,
       "version_minor": 0
      },
      "text/plain": [
       "a71e5eafb78e11f3763e366d2d822850.nc:   0%|          | 0.00/374M [00:00<?, ?B/s]"
      ]
     },
     "metadata": {},
     "output_type": "display_data"
    },
    {
     "name": "stdout",
     "output_type": "stream",
     "text": [
      "✅ Downloaded: /glade/work/milesep/era5_cds_slgt_full/era5_pl_2005_07_2.nc\n"
     ]
    },
    {
     "name": "stderr",
     "output_type": "stream",
     "text": [
      "2025-08-22 10:45:53,873 WARNING [2025-08-22T16:45:53.793888] You are using a deprecated API endpoint. If you are using cdsapi, please upgrade to the latest version.\n",
      "2025-08-22 10:45:53,874 INFO Request ID is 1a97a4e8-048c-4afc-a334-1e641a3f5301\n",
      "2025-08-22 10:45:54,241 INFO status has been updated to accepted\n",
      "2025-08-22 11:12:19,614 INFO status has been updated to running\n",
      "2025-08-22 11:18:21,030 INFO status has been updated to successful\n"
     ]
    },
    {
     "data": {
      "application/vnd.jupyter.widget-view+json": {
       "model_id": "",
       "version_major": 2,
       "version_minor": 0
      },
      "text/plain": [
       "491d9e929c9106c6d12b85dd0767d451.nc:   0%|          | 0.00/346M [00:00<?, ?B/s]"
      ]
     },
     "metadata": {},
     "output_type": "display_data"
    },
    {
     "name": "stdout",
     "output_type": "stream",
     "text": [
      "✅ Downloaded: /glade/work/milesep/era5_cds_slgt_full/era5_pl_2005_07_3.nc\n"
     ]
    },
    {
     "name": "stderr",
     "output_type": "stream",
     "text": [
      "2025-08-22 11:19:40,472 WARNING [2025-08-22T17:19:40.404659] You are using a deprecated API endpoint. If you are using cdsapi, please upgrade to the latest version.\n",
      "2025-08-22 11:19:40,473 INFO Request ID is 523a81fe-ef6b-4786-ba00-45491ee53463\n",
      "2025-08-22 11:19:40,738 INFO status has been updated to accepted\n",
      "2025-08-22 11:40:03,656 INFO status has been updated to running\n",
      "2025-08-22 11:44:04,882 INFO status has been updated to successful\n"
     ]
    },
    {
     "data": {
      "application/vnd.jupyter.widget-view+json": {
       "model_id": "",
       "version_major": 2,
       "version_minor": 0
      },
      "text/plain": [
       "ba64e965d41458ee9217ecae45a587e6.nc:   0%|          | 0.00/125M [00:00<?, ?B/s]"
      ]
     },
     "metadata": {},
     "output_type": "display_data"
    },
    {
     "name": "stdout",
     "output_type": "stream",
     "text": [
      "✅ Downloaded: /glade/work/milesep/era5_cds_slgt_full/era5_sfc_inst_2005_07.nc\n"
     ]
    },
    {
     "name": "stderr",
     "output_type": "stream",
     "text": [
      "2025-08-22 11:45:02,607 WARNING [2025-08-22T17:45:02.541880] You are using a deprecated API endpoint. If you are using cdsapi, please upgrade to the latest version.\n",
      "2025-08-22 11:45:02,608 INFO Request ID is 0d36f1bd-874f-4477-aeb0-9b4341bff25d\n",
      "2025-08-22 11:45:02,787 INFO status has been updated to accepted\n",
      "2025-08-22 11:53:23,455 INFO status has been updated to running\n"
     ]
    }
   ],
   "source": [
    "for year in years:\n",
    "\n",
    "    days_this_year = selected_days[selected_days.year == year]\n",
    "\n",
    "    for month in sorted(set(days_this_year.month)):\n",
    "        days_this_month = days_this_year[days_this_year.month == month]\n",
    "        days = sorted({f\"{d.day:02d}\" for d in days_this_month})\n",
    "        month_str = f\"{month:02d}\"\n",
    "\n",
    "        print(year, month, len(days_this_month))\n",
    "\n",
    "        # ------------------ Pressure levels ------------------\n",
    "        chunk_size = 10  # adjust if needed\n",
    "        for i, day_chunk in enumerate(chunk_list(days, chunk_size), start=1):\n",
    "            pl_file = out_dir / f\"era5_pl_{year}_{month_str}_{i}.nc\"\n",
    "            if pl_file.exists():\n",
    "                try:\n",
    "                    xr.open_dataset(pl_file).close()\n",
    "                    print(f\"Skipping (exists): {pl_file}\")\n",
    "                    pl_files.append(pl_file)\n",
    "                    continue\n",
    "                except Exception:\n",
    "                    print(f\"Corrupt file detected, redownloading: {pl_file}\")\n",
    "                    pl_file.unlink()\n",
    "\n",
    "            # request only this chunk of days\n",
    "            safe_retrieve(\n",
    "                \"reanalysis-era5-pressure-levels\",\n",
    "                {\n",
    "                    \"product_type\": \"reanalysis\",\n",
    "                    \"format\": \"netcdf\",\n",
    "                    \"variable\": pressure_var_dict[detail],\n",
    "                    \"pressure_level\": levels,\n",
    "                    \"year\": str(year),\n",
    "                    \"month\": month_str,\n",
    "                    \"day\": day_chunk,\n",
    "                    \"time\": hours,\n",
    "                    \"area\": area,\n",
    "                },\n",
    "                pl_file,\n",
    "            )\n",
    "            pl_files.append(pl_file)\n",
    "\n",
    "\n",
    "        # ------------------ Single levels: instantaneous ------------------\n",
    "        sfc_inst_file = out_dir / f\"era5_sfc_inst_{year}_{month_str}.nc\"\n",
    "        if sfc_inst_file.exists():\n",
    "            try:\n",
    "                xr.open_dataset(sfc_inst_file).close()\n",
    "                print(f\"Skipping (exists): {sfc_inst_file}\")\n",
    "                sfc_files.append(sfc_inst_file)\n",
    "            except Exception:\n",
    "                print(f\"Corrupt file detected, redownloading: {sfc_inst_file}\")\n",
    "                sfc_inst_file.unlink()\n",
    "        if not sfc_inst_file.exists() and sfc_inst_vars:\n",
    "            safe_retrieve(\n",
    "                \"reanalysis-era5-single-levels\",\n",
    "                {\n",
    "                    \"product_type\": \"reanalysis\",\n",
    "                    \"format\": \"netcdf\",\n",
    "                    \"variable\": sfc_inst_vars,\n",
    "                    \"year\": str(year),\n",
    "                    \"month\": month_str,\n",
    "                    \"day\": days,\n",
    "                    \"time\": hours,\n",
    "                    \"area\": area,\n",
    "                },\n",
    "                sfc_inst_file,\n",
    "            )\n",
    "            sfc_files.append(sfc_inst_file)\n",
    "\n",
    "        # ------------------ Single levels: accumulated ------------------\n",
    "        sfc_accum_file = out_dir / f\"era5_sfc_accum_{year}_{month_str}.nc\"\n",
    "        if sfc_accum_file.exists():\n",
    "            try:\n",
    "                xr.open_dataset(sfc_accum_file).close()\n",
    "                print(f\"Skipping (exists): {sfc_accum_file}\")\n",
    "                sfc_files.append(sfc_accum_file)\n",
    "            except Exception:\n",
    "                print(f\"Corrupt file detected, redownloading: {sfc_accum_file}\")\n",
    "                sfc_accum_file.unlink()\n",
    "        if not sfc_accum_file.exists() and sfc_accum_vars:\n",
    "            safe_retrieve(\n",
    "                \"reanalysis-era5-single-levels\",\n",
    "                {\n",
    "                    \"product_type\": \"reanalysis\",\n",
    "                    \"format\": \"netcdf\",\n",
    "                    \"variable\": sfc_accum_vars,\n",
    "                    \"year\": str(year),\n",
    "                    \"month\": month_str,\n",
    "                    \"day\": days,\n",
    "                    \"time\": hours,\n",
    "                    \"area\": area,\n",
    "                },\n",
    "                sfc_accum_file,\n",
    "            )\n",
    "            sfc_files.append(sfc_accum_file)"
   ]
  },
  {
   "cell_type": "code",
   "execution_count": 13,
   "id": "b4bf9c73-6ebf-4210-a6e0-b239d427a3e8",
   "metadata": {},
   "outputs": [],
   "source": [
    "pl = xr.open_mfdataset(pl_files, combine=\"by_coords\")\n",
    "sfc = xr.open_mfdataset(sfc_files, combine=\"by_coords\").rename({\"z\": \"z_sfc\"})\n",
    "\n",
    "ds = xr.merge([pl, sfc])\n",
    "if \"valid_time\" in ds:\n",
    "    ds = ds.rename(valid_time=\"time\")  # or vice versa depending on your pipeline\n",
    "    ds = ds.drop_vars([\"number\", \"expver\"], errors=\"ignore\")"
   ]
  },
  {
   "cell_type": "code",
   "execution_count": 14,
   "id": "0425ecd9-34aa-4786-9b50-5269e84131e9",
   "metadata": {},
   "outputs": [
    {
     "data": {
      "text/html": [
       "<div><svg style=\"position: absolute; width: 0; height: 0; overflow: hidden\">\n",
       "<defs>\n",
       "<symbol id=\"icon-database\" viewBox=\"0 0 32 32\">\n",
       "<path d=\"M16 0c-8.837 0-16 2.239-16 5v4c0 2.761 7.163 5 16 5s16-2.239 16-5v-4c0-2.761-7.163-5-16-5z\"></path>\n",
       "<path d=\"M16 17c-8.837 0-16-2.239-16-5v6c0 2.761 7.163 5 16 5s16-2.239 16-5v-6c0 2.761-7.163 5-16 5z\"></path>\n",
       "<path d=\"M16 26c-8.837 0-16-2.239-16-5v6c0 2.761 7.163 5 16 5s16-2.239 16-5v-6c0 2.761-7.163 5-16 5z\"></path>\n",
       "</symbol>\n",
       "<symbol id=\"icon-file-text2\" viewBox=\"0 0 32 32\">\n",
       "<path d=\"M28.681 7.159c-0.694-0.947-1.662-2.053-2.724-3.116s-2.169-2.030-3.116-2.724c-1.612-1.182-2.393-1.319-2.841-1.319h-15.5c-1.378 0-2.5 1.121-2.5 2.5v27c0 1.378 1.122 2.5 2.5 2.5h23c1.378 0 2.5-1.122 2.5-2.5v-19.5c0-0.448-0.137-1.23-1.319-2.841zM24.543 5.457c0.959 0.959 1.712 1.825 2.268 2.543h-4.811v-4.811c0.718 0.556 1.584 1.309 2.543 2.268zM28 29.5c0 0.271-0.229 0.5-0.5 0.5h-23c-0.271 0-0.5-0.229-0.5-0.5v-27c0-0.271 0.229-0.5 0.5-0.5 0 0 15.499-0 15.5 0v7c0 0.552 0.448 1 1 1h7v19.5z\"></path>\n",
       "<path d=\"M23 26h-14c-0.552 0-1-0.448-1-1s0.448-1 1-1h14c0.552 0 1 0.448 1 1s-0.448 1-1 1z\"></path>\n",
       "<path d=\"M23 22h-14c-0.552 0-1-0.448-1-1s0.448-1 1-1h14c0.552 0 1 0.448 1 1s-0.448 1-1 1z\"></path>\n",
       "<path d=\"M23 18h-14c-0.552 0-1-0.448-1-1s0.448-1 1-1h14c0.552 0 1 0.448 1 1s-0.448 1-1 1z\"></path>\n",
       "</symbol>\n",
       "</defs>\n",
       "</svg>\n",
       "<style>/* CSS stylesheet for displaying xarray objects in jupyterlab.\n",
       " *\n",
       " */\n",
       "\n",
       ":root {\n",
       "  --xr-font-color0: var(--jp-content-font-color0, rgba(0, 0, 0, 1));\n",
       "  --xr-font-color2: var(--jp-content-font-color2, rgba(0, 0, 0, 0.54));\n",
       "  --xr-font-color3: var(--jp-content-font-color3, rgba(0, 0, 0, 0.38));\n",
       "  --xr-border-color: var(--jp-border-color2, #e0e0e0);\n",
       "  --xr-disabled-color: var(--jp-layout-color3, #bdbdbd);\n",
       "  --xr-background-color: var(--jp-layout-color0, white);\n",
       "  --xr-background-color-row-even: var(--jp-layout-color1, white);\n",
       "  --xr-background-color-row-odd: var(--jp-layout-color2, #eeeeee);\n",
       "}\n",
       "\n",
       "html[theme=dark],\n",
       "body[data-theme=dark],\n",
       "body.vscode-dark {\n",
       "  --xr-font-color0: rgba(255, 255, 255, 1);\n",
       "  --xr-font-color2: rgba(255, 255, 255, 0.54);\n",
       "  --xr-font-color3: rgba(255, 255, 255, 0.38);\n",
       "  --xr-border-color: #1F1F1F;\n",
       "  --xr-disabled-color: #515151;\n",
       "  --xr-background-color: #111111;\n",
       "  --xr-background-color-row-even: #111111;\n",
       "  --xr-background-color-row-odd: #313131;\n",
       "}\n",
       "\n",
       ".xr-wrap {\n",
       "  display: block !important;\n",
       "  min-width: 300px;\n",
       "  max-width: 700px;\n",
       "}\n",
       "\n",
       ".xr-text-repr-fallback {\n",
       "  /* fallback to plain text repr when CSS is not injected (untrusted notebook) */\n",
       "  display: none;\n",
       "}\n",
       "\n",
       ".xr-header {\n",
       "  padding-top: 6px;\n",
       "  padding-bottom: 6px;\n",
       "  margin-bottom: 4px;\n",
       "  border-bottom: solid 1px var(--xr-border-color);\n",
       "}\n",
       "\n",
       ".xr-header > div,\n",
       ".xr-header > ul {\n",
       "  display: inline;\n",
       "  margin-top: 0;\n",
       "  margin-bottom: 0;\n",
       "}\n",
       "\n",
       ".xr-obj-type,\n",
       ".xr-array-name {\n",
       "  margin-left: 2px;\n",
       "  margin-right: 10px;\n",
       "}\n",
       "\n",
       ".xr-obj-type {\n",
       "  color: var(--xr-font-color2);\n",
       "}\n",
       "\n",
       ".xr-sections {\n",
       "  padding-left: 0 !important;\n",
       "  display: grid;\n",
       "  grid-template-columns: 150px auto auto 1fr 20px 20px;\n",
       "}\n",
       "\n",
       ".xr-section-item {\n",
       "  display: contents;\n",
       "}\n",
       "\n",
       ".xr-section-item input {\n",
       "  display: none;\n",
       "}\n",
       "\n",
       ".xr-section-item input + label {\n",
       "  color: var(--xr-disabled-color);\n",
       "}\n",
       "\n",
       ".xr-section-item input:enabled + label {\n",
       "  cursor: pointer;\n",
       "  color: var(--xr-font-color2);\n",
       "}\n",
       "\n",
       ".xr-section-item input:enabled + label:hover {\n",
       "  color: var(--xr-font-color0);\n",
       "}\n",
       "\n",
       ".xr-section-summary {\n",
       "  grid-column: 1;\n",
       "  color: var(--xr-font-color2);\n",
       "  font-weight: 500;\n",
       "}\n",
       "\n",
       ".xr-section-summary > span {\n",
       "  display: inline-block;\n",
       "  padding-left: 0.5em;\n",
       "}\n",
       "\n",
       ".xr-section-summary-in:disabled + label {\n",
       "  color: var(--xr-font-color2);\n",
       "}\n",
       "\n",
       ".xr-section-summary-in + label:before {\n",
       "  display: inline-block;\n",
       "  content: '►';\n",
       "  font-size: 11px;\n",
       "  width: 15px;\n",
       "  text-align: center;\n",
       "}\n",
       "\n",
       ".xr-section-summary-in:disabled + label:before {\n",
       "  color: var(--xr-disabled-color);\n",
       "}\n",
       "\n",
       ".xr-section-summary-in:checked + label:before {\n",
       "  content: '▼';\n",
       "}\n",
       "\n",
       ".xr-section-summary-in:checked + label > span {\n",
       "  display: none;\n",
       "}\n",
       "\n",
       ".xr-section-summary,\n",
       ".xr-section-inline-details {\n",
       "  padding-top: 4px;\n",
       "  padding-bottom: 4px;\n",
       "}\n",
       "\n",
       ".xr-section-inline-details {\n",
       "  grid-column: 2 / -1;\n",
       "}\n",
       "\n",
       ".xr-section-details {\n",
       "  display: none;\n",
       "  grid-column: 1 / -1;\n",
       "  margin-bottom: 5px;\n",
       "}\n",
       "\n",
       ".xr-section-summary-in:checked ~ .xr-section-details {\n",
       "  display: contents;\n",
       "}\n",
       "\n",
       ".xr-array-wrap {\n",
       "  grid-column: 1 / -1;\n",
       "  display: grid;\n",
       "  grid-template-columns: 20px auto;\n",
       "}\n",
       "\n",
       ".xr-array-wrap > label {\n",
       "  grid-column: 1;\n",
       "  vertical-align: top;\n",
       "}\n",
       "\n",
       ".xr-preview {\n",
       "  color: var(--xr-font-color3);\n",
       "}\n",
       "\n",
       ".xr-array-preview,\n",
       ".xr-array-data {\n",
       "  padding: 0 5px !important;\n",
       "  grid-column: 2;\n",
       "}\n",
       "\n",
       ".xr-array-data,\n",
       ".xr-array-in:checked ~ .xr-array-preview {\n",
       "  display: none;\n",
       "}\n",
       "\n",
       ".xr-array-in:checked ~ .xr-array-data,\n",
       ".xr-array-preview {\n",
       "  display: inline-block;\n",
       "}\n",
       "\n",
       ".xr-dim-list {\n",
       "  display: inline-block !important;\n",
       "  list-style: none;\n",
       "  padding: 0 !important;\n",
       "  margin: 0;\n",
       "}\n",
       "\n",
       ".xr-dim-list li {\n",
       "  display: inline-block;\n",
       "  padding: 0;\n",
       "  margin: 0;\n",
       "}\n",
       "\n",
       ".xr-dim-list:before {\n",
       "  content: '(';\n",
       "}\n",
       "\n",
       ".xr-dim-list:after {\n",
       "  content: ')';\n",
       "}\n",
       "\n",
       ".xr-dim-list li:not(:last-child):after {\n",
       "  content: ',';\n",
       "  padding-right: 5px;\n",
       "}\n",
       "\n",
       ".xr-has-index {\n",
       "  font-weight: bold;\n",
       "}\n",
       "\n",
       ".xr-var-list,\n",
       ".xr-var-item {\n",
       "  display: contents;\n",
       "}\n",
       "\n",
       ".xr-var-item > div,\n",
       ".xr-var-item label,\n",
       ".xr-var-item > .xr-var-name span {\n",
       "  background-color: var(--xr-background-color-row-even);\n",
       "  margin-bottom: 0;\n",
       "}\n",
       "\n",
       ".xr-var-item > .xr-var-name:hover span {\n",
       "  padding-right: 5px;\n",
       "}\n",
       "\n",
       ".xr-var-list > li:nth-child(odd) > div,\n",
       ".xr-var-list > li:nth-child(odd) > label,\n",
       ".xr-var-list > li:nth-child(odd) > .xr-var-name span {\n",
       "  background-color: var(--xr-background-color-row-odd);\n",
       "}\n",
       "\n",
       ".xr-var-name {\n",
       "  grid-column: 1;\n",
       "}\n",
       "\n",
       ".xr-var-dims {\n",
       "  grid-column: 2;\n",
       "}\n",
       "\n",
       ".xr-var-dtype {\n",
       "  grid-column: 3;\n",
       "  text-align: right;\n",
       "  color: var(--xr-font-color2);\n",
       "}\n",
       "\n",
       ".xr-var-preview {\n",
       "  grid-column: 4;\n",
       "}\n",
       "\n",
       ".xr-index-preview {\n",
       "  grid-column: 2 / 5;\n",
       "  color: var(--xr-font-color2);\n",
       "}\n",
       "\n",
       ".xr-var-name,\n",
       ".xr-var-dims,\n",
       ".xr-var-dtype,\n",
       ".xr-preview,\n",
       ".xr-attrs dt {\n",
       "  white-space: nowrap;\n",
       "  overflow: hidden;\n",
       "  text-overflow: ellipsis;\n",
       "  padding-right: 10px;\n",
       "}\n",
       "\n",
       ".xr-var-name:hover,\n",
       ".xr-var-dims:hover,\n",
       ".xr-var-dtype:hover,\n",
       ".xr-attrs dt:hover {\n",
       "  overflow: visible;\n",
       "  width: auto;\n",
       "  z-index: 1;\n",
       "}\n",
       "\n",
       ".xr-var-attrs,\n",
       ".xr-var-data,\n",
       ".xr-index-data {\n",
       "  display: none;\n",
       "  background-color: var(--xr-background-color) !important;\n",
       "  padding-bottom: 5px !important;\n",
       "}\n",
       "\n",
       ".xr-var-attrs-in:checked ~ .xr-var-attrs,\n",
       ".xr-var-data-in:checked ~ .xr-var-data,\n",
       ".xr-index-data-in:checked ~ .xr-index-data {\n",
       "  display: block;\n",
       "}\n",
       "\n",
       ".xr-var-data > table {\n",
       "  float: right;\n",
       "}\n",
       "\n",
       ".xr-var-name span,\n",
       ".xr-var-data,\n",
       ".xr-index-name div,\n",
       ".xr-index-data,\n",
       ".xr-attrs {\n",
       "  padding-left: 25px !important;\n",
       "}\n",
       "\n",
       ".xr-attrs,\n",
       ".xr-var-attrs,\n",
       ".xr-var-data,\n",
       ".xr-index-data {\n",
       "  grid-column: 1 / -1;\n",
       "}\n",
       "\n",
       "dl.xr-attrs {\n",
       "  padding: 0;\n",
       "  margin: 0;\n",
       "  display: grid;\n",
       "  grid-template-columns: 125px auto;\n",
       "}\n",
       "\n",
       ".xr-attrs dt,\n",
       ".xr-attrs dd {\n",
       "  padding: 0;\n",
       "  margin: 0;\n",
       "  float: left;\n",
       "  padding-right: 10px;\n",
       "  width: auto;\n",
       "}\n",
       "\n",
       ".xr-attrs dt {\n",
       "  font-weight: normal;\n",
       "  grid-column: 1;\n",
       "}\n",
       "\n",
       ".xr-attrs dt:hover span {\n",
       "  display: inline-block;\n",
       "  background: var(--xr-background-color);\n",
       "  padding-right: 10px;\n",
       "}\n",
       "\n",
       ".xr-attrs dd {\n",
       "  grid-column: 2;\n",
       "  white-space: pre-wrap;\n",
       "  word-break: break-all;\n",
       "}\n",
       "\n",
       ".xr-icon-database,\n",
       ".xr-icon-file-text2,\n",
       ".xr-no-icon {\n",
       "  display: inline-block;\n",
       "  vertical-align: middle;\n",
       "  width: 1em;\n",
       "  height: 1.5em !important;\n",
       "  stroke-width: 0;\n",
       "  stroke: currentColor;\n",
       "  fill: currentColor;\n",
       "}\n",
       "</style><pre class='xr-text-repr-fallback'>&lt;xarray.Dataset&gt; Size: 4GB\n",
       "Dimensions:    (day: 4071, tod: 4, level: 5, latitude: 26, longitude: 60)\n",
       "Coordinates:\n",
       "  * day        (day) datetime64[ns] 33kB 2002-04-02 2002-04-03 ... 2023-12-17\n",
       "  * tod        (tod) int64 32B 0 6 12 18\n",
       "  * level      (level) float64 40B 925.0 850.0 700.0 500.0 300.0\n",
       "  * latitude   (latitude) float64 208B 50.0 49.0 48.0 47.0 ... 27.0 26.0 25.0\n",
       "  * longitude  (longitude) float64 480B -125.0 -124.0 -123.0 ... -67.0 -66.0\n",
       "Data variables: (12/13)\n",
       "    z          (level, latitude, longitude, day, tod) float32 508MB dask.array&lt;chunksize=(3, 13, 30, 30, 4), meta=np.ndarray&gt;\n",
       "    pv         (level, latitude, longitude, day, tod) float32 508MB dask.array&lt;chunksize=(3, 13, 30, 30, 4), meta=np.ndarray&gt;\n",
       "    q          (level, latitude, longitude, day, tod) float32 508MB dask.array&lt;chunksize=(3, 13, 30, 30, 4), meta=np.ndarray&gt;\n",
       "    t          (level, latitude, longitude, day, tod) float32 508MB dask.array&lt;chunksize=(3, 13, 30, 30, 4), meta=np.ndarray&gt;\n",
       "    u          (level, latitude, longitude, day, tod) float32 508MB dask.array&lt;chunksize=(3, 13, 30, 30, 4), meta=np.ndarray&gt;\n",
       "    v          (level, latitude, longitude, day, tod) float32 508MB dask.array&lt;chunksize=(3, 13, 30, 30, 4), meta=np.ndarray&gt;\n",
       "    ...         ...\n",
       "    u10        (latitude, longitude, day, tod) float32 102MB dask.array&lt;chunksize=(26, 60, 30, 4), meta=np.ndarray&gt;\n",
       "    v10        (latitude, longitude, day, tod) float32 102MB dask.array&lt;chunksize=(26, 60, 30, 4), meta=np.ndarray&gt;\n",
       "    d2m        (latitude, longitude, day, tod) float32 102MB dask.array&lt;chunksize=(26, 60, 30, 4), meta=np.ndarray&gt;\n",
       "    t2m        (latitude, longitude, day, tod) float32 102MB dask.array&lt;chunksize=(26, 60, 30, 4), meta=np.ndarray&gt;\n",
       "    z_sfc      (latitude, longitude, day, tod) float32 102MB dask.array&lt;chunksize=(26, 60, 30, 4), meta=np.ndarray&gt;\n",
       "    tisr       (latitude, longitude, day, tod) float32 102MB dask.array&lt;chunksize=(26, 60, 30, 4), meta=np.ndarray&gt;\n",
       "Attributes:\n",
       "    GRIB_centre:             ecmf\n",
       "    GRIB_centreDescription:  European Centre for Medium-Range Weather Forecasts\n",
       "    GRIB_subCentre:          0\n",
       "    Conventions:             CF-1.7\n",
       "    institution:             European Centre for Medium-Range Weather Forecasts\n",
       "    history:                 2025-08-17T05:24 GRIB to CDM+CF via cfgrib-0.9.1...</pre><div class='xr-wrap' style='display:none'><div class='xr-header'><div class='xr-obj-type'>xarray.Dataset</div></div><ul class='xr-sections'><li class='xr-section-item'><input id='section-c5ac54a7-c798-4d08-9b62-9db66390076b' class='xr-section-summary-in' type='checkbox' disabled ><label for='section-c5ac54a7-c798-4d08-9b62-9db66390076b' class='xr-section-summary'  title='Expand/collapse section'>Dimensions:</label><div class='xr-section-inline-details'><ul class='xr-dim-list'><li><span class='xr-has-index'>day</span>: 4071</li><li><span class='xr-has-index'>tod</span>: 4</li><li><span class='xr-has-index'>level</span>: 5</li><li><span class='xr-has-index'>latitude</span>: 26</li><li><span class='xr-has-index'>longitude</span>: 60</li></ul></div><div class='xr-section-details'></div></li><li class='xr-section-item'><input id='section-fa0f4c2b-4221-4e4a-8b82-874bb0aa6ef5' class='xr-section-summary-in' type='checkbox'  checked><label for='section-fa0f4c2b-4221-4e4a-8b82-874bb0aa6ef5' class='xr-section-summary' >Coordinates: <span>(5)</span></label><div class='xr-section-inline-details'></div><div class='xr-section-details'><ul class='xr-var-list'><li class='xr-var-item'><div class='xr-var-name'><span class='xr-has-index'>day</span></div><div class='xr-var-dims'>(day)</div><div class='xr-var-dtype'>datetime64[ns]</div><div class='xr-var-preview xr-preview'>2002-04-02 ... 2023-12-17</div><input id='attrs-06300b7c-795e-47f0-94dd-c08b64ae58b0' class='xr-var-attrs-in' type='checkbox' ><label for='attrs-06300b7c-795e-47f0-94dd-c08b64ae58b0' title='Show/Hide attributes'><svg class='icon xr-icon-file-text2'><use xlink:href='#icon-file-text2'></use></svg></label><input id='data-fdcb5cd4-9cef-425c-b7d1-dbba975fe23a' class='xr-var-data-in' type='checkbox'><label for='data-fdcb5cd4-9cef-425c-b7d1-dbba975fe23a' title='Show/Hide data repr'><svg class='icon xr-icon-database'><use xlink:href='#icon-database'></use></svg></label><div class='xr-var-attrs'><dl class='xr-attrs'><dt><span>long_name :</span></dt><dd>time</dd><dt><span>standard_name :</span></dt><dd>time</dd></dl></div><div class='xr-var-data'><pre>array([&#x27;2002-04-02T00:00:00.000000000&#x27;, &#x27;2002-04-03T00:00:00.000000000&#x27;,\n",
       "       &#x27;2002-04-06T00:00:00.000000000&#x27;, ..., &#x27;2023-12-10T00:00:00.000000000&#x27;,\n",
       "       &#x27;2023-12-16T00:00:00.000000000&#x27;, &#x27;2023-12-17T00:00:00.000000000&#x27;],\n",
       "      dtype=&#x27;datetime64[ns]&#x27;)</pre></div></li><li class='xr-var-item'><div class='xr-var-name'><span class='xr-has-index'>tod</span></div><div class='xr-var-dims'>(tod)</div><div class='xr-var-dtype'>int64</div><div class='xr-var-preview xr-preview'>0 6 12 18</div><input id='attrs-862b83d8-34e1-45b6-8f4c-ec10d578a3e9' class='xr-var-attrs-in' type='checkbox' ><label for='attrs-862b83d8-34e1-45b6-8f4c-ec10d578a3e9' title='Show/Hide attributes'><svg class='icon xr-icon-file-text2'><use xlink:href='#icon-file-text2'></use></svg></label><input id='data-f2008a80-80a4-4c87-b50a-690690456115' class='xr-var-data-in' type='checkbox'><label for='data-f2008a80-80a4-4c87-b50a-690690456115' title='Show/Hide data repr'><svg class='icon xr-icon-database'><use xlink:href='#icon-database'></use></svg></label><div class='xr-var-attrs'><dl class='xr-attrs'><dt><span>long_name :</span></dt><dd>time</dd><dt><span>standard_name :</span></dt><dd>time</dd></dl></div><div class='xr-var-data'><pre>array([ 0,  6, 12, 18])</pre></div></li><li class='xr-var-item'><div class='xr-var-name'><span class='xr-has-index'>level</span></div><div class='xr-var-dims'>(level)</div><div class='xr-var-dtype'>float64</div><div class='xr-var-preview xr-preview'>925.0 850.0 700.0 500.0 300.0</div><input id='attrs-3f0409b2-3ad3-4b11-8bcc-7df7da9084e2' class='xr-var-attrs-in' type='checkbox' ><label for='attrs-3f0409b2-3ad3-4b11-8bcc-7df7da9084e2' title='Show/Hide attributes'><svg class='icon xr-icon-file-text2'><use xlink:href='#icon-file-text2'></use></svg></label><input id='data-b5c087bb-74ca-4804-abb8-05c59efb4503' class='xr-var-data-in' type='checkbox'><label for='data-b5c087bb-74ca-4804-abb8-05c59efb4503' title='Show/Hide data repr'><svg class='icon xr-icon-database'><use xlink:href='#icon-database'></use></svg></label><div class='xr-var-attrs'><dl class='xr-attrs'><dt><span>long_name :</span></dt><dd>pressure</dd><dt><span>units :</span></dt><dd>hPa</dd><dt><span>positive :</span></dt><dd>down</dd><dt><span>stored_direction :</span></dt><dd>decreasing</dd><dt><span>standard_name :</span></dt><dd>air_pressure</dd></dl></div><div class='xr-var-data'><pre>array([925., 850., 700., 500., 300.])</pre></div></li><li class='xr-var-item'><div class='xr-var-name'><span class='xr-has-index'>latitude</span></div><div class='xr-var-dims'>(latitude)</div><div class='xr-var-dtype'>float64</div><div class='xr-var-preview xr-preview'>50.0 49.0 48.0 ... 27.0 26.0 25.0</div><input id='attrs-ce069b4a-6c8f-4b65-8c3d-f0cca59da021' class='xr-var-attrs-in' type='checkbox' ><label for='attrs-ce069b4a-6c8f-4b65-8c3d-f0cca59da021' title='Show/Hide attributes'><svg class='icon xr-icon-file-text2'><use xlink:href='#icon-file-text2'></use></svg></label><input id='data-82b74f61-d471-4212-b342-f8542b223824' class='xr-var-data-in' type='checkbox'><label for='data-82b74f61-d471-4212-b342-f8542b223824' title='Show/Hide data repr'><svg class='icon xr-icon-database'><use xlink:href='#icon-database'></use></svg></label><div class='xr-var-attrs'><dl class='xr-attrs'><dt><span>units :</span></dt><dd>degrees_north</dd><dt><span>standard_name :</span></dt><dd>latitude</dd><dt><span>long_name :</span></dt><dd>latitude</dd><dt><span>stored_direction :</span></dt><dd>decreasing</dd></dl></div><div class='xr-var-data'><pre>array([50., 49., 48., 47., 46., 45., 44., 43., 42., 41., 40., 39., 38., 37.,\n",
       "       36., 35., 34., 33., 32., 31., 30., 29., 28., 27., 26., 25.])</pre></div></li><li class='xr-var-item'><div class='xr-var-name'><span class='xr-has-index'>longitude</span></div><div class='xr-var-dims'>(longitude)</div><div class='xr-var-dtype'>float64</div><div class='xr-var-preview xr-preview'>-125.0 -124.0 ... -67.0 -66.0</div><input id='attrs-61550858-ffd5-4a36-a7d6-15ab350b8bb5' class='xr-var-attrs-in' type='checkbox' ><label for='attrs-61550858-ffd5-4a36-a7d6-15ab350b8bb5' title='Show/Hide attributes'><svg class='icon xr-icon-file-text2'><use xlink:href='#icon-file-text2'></use></svg></label><input id='data-f41387a9-72e2-46c9-82cb-3da3515dad14' class='xr-var-data-in' type='checkbox'><label for='data-f41387a9-72e2-46c9-82cb-3da3515dad14' title='Show/Hide data repr'><svg class='icon xr-icon-database'><use xlink:href='#icon-database'></use></svg></label><div class='xr-var-attrs'><dl class='xr-attrs'><dt><span>units :</span></dt><dd>degrees_east</dd><dt><span>standard_name :</span></dt><dd>longitude</dd><dt><span>long_name :</span></dt><dd>longitude</dd></dl></div><div class='xr-var-data'><pre>array([-125., -124., -123., -122., -121., -120., -119., -118., -117., -116.,\n",
       "       -115., -114., -113., -112., -111., -110., -109., -108., -107., -106.,\n",
       "       -105., -104., -103., -102., -101., -100.,  -99.,  -98.,  -97.,  -96.,\n",
       "        -95.,  -94.,  -93.,  -92.,  -91.,  -90.,  -89.,  -88.,  -87.,  -86.,\n",
       "        -85.,  -84.,  -83.,  -82.,  -81.,  -80.,  -79.,  -78.,  -77.,  -76.,\n",
       "        -75.,  -74.,  -73.,  -72.,  -71.,  -70.,  -69.,  -68.,  -67.,  -66.])</pre></div></li></ul></div></li><li class='xr-section-item'><input id='section-51910cfc-106b-4369-9392-2f27d9628785' class='xr-section-summary-in' type='checkbox'  checked><label for='section-51910cfc-106b-4369-9392-2f27d9628785' class='xr-section-summary' >Data variables: <span>(13)</span></label><div class='xr-section-inline-details'></div><div class='xr-section-details'><ul class='xr-var-list'><li class='xr-var-item'><div class='xr-var-name'><span>z</span></div><div class='xr-var-dims'>(level, latitude, longitude, day, tod)</div><div class='xr-var-dtype'>float32</div><div class='xr-var-preview xr-preview'>dask.array&lt;chunksize=(3, 13, 30, 30, 4), meta=np.ndarray&gt;</div><input id='attrs-c6766eef-87de-49ef-8f31-686748a4a8f5' class='xr-var-attrs-in' type='checkbox' ><label for='attrs-c6766eef-87de-49ef-8f31-686748a4a8f5' title='Show/Hide attributes'><svg class='icon xr-icon-file-text2'><use xlink:href='#icon-file-text2'></use></svg></label><input id='data-b84ccb38-587a-4aa2-b3e3-d24dc589e5a7' class='xr-var-data-in' type='checkbox'><label for='data-b84ccb38-587a-4aa2-b3e3-d24dc589e5a7' title='Show/Hide data repr'><svg class='icon xr-icon-database'><use xlink:href='#icon-database'></use></svg></label><div class='xr-var-attrs'><dl class='xr-attrs'><dt><span>GRIB_paramId :</span></dt><dd>129</dd><dt><span>GRIB_dataType :</span></dt><dd>an</dd><dt><span>GRIB_numberOfPoints :</span></dt><dd>23937</dd><dt><span>GRIB_typeOfLevel :</span></dt><dd>isobaricInhPa</dd><dt><span>GRIB_stepUnits :</span></dt><dd>1</dd><dt><span>GRIB_stepType :</span></dt><dd>instant</dd><dt><span>GRIB_gridType :</span></dt><dd>regular_ll</dd><dt><span>GRIB_uvRelativeToGrid :</span></dt><dd>0</dd><dt><span>GRIB_NV :</span></dt><dd>0</dd><dt><span>GRIB_Nx :</span></dt><dd>237</dd><dt><span>GRIB_Ny :</span></dt><dd>101</dd><dt><span>GRIB_cfName :</span></dt><dd>geopotential</dd><dt><span>GRIB_cfVarName :</span></dt><dd>z</dd><dt><span>GRIB_gridDefinitionDescription :</span></dt><dd>Latitude/Longitude Grid</dd><dt><span>GRIB_iDirectionIncrementInDegrees :</span></dt><dd>0.25</dd><dt><span>GRIB_iScansNegatively :</span></dt><dd>0</dd><dt><span>GRIB_jDirectionIncrementInDegrees :</span></dt><dd>0.25</dd><dt><span>GRIB_jPointsAreConsecutive :</span></dt><dd>0</dd><dt><span>GRIB_jScansPositively :</span></dt><dd>0</dd><dt><span>GRIB_latitudeOfFirstGridPointInDegrees :</span></dt><dd>50.0</dd><dt><span>GRIB_latitudeOfLastGridPointInDegrees :</span></dt><dd>25.0</dd><dt><span>GRIB_longitudeOfFirstGridPointInDegrees :</span></dt><dd>-125.0</dd><dt><span>GRIB_longitudeOfLastGridPointInDegrees :</span></dt><dd>-66.0</dd><dt><span>GRIB_missingValue :</span></dt><dd>3.4028234663852886e+38</dd><dt><span>GRIB_name :</span></dt><dd>Geopotential</dd><dt><span>GRIB_shortName :</span></dt><dd>z</dd><dt><span>GRIB_totalNumber :</span></dt><dd>0</dd><dt><span>GRIB_units :</span></dt><dd>m**2 s**-2</dd><dt><span>long_name :</span></dt><dd>Geopotential</dd><dt><span>units :</span></dt><dd>m**2 s**-2</dd><dt><span>standard_name :</span></dt><dd>geopotential</dd></dl></div><div class='xr-var-data'><table>\n",
       "    <tr>\n",
       "        <td>\n",
       "            <table style=\"border-collapse: collapse;\">\n",
       "                <thead>\n",
       "                    <tr>\n",
       "                        <td> </td>\n",
       "                        <th> Array </th>\n",
       "                        <th> Chunk </th>\n",
       "                    </tr>\n",
       "                </thead>\n",
       "                <tbody>\n",
       "                    \n",
       "                    <tr>\n",
       "                        <th> Bytes </th>\n",
       "                        <td> 484.52 MiB </td>\n",
       "                        <td> 548.44 kiB </td>\n",
       "                    </tr>\n",
       "                    \n",
       "                    <tr>\n",
       "                        <th> Shape </th>\n",
       "                        <td> (5, 26, 60, 4071, 4) </td>\n",
       "                        <td> (3, 13, 30, 30, 4) </td>\n",
       "                    </tr>\n",
       "                    <tr>\n",
       "                        <th> Dask graph </th>\n",
       "                        <td colspan=\"2\"> 1088 chunks in 606 graph layers </td>\n",
       "                    </tr>\n",
       "                    <tr>\n",
       "                        <th> Data type </th>\n",
       "                        <td colspan=\"2\"> float32 numpy.ndarray </td>\n",
       "                    </tr>\n",
       "                </tbody>\n",
       "            </table>\n",
       "        </td>\n",
       "        <td>\n",
       "        <svg width=\"281\" height=\"186\" style=\"stroke:rgb(0,0,0);stroke-width:1\" >\n",
       "\n",
       "  <!-- Horizontal lines -->\n",
       "  <line x1=\"0\" y1=\"0\" x2=\"25\" y2=\"0\" style=\"stroke-width:2\" />\n",
       "  <line x1=\"0\" y1=\"15\" x2=\"25\" y2=\"15\" />\n",
       "  <line x1=\"0\" y1=\"25\" x2=\"25\" y2=\"25\" style=\"stroke-width:2\" />\n",
       "\n",
       "  <!-- Vertical lines -->\n",
       "  <line x1=\"0\" y1=\"0\" x2=\"0\" y2=\"25\" style=\"stroke-width:2\" />\n",
       "  <line x1=\"12\" y1=\"0\" x2=\"12\" y2=\"25\" />\n",
       "  <line x1=\"25\" y1=\"0\" x2=\"25\" y2=\"25\" style=\"stroke-width:2\" />\n",
       "\n",
       "  <!-- Colored Rectangle -->\n",
       "  <polygon points=\"0.0,0.0 25.412616514582485,0.0 25.412616514582485,25.412616514582485 0.0,25.412616514582485\" style=\"fill:#ECB172A0;stroke-width:0\"/>\n",
       "\n",
       "  <!-- Text -->\n",
       "  <text x=\"12.706308\" y=\"45.412617\" font-size=\"1.0rem\" font-weight=\"100\" text-anchor=\"middle\" >26</text>\n",
       "  <text x=\"45.412617\" y=\"12.706308\" font-size=\"1.0rem\" font-weight=\"100\" text-anchor=\"middle\" transform=\"rotate(0,45.412617,12.706308)\">5</text>\n",
       "\n",
       "\n",
       "  <!-- Horizontal lines -->\n",
       "  <line x1=\"95\" y1=\"0\" x2=\"111\" y2=\"16\" style=\"stroke-width:2\" />\n",
       "  <line x1=\"95\" y1=\"3\" x2=\"111\" y2=\"19\" />\n",
       "  <line x1=\"95\" y1=\"7\" x2=\"111\" y2=\"23\" />\n",
       "  <line x1=\"95\" y1=\"10\" x2=\"111\" y2=\"26\" />\n",
       "  <line x1=\"95\" y1=\"15\" x2=\"111\" y2=\"31\" />\n",
       "  <line x1=\"95\" y1=\"18\" x2=\"111\" y2=\"34\" />\n",
       "  <line x1=\"95\" y1=\"22\" x2=\"111\" y2=\"38\" />\n",
       "  <line x1=\"95\" y1=\"25\" x2=\"111\" y2=\"41\" />\n",
       "  <line x1=\"95\" y1=\"30\" x2=\"111\" y2=\"46\" />\n",
       "  <line x1=\"95\" y1=\"33\" x2=\"111\" y2=\"49\" />\n",
       "  <line x1=\"95\" y1=\"37\" x2=\"111\" y2=\"53\" />\n",
       "  <line x1=\"95\" y1=\"40\" x2=\"111\" y2=\"56\" />\n",
       "  <line x1=\"95\" y1=\"45\" x2=\"111\" y2=\"61\" />\n",
       "  <line x1=\"95\" y1=\"48\" x2=\"111\" y2=\"64\" />\n",
       "  <line x1=\"95\" y1=\"52\" x2=\"111\" y2=\"68\" />\n",
       "  <line x1=\"95\" y1=\"55\" x2=\"111\" y2=\"71\" />\n",
       "  <line x1=\"95\" y1=\"60\" x2=\"111\" y2=\"76\" />\n",
       "  <line x1=\"95\" y1=\"63\" x2=\"111\" y2=\"79\" />\n",
       "  <line x1=\"95\" y1=\"67\" x2=\"111\" y2=\"83\" />\n",
       "  <line x1=\"95\" y1=\"70\" x2=\"111\" y2=\"86\" />\n",
       "  <line x1=\"95\" y1=\"75\" x2=\"111\" y2=\"91\" />\n",
       "  <line x1=\"95\" y1=\"78\" x2=\"111\" y2=\"94\" />\n",
       "  <line x1=\"95\" y1=\"82\" x2=\"111\" y2=\"98\" />\n",
       "  <line x1=\"95\" y1=\"85\" x2=\"111\" y2=\"101\" />\n",
       "  <line x1=\"95\" y1=\"90\" x2=\"111\" y2=\"106\" />\n",
       "  <line x1=\"95\" y1=\"93\" x2=\"111\" y2=\"109\" />\n",
       "  <line x1=\"95\" y1=\"97\" x2=\"111\" y2=\"113\" />\n",
       "  <line x1=\"95\" y1=\"100\" x2=\"111\" y2=\"116\" />\n",
       "  <line x1=\"95\" y1=\"105\" x2=\"111\" y2=\"121\" />\n",
       "  <line x1=\"95\" y1=\"108\" x2=\"111\" y2=\"124\" />\n",
       "  <line x1=\"95\" y1=\"112\" x2=\"111\" y2=\"128\" />\n",
       "  <line x1=\"95\" y1=\"115\" x2=\"111\" y2=\"131\" />\n",
       "  <line x1=\"95\" y1=\"120\" x2=\"111\" y2=\"136\" style=\"stroke-width:2\" />\n",
       "\n",
       "  <!-- Vertical lines -->\n",
       "  <line x1=\"95\" y1=\"0\" x2=\"95\" y2=\"120\" style=\"stroke-width:2\" />\n",
       "  <line x1=\"103\" y1=\"8\" x2=\"103\" y2=\"128\" />\n",
       "  <line x1=\"111\" y1=\"16\" x2=\"111\" y2=\"136\" style=\"stroke-width:2\" />\n",
       "\n",
       "  <!-- Colored Rectangle -->\n",
       "  <polygon points=\"95.0,0.0 111.09712037591198,16.097120375911985 111.09712037591198,136.09712037591197 95.0,120.0\" style=\"fill:#8B4903A0;stroke-width:0\"/>\n",
       "\n",
       "  <!-- Horizontal lines -->\n",
       "  <line x1=\"95\" y1=\"0\" x2=\"120\" y2=\"0\" style=\"stroke-width:2\" />\n",
       "  <line x1=\"103\" y1=\"8\" x2=\"128\" y2=\"8\" />\n",
       "  <line x1=\"111\" y1=\"16\" x2=\"136\" y2=\"16\" style=\"stroke-width:2\" />\n",
       "\n",
       "  <!-- Vertical lines -->\n",
       "  <line x1=\"95\" y1=\"0\" x2=\"111\" y2=\"16\" style=\"stroke-width:2\" />\n",
       "  <line x1=\"120\" y1=\"0\" x2=\"136\" y2=\"16\" style=\"stroke-width:2\" />\n",
       "\n",
       "  <!-- Colored Rectangle -->\n",
       "  <polygon points=\"95.0,0.0 120.41261651458248,0.0 136.50973689049448,16.097120375911985 111.09712037591198,16.097120375911985\" style=\"fill:#ECB172A0;stroke-width:0\"/>\n",
       "\n",
       "  <!-- Horizontal lines -->\n",
       "  <line x1=\"111\" y1=\"16\" x2=\"136\" y2=\"16\" style=\"stroke-width:2\" />\n",
       "  <line x1=\"111\" y1=\"19\" x2=\"136\" y2=\"19\" />\n",
       "  <line x1=\"111\" y1=\"23\" x2=\"136\" y2=\"23\" />\n",
       "  <line x1=\"111\" y1=\"26\" x2=\"136\" y2=\"26\" />\n",
       "  <line x1=\"111\" y1=\"31\" x2=\"136\" y2=\"31\" />\n",
       "  <line x1=\"111\" y1=\"34\" x2=\"136\" y2=\"34\" />\n",
       "  <line x1=\"111\" y1=\"38\" x2=\"136\" y2=\"38\" />\n",
       "  <line x1=\"111\" y1=\"41\" x2=\"136\" y2=\"41\" />\n",
       "  <line x1=\"111\" y1=\"46\" x2=\"136\" y2=\"46\" />\n",
       "  <line x1=\"111\" y1=\"49\" x2=\"136\" y2=\"49\" />\n",
       "  <line x1=\"111\" y1=\"53\" x2=\"136\" y2=\"53\" />\n",
       "  <line x1=\"111\" y1=\"56\" x2=\"136\" y2=\"56\" />\n",
       "  <line x1=\"111\" y1=\"61\" x2=\"136\" y2=\"61\" />\n",
       "  <line x1=\"111\" y1=\"64\" x2=\"136\" y2=\"64\" />\n",
       "  <line x1=\"111\" y1=\"68\" x2=\"136\" y2=\"68\" />\n",
       "  <line x1=\"111\" y1=\"71\" x2=\"136\" y2=\"71\" />\n",
       "  <line x1=\"111\" y1=\"76\" x2=\"136\" y2=\"76\" />\n",
       "  <line x1=\"111\" y1=\"79\" x2=\"136\" y2=\"79\" />\n",
       "  <line x1=\"111\" y1=\"83\" x2=\"136\" y2=\"83\" />\n",
       "  <line x1=\"111\" y1=\"86\" x2=\"136\" y2=\"86\" />\n",
       "  <line x1=\"111\" y1=\"91\" x2=\"136\" y2=\"91\" />\n",
       "  <line x1=\"111\" y1=\"94\" x2=\"136\" y2=\"94\" />\n",
       "  <line x1=\"111\" y1=\"98\" x2=\"136\" y2=\"98\" />\n",
       "  <line x1=\"111\" y1=\"101\" x2=\"136\" y2=\"101\" />\n",
       "  <line x1=\"111\" y1=\"106\" x2=\"136\" y2=\"106\" />\n",
       "  <line x1=\"111\" y1=\"109\" x2=\"136\" y2=\"109\" />\n",
       "  <line x1=\"111\" y1=\"113\" x2=\"136\" y2=\"113\" />\n",
       "  <line x1=\"111\" y1=\"116\" x2=\"136\" y2=\"116\" />\n",
       "  <line x1=\"111\" y1=\"121\" x2=\"136\" y2=\"121\" />\n",
       "  <line x1=\"111\" y1=\"124\" x2=\"136\" y2=\"124\" />\n",
       "  <line x1=\"111\" y1=\"128\" x2=\"136\" y2=\"128\" />\n",
       "  <line x1=\"111\" y1=\"131\" x2=\"136\" y2=\"131\" />\n",
       "  <line x1=\"111\" y1=\"136\" x2=\"136\" y2=\"136\" style=\"stroke-width:2\" />\n",
       "\n",
       "  <!-- Vertical lines -->\n",
       "  <line x1=\"111\" y1=\"16\" x2=\"111\" y2=\"136\" style=\"stroke-width:2\" />\n",
       "  <line x1=\"136\" y1=\"16\" x2=\"136\" y2=\"136\" style=\"stroke-width:2\" />\n",
       "\n",
       "  <!-- Colored Rectangle -->\n",
       "  <polygon points=\"111.09712037591198,16.097120375911985 136.50973689049448,16.097120375911985 136.50973689049448,136.09712037591197 111.09712037591198,136.09712037591197\" style=\"fill:#8B4903A0;stroke-width:0\"/>\n",
       "\n",
       "  <!-- Text -->\n",
       "  <text x=\"123.803429\" y=\"156.097120\" font-size=\"1.0rem\" font-weight=\"100\" text-anchor=\"middle\" >4</text>\n",
       "  <text x=\"156.509737\" y=\"76.097120\" font-size=\"1.0rem\" font-weight=\"100\" text-anchor=\"middle\" transform=\"rotate(-90,156.509737,76.097120)\">4071</text>\n",
       "  <text x=\"93.048560\" y=\"148.048560\" font-size=\"1.0rem\" font-weight=\"100\" text-anchor=\"middle\" transform=\"rotate(45,93.048560,148.048560)\">60</text>\n",
       "</svg>\n",
       "        </td>\n",
       "    </tr>\n",
       "</table></div></li><li class='xr-var-item'><div class='xr-var-name'><span>pv</span></div><div class='xr-var-dims'>(level, latitude, longitude, day, tod)</div><div class='xr-var-dtype'>float32</div><div class='xr-var-preview xr-preview'>dask.array&lt;chunksize=(3, 13, 30, 30, 4), meta=np.ndarray&gt;</div><input id='attrs-f2d6d43f-eba0-48ab-ab7c-e759f6eff2b2' class='xr-var-attrs-in' type='checkbox' ><label for='attrs-f2d6d43f-eba0-48ab-ab7c-e759f6eff2b2' title='Show/Hide attributes'><svg class='icon xr-icon-file-text2'><use xlink:href='#icon-file-text2'></use></svg></label><input id='data-e869b9e7-fdbd-4ea5-85d5-dd48e27fb2af' class='xr-var-data-in' type='checkbox'><label for='data-e869b9e7-fdbd-4ea5-85d5-dd48e27fb2af' title='Show/Hide data repr'><svg class='icon xr-icon-database'><use xlink:href='#icon-database'></use></svg></label><div class='xr-var-attrs'><dl class='xr-attrs'><dt><span>GRIB_paramId :</span></dt><dd>60</dd><dt><span>GRIB_dataType :</span></dt><dd>an</dd><dt><span>GRIB_numberOfPoints :</span></dt><dd>23937</dd><dt><span>GRIB_typeOfLevel :</span></dt><dd>isobaricInhPa</dd><dt><span>GRIB_stepUnits :</span></dt><dd>1</dd><dt><span>GRIB_stepType :</span></dt><dd>instant</dd><dt><span>GRIB_gridType :</span></dt><dd>regular_ll</dd><dt><span>GRIB_uvRelativeToGrid :</span></dt><dd>0</dd><dt><span>GRIB_NV :</span></dt><dd>0</dd><dt><span>GRIB_Nx :</span></dt><dd>237</dd><dt><span>GRIB_Ny :</span></dt><dd>101</dd><dt><span>GRIB_cfName :</span></dt><dd>unknown</dd><dt><span>GRIB_cfVarName :</span></dt><dd>pv</dd><dt><span>GRIB_gridDefinitionDescription :</span></dt><dd>Latitude/Longitude Grid</dd><dt><span>GRIB_iDirectionIncrementInDegrees :</span></dt><dd>0.25</dd><dt><span>GRIB_iScansNegatively :</span></dt><dd>0</dd><dt><span>GRIB_jDirectionIncrementInDegrees :</span></dt><dd>0.25</dd><dt><span>GRIB_jPointsAreConsecutive :</span></dt><dd>0</dd><dt><span>GRIB_jScansPositively :</span></dt><dd>0</dd><dt><span>GRIB_latitudeOfFirstGridPointInDegrees :</span></dt><dd>50.0</dd><dt><span>GRIB_latitudeOfLastGridPointInDegrees :</span></dt><dd>25.0</dd><dt><span>GRIB_longitudeOfFirstGridPointInDegrees :</span></dt><dd>-125.0</dd><dt><span>GRIB_longitudeOfLastGridPointInDegrees :</span></dt><dd>-66.0</dd><dt><span>GRIB_missingValue :</span></dt><dd>3.4028234663852886e+38</dd><dt><span>GRIB_name :</span></dt><dd>Potential vorticity</dd><dt><span>GRIB_shortName :</span></dt><dd>pv</dd><dt><span>GRIB_totalNumber :</span></dt><dd>0</dd><dt><span>GRIB_units :</span></dt><dd>K m**2 kg**-1 s**-1</dd><dt><span>long_name :</span></dt><dd>Potential vorticity</dd><dt><span>units :</span></dt><dd>K m**2 kg**-1 s**-1</dd><dt><span>standard_name :</span></dt><dd>unknown</dd></dl></div><div class='xr-var-data'><table>\n",
       "    <tr>\n",
       "        <td>\n",
       "            <table style=\"border-collapse: collapse;\">\n",
       "                <thead>\n",
       "                    <tr>\n",
       "                        <td> </td>\n",
       "                        <th> Array </th>\n",
       "                        <th> Chunk </th>\n",
       "                    </tr>\n",
       "                </thead>\n",
       "                <tbody>\n",
       "                    \n",
       "                    <tr>\n",
       "                        <th> Bytes </th>\n",
       "                        <td> 484.52 MiB </td>\n",
       "                        <td> 548.44 kiB </td>\n",
       "                    </tr>\n",
       "                    \n",
       "                    <tr>\n",
       "                        <th> Shape </th>\n",
       "                        <td> (5, 26, 60, 4071, 4) </td>\n",
       "                        <td> (3, 13, 30, 30, 4) </td>\n",
       "                    </tr>\n",
       "                    <tr>\n",
       "                        <th> Dask graph </th>\n",
       "                        <td colspan=\"2\"> 1088 chunks in 606 graph layers </td>\n",
       "                    </tr>\n",
       "                    <tr>\n",
       "                        <th> Data type </th>\n",
       "                        <td colspan=\"2\"> float32 numpy.ndarray </td>\n",
       "                    </tr>\n",
       "                </tbody>\n",
       "            </table>\n",
       "        </td>\n",
       "        <td>\n",
       "        <svg width=\"281\" height=\"186\" style=\"stroke:rgb(0,0,0);stroke-width:1\" >\n",
       "\n",
       "  <!-- Horizontal lines -->\n",
       "  <line x1=\"0\" y1=\"0\" x2=\"25\" y2=\"0\" style=\"stroke-width:2\" />\n",
       "  <line x1=\"0\" y1=\"15\" x2=\"25\" y2=\"15\" />\n",
       "  <line x1=\"0\" y1=\"25\" x2=\"25\" y2=\"25\" style=\"stroke-width:2\" />\n",
       "\n",
       "  <!-- Vertical lines -->\n",
       "  <line x1=\"0\" y1=\"0\" x2=\"0\" y2=\"25\" style=\"stroke-width:2\" />\n",
       "  <line x1=\"12\" y1=\"0\" x2=\"12\" y2=\"25\" />\n",
       "  <line x1=\"25\" y1=\"0\" x2=\"25\" y2=\"25\" style=\"stroke-width:2\" />\n",
       "\n",
       "  <!-- Colored Rectangle -->\n",
       "  <polygon points=\"0.0,0.0 25.412616514582485,0.0 25.412616514582485,25.412616514582485 0.0,25.412616514582485\" style=\"fill:#ECB172A0;stroke-width:0\"/>\n",
       "\n",
       "  <!-- Text -->\n",
       "  <text x=\"12.706308\" y=\"45.412617\" font-size=\"1.0rem\" font-weight=\"100\" text-anchor=\"middle\" >26</text>\n",
       "  <text x=\"45.412617\" y=\"12.706308\" font-size=\"1.0rem\" font-weight=\"100\" text-anchor=\"middle\" transform=\"rotate(0,45.412617,12.706308)\">5</text>\n",
       "\n",
       "\n",
       "  <!-- Horizontal lines -->\n",
       "  <line x1=\"95\" y1=\"0\" x2=\"111\" y2=\"16\" style=\"stroke-width:2\" />\n",
       "  <line x1=\"95\" y1=\"3\" x2=\"111\" y2=\"19\" />\n",
       "  <line x1=\"95\" y1=\"7\" x2=\"111\" y2=\"23\" />\n",
       "  <line x1=\"95\" y1=\"10\" x2=\"111\" y2=\"26\" />\n",
       "  <line x1=\"95\" y1=\"15\" x2=\"111\" y2=\"31\" />\n",
       "  <line x1=\"95\" y1=\"18\" x2=\"111\" y2=\"34\" />\n",
       "  <line x1=\"95\" y1=\"22\" x2=\"111\" y2=\"38\" />\n",
       "  <line x1=\"95\" y1=\"25\" x2=\"111\" y2=\"41\" />\n",
       "  <line x1=\"95\" y1=\"30\" x2=\"111\" y2=\"46\" />\n",
       "  <line x1=\"95\" y1=\"33\" x2=\"111\" y2=\"49\" />\n",
       "  <line x1=\"95\" y1=\"37\" x2=\"111\" y2=\"53\" />\n",
       "  <line x1=\"95\" y1=\"40\" x2=\"111\" y2=\"56\" />\n",
       "  <line x1=\"95\" y1=\"45\" x2=\"111\" y2=\"61\" />\n",
       "  <line x1=\"95\" y1=\"48\" x2=\"111\" y2=\"64\" />\n",
       "  <line x1=\"95\" y1=\"52\" x2=\"111\" y2=\"68\" />\n",
       "  <line x1=\"95\" y1=\"55\" x2=\"111\" y2=\"71\" />\n",
       "  <line x1=\"95\" y1=\"60\" x2=\"111\" y2=\"76\" />\n",
       "  <line x1=\"95\" y1=\"63\" x2=\"111\" y2=\"79\" />\n",
       "  <line x1=\"95\" y1=\"67\" x2=\"111\" y2=\"83\" />\n",
       "  <line x1=\"95\" y1=\"70\" x2=\"111\" y2=\"86\" />\n",
       "  <line x1=\"95\" y1=\"75\" x2=\"111\" y2=\"91\" />\n",
       "  <line x1=\"95\" y1=\"78\" x2=\"111\" y2=\"94\" />\n",
       "  <line x1=\"95\" y1=\"82\" x2=\"111\" y2=\"98\" />\n",
       "  <line x1=\"95\" y1=\"85\" x2=\"111\" y2=\"101\" />\n",
       "  <line x1=\"95\" y1=\"90\" x2=\"111\" y2=\"106\" />\n",
       "  <line x1=\"95\" y1=\"93\" x2=\"111\" y2=\"109\" />\n",
       "  <line x1=\"95\" y1=\"97\" x2=\"111\" y2=\"113\" />\n",
       "  <line x1=\"95\" y1=\"100\" x2=\"111\" y2=\"116\" />\n",
       "  <line x1=\"95\" y1=\"105\" x2=\"111\" y2=\"121\" />\n",
       "  <line x1=\"95\" y1=\"108\" x2=\"111\" y2=\"124\" />\n",
       "  <line x1=\"95\" y1=\"112\" x2=\"111\" y2=\"128\" />\n",
       "  <line x1=\"95\" y1=\"115\" x2=\"111\" y2=\"131\" />\n",
       "  <line x1=\"95\" y1=\"120\" x2=\"111\" y2=\"136\" style=\"stroke-width:2\" />\n",
       "\n",
       "  <!-- Vertical lines -->\n",
       "  <line x1=\"95\" y1=\"0\" x2=\"95\" y2=\"120\" style=\"stroke-width:2\" />\n",
       "  <line x1=\"103\" y1=\"8\" x2=\"103\" y2=\"128\" />\n",
       "  <line x1=\"111\" y1=\"16\" x2=\"111\" y2=\"136\" style=\"stroke-width:2\" />\n",
       "\n",
       "  <!-- Colored Rectangle -->\n",
       "  <polygon points=\"95.0,0.0 111.09712037591198,16.097120375911985 111.09712037591198,136.09712037591197 95.0,120.0\" style=\"fill:#8B4903A0;stroke-width:0\"/>\n",
       "\n",
       "  <!-- Horizontal lines -->\n",
       "  <line x1=\"95\" y1=\"0\" x2=\"120\" y2=\"0\" style=\"stroke-width:2\" />\n",
       "  <line x1=\"103\" y1=\"8\" x2=\"128\" y2=\"8\" />\n",
       "  <line x1=\"111\" y1=\"16\" x2=\"136\" y2=\"16\" style=\"stroke-width:2\" />\n",
       "\n",
       "  <!-- Vertical lines -->\n",
       "  <line x1=\"95\" y1=\"0\" x2=\"111\" y2=\"16\" style=\"stroke-width:2\" />\n",
       "  <line x1=\"120\" y1=\"0\" x2=\"136\" y2=\"16\" style=\"stroke-width:2\" />\n",
       "\n",
       "  <!-- Colored Rectangle -->\n",
       "  <polygon points=\"95.0,0.0 120.41261651458248,0.0 136.50973689049448,16.097120375911985 111.09712037591198,16.097120375911985\" style=\"fill:#ECB172A0;stroke-width:0\"/>\n",
       "\n",
       "  <!-- Horizontal lines -->\n",
       "  <line x1=\"111\" y1=\"16\" x2=\"136\" y2=\"16\" style=\"stroke-width:2\" />\n",
       "  <line x1=\"111\" y1=\"19\" x2=\"136\" y2=\"19\" />\n",
       "  <line x1=\"111\" y1=\"23\" x2=\"136\" y2=\"23\" />\n",
       "  <line x1=\"111\" y1=\"26\" x2=\"136\" y2=\"26\" />\n",
       "  <line x1=\"111\" y1=\"31\" x2=\"136\" y2=\"31\" />\n",
       "  <line x1=\"111\" y1=\"34\" x2=\"136\" y2=\"34\" />\n",
       "  <line x1=\"111\" y1=\"38\" x2=\"136\" y2=\"38\" />\n",
       "  <line x1=\"111\" y1=\"41\" x2=\"136\" y2=\"41\" />\n",
       "  <line x1=\"111\" y1=\"46\" x2=\"136\" y2=\"46\" />\n",
       "  <line x1=\"111\" y1=\"49\" x2=\"136\" y2=\"49\" />\n",
       "  <line x1=\"111\" y1=\"53\" x2=\"136\" y2=\"53\" />\n",
       "  <line x1=\"111\" y1=\"56\" x2=\"136\" y2=\"56\" />\n",
       "  <line x1=\"111\" y1=\"61\" x2=\"136\" y2=\"61\" />\n",
       "  <line x1=\"111\" y1=\"64\" x2=\"136\" y2=\"64\" />\n",
       "  <line x1=\"111\" y1=\"68\" x2=\"136\" y2=\"68\" />\n",
       "  <line x1=\"111\" y1=\"71\" x2=\"136\" y2=\"71\" />\n",
       "  <line x1=\"111\" y1=\"76\" x2=\"136\" y2=\"76\" />\n",
       "  <line x1=\"111\" y1=\"79\" x2=\"136\" y2=\"79\" />\n",
       "  <line x1=\"111\" y1=\"83\" x2=\"136\" y2=\"83\" />\n",
       "  <line x1=\"111\" y1=\"86\" x2=\"136\" y2=\"86\" />\n",
       "  <line x1=\"111\" y1=\"91\" x2=\"136\" y2=\"91\" />\n",
       "  <line x1=\"111\" y1=\"94\" x2=\"136\" y2=\"94\" />\n",
       "  <line x1=\"111\" y1=\"98\" x2=\"136\" y2=\"98\" />\n",
       "  <line x1=\"111\" y1=\"101\" x2=\"136\" y2=\"101\" />\n",
       "  <line x1=\"111\" y1=\"106\" x2=\"136\" y2=\"106\" />\n",
       "  <line x1=\"111\" y1=\"109\" x2=\"136\" y2=\"109\" />\n",
       "  <line x1=\"111\" y1=\"113\" x2=\"136\" y2=\"113\" />\n",
       "  <line x1=\"111\" y1=\"116\" x2=\"136\" y2=\"116\" />\n",
       "  <line x1=\"111\" y1=\"121\" x2=\"136\" y2=\"121\" />\n",
       "  <line x1=\"111\" y1=\"124\" x2=\"136\" y2=\"124\" />\n",
       "  <line x1=\"111\" y1=\"128\" x2=\"136\" y2=\"128\" />\n",
       "  <line x1=\"111\" y1=\"131\" x2=\"136\" y2=\"131\" />\n",
       "  <line x1=\"111\" y1=\"136\" x2=\"136\" y2=\"136\" style=\"stroke-width:2\" />\n",
       "\n",
       "  <!-- Vertical lines -->\n",
       "  <line x1=\"111\" y1=\"16\" x2=\"111\" y2=\"136\" style=\"stroke-width:2\" />\n",
       "  <line x1=\"136\" y1=\"16\" x2=\"136\" y2=\"136\" style=\"stroke-width:2\" />\n",
       "\n",
       "  <!-- Colored Rectangle -->\n",
       "  <polygon points=\"111.09712037591198,16.097120375911985 136.50973689049448,16.097120375911985 136.50973689049448,136.09712037591197 111.09712037591198,136.09712037591197\" style=\"fill:#8B4903A0;stroke-width:0\"/>\n",
       "\n",
       "  <!-- Text -->\n",
       "  <text x=\"123.803429\" y=\"156.097120\" font-size=\"1.0rem\" font-weight=\"100\" text-anchor=\"middle\" >4</text>\n",
       "  <text x=\"156.509737\" y=\"76.097120\" font-size=\"1.0rem\" font-weight=\"100\" text-anchor=\"middle\" transform=\"rotate(-90,156.509737,76.097120)\">4071</text>\n",
       "  <text x=\"93.048560\" y=\"148.048560\" font-size=\"1.0rem\" font-weight=\"100\" text-anchor=\"middle\" transform=\"rotate(45,93.048560,148.048560)\">60</text>\n",
       "</svg>\n",
       "        </td>\n",
       "    </tr>\n",
       "</table></div></li><li class='xr-var-item'><div class='xr-var-name'><span>q</span></div><div class='xr-var-dims'>(level, latitude, longitude, day, tod)</div><div class='xr-var-dtype'>float32</div><div class='xr-var-preview xr-preview'>dask.array&lt;chunksize=(3, 13, 30, 30, 4), meta=np.ndarray&gt;</div><input id='attrs-c7ec32c1-9c51-4be8-ba97-5bfea75c1106' class='xr-var-attrs-in' type='checkbox' ><label for='attrs-c7ec32c1-9c51-4be8-ba97-5bfea75c1106' title='Show/Hide attributes'><svg class='icon xr-icon-file-text2'><use xlink:href='#icon-file-text2'></use></svg></label><input id='data-94991bda-80f9-4f65-89df-1b7461be0ca7' class='xr-var-data-in' type='checkbox'><label for='data-94991bda-80f9-4f65-89df-1b7461be0ca7' title='Show/Hide data repr'><svg class='icon xr-icon-database'><use xlink:href='#icon-database'></use></svg></label><div class='xr-var-attrs'><dl class='xr-attrs'><dt><span>GRIB_paramId :</span></dt><dd>133</dd><dt><span>GRIB_dataType :</span></dt><dd>an</dd><dt><span>GRIB_numberOfPoints :</span></dt><dd>23937</dd><dt><span>GRIB_typeOfLevel :</span></dt><dd>isobaricInhPa</dd><dt><span>GRIB_stepUnits :</span></dt><dd>1</dd><dt><span>GRIB_stepType :</span></dt><dd>instant</dd><dt><span>GRIB_gridType :</span></dt><dd>regular_ll</dd><dt><span>GRIB_uvRelativeToGrid :</span></dt><dd>0</dd><dt><span>GRIB_NV :</span></dt><dd>0</dd><dt><span>GRIB_Nx :</span></dt><dd>237</dd><dt><span>GRIB_Ny :</span></dt><dd>101</dd><dt><span>GRIB_cfName :</span></dt><dd>specific_humidity</dd><dt><span>GRIB_cfVarName :</span></dt><dd>q</dd><dt><span>GRIB_gridDefinitionDescription :</span></dt><dd>Latitude/Longitude Grid</dd><dt><span>GRIB_iDirectionIncrementInDegrees :</span></dt><dd>0.25</dd><dt><span>GRIB_iScansNegatively :</span></dt><dd>0</dd><dt><span>GRIB_jDirectionIncrementInDegrees :</span></dt><dd>0.25</dd><dt><span>GRIB_jPointsAreConsecutive :</span></dt><dd>0</dd><dt><span>GRIB_jScansPositively :</span></dt><dd>0</dd><dt><span>GRIB_latitudeOfFirstGridPointInDegrees :</span></dt><dd>50.0</dd><dt><span>GRIB_latitudeOfLastGridPointInDegrees :</span></dt><dd>25.0</dd><dt><span>GRIB_longitudeOfFirstGridPointInDegrees :</span></dt><dd>-125.0</dd><dt><span>GRIB_longitudeOfLastGridPointInDegrees :</span></dt><dd>-66.0</dd><dt><span>GRIB_missingValue :</span></dt><dd>3.4028234663852886e+38</dd><dt><span>GRIB_name :</span></dt><dd>Specific humidity</dd><dt><span>GRIB_shortName :</span></dt><dd>q</dd><dt><span>GRIB_totalNumber :</span></dt><dd>0</dd><dt><span>GRIB_units :</span></dt><dd>kg kg**-1</dd><dt><span>long_name :</span></dt><dd>Specific humidity</dd><dt><span>units :</span></dt><dd>kg kg**-1</dd><dt><span>standard_name :</span></dt><dd>specific_humidity</dd></dl></div><div class='xr-var-data'><table>\n",
       "    <tr>\n",
       "        <td>\n",
       "            <table style=\"border-collapse: collapse;\">\n",
       "                <thead>\n",
       "                    <tr>\n",
       "                        <td> </td>\n",
       "                        <th> Array </th>\n",
       "                        <th> Chunk </th>\n",
       "                    </tr>\n",
       "                </thead>\n",
       "                <tbody>\n",
       "                    \n",
       "                    <tr>\n",
       "                        <th> Bytes </th>\n",
       "                        <td> 484.52 MiB </td>\n",
       "                        <td> 548.44 kiB </td>\n",
       "                    </tr>\n",
       "                    \n",
       "                    <tr>\n",
       "                        <th> Shape </th>\n",
       "                        <td> (5, 26, 60, 4071, 4) </td>\n",
       "                        <td> (3, 13, 30, 30, 4) </td>\n",
       "                    </tr>\n",
       "                    <tr>\n",
       "                        <th> Dask graph </th>\n",
       "                        <td colspan=\"2\"> 1088 chunks in 606 graph layers </td>\n",
       "                    </tr>\n",
       "                    <tr>\n",
       "                        <th> Data type </th>\n",
       "                        <td colspan=\"2\"> float32 numpy.ndarray </td>\n",
       "                    </tr>\n",
       "                </tbody>\n",
       "            </table>\n",
       "        </td>\n",
       "        <td>\n",
       "        <svg width=\"281\" height=\"186\" style=\"stroke:rgb(0,0,0);stroke-width:1\" >\n",
       "\n",
       "  <!-- Horizontal lines -->\n",
       "  <line x1=\"0\" y1=\"0\" x2=\"25\" y2=\"0\" style=\"stroke-width:2\" />\n",
       "  <line x1=\"0\" y1=\"15\" x2=\"25\" y2=\"15\" />\n",
       "  <line x1=\"0\" y1=\"25\" x2=\"25\" y2=\"25\" style=\"stroke-width:2\" />\n",
       "\n",
       "  <!-- Vertical lines -->\n",
       "  <line x1=\"0\" y1=\"0\" x2=\"0\" y2=\"25\" style=\"stroke-width:2\" />\n",
       "  <line x1=\"12\" y1=\"0\" x2=\"12\" y2=\"25\" />\n",
       "  <line x1=\"25\" y1=\"0\" x2=\"25\" y2=\"25\" style=\"stroke-width:2\" />\n",
       "\n",
       "  <!-- Colored Rectangle -->\n",
       "  <polygon points=\"0.0,0.0 25.412616514582485,0.0 25.412616514582485,25.412616514582485 0.0,25.412616514582485\" style=\"fill:#ECB172A0;stroke-width:0\"/>\n",
       "\n",
       "  <!-- Text -->\n",
       "  <text x=\"12.706308\" y=\"45.412617\" font-size=\"1.0rem\" font-weight=\"100\" text-anchor=\"middle\" >26</text>\n",
       "  <text x=\"45.412617\" y=\"12.706308\" font-size=\"1.0rem\" font-weight=\"100\" text-anchor=\"middle\" transform=\"rotate(0,45.412617,12.706308)\">5</text>\n",
       "\n",
       "\n",
       "  <!-- Horizontal lines -->\n",
       "  <line x1=\"95\" y1=\"0\" x2=\"111\" y2=\"16\" style=\"stroke-width:2\" />\n",
       "  <line x1=\"95\" y1=\"3\" x2=\"111\" y2=\"19\" />\n",
       "  <line x1=\"95\" y1=\"7\" x2=\"111\" y2=\"23\" />\n",
       "  <line x1=\"95\" y1=\"10\" x2=\"111\" y2=\"26\" />\n",
       "  <line x1=\"95\" y1=\"15\" x2=\"111\" y2=\"31\" />\n",
       "  <line x1=\"95\" y1=\"18\" x2=\"111\" y2=\"34\" />\n",
       "  <line x1=\"95\" y1=\"22\" x2=\"111\" y2=\"38\" />\n",
       "  <line x1=\"95\" y1=\"25\" x2=\"111\" y2=\"41\" />\n",
       "  <line x1=\"95\" y1=\"30\" x2=\"111\" y2=\"46\" />\n",
       "  <line x1=\"95\" y1=\"33\" x2=\"111\" y2=\"49\" />\n",
       "  <line x1=\"95\" y1=\"37\" x2=\"111\" y2=\"53\" />\n",
       "  <line x1=\"95\" y1=\"40\" x2=\"111\" y2=\"56\" />\n",
       "  <line x1=\"95\" y1=\"45\" x2=\"111\" y2=\"61\" />\n",
       "  <line x1=\"95\" y1=\"48\" x2=\"111\" y2=\"64\" />\n",
       "  <line x1=\"95\" y1=\"52\" x2=\"111\" y2=\"68\" />\n",
       "  <line x1=\"95\" y1=\"55\" x2=\"111\" y2=\"71\" />\n",
       "  <line x1=\"95\" y1=\"60\" x2=\"111\" y2=\"76\" />\n",
       "  <line x1=\"95\" y1=\"63\" x2=\"111\" y2=\"79\" />\n",
       "  <line x1=\"95\" y1=\"67\" x2=\"111\" y2=\"83\" />\n",
       "  <line x1=\"95\" y1=\"70\" x2=\"111\" y2=\"86\" />\n",
       "  <line x1=\"95\" y1=\"75\" x2=\"111\" y2=\"91\" />\n",
       "  <line x1=\"95\" y1=\"78\" x2=\"111\" y2=\"94\" />\n",
       "  <line x1=\"95\" y1=\"82\" x2=\"111\" y2=\"98\" />\n",
       "  <line x1=\"95\" y1=\"85\" x2=\"111\" y2=\"101\" />\n",
       "  <line x1=\"95\" y1=\"90\" x2=\"111\" y2=\"106\" />\n",
       "  <line x1=\"95\" y1=\"93\" x2=\"111\" y2=\"109\" />\n",
       "  <line x1=\"95\" y1=\"97\" x2=\"111\" y2=\"113\" />\n",
       "  <line x1=\"95\" y1=\"100\" x2=\"111\" y2=\"116\" />\n",
       "  <line x1=\"95\" y1=\"105\" x2=\"111\" y2=\"121\" />\n",
       "  <line x1=\"95\" y1=\"108\" x2=\"111\" y2=\"124\" />\n",
       "  <line x1=\"95\" y1=\"112\" x2=\"111\" y2=\"128\" />\n",
       "  <line x1=\"95\" y1=\"115\" x2=\"111\" y2=\"131\" />\n",
       "  <line x1=\"95\" y1=\"120\" x2=\"111\" y2=\"136\" style=\"stroke-width:2\" />\n",
       "\n",
       "  <!-- Vertical lines -->\n",
       "  <line x1=\"95\" y1=\"0\" x2=\"95\" y2=\"120\" style=\"stroke-width:2\" />\n",
       "  <line x1=\"103\" y1=\"8\" x2=\"103\" y2=\"128\" />\n",
       "  <line x1=\"111\" y1=\"16\" x2=\"111\" y2=\"136\" style=\"stroke-width:2\" />\n",
       "\n",
       "  <!-- Colored Rectangle -->\n",
       "  <polygon points=\"95.0,0.0 111.09712037591198,16.097120375911985 111.09712037591198,136.09712037591197 95.0,120.0\" style=\"fill:#8B4903A0;stroke-width:0\"/>\n",
       "\n",
       "  <!-- Horizontal lines -->\n",
       "  <line x1=\"95\" y1=\"0\" x2=\"120\" y2=\"0\" style=\"stroke-width:2\" />\n",
       "  <line x1=\"103\" y1=\"8\" x2=\"128\" y2=\"8\" />\n",
       "  <line x1=\"111\" y1=\"16\" x2=\"136\" y2=\"16\" style=\"stroke-width:2\" />\n",
       "\n",
       "  <!-- Vertical lines -->\n",
       "  <line x1=\"95\" y1=\"0\" x2=\"111\" y2=\"16\" style=\"stroke-width:2\" />\n",
       "  <line x1=\"120\" y1=\"0\" x2=\"136\" y2=\"16\" style=\"stroke-width:2\" />\n",
       "\n",
       "  <!-- Colored Rectangle -->\n",
       "  <polygon points=\"95.0,0.0 120.41261651458248,0.0 136.50973689049448,16.097120375911985 111.09712037591198,16.097120375911985\" style=\"fill:#ECB172A0;stroke-width:0\"/>\n",
       "\n",
       "  <!-- Horizontal lines -->\n",
       "  <line x1=\"111\" y1=\"16\" x2=\"136\" y2=\"16\" style=\"stroke-width:2\" />\n",
       "  <line x1=\"111\" y1=\"19\" x2=\"136\" y2=\"19\" />\n",
       "  <line x1=\"111\" y1=\"23\" x2=\"136\" y2=\"23\" />\n",
       "  <line x1=\"111\" y1=\"26\" x2=\"136\" y2=\"26\" />\n",
       "  <line x1=\"111\" y1=\"31\" x2=\"136\" y2=\"31\" />\n",
       "  <line x1=\"111\" y1=\"34\" x2=\"136\" y2=\"34\" />\n",
       "  <line x1=\"111\" y1=\"38\" x2=\"136\" y2=\"38\" />\n",
       "  <line x1=\"111\" y1=\"41\" x2=\"136\" y2=\"41\" />\n",
       "  <line x1=\"111\" y1=\"46\" x2=\"136\" y2=\"46\" />\n",
       "  <line x1=\"111\" y1=\"49\" x2=\"136\" y2=\"49\" />\n",
       "  <line x1=\"111\" y1=\"53\" x2=\"136\" y2=\"53\" />\n",
       "  <line x1=\"111\" y1=\"56\" x2=\"136\" y2=\"56\" />\n",
       "  <line x1=\"111\" y1=\"61\" x2=\"136\" y2=\"61\" />\n",
       "  <line x1=\"111\" y1=\"64\" x2=\"136\" y2=\"64\" />\n",
       "  <line x1=\"111\" y1=\"68\" x2=\"136\" y2=\"68\" />\n",
       "  <line x1=\"111\" y1=\"71\" x2=\"136\" y2=\"71\" />\n",
       "  <line x1=\"111\" y1=\"76\" x2=\"136\" y2=\"76\" />\n",
       "  <line x1=\"111\" y1=\"79\" x2=\"136\" y2=\"79\" />\n",
       "  <line x1=\"111\" y1=\"83\" x2=\"136\" y2=\"83\" />\n",
       "  <line x1=\"111\" y1=\"86\" x2=\"136\" y2=\"86\" />\n",
       "  <line x1=\"111\" y1=\"91\" x2=\"136\" y2=\"91\" />\n",
       "  <line x1=\"111\" y1=\"94\" x2=\"136\" y2=\"94\" />\n",
       "  <line x1=\"111\" y1=\"98\" x2=\"136\" y2=\"98\" />\n",
       "  <line x1=\"111\" y1=\"101\" x2=\"136\" y2=\"101\" />\n",
       "  <line x1=\"111\" y1=\"106\" x2=\"136\" y2=\"106\" />\n",
       "  <line x1=\"111\" y1=\"109\" x2=\"136\" y2=\"109\" />\n",
       "  <line x1=\"111\" y1=\"113\" x2=\"136\" y2=\"113\" />\n",
       "  <line x1=\"111\" y1=\"116\" x2=\"136\" y2=\"116\" />\n",
       "  <line x1=\"111\" y1=\"121\" x2=\"136\" y2=\"121\" />\n",
       "  <line x1=\"111\" y1=\"124\" x2=\"136\" y2=\"124\" />\n",
       "  <line x1=\"111\" y1=\"128\" x2=\"136\" y2=\"128\" />\n",
       "  <line x1=\"111\" y1=\"131\" x2=\"136\" y2=\"131\" />\n",
       "  <line x1=\"111\" y1=\"136\" x2=\"136\" y2=\"136\" style=\"stroke-width:2\" />\n",
       "\n",
       "  <!-- Vertical lines -->\n",
       "  <line x1=\"111\" y1=\"16\" x2=\"111\" y2=\"136\" style=\"stroke-width:2\" />\n",
       "  <line x1=\"136\" y1=\"16\" x2=\"136\" y2=\"136\" style=\"stroke-width:2\" />\n",
       "\n",
       "  <!-- Colored Rectangle -->\n",
       "  <polygon points=\"111.09712037591198,16.097120375911985 136.50973689049448,16.097120375911985 136.50973689049448,136.09712037591197 111.09712037591198,136.09712037591197\" style=\"fill:#8B4903A0;stroke-width:0\"/>\n",
       "\n",
       "  <!-- Text -->\n",
       "  <text x=\"123.803429\" y=\"156.097120\" font-size=\"1.0rem\" font-weight=\"100\" text-anchor=\"middle\" >4</text>\n",
       "  <text x=\"156.509737\" y=\"76.097120\" font-size=\"1.0rem\" font-weight=\"100\" text-anchor=\"middle\" transform=\"rotate(-90,156.509737,76.097120)\">4071</text>\n",
       "  <text x=\"93.048560\" y=\"148.048560\" font-size=\"1.0rem\" font-weight=\"100\" text-anchor=\"middle\" transform=\"rotate(45,93.048560,148.048560)\">60</text>\n",
       "</svg>\n",
       "        </td>\n",
       "    </tr>\n",
       "</table></div></li><li class='xr-var-item'><div class='xr-var-name'><span>t</span></div><div class='xr-var-dims'>(level, latitude, longitude, day, tod)</div><div class='xr-var-dtype'>float32</div><div class='xr-var-preview xr-preview'>dask.array&lt;chunksize=(3, 13, 30, 30, 4), meta=np.ndarray&gt;</div><input id='attrs-85b1a604-1f44-4cb0-985f-9a8b557d7726' class='xr-var-attrs-in' type='checkbox' ><label for='attrs-85b1a604-1f44-4cb0-985f-9a8b557d7726' title='Show/Hide attributes'><svg class='icon xr-icon-file-text2'><use xlink:href='#icon-file-text2'></use></svg></label><input id='data-746eacd9-977b-4012-bb4d-8547416d4b9b' class='xr-var-data-in' type='checkbox'><label for='data-746eacd9-977b-4012-bb4d-8547416d4b9b' title='Show/Hide data repr'><svg class='icon xr-icon-database'><use xlink:href='#icon-database'></use></svg></label><div class='xr-var-attrs'><dl class='xr-attrs'><dt><span>GRIB_paramId :</span></dt><dd>130</dd><dt><span>GRIB_dataType :</span></dt><dd>an</dd><dt><span>GRIB_numberOfPoints :</span></dt><dd>23937</dd><dt><span>GRIB_typeOfLevel :</span></dt><dd>isobaricInhPa</dd><dt><span>GRIB_stepUnits :</span></dt><dd>1</dd><dt><span>GRIB_stepType :</span></dt><dd>instant</dd><dt><span>GRIB_gridType :</span></dt><dd>regular_ll</dd><dt><span>GRIB_uvRelativeToGrid :</span></dt><dd>0</dd><dt><span>GRIB_NV :</span></dt><dd>0</dd><dt><span>GRIB_Nx :</span></dt><dd>237</dd><dt><span>GRIB_Ny :</span></dt><dd>101</dd><dt><span>GRIB_cfName :</span></dt><dd>air_temperature</dd><dt><span>GRIB_cfVarName :</span></dt><dd>t</dd><dt><span>GRIB_gridDefinitionDescription :</span></dt><dd>Latitude/Longitude Grid</dd><dt><span>GRIB_iDirectionIncrementInDegrees :</span></dt><dd>0.25</dd><dt><span>GRIB_iScansNegatively :</span></dt><dd>0</dd><dt><span>GRIB_jDirectionIncrementInDegrees :</span></dt><dd>0.25</dd><dt><span>GRIB_jPointsAreConsecutive :</span></dt><dd>0</dd><dt><span>GRIB_jScansPositively :</span></dt><dd>0</dd><dt><span>GRIB_latitudeOfFirstGridPointInDegrees :</span></dt><dd>50.0</dd><dt><span>GRIB_latitudeOfLastGridPointInDegrees :</span></dt><dd>25.0</dd><dt><span>GRIB_longitudeOfFirstGridPointInDegrees :</span></dt><dd>-125.0</dd><dt><span>GRIB_longitudeOfLastGridPointInDegrees :</span></dt><dd>-66.0</dd><dt><span>GRIB_missingValue :</span></dt><dd>3.4028234663852886e+38</dd><dt><span>GRIB_name :</span></dt><dd>Temperature</dd><dt><span>GRIB_shortName :</span></dt><dd>t</dd><dt><span>GRIB_totalNumber :</span></dt><dd>0</dd><dt><span>GRIB_units :</span></dt><dd>K</dd><dt><span>long_name :</span></dt><dd>Temperature</dd><dt><span>units :</span></dt><dd>K</dd><dt><span>standard_name :</span></dt><dd>air_temperature</dd></dl></div><div class='xr-var-data'><table>\n",
       "    <tr>\n",
       "        <td>\n",
       "            <table style=\"border-collapse: collapse;\">\n",
       "                <thead>\n",
       "                    <tr>\n",
       "                        <td> </td>\n",
       "                        <th> Array </th>\n",
       "                        <th> Chunk </th>\n",
       "                    </tr>\n",
       "                </thead>\n",
       "                <tbody>\n",
       "                    \n",
       "                    <tr>\n",
       "                        <th> Bytes </th>\n",
       "                        <td> 484.52 MiB </td>\n",
       "                        <td> 548.44 kiB </td>\n",
       "                    </tr>\n",
       "                    \n",
       "                    <tr>\n",
       "                        <th> Shape </th>\n",
       "                        <td> (5, 26, 60, 4071, 4) </td>\n",
       "                        <td> (3, 13, 30, 30, 4) </td>\n",
       "                    </tr>\n",
       "                    <tr>\n",
       "                        <th> Dask graph </th>\n",
       "                        <td colspan=\"2\"> 1088 chunks in 606 graph layers </td>\n",
       "                    </tr>\n",
       "                    <tr>\n",
       "                        <th> Data type </th>\n",
       "                        <td colspan=\"2\"> float32 numpy.ndarray </td>\n",
       "                    </tr>\n",
       "                </tbody>\n",
       "            </table>\n",
       "        </td>\n",
       "        <td>\n",
       "        <svg width=\"281\" height=\"186\" style=\"stroke:rgb(0,0,0);stroke-width:1\" >\n",
       "\n",
       "  <!-- Horizontal lines -->\n",
       "  <line x1=\"0\" y1=\"0\" x2=\"25\" y2=\"0\" style=\"stroke-width:2\" />\n",
       "  <line x1=\"0\" y1=\"15\" x2=\"25\" y2=\"15\" />\n",
       "  <line x1=\"0\" y1=\"25\" x2=\"25\" y2=\"25\" style=\"stroke-width:2\" />\n",
       "\n",
       "  <!-- Vertical lines -->\n",
       "  <line x1=\"0\" y1=\"0\" x2=\"0\" y2=\"25\" style=\"stroke-width:2\" />\n",
       "  <line x1=\"12\" y1=\"0\" x2=\"12\" y2=\"25\" />\n",
       "  <line x1=\"25\" y1=\"0\" x2=\"25\" y2=\"25\" style=\"stroke-width:2\" />\n",
       "\n",
       "  <!-- Colored Rectangle -->\n",
       "  <polygon points=\"0.0,0.0 25.412616514582485,0.0 25.412616514582485,25.412616514582485 0.0,25.412616514582485\" style=\"fill:#ECB172A0;stroke-width:0\"/>\n",
       "\n",
       "  <!-- Text -->\n",
       "  <text x=\"12.706308\" y=\"45.412617\" font-size=\"1.0rem\" font-weight=\"100\" text-anchor=\"middle\" >26</text>\n",
       "  <text x=\"45.412617\" y=\"12.706308\" font-size=\"1.0rem\" font-weight=\"100\" text-anchor=\"middle\" transform=\"rotate(0,45.412617,12.706308)\">5</text>\n",
       "\n",
       "\n",
       "  <!-- Horizontal lines -->\n",
       "  <line x1=\"95\" y1=\"0\" x2=\"111\" y2=\"16\" style=\"stroke-width:2\" />\n",
       "  <line x1=\"95\" y1=\"3\" x2=\"111\" y2=\"19\" />\n",
       "  <line x1=\"95\" y1=\"7\" x2=\"111\" y2=\"23\" />\n",
       "  <line x1=\"95\" y1=\"10\" x2=\"111\" y2=\"26\" />\n",
       "  <line x1=\"95\" y1=\"15\" x2=\"111\" y2=\"31\" />\n",
       "  <line x1=\"95\" y1=\"18\" x2=\"111\" y2=\"34\" />\n",
       "  <line x1=\"95\" y1=\"22\" x2=\"111\" y2=\"38\" />\n",
       "  <line x1=\"95\" y1=\"25\" x2=\"111\" y2=\"41\" />\n",
       "  <line x1=\"95\" y1=\"30\" x2=\"111\" y2=\"46\" />\n",
       "  <line x1=\"95\" y1=\"33\" x2=\"111\" y2=\"49\" />\n",
       "  <line x1=\"95\" y1=\"37\" x2=\"111\" y2=\"53\" />\n",
       "  <line x1=\"95\" y1=\"40\" x2=\"111\" y2=\"56\" />\n",
       "  <line x1=\"95\" y1=\"45\" x2=\"111\" y2=\"61\" />\n",
       "  <line x1=\"95\" y1=\"48\" x2=\"111\" y2=\"64\" />\n",
       "  <line x1=\"95\" y1=\"52\" x2=\"111\" y2=\"68\" />\n",
       "  <line x1=\"95\" y1=\"55\" x2=\"111\" y2=\"71\" />\n",
       "  <line x1=\"95\" y1=\"60\" x2=\"111\" y2=\"76\" />\n",
       "  <line x1=\"95\" y1=\"63\" x2=\"111\" y2=\"79\" />\n",
       "  <line x1=\"95\" y1=\"67\" x2=\"111\" y2=\"83\" />\n",
       "  <line x1=\"95\" y1=\"70\" x2=\"111\" y2=\"86\" />\n",
       "  <line x1=\"95\" y1=\"75\" x2=\"111\" y2=\"91\" />\n",
       "  <line x1=\"95\" y1=\"78\" x2=\"111\" y2=\"94\" />\n",
       "  <line x1=\"95\" y1=\"82\" x2=\"111\" y2=\"98\" />\n",
       "  <line x1=\"95\" y1=\"85\" x2=\"111\" y2=\"101\" />\n",
       "  <line x1=\"95\" y1=\"90\" x2=\"111\" y2=\"106\" />\n",
       "  <line x1=\"95\" y1=\"93\" x2=\"111\" y2=\"109\" />\n",
       "  <line x1=\"95\" y1=\"97\" x2=\"111\" y2=\"113\" />\n",
       "  <line x1=\"95\" y1=\"100\" x2=\"111\" y2=\"116\" />\n",
       "  <line x1=\"95\" y1=\"105\" x2=\"111\" y2=\"121\" />\n",
       "  <line x1=\"95\" y1=\"108\" x2=\"111\" y2=\"124\" />\n",
       "  <line x1=\"95\" y1=\"112\" x2=\"111\" y2=\"128\" />\n",
       "  <line x1=\"95\" y1=\"115\" x2=\"111\" y2=\"131\" />\n",
       "  <line x1=\"95\" y1=\"120\" x2=\"111\" y2=\"136\" style=\"stroke-width:2\" />\n",
       "\n",
       "  <!-- Vertical lines -->\n",
       "  <line x1=\"95\" y1=\"0\" x2=\"95\" y2=\"120\" style=\"stroke-width:2\" />\n",
       "  <line x1=\"103\" y1=\"8\" x2=\"103\" y2=\"128\" />\n",
       "  <line x1=\"111\" y1=\"16\" x2=\"111\" y2=\"136\" style=\"stroke-width:2\" />\n",
       "\n",
       "  <!-- Colored Rectangle -->\n",
       "  <polygon points=\"95.0,0.0 111.09712037591198,16.097120375911985 111.09712037591198,136.09712037591197 95.0,120.0\" style=\"fill:#8B4903A0;stroke-width:0\"/>\n",
       "\n",
       "  <!-- Horizontal lines -->\n",
       "  <line x1=\"95\" y1=\"0\" x2=\"120\" y2=\"0\" style=\"stroke-width:2\" />\n",
       "  <line x1=\"103\" y1=\"8\" x2=\"128\" y2=\"8\" />\n",
       "  <line x1=\"111\" y1=\"16\" x2=\"136\" y2=\"16\" style=\"stroke-width:2\" />\n",
       "\n",
       "  <!-- Vertical lines -->\n",
       "  <line x1=\"95\" y1=\"0\" x2=\"111\" y2=\"16\" style=\"stroke-width:2\" />\n",
       "  <line x1=\"120\" y1=\"0\" x2=\"136\" y2=\"16\" style=\"stroke-width:2\" />\n",
       "\n",
       "  <!-- Colored Rectangle -->\n",
       "  <polygon points=\"95.0,0.0 120.41261651458248,0.0 136.50973689049448,16.097120375911985 111.09712037591198,16.097120375911985\" style=\"fill:#ECB172A0;stroke-width:0\"/>\n",
       "\n",
       "  <!-- Horizontal lines -->\n",
       "  <line x1=\"111\" y1=\"16\" x2=\"136\" y2=\"16\" style=\"stroke-width:2\" />\n",
       "  <line x1=\"111\" y1=\"19\" x2=\"136\" y2=\"19\" />\n",
       "  <line x1=\"111\" y1=\"23\" x2=\"136\" y2=\"23\" />\n",
       "  <line x1=\"111\" y1=\"26\" x2=\"136\" y2=\"26\" />\n",
       "  <line x1=\"111\" y1=\"31\" x2=\"136\" y2=\"31\" />\n",
       "  <line x1=\"111\" y1=\"34\" x2=\"136\" y2=\"34\" />\n",
       "  <line x1=\"111\" y1=\"38\" x2=\"136\" y2=\"38\" />\n",
       "  <line x1=\"111\" y1=\"41\" x2=\"136\" y2=\"41\" />\n",
       "  <line x1=\"111\" y1=\"46\" x2=\"136\" y2=\"46\" />\n",
       "  <line x1=\"111\" y1=\"49\" x2=\"136\" y2=\"49\" />\n",
       "  <line x1=\"111\" y1=\"53\" x2=\"136\" y2=\"53\" />\n",
       "  <line x1=\"111\" y1=\"56\" x2=\"136\" y2=\"56\" />\n",
       "  <line x1=\"111\" y1=\"61\" x2=\"136\" y2=\"61\" />\n",
       "  <line x1=\"111\" y1=\"64\" x2=\"136\" y2=\"64\" />\n",
       "  <line x1=\"111\" y1=\"68\" x2=\"136\" y2=\"68\" />\n",
       "  <line x1=\"111\" y1=\"71\" x2=\"136\" y2=\"71\" />\n",
       "  <line x1=\"111\" y1=\"76\" x2=\"136\" y2=\"76\" />\n",
       "  <line x1=\"111\" y1=\"79\" x2=\"136\" y2=\"79\" />\n",
       "  <line x1=\"111\" y1=\"83\" x2=\"136\" y2=\"83\" />\n",
       "  <line x1=\"111\" y1=\"86\" x2=\"136\" y2=\"86\" />\n",
       "  <line x1=\"111\" y1=\"91\" x2=\"136\" y2=\"91\" />\n",
       "  <line x1=\"111\" y1=\"94\" x2=\"136\" y2=\"94\" />\n",
       "  <line x1=\"111\" y1=\"98\" x2=\"136\" y2=\"98\" />\n",
       "  <line x1=\"111\" y1=\"101\" x2=\"136\" y2=\"101\" />\n",
       "  <line x1=\"111\" y1=\"106\" x2=\"136\" y2=\"106\" />\n",
       "  <line x1=\"111\" y1=\"109\" x2=\"136\" y2=\"109\" />\n",
       "  <line x1=\"111\" y1=\"113\" x2=\"136\" y2=\"113\" />\n",
       "  <line x1=\"111\" y1=\"116\" x2=\"136\" y2=\"116\" />\n",
       "  <line x1=\"111\" y1=\"121\" x2=\"136\" y2=\"121\" />\n",
       "  <line x1=\"111\" y1=\"124\" x2=\"136\" y2=\"124\" />\n",
       "  <line x1=\"111\" y1=\"128\" x2=\"136\" y2=\"128\" />\n",
       "  <line x1=\"111\" y1=\"131\" x2=\"136\" y2=\"131\" />\n",
       "  <line x1=\"111\" y1=\"136\" x2=\"136\" y2=\"136\" style=\"stroke-width:2\" />\n",
       "\n",
       "  <!-- Vertical lines -->\n",
       "  <line x1=\"111\" y1=\"16\" x2=\"111\" y2=\"136\" style=\"stroke-width:2\" />\n",
       "  <line x1=\"136\" y1=\"16\" x2=\"136\" y2=\"136\" style=\"stroke-width:2\" />\n",
       "\n",
       "  <!-- Colored Rectangle -->\n",
       "  <polygon points=\"111.09712037591198,16.097120375911985 136.50973689049448,16.097120375911985 136.50973689049448,136.09712037591197 111.09712037591198,136.09712037591197\" style=\"fill:#8B4903A0;stroke-width:0\"/>\n",
       "\n",
       "  <!-- Text -->\n",
       "  <text x=\"123.803429\" y=\"156.097120\" font-size=\"1.0rem\" font-weight=\"100\" text-anchor=\"middle\" >4</text>\n",
       "  <text x=\"156.509737\" y=\"76.097120\" font-size=\"1.0rem\" font-weight=\"100\" text-anchor=\"middle\" transform=\"rotate(-90,156.509737,76.097120)\">4071</text>\n",
       "  <text x=\"93.048560\" y=\"148.048560\" font-size=\"1.0rem\" font-weight=\"100\" text-anchor=\"middle\" transform=\"rotate(45,93.048560,148.048560)\">60</text>\n",
       "</svg>\n",
       "        </td>\n",
       "    </tr>\n",
       "</table></div></li><li class='xr-var-item'><div class='xr-var-name'><span>u</span></div><div class='xr-var-dims'>(level, latitude, longitude, day, tod)</div><div class='xr-var-dtype'>float32</div><div class='xr-var-preview xr-preview'>dask.array&lt;chunksize=(3, 13, 30, 30, 4), meta=np.ndarray&gt;</div><input id='attrs-04e31a59-aee2-450c-9398-8e2edd832b3c' class='xr-var-attrs-in' type='checkbox' ><label for='attrs-04e31a59-aee2-450c-9398-8e2edd832b3c' title='Show/Hide attributes'><svg class='icon xr-icon-file-text2'><use xlink:href='#icon-file-text2'></use></svg></label><input id='data-ee9556bc-e5ce-40e6-a035-c1a1297fa2a0' class='xr-var-data-in' type='checkbox'><label for='data-ee9556bc-e5ce-40e6-a035-c1a1297fa2a0' title='Show/Hide data repr'><svg class='icon xr-icon-database'><use xlink:href='#icon-database'></use></svg></label><div class='xr-var-attrs'><dl class='xr-attrs'><dt><span>GRIB_paramId :</span></dt><dd>131</dd><dt><span>GRIB_dataType :</span></dt><dd>an</dd><dt><span>GRIB_numberOfPoints :</span></dt><dd>23937</dd><dt><span>GRIB_typeOfLevel :</span></dt><dd>isobaricInhPa</dd><dt><span>GRIB_stepUnits :</span></dt><dd>1</dd><dt><span>GRIB_stepType :</span></dt><dd>instant</dd><dt><span>GRIB_gridType :</span></dt><dd>regular_ll</dd><dt><span>GRIB_uvRelativeToGrid :</span></dt><dd>0</dd><dt><span>GRIB_NV :</span></dt><dd>0</dd><dt><span>GRIB_Nx :</span></dt><dd>237</dd><dt><span>GRIB_Ny :</span></dt><dd>101</dd><dt><span>GRIB_cfName :</span></dt><dd>eastward_wind</dd><dt><span>GRIB_cfVarName :</span></dt><dd>u</dd><dt><span>GRIB_gridDefinitionDescription :</span></dt><dd>Latitude/Longitude Grid</dd><dt><span>GRIB_iDirectionIncrementInDegrees :</span></dt><dd>0.25</dd><dt><span>GRIB_iScansNegatively :</span></dt><dd>0</dd><dt><span>GRIB_jDirectionIncrementInDegrees :</span></dt><dd>0.25</dd><dt><span>GRIB_jPointsAreConsecutive :</span></dt><dd>0</dd><dt><span>GRIB_jScansPositively :</span></dt><dd>0</dd><dt><span>GRIB_latitudeOfFirstGridPointInDegrees :</span></dt><dd>50.0</dd><dt><span>GRIB_latitudeOfLastGridPointInDegrees :</span></dt><dd>25.0</dd><dt><span>GRIB_longitudeOfFirstGridPointInDegrees :</span></dt><dd>-125.0</dd><dt><span>GRIB_longitudeOfLastGridPointInDegrees :</span></dt><dd>-66.0</dd><dt><span>GRIB_missingValue :</span></dt><dd>3.4028234663852886e+38</dd><dt><span>GRIB_name :</span></dt><dd>U component of wind</dd><dt><span>GRIB_shortName :</span></dt><dd>u</dd><dt><span>GRIB_totalNumber :</span></dt><dd>0</dd><dt><span>GRIB_units :</span></dt><dd>m s**-1</dd><dt><span>long_name :</span></dt><dd>U component of wind</dd><dt><span>units :</span></dt><dd>m s**-1</dd><dt><span>standard_name :</span></dt><dd>eastward_wind</dd></dl></div><div class='xr-var-data'><table>\n",
       "    <tr>\n",
       "        <td>\n",
       "            <table style=\"border-collapse: collapse;\">\n",
       "                <thead>\n",
       "                    <tr>\n",
       "                        <td> </td>\n",
       "                        <th> Array </th>\n",
       "                        <th> Chunk </th>\n",
       "                    </tr>\n",
       "                </thead>\n",
       "                <tbody>\n",
       "                    \n",
       "                    <tr>\n",
       "                        <th> Bytes </th>\n",
       "                        <td> 484.52 MiB </td>\n",
       "                        <td> 548.44 kiB </td>\n",
       "                    </tr>\n",
       "                    \n",
       "                    <tr>\n",
       "                        <th> Shape </th>\n",
       "                        <td> (5, 26, 60, 4071, 4) </td>\n",
       "                        <td> (3, 13, 30, 30, 4) </td>\n",
       "                    </tr>\n",
       "                    <tr>\n",
       "                        <th> Dask graph </th>\n",
       "                        <td colspan=\"2\"> 1088 chunks in 606 graph layers </td>\n",
       "                    </tr>\n",
       "                    <tr>\n",
       "                        <th> Data type </th>\n",
       "                        <td colspan=\"2\"> float32 numpy.ndarray </td>\n",
       "                    </tr>\n",
       "                </tbody>\n",
       "            </table>\n",
       "        </td>\n",
       "        <td>\n",
       "        <svg width=\"281\" height=\"186\" style=\"stroke:rgb(0,0,0);stroke-width:1\" >\n",
       "\n",
       "  <!-- Horizontal lines -->\n",
       "  <line x1=\"0\" y1=\"0\" x2=\"25\" y2=\"0\" style=\"stroke-width:2\" />\n",
       "  <line x1=\"0\" y1=\"15\" x2=\"25\" y2=\"15\" />\n",
       "  <line x1=\"0\" y1=\"25\" x2=\"25\" y2=\"25\" style=\"stroke-width:2\" />\n",
       "\n",
       "  <!-- Vertical lines -->\n",
       "  <line x1=\"0\" y1=\"0\" x2=\"0\" y2=\"25\" style=\"stroke-width:2\" />\n",
       "  <line x1=\"12\" y1=\"0\" x2=\"12\" y2=\"25\" />\n",
       "  <line x1=\"25\" y1=\"0\" x2=\"25\" y2=\"25\" style=\"stroke-width:2\" />\n",
       "\n",
       "  <!-- Colored Rectangle -->\n",
       "  <polygon points=\"0.0,0.0 25.412616514582485,0.0 25.412616514582485,25.412616514582485 0.0,25.412616514582485\" style=\"fill:#ECB172A0;stroke-width:0\"/>\n",
       "\n",
       "  <!-- Text -->\n",
       "  <text x=\"12.706308\" y=\"45.412617\" font-size=\"1.0rem\" font-weight=\"100\" text-anchor=\"middle\" >26</text>\n",
       "  <text x=\"45.412617\" y=\"12.706308\" font-size=\"1.0rem\" font-weight=\"100\" text-anchor=\"middle\" transform=\"rotate(0,45.412617,12.706308)\">5</text>\n",
       "\n",
       "\n",
       "  <!-- Horizontal lines -->\n",
       "  <line x1=\"95\" y1=\"0\" x2=\"111\" y2=\"16\" style=\"stroke-width:2\" />\n",
       "  <line x1=\"95\" y1=\"3\" x2=\"111\" y2=\"19\" />\n",
       "  <line x1=\"95\" y1=\"7\" x2=\"111\" y2=\"23\" />\n",
       "  <line x1=\"95\" y1=\"10\" x2=\"111\" y2=\"26\" />\n",
       "  <line x1=\"95\" y1=\"15\" x2=\"111\" y2=\"31\" />\n",
       "  <line x1=\"95\" y1=\"18\" x2=\"111\" y2=\"34\" />\n",
       "  <line x1=\"95\" y1=\"22\" x2=\"111\" y2=\"38\" />\n",
       "  <line x1=\"95\" y1=\"25\" x2=\"111\" y2=\"41\" />\n",
       "  <line x1=\"95\" y1=\"30\" x2=\"111\" y2=\"46\" />\n",
       "  <line x1=\"95\" y1=\"33\" x2=\"111\" y2=\"49\" />\n",
       "  <line x1=\"95\" y1=\"37\" x2=\"111\" y2=\"53\" />\n",
       "  <line x1=\"95\" y1=\"40\" x2=\"111\" y2=\"56\" />\n",
       "  <line x1=\"95\" y1=\"45\" x2=\"111\" y2=\"61\" />\n",
       "  <line x1=\"95\" y1=\"48\" x2=\"111\" y2=\"64\" />\n",
       "  <line x1=\"95\" y1=\"52\" x2=\"111\" y2=\"68\" />\n",
       "  <line x1=\"95\" y1=\"55\" x2=\"111\" y2=\"71\" />\n",
       "  <line x1=\"95\" y1=\"60\" x2=\"111\" y2=\"76\" />\n",
       "  <line x1=\"95\" y1=\"63\" x2=\"111\" y2=\"79\" />\n",
       "  <line x1=\"95\" y1=\"67\" x2=\"111\" y2=\"83\" />\n",
       "  <line x1=\"95\" y1=\"70\" x2=\"111\" y2=\"86\" />\n",
       "  <line x1=\"95\" y1=\"75\" x2=\"111\" y2=\"91\" />\n",
       "  <line x1=\"95\" y1=\"78\" x2=\"111\" y2=\"94\" />\n",
       "  <line x1=\"95\" y1=\"82\" x2=\"111\" y2=\"98\" />\n",
       "  <line x1=\"95\" y1=\"85\" x2=\"111\" y2=\"101\" />\n",
       "  <line x1=\"95\" y1=\"90\" x2=\"111\" y2=\"106\" />\n",
       "  <line x1=\"95\" y1=\"93\" x2=\"111\" y2=\"109\" />\n",
       "  <line x1=\"95\" y1=\"97\" x2=\"111\" y2=\"113\" />\n",
       "  <line x1=\"95\" y1=\"100\" x2=\"111\" y2=\"116\" />\n",
       "  <line x1=\"95\" y1=\"105\" x2=\"111\" y2=\"121\" />\n",
       "  <line x1=\"95\" y1=\"108\" x2=\"111\" y2=\"124\" />\n",
       "  <line x1=\"95\" y1=\"112\" x2=\"111\" y2=\"128\" />\n",
       "  <line x1=\"95\" y1=\"115\" x2=\"111\" y2=\"131\" />\n",
       "  <line x1=\"95\" y1=\"120\" x2=\"111\" y2=\"136\" style=\"stroke-width:2\" />\n",
       "\n",
       "  <!-- Vertical lines -->\n",
       "  <line x1=\"95\" y1=\"0\" x2=\"95\" y2=\"120\" style=\"stroke-width:2\" />\n",
       "  <line x1=\"103\" y1=\"8\" x2=\"103\" y2=\"128\" />\n",
       "  <line x1=\"111\" y1=\"16\" x2=\"111\" y2=\"136\" style=\"stroke-width:2\" />\n",
       "\n",
       "  <!-- Colored Rectangle -->\n",
       "  <polygon points=\"95.0,0.0 111.09712037591198,16.097120375911985 111.09712037591198,136.09712037591197 95.0,120.0\" style=\"fill:#8B4903A0;stroke-width:0\"/>\n",
       "\n",
       "  <!-- Horizontal lines -->\n",
       "  <line x1=\"95\" y1=\"0\" x2=\"120\" y2=\"0\" style=\"stroke-width:2\" />\n",
       "  <line x1=\"103\" y1=\"8\" x2=\"128\" y2=\"8\" />\n",
       "  <line x1=\"111\" y1=\"16\" x2=\"136\" y2=\"16\" style=\"stroke-width:2\" />\n",
       "\n",
       "  <!-- Vertical lines -->\n",
       "  <line x1=\"95\" y1=\"0\" x2=\"111\" y2=\"16\" style=\"stroke-width:2\" />\n",
       "  <line x1=\"120\" y1=\"0\" x2=\"136\" y2=\"16\" style=\"stroke-width:2\" />\n",
       "\n",
       "  <!-- Colored Rectangle -->\n",
       "  <polygon points=\"95.0,0.0 120.41261651458248,0.0 136.50973689049448,16.097120375911985 111.09712037591198,16.097120375911985\" style=\"fill:#ECB172A0;stroke-width:0\"/>\n",
       "\n",
       "  <!-- Horizontal lines -->\n",
       "  <line x1=\"111\" y1=\"16\" x2=\"136\" y2=\"16\" style=\"stroke-width:2\" />\n",
       "  <line x1=\"111\" y1=\"19\" x2=\"136\" y2=\"19\" />\n",
       "  <line x1=\"111\" y1=\"23\" x2=\"136\" y2=\"23\" />\n",
       "  <line x1=\"111\" y1=\"26\" x2=\"136\" y2=\"26\" />\n",
       "  <line x1=\"111\" y1=\"31\" x2=\"136\" y2=\"31\" />\n",
       "  <line x1=\"111\" y1=\"34\" x2=\"136\" y2=\"34\" />\n",
       "  <line x1=\"111\" y1=\"38\" x2=\"136\" y2=\"38\" />\n",
       "  <line x1=\"111\" y1=\"41\" x2=\"136\" y2=\"41\" />\n",
       "  <line x1=\"111\" y1=\"46\" x2=\"136\" y2=\"46\" />\n",
       "  <line x1=\"111\" y1=\"49\" x2=\"136\" y2=\"49\" />\n",
       "  <line x1=\"111\" y1=\"53\" x2=\"136\" y2=\"53\" />\n",
       "  <line x1=\"111\" y1=\"56\" x2=\"136\" y2=\"56\" />\n",
       "  <line x1=\"111\" y1=\"61\" x2=\"136\" y2=\"61\" />\n",
       "  <line x1=\"111\" y1=\"64\" x2=\"136\" y2=\"64\" />\n",
       "  <line x1=\"111\" y1=\"68\" x2=\"136\" y2=\"68\" />\n",
       "  <line x1=\"111\" y1=\"71\" x2=\"136\" y2=\"71\" />\n",
       "  <line x1=\"111\" y1=\"76\" x2=\"136\" y2=\"76\" />\n",
       "  <line x1=\"111\" y1=\"79\" x2=\"136\" y2=\"79\" />\n",
       "  <line x1=\"111\" y1=\"83\" x2=\"136\" y2=\"83\" />\n",
       "  <line x1=\"111\" y1=\"86\" x2=\"136\" y2=\"86\" />\n",
       "  <line x1=\"111\" y1=\"91\" x2=\"136\" y2=\"91\" />\n",
       "  <line x1=\"111\" y1=\"94\" x2=\"136\" y2=\"94\" />\n",
       "  <line x1=\"111\" y1=\"98\" x2=\"136\" y2=\"98\" />\n",
       "  <line x1=\"111\" y1=\"101\" x2=\"136\" y2=\"101\" />\n",
       "  <line x1=\"111\" y1=\"106\" x2=\"136\" y2=\"106\" />\n",
       "  <line x1=\"111\" y1=\"109\" x2=\"136\" y2=\"109\" />\n",
       "  <line x1=\"111\" y1=\"113\" x2=\"136\" y2=\"113\" />\n",
       "  <line x1=\"111\" y1=\"116\" x2=\"136\" y2=\"116\" />\n",
       "  <line x1=\"111\" y1=\"121\" x2=\"136\" y2=\"121\" />\n",
       "  <line x1=\"111\" y1=\"124\" x2=\"136\" y2=\"124\" />\n",
       "  <line x1=\"111\" y1=\"128\" x2=\"136\" y2=\"128\" />\n",
       "  <line x1=\"111\" y1=\"131\" x2=\"136\" y2=\"131\" />\n",
       "  <line x1=\"111\" y1=\"136\" x2=\"136\" y2=\"136\" style=\"stroke-width:2\" />\n",
       "\n",
       "  <!-- Vertical lines -->\n",
       "  <line x1=\"111\" y1=\"16\" x2=\"111\" y2=\"136\" style=\"stroke-width:2\" />\n",
       "  <line x1=\"136\" y1=\"16\" x2=\"136\" y2=\"136\" style=\"stroke-width:2\" />\n",
       "\n",
       "  <!-- Colored Rectangle -->\n",
       "  <polygon points=\"111.09712037591198,16.097120375911985 136.50973689049448,16.097120375911985 136.50973689049448,136.09712037591197 111.09712037591198,136.09712037591197\" style=\"fill:#8B4903A0;stroke-width:0\"/>\n",
       "\n",
       "  <!-- Text -->\n",
       "  <text x=\"123.803429\" y=\"156.097120\" font-size=\"1.0rem\" font-weight=\"100\" text-anchor=\"middle\" >4</text>\n",
       "  <text x=\"156.509737\" y=\"76.097120\" font-size=\"1.0rem\" font-weight=\"100\" text-anchor=\"middle\" transform=\"rotate(-90,156.509737,76.097120)\">4071</text>\n",
       "  <text x=\"93.048560\" y=\"148.048560\" font-size=\"1.0rem\" font-weight=\"100\" text-anchor=\"middle\" transform=\"rotate(45,93.048560,148.048560)\">60</text>\n",
       "</svg>\n",
       "        </td>\n",
       "    </tr>\n",
       "</table></div></li><li class='xr-var-item'><div class='xr-var-name'><span>v</span></div><div class='xr-var-dims'>(level, latitude, longitude, day, tod)</div><div class='xr-var-dtype'>float32</div><div class='xr-var-preview xr-preview'>dask.array&lt;chunksize=(3, 13, 30, 30, 4), meta=np.ndarray&gt;</div><input id='attrs-69c370e1-0f3f-476b-9795-74ab4c901a45' class='xr-var-attrs-in' type='checkbox' ><label for='attrs-69c370e1-0f3f-476b-9795-74ab4c901a45' title='Show/Hide attributes'><svg class='icon xr-icon-file-text2'><use xlink:href='#icon-file-text2'></use></svg></label><input id='data-8a4131a5-0fe5-44ce-ac5a-0c42745108e6' class='xr-var-data-in' type='checkbox'><label for='data-8a4131a5-0fe5-44ce-ac5a-0c42745108e6' title='Show/Hide data repr'><svg class='icon xr-icon-database'><use xlink:href='#icon-database'></use></svg></label><div class='xr-var-attrs'><dl class='xr-attrs'><dt><span>GRIB_paramId :</span></dt><dd>132</dd><dt><span>GRIB_dataType :</span></dt><dd>an</dd><dt><span>GRIB_numberOfPoints :</span></dt><dd>23937</dd><dt><span>GRIB_typeOfLevel :</span></dt><dd>isobaricInhPa</dd><dt><span>GRIB_stepUnits :</span></dt><dd>1</dd><dt><span>GRIB_stepType :</span></dt><dd>instant</dd><dt><span>GRIB_gridType :</span></dt><dd>regular_ll</dd><dt><span>GRIB_uvRelativeToGrid :</span></dt><dd>0</dd><dt><span>GRIB_NV :</span></dt><dd>0</dd><dt><span>GRIB_Nx :</span></dt><dd>237</dd><dt><span>GRIB_Ny :</span></dt><dd>101</dd><dt><span>GRIB_cfName :</span></dt><dd>northward_wind</dd><dt><span>GRIB_cfVarName :</span></dt><dd>v</dd><dt><span>GRIB_gridDefinitionDescription :</span></dt><dd>Latitude/Longitude Grid</dd><dt><span>GRIB_iDirectionIncrementInDegrees :</span></dt><dd>0.25</dd><dt><span>GRIB_iScansNegatively :</span></dt><dd>0</dd><dt><span>GRIB_jDirectionIncrementInDegrees :</span></dt><dd>0.25</dd><dt><span>GRIB_jPointsAreConsecutive :</span></dt><dd>0</dd><dt><span>GRIB_jScansPositively :</span></dt><dd>0</dd><dt><span>GRIB_latitudeOfFirstGridPointInDegrees :</span></dt><dd>50.0</dd><dt><span>GRIB_latitudeOfLastGridPointInDegrees :</span></dt><dd>25.0</dd><dt><span>GRIB_longitudeOfFirstGridPointInDegrees :</span></dt><dd>-125.0</dd><dt><span>GRIB_longitudeOfLastGridPointInDegrees :</span></dt><dd>-66.0</dd><dt><span>GRIB_missingValue :</span></dt><dd>3.4028234663852886e+38</dd><dt><span>GRIB_name :</span></dt><dd>V component of wind</dd><dt><span>GRIB_shortName :</span></dt><dd>v</dd><dt><span>GRIB_totalNumber :</span></dt><dd>0</dd><dt><span>GRIB_units :</span></dt><dd>m s**-1</dd><dt><span>long_name :</span></dt><dd>V component of wind</dd><dt><span>units :</span></dt><dd>m s**-1</dd><dt><span>standard_name :</span></dt><dd>northward_wind</dd></dl></div><div class='xr-var-data'><table>\n",
       "    <tr>\n",
       "        <td>\n",
       "            <table style=\"border-collapse: collapse;\">\n",
       "                <thead>\n",
       "                    <tr>\n",
       "                        <td> </td>\n",
       "                        <th> Array </th>\n",
       "                        <th> Chunk </th>\n",
       "                    </tr>\n",
       "                </thead>\n",
       "                <tbody>\n",
       "                    \n",
       "                    <tr>\n",
       "                        <th> Bytes </th>\n",
       "                        <td> 484.52 MiB </td>\n",
       "                        <td> 548.44 kiB </td>\n",
       "                    </tr>\n",
       "                    \n",
       "                    <tr>\n",
       "                        <th> Shape </th>\n",
       "                        <td> (5, 26, 60, 4071, 4) </td>\n",
       "                        <td> (3, 13, 30, 30, 4) </td>\n",
       "                    </tr>\n",
       "                    <tr>\n",
       "                        <th> Dask graph </th>\n",
       "                        <td colspan=\"2\"> 1088 chunks in 606 graph layers </td>\n",
       "                    </tr>\n",
       "                    <tr>\n",
       "                        <th> Data type </th>\n",
       "                        <td colspan=\"2\"> float32 numpy.ndarray </td>\n",
       "                    </tr>\n",
       "                </tbody>\n",
       "            </table>\n",
       "        </td>\n",
       "        <td>\n",
       "        <svg width=\"281\" height=\"186\" style=\"stroke:rgb(0,0,0);stroke-width:1\" >\n",
       "\n",
       "  <!-- Horizontal lines -->\n",
       "  <line x1=\"0\" y1=\"0\" x2=\"25\" y2=\"0\" style=\"stroke-width:2\" />\n",
       "  <line x1=\"0\" y1=\"15\" x2=\"25\" y2=\"15\" />\n",
       "  <line x1=\"0\" y1=\"25\" x2=\"25\" y2=\"25\" style=\"stroke-width:2\" />\n",
       "\n",
       "  <!-- Vertical lines -->\n",
       "  <line x1=\"0\" y1=\"0\" x2=\"0\" y2=\"25\" style=\"stroke-width:2\" />\n",
       "  <line x1=\"12\" y1=\"0\" x2=\"12\" y2=\"25\" />\n",
       "  <line x1=\"25\" y1=\"0\" x2=\"25\" y2=\"25\" style=\"stroke-width:2\" />\n",
       "\n",
       "  <!-- Colored Rectangle -->\n",
       "  <polygon points=\"0.0,0.0 25.412616514582485,0.0 25.412616514582485,25.412616514582485 0.0,25.412616514582485\" style=\"fill:#ECB172A0;stroke-width:0\"/>\n",
       "\n",
       "  <!-- Text -->\n",
       "  <text x=\"12.706308\" y=\"45.412617\" font-size=\"1.0rem\" font-weight=\"100\" text-anchor=\"middle\" >26</text>\n",
       "  <text x=\"45.412617\" y=\"12.706308\" font-size=\"1.0rem\" font-weight=\"100\" text-anchor=\"middle\" transform=\"rotate(0,45.412617,12.706308)\">5</text>\n",
       "\n",
       "\n",
       "  <!-- Horizontal lines -->\n",
       "  <line x1=\"95\" y1=\"0\" x2=\"111\" y2=\"16\" style=\"stroke-width:2\" />\n",
       "  <line x1=\"95\" y1=\"3\" x2=\"111\" y2=\"19\" />\n",
       "  <line x1=\"95\" y1=\"7\" x2=\"111\" y2=\"23\" />\n",
       "  <line x1=\"95\" y1=\"10\" x2=\"111\" y2=\"26\" />\n",
       "  <line x1=\"95\" y1=\"15\" x2=\"111\" y2=\"31\" />\n",
       "  <line x1=\"95\" y1=\"18\" x2=\"111\" y2=\"34\" />\n",
       "  <line x1=\"95\" y1=\"22\" x2=\"111\" y2=\"38\" />\n",
       "  <line x1=\"95\" y1=\"25\" x2=\"111\" y2=\"41\" />\n",
       "  <line x1=\"95\" y1=\"30\" x2=\"111\" y2=\"46\" />\n",
       "  <line x1=\"95\" y1=\"33\" x2=\"111\" y2=\"49\" />\n",
       "  <line x1=\"95\" y1=\"37\" x2=\"111\" y2=\"53\" />\n",
       "  <line x1=\"95\" y1=\"40\" x2=\"111\" y2=\"56\" />\n",
       "  <line x1=\"95\" y1=\"45\" x2=\"111\" y2=\"61\" />\n",
       "  <line x1=\"95\" y1=\"48\" x2=\"111\" y2=\"64\" />\n",
       "  <line x1=\"95\" y1=\"52\" x2=\"111\" y2=\"68\" />\n",
       "  <line x1=\"95\" y1=\"55\" x2=\"111\" y2=\"71\" />\n",
       "  <line x1=\"95\" y1=\"60\" x2=\"111\" y2=\"76\" />\n",
       "  <line x1=\"95\" y1=\"63\" x2=\"111\" y2=\"79\" />\n",
       "  <line x1=\"95\" y1=\"67\" x2=\"111\" y2=\"83\" />\n",
       "  <line x1=\"95\" y1=\"70\" x2=\"111\" y2=\"86\" />\n",
       "  <line x1=\"95\" y1=\"75\" x2=\"111\" y2=\"91\" />\n",
       "  <line x1=\"95\" y1=\"78\" x2=\"111\" y2=\"94\" />\n",
       "  <line x1=\"95\" y1=\"82\" x2=\"111\" y2=\"98\" />\n",
       "  <line x1=\"95\" y1=\"85\" x2=\"111\" y2=\"101\" />\n",
       "  <line x1=\"95\" y1=\"90\" x2=\"111\" y2=\"106\" />\n",
       "  <line x1=\"95\" y1=\"93\" x2=\"111\" y2=\"109\" />\n",
       "  <line x1=\"95\" y1=\"97\" x2=\"111\" y2=\"113\" />\n",
       "  <line x1=\"95\" y1=\"100\" x2=\"111\" y2=\"116\" />\n",
       "  <line x1=\"95\" y1=\"105\" x2=\"111\" y2=\"121\" />\n",
       "  <line x1=\"95\" y1=\"108\" x2=\"111\" y2=\"124\" />\n",
       "  <line x1=\"95\" y1=\"112\" x2=\"111\" y2=\"128\" />\n",
       "  <line x1=\"95\" y1=\"115\" x2=\"111\" y2=\"131\" />\n",
       "  <line x1=\"95\" y1=\"120\" x2=\"111\" y2=\"136\" style=\"stroke-width:2\" />\n",
       "\n",
       "  <!-- Vertical lines -->\n",
       "  <line x1=\"95\" y1=\"0\" x2=\"95\" y2=\"120\" style=\"stroke-width:2\" />\n",
       "  <line x1=\"103\" y1=\"8\" x2=\"103\" y2=\"128\" />\n",
       "  <line x1=\"111\" y1=\"16\" x2=\"111\" y2=\"136\" style=\"stroke-width:2\" />\n",
       "\n",
       "  <!-- Colored Rectangle -->\n",
       "  <polygon points=\"95.0,0.0 111.09712037591198,16.097120375911985 111.09712037591198,136.09712037591197 95.0,120.0\" style=\"fill:#8B4903A0;stroke-width:0\"/>\n",
       "\n",
       "  <!-- Horizontal lines -->\n",
       "  <line x1=\"95\" y1=\"0\" x2=\"120\" y2=\"0\" style=\"stroke-width:2\" />\n",
       "  <line x1=\"103\" y1=\"8\" x2=\"128\" y2=\"8\" />\n",
       "  <line x1=\"111\" y1=\"16\" x2=\"136\" y2=\"16\" style=\"stroke-width:2\" />\n",
       "\n",
       "  <!-- Vertical lines -->\n",
       "  <line x1=\"95\" y1=\"0\" x2=\"111\" y2=\"16\" style=\"stroke-width:2\" />\n",
       "  <line x1=\"120\" y1=\"0\" x2=\"136\" y2=\"16\" style=\"stroke-width:2\" />\n",
       "\n",
       "  <!-- Colored Rectangle -->\n",
       "  <polygon points=\"95.0,0.0 120.41261651458248,0.0 136.50973689049448,16.097120375911985 111.09712037591198,16.097120375911985\" style=\"fill:#ECB172A0;stroke-width:0\"/>\n",
       "\n",
       "  <!-- Horizontal lines -->\n",
       "  <line x1=\"111\" y1=\"16\" x2=\"136\" y2=\"16\" style=\"stroke-width:2\" />\n",
       "  <line x1=\"111\" y1=\"19\" x2=\"136\" y2=\"19\" />\n",
       "  <line x1=\"111\" y1=\"23\" x2=\"136\" y2=\"23\" />\n",
       "  <line x1=\"111\" y1=\"26\" x2=\"136\" y2=\"26\" />\n",
       "  <line x1=\"111\" y1=\"31\" x2=\"136\" y2=\"31\" />\n",
       "  <line x1=\"111\" y1=\"34\" x2=\"136\" y2=\"34\" />\n",
       "  <line x1=\"111\" y1=\"38\" x2=\"136\" y2=\"38\" />\n",
       "  <line x1=\"111\" y1=\"41\" x2=\"136\" y2=\"41\" />\n",
       "  <line x1=\"111\" y1=\"46\" x2=\"136\" y2=\"46\" />\n",
       "  <line x1=\"111\" y1=\"49\" x2=\"136\" y2=\"49\" />\n",
       "  <line x1=\"111\" y1=\"53\" x2=\"136\" y2=\"53\" />\n",
       "  <line x1=\"111\" y1=\"56\" x2=\"136\" y2=\"56\" />\n",
       "  <line x1=\"111\" y1=\"61\" x2=\"136\" y2=\"61\" />\n",
       "  <line x1=\"111\" y1=\"64\" x2=\"136\" y2=\"64\" />\n",
       "  <line x1=\"111\" y1=\"68\" x2=\"136\" y2=\"68\" />\n",
       "  <line x1=\"111\" y1=\"71\" x2=\"136\" y2=\"71\" />\n",
       "  <line x1=\"111\" y1=\"76\" x2=\"136\" y2=\"76\" />\n",
       "  <line x1=\"111\" y1=\"79\" x2=\"136\" y2=\"79\" />\n",
       "  <line x1=\"111\" y1=\"83\" x2=\"136\" y2=\"83\" />\n",
       "  <line x1=\"111\" y1=\"86\" x2=\"136\" y2=\"86\" />\n",
       "  <line x1=\"111\" y1=\"91\" x2=\"136\" y2=\"91\" />\n",
       "  <line x1=\"111\" y1=\"94\" x2=\"136\" y2=\"94\" />\n",
       "  <line x1=\"111\" y1=\"98\" x2=\"136\" y2=\"98\" />\n",
       "  <line x1=\"111\" y1=\"101\" x2=\"136\" y2=\"101\" />\n",
       "  <line x1=\"111\" y1=\"106\" x2=\"136\" y2=\"106\" />\n",
       "  <line x1=\"111\" y1=\"109\" x2=\"136\" y2=\"109\" />\n",
       "  <line x1=\"111\" y1=\"113\" x2=\"136\" y2=\"113\" />\n",
       "  <line x1=\"111\" y1=\"116\" x2=\"136\" y2=\"116\" />\n",
       "  <line x1=\"111\" y1=\"121\" x2=\"136\" y2=\"121\" />\n",
       "  <line x1=\"111\" y1=\"124\" x2=\"136\" y2=\"124\" />\n",
       "  <line x1=\"111\" y1=\"128\" x2=\"136\" y2=\"128\" />\n",
       "  <line x1=\"111\" y1=\"131\" x2=\"136\" y2=\"131\" />\n",
       "  <line x1=\"111\" y1=\"136\" x2=\"136\" y2=\"136\" style=\"stroke-width:2\" />\n",
       "\n",
       "  <!-- Vertical lines -->\n",
       "  <line x1=\"111\" y1=\"16\" x2=\"111\" y2=\"136\" style=\"stroke-width:2\" />\n",
       "  <line x1=\"136\" y1=\"16\" x2=\"136\" y2=\"136\" style=\"stroke-width:2\" />\n",
       "\n",
       "  <!-- Colored Rectangle -->\n",
       "  <polygon points=\"111.09712037591198,16.097120375911985 136.50973689049448,16.097120375911985 136.50973689049448,136.09712037591197 111.09712037591198,136.09712037591197\" style=\"fill:#8B4903A0;stroke-width:0\"/>\n",
       "\n",
       "  <!-- Text -->\n",
       "  <text x=\"123.803429\" y=\"156.097120\" font-size=\"1.0rem\" font-weight=\"100\" text-anchor=\"middle\" >4</text>\n",
       "  <text x=\"156.509737\" y=\"76.097120\" font-size=\"1.0rem\" font-weight=\"100\" text-anchor=\"middle\" transform=\"rotate(-90,156.509737,76.097120)\">4071</text>\n",
       "  <text x=\"93.048560\" y=\"148.048560\" font-size=\"1.0rem\" font-weight=\"100\" text-anchor=\"middle\" transform=\"rotate(45,93.048560,148.048560)\">60</text>\n",
       "</svg>\n",
       "        </td>\n",
       "    </tr>\n",
       "</table></div></li><li class='xr-var-item'><div class='xr-var-name'><span>w</span></div><div class='xr-var-dims'>(level, latitude, longitude, day, tod)</div><div class='xr-var-dtype'>float32</div><div class='xr-var-preview xr-preview'>dask.array&lt;chunksize=(3, 13, 30, 30, 4), meta=np.ndarray&gt;</div><input id='attrs-d63160c2-d436-4e4e-89c1-fb45fa30b8df' class='xr-var-attrs-in' type='checkbox' ><label for='attrs-d63160c2-d436-4e4e-89c1-fb45fa30b8df' title='Show/Hide attributes'><svg class='icon xr-icon-file-text2'><use xlink:href='#icon-file-text2'></use></svg></label><input id='data-d209565e-eda3-4e6b-b032-2ce685681e44' class='xr-var-data-in' type='checkbox'><label for='data-d209565e-eda3-4e6b-b032-2ce685681e44' title='Show/Hide data repr'><svg class='icon xr-icon-database'><use xlink:href='#icon-database'></use></svg></label><div class='xr-var-attrs'><dl class='xr-attrs'><dt><span>GRIB_paramId :</span></dt><dd>135</dd><dt><span>GRIB_dataType :</span></dt><dd>an</dd><dt><span>GRIB_numberOfPoints :</span></dt><dd>23937</dd><dt><span>GRIB_typeOfLevel :</span></dt><dd>isobaricInhPa</dd><dt><span>GRIB_stepUnits :</span></dt><dd>1</dd><dt><span>GRIB_stepType :</span></dt><dd>instant</dd><dt><span>GRIB_gridType :</span></dt><dd>regular_ll</dd><dt><span>GRIB_uvRelativeToGrid :</span></dt><dd>0</dd><dt><span>GRIB_NV :</span></dt><dd>0</dd><dt><span>GRIB_Nx :</span></dt><dd>237</dd><dt><span>GRIB_Ny :</span></dt><dd>101</dd><dt><span>GRIB_cfName :</span></dt><dd>lagrangian_tendency_of_air_pressure</dd><dt><span>GRIB_cfVarName :</span></dt><dd>w</dd><dt><span>GRIB_gridDefinitionDescription :</span></dt><dd>Latitude/Longitude Grid</dd><dt><span>GRIB_iDirectionIncrementInDegrees :</span></dt><dd>0.25</dd><dt><span>GRIB_iScansNegatively :</span></dt><dd>0</dd><dt><span>GRIB_jDirectionIncrementInDegrees :</span></dt><dd>0.25</dd><dt><span>GRIB_jPointsAreConsecutive :</span></dt><dd>0</dd><dt><span>GRIB_jScansPositively :</span></dt><dd>0</dd><dt><span>GRIB_latitudeOfFirstGridPointInDegrees :</span></dt><dd>50.0</dd><dt><span>GRIB_latitudeOfLastGridPointInDegrees :</span></dt><dd>25.0</dd><dt><span>GRIB_longitudeOfFirstGridPointInDegrees :</span></dt><dd>-125.0</dd><dt><span>GRIB_longitudeOfLastGridPointInDegrees :</span></dt><dd>-66.0</dd><dt><span>GRIB_missingValue :</span></dt><dd>3.4028234663852886e+38</dd><dt><span>GRIB_name :</span></dt><dd>Vertical velocity</dd><dt><span>GRIB_shortName :</span></dt><dd>w</dd><dt><span>GRIB_totalNumber :</span></dt><dd>0</dd><dt><span>GRIB_units :</span></dt><dd>Pa s**-1</dd><dt><span>long_name :</span></dt><dd>Vertical velocity</dd><dt><span>units :</span></dt><dd>Pa s**-1</dd><dt><span>standard_name :</span></dt><dd>lagrangian_tendency_of_air_pressure</dd></dl></div><div class='xr-var-data'><table>\n",
       "    <tr>\n",
       "        <td>\n",
       "            <table style=\"border-collapse: collapse;\">\n",
       "                <thead>\n",
       "                    <tr>\n",
       "                        <td> </td>\n",
       "                        <th> Array </th>\n",
       "                        <th> Chunk </th>\n",
       "                    </tr>\n",
       "                </thead>\n",
       "                <tbody>\n",
       "                    \n",
       "                    <tr>\n",
       "                        <th> Bytes </th>\n",
       "                        <td> 484.52 MiB </td>\n",
       "                        <td> 548.44 kiB </td>\n",
       "                    </tr>\n",
       "                    \n",
       "                    <tr>\n",
       "                        <th> Shape </th>\n",
       "                        <td> (5, 26, 60, 4071, 4) </td>\n",
       "                        <td> (3, 13, 30, 30, 4) </td>\n",
       "                    </tr>\n",
       "                    <tr>\n",
       "                        <th> Dask graph </th>\n",
       "                        <td colspan=\"2\"> 1088 chunks in 606 graph layers </td>\n",
       "                    </tr>\n",
       "                    <tr>\n",
       "                        <th> Data type </th>\n",
       "                        <td colspan=\"2\"> float32 numpy.ndarray </td>\n",
       "                    </tr>\n",
       "                </tbody>\n",
       "            </table>\n",
       "        </td>\n",
       "        <td>\n",
       "        <svg width=\"281\" height=\"186\" style=\"stroke:rgb(0,0,0);stroke-width:1\" >\n",
       "\n",
       "  <!-- Horizontal lines -->\n",
       "  <line x1=\"0\" y1=\"0\" x2=\"25\" y2=\"0\" style=\"stroke-width:2\" />\n",
       "  <line x1=\"0\" y1=\"15\" x2=\"25\" y2=\"15\" />\n",
       "  <line x1=\"0\" y1=\"25\" x2=\"25\" y2=\"25\" style=\"stroke-width:2\" />\n",
       "\n",
       "  <!-- Vertical lines -->\n",
       "  <line x1=\"0\" y1=\"0\" x2=\"0\" y2=\"25\" style=\"stroke-width:2\" />\n",
       "  <line x1=\"12\" y1=\"0\" x2=\"12\" y2=\"25\" />\n",
       "  <line x1=\"25\" y1=\"0\" x2=\"25\" y2=\"25\" style=\"stroke-width:2\" />\n",
       "\n",
       "  <!-- Colored Rectangle -->\n",
       "  <polygon points=\"0.0,0.0 25.412616514582485,0.0 25.412616514582485,25.412616514582485 0.0,25.412616514582485\" style=\"fill:#ECB172A0;stroke-width:0\"/>\n",
       "\n",
       "  <!-- Text -->\n",
       "  <text x=\"12.706308\" y=\"45.412617\" font-size=\"1.0rem\" font-weight=\"100\" text-anchor=\"middle\" >26</text>\n",
       "  <text x=\"45.412617\" y=\"12.706308\" font-size=\"1.0rem\" font-weight=\"100\" text-anchor=\"middle\" transform=\"rotate(0,45.412617,12.706308)\">5</text>\n",
       "\n",
       "\n",
       "  <!-- Horizontal lines -->\n",
       "  <line x1=\"95\" y1=\"0\" x2=\"111\" y2=\"16\" style=\"stroke-width:2\" />\n",
       "  <line x1=\"95\" y1=\"3\" x2=\"111\" y2=\"19\" />\n",
       "  <line x1=\"95\" y1=\"7\" x2=\"111\" y2=\"23\" />\n",
       "  <line x1=\"95\" y1=\"10\" x2=\"111\" y2=\"26\" />\n",
       "  <line x1=\"95\" y1=\"15\" x2=\"111\" y2=\"31\" />\n",
       "  <line x1=\"95\" y1=\"18\" x2=\"111\" y2=\"34\" />\n",
       "  <line x1=\"95\" y1=\"22\" x2=\"111\" y2=\"38\" />\n",
       "  <line x1=\"95\" y1=\"25\" x2=\"111\" y2=\"41\" />\n",
       "  <line x1=\"95\" y1=\"30\" x2=\"111\" y2=\"46\" />\n",
       "  <line x1=\"95\" y1=\"33\" x2=\"111\" y2=\"49\" />\n",
       "  <line x1=\"95\" y1=\"37\" x2=\"111\" y2=\"53\" />\n",
       "  <line x1=\"95\" y1=\"40\" x2=\"111\" y2=\"56\" />\n",
       "  <line x1=\"95\" y1=\"45\" x2=\"111\" y2=\"61\" />\n",
       "  <line x1=\"95\" y1=\"48\" x2=\"111\" y2=\"64\" />\n",
       "  <line x1=\"95\" y1=\"52\" x2=\"111\" y2=\"68\" />\n",
       "  <line x1=\"95\" y1=\"55\" x2=\"111\" y2=\"71\" />\n",
       "  <line x1=\"95\" y1=\"60\" x2=\"111\" y2=\"76\" />\n",
       "  <line x1=\"95\" y1=\"63\" x2=\"111\" y2=\"79\" />\n",
       "  <line x1=\"95\" y1=\"67\" x2=\"111\" y2=\"83\" />\n",
       "  <line x1=\"95\" y1=\"70\" x2=\"111\" y2=\"86\" />\n",
       "  <line x1=\"95\" y1=\"75\" x2=\"111\" y2=\"91\" />\n",
       "  <line x1=\"95\" y1=\"78\" x2=\"111\" y2=\"94\" />\n",
       "  <line x1=\"95\" y1=\"82\" x2=\"111\" y2=\"98\" />\n",
       "  <line x1=\"95\" y1=\"85\" x2=\"111\" y2=\"101\" />\n",
       "  <line x1=\"95\" y1=\"90\" x2=\"111\" y2=\"106\" />\n",
       "  <line x1=\"95\" y1=\"93\" x2=\"111\" y2=\"109\" />\n",
       "  <line x1=\"95\" y1=\"97\" x2=\"111\" y2=\"113\" />\n",
       "  <line x1=\"95\" y1=\"100\" x2=\"111\" y2=\"116\" />\n",
       "  <line x1=\"95\" y1=\"105\" x2=\"111\" y2=\"121\" />\n",
       "  <line x1=\"95\" y1=\"108\" x2=\"111\" y2=\"124\" />\n",
       "  <line x1=\"95\" y1=\"112\" x2=\"111\" y2=\"128\" />\n",
       "  <line x1=\"95\" y1=\"115\" x2=\"111\" y2=\"131\" />\n",
       "  <line x1=\"95\" y1=\"120\" x2=\"111\" y2=\"136\" style=\"stroke-width:2\" />\n",
       "\n",
       "  <!-- Vertical lines -->\n",
       "  <line x1=\"95\" y1=\"0\" x2=\"95\" y2=\"120\" style=\"stroke-width:2\" />\n",
       "  <line x1=\"103\" y1=\"8\" x2=\"103\" y2=\"128\" />\n",
       "  <line x1=\"111\" y1=\"16\" x2=\"111\" y2=\"136\" style=\"stroke-width:2\" />\n",
       "\n",
       "  <!-- Colored Rectangle -->\n",
       "  <polygon points=\"95.0,0.0 111.09712037591198,16.097120375911985 111.09712037591198,136.09712037591197 95.0,120.0\" style=\"fill:#8B4903A0;stroke-width:0\"/>\n",
       "\n",
       "  <!-- Horizontal lines -->\n",
       "  <line x1=\"95\" y1=\"0\" x2=\"120\" y2=\"0\" style=\"stroke-width:2\" />\n",
       "  <line x1=\"103\" y1=\"8\" x2=\"128\" y2=\"8\" />\n",
       "  <line x1=\"111\" y1=\"16\" x2=\"136\" y2=\"16\" style=\"stroke-width:2\" />\n",
       "\n",
       "  <!-- Vertical lines -->\n",
       "  <line x1=\"95\" y1=\"0\" x2=\"111\" y2=\"16\" style=\"stroke-width:2\" />\n",
       "  <line x1=\"120\" y1=\"0\" x2=\"136\" y2=\"16\" style=\"stroke-width:2\" />\n",
       "\n",
       "  <!-- Colored Rectangle -->\n",
       "  <polygon points=\"95.0,0.0 120.41261651458248,0.0 136.50973689049448,16.097120375911985 111.09712037591198,16.097120375911985\" style=\"fill:#ECB172A0;stroke-width:0\"/>\n",
       "\n",
       "  <!-- Horizontal lines -->\n",
       "  <line x1=\"111\" y1=\"16\" x2=\"136\" y2=\"16\" style=\"stroke-width:2\" />\n",
       "  <line x1=\"111\" y1=\"19\" x2=\"136\" y2=\"19\" />\n",
       "  <line x1=\"111\" y1=\"23\" x2=\"136\" y2=\"23\" />\n",
       "  <line x1=\"111\" y1=\"26\" x2=\"136\" y2=\"26\" />\n",
       "  <line x1=\"111\" y1=\"31\" x2=\"136\" y2=\"31\" />\n",
       "  <line x1=\"111\" y1=\"34\" x2=\"136\" y2=\"34\" />\n",
       "  <line x1=\"111\" y1=\"38\" x2=\"136\" y2=\"38\" />\n",
       "  <line x1=\"111\" y1=\"41\" x2=\"136\" y2=\"41\" />\n",
       "  <line x1=\"111\" y1=\"46\" x2=\"136\" y2=\"46\" />\n",
       "  <line x1=\"111\" y1=\"49\" x2=\"136\" y2=\"49\" />\n",
       "  <line x1=\"111\" y1=\"53\" x2=\"136\" y2=\"53\" />\n",
       "  <line x1=\"111\" y1=\"56\" x2=\"136\" y2=\"56\" />\n",
       "  <line x1=\"111\" y1=\"61\" x2=\"136\" y2=\"61\" />\n",
       "  <line x1=\"111\" y1=\"64\" x2=\"136\" y2=\"64\" />\n",
       "  <line x1=\"111\" y1=\"68\" x2=\"136\" y2=\"68\" />\n",
       "  <line x1=\"111\" y1=\"71\" x2=\"136\" y2=\"71\" />\n",
       "  <line x1=\"111\" y1=\"76\" x2=\"136\" y2=\"76\" />\n",
       "  <line x1=\"111\" y1=\"79\" x2=\"136\" y2=\"79\" />\n",
       "  <line x1=\"111\" y1=\"83\" x2=\"136\" y2=\"83\" />\n",
       "  <line x1=\"111\" y1=\"86\" x2=\"136\" y2=\"86\" />\n",
       "  <line x1=\"111\" y1=\"91\" x2=\"136\" y2=\"91\" />\n",
       "  <line x1=\"111\" y1=\"94\" x2=\"136\" y2=\"94\" />\n",
       "  <line x1=\"111\" y1=\"98\" x2=\"136\" y2=\"98\" />\n",
       "  <line x1=\"111\" y1=\"101\" x2=\"136\" y2=\"101\" />\n",
       "  <line x1=\"111\" y1=\"106\" x2=\"136\" y2=\"106\" />\n",
       "  <line x1=\"111\" y1=\"109\" x2=\"136\" y2=\"109\" />\n",
       "  <line x1=\"111\" y1=\"113\" x2=\"136\" y2=\"113\" />\n",
       "  <line x1=\"111\" y1=\"116\" x2=\"136\" y2=\"116\" />\n",
       "  <line x1=\"111\" y1=\"121\" x2=\"136\" y2=\"121\" />\n",
       "  <line x1=\"111\" y1=\"124\" x2=\"136\" y2=\"124\" />\n",
       "  <line x1=\"111\" y1=\"128\" x2=\"136\" y2=\"128\" />\n",
       "  <line x1=\"111\" y1=\"131\" x2=\"136\" y2=\"131\" />\n",
       "  <line x1=\"111\" y1=\"136\" x2=\"136\" y2=\"136\" style=\"stroke-width:2\" />\n",
       "\n",
       "  <!-- Vertical lines -->\n",
       "  <line x1=\"111\" y1=\"16\" x2=\"111\" y2=\"136\" style=\"stroke-width:2\" />\n",
       "  <line x1=\"136\" y1=\"16\" x2=\"136\" y2=\"136\" style=\"stroke-width:2\" />\n",
       "\n",
       "  <!-- Colored Rectangle -->\n",
       "  <polygon points=\"111.09712037591198,16.097120375911985 136.50973689049448,16.097120375911985 136.50973689049448,136.09712037591197 111.09712037591198,136.09712037591197\" style=\"fill:#8B4903A0;stroke-width:0\"/>\n",
       "\n",
       "  <!-- Text -->\n",
       "  <text x=\"123.803429\" y=\"156.097120\" font-size=\"1.0rem\" font-weight=\"100\" text-anchor=\"middle\" >4</text>\n",
       "  <text x=\"156.509737\" y=\"76.097120\" font-size=\"1.0rem\" font-weight=\"100\" text-anchor=\"middle\" transform=\"rotate(-90,156.509737,76.097120)\">4071</text>\n",
       "  <text x=\"93.048560\" y=\"148.048560\" font-size=\"1.0rem\" font-weight=\"100\" text-anchor=\"middle\" transform=\"rotate(45,93.048560,148.048560)\">60</text>\n",
       "</svg>\n",
       "        </td>\n",
       "    </tr>\n",
       "</table></div></li><li class='xr-var-item'><div class='xr-var-name'><span>u10</span></div><div class='xr-var-dims'>(latitude, longitude, day, tod)</div><div class='xr-var-dtype'>float32</div><div class='xr-var-preview xr-preview'>dask.array&lt;chunksize=(26, 60, 30, 4), meta=np.ndarray&gt;</div><input id='attrs-c58f62f0-dac7-453b-87cc-6354e2cf9e26' class='xr-var-attrs-in' type='checkbox' ><label for='attrs-c58f62f0-dac7-453b-87cc-6354e2cf9e26' title='Show/Hide attributes'><svg class='icon xr-icon-file-text2'><use xlink:href='#icon-file-text2'></use></svg></label><input id='data-5d07656d-98dc-4232-af07-5ea28543ceb6' class='xr-var-data-in' type='checkbox'><label for='data-5d07656d-98dc-4232-af07-5ea28543ceb6' title='Show/Hide data repr'><svg class='icon xr-icon-database'><use xlink:href='#icon-database'></use></svg></label><div class='xr-var-attrs'><dl class='xr-attrs'><dt><span>GRIB_paramId :</span></dt><dd>165</dd><dt><span>GRIB_dataType :</span></dt><dd>an</dd><dt><span>GRIB_numberOfPoints :</span></dt><dd>23937</dd><dt><span>GRIB_typeOfLevel :</span></dt><dd>surface</dd><dt><span>GRIB_stepUnits :</span></dt><dd>1</dd><dt><span>GRIB_stepType :</span></dt><dd>instant</dd><dt><span>GRIB_gridType :</span></dt><dd>regular_ll</dd><dt><span>GRIB_uvRelativeToGrid :</span></dt><dd>0</dd><dt><span>GRIB_NV :</span></dt><dd>0</dd><dt><span>GRIB_Nx :</span></dt><dd>237</dd><dt><span>GRIB_Ny :</span></dt><dd>101</dd><dt><span>GRIB_cfName :</span></dt><dd>unknown</dd><dt><span>GRIB_cfVarName :</span></dt><dd>u10</dd><dt><span>GRIB_gridDefinitionDescription :</span></dt><dd>Latitude/Longitude Grid</dd><dt><span>GRIB_iDirectionIncrementInDegrees :</span></dt><dd>0.25</dd><dt><span>GRIB_iScansNegatively :</span></dt><dd>0</dd><dt><span>GRIB_jDirectionIncrementInDegrees :</span></dt><dd>0.25</dd><dt><span>GRIB_jPointsAreConsecutive :</span></dt><dd>0</dd><dt><span>GRIB_jScansPositively :</span></dt><dd>0</dd><dt><span>GRIB_latitudeOfFirstGridPointInDegrees :</span></dt><dd>50.0</dd><dt><span>GRIB_latitudeOfLastGridPointInDegrees :</span></dt><dd>25.0</dd><dt><span>GRIB_longitudeOfFirstGridPointInDegrees :</span></dt><dd>-125.0</dd><dt><span>GRIB_longitudeOfLastGridPointInDegrees :</span></dt><dd>-66.0</dd><dt><span>GRIB_missingValue :</span></dt><dd>3.4028234663852886e+38</dd><dt><span>GRIB_name :</span></dt><dd>10 metre U wind component</dd><dt><span>GRIB_shortName :</span></dt><dd>10u</dd><dt><span>GRIB_totalNumber :</span></dt><dd>0</dd><dt><span>GRIB_units :</span></dt><dd>m s**-1</dd><dt><span>long_name :</span></dt><dd>10 metre U wind component</dd><dt><span>units :</span></dt><dd>m s**-1</dd><dt><span>standard_name :</span></dt><dd>unknown</dd><dt><span>GRIB_surface :</span></dt><dd>0.0</dd></dl></div><div class='xr-var-data'><table>\n",
       "    <tr>\n",
       "        <td>\n",
       "            <table style=\"border-collapse: collapse;\">\n",
       "                <thead>\n",
       "                    <tr>\n",
       "                        <td> </td>\n",
       "                        <th> Array </th>\n",
       "                        <th> Chunk </th>\n",
       "                    </tr>\n",
       "                </thead>\n",
       "                <tbody>\n",
       "                    \n",
       "                    <tr>\n",
       "                        <th> Bytes </th>\n",
       "                        <td> 96.90 MiB </td>\n",
       "                        <td> 731.25 kiB </td>\n",
       "                    </tr>\n",
       "                    \n",
       "                    <tr>\n",
       "                        <th> Shape </th>\n",
       "                        <td> (26, 60, 4071, 4) </td>\n",
       "                        <td> (26, 60, 30, 4) </td>\n",
       "                    </tr>\n",
       "                    <tr>\n",
       "                        <th> Dask graph </th>\n",
       "                        <td colspan=\"2\"> 136 chunks in 524 graph layers </td>\n",
       "                    </tr>\n",
       "                    <tr>\n",
       "                        <th> Data type </th>\n",
       "                        <td colspan=\"2\"> float32 numpy.ndarray </td>\n",
       "                    </tr>\n",
       "                </tbody>\n",
       "            </table>\n",
       "        </td>\n",
       "        <td>\n",
       "        <svg width=\"281\" height=\"186\" style=\"stroke:rgb(0,0,0);stroke-width:1\" >\n",
       "\n",
       "  <!-- Horizontal lines -->\n",
       "  <line x1=\"0\" y1=\"0\" x2=\"25\" y2=\"0\" style=\"stroke-width:2\" />\n",
       "  <line x1=\"0\" y1=\"25\" x2=\"25\" y2=\"25\" style=\"stroke-width:2\" />\n",
       "\n",
       "  <!-- Vertical lines -->\n",
       "  <line x1=\"0\" y1=\"0\" x2=\"0\" y2=\"25\" style=\"stroke-width:2\" />\n",
       "  <line x1=\"25\" y1=\"0\" x2=\"25\" y2=\"25\" style=\"stroke-width:2\" />\n",
       "\n",
       "  <!-- Colored Rectangle -->\n",
       "  <polygon points=\"0.0,0.0 25.412616514582485,0.0 25.412616514582485,25.412616514582485 0.0,25.412616514582485\" style=\"fill:#ECB172A0;stroke-width:0\"/>\n",
       "\n",
       "  <!-- Text -->\n",
       "  <text x=\"12.706308\" y=\"45.412617\" font-size=\"1.0rem\" font-weight=\"100\" text-anchor=\"middle\" >26</text>\n",
       "  <text x=\"45.412617\" y=\"12.706308\" font-size=\"1.0rem\" font-weight=\"100\" text-anchor=\"middle\" transform=\"rotate(0,45.412617,12.706308)\">1</text>\n",
       "\n",
       "\n",
       "  <!-- Horizontal lines -->\n",
       "  <line x1=\"95\" y1=\"0\" x2=\"111\" y2=\"16\" style=\"stroke-width:2\" />\n",
       "  <line x1=\"95\" y1=\"3\" x2=\"111\" y2=\"19\" />\n",
       "  <line x1=\"95\" y1=\"7\" x2=\"111\" y2=\"23\" />\n",
       "  <line x1=\"95\" y1=\"10\" x2=\"111\" y2=\"26\" />\n",
       "  <line x1=\"95\" y1=\"15\" x2=\"111\" y2=\"31\" />\n",
       "  <line x1=\"95\" y1=\"18\" x2=\"111\" y2=\"34\" />\n",
       "  <line x1=\"95\" y1=\"22\" x2=\"111\" y2=\"38\" />\n",
       "  <line x1=\"95\" y1=\"25\" x2=\"111\" y2=\"41\" />\n",
       "  <line x1=\"95\" y1=\"30\" x2=\"111\" y2=\"46\" />\n",
       "  <line x1=\"95\" y1=\"33\" x2=\"111\" y2=\"49\" />\n",
       "  <line x1=\"95\" y1=\"37\" x2=\"111\" y2=\"53\" />\n",
       "  <line x1=\"95\" y1=\"40\" x2=\"111\" y2=\"56\" />\n",
       "  <line x1=\"95\" y1=\"45\" x2=\"111\" y2=\"61\" />\n",
       "  <line x1=\"95\" y1=\"48\" x2=\"111\" y2=\"64\" />\n",
       "  <line x1=\"95\" y1=\"52\" x2=\"111\" y2=\"68\" />\n",
       "  <line x1=\"95\" y1=\"55\" x2=\"111\" y2=\"71\" />\n",
       "  <line x1=\"95\" y1=\"60\" x2=\"111\" y2=\"76\" />\n",
       "  <line x1=\"95\" y1=\"63\" x2=\"111\" y2=\"79\" />\n",
       "  <line x1=\"95\" y1=\"67\" x2=\"111\" y2=\"83\" />\n",
       "  <line x1=\"95\" y1=\"70\" x2=\"111\" y2=\"86\" />\n",
       "  <line x1=\"95\" y1=\"75\" x2=\"111\" y2=\"91\" />\n",
       "  <line x1=\"95\" y1=\"78\" x2=\"111\" y2=\"94\" />\n",
       "  <line x1=\"95\" y1=\"82\" x2=\"111\" y2=\"98\" />\n",
       "  <line x1=\"95\" y1=\"85\" x2=\"111\" y2=\"101\" />\n",
       "  <line x1=\"95\" y1=\"90\" x2=\"111\" y2=\"106\" />\n",
       "  <line x1=\"95\" y1=\"93\" x2=\"111\" y2=\"109\" />\n",
       "  <line x1=\"95\" y1=\"97\" x2=\"111\" y2=\"113\" />\n",
       "  <line x1=\"95\" y1=\"100\" x2=\"111\" y2=\"116\" />\n",
       "  <line x1=\"95\" y1=\"105\" x2=\"111\" y2=\"121\" />\n",
       "  <line x1=\"95\" y1=\"108\" x2=\"111\" y2=\"124\" />\n",
       "  <line x1=\"95\" y1=\"112\" x2=\"111\" y2=\"128\" />\n",
       "  <line x1=\"95\" y1=\"115\" x2=\"111\" y2=\"131\" />\n",
       "  <line x1=\"95\" y1=\"120\" x2=\"111\" y2=\"136\" style=\"stroke-width:2\" />\n",
       "\n",
       "  <!-- Vertical lines -->\n",
       "  <line x1=\"95\" y1=\"0\" x2=\"95\" y2=\"120\" style=\"stroke-width:2\" />\n",
       "  <line x1=\"111\" y1=\"16\" x2=\"111\" y2=\"136\" style=\"stroke-width:2\" />\n",
       "\n",
       "  <!-- Colored Rectangle -->\n",
       "  <polygon points=\"95.0,0.0 111.09712037591198,16.097120375911985 111.09712037591198,136.09712037591197 95.0,120.0\" style=\"fill:#8B4903A0;stroke-width:0\"/>\n",
       "\n",
       "  <!-- Horizontal lines -->\n",
       "  <line x1=\"95\" y1=\"0\" x2=\"120\" y2=\"0\" style=\"stroke-width:2\" />\n",
       "  <line x1=\"111\" y1=\"16\" x2=\"136\" y2=\"16\" style=\"stroke-width:2\" />\n",
       "\n",
       "  <!-- Vertical lines -->\n",
       "  <line x1=\"95\" y1=\"0\" x2=\"111\" y2=\"16\" style=\"stroke-width:2\" />\n",
       "  <line x1=\"120\" y1=\"0\" x2=\"136\" y2=\"16\" style=\"stroke-width:2\" />\n",
       "\n",
       "  <!-- Colored Rectangle -->\n",
       "  <polygon points=\"95.0,0.0 120.41261651458248,0.0 136.50973689049448,16.097120375911985 111.09712037591198,16.097120375911985\" style=\"fill:#ECB172A0;stroke-width:0\"/>\n",
       "\n",
       "  <!-- Horizontal lines -->\n",
       "  <line x1=\"111\" y1=\"16\" x2=\"136\" y2=\"16\" style=\"stroke-width:2\" />\n",
       "  <line x1=\"111\" y1=\"19\" x2=\"136\" y2=\"19\" />\n",
       "  <line x1=\"111\" y1=\"23\" x2=\"136\" y2=\"23\" />\n",
       "  <line x1=\"111\" y1=\"26\" x2=\"136\" y2=\"26\" />\n",
       "  <line x1=\"111\" y1=\"31\" x2=\"136\" y2=\"31\" />\n",
       "  <line x1=\"111\" y1=\"34\" x2=\"136\" y2=\"34\" />\n",
       "  <line x1=\"111\" y1=\"38\" x2=\"136\" y2=\"38\" />\n",
       "  <line x1=\"111\" y1=\"41\" x2=\"136\" y2=\"41\" />\n",
       "  <line x1=\"111\" y1=\"46\" x2=\"136\" y2=\"46\" />\n",
       "  <line x1=\"111\" y1=\"49\" x2=\"136\" y2=\"49\" />\n",
       "  <line x1=\"111\" y1=\"53\" x2=\"136\" y2=\"53\" />\n",
       "  <line x1=\"111\" y1=\"56\" x2=\"136\" y2=\"56\" />\n",
       "  <line x1=\"111\" y1=\"61\" x2=\"136\" y2=\"61\" />\n",
       "  <line x1=\"111\" y1=\"64\" x2=\"136\" y2=\"64\" />\n",
       "  <line x1=\"111\" y1=\"68\" x2=\"136\" y2=\"68\" />\n",
       "  <line x1=\"111\" y1=\"71\" x2=\"136\" y2=\"71\" />\n",
       "  <line x1=\"111\" y1=\"76\" x2=\"136\" y2=\"76\" />\n",
       "  <line x1=\"111\" y1=\"79\" x2=\"136\" y2=\"79\" />\n",
       "  <line x1=\"111\" y1=\"83\" x2=\"136\" y2=\"83\" />\n",
       "  <line x1=\"111\" y1=\"86\" x2=\"136\" y2=\"86\" />\n",
       "  <line x1=\"111\" y1=\"91\" x2=\"136\" y2=\"91\" />\n",
       "  <line x1=\"111\" y1=\"94\" x2=\"136\" y2=\"94\" />\n",
       "  <line x1=\"111\" y1=\"98\" x2=\"136\" y2=\"98\" />\n",
       "  <line x1=\"111\" y1=\"101\" x2=\"136\" y2=\"101\" />\n",
       "  <line x1=\"111\" y1=\"106\" x2=\"136\" y2=\"106\" />\n",
       "  <line x1=\"111\" y1=\"109\" x2=\"136\" y2=\"109\" />\n",
       "  <line x1=\"111\" y1=\"113\" x2=\"136\" y2=\"113\" />\n",
       "  <line x1=\"111\" y1=\"116\" x2=\"136\" y2=\"116\" />\n",
       "  <line x1=\"111\" y1=\"121\" x2=\"136\" y2=\"121\" />\n",
       "  <line x1=\"111\" y1=\"124\" x2=\"136\" y2=\"124\" />\n",
       "  <line x1=\"111\" y1=\"128\" x2=\"136\" y2=\"128\" />\n",
       "  <line x1=\"111\" y1=\"131\" x2=\"136\" y2=\"131\" />\n",
       "  <line x1=\"111\" y1=\"136\" x2=\"136\" y2=\"136\" style=\"stroke-width:2\" />\n",
       "\n",
       "  <!-- Vertical lines -->\n",
       "  <line x1=\"111\" y1=\"16\" x2=\"111\" y2=\"136\" style=\"stroke-width:2\" />\n",
       "  <line x1=\"136\" y1=\"16\" x2=\"136\" y2=\"136\" style=\"stroke-width:2\" />\n",
       "\n",
       "  <!-- Colored Rectangle -->\n",
       "  <polygon points=\"111.09712037591198,16.097120375911985 136.50973689049448,16.097120375911985 136.50973689049448,136.09712037591197 111.09712037591198,136.09712037591197\" style=\"fill:#8B4903A0;stroke-width:0\"/>\n",
       "\n",
       "  <!-- Text -->\n",
       "  <text x=\"123.803429\" y=\"156.097120\" font-size=\"1.0rem\" font-weight=\"100\" text-anchor=\"middle\" >4</text>\n",
       "  <text x=\"156.509737\" y=\"76.097120\" font-size=\"1.0rem\" font-weight=\"100\" text-anchor=\"middle\" transform=\"rotate(-90,156.509737,76.097120)\">4071</text>\n",
       "  <text x=\"93.048560\" y=\"148.048560\" font-size=\"1.0rem\" font-weight=\"100\" text-anchor=\"middle\" transform=\"rotate(45,93.048560,148.048560)\">60</text>\n",
       "</svg>\n",
       "        </td>\n",
       "    </tr>\n",
       "</table></div></li><li class='xr-var-item'><div class='xr-var-name'><span>v10</span></div><div class='xr-var-dims'>(latitude, longitude, day, tod)</div><div class='xr-var-dtype'>float32</div><div class='xr-var-preview xr-preview'>dask.array&lt;chunksize=(26, 60, 30, 4), meta=np.ndarray&gt;</div><input id='attrs-b33baaf9-5da3-4977-87c2-5607642daeee' class='xr-var-attrs-in' type='checkbox' ><label for='attrs-b33baaf9-5da3-4977-87c2-5607642daeee' title='Show/Hide attributes'><svg class='icon xr-icon-file-text2'><use xlink:href='#icon-file-text2'></use></svg></label><input id='data-46119841-06ab-4a7e-9e8e-15a6badb2139' class='xr-var-data-in' type='checkbox'><label for='data-46119841-06ab-4a7e-9e8e-15a6badb2139' title='Show/Hide data repr'><svg class='icon xr-icon-database'><use xlink:href='#icon-database'></use></svg></label><div class='xr-var-attrs'><dl class='xr-attrs'><dt><span>GRIB_paramId :</span></dt><dd>166</dd><dt><span>GRIB_dataType :</span></dt><dd>an</dd><dt><span>GRIB_numberOfPoints :</span></dt><dd>23937</dd><dt><span>GRIB_typeOfLevel :</span></dt><dd>surface</dd><dt><span>GRIB_stepUnits :</span></dt><dd>1</dd><dt><span>GRIB_stepType :</span></dt><dd>instant</dd><dt><span>GRIB_gridType :</span></dt><dd>regular_ll</dd><dt><span>GRIB_uvRelativeToGrid :</span></dt><dd>0</dd><dt><span>GRIB_NV :</span></dt><dd>0</dd><dt><span>GRIB_Nx :</span></dt><dd>237</dd><dt><span>GRIB_Ny :</span></dt><dd>101</dd><dt><span>GRIB_cfName :</span></dt><dd>unknown</dd><dt><span>GRIB_cfVarName :</span></dt><dd>v10</dd><dt><span>GRIB_gridDefinitionDescription :</span></dt><dd>Latitude/Longitude Grid</dd><dt><span>GRIB_iDirectionIncrementInDegrees :</span></dt><dd>0.25</dd><dt><span>GRIB_iScansNegatively :</span></dt><dd>0</dd><dt><span>GRIB_jDirectionIncrementInDegrees :</span></dt><dd>0.25</dd><dt><span>GRIB_jPointsAreConsecutive :</span></dt><dd>0</dd><dt><span>GRIB_jScansPositively :</span></dt><dd>0</dd><dt><span>GRIB_latitudeOfFirstGridPointInDegrees :</span></dt><dd>50.0</dd><dt><span>GRIB_latitudeOfLastGridPointInDegrees :</span></dt><dd>25.0</dd><dt><span>GRIB_longitudeOfFirstGridPointInDegrees :</span></dt><dd>-125.0</dd><dt><span>GRIB_longitudeOfLastGridPointInDegrees :</span></dt><dd>-66.0</dd><dt><span>GRIB_missingValue :</span></dt><dd>3.4028234663852886e+38</dd><dt><span>GRIB_name :</span></dt><dd>10 metre V wind component</dd><dt><span>GRIB_shortName :</span></dt><dd>10v</dd><dt><span>GRIB_totalNumber :</span></dt><dd>0</dd><dt><span>GRIB_units :</span></dt><dd>m s**-1</dd><dt><span>long_name :</span></dt><dd>10 metre V wind component</dd><dt><span>units :</span></dt><dd>m s**-1</dd><dt><span>standard_name :</span></dt><dd>unknown</dd><dt><span>GRIB_surface :</span></dt><dd>0.0</dd></dl></div><div class='xr-var-data'><table>\n",
       "    <tr>\n",
       "        <td>\n",
       "            <table style=\"border-collapse: collapse;\">\n",
       "                <thead>\n",
       "                    <tr>\n",
       "                        <td> </td>\n",
       "                        <th> Array </th>\n",
       "                        <th> Chunk </th>\n",
       "                    </tr>\n",
       "                </thead>\n",
       "                <tbody>\n",
       "                    \n",
       "                    <tr>\n",
       "                        <th> Bytes </th>\n",
       "                        <td> 96.90 MiB </td>\n",
       "                        <td> 731.25 kiB </td>\n",
       "                    </tr>\n",
       "                    \n",
       "                    <tr>\n",
       "                        <th> Shape </th>\n",
       "                        <td> (26, 60, 4071, 4) </td>\n",
       "                        <td> (26, 60, 30, 4) </td>\n",
       "                    </tr>\n",
       "                    <tr>\n",
       "                        <th> Dask graph </th>\n",
       "                        <td colspan=\"2\"> 136 chunks in 524 graph layers </td>\n",
       "                    </tr>\n",
       "                    <tr>\n",
       "                        <th> Data type </th>\n",
       "                        <td colspan=\"2\"> float32 numpy.ndarray </td>\n",
       "                    </tr>\n",
       "                </tbody>\n",
       "            </table>\n",
       "        </td>\n",
       "        <td>\n",
       "        <svg width=\"281\" height=\"186\" style=\"stroke:rgb(0,0,0);stroke-width:1\" >\n",
       "\n",
       "  <!-- Horizontal lines -->\n",
       "  <line x1=\"0\" y1=\"0\" x2=\"25\" y2=\"0\" style=\"stroke-width:2\" />\n",
       "  <line x1=\"0\" y1=\"25\" x2=\"25\" y2=\"25\" style=\"stroke-width:2\" />\n",
       "\n",
       "  <!-- Vertical lines -->\n",
       "  <line x1=\"0\" y1=\"0\" x2=\"0\" y2=\"25\" style=\"stroke-width:2\" />\n",
       "  <line x1=\"25\" y1=\"0\" x2=\"25\" y2=\"25\" style=\"stroke-width:2\" />\n",
       "\n",
       "  <!-- Colored Rectangle -->\n",
       "  <polygon points=\"0.0,0.0 25.412616514582485,0.0 25.412616514582485,25.412616514582485 0.0,25.412616514582485\" style=\"fill:#ECB172A0;stroke-width:0\"/>\n",
       "\n",
       "  <!-- Text -->\n",
       "  <text x=\"12.706308\" y=\"45.412617\" font-size=\"1.0rem\" font-weight=\"100\" text-anchor=\"middle\" >26</text>\n",
       "  <text x=\"45.412617\" y=\"12.706308\" font-size=\"1.0rem\" font-weight=\"100\" text-anchor=\"middle\" transform=\"rotate(0,45.412617,12.706308)\">1</text>\n",
       "\n",
       "\n",
       "  <!-- Horizontal lines -->\n",
       "  <line x1=\"95\" y1=\"0\" x2=\"111\" y2=\"16\" style=\"stroke-width:2\" />\n",
       "  <line x1=\"95\" y1=\"3\" x2=\"111\" y2=\"19\" />\n",
       "  <line x1=\"95\" y1=\"7\" x2=\"111\" y2=\"23\" />\n",
       "  <line x1=\"95\" y1=\"10\" x2=\"111\" y2=\"26\" />\n",
       "  <line x1=\"95\" y1=\"15\" x2=\"111\" y2=\"31\" />\n",
       "  <line x1=\"95\" y1=\"18\" x2=\"111\" y2=\"34\" />\n",
       "  <line x1=\"95\" y1=\"22\" x2=\"111\" y2=\"38\" />\n",
       "  <line x1=\"95\" y1=\"25\" x2=\"111\" y2=\"41\" />\n",
       "  <line x1=\"95\" y1=\"30\" x2=\"111\" y2=\"46\" />\n",
       "  <line x1=\"95\" y1=\"33\" x2=\"111\" y2=\"49\" />\n",
       "  <line x1=\"95\" y1=\"37\" x2=\"111\" y2=\"53\" />\n",
       "  <line x1=\"95\" y1=\"40\" x2=\"111\" y2=\"56\" />\n",
       "  <line x1=\"95\" y1=\"45\" x2=\"111\" y2=\"61\" />\n",
       "  <line x1=\"95\" y1=\"48\" x2=\"111\" y2=\"64\" />\n",
       "  <line x1=\"95\" y1=\"52\" x2=\"111\" y2=\"68\" />\n",
       "  <line x1=\"95\" y1=\"55\" x2=\"111\" y2=\"71\" />\n",
       "  <line x1=\"95\" y1=\"60\" x2=\"111\" y2=\"76\" />\n",
       "  <line x1=\"95\" y1=\"63\" x2=\"111\" y2=\"79\" />\n",
       "  <line x1=\"95\" y1=\"67\" x2=\"111\" y2=\"83\" />\n",
       "  <line x1=\"95\" y1=\"70\" x2=\"111\" y2=\"86\" />\n",
       "  <line x1=\"95\" y1=\"75\" x2=\"111\" y2=\"91\" />\n",
       "  <line x1=\"95\" y1=\"78\" x2=\"111\" y2=\"94\" />\n",
       "  <line x1=\"95\" y1=\"82\" x2=\"111\" y2=\"98\" />\n",
       "  <line x1=\"95\" y1=\"85\" x2=\"111\" y2=\"101\" />\n",
       "  <line x1=\"95\" y1=\"90\" x2=\"111\" y2=\"106\" />\n",
       "  <line x1=\"95\" y1=\"93\" x2=\"111\" y2=\"109\" />\n",
       "  <line x1=\"95\" y1=\"97\" x2=\"111\" y2=\"113\" />\n",
       "  <line x1=\"95\" y1=\"100\" x2=\"111\" y2=\"116\" />\n",
       "  <line x1=\"95\" y1=\"105\" x2=\"111\" y2=\"121\" />\n",
       "  <line x1=\"95\" y1=\"108\" x2=\"111\" y2=\"124\" />\n",
       "  <line x1=\"95\" y1=\"112\" x2=\"111\" y2=\"128\" />\n",
       "  <line x1=\"95\" y1=\"115\" x2=\"111\" y2=\"131\" />\n",
       "  <line x1=\"95\" y1=\"120\" x2=\"111\" y2=\"136\" style=\"stroke-width:2\" />\n",
       "\n",
       "  <!-- Vertical lines -->\n",
       "  <line x1=\"95\" y1=\"0\" x2=\"95\" y2=\"120\" style=\"stroke-width:2\" />\n",
       "  <line x1=\"111\" y1=\"16\" x2=\"111\" y2=\"136\" style=\"stroke-width:2\" />\n",
       "\n",
       "  <!-- Colored Rectangle -->\n",
       "  <polygon points=\"95.0,0.0 111.09712037591198,16.097120375911985 111.09712037591198,136.09712037591197 95.0,120.0\" style=\"fill:#8B4903A0;stroke-width:0\"/>\n",
       "\n",
       "  <!-- Horizontal lines -->\n",
       "  <line x1=\"95\" y1=\"0\" x2=\"120\" y2=\"0\" style=\"stroke-width:2\" />\n",
       "  <line x1=\"111\" y1=\"16\" x2=\"136\" y2=\"16\" style=\"stroke-width:2\" />\n",
       "\n",
       "  <!-- Vertical lines -->\n",
       "  <line x1=\"95\" y1=\"0\" x2=\"111\" y2=\"16\" style=\"stroke-width:2\" />\n",
       "  <line x1=\"120\" y1=\"0\" x2=\"136\" y2=\"16\" style=\"stroke-width:2\" />\n",
       "\n",
       "  <!-- Colored Rectangle -->\n",
       "  <polygon points=\"95.0,0.0 120.41261651458248,0.0 136.50973689049448,16.097120375911985 111.09712037591198,16.097120375911985\" style=\"fill:#ECB172A0;stroke-width:0\"/>\n",
       "\n",
       "  <!-- Horizontal lines -->\n",
       "  <line x1=\"111\" y1=\"16\" x2=\"136\" y2=\"16\" style=\"stroke-width:2\" />\n",
       "  <line x1=\"111\" y1=\"19\" x2=\"136\" y2=\"19\" />\n",
       "  <line x1=\"111\" y1=\"23\" x2=\"136\" y2=\"23\" />\n",
       "  <line x1=\"111\" y1=\"26\" x2=\"136\" y2=\"26\" />\n",
       "  <line x1=\"111\" y1=\"31\" x2=\"136\" y2=\"31\" />\n",
       "  <line x1=\"111\" y1=\"34\" x2=\"136\" y2=\"34\" />\n",
       "  <line x1=\"111\" y1=\"38\" x2=\"136\" y2=\"38\" />\n",
       "  <line x1=\"111\" y1=\"41\" x2=\"136\" y2=\"41\" />\n",
       "  <line x1=\"111\" y1=\"46\" x2=\"136\" y2=\"46\" />\n",
       "  <line x1=\"111\" y1=\"49\" x2=\"136\" y2=\"49\" />\n",
       "  <line x1=\"111\" y1=\"53\" x2=\"136\" y2=\"53\" />\n",
       "  <line x1=\"111\" y1=\"56\" x2=\"136\" y2=\"56\" />\n",
       "  <line x1=\"111\" y1=\"61\" x2=\"136\" y2=\"61\" />\n",
       "  <line x1=\"111\" y1=\"64\" x2=\"136\" y2=\"64\" />\n",
       "  <line x1=\"111\" y1=\"68\" x2=\"136\" y2=\"68\" />\n",
       "  <line x1=\"111\" y1=\"71\" x2=\"136\" y2=\"71\" />\n",
       "  <line x1=\"111\" y1=\"76\" x2=\"136\" y2=\"76\" />\n",
       "  <line x1=\"111\" y1=\"79\" x2=\"136\" y2=\"79\" />\n",
       "  <line x1=\"111\" y1=\"83\" x2=\"136\" y2=\"83\" />\n",
       "  <line x1=\"111\" y1=\"86\" x2=\"136\" y2=\"86\" />\n",
       "  <line x1=\"111\" y1=\"91\" x2=\"136\" y2=\"91\" />\n",
       "  <line x1=\"111\" y1=\"94\" x2=\"136\" y2=\"94\" />\n",
       "  <line x1=\"111\" y1=\"98\" x2=\"136\" y2=\"98\" />\n",
       "  <line x1=\"111\" y1=\"101\" x2=\"136\" y2=\"101\" />\n",
       "  <line x1=\"111\" y1=\"106\" x2=\"136\" y2=\"106\" />\n",
       "  <line x1=\"111\" y1=\"109\" x2=\"136\" y2=\"109\" />\n",
       "  <line x1=\"111\" y1=\"113\" x2=\"136\" y2=\"113\" />\n",
       "  <line x1=\"111\" y1=\"116\" x2=\"136\" y2=\"116\" />\n",
       "  <line x1=\"111\" y1=\"121\" x2=\"136\" y2=\"121\" />\n",
       "  <line x1=\"111\" y1=\"124\" x2=\"136\" y2=\"124\" />\n",
       "  <line x1=\"111\" y1=\"128\" x2=\"136\" y2=\"128\" />\n",
       "  <line x1=\"111\" y1=\"131\" x2=\"136\" y2=\"131\" />\n",
       "  <line x1=\"111\" y1=\"136\" x2=\"136\" y2=\"136\" style=\"stroke-width:2\" />\n",
       "\n",
       "  <!-- Vertical lines -->\n",
       "  <line x1=\"111\" y1=\"16\" x2=\"111\" y2=\"136\" style=\"stroke-width:2\" />\n",
       "  <line x1=\"136\" y1=\"16\" x2=\"136\" y2=\"136\" style=\"stroke-width:2\" />\n",
       "\n",
       "  <!-- Colored Rectangle -->\n",
       "  <polygon points=\"111.09712037591198,16.097120375911985 136.50973689049448,16.097120375911985 136.50973689049448,136.09712037591197 111.09712037591198,136.09712037591197\" style=\"fill:#8B4903A0;stroke-width:0\"/>\n",
       "\n",
       "  <!-- Text -->\n",
       "  <text x=\"123.803429\" y=\"156.097120\" font-size=\"1.0rem\" font-weight=\"100\" text-anchor=\"middle\" >4</text>\n",
       "  <text x=\"156.509737\" y=\"76.097120\" font-size=\"1.0rem\" font-weight=\"100\" text-anchor=\"middle\" transform=\"rotate(-90,156.509737,76.097120)\">4071</text>\n",
       "  <text x=\"93.048560\" y=\"148.048560\" font-size=\"1.0rem\" font-weight=\"100\" text-anchor=\"middle\" transform=\"rotate(45,93.048560,148.048560)\">60</text>\n",
       "</svg>\n",
       "        </td>\n",
       "    </tr>\n",
       "</table></div></li><li class='xr-var-item'><div class='xr-var-name'><span>d2m</span></div><div class='xr-var-dims'>(latitude, longitude, day, tod)</div><div class='xr-var-dtype'>float32</div><div class='xr-var-preview xr-preview'>dask.array&lt;chunksize=(26, 60, 30, 4), meta=np.ndarray&gt;</div><input id='attrs-54ad59bd-eec3-4f63-a94d-22ac2f0f4e0e' class='xr-var-attrs-in' type='checkbox' ><label for='attrs-54ad59bd-eec3-4f63-a94d-22ac2f0f4e0e' title='Show/Hide attributes'><svg class='icon xr-icon-file-text2'><use xlink:href='#icon-file-text2'></use></svg></label><input id='data-998137cd-d640-4f70-b32f-f0e97edf1231' class='xr-var-data-in' type='checkbox'><label for='data-998137cd-d640-4f70-b32f-f0e97edf1231' title='Show/Hide data repr'><svg class='icon xr-icon-database'><use xlink:href='#icon-database'></use></svg></label><div class='xr-var-attrs'><dl class='xr-attrs'><dt><span>GRIB_paramId :</span></dt><dd>168</dd><dt><span>GRIB_dataType :</span></dt><dd>an</dd><dt><span>GRIB_numberOfPoints :</span></dt><dd>23937</dd><dt><span>GRIB_typeOfLevel :</span></dt><dd>surface</dd><dt><span>GRIB_stepUnits :</span></dt><dd>1</dd><dt><span>GRIB_stepType :</span></dt><dd>instant</dd><dt><span>GRIB_gridType :</span></dt><dd>regular_ll</dd><dt><span>GRIB_uvRelativeToGrid :</span></dt><dd>0</dd><dt><span>GRIB_NV :</span></dt><dd>0</dd><dt><span>GRIB_Nx :</span></dt><dd>237</dd><dt><span>GRIB_Ny :</span></dt><dd>101</dd><dt><span>GRIB_cfName :</span></dt><dd>unknown</dd><dt><span>GRIB_cfVarName :</span></dt><dd>d2m</dd><dt><span>GRIB_gridDefinitionDescription :</span></dt><dd>Latitude/Longitude Grid</dd><dt><span>GRIB_iDirectionIncrementInDegrees :</span></dt><dd>0.25</dd><dt><span>GRIB_iScansNegatively :</span></dt><dd>0</dd><dt><span>GRIB_jDirectionIncrementInDegrees :</span></dt><dd>0.25</dd><dt><span>GRIB_jPointsAreConsecutive :</span></dt><dd>0</dd><dt><span>GRIB_jScansPositively :</span></dt><dd>0</dd><dt><span>GRIB_latitudeOfFirstGridPointInDegrees :</span></dt><dd>50.0</dd><dt><span>GRIB_latitudeOfLastGridPointInDegrees :</span></dt><dd>25.0</dd><dt><span>GRIB_longitudeOfFirstGridPointInDegrees :</span></dt><dd>-125.0</dd><dt><span>GRIB_longitudeOfLastGridPointInDegrees :</span></dt><dd>-66.0</dd><dt><span>GRIB_missingValue :</span></dt><dd>3.4028234663852886e+38</dd><dt><span>GRIB_name :</span></dt><dd>2 metre dewpoint temperature</dd><dt><span>GRIB_shortName :</span></dt><dd>2d</dd><dt><span>GRIB_totalNumber :</span></dt><dd>0</dd><dt><span>GRIB_units :</span></dt><dd>K</dd><dt><span>long_name :</span></dt><dd>2 metre dewpoint temperature</dd><dt><span>units :</span></dt><dd>K</dd><dt><span>standard_name :</span></dt><dd>unknown</dd><dt><span>GRIB_surface :</span></dt><dd>0.0</dd></dl></div><div class='xr-var-data'><table>\n",
       "    <tr>\n",
       "        <td>\n",
       "            <table style=\"border-collapse: collapse;\">\n",
       "                <thead>\n",
       "                    <tr>\n",
       "                        <td> </td>\n",
       "                        <th> Array </th>\n",
       "                        <th> Chunk </th>\n",
       "                    </tr>\n",
       "                </thead>\n",
       "                <tbody>\n",
       "                    \n",
       "                    <tr>\n",
       "                        <th> Bytes </th>\n",
       "                        <td> 96.90 MiB </td>\n",
       "                        <td> 731.25 kiB </td>\n",
       "                    </tr>\n",
       "                    \n",
       "                    <tr>\n",
       "                        <th> Shape </th>\n",
       "                        <td> (26, 60, 4071, 4) </td>\n",
       "                        <td> (26, 60, 30, 4) </td>\n",
       "                    </tr>\n",
       "                    <tr>\n",
       "                        <th> Dask graph </th>\n",
       "                        <td colspan=\"2\"> 136 chunks in 524 graph layers </td>\n",
       "                    </tr>\n",
       "                    <tr>\n",
       "                        <th> Data type </th>\n",
       "                        <td colspan=\"2\"> float32 numpy.ndarray </td>\n",
       "                    </tr>\n",
       "                </tbody>\n",
       "            </table>\n",
       "        </td>\n",
       "        <td>\n",
       "        <svg width=\"281\" height=\"186\" style=\"stroke:rgb(0,0,0);stroke-width:1\" >\n",
       "\n",
       "  <!-- Horizontal lines -->\n",
       "  <line x1=\"0\" y1=\"0\" x2=\"25\" y2=\"0\" style=\"stroke-width:2\" />\n",
       "  <line x1=\"0\" y1=\"25\" x2=\"25\" y2=\"25\" style=\"stroke-width:2\" />\n",
       "\n",
       "  <!-- Vertical lines -->\n",
       "  <line x1=\"0\" y1=\"0\" x2=\"0\" y2=\"25\" style=\"stroke-width:2\" />\n",
       "  <line x1=\"25\" y1=\"0\" x2=\"25\" y2=\"25\" style=\"stroke-width:2\" />\n",
       "\n",
       "  <!-- Colored Rectangle -->\n",
       "  <polygon points=\"0.0,0.0 25.412616514582485,0.0 25.412616514582485,25.412616514582485 0.0,25.412616514582485\" style=\"fill:#ECB172A0;stroke-width:0\"/>\n",
       "\n",
       "  <!-- Text -->\n",
       "  <text x=\"12.706308\" y=\"45.412617\" font-size=\"1.0rem\" font-weight=\"100\" text-anchor=\"middle\" >26</text>\n",
       "  <text x=\"45.412617\" y=\"12.706308\" font-size=\"1.0rem\" font-weight=\"100\" text-anchor=\"middle\" transform=\"rotate(0,45.412617,12.706308)\">1</text>\n",
       "\n",
       "\n",
       "  <!-- Horizontal lines -->\n",
       "  <line x1=\"95\" y1=\"0\" x2=\"111\" y2=\"16\" style=\"stroke-width:2\" />\n",
       "  <line x1=\"95\" y1=\"3\" x2=\"111\" y2=\"19\" />\n",
       "  <line x1=\"95\" y1=\"7\" x2=\"111\" y2=\"23\" />\n",
       "  <line x1=\"95\" y1=\"10\" x2=\"111\" y2=\"26\" />\n",
       "  <line x1=\"95\" y1=\"15\" x2=\"111\" y2=\"31\" />\n",
       "  <line x1=\"95\" y1=\"18\" x2=\"111\" y2=\"34\" />\n",
       "  <line x1=\"95\" y1=\"22\" x2=\"111\" y2=\"38\" />\n",
       "  <line x1=\"95\" y1=\"25\" x2=\"111\" y2=\"41\" />\n",
       "  <line x1=\"95\" y1=\"30\" x2=\"111\" y2=\"46\" />\n",
       "  <line x1=\"95\" y1=\"33\" x2=\"111\" y2=\"49\" />\n",
       "  <line x1=\"95\" y1=\"37\" x2=\"111\" y2=\"53\" />\n",
       "  <line x1=\"95\" y1=\"40\" x2=\"111\" y2=\"56\" />\n",
       "  <line x1=\"95\" y1=\"45\" x2=\"111\" y2=\"61\" />\n",
       "  <line x1=\"95\" y1=\"48\" x2=\"111\" y2=\"64\" />\n",
       "  <line x1=\"95\" y1=\"52\" x2=\"111\" y2=\"68\" />\n",
       "  <line x1=\"95\" y1=\"55\" x2=\"111\" y2=\"71\" />\n",
       "  <line x1=\"95\" y1=\"60\" x2=\"111\" y2=\"76\" />\n",
       "  <line x1=\"95\" y1=\"63\" x2=\"111\" y2=\"79\" />\n",
       "  <line x1=\"95\" y1=\"67\" x2=\"111\" y2=\"83\" />\n",
       "  <line x1=\"95\" y1=\"70\" x2=\"111\" y2=\"86\" />\n",
       "  <line x1=\"95\" y1=\"75\" x2=\"111\" y2=\"91\" />\n",
       "  <line x1=\"95\" y1=\"78\" x2=\"111\" y2=\"94\" />\n",
       "  <line x1=\"95\" y1=\"82\" x2=\"111\" y2=\"98\" />\n",
       "  <line x1=\"95\" y1=\"85\" x2=\"111\" y2=\"101\" />\n",
       "  <line x1=\"95\" y1=\"90\" x2=\"111\" y2=\"106\" />\n",
       "  <line x1=\"95\" y1=\"93\" x2=\"111\" y2=\"109\" />\n",
       "  <line x1=\"95\" y1=\"97\" x2=\"111\" y2=\"113\" />\n",
       "  <line x1=\"95\" y1=\"100\" x2=\"111\" y2=\"116\" />\n",
       "  <line x1=\"95\" y1=\"105\" x2=\"111\" y2=\"121\" />\n",
       "  <line x1=\"95\" y1=\"108\" x2=\"111\" y2=\"124\" />\n",
       "  <line x1=\"95\" y1=\"112\" x2=\"111\" y2=\"128\" />\n",
       "  <line x1=\"95\" y1=\"115\" x2=\"111\" y2=\"131\" />\n",
       "  <line x1=\"95\" y1=\"120\" x2=\"111\" y2=\"136\" style=\"stroke-width:2\" />\n",
       "\n",
       "  <!-- Vertical lines -->\n",
       "  <line x1=\"95\" y1=\"0\" x2=\"95\" y2=\"120\" style=\"stroke-width:2\" />\n",
       "  <line x1=\"111\" y1=\"16\" x2=\"111\" y2=\"136\" style=\"stroke-width:2\" />\n",
       "\n",
       "  <!-- Colored Rectangle -->\n",
       "  <polygon points=\"95.0,0.0 111.09712037591198,16.097120375911985 111.09712037591198,136.09712037591197 95.0,120.0\" style=\"fill:#8B4903A0;stroke-width:0\"/>\n",
       "\n",
       "  <!-- Horizontal lines -->\n",
       "  <line x1=\"95\" y1=\"0\" x2=\"120\" y2=\"0\" style=\"stroke-width:2\" />\n",
       "  <line x1=\"111\" y1=\"16\" x2=\"136\" y2=\"16\" style=\"stroke-width:2\" />\n",
       "\n",
       "  <!-- Vertical lines -->\n",
       "  <line x1=\"95\" y1=\"0\" x2=\"111\" y2=\"16\" style=\"stroke-width:2\" />\n",
       "  <line x1=\"120\" y1=\"0\" x2=\"136\" y2=\"16\" style=\"stroke-width:2\" />\n",
       "\n",
       "  <!-- Colored Rectangle -->\n",
       "  <polygon points=\"95.0,0.0 120.41261651458248,0.0 136.50973689049448,16.097120375911985 111.09712037591198,16.097120375911985\" style=\"fill:#ECB172A0;stroke-width:0\"/>\n",
       "\n",
       "  <!-- Horizontal lines -->\n",
       "  <line x1=\"111\" y1=\"16\" x2=\"136\" y2=\"16\" style=\"stroke-width:2\" />\n",
       "  <line x1=\"111\" y1=\"19\" x2=\"136\" y2=\"19\" />\n",
       "  <line x1=\"111\" y1=\"23\" x2=\"136\" y2=\"23\" />\n",
       "  <line x1=\"111\" y1=\"26\" x2=\"136\" y2=\"26\" />\n",
       "  <line x1=\"111\" y1=\"31\" x2=\"136\" y2=\"31\" />\n",
       "  <line x1=\"111\" y1=\"34\" x2=\"136\" y2=\"34\" />\n",
       "  <line x1=\"111\" y1=\"38\" x2=\"136\" y2=\"38\" />\n",
       "  <line x1=\"111\" y1=\"41\" x2=\"136\" y2=\"41\" />\n",
       "  <line x1=\"111\" y1=\"46\" x2=\"136\" y2=\"46\" />\n",
       "  <line x1=\"111\" y1=\"49\" x2=\"136\" y2=\"49\" />\n",
       "  <line x1=\"111\" y1=\"53\" x2=\"136\" y2=\"53\" />\n",
       "  <line x1=\"111\" y1=\"56\" x2=\"136\" y2=\"56\" />\n",
       "  <line x1=\"111\" y1=\"61\" x2=\"136\" y2=\"61\" />\n",
       "  <line x1=\"111\" y1=\"64\" x2=\"136\" y2=\"64\" />\n",
       "  <line x1=\"111\" y1=\"68\" x2=\"136\" y2=\"68\" />\n",
       "  <line x1=\"111\" y1=\"71\" x2=\"136\" y2=\"71\" />\n",
       "  <line x1=\"111\" y1=\"76\" x2=\"136\" y2=\"76\" />\n",
       "  <line x1=\"111\" y1=\"79\" x2=\"136\" y2=\"79\" />\n",
       "  <line x1=\"111\" y1=\"83\" x2=\"136\" y2=\"83\" />\n",
       "  <line x1=\"111\" y1=\"86\" x2=\"136\" y2=\"86\" />\n",
       "  <line x1=\"111\" y1=\"91\" x2=\"136\" y2=\"91\" />\n",
       "  <line x1=\"111\" y1=\"94\" x2=\"136\" y2=\"94\" />\n",
       "  <line x1=\"111\" y1=\"98\" x2=\"136\" y2=\"98\" />\n",
       "  <line x1=\"111\" y1=\"101\" x2=\"136\" y2=\"101\" />\n",
       "  <line x1=\"111\" y1=\"106\" x2=\"136\" y2=\"106\" />\n",
       "  <line x1=\"111\" y1=\"109\" x2=\"136\" y2=\"109\" />\n",
       "  <line x1=\"111\" y1=\"113\" x2=\"136\" y2=\"113\" />\n",
       "  <line x1=\"111\" y1=\"116\" x2=\"136\" y2=\"116\" />\n",
       "  <line x1=\"111\" y1=\"121\" x2=\"136\" y2=\"121\" />\n",
       "  <line x1=\"111\" y1=\"124\" x2=\"136\" y2=\"124\" />\n",
       "  <line x1=\"111\" y1=\"128\" x2=\"136\" y2=\"128\" />\n",
       "  <line x1=\"111\" y1=\"131\" x2=\"136\" y2=\"131\" />\n",
       "  <line x1=\"111\" y1=\"136\" x2=\"136\" y2=\"136\" style=\"stroke-width:2\" />\n",
       "\n",
       "  <!-- Vertical lines -->\n",
       "  <line x1=\"111\" y1=\"16\" x2=\"111\" y2=\"136\" style=\"stroke-width:2\" />\n",
       "  <line x1=\"136\" y1=\"16\" x2=\"136\" y2=\"136\" style=\"stroke-width:2\" />\n",
       "\n",
       "  <!-- Colored Rectangle -->\n",
       "  <polygon points=\"111.09712037591198,16.097120375911985 136.50973689049448,16.097120375911985 136.50973689049448,136.09712037591197 111.09712037591198,136.09712037591197\" style=\"fill:#8B4903A0;stroke-width:0\"/>\n",
       "\n",
       "  <!-- Text -->\n",
       "  <text x=\"123.803429\" y=\"156.097120\" font-size=\"1.0rem\" font-weight=\"100\" text-anchor=\"middle\" >4</text>\n",
       "  <text x=\"156.509737\" y=\"76.097120\" font-size=\"1.0rem\" font-weight=\"100\" text-anchor=\"middle\" transform=\"rotate(-90,156.509737,76.097120)\">4071</text>\n",
       "  <text x=\"93.048560\" y=\"148.048560\" font-size=\"1.0rem\" font-weight=\"100\" text-anchor=\"middle\" transform=\"rotate(45,93.048560,148.048560)\">60</text>\n",
       "</svg>\n",
       "        </td>\n",
       "    </tr>\n",
       "</table></div></li><li class='xr-var-item'><div class='xr-var-name'><span>t2m</span></div><div class='xr-var-dims'>(latitude, longitude, day, tod)</div><div class='xr-var-dtype'>float32</div><div class='xr-var-preview xr-preview'>dask.array&lt;chunksize=(26, 60, 30, 4), meta=np.ndarray&gt;</div><input id='attrs-6ed5714d-fa04-4a74-a65f-84bbbfa2615b' class='xr-var-attrs-in' type='checkbox' ><label for='attrs-6ed5714d-fa04-4a74-a65f-84bbbfa2615b' title='Show/Hide attributes'><svg class='icon xr-icon-file-text2'><use xlink:href='#icon-file-text2'></use></svg></label><input id='data-a836d018-1849-4db1-9596-6650154e2e24' class='xr-var-data-in' type='checkbox'><label for='data-a836d018-1849-4db1-9596-6650154e2e24' title='Show/Hide data repr'><svg class='icon xr-icon-database'><use xlink:href='#icon-database'></use></svg></label><div class='xr-var-attrs'><dl class='xr-attrs'><dt><span>GRIB_paramId :</span></dt><dd>167</dd><dt><span>GRIB_dataType :</span></dt><dd>an</dd><dt><span>GRIB_numberOfPoints :</span></dt><dd>23937</dd><dt><span>GRIB_typeOfLevel :</span></dt><dd>surface</dd><dt><span>GRIB_stepUnits :</span></dt><dd>1</dd><dt><span>GRIB_stepType :</span></dt><dd>instant</dd><dt><span>GRIB_gridType :</span></dt><dd>regular_ll</dd><dt><span>GRIB_uvRelativeToGrid :</span></dt><dd>0</dd><dt><span>GRIB_NV :</span></dt><dd>0</dd><dt><span>GRIB_Nx :</span></dt><dd>237</dd><dt><span>GRIB_Ny :</span></dt><dd>101</dd><dt><span>GRIB_cfName :</span></dt><dd>unknown</dd><dt><span>GRIB_cfVarName :</span></dt><dd>t2m</dd><dt><span>GRIB_gridDefinitionDescription :</span></dt><dd>Latitude/Longitude Grid</dd><dt><span>GRIB_iDirectionIncrementInDegrees :</span></dt><dd>0.25</dd><dt><span>GRIB_iScansNegatively :</span></dt><dd>0</dd><dt><span>GRIB_jDirectionIncrementInDegrees :</span></dt><dd>0.25</dd><dt><span>GRIB_jPointsAreConsecutive :</span></dt><dd>0</dd><dt><span>GRIB_jScansPositively :</span></dt><dd>0</dd><dt><span>GRIB_latitudeOfFirstGridPointInDegrees :</span></dt><dd>50.0</dd><dt><span>GRIB_latitudeOfLastGridPointInDegrees :</span></dt><dd>25.0</dd><dt><span>GRIB_longitudeOfFirstGridPointInDegrees :</span></dt><dd>-125.0</dd><dt><span>GRIB_longitudeOfLastGridPointInDegrees :</span></dt><dd>-66.0</dd><dt><span>GRIB_missingValue :</span></dt><dd>3.4028234663852886e+38</dd><dt><span>GRIB_name :</span></dt><dd>2 metre temperature</dd><dt><span>GRIB_shortName :</span></dt><dd>2t</dd><dt><span>GRIB_totalNumber :</span></dt><dd>0</dd><dt><span>GRIB_units :</span></dt><dd>K</dd><dt><span>long_name :</span></dt><dd>2 metre temperature</dd><dt><span>units :</span></dt><dd>K</dd><dt><span>standard_name :</span></dt><dd>unknown</dd><dt><span>GRIB_surface :</span></dt><dd>0.0</dd></dl></div><div class='xr-var-data'><table>\n",
       "    <tr>\n",
       "        <td>\n",
       "            <table style=\"border-collapse: collapse;\">\n",
       "                <thead>\n",
       "                    <tr>\n",
       "                        <td> </td>\n",
       "                        <th> Array </th>\n",
       "                        <th> Chunk </th>\n",
       "                    </tr>\n",
       "                </thead>\n",
       "                <tbody>\n",
       "                    \n",
       "                    <tr>\n",
       "                        <th> Bytes </th>\n",
       "                        <td> 96.90 MiB </td>\n",
       "                        <td> 731.25 kiB </td>\n",
       "                    </tr>\n",
       "                    \n",
       "                    <tr>\n",
       "                        <th> Shape </th>\n",
       "                        <td> (26, 60, 4071, 4) </td>\n",
       "                        <td> (26, 60, 30, 4) </td>\n",
       "                    </tr>\n",
       "                    <tr>\n",
       "                        <th> Dask graph </th>\n",
       "                        <td colspan=\"2\"> 136 chunks in 524 graph layers </td>\n",
       "                    </tr>\n",
       "                    <tr>\n",
       "                        <th> Data type </th>\n",
       "                        <td colspan=\"2\"> float32 numpy.ndarray </td>\n",
       "                    </tr>\n",
       "                </tbody>\n",
       "            </table>\n",
       "        </td>\n",
       "        <td>\n",
       "        <svg width=\"281\" height=\"186\" style=\"stroke:rgb(0,0,0);stroke-width:1\" >\n",
       "\n",
       "  <!-- Horizontal lines -->\n",
       "  <line x1=\"0\" y1=\"0\" x2=\"25\" y2=\"0\" style=\"stroke-width:2\" />\n",
       "  <line x1=\"0\" y1=\"25\" x2=\"25\" y2=\"25\" style=\"stroke-width:2\" />\n",
       "\n",
       "  <!-- Vertical lines -->\n",
       "  <line x1=\"0\" y1=\"0\" x2=\"0\" y2=\"25\" style=\"stroke-width:2\" />\n",
       "  <line x1=\"25\" y1=\"0\" x2=\"25\" y2=\"25\" style=\"stroke-width:2\" />\n",
       "\n",
       "  <!-- Colored Rectangle -->\n",
       "  <polygon points=\"0.0,0.0 25.412616514582485,0.0 25.412616514582485,25.412616514582485 0.0,25.412616514582485\" style=\"fill:#ECB172A0;stroke-width:0\"/>\n",
       "\n",
       "  <!-- Text -->\n",
       "  <text x=\"12.706308\" y=\"45.412617\" font-size=\"1.0rem\" font-weight=\"100\" text-anchor=\"middle\" >26</text>\n",
       "  <text x=\"45.412617\" y=\"12.706308\" font-size=\"1.0rem\" font-weight=\"100\" text-anchor=\"middle\" transform=\"rotate(0,45.412617,12.706308)\">1</text>\n",
       "\n",
       "\n",
       "  <!-- Horizontal lines -->\n",
       "  <line x1=\"95\" y1=\"0\" x2=\"111\" y2=\"16\" style=\"stroke-width:2\" />\n",
       "  <line x1=\"95\" y1=\"3\" x2=\"111\" y2=\"19\" />\n",
       "  <line x1=\"95\" y1=\"7\" x2=\"111\" y2=\"23\" />\n",
       "  <line x1=\"95\" y1=\"10\" x2=\"111\" y2=\"26\" />\n",
       "  <line x1=\"95\" y1=\"15\" x2=\"111\" y2=\"31\" />\n",
       "  <line x1=\"95\" y1=\"18\" x2=\"111\" y2=\"34\" />\n",
       "  <line x1=\"95\" y1=\"22\" x2=\"111\" y2=\"38\" />\n",
       "  <line x1=\"95\" y1=\"25\" x2=\"111\" y2=\"41\" />\n",
       "  <line x1=\"95\" y1=\"30\" x2=\"111\" y2=\"46\" />\n",
       "  <line x1=\"95\" y1=\"33\" x2=\"111\" y2=\"49\" />\n",
       "  <line x1=\"95\" y1=\"37\" x2=\"111\" y2=\"53\" />\n",
       "  <line x1=\"95\" y1=\"40\" x2=\"111\" y2=\"56\" />\n",
       "  <line x1=\"95\" y1=\"45\" x2=\"111\" y2=\"61\" />\n",
       "  <line x1=\"95\" y1=\"48\" x2=\"111\" y2=\"64\" />\n",
       "  <line x1=\"95\" y1=\"52\" x2=\"111\" y2=\"68\" />\n",
       "  <line x1=\"95\" y1=\"55\" x2=\"111\" y2=\"71\" />\n",
       "  <line x1=\"95\" y1=\"60\" x2=\"111\" y2=\"76\" />\n",
       "  <line x1=\"95\" y1=\"63\" x2=\"111\" y2=\"79\" />\n",
       "  <line x1=\"95\" y1=\"67\" x2=\"111\" y2=\"83\" />\n",
       "  <line x1=\"95\" y1=\"70\" x2=\"111\" y2=\"86\" />\n",
       "  <line x1=\"95\" y1=\"75\" x2=\"111\" y2=\"91\" />\n",
       "  <line x1=\"95\" y1=\"78\" x2=\"111\" y2=\"94\" />\n",
       "  <line x1=\"95\" y1=\"82\" x2=\"111\" y2=\"98\" />\n",
       "  <line x1=\"95\" y1=\"85\" x2=\"111\" y2=\"101\" />\n",
       "  <line x1=\"95\" y1=\"90\" x2=\"111\" y2=\"106\" />\n",
       "  <line x1=\"95\" y1=\"93\" x2=\"111\" y2=\"109\" />\n",
       "  <line x1=\"95\" y1=\"97\" x2=\"111\" y2=\"113\" />\n",
       "  <line x1=\"95\" y1=\"100\" x2=\"111\" y2=\"116\" />\n",
       "  <line x1=\"95\" y1=\"105\" x2=\"111\" y2=\"121\" />\n",
       "  <line x1=\"95\" y1=\"108\" x2=\"111\" y2=\"124\" />\n",
       "  <line x1=\"95\" y1=\"112\" x2=\"111\" y2=\"128\" />\n",
       "  <line x1=\"95\" y1=\"115\" x2=\"111\" y2=\"131\" />\n",
       "  <line x1=\"95\" y1=\"120\" x2=\"111\" y2=\"136\" style=\"stroke-width:2\" />\n",
       "\n",
       "  <!-- Vertical lines -->\n",
       "  <line x1=\"95\" y1=\"0\" x2=\"95\" y2=\"120\" style=\"stroke-width:2\" />\n",
       "  <line x1=\"111\" y1=\"16\" x2=\"111\" y2=\"136\" style=\"stroke-width:2\" />\n",
       "\n",
       "  <!-- Colored Rectangle -->\n",
       "  <polygon points=\"95.0,0.0 111.09712037591198,16.097120375911985 111.09712037591198,136.09712037591197 95.0,120.0\" style=\"fill:#8B4903A0;stroke-width:0\"/>\n",
       "\n",
       "  <!-- Horizontal lines -->\n",
       "  <line x1=\"95\" y1=\"0\" x2=\"120\" y2=\"0\" style=\"stroke-width:2\" />\n",
       "  <line x1=\"111\" y1=\"16\" x2=\"136\" y2=\"16\" style=\"stroke-width:2\" />\n",
       "\n",
       "  <!-- Vertical lines -->\n",
       "  <line x1=\"95\" y1=\"0\" x2=\"111\" y2=\"16\" style=\"stroke-width:2\" />\n",
       "  <line x1=\"120\" y1=\"0\" x2=\"136\" y2=\"16\" style=\"stroke-width:2\" />\n",
       "\n",
       "  <!-- Colored Rectangle -->\n",
       "  <polygon points=\"95.0,0.0 120.41261651458248,0.0 136.50973689049448,16.097120375911985 111.09712037591198,16.097120375911985\" style=\"fill:#ECB172A0;stroke-width:0\"/>\n",
       "\n",
       "  <!-- Horizontal lines -->\n",
       "  <line x1=\"111\" y1=\"16\" x2=\"136\" y2=\"16\" style=\"stroke-width:2\" />\n",
       "  <line x1=\"111\" y1=\"19\" x2=\"136\" y2=\"19\" />\n",
       "  <line x1=\"111\" y1=\"23\" x2=\"136\" y2=\"23\" />\n",
       "  <line x1=\"111\" y1=\"26\" x2=\"136\" y2=\"26\" />\n",
       "  <line x1=\"111\" y1=\"31\" x2=\"136\" y2=\"31\" />\n",
       "  <line x1=\"111\" y1=\"34\" x2=\"136\" y2=\"34\" />\n",
       "  <line x1=\"111\" y1=\"38\" x2=\"136\" y2=\"38\" />\n",
       "  <line x1=\"111\" y1=\"41\" x2=\"136\" y2=\"41\" />\n",
       "  <line x1=\"111\" y1=\"46\" x2=\"136\" y2=\"46\" />\n",
       "  <line x1=\"111\" y1=\"49\" x2=\"136\" y2=\"49\" />\n",
       "  <line x1=\"111\" y1=\"53\" x2=\"136\" y2=\"53\" />\n",
       "  <line x1=\"111\" y1=\"56\" x2=\"136\" y2=\"56\" />\n",
       "  <line x1=\"111\" y1=\"61\" x2=\"136\" y2=\"61\" />\n",
       "  <line x1=\"111\" y1=\"64\" x2=\"136\" y2=\"64\" />\n",
       "  <line x1=\"111\" y1=\"68\" x2=\"136\" y2=\"68\" />\n",
       "  <line x1=\"111\" y1=\"71\" x2=\"136\" y2=\"71\" />\n",
       "  <line x1=\"111\" y1=\"76\" x2=\"136\" y2=\"76\" />\n",
       "  <line x1=\"111\" y1=\"79\" x2=\"136\" y2=\"79\" />\n",
       "  <line x1=\"111\" y1=\"83\" x2=\"136\" y2=\"83\" />\n",
       "  <line x1=\"111\" y1=\"86\" x2=\"136\" y2=\"86\" />\n",
       "  <line x1=\"111\" y1=\"91\" x2=\"136\" y2=\"91\" />\n",
       "  <line x1=\"111\" y1=\"94\" x2=\"136\" y2=\"94\" />\n",
       "  <line x1=\"111\" y1=\"98\" x2=\"136\" y2=\"98\" />\n",
       "  <line x1=\"111\" y1=\"101\" x2=\"136\" y2=\"101\" />\n",
       "  <line x1=\"111\" y1=\"106\" x2=\"136\" y2=\"106\" />\n",
       "  <line x1=\"111\" y1=\"109\" x2=\"136\" y2=\"109\" />\n",
       "  <line x1=\"111\" y1=\"113\" x2=\"136\" y2=\"113\" />\n",
       "  <line x1=\"111\" y1=\"116\" x2=\"136\" y2=\"116\" />\n",
       "  <line x1=\"111\" y1=\"121\" x2=\"136\" y2=\"121\" />\n",
       "  <line x1=\"111\" y1=\"124\" x2=\"136\" y2=\"124\" />\n",
       "  <line x1=\"111\" y1=\"128\" x2=\"136\" y2=\"128\" />\n",
       "  <line x1=\"111\" y1=\"131\" x2=\"136\" y2=\"131\" />\n",
       "  <line x1=\"111\" y1=\"136\" x2=\"136\" y2=\"136\" style=\"stroke-width:2\" />\n",
       "\n",
       "  <!-- Vertical lines -->\n",
       "  <line x1=\"111\" y1=\"16\" x2=\"111\" y2=\"136\" style=\"stroke-width:2\" />\n",
       "  <line x1=\"136\" y1=\"16\" x2=\"136\" y2=\"136\" style=\"stroke-width:2\" />\n",
       "\n",
       "  <!-- Colored Rectangle -->\n",
       "  <polygon points=\"111.09712037591198,16.097120375911985 136.50973689049448,16.097120375911985 136.50973689049448,136.09712037591197 111.09712037591198,136.09712037591197\" style=\"fill:#8B4903A0;stroke-width:0\"/>\n",
       "\n",
       "  <!-- Text -->\n",
       "  <text x=\"123.803429\" y=\"156.097120\" font-size=\"1.0rem\" font-weight=\"100\" text-anchor=\"middle\" >4</text>\n",
       "  <text x=\"156.509737\" y=\"76.097120\" font-size=\"1.0rem\" font-weight=\"100\" text-anchor=\"middle\" transform=\"rotate(-90,156.509737,76.097120)\">4071</text>\n",
       "  <text x=\"93.048560\" y=\"148.048560\" font-size=\"1.0rem\" font-weight=\"100\" text-anchor=\"middle\" transform=\"rotate(45,93.048560,148.048560)\">60</text>\n",
       "</svg>\n",
       "        </td>\n",
       "    </tr>\n",
       "</table></div></li><li class='xr-var-item'><div class='xr-var-name'><span>z_sfc</span></div><div class='xr-var-dims'>(latitude, longitude, day, tod)</div><div class='xr-var-dtype'>float32</div><div class='xr-var-preview xr-preview'>dask.array&lt;chunksize=(26, 60, 30, 4), meta=np.ndarray&gt;</div><input id='attrs-9823bdb3-cc60-4fc9-8230-5ea6396aaac2' class='xr-var-attrs-in' type='checkbox' ><label for='attrs-9823bdb3-cc60-4fc9-8230-5ea6396aaac2' title='Show/Hide attributes'><svg class='icon xr-icon-file-text2'><use xlink:href='#icon-file-text2'></use></svg></label><input id='data-008f59fb-0451-4d0d-891f-0ce3af93d380' class='xr-var-data-in' type='checkbox'><label for='data-008f59fb-0451-4d0d-891f-0ce3af93d380' title='Show/Hide data repr'><svg class='icon xr-icon-database'><use xlink:href='#icon-database'></use></svg></label><div class='xr-var-attrs'><dl class='xr-attrs'><dt><span>GRIB_paramId :</span></dt><dd>129</dd><dt><span>GRIB_dataType :</span></dt><dd>an</dd><dt><span>GRIB_numberOfPoints :</span></dt><dd>23937</dd><dt><span>GRIB_typeOfLevel :</span></dt><dd>surface</dd><dt><span>GRIB_stepUnits :</span></dt><dd>1</dd><dt><span>GRIB_stepType :</span></dt><dd>instant</dd><dt><span>GRIB_gridType :</span></dt><dd>regular_ll</dd><dt><span>GRIB_uvRelativeToGrid :</span></dt><dd>0</dd><dt><span>GRIB_NV :</span></dt><dd>0</dd><dt><span>GRIB_Nx :</span></dt><dd>237</dd><dt><span>GRIB_Ny :</span></dt><dd>101</dd><dt><span>GRIB_cfName :</span></dt><dd>geopotential</dd><dt><span>GRIB_cfVarName :</span></dt><dd>z</dd><dt><span>GRIB_gridDefinitionDescription :</span></dt><dd>Latitude/Longitude Grid</dd><dt><span>GRIB_iDirectionIncrementInDegrees :</span></dt><dd>0.25</dd><dt><span>GRIB_iScansNegatively :</span></dt><dd>0</dd><dt><span>GRIB_jDirectionIncrementInDegrees :</span></dt><dd>0.25</dd><dt><span>GRIB_jPointsAreConsecutive :</span></dt><dd>0</dd><dt><span>GRIB_jScansPositively :</span></dt><dd>0</dd><dt><span>GRIB_latitudeOfFirstGridPointInDegrees :</span></dt><dd>50.0</dd><dt><span>GRIB_latitudeOfLastGridPointInDegrees :</span></dt><dd>25.0</dd><dt><span>GRIB_longitudeOfFirstGridPointInDegrees :</span></dt><dd>-125.0</dd><dt><span>GRIB_longitudeOfLastGridPointInDegrees :</span></dt><dd>-66.0</dd><dt><span>GRIB_missingValue :</span></dt><dd>3.4028234663852886e+38</dd><dt><span>GRIB_name :</span></dt><dd>Geopotential</dd><dt><span>GRIB_shortName :</span></dt><dd>z</dd><dt><span>GRIB_totalNumber :</span></dt><dd>0</dd><dt><span>GRIB_units :</span></dt><dd>m**2 s**-2</dd><dt><span>long_name :</span></dt><dd>Geopotential</dd><dt><span>units :</span></dt><dd>m**2 s**-2</dd><dt><span>standard_name :</span></dt><dd>geopotential</dd><dt><span>GRIB_surface :</span></dt><dd>0.0</dd></dl></div><div class='xr-var-data'><table>\n",
       "    <tr>\n",
       "        <td>\n",
       "            <table style=\"border-collapse: collapse;\">\n",
       "                <thead>\n",
       "                    <tr>\n",
       "                        <td> </td>\n",
       "                        <th> Array </th>\n",
       "                        <th> Chunk </th>\n",
       "                    </tr>\n",
       "                </thead>\n",
       "                <tbody>\n",
       "                    \n",
       "                    <tr>\n",
       "                        <th> Bytes </th>\n",
       "                        <td> 96.90 MiB </td>\n",
       "                        <td> 731.25 kiB </td>\n",
       "                    </tr>\n",
       "                    \n",
       "                    <tr>\n",
       "                        <th> Shape </th>\n",
       "                        <td> (26, 60, 4071, 4) </td>\n",
       "                        <td> (26, 60, 30, 4) </td>\n",
       "                    </tr>\n",
       "                    <tr>\n",
       "                        <th> Dask graph </th>\n",
       "                        <td colspan=\"2\"> 136 chunks in 524 graph layers </td>\n",
       "                    </tr>\n",
       "                    <tr>\n",
       "                        <th> Data type </th>\n",
       "                        <td colspan=\"2\"> float32 numpy.ndarray </td>\n",
       "                    </tr>\n",
       "                </tbody>\n",
       "            </table>\n",
       "        </td>\n",
       "        <td>\n",
       "        <svg width=\"281\" height=\"186\" style=\"stroke:rgb(0,0,0);stroke-width:1\" >\n",
       "\n",
       "  <!-- Horizontal lines -->\n",
       "  <line x1=\"0\" y1=\"0\" x2=\"25\" y2=\"0\" style=\"stroke-width:2\" />\n",
       "  <line x1=\"0\" y1=\"25\" x2=\"25\" y2=\"25\" style=\"stroke-width:2\" />\n",
       "\n",
       "  <!-- Vertical lines -->\n",
       "  <line x1=\"0\" y1=\"0\" x2=\"0\" y2=\"25\" style=\"stroke-width:2\" />\n",
       "  <line x1=\"25\" y1=\"0\" x2=\"25\" y2=\"25\" style=\"stroke-width:2\" />\n",
       "\n",
       "  <!-- Colored Rectangle -->\n",
       "  <polygon points=\"0.0,0.0 25.412616514582485,0.0 25.412616514582485,25.412616514582485 0.0,25.412616514582485\" style=\"fill:#ECB172A0;stroke-width:0\"/>\n",
       "\n",
       "  <!-- Text -->\n",
       "  <text x=\"12.706308\" y=\"45.412617\" font-size=\"1.0rem\" font-weight=\"100\" text-anchor=\"middle\" >26</text>\n",
       "  <text x=\"45.412617\" y=\"12.706308\" font-size=\"1.0rem\" font-weight=\"100\" text-anchor=\"middle\" transform=\"rotate(0,45.412617,12.706308)\">1</text>\n",
       "\n",
       "\n",
       "  <!-- Horizontal lines -->\n",
       "  <line x1=\"95\" y1=\"0\" x2=\"111\" y2=\"16\" style=\"stroke-width:2\" />\n",
       "  <line x1=\"95\" y1=\"3\" x2=\"111\" y2=\"19\" />\n",
       "  <line x1=\"95\" y1=\"7\" x2=\"111\" y2=\"23\" />\n",
       "  <line x1=\"95\" y1=\"10\" x2=\"111\" y2=\"26\" />\n",
       "  <line x1=\"95\" y1=\"15\" x2=\"111\" y2=\"31\" />\n",
       "  <line x1=\"95\" y1=\"18\" x2=\"111\" y2=\"34\" />\n",
       "  <line x1=\"95\" y1=\"22\" x2=\"111\" y2=\"38\" />\n",
       "  <line x1=\"95\" y1=\"25\" x2=\"111\" y2=\"41\" />\n",
       "  <line x1=\"95\" y1=\"30\" x2=\"111\" y2=\"46\" />\n",
       "  <line x1=\"95\" y1=\"33\" x2=\"111\" y2=\"49\" />\n",
       "  <line x1=\"95\" y1=\"37\" x2=\"111\" y2=\"53\" />\n",
       "  <line x1=\"95\" y1=\"40\" x2=\"111\" y2=\"56\" />\n",
       "  <line x1=\"95\" y1=\"45\" x2=\"111\" y2=\"61\" />\n",
       "  <line x1=\"95\" y1=\"48\" x2=\"111\" y2=\"64\" />\n",
       "  <line x1=\"95\" y1=\"52\" x2=\"111\" y2=\"68\" />\n",
       "  <line x1=\"95\" y1=\"55\" x2=\"111\" y2=\"71\" />\n",
       "  <line x1=\"95\" y1=\"60\" x2=\"111\" y2=\"76\" />\n",
       "  <line x1=\"95\" y1=\"63\" x2=\"111\" y2=\"79\" />\n",
       "  <line x1=\"95\" y1=\"67\" x2=\"111\" y2=\"83\" />\n",
       "  <line x1=\"95\" y1=\"70\" x2=\"111\" y2=\"86\" />\n",
       "  <line x1=\"95\" y1=\"75\" x2=\"111\" y2=\"91\" />\n",
       "  <line x1=\"95\" y1=\"78\" x2=\"111\" y2=\"94\" />\n",
       "  <line x1=\"95\" y1=\"82\" x2=\"111\" y2=\"98\" />\n",
       "  <line x1=\"95\" y1=\"85\" x2=\"111\" y2=\"101\" />\n",
       "  <line x1=\"95\" y1=\"90\" x2=\"111\" y2=\"106\" />\n",
       "  <line x1=\"95\" y1=\"93\" x2=\"111\" y2=\"109\" />\n",
       "  <line x1=\"95\" y1=\"97\" x2=\"111\" y2=\"113\" />\n",
       "  <line x1=\"95\" y1=\"100\" x2=\"111\" y2=\"116\" />\n",
       "  <line x1=\"95\" y1=\"105\" x2=\"111\" y2=\"121\" />\n",
       "  <line x1=\"95\" y1=\"108\" x2=\"111\" y2=\"124\" />\n",
       "  <line x1=\"95\" y1=\"112\" x2=\"111\" y2=\"128\" />\n",
       "  <line x1=\"95\" y1=\"115\" x2=\"111\" y2=\"131\" />\n",
       "  <line x1=\"95\" y1=\"120\" x2=\"111\" y2=\"136\" style=\"stroke-width:2\" />\n",
       "\n",
       "  <!-- Vertical lines -->\n",
       "  <line x1=\"95\" y1=\"0\" x2=\"95\" y2=\"120\" style=\"stroke-width:2\" />\n",
       "  <line x1=\"111\" y1=\"16\" x2=\"111\" y2=\"136\" style=\"stroke-width:2\" />\n",
       "\n",
       "  <!-- Colored Rectangle -->\n",
       "  <polygon points=\"95.0,0.0 111.09712037591198,16.097120375911985 111.09712037591198,136.09712037591197 95.0,120.0\" style=\"fill:#8B4903A0;stroke-width:0\"/>\n",
       "\n",
       "  <!-- Horizontal lines -->\n",
       "  <line x1=\"95\" y1=\"0\" x2=\"120\" y2=\"0\" style=\"stroke-width:2\" />\n",
       "  <line x1=\"111\" y1=\"16\" x2=\"136\" y2=\"16\" style=\"stroke-width:2\" />\n",
       "\n",
       "  <!-- Vertical lines -->\n",
       "  <line x1=\"95\" y1=\"0\" x2=\"111\" y2=\"16\" style=\"stroke-width:2\" />\n",
       "  <line x1=\"120\" y1=\"0\" x2=\"136\" y2=\"16\" style=\"stroke-width:2\" />\n",
       "\n",
       "  <!-- Colored Rectangle -->\n",
       "  <polygon points=\"95.0,0.0 120.41261651458248,0.0 136.50973689049448,16.097120375911985 111.09712037591198,16.097120375911985\" style=\"fill:#ECB172A0;stroke-width:0\"/>\n",
       "\n",
       "  <!-- Horizontal lines -->\n",
       "  <line x1=\"111\" y1=\"16\" x2=\"136\" y2=\"16\" style=\"stroke-width:2\" />\n",
       "  <line x1=\"111\" y1=\"19\" x2=\"136\" y2=\"19\" />\n",
       "  <line x1=\"111\" y1=\"23\" x2=\"136\" y2=\"23\" />\n",
       "  <line x1=\"111\" y1=\"26\" x2=\"136\" y2=\"26\" />\n",
       "  <line x1=\"111\" y1=\"31\" x2=\"136\" y2=\"31\" />\n",
       "  <line x1=\"111\" y1=\"34\" x2=\"136\" y2=\"34\" />\n",
       "  <line x1=\"111\" y1=\"38\" x2=\"136\" y2=\"38\" />\n",
       "  <line x1=\"111\" y1=\"41\" x2=\"136\" y2=\"41\" />\n",
       "  <line x1=\"111\" y1=\"46\" x2=\"136\" y2=\"46\" />\n",
       "  <line x1=\"111\" y1=\"49\" x2=\"136\" y2=\"49\" />\n",
       "  <line x1=\"111\" y1=\"53\" x2=\"136\" y2=\"53\" />\n",
       "  <line x1=\"111\" y1=\"56\" x2=\"136\" y2=\"56\" />\n",
       "  <line x1=\"111\" y1=\"61\" x2=\"136\" y2=\"61\" />\n",
       "  <line x1=\"111\" y1=\"64\" x2=\"136\" y2=\"64\" />\n",
       "  <line x1=\"111\" y1=\"68\" x2=\"136\" y2=\"68\" />\n",
       "  <line x1=\"111\" y1=\"71\" x2=\"136\" y2=\"71\" />\n",
       "  <line x1=\"111\" y1=\"76\" x2=\"136\" y2=\"76\" />\n",
       "  <line x1=\"111\" y1=\"79\" x2=\"136\" y2=\"79\" />\n",
       "  <line x1=\"111\" y1=\"83\" x2=\"136\" y2=\"83\" />\n",
       "  <line x1=\"111\" y1=\"86\" x2=\"136\" y2=\"86\" />\n",
       "  <line x1=\"111\" y1=\"91\" x2=\"136\" y2=\"91\" />\n",
       "  <line x1=\"111\" y1=\"94\" x2=\"136\" y2=\"94\" />\n",
       "  <line x1=\"111\" y1=\"98\" x2=\"136\" y2=\"98\" />\n",
       "  <line x1=\"111\" y1=\"101\" x2=\"136\" y2=\"101\" />\n",
       "  <line x1=\"111\" y1=\"106\" x2=\"136\" y2=\"106\" />\n",
       "  <line x1=\"111\" y1=\"109\" x2=\"136\" y2=\"109\" />\n",
       "  <line x1=\"111\" y1=\"113\" x2=\"136\" y2=\"113\" />\n",
       "  <line x1=\"111\" y1=\"116\" x2=\"136\" y2=\"116\" />\n",
       "  <line x1=\"111\" y1=\"121\" x2=\"136\" y2=\"121\" />\n",
       "  <line x1=\"111\" y1=\"124\" x2=\"136\" y2=\"124\" />\n",
       "  <line x1=\"111\" y1=\"128\" x2=\"136\" y2=\"128\" />\n",
       "  <line x1=\"111\" y1=\"131\" x2=\"136\" y2=\"131\" />\n",
       "  <line x1=\"111\" y1=\"136\" x2=\"136\" y2=\"136\" style=\"stroke-width:2\" />\n",
       "\n",
       "  <!-- Vertical lines -->\n",
       "  <line x1=\"111\" y1=\"16\" x2=\"111\" y2=\"136\" style=\"stroke-width:2\" />\n",
       "  <line x1=\"136\" y1=\"16\" x2=\"136\" y2=\"136\" style=\"stroke-width:2\" />\n",
       "\n",
       "  <!-- Colored Rectangle -->\n",
       "  <polygon points=\"111.09712037591198,16.097120375911985 136.50973689049448,16.097120375911985 136.50973689049448,136.09712037591197 111.09712037591198,136.09712037591197\" style=\"fill:#8B4903A0;stroke-width:0\"/>\n",
       "\n",
       "  <!-- Text -->\n",
       "  <text x=\"123.803429\" y=\"156.097120\" font-size=\"1.0rem\" font-weight=\"100\" text-anchor=\"middle\" >4</text>\n",
       "  <text x=\"156.509737\" y=\"76.097120\" font-size=\"1.0rem\" font-weight=\"100\" text-anchor=\"middle\" transform=\"rotate(-90,156.509737,76.097120)\">4071</text>\n",
       "  <text x=\"93.048560\" y=\"148.048560\" font-size=\"1.0rem\" font-weight=\"100\" text-anchor=\"middle\" transform=\"rotate(45,93.048560,148.048560)\">60</text>\n",
       "</svg>\n",
       "        </td>\n",
       "    </tr>\n",
       "</table></div></li><li class='xr-var-item'><div class='xr-var-name'><span>tisr</span></div><div class='xr-var-dims'>(latitude, longitude, day, tod)</div><div class='xr-var-dtype'>float32</div><div class='xr-var-preview xr-preview'>dask.array&lt;chunksize=(26, 60, 30, 4), meta=np.ndarray&gt;</div><input id='attrs-0bc4e0cc-37f4-49d6-a094-c186ae8c4b98' class='xr-var-attrs-in' type='checkbox' ><label for='attrs-0bc4e0cc-37f4-49d6-a094-c186ae8c4b98' title='Show/Hide attributes'><svg class='icon xr-icon-file-text2'><use xlink:href='#icon-file-text2'></use></svg></label><input id='data-be14c2b8-afc7-4ec8-9ce5-54ee5fa2fb2f' class='xr-var-data-in' type='checkbox'><label for='data-be14c2b8-afc7-4ec8-9ce5-54ee5fa2fb2f' title='Show/Hide data repr'><svg class='icon xr-icon-database'><use xlink:href='#icon-database'></use></svg></label><div class='xr-var-attrs'><dl class='xr-attrs'><dt><span>GRIB_paramId :</span></dt><dd>212</dd><dt><span>GRIB_dataType :</span></dt><dd>fc</dd><dt><span>GRIB_numberOfPoints :</span></dt><dd>23937</dd><dt><span>GRIB_typeOfLevel :</span></dt><dd>surface</dd><dt><span>GRIB_stepUnits :</span></dt><dd>1</dd><dt><span>GRIB_stepType :</span></dt><dd>accum</dd><dt><span>GRIB_gridType :</span></dt><dd>regular_ll</dd><dt><span>GRIB_uvRelativeToGrid :</span></dt><dd>0</dd><dt><span>GRIB_NV :</span></dt><dd>0</dd><dt><span>GRIB_Nx :</span></dt><dd>237</dd><dt><span>GRIB_Ny :</span></dt><dd>101</dd><dt><span>GRIB_cfName :</span></dt><dd>unknown</dd><dt><span>GRIB_cfVarName :</span></dt><dd>tisr</dd><dt><span>GRIB_gridDefinitionDescription :</span></dt><dd>Latitude/Longitude Grid</dd><dt><span>GRIB_iDirectionIncrementInDegrees :</span></dt><dd>0.25</dd><dt><span>GRIB_iScansNegatively :</span></dt><dd>0</dd><dt><span>GRIB_jDirectionIncrementInDegrees :</span></dt><dd>0.25</dd><dt><span>GRIB_jPointsAreConsecutive :</span></dt><dd>0</dd><dt><span>GRIB_jScansPositively :</span></dt><dd>0</dd><dt><span>GRIB_latitudeOfFirstGridPointInDegrees :</span></dt><dd>50.0</dd><dt><span>GRIB_latitudeOfLastGridPointInDegrees :</span></dt><dd>25.0</dd><dt><span>GRIB_longitudeOfFirstGridPointInDegrees :</span></dt><dd>-125.0</dd><dt><span>GRIB_longitudeOfLastGridPointInDegrees :</span></dt><dd>-66.0</dd><dt><span>GRIB_missingValue :</span></dt><dd>3.4028234663852886e+38</dd><dt><span>GRIB_name :</span></dt><dd>TOA incident short-wave (solar) radiation</dd><dt><span>GRIB_shortName :</span></dt><dd>tisr</dd><dt><span>GRIB_totalNumber :</span></dt><dd>0</dd><dt><span>GRIB_units :</span></dt><dd>J m**-2</dd><dt><span>long_name :</span></dt><dd>TOA incident short-wave (solar) radiation</dd><dt><span>units :</span></dt><dd>J m**-2</dd><dt><span>standard_name :</span></dt><dd>unknown</dd><dt><span>GRIB_surface :</span></dt><dd>0.0</dd></dl></div><div class='xr-var-data'><table>\n",
       "    <tr>\n",
       "        <td>\n",
       "            <table style=\"border-collapse: collapse;\">\n",
       "                <thead>\n",
       "                    <tr>\n",
       "                        <td> </td>\n",
       "                        <th> Array </th>\n",
       "                        <th> Chunk </th>\n",
       "                    </tr>\n",
       "                </thead>\n",
       "                <tbody>\n",
       "                    \n",
       "                    <tr>\n",
       "                        <th> Bytes </th>\n",
       "                        <td> 96.90 MiB </td>\n",
       "                        <td> 731.25 kiB </td>\n",
       "                    </tr>\n",
       "                    \n",
       "                    <tr>\n",
       "                        <th> Shape </th>\n",
       "                        <td> (26, 60, 4071, 4) </td>\n",
       "                        <td> (26, 60, 30, 4) </td>\n",
       "                    </tr>\n",
       "                    <tr>\n",
       "                        <th> Dask graph </th>\n",
       "                        <td colspan=\"2\"> 136 chunks in 524 graph layers </td>\n",
       "                    </tr>\n",
       "                    <tr>\n",
       "                        <th> Data type </th>\n",
       "                        <td colspan=\"2\"> float32 numpy.ndarray </td>\n",
       "                    </tr>\n",
       "                </tbody>\n",
       "            </table>\n",
       "        </td>\n",
       "        <td>\n",
       "        <svg width=\"281\" height=\"186\" style=\"stroke:rgb(0,0,0);stroke-width:1\" >\n",
       "\n",
       "  <!-- Horizontal lines -->\n",
       "  <line x1=\"0\" y1=\"0\" x2=\"25\" y2=\"0\" style=\"stroke-width:2\" />\n",
       "  <line x1=\"0\" y1=\"25\" x2=\"25\" y2=\"25\" style=\"stroke-width:2\" />\n",
       "\n",
       "  <!-- Vertical lines -->\n",
       "  <line x1=\"0\" y1=\"0\" x2=\"0\" y2=\"25\" style=\"stroke-width:2\" />\n",
       "  <line x1=\"25\" y1=\"0\" x2=\"25\" y2=\"25\" style=\"stroke-width:2\" />\n",
       "\n",
       "  <!-- Colored Rectangle -->\n",
       "  <polygon points=\"0.0,0.0 25.412616514582485,0.0 25.412616514582485,25.412616514582485 0.0,25.412616514582485\" style=\"fill:#ECB172A0;stroke-width:0\"/>\n",
       "\n",
       "  <!-- Text -->\n",
       "  <text x=\"12.706308\" y=\"45.412617\" font-size=\"1.0rem\" font-weight=\"100\" text-anchor=\"middle\" >26</text>\n",
       "  <text x=\"45.412617\" y=\"12.706308\" font-size=\"1.0rem\" font-weight=\"100\" text-anchor=\"middle\" transform=\"rotate(0,45.412617,12.706308)\">1</text>\n",
       "\n",
       "\n",
       "  <!-- Horizontal lines -->\n",
       "  <line x1=\"95\" y1=\"0\" x2=\"111\" y2=\"16\" style=\"stroke-width:2\" />\n",
       "  <line x1=\"95\" y1=\"3\" x2=\"111\" y2=\"19\" />\n",
       "  <line x1=\"95\" y1=\"7\" x2=\"111\" y2=\"23\" />\n",
       "  <line x1=\"95\" y1=\"10\" x2=\"111\" y2=\"26\" />\n",
       "  <line x1=\"95\" y1=\"15\" x2=\"111\" y2=\"31\" />\n",
       "  <line x1=\"95\" y1=\"18\" x2=\"111\" y2=\"34\" />\n",
       "  <line x1=\"95\" y1=\"22\" x2=\"111\" y2=\"38\" />\n",
       "  <line x1=\"95\" y1=\"25\" x2=\"111\" y2=\"41\" />\n",
       "  <line x1=\"95\" y1=\"30\" x2=\"111\" y2=\"46\" />\n",
       "  <line x1=\"95\" y1=\"33\" x2=\"111\" y2=\"49\" />\n",
       "  <line x1=\"95\" y1=\"37\" x2=\"111\" y2=\"53\" />\n",
       "  <line x1=\"95\" y1=\"40\" x2=\"111\" y2=\"56\" />\n",
       "  <line x1=\"95\" y1=\"45\" x2=\"111\" y2=\"61\" />\n",
       "  <line x1=\"95\" y1=\"48\" x2=\"111\" y2=\"64\" />\n",
       "  <line x1=\"95\" y1=\"52\" x2=\"111\" y2=\"68\" />\n",
       "  <line x1=\"95\" y1=\"55\" x2=\"111\" y2=\"71\" />\n",
       "  <line x1=\"95\" y1=\"60\" x2=\"111\" y2=\"76\" />\n",
       "  <line x1=\"95\" y1=\"63\" x2=\"111\" y2=\"79\" />\n",
       "  <line x1=\"95\" y1=\"67\" x2=\"111\" y2=\"83\" />\n",
       "  <line x1=\"95\" y1=\"70\" x2=\"111\" y2=\"86\" />\n",
       "  <line x1=\"95\" y1=\"75\" x2=\"111\" y2=\"91\" />\n",
       "  <line x1=\"95\" y1=\"78\" x2=\"111\" y2=\"94\" />\n",
       "  <line x1=\"95\" y1=\"82\" x2=\"111\" y2=\"98\" />\n",
       "  <line x1=\"95\" y1=\"85\" x2=\"111\" y2=\"101\" />\n",
       "  <line x1=\"95\" y1=\"90\" x2=\"111\" y2=\"106\" />\n",
       "  <line x1=\"95\" y1=\"93\" x2=\"111\" y2=\"109\" />\n",
       "  <line x1=\"95\" y1=\"97\" x2=\"111\" y2=\"113\" />\n",
       "  <line x1=\"95\" y1=\"100\" x2=\"111\" y2=\"116\" />\n",
       "  <line x1=\"95\" y1=\"105\" x2=\"111\" y2=\"121\" />\n",
       "  <line x1=\"95\" y1=\"108\" x2=\"111\" y2=\"124\" />\n",
       "  <line x1=\"95\" y1=\"112\" x2=\"111\" y2=\"128\" />\n",
       "  <line x1=\"95\" y1=\"115\" x2=\"111\" y2=\"131\" />\n",
       "  <line x1=\"95\" y1=\"120\" x2=\"111\" y2=\"136\" style=\"stroke-width:2\" />\n",
       "\n",
       "  <!-- Vertical lines -->\n",
       "  <line x1=\"95\" y1=\"0\" x2=\"95\" y2=\"120\" style=\"stroke-width:2\" />\n",
       "  <line x1=\"111\" y1=\"16\" x2=\"111\" y2=\"136\" style=\"stroke-width:2\" />\n",
       "\n",
       "  <!-- Colored Rectangle -->\n",
       "  <polygon points=\"95.0,0.0 111.09712037591198,16.097120375911985 111.09712037591198,136.09712037591197 95.0,120.0\" style=\"fill:#8B4903A0;stroke-width:0\"/>\n",
       "\n",
       "  <!-- Horizontal lines -->\n",
       "  <line x1=\"95\" y1=\"0\" x2=\"120\" y2=\"0\" style=\"stroke-width:2\" />\n",
       "  <line x1=\"111\" y1=\"16\" x2=\"136\" y2=\"16\" style=\"stroke-width:2\" />\n",
       "\n",
       "  <!-- Vertical lines -->\n",
       "  <line x1=\"95\" y1=\"0\" x2=\"111\" y2=\"16\" style=\"stroke-width:2\" />\n",
       "  <line x1=\"120\" y1=\"0\" x2=\"136\" y2=\"16\" style=\"stroke-width:2\" />\n",
       "\n",
       "  <!-- Colored Rectangle -->\n",
       "  <polygon points=\"95.0,0.0 120.41261651458248,0.0 136.50973689049448,16.097120375911985 111.09712037591198,16.097120375911985\" style=\"fill:#ECB172A0;stroke-width:0\"/>\n",
       "\n",
       "  <!-- Horizontal lines -->\n",
       "  <line x1=\"111\" y1=\"16\" x2=\"136\" y2=\"16\" style=\"stroke-width:2\" />\n",
       "  <line x1=\"111\" y1=\"19\" x2=\"136\" y2=\"19\" />\n",
       "  <line x1=\"111\" y1=\"23\" x2=\"136\" y2=\"23\" />\n",
       "  <line x1=\"111\" y1=\"26\" x2=\"136\" y2=\"26\" />\n",
       "  <line x1=\"111\" y1=\"31\" x2=\"136\" y2=\"31\" />\n",
       "  <line x1=\"111\" y1=\"34\" x2=\"136\" y2=\"34\" />\n",
       "  <line x1=\"111\" y1=\"38\" x2=\"136\" y2=\"38\" />\n",
       "  <line x1=\"111\" y1=\"41\" x2=\"136\" y2=\"41\" />\n",
       "  <line x1=\"111\" y1=\"46\" x2=\"136\" y2=\"46\" />\n",
       "  <line x1=\"111\" y1=\"49\" x2=\"136\" y2=\"49\" />\n",
       "  <line x1=\"111\" y1=\"53\" x2=\"136\" y2=\"53\" />\n",
       "  <line x1=\"111\" y1=\"56\" x2=\"136\" y2=\"56\" />\n",
       "  <line x1=\"111\" y1=\"61\" x2=\"136\" y2=\"61\" />\n",
       "  <line x1=\"111\" y1=\"64\" x2=\"136\" y2=\"64\" />\n",
       "  <line x1=\"111\" y1=\"68\" x2=\"136\" y2=\"68\" />\n",
       "  <line x1=\"111\" y1=\"71\" x2=\"136\" y2=\"71\" />\n",
       "  <line x1=\"111\" y1=\"76\" x2=\"136\" y2=\"76\" />\n",
       "  <line x1=\"111\" y1=\"79\" x2=\"136\" y2=\"79\" />\n",
       "  <line x1=\"111\" y1=\"83\" x2=\"136\" y2=\"83\" />\n",
       "  <line x1=\"111\" y1=\"86\" x2=\"136\" y2=\"86\" />\n",
       "  <line x1=\"111\" y1=\"91\" x2=\"136\" y2=\"91\" />\n",
       "  <line x1=\"111\" y1=\"94\" x2=\"136\" y2=\"94\" />\n",
       "  <line x1=\"111\" y1=\"98\" x2=\"136\" y2=\"98\" />\n",
       "  <line x1=\"111\" y1=\"101\" x2=\"136\" y2=\"101\" />\n",
       "  <line x1=\"111\" y1=\"106\" x2=\"136\" y2=\"106\" />\n",
       "  <line x1=\"111\" y1=\"109\" x2=\"136\" y2=\"109\" />\n",
       "  <line x1=\"111\" y1=\"113\" x2=\"136\" y2=\"113\" />\n",
       "  <line x1=\"111\" y1=\"116\" x2=\"136\" y2=\"116\" />\n",
       "  <line x1=\"111\" y1=\"121\" x2=\"136\" y2=\"121\" />\n",
       "  <line x1=\"111\" y1=\"124\" x2=\"136\" y2=\"124\" />\n",
       "  <line x1=\"111\" y1=\"128\" x2=\"136\" y2=\"128\" />\n",
       "  <line x1=\"111\" y1=\"131\" x2=\"136\" y2=\"131\" />\n",
       "  <line x1=\"111\" y1=\"136\" x2=\"136\" y2=\"136\" style=\"stroke-width:2\" />\n",
       "\n",
       "  <!-- Vertical lines -->\n",
       "  <line x1=\"111\" y1=\"16\" x2=\"111\" y2=\"136\" style=\"stroke-width:2\" />\n",
       "  <line x1=\"136\" y1=\"16\" x2=\"136\" y2=\"136\" style=\"stroke-width:2\" />\n",
       "\n",
       "  <!-- Colored Rectangle -->\n",
       "  <polygon points=\"111.09712037591198,16.097120375911985 136.50973689049448,16.097120375911985 136.50973689049448,136.09712037591197 111.09712037591198,136.09712037591197\" style=\"fill:#8B4903A0;stroke-width:0\"/>\n",
       "\n",
       "  <!-- Text -->\n",
       "  <text x=\"123.803429\" y=\"156.097120\" font-size=\"1.0rem\" font-weight=\"100\" text-anchor=\"middle\" >4</text>\n",
       "  <text x=\"156.509737\" y=\"76.097120\" font-size=\"1.0rem\" font-weight=\"100\" text-anchor=\"middle\" transform=\"rotate(-90,156.509737,76.097120)\">4071</text>\n",
       "  <text x=\"93.048560\" y=\"148.048560\" font-size=\"1.0rem\" font-weight=\"100\" text-anchor=\"middle\" transform=\"rotate(45,93.048560,148.048560)\">60</text>\n",
       "</svg>\n",
       "        </td>\n",
       "    </tr>\n",
       "</table></div></li></ul></div></li><li class='xr-section-item'><input id='section-7f6e85e6-40e6-4de9-8c81-716bff539bae' class='xr-section-summary-in' type='checkbox'  ><label for='section-7f6e85e6-40e6-4de9-8c81-716bff539bae' class='xr-section-summary' >Indexes: <span>(5)</span></label><div class='xr-section-inline-details'></div><div class='xr-section-details'><ul class='xr-var-list'><li class='xr-var-item'><div class='xr-index-name'><div>level</div></div><div class='xr-index-preview'>PandasIndex</div><div></div><input id='index-eb9d8baa-2163-4987-8525-934d3fd750f6' class='xr-index-data-in' type='checkbox'/><label for='index-eb9d8baa-2163-4987-8525-934d3fd750f6' title='Show/Hide index repr'><svg class='icon xr-icon-database'><use xlink:href='#icon-database'></use></svg></label><div class='xr-index-data'><pre>PandasIndex(Index([925.0, 850.0, 700.0, 500.0, 300.0], dtype=&#x27;float64&#x27;, name=&#x27;level&#x27;))</pre></div></li><li class='xr-var-item'><div class='xr-index-name'><div>latitude</div></div><div class='xr-index-preview'>PandasIndex</div><div></div><input id='index-cfca03ee-012f-465f-ab31-0e122eeaa1da' class='xr-index-data-in' type='checkbox'/><label for='index-cfca03ee-012f-465f-ab31-0e122eeaa1da' title='Show/Hide index repr'><svg class='icon xr-icon-database'><use xlink:href='#icon-database'></use></svg></label><div class='xr-index-data'><pre>PandasIndex(Index([50.0, 49.0, 48.0, 47.0, 46.0, 45.0, 44.0, 43.0, 42.0, 41.0, 40.0, 39.0,\n",
       "       38.0, 37.0, 36.0, 35.0, 34.0, 33.0, 32.0, 31.0, 30.0, 29.0, 28.0, 27.0,\n",
       "       26.0, 25.0],\n",
       "      dtype=&#x27;float64&#x27;, name=&#x27;latitude&#x27;))</pre></div></li><li class='xr-var-item'><div class='xr-index-name'><div>longitude</div></div><div class='xr-index-preview'>PandasIndex</div><div></div><input id='index-23a5002c-72dd-404b-b39e-155953d1a81b' class='xr-index-data-in' type='checkbox'/><label for='index-23a5002c-72dd-404b-b39e-155953d1a81b' title='Show/Hide index repr'><svg class='icon xr-icon-database'><use xlink:href='#icon-database'></use></svg></label><div class='xr-index-data'><pre>PandasIndex(Index([-125.0, -124.0, -123.0, -122.0, -121.0, -120.0, -119.0, -118.0, -117.0,\n",
       "       -116.0, -115.0, -114.0, -113.0, -112.0, -111.0, -110.0, -109.0, -108.0,\n",
       "       -107.0, -106.0, -105.0, -104.0, -103.0, -102.0, -101.0, -100.0,  -99.0,\n",
       "        -98.0,  -97.0,  -96.0,  -95.0,  -94.0,  -93.0,  -92.0,  -91.0,  -90.0,\n",
       "        -89.0,  -88.0,  -87.0,  -86.0,  -85.0,  -84.0,  -83.0,  -82.0,  -81.0,\n",
       "        -80.0,  -79.0,  -78.0,  -77.0,  -76.0,  -75.0,  -74.0,  -73.0,  -72.0,\n",
       "        -71.0,  -70.0,  -69.0,  -68.0,  -67.0,  -66.0],\n",
       "      dtype=&#x27;float64&#x27;, name=&#x27;longitude&#x27;))</pre></div></li><li class='xr-var-item'><div class='xr-index-name'><div>day</div></div><div class='xr-index-preview'>PandasIndex</div><div></div><input id='index-0803cf7a-3ea6-4c55-b556-6094d301abab' class='xr-index-data-in' type='checkbox'/><label for='index-0803cf7a-3ea6-4c55-b556-6094d301abab' title='Show/Hide index repr'><svg class='icon xr-icon-database'><use xlink:href='#icon-database'></use></svg></label><div class='xr-index-data'><pre>PandasIndex(DatetimeIndex([&#x27;2002-04-02&#x27;, &#x27;2002-04-03&#x27;, &#x27;2002-04-06&#x27;, &#x27;2002-04-07&#x27;,\n",
       "               &#x27;2002-04-08&#x27;, &#x27;2002-04-11&#x27;, &#x27;2002-04-12&#x27;, &#x27;2002-04-13&#x27;,\n",
       "               &#x27;2002-04-15&#x27;, &#x27;2002-04-16&#x27;,\n",
       "               ...\n",
       "               &#x27;2023-10-11&#x27;, &#x27;2023-10-12&#x27;, &#x27;2023-11-20&#x27;, &#x27;2023-11-21&#x27;,\n",
       "               &#x27;2023-11-30&#x27;, &#x27;2023-12-02&#x27;, &#x27;2023-12-09&#x27;, &#x27;2023-12-10&#x27;,\n",
       "               &#x27;2023-12-16&#x27;, &#x27;2023-12-17&#x27;],\n",
       "              dtype=&#x27;datetime64[ns]&#x27;, name=&#x27;day&#x27;, length=4071, freq=None))</pre></div></li><li class='xr-var-item'><div class='xr-index-name'><div>tod</div></div><div class='xr-index-preview'>PandasIndex</div><div></div><input id='index-33ef95d3-82e5-4016-8f77-c9eb8b2f1919' class='xr-index-data-in' type='checkbox'/><label for='index-33ef95d3-82e5-4016-8f77-c9eb8b2f1919' title='Show/Hide index repr'><svg class='icon xr-icon-database'><use xlink:href='#icon-database'></use></svg></label><div class='xr-index-data'><pre>PandasIndex(Index([0, 6, 12, 18], dtype=&#x27;int64&#x27;, name=&#x27;tod&#x27;))</pre></div></li></ul></div></li><li class='xr-section-item'><input id='section-560486a0-f5e9-44ec-bef9-6f173e3f9d39' class='xr-section-summary-in' type='checkbox'  checked><label for='section-560486a0-f5e9-44ec-bef9-6f173e3f9d39' class='xr-section-summary' >Attributes: <span>(6)</span></label><div class='xr-section-inline-details'></div><div class='xr-section-details'><dl class='xr-attrs'><dt><span>GRIB_centre :</span></dt><dd>ecmf</dd><dt><span>GRIB_centreDescription :</span></dt><dd>European Centre for Medium-Range Weather Forecasts</dd><dt><span>GRIB_subCentre :</span></dt><dd>0</dd><dt><span>Conventions :</span></dt><dd>CF-1.7</dd><dt><span>institution :</span></dt><dd>European Centre for Medium-Range Weather Forecasts</dd><dt><span>history :</span></dt><dd>2025-08-17T05:24 GRIB to CDM+CF via cfgrib-0.9.15.0/ecCodes-2.42.0 with {&quot;source&quot;: &quot;tmpgybtjls8/data.grib&quot;, &quot;filter_by_keys&quot;: {&quot;stream&quot;: [&quot;oper&quot;], &quot;stepType&quot;: [&quot;instant&quot;]}, &quot;encode_cf&quot;: [&quot;parameter&quot;, &quot;time&quot;, &quot;geography&quot;, &quot;vertical&quot;]}</dd></dl></div></li></ul></div></div>"
      ],
      "text/plain": [
       "<xarray.Dataset> Size: 4GB\n",
       "Dimensions:    (day: 4071, tod: 4, level: 5, latitude: 26, longitude: 60)\n",
       "Coordinates:\n",
       "  * day        (day) datetime64[ns] 33kB 2002-04-02 2002-04-03 ... 2023-12-17\n",
       "  * tod        (tod) int64 32B 0 6 12 18\n",
       "  * level      (level) float64 40B 925.0 850.0 700.0 500.0 300.0\n",
       "  * latitude   (latitude) float64 208B 50.0 49.0 48.0 47.0 ... 27.0 26.0 25.0\n",
       "  * longitude  (longitude) float64 480B -125.0 -124.0 -123.0 ... -67.0 -66.0\n",
       "Data variables: (12/13)\n",
       "    z          (level, latitude, longitude, day, tod) float32 508MB dask.array<chunksize=(3, 13, 30, 30, 4), meta=np.ndarray>\n",
       "    pv         (level, latitude, longitude, day, tod) float32 508MB dask.array<chunksize=(3, 13, 30, 30, 4), meta=np.ndarray>\n",
       "    q          (level, latitude, longitude, day, tod) float32 508MB dask.array<chunksize=(3, 13, 30, 30, 4), meta=np.ndarray>\n",
       "    t          (level, latitude, longitude, day, tod) float32 508MB dask.array<chunksize=(3, 13, 30, 30, 4), meta=np.ndarray>\n",
       "    u          (level, latitude, longitude, day, tod) float32 508MB dask.array<chunksize=(3, 13, 30, 30, 4), meta=np.ndarray>\n",
       "    v          (level, latitude, longitude, day, tod) float32 508MB dask.array<chunksize=(3, 13, 30, 30, 4), meta=np.ndarray>\n",
       "    ...         ...\n",
       "    u10        (latitude, longitude, day, tod) float32 102MB dask.array<chunksize=(26, 60, 30, 4), meta=np.ndarray>\n",
       "    v10        (latitude, longitude, day, tod) float32 102MB dask.array<chunksize=(26, 60, 30, 4), meta=np.ndarray>\n",
       "    d2m        (latitude, longitude, day, tod) float32 102MB dask.array<chunksize=(26, 60, 30, 4), meta=np.ndarray>\n",
       "    t2m        (latitude, longitude, day, tod) float32 102MB dask.array<chunksize=(26, 60, 30, 4), meta=np.ndarray>\n",
       "    z_sfc      (latitude, longitude, day, tod) float32 102MB dask.array<chunksize=(26, 60, 30, 4), meta=np.ndarray>\n",
       "    tisr       (latitude, longitude, day, tod) float32 102MB dask.array<chunksize=(26, 60, 30, 4), meta=np.ndarray>\n",
       "Attributes:\n",
       "    GRIB_centre:             ecmf\n",
       "    GRIB_centreDescription:  European Centre for Medium-Range Weather Forecasts\n",
       "    GRIB_subCentre:          0\n",
       "    Conventions:             CF-1.7\n",
       "    institution:             European Centre for Medium-Range Weather Forecasts\n",
       "    history:                 2025-08-17T05:24 GRIB to CDM+CF via cfgrib-0.9.1..."
      ]
     },
     "execution_count": 14,
     "metadata": {},
     "output_type": "execute_result"
    }
   ],
   "source": [
    "# subset exactly the selected days again (to be safe)\n",
    "time_days = ds.time.dt.floor(\"D\")\n",
    "ds = ds.sel(time=ds.time[np.isin(time_days, selected_days)])\n",
    "\n",
    "ds = ds.rename({\"pressure_level\": \"level\"})\n",
    "\n",
    "# add day/tod index, thin spatially\n",
    "ds = ds.assign_coords(day=ds.time.dt.floor(\"D\"), tod=ds.time.dt.hour)\n",
    "ds = ds.set_index(time=[\"day\", \"tod\"]).unstack(\"time\")\n",
    "\n",
    "ds = ds.drop_vars([\"time\"], errors=\"ignore\")\n",
    "\n",
    "ds = ds.thin({\"latitude\": space_thin_dict[detail], \"longitude\": space_thin_dict[detail]})\n",
    "\n",
    "# Rechunk so that day has uniform chunks\n",
    "ds = ds.chunk({\"day\": 30})\n",
    "ds"
   ]
  },
  {
   "cell_type": "code",
   "execution_count": 17,
   "id": "62d478b6-ab09-46f9-9b6e-f110ae167fdb",
   "metadata": {},
   "outputs": [
    {
     "data": {
      "text/plain": [
       "<xarray.backends.zarr.ZarrStore at 0x14fd3e5957c0>"
      ]
     },
     "execution_count": 17,
     "metadata": {},
     "output_type": "execute_result"
    }
   ],
   "source": [
    "ds.to_zarr(f\"/glade/work/milesep/convective_outlook_ml/inputs_raw_{detail}_cds.zarr\",\n",
    "           mode=\"w\", consolidated=True)"
   ]
  },
  {
   "cell_type": "code",
   "execution_count": 16,
   "id": "ddb7d7dd-7069-476f-a86b-4ea4738b7f3d",
   "metadata": {},
   "outputs": [
    {
     "name": "stdout",
     "output_type": "stream",
     "text": [
      "Estimated uncompressed size: 4.17 GB\n"
     ]
    }
   ],
   "source": [
    "def estimate_dataset_size_bytes(ds):\n",
    "    total_bytes = 0\n",
    "    for var in ds.data_vars.values():\n",
    "        if var.chunks is not None:\n",
    "            total_bytes += var.nbytes\n",
    "        else:\n",
    "            # Use 64-bit integers to avoid overflow\n",
    "            n_elements = np.prod(var.shape, dtype=np.int64)\n",
    "            dtype_size = np.dtype(var.dtype).itemsize\n",
    "            total_bytes += int(n_elements * dtype_size)\n",
    "    return total_bytes\n",
    "\n",
    "\n",
    "size_bytes = estimate_dataset_size_bytes(ds)\n",
    "print(f\"Estimated uncompressed size: {size_bytes / 1e9:.2f} GB\")"
   ]
  }
 ],
 "metadata": {
  "kernelspec": {
   "display_name": "Python [conda env:mlco]",
   "language": "python",
   "name": "conda-env-mlco-py"
  },
  "language_info": {
   "codemirror_mode": {
    "name": "ipython",
    "version": 3
   },
   "file_extension": ".py",
   "mimetype": "text/x-python",
   "name": "python",
   "nbconvert_exporter": "python",
   "pygments_lexer": "ipython3",
   "version": "3.11.9"
  }
 },
 "nbformat": 4,
 "nbformat_minor": 5
}
