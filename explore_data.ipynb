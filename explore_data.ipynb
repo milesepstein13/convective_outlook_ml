{
 "cells": [
  {
   "cell_type": "markdown",
   "id": "6b4103e6",
   "metadata": {},
   "source": [
    "Plotting disrtibutions of input variables, etc."
   ]
  },
  {
   "cell_type": "markdown",
   "id": "35f5c158",
   "metadata": {},
   "source": []
  }
 ],
 "metadata": {
  "language_info": {
   "name": "python"
  }
 },
 "nbformat": 4,
 "nbformat_minor": 5
}
