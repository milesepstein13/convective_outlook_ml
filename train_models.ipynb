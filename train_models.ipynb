{
 "cells": [
  {
   "cell_type": "markdown",
   "id": "6c87307c-c45a-40cd-a668-fb01cbb6b91c",
   "metadata": {},
   "source": [
    "This notebook will compare model architecture, hyperparameters, inputs, and training/validation error"
   ]
  },
  {
   "cell_type": "code",
   "execution_count": 1,
   "id": "f7640bc2-c69c-4959-9d04-e4bf91e1fc11",
   "metadata": {},
   "outputs": [],
   "source": [
    "from src.crossval import run_crossval\n",
    "import xarray as xr"
   ]
  },
  {
   "cell_type": "code",
   "execution_count": null,
   "id": "0bf77751",
   "metadata": {},
   "outputs": [],
   "source": [
    "level = \"small\"\n",
    "input_dir = \"data/processed_data\"\n",
    "target_dir = \"data/processed_data\"\n",
    "stats_dir = \"data/processed_data\""
   ]
  },
  {
   "cell_type": "code",
   "execution_count": null,
   "id": "5929fd05",
   "metadata": {},
   "outputs": [],
   "source": [
    "inputs = xr.open_zarr(f\"{input_dir}/train_inputs_{level}.zarr\")\n",
    "targets = xr.open_dataset(f\"{target_dir}/train_targets.nc\")\n",
    "stats = xr.open_dataset(f\"{stats_dir}/daily_input_stats_{level}.nc\")"
   ]
  },
  {
   "cell_type": "code",
   "execution_count": null,
   "id": "574e71ab",
   "metadata": {},
   "outputs": [],
   "source": [
    "# TODO: compare all models, save training and validation curves along with corresponding model name, data level, model/training hyperparameters\n",
    "\n",
    "model_names = [\"linear_regression\"]\n",
    "for name in model_names:\n",
    "    scores = run_crossval(X, y, name, input_dim=X.shape[1], num_classes=3)\n",
    "    print(f\"{name}: {np.mean(scores):.3f} ± {np.std(scores):.3f}\")"
   ]
  }
 ],
 "metadata": {
  "kernelspec": {
   "display_name": "Python 3",
   "language": "python",
   "name": "python3"
  },
  "language_info": {
   "codemirror_mode": {
    "name": "ipython",
    "version": 3
   },
   "file_extension": ".py",
   "mimetype": "text/x-python",
   "name": "python",
   "nbconvert_exporter": "python",
   "pygments_lexer": "ipython3",
   "version": "3.10.11"
  }
 },
 "nbformat": 4,
 "nbformat_minor": 5
}
