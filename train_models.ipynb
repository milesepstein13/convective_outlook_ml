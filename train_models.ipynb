{
 "cells": [
  {
   "cell_type": "markdown",
   "id": "6c87307c-c45a-40cd-a668-fb01cbb6b91c",
   "metadata": {},
   "source": [
    "This notebook will compare model architecture, hyperparameters, inputs, and training/validation error"
   ]
  },
  {
   "cell_type": "code",
   "execution_count": null,
   "id": "f7640bc2-c69c-4959-9d04-e4bf91e1fc11",
   "metadata": {},
   "outputs": [],
   "source": [
    "import xarray as xr\n",
    "import numpy as np\n",
    "from src.crossval import run_crossval"
   ]
  },
  {
   "cell_type": "code",
   "execution_count": null,
   "id": "0bf77751",
   "metadata": {},
   "outputs": [],
   "source": [
    "input_dir = \"/glade/work/milesep/convective_outlook_ml\"\n",
    "target_dir = \"data/processed_data\"\n",
    "stats_dir = \"data/processed_data\""
   ]
  },
  {
   "cell_type": "code",
   "execution_count": null,
   "id": "574e71ab",
   "metadata": {},
   "outputs": [],
   "source": [
    "# compare all models, save training and validation curves along with corresponding model name, data level, model/training hyperparameters\n",
    "model_names = [\"cnn3d\"]\n",
    "levels = [\"full\"]\n",
    "# Don't do linear regression with full dataset--too many parameters\n",
    "for name, level in zip(model_names, levels):\n",
    "    print(name, level)\n",
    "    inputs = xr.open_zarr(f\"{input_dir}/train_inputs_{level}.zarr\")\n",
    "    targets = xr.open_dataset(f\"{target_dir}/train_targets.nc\")\n",
    "    stats = xr.open_dataset(f\"{stats_dir}/daily_input_stats_{level}.nc\")\n",
    "    scores = run_crossval(inputs, targets, name, epochs = 40, level = level, restart = False)\n",
    "    print(f\"{name}: {np.mean(scores):.3f} ± {np.std(scores):.3f}\")"
   ]
  }
 ],
 "metadata": {
  "kernelspec": {
   "display_name": "Python [conda env:mlco]",
   "language": "python",
   "name": "conda-env-mlco-py"
  },
  "language_info": {
   "codemirror_mode": {
    "name": "ipython",
    "version": 3
   },
   "file_extension": ".py",
   "mimetype": "text/x-python",
   "name": "python",
   "nbconvert_exporter": "python",
   "pygments_lexer": "ipython3",
   "version": "3.11.9"
  }
 },
 "nbformat": 4,
 "nbformat_minor": 5
}
